{
 "cells": [
  {
   "cell_type": "markdown",
   "id": "d6829cf1-863a-4663-80a0-ada546e0f565",
   "metadata": {},
   "source": [
    "# Initialization"
   ]
  },
  {
   "cell_type": "markdown",
   "id": "721c578d-f496-420f-aeef-3fa0cd5fd814",
   "metadata": {},
   "source": [
    "## Import"
   ]
  },
  {
   "cell_type": "code",
   "execution_count": 1,
   "id": "52e2f05b-be98-4229-9a4b-19da4cbfc215",
   "metadata": {},
   "outputs": [
    {
     "name": "stdout",
     "output_type": "stream",
     "text": [
      "USING DEVICE: cuda\n"
     ]
    }
   ],
   "source": [
    "import torch\n",
    "import torch.nn as nn\n",
    "import torch.nn.functional as F\n",
    "from torchvision import transforms\n",
    "from torch.utils.data import random_split\n",
    "    \n",
    "import torchvision.transforms.functional as tF\n",
    "\n",
    "from models.vgg16 import VGGUNET16\n",
    "\n",
    "from dataset.dataset import seg_datasets\n",
    "\n",
    "from utils.dataloader_utils import get_loader\n",
    "from utils.save_load_utils import save_model, load_model\n",
    "from utils.evaluation_utils import calculate_miou, check_acc\n",
    "from utils.visualization_utils import save_pred_masks, visualize_segmentation, plot_segmentation\n",
    "                                                                     \n",
    "import albumentations as A\n",
    "\n",
    "from torch.utils.tensorboard import SummaryWriter\n",
    "\n",
    "%matplotlib inline\n",
    "import os\n",
    "import time\n",
    "import random\n",
    "import numpy as np\n",
    "from tqdm import tqdm\n",
    "from PIL import Image, ImageOps\n",
    "import matplotlib.pyplot as plt\n",
    "\n",
    "plt.rcParams['figure.figsize'] = (6, 4)\n",
    "plt.rcParams['axes.grid'] = False\n",
    "\n",
    "%load_ext autoreload\n",
    "%autoreload 2\n",
    "\n",
    "device = 'cuda' if torch.cuda.is_available() else 'cpu'\n",
    "print(f'USING DEVICE: {device}')"
   ]
  },
  {
   "cell_type": "markdown",
   "id": "b68fc81c-e54d-49a2-8fe4-c8eb2a35f98d",
   "metadata": {
    "tags": [],
    "toc-hr-collapsed": true
   },
   "source": [
    "## Hyperparameters"
   ]
  },
  {
   "cell_type": "code",
   "execution_count": 2,
   "id": "257ef7f1-2af4-4849-b08f-fe20c17198b7",
   "metadata": {
    "tags": []
   },
   "outputs": [],
   "source": [
    "hyperparameters = {\n",
    "    'test_dir' : './images/test',\n",
    "    'train_dir' : './images/train',\n",
    "    'seed' : 9999,\n",
    "    'dataloader' :{\n",
    "        'batch_size' : 8,\n",
    "        'num_workers' : 4,\n",
    "        'pin_memory' : False, \n",
    "    },\n",
    "    'optimizer' :{\n",
    "        'lr' : 1e-4,\n",
    "        'betas' : (0.9, 0.999),\n",
    "        'weight_decay' : 1e-4,\n",
    "    },\n",
    "    'epochs' : 150,\n",
    "    'training_size' : 0,\n",
    "    'test_size': 0,\n",
    "    'gradient_clipping' : 1.0,\n",
    "    'vggunet': {\n",
    "        'in_channels': 3,\n",
    "        'out_channels': 1,\n",
    "        'features': 64,\n",
    "        'height': 320,\n",
    "        'width': 320,\n",
    "        'pre_trained_path': 'checkpoints/pretrained/pretrained_best.pth.tar',\n",
    "    }, \n",
    "    'output_dir':{\n",
    "        'results':'../generated_examples/vggunet16/',\n",
    "        'model1':'../generated_examples/vggunet16/wc/',\n",
    "        'model2':'../generated_examples/vggunet16/kd/',\n",
    "    },\n",
    "    'checkpoints_dir':{\n",
    "        'model1': './checkpoints/vggunet16/wc/',\n",
    "        'model2': './checkpoints/vggunet16/kd/',\n",
    "    },\n",
    "}"
   ]
  },
  {
   "cell_type": "markdown",
   "id": "3f40d01a-077b-4636-a943-b4af5c4a9707",
   "metadata": {},
   "source": [
    "## Seed Everything"
   ]
  },
  {
   "cell_type": "code",
   "execution_count": 3,
   "id": "a96b2438-498a-4cc8-884b-8b771fdfe5c7",
   "metadata": {
    "tags": []
   },
   "outputs": [],
   "source": [
    "def seed_everything(seed):\n",
    "    random.seed(seed)\n",
    "    os.environ['PYTHONHASHSEED'] = str(seed)\n",
    "    np.random.seed(seed)\n",
    "    torch.manual_seed(seed)\n",
    "    torch.cuda.manual_seed(seed)\n",
    "    torch.backends.cudnn.deterministic = True\n",
    "    torch.backends.cudnn.benchmark = False\n",
    "\n",
    "seed_everything(hyperparameters['seed'])"
   ]
  },
  {
   "cell_type": "markdown",
   "id": "6cdc7d29-c352-4976-8c43-38b98447cc24",
   "metadata": {},
   "source": [
    "#  Data Preprocessing"
   ]
  },
  {
   "cell_type": "markdown",
   "id": "ab1c9e6d-8643-4c67-ba5e-bd7e154b930d",
   "metadata": {
    "tags": []
   },
   "source": [
    "## Data Augmentation"
   ]
  },
  {
   "cell_type": "code",
   "execution_count": 4,
   "id": "2edc6a48-9e0d-4367-a4db-694e0698a50f",
   "metadata": {
    "tags": []
   },
   "outputs": [
    {
     "data": {
      "text/plain": [
       "(Compose([\n",
       "   HorizontalFlip(always_apply=False, p=0.5),\n",
       "   VerticalFlip(always_apply=False, p=0.5),\n",
       "   Rotate(always_apply=False, p=0.5, limit=(-90, 90), interpolation=1, border_mode=4, value=None, mask_value=None, rotate_method='largest_box', crop_border=False),\n",
       "   Normalize(always_apply=False, p=1.0, mean=[0.485, 0.456, 0.406], std=[0.229, 0.224, 0.225], max_pixel_value=255.0),\n",
       "   Resize(always_apply=False, p=1, height=512, width=512, interpolation=1),\n",
       " ], p=1.0, bbox_params=None, keypoint_params=None, additional_targets={}, is_check_shapes=True),\n",
       " Compose([\n",
       "   Normalize(always_apply=False, p=1.0, mean=[0.485, 0.456, 0.406], std=[0.229, 0.224, 0.225], max_pixel_value=255.0),\n",
       "   Resize(always_apply=False, p=1, height=512, width=512, interpolation=1),\n",
       " ], p=1.0, bbox_params=None, keypoint_params=None, additional_targets={}, is_check_shapes=True))"
      ]
     },
     "execution_count": 4,
     "metadata": {},
     "output_type": "execute_result"
    }
   ],
   "source": [
    "train_transforms = A.Compose([\n",
    "    A.HorizontalFlip(p=0.5),\n",
    "    A.VerticalFlip(p=0.5),\n",
    "    A.Rotate(p=0.5),\n",
    "    A.Normalize(mean=[0.485, 0.456, 0.406], std=[0.229, 0.224, 0.225]),\n",
    "    A.Resize(512, 512),\n",
    "])\n",
    "\n",
    "test_transforms = A.Compose([\n",
    "    A.Normalize(mean=[0.485, 0.456, 0.406], std=[0.229, 0.224, 0.225]),\n",
    "    A.Resize(512, 512),\n",
    "])\n",
    "\n",
    "\"\"\"\n",
    "test_transforms = transforms.Compose([\n",
    "    transforms.Normalize(mean=[0.485, 0.456, 0.406], std=[0.229, 0.224, 0.225]),\n",
    "    transforms.Resize(512, antialias=True)\n",
    "])\n",
    "\"\"\"\n",
    "train_transforms, test_transforms"
   ]
  },
  {
   "cell_type": "markdown",
   "id": "82f54681-bf8e-4383-a844-14dc115fc8fd",
   "metadata": {
    "tags": []
   },
   "source": [
    "## Dataset"
   ]
  },
  {
   "cell_type": "code",
   "execution_count": 5,
   "id": "3615270c-9966-409e-ac2c-2617725d202d",
   "metadata": {
    "tags": []
   },
   "outputs": [
    {
     "data": {
      "text/plain": [
       "(104, 27)"
      ]
     },
     "execution_count": 5,
     "metadata": {},
     "output_type": "execute_result"
    }
   ],
   "source": [
    "train_dataset = seg_datasets(hyperparameters['train_dir'], train_transforms)\n",
    "test_dataset = seg_datasets(hyperparameters['test_dir'], test_transforms)\n",
    "\n",
    "len(train_dataset), len(test_dataset)"
   ]
  },
  {
   "cell_type": "code",
   "execution_count": 6,
   "id": "78536529-298e-426b-a1cf-e6d658b763f7",
   "metadata": {},
   "outputs": [
    {
     "name": "stdout",
     "output_type": "stream",
     "text": [
      "['115_Plan.jpg', '119_Plan.jpg', '122_Plan.jpg', '125_Plan.jpg', '126_Plan.jpg', '131_Plan.jpg', '16_Plan.jpg', '17_Plan.jpg', '21_Plan.jpg', '26_Plan.jpg', '40_Plan.jpg', '41_Plan.jpg', '48_Plan.jpg', '4_Plan.jpg', '57_Plan.jpg', '58_Plan.jpg', '63_Plan.jpg', '66_Plan.jpg', '6_Plan.jpg', '73_Plan.jpg', '81_Plan.jpg', '88_Plan.jpg', '8_Plan.jpg', '92_Plan.jpg', '95_Plan.jpg', '98_Plan.jpg', '99_Plan.jpg']\n"
     ]
    }
   ],
   "source": [
    "print(test_dataset.img_files)"
   ]
  },
  {
   "cell_type": "code",
   "execution_count": 7,
   "id": "d5c239e4-e1e1-4e3b-981b-0c9abc1a574f",
   "metadata": {},
   "outputs": [],
   "source": [
    "hyperparameters['training_size'] = len(train_dataset)\n",
    "hyperparameters['test_size'] = len(test_dataset)"
   ]
  },
  {
   "cell_type": "code",
   "execution_count": 8,
   "id": "fcf1e448-7d23-4fa4-b716-5e9c0f1decfd",
   "metadata": {
    "tags": []
   },
   "outputs": [
    {
     "data": {
      "text/plain": [
       "tensor([0., 1., 2., 3.])"
      ]
     },
     "execution_count": 8,
     "metadata": {},
     "output_type": "execute_result"
    }
   ],
   "source": [
    "sample = train_dataset[30]\n",
    "torch.unique(sample[1])"
   ]
  },
  {
   "cell_type": "code",
   "execution_count": 9,
   "id": "5b88b398-95e6-4a73-b69c-f4f4fff7c6d8",
   "metadata": {},
   "outputs": [
    {
     "data": {
      "text/plain": [
       "(torch.Size([3, 512, 512]), torch.Size([1, 512, 512]))"
      ]
     },
     "execution_count": 9,
     "metadata": {},
     "output_type": "execute_result"
    }
   ],
   "source": [
    "img, mask = train_dataset[20]\n",
    "img.shape, mask.shape"
   ]
  },
  {
   "cell_type": "code",
   "execution_count": 10,
   "id": "f7756914-c795-4f0e-a42b-4ce104e4e0b0",
   "metadata": {
    "tags": []
   },
   "outputs": [
    {
     "name": "stderr",
     "output_type": "stream",
     "text": [
      "Clipping input data to the valid range for imshow with RGB data ([0..1] for floats or [0..255] for integers).\n"
     ]
    },
    {
     "data": {
      "text/plain": [
       "<matplotlib.image.AxesImage at 0x1d5bd469120>"
      ]
     },
     "execution_count": 10,
     "metadata": {},
     "output_type": "execute_result"
    },
    {
     "data": {
      "image/png": "[encoded data removed]",
      "text/plain": [
       "<Figure size 800x800 with 2 Axes>"
      ]
     },
     "metadata": {},
     "output_type": "display_data"
    }
   ],
   "source": [
    "fig, (ax1, ax2) = plt.subplots(1, 2, figsize=(8, 8))\n",
    "fig.tight_layout()\n",
    "ax1.axis('off')\n",
    "ax1.set_title('Plan Image/Input')\n",
    "ax1.imshow(img.permute(1, 2, 0).numpy())\n",
    "    \n",
    "ax2.axis('off')\n",
    "ax2.set_title('Actual Masks')\n",
    "ax2.imshow(mask.numpy().transpose(1,2,0))"
   ]
  },
  {
   "cell_type": "markdown",
   "id": "da60d3d1-3eda-4862-98e0-78ab6025fa87",
   "metadata": {},
   "source": [
    "## Color Mapping"
   ]
  },
  {
   "cell_type": "code",
   "execution_count": 11,
   "id": "58260b59-e833-4886-924f-a4af6ea01cb5",
   "metadata": {
    "tags": []
   },
   "outputs": [],
   "source": [
    "color_mapping = {\n",
    "    0: (0, 0, 0),         # Walls\n",
    "    1: (255, 80, 80),     # Iwan\n",
    "    2: (80, 80, 255),     # Room\n",
    "    3: (255, 255, 255),   # Background\n",
    "}"
   ]
  },
  {
   "cell_type": "code",
   "execution_count": 12,
   "id": "86e3f4f8-b2ca-4d75-8a50-8cd4b30010b1",
   "metadata": {
    "tags": []
   },
   "outputs": [
    {
     "name": "stderr",
     "output_type": "stream",
     "text": [
      "Clipping input data to the valid range for imshow with RGB data ([0..1] for floats or [0..255] for integers).\n"
     ]
    },
    {
     "data": {
      "text/plain": [
       "(-0.5, 511.5, 511.5, -0.5)"
      ]
     },
     "execution_count": 12,
     "metadata": {},
     "output_type": "execute_result"
    },
    {
     "data": {
      "image/png": "[encoded data removed]",
      "text/plain": [
       "<Figure size 800x800 with 2 Axes>"
      ]
     },
     "metadata": {},
     "output_type": "display_data"
    }
   ],
   "source": [
    "visualization = visualize_segmentation(mask, color_mapping, from_tensor=True)\n",
    "\n",
    "fig, (ax1, ax2) = plt.subplots(1, 2, figsize=(8, 8))\n",
    "\n",
    "ax1.imshow(img.permute(1, 2, 0).numpy())\n",
    "ax1.set_title('Plan Image/Input')\n",
    "ax1.axis('off')\n",
    "\n",
    "ax2.imshow(visualization)\n",
    "ax2.set_title('Actual Masks')\n",
    "ax2.axis('off')"
   ]
  },
  {
   "cell_type": "markdown",
   "id": "45ccb3b0-b65d-481f-b803-4db558a67ae6",
   "metadata": {},
   "source": [
    "## Dataloader"
   ]
  },
  {
   "cell_type": "code",
   "execution_count": 13,
   "id": "bdd89b08-6209-467e-b3a2-7b509bd46d92",
   "metadata": {
    "tags": []
   },
   "outputs": [
    {
     "data": {
      "text/plain": [
       "(13, 4)"
      ]
     },
     "execution_count": 13,
     "metadata": {},
     "output_type": "execute_result"
    }
   ],
   "source": [
    "train_dataloader, test_dataloader = get_loader(\n",
    "    train_dir = hyperparameters['train_dir'],\n",
    "    test_dir = hyperparameters['test_dir'],\n",
    "    batch_size = hyperparameters['dataloader']['batch_size'],\n",
    "    train_transform = train_transforms,\n",
    "    test_transform = test_transforms,\n",
    "    num_workers = hyperparameters['dataloader']['num_workers'],\n",
    "    pin_memory = hyperparameters['dataloader']['pin_memory']\n",
    ")\n",
    "\n",
    "len(train_dataloader), len(test_dataloader)"
   ]
  },
  {
   "cell_type": "code",
   "execution_count": 14,
   "id": "870c24cb-2758-4321-b743-63551fa32ee8",
   "metadata": {
    "tags": []
   },
   "outputs": [
    {
     "name": "stdout",
     "output_type": "stream",
     "text": [
      "torch.Size([8, 3, 512, 512]) torch.Size([8, 1, 512, 512])\n",
      "8\n"
     ]
    }
   ],
   "source": [
    "img_a_batch, img_b_batch = next(iter(train_dataloader))\n",
    "print(img_a_batch.shape, img_b_batch.shape)\n",
    "print(img_a_batch.size(0))"
   ]
  },
  {
   "cell_type": "markdown",
   "id": "9c4ce4c7-9ebb-4b12-8762-6c9ec701d885",
   "metadata": {},
   "source": [
    "# Model"
   ]
  },
  {
   "cell_type": "markdown",
   "id": "9ee49c40-5ce7-448d-b85d-9025e19725db",
   "metadata": {},
   "source": [
    "## Model Loading"
   ]
  },
  {
   "cell_type": "code",
   "execution_count": 15,
   "id": "acee5cce-3d3a-44b2-9c0c-bab8761e9e09",
   "metadata": {
    "tags": []
   },
   "outputs": [],
   "source": [
    "\"\"\"\n",
    "model1 --> weight copy\n",
    "model2 --> knowledge distillation\n",
    "\n",
    "\"\"\"\n",
    "\n",
    "model1 = VGGUNET16(\n",
    "    features = hyperparameters['vggunet']['features'], \n",
    "    in_channels=hyperparameters['vggunet']['in_channels'], \n",
    "    out_channels=hyperparameters['vggunet']['out_channels']\n",
    ")\n",
    "\n",
    "model2 = VGGUNET16(\n",
    "    features = hyperparameters['vggunet']['features'], \n",
    "    in_channels=hyperparameters['vggunet']['in_channels'], \n",
    "    out_channels=hyperparameters['vggunet']['out_channels']\n",
    ")"
   ]
  },
  {
   "cell_type": "raw",
   "id": "efa1e0be-9c80-4486-877a-d05282f2d628",
   "metadata": {},
   "source": [
    "# Print model's state_dict\n",
    "print(\"Model's state_dict:\")\n",
    "for param_tensor in model.state_dict():\n",
    "    print(param_tensor, \"\\t\", model.state_dict()[param_tensor].size())"
   ]
  },
  {
   "cell_type": "markdown",
   "id": "074e6f54",
   "metadata": {},
   "source": [
    "## Pre-Trained Model Loading"
   ]
  },
  {
   "cell_type": "code",
   "execution_count": 16,
   "id": "571e2103-7f3c-4ae0-9068-c130b9edd24d",
   "metadata": {
    "scrolled": true
   },
   "outputs": [
    {
     "name": "stdout",
     "output_type": "stream",
     "text": [
      "Requirement already satisfied: pretrained-backbones-unet in c:\\users\\user\\.conda\\envs\\pytorch\\lib\\site-packages (0.0.1)\n",
      "Requirement already satisfied: timm==0.6.12 in c:\\users\\user\\.conda\\envs\\pytorch\\lib\\site-packages (from pretrained-backbones-unet) (0.6.12)\n",
      "Requirement already satisfied: torch>=1.13.1 in c:\\users\\user\\.conda\\envs\\pytorch\\lib\\site-packages (from pretrained-backbones-unet) (2.0.1+cu118)\n",
      "Requirement already satisfied: torchvision in c:\\users\\user\\.conda\\envs\\pytorch\\lib\\site-packages (from timm==0.6.12->pretrained-backbones-unet) (0.15.2+cu118)\n",
      "Requirement already satisfied: pyyaml in c:\\users\\user\\.conda\\envs\\pytorch\\lib\\site-packages (from timm==0.6.12->pretrained-backbones-unet) (6.0.1)\n",
      "Requirement already satisfied: huggingface-hub in c:\\users\\user\\.conda\\envs\\pytorch\\lib\\site-packages (from timm==0.6.12->pretrained-backbones-unet) (0.20.3)\n",
      "Requirement already satisfied: filelock in c:\\users\\user\\.conda\\envs\\pytorch\\lib\\site-packages (from torch>=1.13.1->pretrained-backbones-unet) (3.9.0)\n",
      "Requirement already satisfied: typing-extensions in c:\\users\\user\\.conda\\envs\\pytorch\\lib\\site-packages (from torch>=1.13.1->pretrained-backbones-unet) (4.10.0)\n",
      "Requirement already satisfied: sympy in c:\\users\\user\\.conda\\envs\\pytorch\\lib\\site-packages (from torch>=1.13.1->pretrained-backbones-unet) (1.11.1)\n",
      "Requirement already satisfied: networkx in c:\\users\\user\\.conda\\envs\\pytorch\\lib\\site-packages (from torch>=1.13.1->pretrained-backbones-unet) (3.0)\n",
      "Requirement already satisfied: jinja2 in c:\\users\\user\\.conda\\envs\\pytorch\\lib\\site-packages (from torch>=1.13.1->pretrained-backbones-unet) (3.1.2)\n",
      "Requirement already satisfied: fsspec>=2023.5.0 in c:\\users\\user\\.conda\\envs\\pytorch\\lib\\site-packages (from huggingface-hub->timm==0.6.12->pretrained-backbones-unet) (2024.2.0)\n",
      "Requirement already satisfied: requests in c:\\users\\user\\.conda\\envs\\pytorch\\lib\\site-packages (from huggingface-hub->timm==0.6.12->pretrained-backbones-unet) (2.28.1)\n",
      "Requirement already satisfied: tqdm>=4.42.1 in c:\\users\\user\\.conda\\envs\\pytorch\\lib\\site-packages (from huggingface-hub->timm==0.6.12->pretrained-backbones-unet) (4.66.1)\n",
      "Requirement already satisfied: packaging>=20.9 in c:\\users\\user\\.conda\\envs\\pytorch\\lib\\site-packages (from huggingface-hub->timm==0.6.12->pretrained-backbones-unet) (23.0)\n",
      "Requirement already satisfied: MarkupSafe>=2.0 in c:\\users\\user\\.conda\\envs\\pytorch\\lib\\site-packages (from jinja2->torch>=1.13.1->pretrained-backbones-unet) (2.1.1)\n",
      "Requirement already satisfied: mpmath>=0.19 in c:\\users\\user\\.conda\\envs\\pytorch\\lib\\site-packages (from sympy->torch>=1.13.1->pretrained-backbones-unet) (1.2.1)\n",
      "Requirement already satisfied: numpy in c:\\users\\user\\.conda\\envs\\pytorch\\lib\\site-packages (from torchvision->timm==0.6.12->pretrained-backbones-unet) (1.24.1)\n",
      "Requirement already satisfied: pillow!=8.3.*,>=5.3.0 in c:\\users\\user\\.conda\\envs\\pytorch\\lib\\site-packages (from torchvision->timm==0.6.12->pretrained-backbones-unet) (9.3.0)\n",
      "Requirement already satisfied: colorama in c:\\users\\user\\.conda\\envs\\pytorch\\lib\\site-packages (from tqdm>=4.42.1->huggingface-hub->timm==0.6.12->pretrained-backbones-unet) (0.4.6)\n",
      "Requirement already satisfied: charset-normalizer<3,>=2 in c:\\users\\user\\.conda\\envs\\pytorch\\lib\\site-packages (from requests->huggingface-hub->timm==0.6.12->pretrained-backbones-unet) (2.0.4)\n",
      "Requirement already satisfied: idna<4,>=2.5 in c:\\users\\user\\.conda\\envs\\pytorch\\lib\\site-packages (from requests->huggingface-hub->timm==0.6.12->pretrained-backbones-unet) (3.4)\n",
      "Requirement already satisfied: urllib3<1.27,>=1.21.1 in c:\\users\\user\\.conda\\envs\\pytorch\\lib\\site-packages (from requests->huggingface-hub->timm==0.6.12->pretrained-backbones-unet) (1.26.13)\n",
      "Requirement already satisfied: certifi>=2017.4.17 in c:\\users\\user\\.conda\\envs\\pytorch\\lib\\site-packages (from requests->huggingface-hub->timm==0.6.12->pretrained-backbones-unet) (2022.12.7)\n",
      "Note: you may need to restart the kernel to use updated packages.\n"
     ]
    }
   ],
   "source": [
    "pip install pretrained-backbones-unet"
   ]
  },
  {
   "cell_type": "code",
   "execution_count": 17,
   "id": "ff00760e-7518-4a2d-a357-e71846ac0a9b",
   "metadata": {
    "scrolled": true
   },
   "outputs": [
    {
     "name": "stderr",
     "output_type": "stream",
     "text": [
      "C:\\Users\\user\\.conda\\envs\\pytorch\\lib\\site-packages\\tqdm\\auto.py:21: TqdmWarning: IProgress not found. Please update jupyter and ipywidgets. See https://ipywidgets.readthedocs.io/en/stable/user_install.html\n",
      "  from .autonotebook import tqdm as notebook_tqdm\n"
     ]
    },
    {
     "data": {
      "text/plain": [
       "Unet(\n",
       "  (encoder): FeatureListNet(\n",
       "    (stem_0): Conv2d(3, 128, kernel_size=(4, 4), stride=(4, 4))\n",
       "    (stem_1): LayerNorm2d((128,), eps=1e-06, elementwise_affine=True)\n",
       "    (stages_0): ConvNeXtStage(\n",
       "      (downsample): Identity()\n",
       "      (blocks): Sequential(\n",
       "        (0): ConvNeXtBlock(\n",
       "          (conv_dw): Conv2d(128, 128, kernel_size=(7, 7), stride=(1, 1), padding=(3, 3), groups=128)\n",
       "          (norm): LayerNorm((128,), eps=1e-06, elementwise_affine=True)\n",
       "          (mlp): Mlp(\n",
       "            (fc1): Linear(in_features=128, out_features=512, bias=True)\n",
       "            (act): GELU()\n",
       "            (drop1): Dropout(p=0.0, inplace=False)\n",
       "            (fc2): Linear(in_features=512, out_features=128, bias=True)\n",
       "            (drop2): Dropout(p=0.0, inplace=False)\n",
       "          )\n",
       "          (drop_path): Identity()\n",
       "        )\n",
       "        (1): ConvNeXtBlock(\n",
       "          (conv_dw): Conv2d(128, 128, kernel_size=(7, 7), stride=(1, 1), padding=(3, 3), groups=128)\n",
       "          (norm): LayerNorm((128,), eps=1e-06, elementwise_affine=True)\n",
       "          (mlp): Mlp(\n",
       "            (fc1): Linear(in_features=128, out_features=512, bias=True)\n",
       "            (act): GELU()\n",
       "            (drop1): Dropout(p=0.0, inplace=False)\n",
       "            (fc2): Linear(in_features=512, out_features=128, bias=True)\n",
       "            (drop2): Dropout(p=0.0, inplace=False)\n",
       "          )\n",
       "          (drop_path): Identity()\n",
       "        )\n",
       "        (2): ConvNeXtBlock(\n",
       "          (conv_dw): Conv2d(128, 128, kernel_size=(7, 7), stride=(1, 1), padding=(3, 3), groups=128)\n",
       "          (norm): LayerNorm((128,), eps=1e-06, elementwise_affine=True)\n",
       "          (mlp): Mlp(\n",
       "            (fc1): Linear(in_features=128, out_features=512, bias=True)\n",
       "            (act): GELU()\n",
       "            (drop1): Dropout(p=0.0, inplace=False)\n",
       "            (fc2): Linear(in_features=512, out_features=128, bias=True)\n",
       "            (drop2): Dropout(p=0.0, inplace=False)\n",
       "          )\n",
       "          (drop_path): Identity()\n",
       "        )\n",
       "      )\n",
       "    )\n",
       "    (stages_1): ConvNeXtStage(\n",
       "      (downsample): Sequential(\n",
       "        (0): LayerNorm2d((128,), eps=1e-06, elementwise_affine=True)\n",
       "        (1): Conv2d(128, 256, kernel_size=(2, 2), stride=(2, 2))\n",
       "      )\n",
       "      (blocks): Sequential(\n",
       "        (0): ConvNeXtBlock(\n",
       "          (conv_dw): Conv2d(256, 256, kernel_size=(7, 7), stride=(1, 1), padding=(3, 3), groups=256)\n",
       "          (norm): LayerNorm((256,), eps=1e-06, elementwise_affine=True)\n",
       "          (mlp): Mlp(\n",
       "            (fc1): Linear(in_features=256, out_features=1024, bias=True)\n",
       "            (act): GELU()\n",
       "            (drop1): Dropout(p=0.0, inplace=False)\n",
       "            (fc2): Linear(in_features=1024, out_features=256, bias=True)\n",
       "            (drop2): Dropout(p=0.0, inplace=False)\n",
       "          )\n",
       "          (drop_path): Identity()\n",
       "        )\n",
       "        (1): ConvNeXtBlock(\n",
       "          (conv_dw): Conv2d(256, 256, kernel_size=(7, 7), stride=(1, 1), padding=(3, 3), groups=256)\n",
       "          (norm): LayerNorm((256,), eps=1e-06, elementwise_affine=True)\n",
       "          (mlp): Mlp(\n",
       "            (fc1): Linear(in_features=256, out_features=1024, bias=True)\n",
       "            (act): GELU()\n",
       "            (drop1): Dropout(p=0.0, inplace=False)\n",
       "            (fc2): Linear(in_features=1024, out_features=256, bias=True)\n",
       "            (drop2): Dropout(p=0.0, inplace=False)\n",
       "          )\n",
       "          (drop_path): Identity()\n",
       "        )\n",
       "        (2): ConvNeXtBlock(\n",
       "          (conv_dw): Conv2d(256, 256, kernel_size=(7, 7), stride=(1, 1), padding=(3, 3), groups=256)\n",
       "          (norm): LayerNorm((256,), eps=1e-06, elementwise_affine=True)\n",
       "          (mlp): Mlp(\n",
       "            (fc1): Linear(in_features=256, out_features=1024, bias=True)\n",
       "            (act): GELU()\n",
       "            (drop1): Dropout(p=0.0, inplace=False)\n",
       "            (fc2): Linear(in_features=1024, out_features=256, bias=True)\n",
       "            (drop2): Dropout(p=0.0, inplace=False)\n",
       "          )\n",
       "          (drop_path): Identity()\n",
       "        )\n",
       "      )\n",
       "    )\n",
       "    (stages_2): ConvNeXtStage(\n",
       "      (downsample): Sequential(\n",
       "        (0): LayerNorm2d((256,), eps=1e-06, elementwise_affine=True)\n",
       "        (1): Conv2d(256, 512, kernel_size=(2, 2), stride=(2, 2))\n",
       "      )\n",
       "      (blocks): Sequential(\n",
       "        (0): ConvNeXtBlock(\n",
       "          (conv_dw): Conv2d(512, 512, kernel_size=(7, 7), stride=(1, 1), padding=(3, 3), groups=512)\n",
       "          (norm): LayerNorm((512,), eps=1e-06, elementwise_affine=True)\n",
       "          (mlp): Mlp(\n",
       "            (fc1): Linear(in_features=512, out_features=2048, bias=True)\n",
       "            (act): GELU()\n",
       "            (drop1): Dropout(p=0.0, inplace=False)\n",
       "            (fc2): Linear(in_features=2048, out_features=512, bias=True)\n",
       "            (drop2): Dropout(p=0.0, inplace=False)\n",
       "          )\n",
       "          (drop_path): Identity()\n",
       "        )\n",
       "        (1): ConvNeXtBlock(\n",
       "          (conv_dw): Conv2d(512, 512, kernel_size=(7, 7), stride=(1, 1), padding=(3, 3), groups=512)\n",
       "          (norm): LayerNorm((512,), eps=1e-06, elementwise_affine=True)\n",
       "          (mlp): Mlp(\n",
       "            (fc1): Linear(in_features=512, out_features=2048, bias=True)\n",
       "            (act): GELU()\n",
       "            (drop1): Dropout(p=0.0, inplace=False)\n",
       "            (fc2): Linear(in_features=2048, out_features=512, bias=True)\n",
       "            (drop2): Dropout(p=0.0, inplace=False)\n",
       "          )\n",
       "          (drop_path): Identity()\n",
       "        )\n",
       "        (2): ConvNeXtBlock(\n",
       "          (conv_dw): Conv2d(512, 512, kernel_size=(7, 7), stride=(1, 1), padding=(3, 3), groups=512)\n",
       "          (norm): LayerNorm((512,), eps=1e-06, elementwise_affine=True)\n",
       "          (mlp): Mlp(\n",
       "            (fc1): Linear(in_features=512, out_features=2048, bias=True)\n",
       "            (act): GELU()\n",
       "            (drop1): Dropout(p=0.0, inplace=False)\n",
       "            (fc2): Linear(in_features=2048, out_features=512, bias=True)\n",
       "            (drop2): Dropout(p=0.0, inplace=False)\n",
       "          )\n",
       "          (drop_path): Identity()\n",
       "        )\n",
       "        (3): ConvNeXtBlock(\n",
       "          (conv_dw): Conv2d(512, 512, kernel_size=(7, 7), stride=(1, 1), padding=(3, 3), groups=512)\n",
       "          (norm): LayerNorm((512,), eps=1e-06, elementwise_affine=True)\n",
       "          (mlp): Mlp(\n",
       "            (fc1): Linear(in_features=512, out_features=2048, bias=True)\n",
       "            (act): GELU()\n",
       "            (drop1): Dropout(p=0.0, inplace=False)\n",
       "            (fc2): Linear(in_features=2048, out_features=512, bias=True)\n",
       "            (drop2): Dropout(p=0.0, inplace=False)\n",
       "          )\n",
       "          (drop_path): Identity()\n",
       "        )\n",
       "        (4): ConvNeXtBlock(\n",
       "          (conv_dw): Conv2d(512, 512, kernel_size=(7, 7), stride=(1, 1), padding=(3, 3), groups=512)\n",
       "          (norm): LayerNorm((512,), eps=1e-06, elementwise_affine=True)\n",
       "          (mlp): Mlp(\n",
       "            (fc1): Linear(in_features=512, out_features=2048, bias=True)\n",
       "            (act): GELU()\n",
       "            (drop1): Dropout(p=0.0, inplace=False)\n",
       "            (fc2): Linear(in_features=2048, out_features=512, bias=True)\n",
       "            (drop2): Dropout(p=0.0, inplace=False)\n",
       "          )\n",
       "          (drop_path): Identity()\n",
       "        )\n",
       "        (5): ConvNeXtBlock(\n",
       "          (conv_dw): Conv2d(512, 512, kernel_size=(7, 7), stride=(1, 1), padding=(3, 3), groups=512)\n",
       "          (norm): LayerNorm((512,), eps=1e-06, elementwise_affine=True)\n",
       "          (mlp): Mlp(\n",
       "            (fc1): Linear(in_features=512, out_features=2048, bias=True)\n",
       "            (act): GELU()\n",
       "            (drop1): Dropout(p=0.0, inplace=False)\n",
       "            (fc2): Linear(in_features=2048, out_features=512, bias=True)\n",
       "            (drop2): Dropout(p=0.0, inplace=False)\n",
       "          )\n",
       "          (drop_path): Identity()\n",
       "        )\n",
       "        (6): ConvNeXtBlock(\n",
       "          (conv_dw): Conv2d(512, 512, kernel_size=(7, 7), stride=(1, 1), padding=(3, 3), groups=512)\n",
       "          (norm): LayerNorm((512,), eps=1e-06, elementwise_affine=True)\n",
       "          (mlp): Mlp(\n",
       "            (fc1): Linear(in_features=512, out_features=2048, bias=True)\n",
       "            (act): GELU()\n",
       "            (drop1): Dropout(p=0.0, inplace=False)\n",
       "            (fc2): Linear(in_features=2048, out_features=512, bias=True)\n",
       "            (drop2): Dropout(p=0.0, inplace=False)\n",
       "          )\n",
       "          (drop_path): Identity()\n",
       "        )\n",
       "        (7): ConvNeXtBlock(\n",
       "          (conv_dw): Conv2d(512, 512, kernel_size=(7, 7), stride=(1, 1), padding=(3, 3), groups=512)\n",
       "          (norm): LayerNorm((512,), eps=1e-06, elementwise_affine=True)\n",
       "          (mlp): Mlp(\n",
       "            (fc1): Linear(in_features=512, out_features=2048, bias=True)\n",
       "            (act): GELU()\n",
       "            (drop1): Dropout(p=0.0, inplace=False)\n",
       "            (fc2): Linear(in_features=2048, out_features=512, bias=True)\n",
       "            (drop2): Dropout(p=0.0, inplace=False)\n",
       "          )\n",
       "          (drop_path): Identity()\n",
       "        )\n",
       "        (8): ConvNeXtBlock(\n",
       "          (conv_dw): Conv2d(512, 512, kernel_size=(7, 7), stride=(1, 1), padding=(3, 3), groups=512)\n",
       "          (norm): LayerNorm((512,), eps=1e-06, elementwise_affine=True)\n",
       "          (mlp): Mlp(\n",
       "            (fc1): Linear(in_features=512, out_features=2048, bias=True)\n",
       "            (act): GELU()\n",
       "            (drop1): Dropout(p=0.0, inplace=False)\n",
       "            (fc2): Linear(in_features=2048, out_features=512, bias=True)\n",
       "            (drop2): Dropout(p=0.0, inplace=False)\n",
       "          )\n",
       "          (drop_path): Identity()\n",
       "        )\n",
       "        (9): ConvNeXtBlock(\n",
       "          (conv_dw): Conv2d(512, 512, kernel_size=(7, 7), stride=(1, 1), padding=(3, 3), groups=512)\n",
       "          (norm): LayerNorm((512,), eps=1e-06, elementwise_affine=True)\n",
       "          (mlp): Mlp(\n",
       "            (fc1): Linear(in_features=512, out_features=2048, bias=True)\n",
       "            (act): GELU()\n",
       "            (drop1): Dropout(p=0.0, inplace=False)\n",
       "            (fc2): Linear(in_features=2048, out_features=512, bias=True)\n",
       "            (drop2): Dropout(p=0.0, inplace=False)\n",
       "          )\n",
       "          (drop_path): Identity()\n",
       "        )\n",
       "        (10): ConvNeXtBlock(\n",
       "          (conv_dw): Conv2d(512, 512, kernel_size=(7, 7), stride=(1, 1), padding=(3, 3), groups=512)\n",
       "          (norm): LayerNorm((512,), eps=1e-06, elementwise_affine=True)\n",
       "          (mlp): Mlp(\n",
       "            (fc1): Linear(in_features=512, out_features=2048, bias=True)\n",
       "            (act): GELU()\n",
       "            (drop1): Dropout(p=0.0, inplace=False)\n",
       "            (fc2): Linear(in_features=2048, out_features=512, bias=True)\n",
       "            (drop2): Dropout(p=0.0, inplace=False)\n",
       "          )\n",
       "          (drop_path): Identity()\n",
       "        )\n",
       "        (11): ConvNeXtBlock(\n",
       "          (conv_dw): Conv2d(512, 512, kernel_size=(7, 7), stride=(1, 1), padding=(3, 3), groups=512)\n",
       "          (norm): LayerNorm((512,), eps=1e-06, elementwise_affine=True)\n",
       "          (mlp): Mlp(\n",
       "            (fc1): Linear(in_features=512, out_features=2048, bias=True)\n",
       "            (act): GELU()\n",
       "            (drop1): Dropout(p=0.0, inplace=False)\n",
       "            (fc2): Linear(in_features=2048, out_features=512, bias=True)\n",
       "            (drop2): Dropout(p=0.0, inplace=False)\n",
       "          )\n",
       "          (drop_path): Identity()\n",
       "        )\n",
       "        (12): ConvNeXtBlock(\n",
       "          (conv_dw): Conv2d(512, 512, kernel_size=(7, 7), stride=(1, 1), padding=(3, 3), groups=512)\n",
       "          (norm): LayerNorm((512,), eps=1e-06, elementwise_affine=True)\n",
       "          (mlp): Mlp(\n",
       "            (fc1): Linear(in_features=512, out_features=2048, bias=True)\n",
       "            (act): GELU()\n",
       "            (drop1): Dropout(p=0.0, inplace=False)\n",
       "            (fc2): Linear(in_features=2048, out_features=512, bias=True)\n",
       "            (drop2): Dropout(p=0.0, inplace=False)\n",
       "          )\n",
       "          (drop_path): Identity()\n",
       "        )\n",
       "        (13): ConvNeXtBlock(\n",
       "          (conv_dw): Conv2d(512, 512, kernel_size=(7, 7), stride=(1, 1), padding=(3, 3), groups=512)\n",
       "          (norm): LayerNorm((512,), eps=1e-06, elementwise_affine=True)\n",
       "          (mlp): Mlp(\n",
       "            (fc1): Linear(in_features=512, out_features=2048, bias=True)\n",
       "            (act): GELU()\n",
       "            (drop1): Dropout(p=0.0, inplace=False)\n",
       "            (fc2): Linear(in_features=2048, out_features=512, bias=True)\n",
       "            (drop2): Dropout(p=0.0, inplace=False)\n",
       "          )\n",
       "          (drop_path): Identity()\n",
       "        )\n",
       "        (14): ConvNeXtBlock(\n",
       "          (conv_dw): Conv2d(512, 512, kernel_size=(7, 7), stride=(1, 1), padding=(3, 3), groups=512)\n",
       "          (norm): LayerNorm((512,), eps=1e-06, elementwise_affine=True)\n",
       "          (mlp): Mlp(\n",
       "            (fc1): Linear(in_features=512, out_features=2048, bias=True)\n",
       "            (act): GELU()\n",
       "            (drop1): Dropout(p=0.0, inplace=False)\n",
       "            (fc2): Linear(in_features=2048, out_features=512, bias=True)\n",
       "            (drop2): Dropout(p=0.0, inplace=False)\n",
       "          )\n",
       "          (drop_path): Identity()\n",
       "        )\n",
       "        (15): ConvNeXtBlock(\n",
       "          (conv_dw): Conv2d(512, 512, kernel_size=(7, 7), stride=(1, 1), padding=(3, 3), groups=512)\n",
       "          (norm): LayerNorm((512,), eps=1e-06, elementwise_affine=True)\n",
       "          (mlp): Mlp(\n",
       "            (fc1): Linear(in_features=512, out_features=2048, bias=True)\n",
       "            (act): GELU()\n",
       "            (drop1): Dropout(p=0.0, inplace=False)\n",
       "            (fc2): Linear(in_features=2048, out_features=512, bias=True)\n",
       "            (drop2): Dropout(p=0.0, inplace=False)\n",
       "          )\n",
       "          (drop_path): Identity()\n",
       "        )\n",
       "        (16): ConvNeXtBlock(\n",
       "          (conv_dw): Conv2d(512, 512, kernel_size=(7, 7), stride=(1, 1), padding=(3, 3), groups=512)\n",
       "          (norm): LayerNorm((512,), eps=1e-06, elementwise_affine=True)\n",
       "          (mlp): Mlp(\n",
       "            (fc1): Linear(in_features=512, out_features=2048, bias=True)\n",
       "            (act): GELU()\n",
       "            (drop1): Dropout(p=0.0, inplace=False)\n",
       "            (fc2): Linear(in_features=2048, out_features=512, bias=True)\n",
       "            (drop2): Dropout(p=0.0, inplace=False)\n",
       "          )\n",
       "          (drop_path): Identity()\n",
       "        )\n",
       "        (17): ConvNeXtBlock(\n",
       "          (conv_dw): Conv2d(512, 512, kernel_size=(7, 7), stride=(1, 1), padding=(3, 3), groups=512)\n",
       "          (norm): LayerNorm((512,), eps=1e-06, elementwise_affine=True)\n",
       "          (mlp): Mlp(\n",
       "            (fc1): Linear(in_features=512, out_features=2048, bias=True)\n",
       "            (act): GELU()\n",
       "            (drop1): Dropout(p=0.0, inplace=False)\n",
       "            (fc2): Linear(in_features=2048, out_features=512, bias=True)\n",
       "            (drop2): Dropout(p=0.0, inplace=False)\n",
       "          )\n",
       "          (drop_path): Identity()\n",
       "        )\n",
       "        (18): ConvNeXtBlock(\n",
       "          (conv_dw): Conv2d(512, 512, kernel_size=(7, 7), stride=(1, 1), padding=(3, 3), groups=512)\n",
       "          (norm): LayerNorm((512,), eps=1e-06, elementwise_affine=True)\n",
       "          (mlp): Mlp(\n",
       "            (fc1): Linear(in_features=512, out_features=2048, bias=True)\n",
       "            (act): GELU()\n",
       "            (drop1): Dropout(p=0.0, inplace=False)\n",
       "            (fc2): Linear(in_features=2048, out_features=512, bias=True)\n",
       "            (drop2): Dropout(p=0.0, inplace=False)\n",
       "          )\n",
       "          (drop_path): Identity()\n",
       "        )\n",
       "        (19): ConvNeXtBlock(\n",
       "          (conv_dw): Conv2d(512, 512, kernel_size=(7, 7), stride=(1, 1), padding=(3, 3), groups=512)\n",
       "          (norm): LayerNorm((512,), eps=1e-06, elementwise_affine=True)\n",
       "          (mlp): Mlp(\n",
       "            (fc1): Linear(in_features=512, out_features=2048, bias=True)\n",
       "            (act): GELU()\n",
       "            (drop1): Dropout(p=0.0, inplace=False)\n",
       "            (fc2): Linear(in_features=2048, out_features=512, bias=True)\n",
       "            (drop2): Dropout(p=0.0, inplace=False)\n",
       "          )\n",
       "          (drop_path): Identity()\n",
       "        )\n",
       "        (20): ConvNeXtBlock(\n",
       "          (conv_dw): Conv2d(512, 512, kernel_size=(7, 7), stride=(1, 1), padding=(3, 3), groups=512)\n",
       "          (norm): LayerNorm((512,), eps=1e-06, elementwise_affine=True)\n",
       "          (mlp): Mlp(\n",
       "            (fc1): Linear(in_features=512, out_features=2048, bias=True)\n",
       "            (act): GELU()\n",
       "            (drop1): Dropout(p=0.0, inplace=False)\n",
       "            (fc2): Linear(in_features=2048, out_features=512, bias=True)\n",
       "            (drop2): Dropout(p=0.0, inplace=False)\n",
       "          )\n",
       "          (drop_path): Identity()\n",
       "        )\n",
       "        (21): ConvNeXtBlock(\n",
       "          (conv_dw): Conv2d(512, 512, kernel_size=(7, 7), stride=(1, 1), padding=(3, 3), groups=512)\n",
       "          (norm): LayerNorm((512,), eps=1e-06, elementwise_affine=True)\n",
       "          (mlp): Mlp(\n",
       "            (fc1): Linear(in_features=512, out_features=2048, bias=True)\n",
       "            (act): GELU()\n",
       "            (drop1): Dropout(p=0.0, inplace=False)\n",
       "            (fc2): Linear(in_features=2048, out_features=512, bias=True)\n",
       "            (drop2): Dropout(p=0.0, inplace=False)\n",
       "          )\n",
       "          (drop_path): Identity()\n",
       "        )\n",
       "        (22): ConvNeXtBlock(\n",
       "          (conv_dw): Conv2d(512, 512, kernel_size=(7, 7), stride=(1, 1), padding=(3, 3), groups=512)\n",
       "          (norm): LayerNorm((512,), eps=1e-06, elementwise_affine=True)\n",
       "          (mlp): Mlp(\n",
       "            (fc1): Linear(in_features=512, out_features=2048, bias=True)\n",
       "            (act): GELU()\n",
       "            (drop1): Dropout(p=0.0, inplace=False)\n",
       "            (fc2): Linear(in_features=2048, out_features=512, bias=True)\n",
       "            (drop2): Dropout(p=0.0, inplace=False)\n",
       "          )\n",
       "          (drop_path): Identity()\n",
       "        )\n",
       "        (23): ConvNeXtBlock(\n",
       "          (conv_dw): Conv2d(512, 512, kernel_size=(7, 7), stride=(1, 1), padding=(3, 3), groups=512)\n",
       "          (norm): LayerNorm((512,), eps=1e-06, elementwise_affine=True)\n",
       "          (mlp): Mlp(\n",
       "            (fc1): Linear(in_features=512, out_features=2048, bias=True)\n",
       "            (act): GELU()\n",
       "            (drop1): Dropout(p=0.0, inplace=False)\n",
       "            (fc2): Linear(in_features=2048, out_features=512, bias=True)\n",
       "            (drop2): Dropout(p=0.0, inplace=False)\n",
       "          )\n",
       "          (drop_path): Identity()\n",
       "        )\n",
       "        (24): ConvNeXtBlock(\n",
       "          (conv_dw): Conv2d(512, 512, kernel_size=(7, 7), stride=(1, 1), padding=(3, 3), groups=512)\n",
       "          (norm): LayerNorm((512,), eps=1e-06, elementwise_affine=True)\n",
       "          (mlp): Mlp(\n",
       "            (fc1): Linear(in_features=512, out_features=2048, bias=True)\n",
       "            (act): GELU()\n",
       "            (drop1): Dropout(p=0.0, inplace=False)\n",
       "            (fc2): Linear(in_features=2048, out_features=512, bias=True)\n",
       "            (drop2): Dropout(p=0.0, inplace=False)\n",
       "          )\n",
       "          (drop_path): Identity()\n",
       "        )\n",
       "        (25): ConvNeXtBlock(\n",
       "          (conv_dw): Conv2d(512, 512, kernel_size=(7, 7), stride=(1, 1), padding=(3, 3), groups=512)\n",
       "          (norm): LayerNorm((512,), eps=1e-06, elementwise_affine=True)\n",
       "          (mlp): Mlp(\n",
       "            (fc1): Linear(in_features=512, out_features=2048, bias=True)\n",
       "            (act): GELU()\n",
       "            (drop1): Dropout(p=0.0, inplace=False)\n",
       "            (fc2): Linear(in_features=2048, out_features=512, bias=True)\n",
       "            (drop2): Dropout(p=0.0, inplace=False)\n",
       "          )\n",
       "          (drop_path): Identity()\n",
       "        )\n",
       "        (26): ConvNeXtBlock(\n",
       "          (conv_dw): Conv2d(512, 512, kernel_size=(7, 7), stride=(1, 1), padding=(3, 3), groups=512)\n",
       "          (norm): LayerNorm((512,), eps=1e-06, elementwise_affine=True)\n",
       "          (mlp): Mlp(\n",
       "            (fc1): Linear(in_features=512, out_features=2048, bias=True)\n",
       "            (act): GELU()\n",
       "            (drop1): Dropout(p=0.0, inplace=False)\n",
       "            (fc2): Linear(in_features=2048, out_features=512, bias=True)\n",
       "            (drop2): Dropout(p=0.0, inplace=False)\n",
       "          )\n",
       "          (drop_path): Identity()\n",
       "        )\n",
       "      )\n",
       "    )\n",
       "    (stages_3): ConvNeXtStage(\n",
       "      (downsample): Sequential(\n",
       "        (0): LayerNorm2d((512,), eps=1e-06, elementwise_affine=True)\n",
       "        (1): Conv2d(512, 1024, kernel_size=(2, 2), stride=(2, 2))\n",
       "      )\n",
       "      (blocks): Sequential(\n",
       "        (0): ConvNeXtBlock(\n",
       "          (conv_dw): Conv2d(1024, 1024, kernel_size=(7, 7), stride=(1, 1), padding=(3, 3), groups=1024)\n",
       "          (norm): LayerNorm((1024,), eps=1e-06, elementwise_affine=True)\n",
       "          (mlp): Mlp(\n",
       "            (fc1): Linear(in_features=1024, out_features=4096, bias=True)\n",
       "            (act): GELU()\n",
       "            (drop1): Dropout(p=0.0, inplace=False)\n",
       "            (fc2): Linear(in_features=4096, out_features=1024, bias=True)\n",
       "            (drop2): Dropout(p=0.0, inplace=False)\n",
       "          )\n",
       "          (drop_path): Identity()\n",
       "        )\n",
       "        (1): ConvNeXtBlock(\n",
       "          (conv_dw): Conv2d(1024, 1024, kernel_size=(7, 7), stride=(1, 1), padding=(3, 3), groups=1024)\n",
       "          (norm): LayerNorm((1024,), eps=1e-06, elementwise_affine=True)\n",
       "          (mlp): Mlp(\n",
       "            (fc1): Linear(in_features=1024, out_features=4096, bias=True)\n",
       "            (act): GELU()\n",
       "            (drop1): Dropout(p=0.0, inplace=False)\n",
       "            (fc2): Linear(in_features=4096, out_features=1024, bias=True)\n",
       "            (drop2): Dropout(p=0.0, inplace=False)\n",
       "          )\n",
       "          (drop_path): Identity()\n",
       "        )\n",
       "        (2): ConvNeXtBlock(\n",
       "          (conv_dw): Conv2d(1024, 1024, kernel_size=(7, 7), stride=(1, 1), padding=(3, 3), groups=1024)\n",
       "          (norm): LayerNorm((1024,), eps=1e-06, elementwise_affine=True)\n",
       "          (mlp): Mlp(\n",
       "            (fc1): Linear(in_features=1024, out_features=4096, bias=True)\n",
       "            (act): GELU()\n",
       "            (drop1): Dropout(p=0.0, inplace=False)\n",
       "            (fc2): Linear(in_features=4096, out_features=1024, bias=True)\n",
       "            (drop2): Dropout(p=0.0, inplace=False)\n",
       "          )\n",
       "          (drop_path): Identity()\n",
       "        )\n",
       "      )\n",
       "    )\n",
       "  )\n",
       "  (decoder): UnetDecoder(\n",
       "    (center): Identity()\n",
       "    (blocks): ModuleList(\n",
       "      (0): DecoderBlock(\n",
       "        (conv1): Conv2dBnAct(\n",
       "          (conv): Conv2d(1536, 256, kernel_size=(3, 3), stride=(1, 1), padding=(1, 1), bias=False)\n",
       "          (bn): BatchNorm2d(256, eps=1e-05, momentum=0.1, affine=True, track_running_stats=True)\n",
       "          (act): ReLU(inplace=True)\n",
       "        )\n",
       "        (conv2): Conv2dBnAct(\n",
       "          (conv): Conv2d(256, 256, kernel_size=(3, 3), stride=(1, 1), padding=(1, 1), bias=False)\n",
       "          (bn): BatchNorm2d(256, eps=1e-05, momentum=0.1, affine=True, track_running_stats=True)\n",
       "          (act): ReLU(inplace=True)\n",
       "        )\n",
       "      )\n",
       "      (1): DecoderBlock(\n",
       "        (conv1): Conv2dBnAct(\n",
       "          (conv): Conv2d(512, 128, kernel_size=(3, 3), stride=(1, 1), padding=(1, 1), bias=False)\n",
       "          (bn): BatchNorm2d(128, eps=1e-05, momentum=0.1, affine=True, track_running_stats=True)\n",
       "          (act): ReLU(inplace=True)\n",
       "        )\n",
       "        (conv2): Conv2dBnAct(\n",
       "          (conv): Conv2d(128, 128, kernel_size=(3, 3), stride=(1, 1), padding=(1, 1), bias=False)\n",
       "          (bn): BatchNorm2d(128, eps=1e-05, momentum=0.1, affine=True, track_running_stats=True)\n",
       "          (act): ReLU(inplace=True)\n",
       "        )\n",
       "      )\n",
       "      (2): DecoderBlock(\n",
       "        (conv1): Conv2dBnAct(\n",
       "          (conv): Conv2d(256, 64, kernel_size=(3, 3), stride=(1, 1), padding=(1, 1), bias=False)\n",
       "          (bn): BatchNorm2d(64, eps=1e-05, momentum=0.1, affine=True, track_running_stats=True)\n",
       "          (act): ReLU(inplace=True)\n",
       "        )\n",
       "        (conv2): Conv2dBnAct(\n",
       "          (conv): Conv2d(64, 64, kernel_size=(3, 3), stride=(1, 1), padding=(1, 1), bias=False)\n",
       "          (bn): BatchNorm2d(64, eps=1e-05, momentum=0.1, affine=True, track_running_stats=True)\n",
       "          (act): ReLU(inplace=True)\n",
       "        )\n",
       "      )\n",
       "      (3): DecoderBlock(\n",
       "        (conv1): Conv2dBnAct(\n",
       "          (conv): Conv2d(64, 32, kernel_size=(3, 3), stride=(1, 1), padding=(1, 1), bias=False)\n",
       "          (bn): BatchNorm2d(32, eps=1e-05, momentum=0.1, affine=True, track_running_stats=True)\n",
       "          (act): ReLU(inplace=True)\n",
       "        )\n",
       "        (conv2): Conv2dBnAct(\n",
       "          (conv): Conv2d(32, 32, kernel_size=(3, 3), stride=(1, 1), padding=(1, 1), bias=False)\n",
       "          (bn): BatchNorm2d(32, eps=1e-05, momentum=0.1, affine=True, track_running_stats=True)\n",
       "          (act): ReLU(inplace=True)\n",
       "        )\n",
       "      )\n",
       "      (4): DecoderBlock(\n",
       "        (conv1): Conv2dBnAct(\n",
       "          (conv): Conv2d(32, 16, kernel_size=(3, 3), stride=(1, 1), padding=(1, 1), bias=False)\n",
       "          (bn): BatchNorm2d(16, eps=1e-05, momentum=0.1, affine=True, track_running_stats=True)\n",
       "          (act): ReLU(inplace=True)\n",
       "        )\n",
       "        (conv2): Conv2dBnAct(\n",
       "          (conv): Conv2d(16, 16, kernel_size=(3, 3), stride=(1, 1), padding=(1, 1), bias=False)\n",
       "          (bn): BatchNorm2d(16, eps=1e-05, momentum=0.1, affine=True, track_running_stats=True)\n",
       "          (act): ReLU(inplace=True)\n",
       "        )\n",
       "      )\n",
       "    )\n",
       "    (final_conv): Conv2d(16, 1, kernel_size=(1, 1), stride=(1, 1))\n",
       "  )\n",
       ")"
      ]
     },
     "execution_count": 17,
     "metadata": {},
     "output_type": "execute_result"
    }
   ],
   "source": [
    "from backbones_unet.model.unet import Unet\n",
    "\n",
    "\"\"\"\n",
    "pre_model:\n",
    "    - weight source for model 1\n",
    "    - teacher model for model 2\n",
    "    - weight source and teacher model for model 3\n",
    "\"\"\"\n",
    "\n",
    "pre_model = Unet(\n",
    "    backbone='convnext_base', # backbone network name\n",
    "    in_channels=3,            # input channels (1 for gray-scale images, 3 for RGB, etc.)\n",
    "    num_classes=1,            # output channels (number of classes in your dataset)\n",
    ")\n",
    "\n",
    "checkpoint = torch.load(hyperparameters['vggunet']['pre_trained_path'])\n",
    "pre_model.load_state_dict(checkpoint['model_state_dict'], strict=True)\n",
    "\n",
    "pre_model.to(device)"
   ]
  },
  {
   "cell_type": "code",
   "execution_count": 18,
   "id": "2e21d527-b6ed-4c30-8d12-c9b23a23a0aa",
   "metadata": {},
   "outputs": [],
   "source": [
    "from torchvision.models import vgg16, VGG16_Weights\n",
    "\n",
    "weights = VGG16_Weights.DEFAULT\n",
    "wc_model = vgg16(weights=weights)"
   ]
  },
  {
   "cell_type": "code",
   "execution_count": 19,
   "id": "4d2d7855-f60a-4887-97d7-7e083500b573",
   "metadata": {},
   "outputs": [
    {
     "data": {
      "text/plain": [
       "<All keys matched successfully>"
      ]
     },
     "execution_count": 19,
     "metadata": {},
     "output_type": "execute_result"
    }
   ],
   "source": [
    "pretrained_dict = pre_model.state_dict()\n",
    "model1_dict = model1.state_dict()\n",
    "\n",
    "new_state_dict1 = {}\n",
    "\n",
    "for k, v in pretrained_dict.items():\n",
    "    if k in model1_dict:\n",
    "        new_state_dict1[k] = v\n",
    "\n",
    "model1_dict.update(new_state_dict1)\n",
    "model1.load_state_dict(model1_dict)"
   ]
  },
  {
   "cell_type": "markdown",
   "id": "ecddd488-3586-46e7-99dc-34070da1e1e3",
   "metadata": {},
   "source": [
    "## Number of Parameters"
   ]
  },
  {
   "cell_type": "code",
   "execution_count": 20,
   "id": "64e9ca96-84c1-493e-90c1-bea3cdbffc62",
   "metadata": {
    "tags": []
   },
   "outputs": [
    {
     "name": "stdout",
     "output_type": "stream",
     "text": [
      "Model input size: torch.Size([1, 3, 320, 320])\n",
      "Model output size: torch.Size([1, 1, 320, 320])\n"
     ]
    }
   ],
   "source": [
    "### Dummy Data\n",
    "__batch_size = 1\n",
    "__in_channels = hyperparameters['vggunet']['in_channels']\n",
    "__width = hyperparameters['vggunet']['width']\n",
    "__height = hyperparameters['vggunet']['height']\n",
    "\n",
    "dummy_input = torch.randn((__batch_size, __in_channels, __height, __width))\n",
    "dummy_out = model1(dummy_input)\n",
    "\n",
    "print(f'Model input size: {dummy_input.shape}')\n",
    "print(f'Model output size: {dummy_out.shape}')"
   ]
  },
  {
   "cell_type": "code",
   "execution_count": 21,
   "id": "f0bd5554-c7c4-4a58-97fb-7eeffbd52287",
   "metadata": {
    "tags": []
   },
   "outputs": [
    {
     "name": "stdout",
     "output_type": "stream",
     "text": [
      "Number of Parameters: 9,011,200\n"
     ]
    }
   ],
   "source": [
    "print(f'Number of Parameters: {sum(dummy_out.numel() for p in model1.parameters()):,}')"
   ]
  },
  {
   "cell_type": "markdown",
   "id": "fe41c2d1-ba7d-4cdb-937a-fec2ff59a67d",
   "metadata": {},
   "source": [
    "# Loss & Optimizer"
   ]
  },
  {
   "cell_type": "markdown",
   "id": "ee62385f-dd21-49bc-90ab-69cafb655d93",
   "metadata": {},
   "source": [
    "## Loss Function"
   ]
  },
  {
   "cell_type": "code",
   "execution_count": 22,
   "id": "cbc9001e-c2bb-41c5-86d6-a2b88f92c72a",
   "metadata": {},
   "outputs": [
    {
     "data": {
      "text/plain": [
       "'\\nmodel1 --> loss_fn (segmentation loss)\\nmodel2 --> total_loss (segmentation loss + distillation loss)\\n\\n'"
      ]
     },
     "execution_count": 22,
     "metadata": {},
     "output_type": "execute_result"
    }
   ],
   "source": [
    "\"\"\"\n",
    "model1 --> loss_fn (segmentation loss)\n",
    "model2 --> total_loss (segmentation loss + distillation loss)\n",
    "\n",
    "\"\"\""
   ]
  },
  {
   "cell_type": "code",
   "execution_count": 23,
   "id": "1f2409a7-f4c6-48de-8c90-3e37ac0504ce",
   "metadata": {
    "tags": []
   },
   "outputs": [],
   "source": [
    "criterion = nn.MSELoss(reduction='none')\n",
    "\n",
    "def loss_fn(img_input, pred_student, mask, teacher_model, alpha=0.01):\n",
    "    \n",
    "    loss_by_pixel = criterion(pred_student, mask)\n",
    "    loss = loss_by_pixel.mean()\n",
    "    \n",
    "    return loss"
   ]
  },
  {
   "cell_type": "code",
   "execution_count": 24,
   "id": "c3352bd2-41e4-46ba-8378-32de70ad6ca1",
   "metadata": {},
   "outputs": [],
   "source": [
    "@torch.no_grad()\n",
    "def dist_loss(img_input, pred_student, teacher_model):\n",
    "    teacher_model.eval()\n",
    "    pred_teacher = teacher_model(img_input)\n",
    "    distill_loss_by_pixel = criterion(pred_student, pred_teacher)\n",
    "    loss = distill_loss_by_pixel.mean()\n",
    "    \n",
    "    return loss"
   ]
  },
  {
   "cell_type": "code",
   "execution_count": 25,
   "id": "ef0207d4-ea3a-40b3-910a-8ee663e8c18b",
   "metadata": {},
   "outputs": [],
   "source": [
    "def total_loss(img_input, pred_student, mask, teacher_model, alpha=0.01):\n",
    "    segmentation_loss = loss_fn(img_input, pred_student, mask, teacher_model)\n",
    "    distillation_loss = dist_loss(img_input, pred_student, teacher_model)\n",
    "    total_loss = segmentation_loss + alpha * distillation_loss\n",
    "    \n",
    "    return total_loss"
   ]
  },
  {
   "cell_type": "markdown",
   "id": "a1231945-8f22-4d96-9b60-deefe5175715",
   "metadata": {},
   "source": [
    "## Optimizer & Scheduler"
   ]
  },
  {
   "cell_type": "code",
   "execution_count": 26,
   "id": "0851eeb9-61cd-48fa-9620-07251aedacf9",
   "metadata": {
    "tags": []
   },
   "outputs": [],
   "source": [
    "learning_rate = hyperparameters['optimizer']['lr']\n",
    "betas = hyperparameters['optimizer']['betas']\n",
    "\n",
    "optimizer1 = torch.optim.Adam(\n",
    "    model1.parameters(),\n",
    "    lr = learning_rate,\n",
    "    betas = betas, \n",
    ")\n",
    "\n",
    "optimizer2 = torch.optim.Adam(\n",
    "    model2.parameters(),\n",
    "    lr = learning_rate,\n",
    "    betas = betas, \n",
    ")\n",
    "\n",
    "scheduler1 = torch.optim.lr_scheduler.ReduceLROnPlateau(optimizer1, mode='min', patience=20, factor=0.1)\n",
    "scheduler2 = torch.optim.lr_scheduler.ReduceLROnPlateau(optimizer2, mode='min', patience=20, factor=0.1)"
   ]
  },
  {
   "cell_type": "raw",
   "id": "9271ca40-718b-4638-a911-7e151d9bf840",
   "metadata": {},
   "source": [
    "# Print optimizer's state_dict\n",
    "print(\"Optimizer's state_dict:\")\n",
    "for var_name in optimizer1.state_dict():\n",
    "    print(var_name, \"\\t\", optimizer1.state_dict()[var_name])"
   ]
  },
  {
   "cell_type": "markdown",
   "id": "5b01ec41-0d9d-4053-a7d2-b5fc6e159419",
   "metadata": {
    "tags": []
   },
   "source": [
    "# Training"
   ]
  },
  {
   "cell_type": "markdown",
   "id": "950951ef-d511-424c-b4a4-36cabc7dda67",
   "metadata": {},
   "source": [
    "## Train Function"
   ]
  },
  {
   "cell_type": "code",
   "execution_count": 27,
   "id": "7070db60-a7d2-44b7-a3cb-d03187d2b709",
   "metadata": {
    "tags": []
   },
   "outputs": [],
   "source": [
    "def train_fn(\n",
    "    epoch,\n",
    "    model,\n",
    "    dataloader, \n",
    "    optimizer, \n",
    "    scheduler,\n",
    "    criterion, \n",
    "    device,\n",
    "    gradient_clipping,\n",
    "    summary_writer\n",
    "):\n",
    "    \n",
    "    model.train()\n",
    "    \n",
    "    compute_avg = lambda x: sum(x) / len(x)\n",
    "    total_batches = len(dataloader)\n",
    "    write_interval = total_batches // 4\n",
    "    \n",
    "    avg_loss = []\n",
    "    epochs = hyperparameters['epochs']\n",
    "    \n",
    "    with tqdm(total=hyperparameters['training_size'], desc=f'Train/Epoch {epoch}/{epochs}', unit='img') as pbar:\n",
    "        for idx, (img, mask) in enumerate(dataloader):\n",
    "            img = img.to(device)\n",
    "            mask = mask.to(device)\n",
    "\n",
    "            optimizer.zero_grad()\n",
    "\n",
    "            pred_mask = model(img)\n",
    "\n",
    "            loss = criterion(img_input=img, \n",
    "                              pred_student=pred_mask, \n",
    "                              mask=mask, \n",
    "                              teacher_model=pre_model)\n",
    "\n",
    "            loss.backward()\n",
    "            torch.nn.utils.clip_grad_norm_(model.parameters(), gradient_clipping)\n",
    "            optimizer.step()\n",
    "\n",
    "            # Record Results\n",
    "            avg_loss.append(loss.item())\n",
    "\n",
    "            \"\"\"\n",
    "            # Update Progress Bar\n",
    "            _avg_loss = compute_avg(avg_loss)\n",
    "            \n",
    "            if idx % write_interval == 0:\n",
    "                summary_writer.add_scalar('Eval/Average Loss', _avg_loss, ((epoch-1)*total_batches) + idx)\n",
    "            \"\"\"\n",
    "            \n",
    "            pbar.update(img.shape[0])\n",
    "        \n",
    "    return compute_avg(avg_loss) "
   ]
  },
  {
   "cell_type": "markdown",
   "id": "d68c23a9-6836-4d3f-bba0-64ca2e843d09",
   "metadata": {},
   "source": [
    "## Evaluation Function"
   ]
  },
  {
   "cell_type": "code",
   "execution_count": 28,
   "id": "95503d40-59d5-4fb6-9ea8-0bf11ab0f775",
   "metadata": {
    "tags": []
   },
   "outputs": [],
   "source": [
    "@torch.no_grad()\n",
    "def eval_fn(\n",
    "    epoch,\n",
    "    model, \n",
    "    dataloader, \n",
    "    criterion, \n",
    "    device,\n",
    "    color_mapping,\n",
    "    summary_writer\n",
    "):\n",
    "    model.eval()\n",
    "    \n",
    "    # Average Loss and mIoU\n",
    "    avg_loss = []\n",
    "    avg_mIoU = []\n",
    "    \n",
    "    #Accuracy\n",
    "    total_correct = 0\n",
    "    total_pixel = 0\n",
    "\n",
    "    compute_avg = lambda x: sum(x) / len(x)\n",
    "    total_batches = len(dataloader)\n",
    "    write_interval = total_batches // 4\n",
    "    \n",
    "    epochs = hyperparameters['epochs']\n",
    "    \n",
    "    with tqdm(total=hyperparameters['test_size'], desc=f'Eval/Epoch {epoch}/{epochs}', unit='img') as pbar:\n",
    "        for idx, (img, mask) in enumerate(dataloader):\n",
    "            img = img.to(device)\n",
    "            mask = mask.to(device)\n",
    "\n",
    "            #Accuracy\n",
    "            num_correct, num_pixel = check_acc(img, mask, model, device)\n",
    "            total_correct += num_correct\n",
    "            total_pixel += num_pixel\n",
    "\n",
    "            pred_mask = model(img)\n",
    "            loss = criterion(img_input=img, \n",
    "                              pred_student=pred_mask, \n",
    "                              mask=mask, \n",
    "                              teacher_model=pre_model)\n",
    "\n",
    "            # mIoU\n",
    "            miou = calculate_miou(pred_mask, mask, color_mapping)\n",
    "\n",
    "            avg_loss.append(loss.item())\n",
    "            avg_mIoU.append(miou.item())\n",
    "            \n",
    "            \"\"\"\n",
    "            # Update Progress Bar\n",
    "            _avg_loss = compute_avg(avg_loss)\n",
    "            _avg_miou = compute_avg(avg_mIoU)\n",
    "            \n",
    "            if idx % write_interval == 0:\n",
    "                summary_writer.add_scalar('Eval/Average Loss', _avg_loss, ((epoch-1)*total_batches) + idx)\n",
    "                summary_writer.add_scalar('Eval/Average mIoU', _avg_miou, ((epoch-1)*total_batches) + idx)\n",
    "            \"\"\"  \n",
    "            \n",
    "            pbar.update(img.shape[0])\n",
    "\n",
    "    acc = 100*(num_correct/num_pixel)\n",
    "    return compute_avg(avg_loss), compute_avg(avg_mIoU), acc"
   ]
  },
  {
   "cell_type": "markdown",
   "id": "3f029069-9b68-45f0-b595-0f77c79cc70e",
   "metadata": {},
   "source": [
    "## Start Training"
   ]
  },
  {
   "cell_type": "code",
   "execution_count": 29,
   "id": "99160c94-cd3b-473a-83e2-a15d60ecc79a",
   "metadata": {
    "tags": []
   },
   "outputs": [],
   "source": [
    "best_model1 = {\n",
    "    'best_state_dict' : None,\n",
    "    'best_epoch' : None,\n",
    "    'best_eval_loss' : None,\n",
    "    'best_eval_miou' : 0.0,\n",
    "    'best_eval_acc' : None,\n",
    "}\n",
    "\n",
    "best_model2 = {\n",
    "    'best_state_dict' : None,\n",
    "    'best_epoch' : None,\n",
    "    'best_eval_loss' : None,\n",
    "    'best_eval_miou' : 0.0,\n",
    "    'best_eval_acc' : None,\n",
    "}\n",
    "\n",
    "history = {\n",
    "    'model1':{\n",
    "        'train_loss': [],\n",
    "        'eval_loss' : [],\n",
    "        'eval_miou' : [],\n",
    "        'eval_acc' : [],\n",
    "    },\n",
    "    'model2':{\n",
    "        'train_loss': [],\n",
    "        'eval_loss' : [],\n",
    "        'eval_miou' : [],\n",
    "        'eval_acc' : [],\n",
    "    },\n",
    "}"
   ]
  },
  {
   "cell_type": "code",
   "execution_count": 30,
   "id": "a5a10022-5c83-4329-b232-58cdb4076f04",
   "metadata": {
    "tags": []
   },
   "outputs": [],
   "source": [
    "def model1_train_start():\n",
    "    model1.to(device)\n",
    "    writer = SummaryWriter('runs/vggunet16_model1')\n",
    "    \n",
    "    for epoch in range(1, hyperparameters['epochs']+1):  \n",
    "        \n",
    "        train_loss = train_fn(\n",
    "            epoch = epoch,\n",
    "            model = model1,\n",
    "            dataloader = train_dataloader, \n",
    "            optimizer = optimizer1, \n",
    "            scheduler = scheduler1,\n",
    "            criterion = loss_fn, \n",
    "            device = device,\n",
    "            gradient_clipping = hyperparameters['gradient_clipping'],\n",
    "            summary_writer = writer,\n",
    "        )\n",
    "        \n",
    "        eval_loss, eval_miou, eval_acc = eval_fn(\n",
    "            epoch = epoch,\n",
    "            model = model1, \n",
    "            dataloader = test_dataloader, \n",
    "            criterion = loss_fn, \n",
    "            device = device,\n",
    "            color_mapping = color_mapping,\n",
    "            summary_writer = writer,\n",
    "        )\n",
    "\n",
    "        print(f\"\"\"\"\n",
    "        Epoch: {epoch}, \n",
    "        Average Train Loss: {train_loss:.4f} |\n",
    "        Average Test Loss: {eval_loss:.4f} |\n",
    "        Average Test mIoU: {eval_miou:.2f}\n",
    "        Average Test Accuracy: {eval_acc}\"\"\")\n",
    "        \n",
    "        \n",
    "        #Tensorboard summary writer, saving the epoch results\n",
    "        writer.add_scalar('Train Loss',train_loss, epoch)\n",
    "        writer.add_scalar('Eval Loss',eval_loss, epoch)\n",
    "        writer.add_scalar('Eval mIoU',eval_miou, epoch)\n",
    "        writer.add_scalar('Eval Accuracy',eval_acc, epoch)\n",
    "        \n",
    "        \n",
    "        history['model1']['train_loss'].append(train_loss)\n",
    "        history['model1']['eval_loss'].append(eval_loss)\n",
    "        history['model1']['eval_miou'].append(eval_miou)\n",
    "        history['model1']['eval_acc'].append(eval_acc)\n",
    "        \n",
    "        save_model(\n",
    "            model=model1, \n",
    "            optimizer=optimizer1, \n",
    "            root_folder=hyperparameters['checkpoints_dir']['model1'], \n",
    "            file_name='VGGUnet16_Segmentation_checkpoint', \n",
    "            hyperparameter_dict=hyperparameters, \n",
    "            best_model=best_model1, \n",
    "            last_epoch=epoch, \n",
    "            verbose=False)\n",
    "        \n",
    "        if eval_miou > best_model1['best_eval_miou']:\n",
    "            best_model1['best_state_dict'] = model1.state_dict().copy()\n",
    "            best_model1['best_epoch'] = epoch\n",
    "            best_model1['best_eval_loss'] = eval_loss\n",
    "            best_model1['best_eval_miou'] = eval_miou\n",
    "            best_model1['best_eval_acc'] = eval_acc\n",
    "            \n",
    "            save_model(\n",
    "                model=model1, \n",
    "                optimizer=optimizer1, \n",
    "                root_folder=hyperparameters['checkpoints_dir']['model1'], \n",
    "                file_name='VGGUnet16_Segmentation_best', \n",
    "                hyperparameter_dict=hyperparameters, \n",
    "                best_model=best_model1, \n",
    "                last_epoch=epoch, \n",
    "                verbose=True)\n",
    "            \n",
    "        scheduler1.step(eval_loss)\n",
    "        \n",
    "    writer.close()"
   ]
  },
  {
   "cell_type": "code",
   "execution_count": 31,
   "id": "bd5cb3ca-0d20-439e-9bdb-2b20699ed27d",
   "metadata": {},
   "outputs": [],
   "source": [
    "def model2_train_start():\n",
    "    model2.to(device)\n",
    "    writer = SummaryWriter('runs/vggunet16_model2')\n",
    "    \n",
    "    for epoch in range(1, hyperparameters['epochs']+1):  \n",
    "        \n",
    "        train_loss = train_fn(\n",
    "            epoch = epoch,\n",
    "            model = model2,\n",
    "            dataloader = train_dataloader, \n",
    "            optimizer = optimizer2, \n",
    "            scheduler = scheduler2,\n",
    "            criterion = total_loss, \n",
    "            device = device,\n",
    "            gradient_clipping = hyperparameters['gradient_clipping'],\n",
    "            summary_writer = writer,\n",
    "        )\n",
    "        \n",
    "        eval_loss, eval_miou, eval_acc = eval_fn(\n",
    "            epoch = epoch,\n",
    "            model = model2, \n",
    "            dataloader = test_dataloader, \n",
    "            criterion = total_loss, \n",
    "            device = device,\n",
    "            color_mapping = color_mapping,\n",
    "            summary_writer = writer,\n",
    "        )\n",
    "\n",
    "        print(f\"\"\"\"\n",
    "        Epoch: {epoch}, \n",
    "        Average Train Loss: {train_loss:.4f} |\n",
    "        Average Test Loss: {eval_loss:.4f} |\n",
    "        Average Test mIoU: {eval_miou:.2f}\n",
    "        Average Test Accuracy: {eval_acc}\"\"\")\n",
    "        \n",
    "        \n",
    "        #Tensorboard summary writer, saving the epoch results\n",
    "        writer.add_scalar('Train Loss',train_loss, epoch)\n",
    "        writer.add_scalar('Eval Loss',eval_loss, epoch)\n",
    "        writer.add_scalar('Eval mIoU',eval_miou, epoch)\n",
    "        writer.add_scalar('Eval Accuracy',eval_acc, epoch)\n",
    "        \n",
    "        \n",
    "        history['model2']['train_loss'].append(train_loss)\n",
    "        history['model2']['eval_loss'].append(eval_loss)\n",
    "        history['model2']['eval_miou'].append(eval_miou)\n",
    "        history['model2']['eval_acc'].append(eval_acc)\n",
    "        \n",
    "        save_model(\n",
    "            model=model2, \n",
    "            optimizer=optimizer2, \n",
    "            root_folder=hyperparameters['checkpoints_dir']['model2'], \n",
    "            file_name='VGGUnet16_Segmentation_checkpoint', \n",
    "            hyperparameter_dict=hyperparameters, \n",
    "            best_model=best_model2, \n",
    "            last_epoch=epoch, \n",
    "            verbose=False)\n",
    "        \n",
    "        if eval_miou > best_model2['best_eval_miou']:\n",
    "            best_model2['best_state_dict'] = model2.state_dict().copy()\n",
    "            best_model2['best_epoch'] = epoch\n",
    "            best_model2['best_eval_loss'] = eval_loss\n",
    "            best_model2['best_eval_miou'] = eval_miou\n",
    "            best_model2['best_eval_acc'] = eval_acc\n",
    "            \n",
    "            save_model(\n",
    "                model=model2, \n",
    "                optimizer=optimizer2, \n",
    "                root_folder=hyperparameters['checkpoints_dir']['model2'], \n",
    "                file_name='VGGUnet16_Segmentation_best', \n",
    "                hyperparameter_dict=hyperparameters, \n",
    "                best_model=best_model2, \n",
    "                last_epoch=epoch, \n",
    "                verbose=True)\n",
    "            \n",
    "        scheduler2.step(eval_loss)\n",
    "        \n",
    "    writer.close()"
   ]
  },
  {
   "cell_type": "markdown",
   "id": "423a7147-80e2-42b3-82dd-33aead6fe302",
   "metadata": {},
   "source": [
    "## Model1 (Weight Copy) Training"
   ]
  },
  {
   "cell_type": "code",
   "execution_count": 32,
   "id": "3cd56556-ec71-4376-8c14-9ed7a9e9a152",
   "metadata": {
    "scrolled": true
   },
   "outputs": [
    {
     "name": "stderr",
     "output_type": "stream",
     "text": [
      "Train/Epoch 1/150: 100%|████████████████████████████████████████████████████████████| 104/104 [00:13<00:00,  7.78img/s]\n",
      "Eval/Epoch 1/150: 100%|███████████████████████████████████████████████████████████████| 27/27 [00:03<00:00,  8.64img/s]\n"
     ]
    },
    {
     "name": "stdout",
     "output_type": "stream",
     "text": [
      "\"\n",
      "        Epoch: 1, \n",
      "        Average Train Loss: 4.0627 |\n",
      "        Average Test Loss: 4.7459 |\n",
      "        Average Test mIoU: 0.55\n",
      "        Average Test Accuracy: 2.2563934326171875\n",
      "Checkpoint: VGGUnet16_Segmentation_best is saved successfully\n"
     ]
    },
    {
     "name": "stderr",
     "output_type": "stream",
     "text": [
      "Train/Epoch 2/150: 100%|████████████████████████████████████████████████████████████| 104/104 [00:07<00:00, 13.29img/s]\n",
      "Eval/Epoch 2/150: 100%|███████████████████████████████████████████████████████████████| 27/27 [00:03<00:00,  6.88img/s]\n"
     ]
    },
    {
     "name": "stdout",
     "output_type": "stream",
     "text": [
      "\"\n",
      "        Epoch: 2, \n",
      "        Average Train Loss: 3.1675 |\n",
      "        Average Test Loss: 4.0893 |\n",
      "        Average Test mIoU: 0.02\n",
      "        Average Test Accuracy: 0.01004537008702755\n"
     ]
    },
    {
     "name": "stderr",
     "output_type": "stream",
     "text": [
      "Train/Epoch 3/150: 100%|████████████████████████████████████████████████████████████| 104/104 [00:07<00:00, 13.70img/s]\n",
      "Eval/Epoch 3/150: 100%|███████████████████████████████████████████████████████████████| 27/27 [00:03<00:00,  7.36img/s]\n"
     ]
    },
    {
     "name": "stdout",
     "output_type": "stream",
     "text": [
      "\"\n",
      "        Epoch: 3, \n",
      "        Average Train Loss: 2.7783 |\n",
      "        Average Test Loss: 3.2683 |\n",
      "        Average Test mIoU: 6.67\n",
      "        Average Test Accuracy: 22.043228149414062\n",
      "Checkpoint: VGGUnet16_Segmentation_best is saved successfully\n"
     ]
    },
    {
     "name": "stderr",
     "output_type": "stream",
     "text": [
      "Train/Epoch 4/150: 100%|████████████████████████████████████████████████████████████| 104/104 [00:07<00:00, 13.94img/s]\n",
      "Eval/Epoch 4/150: 100%|███████████████████████████████████████████████████████████████| 27/27 [00:03<00:00,  7.02img/s]\n"
     ]
    },
    {
     "name": "stdout",
     "output_type": "stream",
     "text": [
      "\"\n",
      "        Epoch: 4, \n",
      "        Average Train Loss: 2.5312 |\n",
      "        Average Test Loss: 2.9813 |\n",
      "        Average Test mIoU: 2.11\n",
      "        Average Test Accuracy: 5.928548336029053\n"
     ]
    },
    {
     "name": "stderr",
     "output_type": "stream",
     "text": [
      "Train/Epoch 5/150: 100%|████████████████████████████████████████████████████████████| 104/104 [00:07<00:00, 14.19img/s]\n",
      "Eval/Epoch 5/150: 100%|███████████████████████████████████████████████████████████████| 27/27 [00:03<00:00,  7.52img/s]\n"
     ]
    },
    {
     "name": "stdout",
     "output_type": "stream",
     "text": [
      "\"\n",
      "        Epoch: 5, \n",
      "        Average Train Loss: 2.2216 |\n",
      "        Average Test Loss: 1.9892 |\n",
      "        Average Test mIoU: 0.67\n",
      "        Average Test Accuracy: 1.2432098388671875\n"
     ]
    },
    {
     "name": "stderr",
     "output_type": "stream",
     "text": [
      "Train/Epoch 6/150: 100%|████████████████████████████████████████████████████████████| 104/104 [00:07<00:00, 14.52img/s]\n",
      "Eval/Epoch 6/150: 100%|███████████████████████████████████████████████████████████████| 27/27 [00:03<00:00,  7.75img/s]\n"
     ]
    },
    {
     "name": "stdout",
     "output_type": "stream",
     "text": [
      "\"\n",
      "        Epoch: 6, \n",
      "        Average Train Loss: 1.9576 |\n",
      "        Average Test Loss: 1.7707 |\n",
      "        Average Test mIoU: 0.87\n",
      "        Average Test Accuracy: 1.5216827392578125\n"
     ]
    },
    {
     "name": "stderr",
     "output_type": "stream",
     "text": [
      "Train/Epoch 7/150: 100%|████████████████████████████████████████████████████████████| 104/104 [00:07<00:00, 14.70img/s]\n",
      "Eval/Epoch 7/150: 100%|███████████████████████████████████████████████████████████████| 27/27 [00:03<00:00,  8.07img/s]\n"
     ]
    },
    {
     "name": "stdout",
     "output_type": "stream",
     "text": [
      "\"\n",
      "        Epoch: 7, \n",
      "        Average Train Loss: 1.7143 |\n",
      "        Average Test Loss: 1.5875 |\n",
      "        Average Test mIoU: 2.64\n",
      "        Average Test Accuracy: 4.584503173828125\n"
     ]
    },
    {
     "name": "stderr",
     "output_type": "stream",
     "text": [
      "Train/Epoch 8/150: 100%|████████████████████████████████████████████████████████████| 104/104 [00:07<00:00, 14.78img/s]\n",
      "Eval/Epoch 8/150: 100%|███████████████████████████████████████████████████████████████| 27/27 [00:03<00:00,  8.07img/s]\n"
     ]
    },
    {
     "name": "stdout",
     "output_type": "stream",
     "text": [
      "\"\n",
      "        Epoch: 8, \n",
      "        Average Train Loss: 1.4796 |\n",
      "        Average Test Loss: 0.9463 |\n",
      "        Average Test mIoU: 10.82\n",
      "        Average Test Accuracy: 16.89364242553711\n",
      "Checkpoint: VGGUnet16_Segmentation_best is saved successfully\n"
     ]
    },
    {
     "name": "stderr",
     "output_type": "stream",
     "text": [
      "Train/Epoch 9/150: 100%|████████████████████████████████████████████████████████████| 104/104 [00:07<00:00, 14.75img/s]\n",
      "Eval/Epoch 9/150: 100%|███████████████████████████████████████████████████████████████| 27/27 [00:03<00:00,  8.19img/s]\n"
     ]
    },
    {
     "name": "stdout",
     "output_type": "stream",
     "text": [
      "\"\n",
      "        Epoch: 9, \n",
      "        Average Train Loss: 1.2972 |\n",
      "        Average Test Loss: 1.0969 |\n",
      "        Average Test mIoU: 6.10\n",
      "        Average Test Accuracy: 8.427302360534668\n"
     ]
    },
    {
     "name": "stderr",
     "output_type": "stream",
     "text": [
      "Train/Epoch 10/150: 100%|███████████████████████████████████████████████████████████| 104/104 [00:06<00:00, 14.92img/s]\n",
      "Eval/Epoch 10/150: 100%|██████████████████████████████████████████████████████████████| 27/27 [00:03<00:00,  8.19img/s]\n"
     ]
    },
    {
     "name": "stdout",
     "output_type": "stream",
     "text": [
      "\"\n",
      "        Epoch: 10, \n",
      "        Average Train Loss: 1.1033 |\n",
      "        Average Test Loss: 0.9069 |\n",
      "        Average Test mIoU: 13.68\n",
      "        Average Test Accuracy: 16.238658905029297\n",
      "Checkpoint: VGGUnet16_Segmentation_best is saved successfully\n"
     ]
    },
    {
     "name": "stderr",
     "output_type": "stream",
     "text": [
      "Train/Epoch 11/150: 100%|███████████████████████████████████████████████████████████| 104/104 [00:06<00:00, 14.92img/s]\n",
      "Eval/Epoch 11/150: 100%|██████████████████████████████████████████████████████████████| 27/27 [00:03<00:00,  8.23img/s]\n"
     ]
    },
    {
     "name": "stdout",
     "output_type": "stream",
     "text": [
      "\"\n",
      "        Epoch: 11, \n",
      "        Average Train Loss: 1.0041 |\n",
      "        Average Test Loss: 0.7352 |\n",
      "        Average Test mIoU: 21.49\n",
      "        Average Test Accuracy: 36.997859954833984\n",
      "Checkpoint: VGGUnet16_Segmentation_best is saved successfully\n"
     ]
    },
    {
     "name": "stderr",
     "output_type": "stream",
     "text": [
      "Train/Epoch 12/150: 100%|███████████████████████████████████████████████████████████| 104/104 [00:06<00:00, 14.99img/s]\n",
      "Eval/Epoch 12/150: 100%|██████████████████████████████████████████████████████████████| 27/27 [00:03<00:00,  8.47img/s]\n"
     ]
    },
    {
     "name": "stdout",
     "output_type": "stream",
     "text": [
      "\"\n",
      "        Epoch: 12, \n",
      "        Average Train Loss: 0.9120 |\n",
      "        Average Test Loss: 1.1546 |\n",
      "        Average Test mIoU: 17.90\n",
      "        Average Test Accuracy: 32.74180221557617\n"
     ]
    },
    {
     "name": "stderr",
     "output_type": "stream",
     "text": [
      "Train/Epoch 13/150: 100%|███████████████████████████████████████████████████████████| 104/104 [00:06<00:00, 15.19img/s]\n",
      "Eval/Epoch 13/150: 100%|██████████████████████████████████████████████████████████████| 27/27 [00:03<00:00,  8.64img/s]\n"
     ]
    },
    {
     "name": "stdout",
     "output_type": "stream",
     "text": [
      "\"\n",
      "        Epoch: 13, \n",
      "        Average Train Loss: 0.8231 |\n",
      "        Average Test Loss: 0.7559 |\n",
      "        Average Test mIoU: 34.86\n",
      "        Average Test Accuracy: 40.58240509033203\n",
      "Checkpoint: VGGUnet16_Segmentation_best is saved successfully\n"
     ]
    },
    {
     "name": "stderr",
     "output_type": "stream",
     "text": [
      "Train/Epoch 14/150: 100%|███████████████████████████████████████████████████████████| 104/104 [00:06<00:00, 15.33img/s]\n",
      "Eval/Epoch 14/150: 100%|██████████████████████████████████████████████████████████████| 27/27 [00:03<00:00,  8.68img/s]\n"
     ]
    },
    {
     "name": "stdout",
     "output_type": "stream",
     "text": [
      "\"\n",
      "        Epoch: 14, \n",
      "        Average Train Loss: 0.7358 |\n",
      "        Average Test Loss: 0.7489 |\n",
      "        Average Test mIoU: 32.69\n",
      "        Average Test Accuracy: 40.36013412475586\n"
     ]
    },
    {
     "name": "stderr",
     "output_type": "stream",
     "text": [
      "Train/Epoch 15/150: 100%|███████████████████████████████████████████████████████████| 104/104 [00:06<00:00, 15.23img/s]\n",
      "Eval/Epoch 15/150: 100%|██████████████████████████████████████████████████████████████| 27/27 [00:03<00:00,  8.68img/s]\n"
     ]
    },
    {
     "name": "stdout",
     "output_type": "stream",
     "text": [
      "\"\n",
      "        Epoch: 15, \n",
      "        Average Train Loss: 0.6760 |\n",
      "        Average Test Loss: 0.5570 |\n",
      "        Average Test mIoU: 37.62\n",
      "        Average Test Accuracy: 41.96891784667969\n",
      "Checkpoint: VGGUnet16_Segmentation_best is saved successfully\n"
     ]
    },
    {
     "name": "stderr",
     "output_type": "stream",
     "text": [
      "Train/Epoch 16/150: 100%|███████████████████████████████████████████████████████████| 104/104 [00:06<00:00, 15.09img/s]\n",
      "Eval/Epoch 16/150: 100%|██████████████████████████████████████████████████████████████| 27/27 [00:03<00:00,  9.00img/s]\n"
     ]
    },
    {
     "name": "stdout",
     "output_type": "stream",
     "text": [
      "\"\n",
      "        Epoch: 16, \n",
      "        Average Train Loss: 0.6196 |\n",
      "        Average Test Loss: 0.7580 |\n",
      "        Average Test mIoU: 34.81\n",
      "        Average Test Accuracy: 40.88287353515625\n"
     ]
    },
    {
     "name": "stderr",
     "output_type": "stream",
     "text": [
      "Train/Epoch 17/150: 100%|███████████████████████████████████████████████████████████| 104/104 [00:06<00:00, 15.33img/s]\n",
      "Eval/Epoch 17/150: 100%|██████████████████████████████████████████████████████████████| 27/27 [00:02<00:00,  9.04img/s]\n"
     ]
    },
    {
     "name": "stdout",
     "output_type": "stream",
     "text": [
      "\"\n",
      "        Epoch: 17, \n",
      "        Average Train Loss: 0.5492 |\n",
      "        Average Test Loss: 0.4105 |\n",
      "        Average Test mIoU: 39.78\n",
      "        Average Test Accuracy: 43.10468292236328\n",
      "Checkpoint: VGGUnet16_Segmentation_best is saved successfully\n"
     ]
    },
    {
     "name": "stderr",
     "output_type": "stream",
     "text": [
      "Train/Epoch 18/150: 100%|███████████████████████████████████████████████████████████| 104/104 [00:06<00:00, 15.54img/s]\n",
      "Eval/Epoch 18/150: 100%|██████████████████████████████████████████████████████████████| 27/27 [00:03<00:00,  8.86img/s]\n"
     ]
    },
    {
     "name": "stdout",
     "output_type": "stream",
     "text": [
      "\"\n",
      "        Epoch: 18, \n",
      "        Average Train Loss: 0.5050 |\n",
      "        Average Test Loss: 0.4446 |\n",
      "        Average Test mIoU: 37.92\n",
      "        Average Test Accuracy: 43.22153854370117\n"
     ]
    },
    {
     "name": "stderr",
     "output_type": "stream",
     "text": [
      "Train/Epoch 19/150: 100%|███████████████████████████████████████████████████████████| 104/104 [00:06<00:00, 15.50img/s]\n",
      "Eval/Epoch 19/150: 100%|██████████████████████████████████████████████████████████████| 27/27 [00:03<00:00,  9.00img/s]\n"
     ]
    },
    {
     "name": "stdout",
     "output_type": "stream",
     "text": [
      "\"\n",
      "        Epoch: 19, \n",
      "        Average Train Loss: 0.4597 |\n",
      "        Average Test Loss: 0.4208 |\n",
      "        Average Test mIoU: 38.82\n",
      "        Average Test Accuracy: 43.36802291870117\n"
     ]
    },
    {
     "name": "stderr",
     "output_type": "stream",
     "text": [
      "Train/Epoch 20/150: 100%|███████████████████████████████████████████████████████████| 104/104 [00:06<00:00, 15.58img/s]\n",
      "Eval/Epoch 20/150: 100%|██████████████████████████████████████████████████████████████| 27/27 [00:03<00:00,  8.81img/s]\n"
     ]
    },
    {
     "name": "stdout",
     "output_type": "stream",
     "text": [
      "\"\n",
      "        Epoch: 20, \n",
      "        Average Train Loss: 0.4055 |\n",
      "        Average Test Loss: 0.3773 |\n",
      "        Average Test mIoU: 44.19\n",
      "        Average Test Accuracy: 48.813377380371094\n",
      "Checkpoint: VGGUnet16_Segmentation_best is saved successfully\n"
     ]
    },
    {
     "name": "stderr",
     "output_type": "stream",
     "text": [
      "Train/Epoch 21/150: 100%|███████████████████████████████████████████████████████████| 104/104 [00:06<00:00, 15.55img/s]\n",
      "Eval/Epoch 21/150: 100%|██████████████████████████████████████████████████████████████| 27/27 [00:03<00:00,  8.95img/s]\n"
     ]
    },
    {
     "name": "stdout",
     "output_type": "stream",
     "text": [
      "\"\n",
      "        Epoch: 21, \n",
      "        Average Train Loss: 0.3761 |\n",
      "        Average Test Loss: 0.3930 |\n",
      "        Average Test mIoU: 43.47\n",
      "        Average Test Accuracy: 48.225914001464844\n"
     ]
    },
    {
     "name": "stderr",
     "output_type": "stream",
     "text": [
      "Train/Epoch 22/150: 100%|███████████████████████████████████████████████████████████| 104/104 [00:06<00:00, 15.47img/s]\n",
      "Eval/Epoch 22/150: 100%|██████████████████████████████████████████████████████████████| 27/27 [00:02<00:00,  9.09img/s]\n"
     ]
    },
    {
     "name": "stdout",
     "output_type": "stream",
     "text": [
      "\"\n",
      "        Epoch: 22, \n",
      "        Average Train Loss: 0.3388 |\n",
      "        Average Test Loss: 0.3430 |\n",
      "        Average Test mIoU: 42.42\n",
      "        Average Test Accuracy: 49.54706954956055\n"
     ]
    },
    {
     "name": "stderr",
     "output_type": "stream",
     "text": [
      "Train/Epoch 23/150: 100%|███████████████████████████████████████████████████████████| 104/104 [00:06<00:00, 15.62img/s]\n",
      "Eval/Epoch 23/150: 100%|██████████████████████████████████████████████████████████████| 27/27 [00:03<00:00,  8.86img/s]\n"
     ]
    },
    {
     "name": "stdout",
     "output_type": "stream",
     "text": [
      "\"\n",
      "        Epoch: 23, \n",
      "        Average Train Loss: 0.3069 |\n",
      "        Average Test Loss: 0.3013 |\n",
      "        Average Test mIoU: 43.12\n",
      "        Average Test Accuracy: 46.6217041015625\n"
     ]
    },
    {
     "name": "stderr",
     "output_type": "stream",
     "text": [
      "Train/Epoch 24/150: 100%|███████████████████████████████████████████████████████████| 104/104 [00:06<00:00, 15.44img/s]\n",
      "Eval/Epoch 24/150: 100%|██████████████████████████████████████████████████████████████| 27/27 [00:03<00:00,  8.81img/s]\n"
     ]
    },
    {
     "name": "stdout",
     "output_type": "stream",
     "text": [
      "\"\n",
      "        Epoch: 24, \n",
      "        Average Train Loss: 0.2746 |\n",
      "        Average Test Loss: 0.2290 |\n",
      "        Average Test mIoU: 53.38\n",
      "        Average Test Accuracy: 60.18130111694336\n",
      "Checkpoint: VGGUnet16_Segmentation_best is saved successfully\n"
     ]
    },
    {
     "name": "stderr",
     "output_type": "stream",
     "text": [
      "Train/Epoch 25/150: 100%|███████████████████████████████████████████████████████████| 104/104 [00:06<00:00, 15.26img/s]\n",
      "Eval/Epoch 25/150: 100%|██████████████████████████████████████████████████████████████| 27/27 [00:02<00:00,  9.09img/s]\n"
     ]
    },
    {
     "name": "stdout",
     "output_type": "stream",
     "text": [
      "\"\n",
      "        Epoch: 25, \n",
      "        Average Train Loss: 0.2510 |\n",
      "        Average Test Loss: 0.3089 |\n",
      "        Average Test mIoU: 48.65\n",
      "        Average Test Accuracy: 53.65918731689453\n"
     ]
    },
    {
     "name": "stderr",
     "output_type": "stream",
     "text": [
      "Train/Epoch 26/150: 100%|███████████████████████████████████████████████████████████| 104/104 [00:06<00:00, 15.23img/s]\n",
      "Eval/Epoch 26/150: 100%|██████████████████████████████████████████████████████████████| 27/27 [00:03<00:00,  8.91img/s]\n"
     ]
    },
    {
     "name": "stdout",
     "output_type": "stream",
     "text": [
      "\"\n",
      "        Epoch: 26, \n",
      "        Average Train Loss: 0.2268 |\n",
      "        Average Test Loss: 0.2120 |\n",
      "        Average Test mIoU: 74.13\n",
      "        Average Test Accuracy: 89.67984771728516\n",
      "Checkpoint: VGGUnet16_Segmentation_best is saved successfully\n"
     ]
    },
    {
     "name": "stderr",
     "output_type": "stream",
     "text": [
      "Train/Epoch 27/150: 100%|███████████████████████████████████████████████████████████| 104/104 [00:06<00:00, 15.19img/s]\n",
      "Eval/Epoch 27/150: 100%|██████████████████████████████████████████████████████████████| 27/27 [00:03<00:00,  8.86img/s]\n"
     ]
    },
    {
     "name": "stdout",
     "output_type": "stream",
     "text": [
      "\"\n",
      "        Epoch: 27, \n",
      "        Average Train Loss: 0.2159 |\n",
      "        Average Test Loss: 0.2289 |\n",
      "        Average Test mIoU: 67.15\n",
      "        Average Test Accuracy: 82.2503433227539\n"
     ]
    },
    {
     "name": "stderr",
     "output_type": "stream",
     "text": [
      "Train/Epoch 28/150: 100%|███████████████████████████████████████████████████████████| 104/104 [00:06<00:00, 15.66img/s]\n",
      "Eval/Epoch 28/150: 100%|██████████████████████████████████████████████████████████████| 27/27 [00:03<00:00,  8.86img/s]\n"
     ]
    },
    {
     "name": "stdout",
     "output_type": "stream",
     "text": [
      "\"\n",
      "        Epoch: 28, \n",
      "        Average Train Loss: 0.2113 |\n",
      "        Average Test Loss: 0.2447 |\n",
      "        Average Test mIoU: 63.48\n",
      "        Average Test Accuracy: 75.90090942382812\n"
     ]
    },
    {
     "name": "stderr",
     "output_type": "stream",
     "text": [
      "Train/Epoch 29/150: 100%|███████████████████████████████████████████████████████████| 104/104 [00:06<00:00, 15.16img/s]\n",
      "Eval/Epoch 29/150: 100%|██████████████████████████████████████████████████████████████| 27/27 [00:03<00:00,  8.77img/s]\n"
     ]
    },
    {
     "name": "stdout",
     "output_type": "stream",
     "text": [
      "\"\n",
      "        Epoch: 29, \n",
      "        Average Train Loss: 0.1758 |\n",
      "        Average Test Loss: 0.2090 |\n",
      "        Average Test mIoU: 72.85\n",
      "        Average Test Accuracy: 87.18490600585938\n"
     ]
    },
    {
     "name": "stderr",
     "output_type": "stream",
     "text": [
      "Train/Epoch 30/150: 100%|███████████████████████████████████████████████████████████| 104/104 [00:06<00:00, 15.40img/s]\n",
      "Eval/Epoch 30/150: 100%|██████████████████████████████████████████████████████████████| 27/27 [00:02<00:00,  9.09img/s]\n"
     ]
    },
    {
     "name": "stdout",
     "output_type": "stream",
     "text": [
      "\"\n",
      "        Epoch: 30, \n",
      "        Average Train Loss: 0.1578 |\n",
      "        Average Test Loss: 0.1023 |\n",
      "        Average Test mIoU: 85.74\n",
      "        Average Test Accuracy: 96.19853210449219\n",
      "Checkpoint: VGGUnet16_Segmentation_best is saved successfully\n"
     ]
    },
    {
     "name": "stderr",
     "output_type": "stream",
     "text": [
      "Train/Epoch 31/150: 100%|███████████████████████████████████████████████████████████| 104/104 [00:06<00:00, 15.54img/s]\n",
      "Eval/Epoch 31/150: 100%|██████████████████████████████████████████████████████████████| 27/27 [00:03<00:00,  8.91img/s]\n"
     ]
    },
    {
     "name": "stdout",
     "output_type": "stream",
     "text": [
      "\"\n",
      "        Epoch: 31, \n",
      "        Average Train Loss: 0.1461 |\n",
      "        Average Test Loss: 0.2368 |\n",
      "        Average Test mIoU: 70.32\n",
      "        Average Test Accuracy: 88.52208709716797\n"
     ]
    },
    {
     "name": "stderr",
     "output_type": "stream",
     "text": [
      "Train/Epoch 32/150: 100%|███████████████████████████████████████████████████████████| 104/104 [00:06<00:00, 15.51img/s]\n",
      "Eval/Epoch 32/150: 100%|██████████████████████████████████████████████████████████████| 27/27 [00:02<00:00,  9.04img/s]\n"
     ]
    },
    {
     "name": "stdout",
     "output_type": "stream",
     "text": [
      "\"\n",
      "        Epoch: 32, \n",
      "        Average Train Loss: 0.1265 |\n",
      "        Average Test Loss: 0.1212 |\n",
      "        Average Test mIoU: 81.12\n",
      "        Average Test Accuracy: 94.79815673828125\n"
     ]
    },
    {
     "name": "stderr",
     "output_type": "stream",
     "text": [
      "Train/Epoch 33/150: 100%|███████████████████████████████████████████████████████████| 104/104 [00:06<00:00, 15.58img/s]\n",
      "Eval/Epoch 33/150: 100%|██████████████████████████████████████████████████████████████| 27/27 [00:03<00:00,  8.91img/s]\n"
     ]
    },
    {
     "name": "stdout",
     "output_type": "stream",
     "text": [
      "\"\n",
      "        Epoch: 33, \n",
      "        Average Train Loss: 0.1301 |\n",
      "        Average Test Loss: 0.1156 |\n",
      "        Average Test mIoU: 81.95\n",
      "        Average Test Accuracy: 92.30168914794922\n"
     ]
    },
    {
     "name": "stderr",
     "output_type": "stream",
     "text": [
      "Train/Epoch 34/150: 100%|███████████████████████████████████████████████████████████| 104/104 [00:06<00:00, 15.37img/s]\n",
      "Eval/Epoch 34/150: 100%|██████████████████████████████████████████████████████████████| 27/27 [00:02<00:00,  9.05img/s]\n"
     ]
    },
    {
     "name": "stdout",
     "output_type": "stream",
     "text": [
      "\"\n",
      "        Epoch: 34, \n",
      "        Average Train Loss: 0.1183 |\n",
      "        Average Test Loss: 0.0798 |\n",
      "        Average Test mIoU: 84.61\n",
      "        Average Test Accuracy: 94.6043701171875\n"
     ]
    },
    {
     "name": "stderr",
     "output_type": "stream",
     "text": [
      "Train/Epoch 35/150: 100%|███████████████████████████████████████████████████████████| 104/104 [00:06<00:00, 15.48img/s]\n",
      "Eval/Epoch 35/150: 100%|██████████████████████████████████████████████████████████████| 27/27 [00:03<00:00,  8.86img/s]\n"
     ]
    },
    {
     "name": "stdout",
     "output_type": "stream",
     "text": [
      "\"\n",
      "        Epoch: 35, \n",
      "        Average Train Loss: 0.1116 |\n",
      "        Average Test Loss: 0.0881 |\n",
      "        Average Test mIoU: 85.08\n",
      "        Average Test Accuracy: 95.49140930175781\n"
     ]
    },
    {
     "name": "stderr",
     "output_type": "stream",
     "text": [
      "Train/Epoch 36/150: 100%|███████████████████████████████████████████████████████████| 104/104 [00:06<00:00, 15.51img/s]\n",
      "Eval/Epoch 36/150: 100%|██████████████████████████████████████████████████████████████| 27/27 [00:02<00:00,  9.09img/s]\n"
     ]
    },
    {
     "name": "stdout",
     "output_type": "stream",
     "text": [
      "\"\n",
      "        Epoch: 36, \n",
      "        Average Train Loss: 0.1081 |\n",
      "        Average Test Loss: 0.0920 |\n",
      "        Average Test mIoU: 83.30\n",
      "        Average Test Accuracy: 95.63255310058594\n"
     ]
    },
    {
     "name": "stderr",
     "output_type": "stream",
     "text": [
      "Train/Epoch 37/150: 100%|███████████████████████████████████████████████████████████| 104/104 [00:06<00:00, 15.41img/s]\n",
      "Eval/Epoch 37/150: 100%|██████████████████████████████████████████████████████████████| 27/27 [00:03<00:00,  9.00img/s]\n"
     ]
    },
    {
     "name": "stdout",
     "output_type": "stream",
     "text": [
      "\"\n",
      "        Epoch: 37, \n",
      "        Average Train Loss: 0.1053 |\n",
      "        Average Test Loss: 0.1387 |\n",
      "        Average Test mIoU: 74.18\n",
      "        Average Test Accuracy: 84.61367797851562\n"
     ]
    },
    {
     "name": "stderr",
     "output_type": "stream",
     "text": [
      "Train/Epoch 38/150: 100%|███████████████████████████████████████████████████████████| 104/104 [00:06<00:00, 15.26img/s]\n",
      "Eval/Epoch 38/150: 100%|██████████████████████████████████████████████████████████████| 27/27 [00:02<00:00,  9.04img/s]\n"
     ]
    },
    {
     "name": "stdout",
     "output_type": "stream",
     "text": [
      "\"\n",
      "        Epoch: 38, \n",
      "        Average Train Loss: 0.1243 |\n",
      "        Average Test Loss: 0.0966 |\n",
      "        Average Test mIoU: 80.00\n",
      "        Average Test Accuracy: 91.71015930175781\n"
     ]
    },
    {
     "name": "stderr",
     "output_type": "stream",
     "text": [
      "Train/Epoch 39/150: 100%|███████████████████████████████████████████████████████████| 104/104 [00:06<00:00, 15.53img/s]\n",
      "Eval/Epoch 39/150: 100%|██████████████████████████████████████████████████████████████| 27/27 [00:03<00:00,  8.96img/s]\n"
     ]
    },
    {
     "name": "stdout",
     "output_type": "stream",
     "text": [
      "\"\n",
      "        Epoch: 39, \n",
      "        Average Train Loss: 0.0945 |\n",
      "        Average Test Loss: 0.0610 |\n",
      "        Average Test mIoU: 87.93\n",
      "        Average Test Accuracy: 96.03462219238281\n",
      "Checkpoint: VGGUnet16_Segmentation_best is saved successfully\n"
     ]
    },
    {
     "name": "stderr",
     "output_type": "stream",
     "text": [
      "Train/Epoch 40/150: 100%|███████████████████████████████████████████████████████████| 104/104 [00:06<00:00, 15.13img/s]\n",
      "Eval/Epoch 40/150: 100%|██████████████████████████████████████████████████████████████| 27/27 [00:03<00:00,  9.00img/s]\n"
     ]
    },
    {
     "name": "stdout",
     "output_type": "stream",
     "text": [
      "\"\n",
      "        Epoch: 40, \n",
      "        Average Train Loss: 0.0792 |\n",
      "        Average Test Loss: 0.0625 |\n",
      "        Average Test mIoU: 86.39\n",
      "        Average Test Accuracy: 95.05132293701172\n"
     ]
    },
    {
     "name": "stderr",
     "output_type": "stream",
     "text": [
      "Train/Epoch 41/150: 100%|███████████████████████████████████████████████████████████| 104/104 [00:06<00:00, 15.16img/s]\n",
      "Eval/Epoch 41/150: 100%|██████████████████████████████████████████████████████████████| 27/27 [00:03<00:00,  8.81img/s]\n"
     ]
    },
    {
     "name": "stdout",
     "output_type": "stream",
     "text": [
      "\"\n",
      "        Epoch: 41, \n",
      "        Average Train Loss: 0.0895 |\n",
      "        Average Test Loss: 0.0611 |\n",
      "        Average Test mIoU: 87.74\n",
      "        Average Test Accuracy: 95.76950073242188\n"
     ]
    },
    {
     "name": "stderr",
     "output_type": "stream",
     "text": [
      "Train/Epoch 42/150: 100%|███████████████████████████████████████████████████████████| 104/104 [00:06<00:00, 15.48img/s]\n",
      "Eval/Epoch 42/150: 100%|██████████████████████████████████████████████████████████████| 27/27 [00:03<00:00,  8.86img/s]\n"
     ]
    },
    {
     "name": "stdout",
     "output_type": "stream",
     "text": [
      "\"\n",
      "        Epoch: 42, \n",
      "        Average Train Loss: 0.0755 |\n",
      "        Average Test Loss: 0.0619 |\n",
      "        Average Test mIoU: 87.40\n",
      "        Average Test Accuracy: 97.01665496826172\n"
     ]
    },
    {
     "name": "stderr",
     "output_type": "stream",
     "text": [
      "Train/Epoch 43/150: 100%|███████████████████████████████████████████████████████████| 104/104 [00:07<00:00, 14.85img/s]\n",
      "Eval/Epoch 43/150: 100%|██████████████████████████████████████████████████████████████| 27/27 [00:03<00:00,  8.51img/s]\n"
     ]
    },
    {
     "name": "stdout",
     "output_type": "stream",
     "text": [
      "\"\n",
      "        Epoch: 43, \n",
      "        Average Train Loss: 0.0714 |\n",
      "        Average Test Loss: 0.0703 |\n",
      "        Average Test mIoU: 85.85\n",
      "        Average Test Accuracy: 96.21467590332031\n"
     ]
    },
    {
     "name": "stderr",
     "output_type": "stream",
     "text": [
      "Train/Epoch 44/150: 100%|███████████████████████████████████████████████████████████| 104/104 [00:06<00:00, 15.26img/s]\n",
      "Eval/Epoch 44/150: 100%|██████████████████████████████████████████████████████████████| 27/27 [00:09<00:00,  2.87img/s]\n"
     ]
    },
    {
     "name": "stdout",
     "output_type": "stream",
     "text": [
      "\"\n",
      "        Epoch: 44, \n",
      "        Average Train Loss: 0.0705 |\n",
      "        Average Test Loss: 0.0515 |\n",
      "        Average Test mIoU: 89.30\n",
      "        Average Test Accuracy: 97.39189147949219\n",
      "Checkpoint: VGGUnet16_Segmentation_best is saved successfully\n"
     ]
    },
    {
     "name": "stderr",
     "output_type": "stream",
     "text": [
      "Train/Epoch 45/150: 100%|███████████████████████████████████████████████████████████| 104/104 [00:06<00:00, 15.65img/s]\n",
      "Eval/Epoch 45/150: 100%|██████████████████████████████████████████████████████████████| 27/27 [00:03<00:00,  8.99img/s]\n"
     ]
    },
    {
     "name": "stdout",
     "output_type": "stream",
     "text": [
      "\"\n",
      "        Epoch: 45, \n",
      "        Average Train Loss: 0.0773 |\n",
      "        Average Test Loss: 0.0566 |\n",
      "        Average Test mIoU: 87.96\n",
      "        Average Test Accuracy: 96.2212905883789\n"
     ]
    },
    {
     "name": "stderr",
     "output_type": "stream",
     "text": [
      "Train/Epoch 46/150: 100%|███████████████████████████████████████████████████████████| 104/104 [00:06<00:00, 15.47img/s]\n",
      "Eval/Epoch 46/150: 100%|██████████████████████████████████████████████████████████████| 27/27 [00:03<00:00,  8.81img/s]\n"
     ]
    },
    {
     "name": "stdout",
     "output_type": "stream",
     "text": [
      "\"\n",
      "        Epoch: 46, \n",
      "        Average Train Loss: 0.0691 |\n",
      "        Average Test Loss: 0.0474 |\n",
      "        Average Test mIoU: 89.73\n",
      "        Average Test Accuracy: 97.00164794921875\n",
      "Checkpoint: VGGUnet16_Segmentation_best is saved successfully\n"
     ]
    },
    {
     "name": "stderr",
     "output_type": "stream",
     "text": [
      "Train/Epoch 47/150: 100%|███████████████████████████████████████████████████████████| 104/104 [00:06<00:00, 15.51img/s]\n",
      "Eval/Epoch 47/150: 100%|██████████████████████████████████████████████████████████████| 27/27 [00:02<00:00,  9.14img/s]\n"
     ]
    },
    {
     "name": "stdout",
     "output_type": "stream",
     "text": [
      "\"\n",
      "        Epoch: 47, \n",
      "        Average Train Loss: 0.0603 |\n",
      "        Average Test Loss: 0.0433 |\n",
      "        Average Test mIoU: 90.82\n",
      "        Average Test Accuracy: 97.88907623291016\n",
      "Checkpoint: VGGUnet16_Segmentation_best is saved successfully\n"
     ]
    },
    {
     "name": "stderr",
     "output_type": "stream",
     "text": [
      "Train/Epoch 48/150: 100%|███████████████████████████████████████████████████████████| 104/104 [00:06<00:00, 15.61img/s]\n",
      "Eval/Epoch 48/150: 100%|██████████████████████████████████████████████████████████████| 27/27 [00:03<00:00,  8.81img/s]\n"
     ]
    },
    {
     "name": "stdout",
     "output_type": "stream",
     "text": [
      "\"\n",
      "        Epoch: 48, \n",
      "        Average Train Loss: 0.0815 |\n",
      "        Average Test Loss: 0.0526 |\n",
      "        Average Test mIoU: 88.55\n",
      "        Average Test Accuracy: 96.25079345703125\n"
     ]
    },
    {
     "name": "stderr",
     "output_type": "stream",
     "text": [
      "Train/Epoch 49/150: 100%|███████████████████████████████████████████████████████████| 104/104 [00:06<00:00, 15.51img/s]\n",
      "Eval/Epoch 49/150: 100%|██████████████████████████████████████████████████████████████| 27/27 [00:02<00:00,  9.05img/s]\n"
     ]
    },
    {
     "name": "stdout",
     "output_type": "stream",
     "text": [
      "\"\n",
      "        Epoch: 49, \n",
      "        Average Train Loss: 0.0778 |\n",
      "        Average Test Loss: 0.0510 |\n",
      "        Average Test mIoU: 89.53\n",
      "        Average Test Accuracy: 97.56610107421875\n"
     ]
    },
    {
     "name": "stderr",
     "output_type": "stream",
     "text": [
      "Train/Epoch 50/150: 100%|███████████████████████████████████████████████████████████| 104/104 [00:06<00:00, 15.13img/s]\n",
      "Eval/Epoch 50/150: 100%|██████████████████████████████████████████████████████████████| 27/27 [00:02<00:00,  9.04img/s]\n"
     ]
    },
    {
     "name": "stdout",
     "output_type": "stream",
     "text": [
      "\"\n",
      "        Epoch: 50, \n",
      "        Average Train Loss: 0.0683 |\n",
      "        Average Test Loss: 0.0546 |\n",
      "        Average Test mIoU: 89.69\n",
      "        Average Test Accuracy: 96.0942611694336\n"
     ]
    },
    {
     "name": "stderr",
     "output_type": "stream",
     "text": [
      "Train/Epoch 51/150: 100%|███████████████████████████████████████████████████████████| 104/104 [00:06<00:00, 15.58img/s]\n",
      "Eval/Epoch 51/150: 100%|██████████████████████████████████████████████████████████████| 27/27 [00:03<00:00,  9.00img/s]\n"
     ]
    },
    {
     "name": "stdout",
     "output_type": "stream",
     "text": [
      "\"\n",
      "        Epoch: 51, \n",
      "        Average Train Loss: 0.0658 |\n",
      "        Average Test Loss: 0.0449 |\n",
      "        Average Test mIoU: 91.53\n",
      "        Average Test Accuracy: 97.8179931640625\n",
      "Checkpoint: VGGUnet16_Segmentation_best is saved successfully\n"
     ]
    },
    {
     "name": "stderr",
     "output_type": "stream",
     "text": [
      "Train/Epoch 52/150: 100%|███████████████████████████████████████████████████████████| 104/104 [00:06<00:00, 15.19img/s]\n",
      "Eval/Epoch 52/150: 100%|██████████████████████████████████████████████████████████████| 27/27 [00:03<00:00,  8.95img/s]\n"
     ]
    },
    {
     "name": "stdout",
     "output_type": "stream",
     "text": [
      "\"\n",
      "        Epoch: 52, \n",
      "        Average Train Loss: 0.0614 |\n",
      "        Average Test Loss: 0.0489 |\n",
      "        Average Test mIoU: 89.13\n",
      "        Average Test Accuracy: 95.31440734863281\n"
     ]
    },
    {
     "name": "stderr",
     "output_type": "stream",
     "text": [
      "Train/Epoch 53/150: 100%|███████████████████████████████████████████████████████████| 104/104 [00:06<00:00, 15.47img/s]\n",
      "Eval/Epoch 53/150: 100%|██████████████████████████████████████████████████████████████| 27/27 [00:03<00:00,  8.90img/s]\n"
     ]
    },
    {
     "name": "stdout",
     "output_type": "stream",
     "text": [
      "\"\n",
      "        Epoch: 53, \n",
      "        Average Train Loss: 0.0693 |\n",
      "        Average Test Loss: 0.0575 |\n",
      "        Average Test mIoU: 87.87\n",
      "        Average Test Accuracy: 95.90263366699219\n"
     ]
    },
    {
     "name": "stderr",
     "output_type": "stream",
     "text": [
      "Train/Epoch 54/150: 100%|███████████████████████████████████████████████████████████| 104/104 [00:06<00:00, 15.47img/s]\n",
      "Eval/Epoch 54/150: 100%|██████████████████████████████████████████████████████████████| 27/27 [00:02<00:00,  9.04img/s]\n"
     ]
    },
    {
     "name": "stdout",
     "output_type": "stream",
     "text": [
      "\"\n",
      "        Epoch: 54, \n",
      "        Average Train Loss: 0.0653 |\n",
      "        Average Test Loss: 0.0447 |\n",
      "        Average Test mIoU: 90.56\n",
      "        Average Test Accuracy: 97.91476440429688\n"
     ]
    },
    {
     "name": "stderr",
     "output_type": "stream",
     "text": [
      "Train/Epoch 55/150: 100%|███████████████████████████████████████████████████████████| 104/104 [00:06<00:00, 15.58img/s]\n",
      "Eval/Epoch 55/150: 100%|██████████████████████████████████████████████████████████████| 27/27 [00:03<00:00,  8.81img/s]\n"
     ]
    },
    {
     "name": "stdout",
     "output_type": "stream",
     "text": [
      "\"\n",
      "        Epoch: 55, \n",
      "        Average Train Loss: 0.0657 |\n",
      "        Average Test Loss: 0.0473 |\n",
      "        Average Test mIoU: 90.16\n",
      "        Average Test Accuracy: 97.30072021484375\n"
     ]
    },
    {
     "name": "stderr",
     "output_type": "stream",
     "text": [
      "Train/Epoch 56/150: 100%|███████████████████████████████████████████████████████████| 104/104 [00:06<00:00, 15.47img/s]\n",
      "Eval/Epoch 56/150: 100%|██████████████████████████████████████████████████████████████| 27/27 [00:03<00:00,  8.86img/s]\n"
     ]
    },
    {
     "name": "stdout",
     "output_type": "stream",
     "text": [
      "\"\n",
      "        Epoch: 56, \n",
      "        Average Train Loss: 0.0668 |\n",
      "        Average Test Loss: 0.0443 |\n",
      "        Average Test mIoU: 89.77\n",
      "        Average Test Accuracy: 97.58186340332031\n"
     ]
    },
    {
     "name": "stderr",
     "output_type": "stream",
     "text": [
      "Train/Epoch 57/150: 100%|███████████████████████████████████████████████████████████| 104/104 [00:06<00:00, 15.69img/s]\n",
      "Eval/Epoch 57/150: 100%|██████████████████████████████████████████████████████████████| 27/27 [00:03<00:00,  8.90img/s]\n"
     ]
    },
    {
     "name": "stdout",
     "output_type": "stream",
     "text": [
      "\"\n",
      "        Epoch: 57, \n",
      "        Average Train Loss: 0.0601 |\n",
      "        Average Test Loss: 0.0495 |\n",
      "        Average Test mIoU: 90.31\n",
      "        Average Test Accuracy: 97.62916564941406\n"
     ]
    },
    {
     "name": "stderr",
     "output_type": "stream",
     "text": [
      "Train/Epoch 58/150: 100%|███████████████████████████████████████████████████████████| 104/104 [00:06<00:00, 15.47img/s]\n",
      "Eval/Epoch 58/150: 100%|██████████████████████████████████████████████████████████████| 27/27 [00:03<00:00,  8.81img/s]\n"
     ]
    },
    {
     "name": "stdout",
     "output_type": "stream",
     "text": [
      "\"\n",
      "        Epoch: 58, \n",
      "        Average Train Loss: 0.0615 |\n",
      "        Average Test Loss: 0.0395 |\n",
      "        Average Test mIoU: 91.74\n",
      "        Average Test Accuracy: 97.41973876953125\n",
      "Checkpoint: VGGUnet16_Segmentation_best is saved successfully\n"
     ]
    },
    {
     "name": "stderr",
     "output_type": "stream",
     "text": [
      "Train/Epoch 59/150: 100%|███████████████████████████████████████████████████████████| 104/104 [00:06<00:00, 15.69img/s]\n",
      "Eval/Epoch 59/150: 100%|██████████████████████████████████████████████████████████████| 27/27 [00:03<00:00,  8.86img/s]\n"
     ]
    },
    {
     "name": "stdout",
     "output_type": "stream",
     "text": [
      "\"\n",
      "        Epoch: 59, \n",
      "        Average Train Loss: 0.0630 |\n",
      "        Average Test Loss: 0.0458 |\n",
      "        Average Test mIoU: 90.10\n",
      "        Average Test Accuracy: 97.29537963867188\n"
     ]
    },
    {
     "name": "stderr",
     "output_type": "stream",
     "text": [
      "Train/Epoch 60/150: 100%|███████████████████████████████████████████████████████████| 104/104 [00:06<00:00, 15.51img/s]\n",
      "Eval/Epoch 60/150: 100%|██████████████████████████████████████████████████████████████| 27/27 [00:03<00:00,  8.90img/s]\n"
     ]
    },
    {
     "name": "stdout",
     "output_type": "stream",
     "text": [
      "\"\n",
      "        Epoch: 60, \n",
      "        Average Train Loss: 0.0630 |\n",
      "        Average Test Loss: 0.0395 |\n",
      "        Average Test mIoU: 92.24\n",
      "        Average Test Accuracy: 98.11961364746094\n",
      "Checkpoint: VGGUnet16_Segmentation_best is saved successfully\n"
     ]
    },
    {
     "name": "stderr",
     "output_type": "stream",
     "text": [
      "Train/Epoch 61/150: 100%|███████████████████████████████████████████████████████████| 104/104 [00:06<00:00, 15.47img/s]\n",
      "Eval/Epoch 61/150: 100%|██████████████████████████████████████████████████████████████| 27/27 [00:03<00:00,  8.95img/s]\n"
     ]
    },
    {
     "name": "stdout",
     "output_type": "stream",
     "text": [
      "\"\n",
      "        Epoch: 61, \n",
      "        Average Train Loss: 0.0635 |\n",
      "        Average Test Loss: 0.0463 |\n",
      "        Average Test mIoU: 89.85\n",
      "        Average Test Accuracy: 96.77340698242188\n"
     ]
    },
    {
     "name": "stderr",
     "output_type": "stream",
     "text": [
      "Train/Epoch 62/150: 100%|███████████████████████████████████████████████████████████| 104/104 [00:06<00:00, 15.43img/s]\n",
      "Eval/Epoch 62/150: 100%|██████████████████████████████████████████████████████████████| 27/27 [00:02<00:00,  9.04img/s]\n"
     ]
    },
    {
     "name": "stdout",
     "output_type": "stream",
     "text": [
      "\"\n",
      "        Epoch: 62, \n",
      "        Average Train Loss: 0.0556 |\n",
      "        Average Test Loss: 0.0377 |\n",
      "        Average Test mIoU: 92.11\n",
      "        Average Test Accuracy: 97.91043853759766\n"
     ]
    },
    {
     "name": "stderr",
     "output_type": "stream",
     "text": [
      "Train/Epoch 63/150: 100%|███████████████████████████████████████████████████████████| 104/104 [00:06<00:00, 15.54img/s]\n",
      "Eval/Epoch 63/150: 100%|██████████████████████████████████████████████████████████████| 27/27 [00:03<00:00,  8.77img/s]\n"
     ]
    },
    {
     "name": "stdout",
     "output_type": "stream",
     "text": [
      "\"\n",
      "        Epoch: 63, \n",
      "        Average Train Loss: 0.0545 |\n",
      "        Average Test Loss: 0.0472 |\n",
      "        Average Test mIoU: 90.51\n",
      "        Average Test Accuracy: 97.3229751586914\n"
     ]
    },
    {
     "name": "stderr",
     "output_type": "stream",
     "text": [
      "Train/Epoch 64/150: 100%|███████████████████████████████████████████████████████████| 104/104 [00:06<00:00, 15.55img/s]\n",
      "Eval/Epoch 64/150: 100%|██████████████████████████████████████████████████████████████| 27/27 [00:03<00:00,  8.81img/s]\n"
     ]
    },
    {
     "name": "stdout",
     "output_type": "stream",
     "text": [
      "\"\n",
      "        Epoch: 64, \n",
      "        Average Train Loss: 0.0754 |\n",
      "        Average Test Loss: 0.0631 |\n",
      "        Average Test mIoU: 85.82\n",
      "        Average Test Accuracy: 94.25914001464844\n"
     ]
    },
    {
     "name": "stderr",
     "output_type": "stream",
     "text": [
      "Train/Epoch 65/150: 100%|███████████████████████████████████████████████████████████| 104/104 [00:06<00:00, 15.51img/s]\n",
      "Eval/Epoch 65/150: 100%|██████████████████████████████████████████████████████████████| 27/27 [00:03<00:00,  8.86img/s]\n"
     ]
    },
    {
     "name": "stdout",
     "output_type": "stream",
     "text": [
      "\"\n",
      "        Epoch: 65, \n",
      "        Average Train Loss: 0.0624 |\n",
      "        Average Test Loss: 0.0600 |\n",
      "        Average Test mIoU: 87.31\n",
      "        Average Test Accuracy: 96.06845092773438\n"
     ]
    },
    {
     "name": "stderr",
     "output_type": "stream",
     "text": [
      "Train/Epoch 66/150: 100%|███████████████████████████████████████████████████████████| 104/104 [00:06<00:00, 15.73img/s]\n",
      "Eval/Epoch 66/150: 100%|██████████████████████████████████████████████████████████████| 27/27 [00:03<00:00,  8.86img/s]\n"
     ]
    },
    {
     "name": "stdout",
     "output_type": "stream",
     "text": [
      "\"\n",
      "        Epoch: 66, \n",
      "        Average Train Loss: 0.0566 |\n",
      "        Average Test Loss: 0.0442 |\n",
      "        Average Test mIoU: 90.53\n",
      "        Average Test Accuracy: 96.63874816894531\n"
     ]
    },
    {
     "name": "stderr",
     "output_type": "stream",
     "text": [
      "Train/Epoch 67/150: 100%|███████████████████████████████████████████████████████████| 104/104 [00:06<00:00, 15.51img/s]\n",
      "Eval/Epoch 67/150: 100%|██████████████████████████████████████████████████████████████| 27/27 [00:03<00:00,  8.86img/s]\n"
     ]
    },
    {
     "name": "stdout",
     "output_type": "stream",
     "text": [
      "\"\n",
      "        Epoch: 67, \n",
      "        Average Train Loss: 0.0537 |\n",
      "        Average Test Loss: 0.0384 |\n",
      "        Average Test mIoU: 91.81\n",
      "        Average Test Accuracy: 97.45915985107422\n"
     ]
    },
    {
     "name": "stderr",
     "output_type": "stream",
     "text": [
      "Train/Epoch 68/150: 100%|███████████████████████████████████████████████████████████| 104/104 [00:06<00:00, 15.51img/s]\n",
      "Eval/Epoch 68/150: 100%|██████████████████████████████████████████████████████████████| 27/27 [00:02<00:00,  9.09img/s]\n"
     ]
    },
    {
     "name": "stdout",
     "output_type": "stream",
     "text": [
      "\"\n",
      "        Epoch: 68, \n",
      "        Average Train Loss: 0.0575 |\n",
      "        Average Test Loss: 0.0374 |\n",
      "        Average Test mIoU: 92.16\n",
      "        Average Test Accuracy: 98.18942260742188\n"
     ]
    },
    {
     "name": "stderr",
     "output_type": "stream",
     "text": [
      "Train/Epoch 69/150: 100%|███████████████████████████████████████████████████████████| 104/104 [00:06<00:00, 15.47img/s]\n",
      "Eval/Epoch 69/150: 100%|██████████████████████████████████████████████████████████████| 27/27 [00:03<00:00,  8.76img/s]\n"
     ]
    },
    {
     "name": "stdout",
     "output_type": "stream",
     "text": [
      "\"\n",
      "        Epoch: 69, \n",
      "        Average Train Loss: 0.0528 |\n",
      "        Average Test Loss: 0.0418 |\n",
      "        Average Test mIoU: 90.62\n",
      "        Average Test Accuracy: 98.01127624511719\n"
     ]
    },
    {
     "name": "stderr",
     "output_type": "stream",
     "text": [
      "Train/Epoch 70/150: 100%|███████████████████████████████████████████████████████████| 104/104 [00:06<00:00, 15.51img/s]\n",
      "Eval/Epoch 70/150: 100%|██████████████████████████████████████████████████████████████| 27/27 [00:02<00:00,  9.04img/s]\n"
     ]
    },
    {
     "name": "stdout",
     "output_type": "stream",
     "text": [
      "\"\n",
      "        Epoch: 70, \n",
      "        Average Train Loss: 0.0547 |\n",
      "        Average Test Loss: 0.0426 |\n",
      "        Average Test mIoU: 91.74\n",
      "        Average Test Accuracy: 98.45403289794922\n"
     ]
    },
    {
     "name": "stderr",
     "output_type": "stream",
     "text": [
      "Train/Epoch 71/150: 100%|███████████████████████████████████████████████████████████| 104/104 [00:06<00:00, 15.51img/s]\n",
      "Eval/Epoch 71/150: 100%|██████████████████████████████████████████████████████████████| 27/27 [00:03<00:00,  8.91img/s]\n"
     ]
    },
    {
     "name": "stdout",
     "output_type": "stream",
     "text": [
      "\"\n",
      "        Epoch: 71, \n",
      "        Average Train Loss: 0.0511 |\n",
      "        Average Test Loss: 0.0333 |\n",
      "        Average Test mIoU: 93.13\n",
      "        Average Test Accuracy: 98.79226684570312\n",
      "Checkpoint: VGGUnet16_Segmentation_best is saved successfully\n"
     ]
    },
    {
     "name": "stderr",
     "output_type": "stream",
     "text": [
      "Train/Epoch 72/150: 100%|███████████████████████████████████████████████████████████| 104/104 [00:06<00:00, 15.29img/s]\n",
      "Eval/Epoch 72/150: 100%|██████████████████████████████████████████████████████████████| 27/27 [00:03<00:00,  8.77img/s]\n"
     ]
    },
    {
     "name": "stdout",
     "output_type": "stream",
     "text": [
      "\"\n",
      "        Epoch: 72, \n",
      "        Average Train Loss: 0.0510 |\n",
      "        Average Test Loss: 0.0370 |\n",
      "        Average Test mIoU: 92.72\n",
      "        Average Test Accuracy: 98.52765655517578\n"
     ]
    },
    {
     "name": "stderr",
     "output_type": "stream",
     "text": [
      "Train/Epoch 73/150: 100%|███████████████████████████████████████████████████████████| 104/104 [00:06<00:00, 15.51img/s]\n",
      "Eval/Epoch 73/150: 100%|██████████████████████████████████████████████████████████████| 27/27 [00:03<00:00,  8.99img/s]\n"
     ]
    },
    {
     "name": "stdout",
     "output_type": "stream",
     "text": [
      "\"\n",
      "        Epoch: 73, \n",
      "        Average Train Loss: 0.0506 |\n",
      "        Average Test Loss: 0.0320 |\n",
      "        Average Test mIoU: 93.40\n",
      "        Average Test Accuracy: 98.92387390136719\n",
      "Checkpoint: VGGUnet16_Segmentation_best is saved successfully\n"
     ]
    },
    {
     "name": "stderr",
     "output_type": "stream",
     "text": [
      "Train/Epoch 74/150: 100%|███████████████████████████████████████████████████████████| 104/104 [00:06<00:00, 15.47img/s]\n",
      "Eval/Epoch 74/150: 100%|██████████████████████████████████████████████████████████████| 27/27 [00:03<00:00,  8.86img/s]\n"
     ]
    },
    {
     "name": "stdout",
     "output_type": "stream",
     "text": [
      "\"\n",
      "        Epoch: 74, \n",
      "        Average Train Loss: 0.0421 |\n",
      "        Average Test Loss: 0.0351 |\n",
      "        Average Test mIoU: 92.06\n",
      "        Average Test Accuracy: 98.47679138183594\n"
     ]
    },
    {
     "name": "stderr",
     "output_type": "stream",
     "text": [
      "Train/Epoch 75/150: 100%|███████████████████████████████████████████████████████████| 104/104 [00:06<00:00, 15.47img/s]\n",
      "Eval/Epoch 75/150: 100%|██████████████████████████████████████████████████████████████| 27/27 [00:02<00:00,  9.05img/s]\n"
     ]
    },
    {
     "name": "stdout",
     "output_type": "stream",
     "text": [
      "\"\n",
      "        Epoch: 75, \n",
      "        Average Train Loss: 0.0465 |\n",
      "        Average Test Loss: 0.0359 |\n",
      "        Average Test mIoU: 92.71\n",
      "        Average Test Accuracy: 98.9404067993164\n"
     ]
    },
    {
     "name": "stderr",
     "output_type": "stream",
     "text": [
      "Train/Epoch 76/150: 100%|███████████████████████████████████████████████████████████| 104/104 [00:06<00:00, 15.55img/s]\n",
      "Eval/Epoch 76/150: 100%|██████████████████████████████████████████████████████████████| 27/27 [00:03<00:00,  8.90img/s]\n"
     ]
    },
    {
     "name": "stdout",
     "output_type": "stream",
     "text": [
      "\"\n",
      "        Epoch: 76, \n",
      "        Average Train Loss: 0.0483 |\n",
      "        Average Test Loss: 0.0332 |\n",
      "        Average Test mIoU: 92.70\n",
      "        Average Test Accuracy: 98.38180541992188\n"
     ]
    },
    {
     "name": "stderr",
     "output_type": "stream",
     "text": [
      "Train/Epoch 77/150: 100%|███████████████████████████████████████████████████████████| 104/104 [00:06<00:00, 15.51img/s]\n",
      "Eval/Epoch 77/150: 100%|██████████████████████████████████████████████████████████████| 27/27 [00:03<00:00,  8.81img/s]\n"
     ]
    },
    {
     "name": "stdout",
     "output_type": "stream",
     "text": [
      "\"\n",
      "        Epoch: 77, \n",
      "        Average Train Loss: 0.0481 |\n",
      "        Average Test Loss: 0.0385 |\n",
      "        Average Test mIoU: 92.61\n",
      "        Average Test Accuracy: 98.97982788085938\n"
     ]
    },
    {
     "name": "stderr",
     "output_type": "stream",
     "text": [
      "Train/Epoch 78/150: 100%|███████████████████████████████████████████████████████████| 104/104 [00:06<00:00, 15.44img/s]\n",
      "Eval/Epoch 78/150: 100%|██████████████████████████████████████████████████████████████| 27/27 [00:03<00:00,  8.86img/s]\n"
     ]
    },
    {
     "name": "stdout",
     "output_type": "stream",
     "text": [
      "\"\n",
      "        Epoch: 78, \n",
      "        Average Train Loss: 0.0488 |\n",
      "        Average Test Loss: 0.0361 |\n",
      "        Average Test mIoU: 92.11\n",
      "        Average Test Accuracy: 98.19476318359375\n"
     ]
    },
    {
     "name": "stderr",
     "output_type": "stream",
     "text": [
      "Train/Epoch 79/150: 100%|███████████████████████████████████████████████████████████| 104/104 [00:06<00:00, 15.47img/s]\n",
      "Eval/Epoch 79/150: 100%|██████████████████████████████████████████████████████████████| 27/27 [00:03<00:00,  9.00img/s]\n"
     ]
    },
    {
     "name": "stdout",
     "output_type": "stream",
     "text": [
      "\"\n",
      "        Epoch: 79, \n",
      "        Average Train Loss: 0.0464 |\n",
      "        Average Test Loss: 0.0349 |\n",
      "        Average Test mIoU: 92.44\n",
      "        Average Test Accuracy: 98.4319076538086\n"
     ]
    },
    {
     "name": "stderr",
     "output_type": "stream",
     "text": [
      "Train/Epoch 80/150: 100%|███████████████████████████████████████████████████████████| 104/104 [00:06<00:00, 15.54img/s]\n",
      "Eval/Epoch 80/150: 100%|██████████████████████████████████████████████████████████████| 27/27 [00:03<00:00,  8.85img/s]\n"
     ]
    },
    {
     "name": "stdout",
     "output_type": "stream",
     "text": [
      "\"\n",
      "        Epoch: 80, \n",
      "        Average Train Loss: 0.0499 |\n",
      "        Average Test Loss: 0.0383 |\n",
      "        Average Test mIoU: 92.20\n",
      "        Average Test Accuracy: 98.40431213378906\n"
     ]
    },
    {
     "name": "stderr",
     "output_type": "stream",
     "text": [
      "Train/Epoch 81/150: 100%|███████████████████████████████████████████████████████████| 104/104 [00:06<00:00, 15.47img/s]\n",
      "Eval/Epoch 81/150: 100%|██████████████████████████████████████████████████████████████| 27/27 [00:03<00:00,  8.81img/s]\n"
     ]
    },
    {
     "name": "stdout",
     "output_type": "stream",
     "text": [
      "\"\n",
      "        Epoch: 81, \n",
      "        Average Train Loss: 0.0485 |\n",
      "        Average Test Loss: 0.0403 |\n",
      "        Average Test mIoU: 91.27\n",
      "        Average Test Accuracy: 97.82333374023438\n"
     ]
    },
    {
     "name": "stderr",
     "output_type": "stream",
     "text": [
      "Train/Epoch 82/150: 100%|███████████████████████████████████████████████████████████| 104/104 [00:06<00:00, 15.48img/s]\n",
      "Eval/Epoch 82/150: 100%|██████████████████████████████████████████████████████████████| 27/27 [00:03<00:00,  8.81img/s]\n"
     ]
    },
    {
     "name": "stdout",
     "output_type": "stream",
     "text": [
      "\"\n",
      "        Epoch: 82, \n",
      "        Average Train Loss: 0.0439 |\n",
      "        Average Test Loss: 0.0357 |\n",
      "        Average Test mIoU: 92.71\n",
      "        Average Test Accuracy: 98.39541625976562\n"
     ]
    },
    {
     "name": "stderr",
     "output_type": "stream",
     "text": [
      "Train/Epoch 83/150: 100%|███████████████████████████████████████████████████████████| 104/104 [00:06<00:00, 15.51img/s]\n",
      "Eval/Epoch 83/150: 100%|██████████████████████████████████████████████████████████████| 27/27 [00:03<00:00,  8.81img/s]\n"
     ]
    },
    {
     "name": "stdout",
     "output_type": "stream",
     "text": [
      "\"\n",
      "        Epoch: 83, \n",
      "        Average Train Loss: 0.0449 |\n",
      "        Average Test Loss: 0.0363 |\n",
      "        Average Test mIoU: 92.79\n",
      "        Average Test Accuracy: 98.80269622802734\n"
     ]
    },
    {
     "name": "stderr",
     "output_type": "stream",
     "text": [
      "Train/Epoch 84/150: 100%|███████████████████████████████████████████████████████████| 104/104 [00:06<00:00, 15.48img/s]\n",
      "Eval/Epoch 84/150: 100%|██████████████████████████████████████████████████████████████| 27/27 [00:03<00:00,  8.86img/s]\n"
     ]
    },
    {
     "name": "stdout",
     "output_type": "stream",
     "text": [
      "\"\n",
      "        Epoch: 84, \n",
      "        Average Train Loss: 0.0434 |\n",
      "        Average Test Loss: 0.0356 |\n",
      "        Average Test mIoU: 92.38\n",
      "        Average Test Accuracy: 97.65205383300781\n"
     ]
    },
    {
     "name": "stderr",
     "output_type": "stream",
     "text": [
      "Train/Epoch 85/150: 100%|███████████████████████████████████████████████████████████| 104/104 [00:06<00:00, 15.44img/s]\n",
      "Eval/Epoch 85/150: 100%|██████████████████████████████████████████████████████████████| 27/27 [00:03<00:00,  8.95img/s]\n"
     ]
    },
    {
     "name": "stdout",
     "output_type": "stream",
     "text": [
      "\"\n",
      "        Epoch: 85, \n",
      "        Average Train Loss: 0.0464 |\n",
      "        Average Test Loss: 0.0421 |\n",
      "        Average Test mIoU: 90.72\n",
      "        Average Test Accuracy: 97.89250946044922\n"
     ]
    },
    {
     "name": "stderr",
     "output_type": "stream",
     "text": [
      "Train/Epoch 86/150: 100%|███████████████████████████████████████████████████████████| 104/104 [00:06<00:00, 15.47img/s]\n",
      "Eval/Epoch 86/150: 100%|██████████████████████████████████████████████████████████████| 27/27 [00:03<00:00,  8.90img/s]\n"
     ]
    },
    {
     "name": "stdout",
     "output_type": "stream",
     "text": [
      "\"\n",
      "        Epoch: 86, \n",
      "        Average Train Loss: 0.0453 |\n",
      "        Average Test Loss: 0.0410 |\n",
      "        Average Test mIoU: 90.92\n",
      "        Average Test Accuracy: 98.1194839477539\n"
     ]
    },
    {
     "name": "stderr",
     "output_type": "stream",
     "text": [
      "Train/Epoch 87/150: 100%|███████████████████████████████████████████████████████████| 104/104 [00:06<00:00, 15.33img/s]\n",
      "Eval/Epoch 87/150: 100%|██████████████████████████████████████████████████████████████| 27/27 [00:03<00:00,  8.95img/s]\n"
     ]
    },
    {
     "name": "stdout",
     "output_type": "stream",
     "text": [
      "\"\n",
      "        Epoch: 87, \n",
      "        Average Train Loss: 0.0461 |\n",
      "        Average Test Loss: 0.0410 |\n",
      "        Average Test mIoU: 91.55\n",
      "        Average Test Accuracy: 98.43368530273438\n"
     ]
    },
    {
     "name": "stderr",
     "output_type": "stream",
     "text": [
      "Train/Epoch 88/150: 100%|███████████████████████████████████████████████████████████| 104/104 [00:06<00:00, 15.47img/s]\n",
      "Eval/Epoch 88/150: 100%|██████████████████████████████████████████████████████████████| 27/27 [00:03<00:00,  8.77img/s]\n"
     ]
    },
    {
     "name": "stdout",
     "output_type": "stream",
     "text": [
      "\"\n",
      "        Epoch: 88, \n",
      "        Average Train Loss: 0.0464 |\n",
      "        Average Test Loss: 0.0336 |\n",
      "        Average Test mIoU: 92.64\n",
      "        Average Test Accuracy: 98.73237609863281\n"
     ]
    },
    {
     "name": "stderr",
     "output_type": "stream",
     "text": [
      "Train/Epoch 89/150: 100%|███████████████████████████████████████████████████████████| 104/104 [00:06<00:00, 15.47img/s]\n",
      "Eval/Epoch 89/150: 100%|██████████████████████████████████████████████████████████████| 27/27 [00:03<00:00,  8.90img/s]\n"
     ]
    },
    {
     "name": "stdout",
     "output_type": "stream",
     "text": [
      "\"\n",
      "        Epoch: 89, \n",
      "        Average Train Loss: 0.0429 |\n",
      "        Average Test Loss: 0.0369 |\n",
      "        Average Test mIoU: 91.83\n",
      "        Average Test Accuracy: 98.22108459472656\n"
     ]
    },
    {
     "name": "stderr",
     "output_type": "stream",
     "text": [
      "Train/Epoch 90/150: 100%|███████████████████████████████████████████████████████████| 104/104 [00:06<00:00, 15.19img/s]\n",
      "Eval/Epoch 90/150: 100%|██████████████████████████████████████████████████████████████| 27/27 [00:03<00:00,  8.63img/s]\n"
     ]
    },
    {
     "name": "stdout",
     "output_type": "stream",
     "text": [
      "\"\n",
      "        Epoch: 90, \n",
      "        Average Train Loss: 0.0437 |\n",
      "        Average Test Loss: 0.0378 |\n",
      "        Average Test mIoU: 92.17\n",
      "        Average Test Accuracy: 98.54545593261719\n"
     ]
    },
    {
     "name": "stderr",
     "output_type": "stream",
     "text": [
      "Train/Epoch 91/150: 100%|███████████████████████████████████████████████████████████| 104/104 [00:06<00:00, 15.16img/s]\n",
      "Eval/Epoch 91/150: 100%|██████████████████████████████████████████████████████████████| 27/27 [00:03<00:00,  8.81img/s]\n"
     ]
    },
    {
     "name": "stdout",
     "output_type": "stream",
     "text": [
      "\"\n",
      "        Epoch: 91, \n",
      "        Average Train Loss: 0.0461 |\n",
      "        Average Test Loss: 0.0337 |\n",
      "        Average Test mIoU: 93.01\n",
      "        Average Test Accuracy: 98.77803039550781\n"
     ]
    },
    {
     "name": "stderr",
     "output_type": "stream",
     "text": [
      "Train/Epoch 92/150: 100%|███████████████████████████████████████████████████████████| 104/104 [00:06<00:00, 15.40img/s]\n",
      "Eval/Epoch 92/150: 100%|██████████████████████████████████████████████████████████████| 27/27 [00:03<00:00,  8.77img/s]\n"
     ]
    },
    {
     "name": "stdout",
     "output_type": "stream",
     "text": [
      "\"\n",
      "        Epoch: 92, \n",
      "        Average Train Loss: 0.0421 |\n",
      "        Average Test Loss: 0.0369 |\n",
      "        Average Test mIoU: 92.77\n",
      "        Average Test Accuracy: 98.32369995117188\n"
     ]
    },
    {
     "name": "stderr",
     "output_type": "stream",
     "text": [
      "Train/Epoch 93/150: 100%|███████████████████████████████████████████████████████████| 104/104 [00:06<00:00, 15.47img/s]\n",
      "Eval/Epoch 93/150: 100%|██████████████████████████████████████████████████████████████| 27/27 [00:03<00:00,  8.86img/s]\n"
     ]
    },
    {
     "name": "stdout",
     "output_type": "stream",
     "text": [
      "\"\n",
      "        Epoch: 93, \n",
      "        Average Train Loss: 0.0398 |\n",
      "        Average Test Loss: 0.0446 |\n",
      "        Average Test mIoU: 91.40\n",
      "        Average Test Accuracy: 98.39617919921875\n"
     ]
    },
    {
     "name": "stderr",
     "output_type": "stream",
     "text": [
      "Train/Epoch 94/150: 100%|███████████████████████████████████████████████████████████| 104/104 [00:06<00:00, 15.58img/s]\n",
      "Eval/Epoch 94/150: 100%|██████████████████████████████████████████████████████████████| 27/27 [00:03<00:00,  8.86img/s]\n"
     ]
    },
    {
     "name": "stdout",
     "output_type": "stream",
     "text": [
      "\"\n",
      "        Epoch: 94, \n",
      "        Average Train Loss: 0.0418 |\n",
      "        Average Test Loss: 0.0378 |\n",
      "        Average Test mIoU: 93.32\n",
      "        Average Test Accuracy: 98.74000549316406\n"
     ]
    },
    {
     "name": "stderr",
     "output_type": "stream",
     "text": [
      "Train/Epoch 95/150: 100%|███████████████████████████████████████████████████████████| 104/104 [00:06<00:00, 15.37img/s]\n",
      "Eval/Epoch 95/150: 100%|██████████████████████████████████████████████████████████████| 27/27 [00:03<00:00,  8.95img/s]\n"
     ]
    },
    {
     "name": "stdout",
     "output_type": "stream",
     "text": [
      "\"\n",
      "        Epoch: 95, \n",
      "        Average Train Loss: 0.0403 |\n",
      "        Average Test Loss: 0.0300 |\n",
      "        Average Test mIoU: 93.76\n",
      "        Average Test Accuracy: 98.78680419921875\n",
      "Checkpoint: VGGUnet16_Segmentation_best is saved successfully\n"
     ]
    },
    {
     "name": "stderr",
     "output_type": "stream",
     "text": [
      "Train/Epoch 96/150: 100%|███████████████████████████████████████████████████████████| 104/104 [00:06<00:00, 15.16img/s]\n",
      "Eval/Epoch 96/150: 100%|██████████████████████████████████████████████████████████████| 27/27 [00:03<00:00,  8.72img/s]\n"
     ]
    },
    {
     "name": "stdout",
     "output_type": "stream",
     "text": [
      "\"\n",
      "        Epoch: 96, \n",
      "        Average Train Loss: 0.0360 |\n",
      "        Average Test Loss: 0.0289 |\n",
      "        Average Test mIoU: 93.76\n",
      "        Average Test Accuracy: 98.47590637207031\n",
      "Checkpoint: VGGUnet16_Segmentation_best is saved successfully\n"
     ]
    },
    {
     "name": "stderr",
     "output_type": "stream",
     "text": [
      "Train/Epoch 97/150: 100%|███████████████████████████████████████████████████████████| 104/104 [00:06<00:00, 15.47img/s]\n",
      "Eval/Epoch 97/150: 100%|██████████████████████████████████████████████████████████████| 27/27 [00:03<00:00,  9.00img/s]\n"
     ]
    },
    {
     "name": "stdout",
     "output_type": "stream",
     "text": [
      "\"\n",
      "        Epoch: 97, \n",
      "        Average Train Loss: 0.0364 |\n",
      "        Average Test Loss: 0.0285 |\n",
      "        Average Test mIoU: 93.90\n",
      "        Average Test Accuracy: 98.7450942993164\n",
      "Checkpoint: VGGUnet16_Segmentation_best is saved successfully\n"
     ]
    },
    {
     "name": "stderr",
     "output_type": "stream",
     "text": [
      "Train/Epoch 98/150: 100%|███████████████████████████████████████████████████████████| 104/104 [00:06<00:00, 15.55img/s]\n",
      "Eval/Epoch 98/150: 100%|██████████████████████████████████████████████████████████████| 27/27 [00:03<00:00,  8.81img/s]\n"
     ]
    },
    {
     "name": "stdout",
     "output_type": "stream",
     "text": [
      "\"\n",
      "        Epoch: 98, \n",
      "        Average Train Loss: 0.0305 |\n",
      "        Average Test Loss: 0.0281 |\n",
      "        Average Test mIoU: 94.00\n",
      "        Average Test Accuracy: 98.85406494140625\n",
      "Checkpoint: VGGUnet16_Segmentation_best is saved successfully\n"
     ]
    },
    {
     "name": "stderr",
     "output_type": "stream",
     "text": [
      "Train/Epoch 99/150: 100%|███████████████████████████████████████████████████████████| 104/104 [00:06<00:00, 15.73img/s]\n",
      "Eval/Epoch 99/150: 100%|██████████████████████████████████████████████████████████████| 27/27 [00:03<00:00,  8.86img/s]\n"
     ]
    },
    {
     "name": "stdout",
     "output_type": "stream",
     "text": [
      "\"\n",
      "        Epoch: 99, \n",
      "        Average Train Loss: 0.0341 |\n",
      "        Average Test Loss: 0.0280 |\n",
      "        Average Test mIoU: 93.98\n",
      "        Average Test Accuracy: 98.82367706298828\n"
     ]
    },
    {
     "name": "stderr",
     "output_type": "stream",
     "text": [
      "Train/Epoch 100/150: 100%|██████████████████████████████████████████████████████████| 104/104 [00:06<00:00, 15.55img/s]\n",
      "Eval/Epoch 100/150: 100%|█████████████████████████████████████████████████████████████| 27/27 [00:03<00:00,  8.81img/s]\n"
     ]
    },
    {
     "name": "stdout",
     "output_type": "stream",
     "text": [
      "\"\n",
      "        Epoch: 100, \n",
      "        Average Train Loss: 0.0337 |\n",
      "        Average Test Loss: 0.0280 |\n",
      "        Average Test mIoU: 93.99\n",
      "        Average Test Accuracy: 98.86703491210938\n"
     ]
    },
    {
     "name": "stderr",
     "output_type": "stream",
     "text": [
      "Train/Epoch 101/150: 100%|██████████████████████████████████████████████████████████| 104/104 [00:06<00:00, 15.44img/s]\n",
      "Eval/Epoch 101/150: 100%|█████████████████████████████████████████████████████████████| 27/27 [00:03<00:00,  8.81img/s]\n"
     ]
    },
    {
     "name": "stdout",
     "output_type": "stream",
     "text": [
      "\"\n",
      "        Epoch: 101, \n",
      "        Average Train Loss: 0.0324 |\n",
      "        Average Test Loss: 0.0276 |\n",
      "        Average Test mIoU: 94.00\n",
      "        Average Test Accuracy: 98.94727325439453\n",
      "Checkpoint: VGGUnet16_Segmentation_best is saved successfully\n"
     ]
    },
    {
     "name": "stderr",
     "output_type": "stream",
     "text": [
      "Train/Epoch 102/150: 100%|██████████████████████████████████████████████████████████| 104/104 [00:06<00:00, 15.69img/s]\n",
      "Eval/Epoch 102/150: 100%|█████████████████████████████████████████████████████████████| 27/27 [00:03<00:00,  8.95img/s]\n"
     ]
    },
    {
     "name": "stdout",
     "output_type": "stream",
     "text": [
      "\"\n",
      "        Epoch: 102, \n",
      "        Average Train Loss: 0.0300 |\n",
      "        Average Test Loss: 0.0279 |\n",
      "        Average Test mIoU: 93.89\n",
      "        Average Test Accuracy: 98.93417358398438\n"
     ]
    },
    {
     "name": "stderr",
     "output_type": "stream",
     "text": [
      "Train/Epoch 103/150: 100%|██████████████████████████████████████████████████████████| 104/104 [00:06<00:00, 15.44img/s]\n",
      "Eval/Epoch 103/150: 100%|█████████████████████████████████████████████████████████████| 27/27 [00:02<00:00,  9.05img/s]\n"
     ]
    },
    {
     "name": "stdout",
     "output_type": "stream",
     "text": [
      "\"\n",
      "        Epoch: 103, \n",
      "        Average Train Loss: 0.0314 |\n",
      "        Average Test Loss: 0.0283 |\n",
      "        Average Test mIoU: 93.74\n",
      "        Average Test Accuracy: 98.92247772216797\n"
     ]
    },
    {
     "name": "stderr",
     "output_type": "stream",
     "text": [
      "Train/Epoch 104/150: 100%|██████████████████████████████████████████████████████████| 104/104 [00:06<00:00, 15.48img/s]\n",
      "Eval/Epoch 104/150: 100%|█████████████████████████████████████████████████████████████| 27/27 [00:03<00:00,  8.77img/s]\n"
     ]
    },
    {
     "name": "stdout",
     "output_type": "stream",
     "text": [
      "\"\n",
      "        Epoch: 104, \n",
      "        Average Train Loss: 0.0291 |\n",
      "        Average Test Loss: 0.0284 |\n",
      "        Average Test mIoU: 93.76\n",
      "        Average Test Accuracy: 98.96392822265625\n"
     ]
    },
    {
     "name": "stderr",
     "output_type": "stream",
     "text": [
      "Train/Epoch 105/150: 100%|██████████████████████████████████████████████████████████| 104/104 [00:06<00:00, 15.62img/s]\n",
      "Eval/Epoch 105/150: 100%|█████████████████████████████████████████████████████████████| 27/27 [00:03<00:00,  8.90img/s]\n"
     ]
    },
    {
     "name": "stdout",
     "output_type": "stream",
     "text": [
      "\"\n",
      "        Epoch: 105, \n",
      "        Average Train Loss: 0.0312 |\n",
      "        Average Test Loss: 0.0282 |\n",
      "        Average Test mIoU: 93.79\n",
      "        Average Test Accuracy: 98.89488220214844\n"
     ]
    },
    {
     "name": "stderr",
     "output_type": "stream",
     "text": [
      "Train/Epoch 106/150: 100%|██████████████████████████████████████████████████████████| 104/104 [00:06<00:00, 15.51img/s]\n",
      "Eval/Epoch 106/150: 100%|█████████████████████████████████████████████████████████████| 27/27 [00:03<00:00,  8.77img/s]\n"
     ]
    },
    {
     "name": "stdout",
     "output_type": "stream",
     "text": [
      "\"\n",
      "        Epoch: 106, \n",
      "        Average Train Loss: 0.0270 |\n",
      "        Average Test Loss: 0.0282 |\n",
      "        Average Test mIoU: 93.79\n",
      "        Average Test Accuracy: 98.8915786743164\n"
     ]
    },
    {
     "name": "stderr",
     "output_type": "stream",
     "text": [
      "Train/Epoch 107/150: 100%|██████████████████████████████████████████████████████████| 104/104 [00:06<00:00, 15.51img/s]\n",
      "Eval/Epoch 107/150: 100%|█████████████████████████████████████████████████████████████| 27/27 [00:03<00:00,  8.90img/s]\n"
     ]
    },
    {
     "name": "stdout",
     "output_type": "stream",
     "text": [
      "\"\n",
      "        Epoch: 107, \n",
      "        Average Train Loss: 0.0302 |\n",
      "        Average Test Loss: 0.0281 |\n",
      "        Average Test mIoU: 93.84\n",
      "        Average Test Accuracy: 98.83525085449219\n"
     ]
    },
    {
     "name": "stderr",
     "output_type": "stream",
     "text": [
      "Train/Epoch 108/150: 100%|██████████████████████████████████████████████████████████| 104/104 [00:06<00:00, 15.47img/s]\n",
      "Eval/Epoch 108/150: 100%|█████████████████████████████████████████████████████████████| 27/27 [00:03<00:00,  8.81img/s]\n"
     ]
    },
    {
     "name": "stdout",
     "output_type": "stream",
     "text": [
      "\"\n",
      "        Epoch: 108, \n",
      "        Average Train Loss: 0.0307 |\n",
      "        Average Test Loss: 0.0277 |\n",
      "        Average Test mIoU: 93.93\n",
      "        Average Test Accuracy: 98.84300231933594\n"
     ]
    },
    {
     "name": "stderr",
     "output_type": "stream",
     "text": [
      "Train/Epoch 109/150: 100%|██████████████████████████████████████████████████████████| 104/104 [00:06<00:00, 15.51img/s]\n",
      "Eval/Epoch 109/150: 100%|█████████████████████████████████████████████████████████████| 27/27 [00:03<00:00,  8.86img/s]\n"
     ]
    },
    {
     "name": "stdout",
     "output_type": "stream",
     "text": [
      "\"\n",
      "        Epoch: 109, \n",
      "        Average Train Loss: 0.0349 |\n",
      "        Average Test Loss: 0.0279 |\n",
      "        Average Test mIoU: 93.88\n",
      "        Average Test Accuracy: 98.79443359375\n"
     ]
    },
    {
     "name": "stderr",
     "output_type": "stream",
     "text": [
      "Train/Epoch 110/150: 100%|██████████████████████████████████████████████████████████| 104/104 [00:06<00:00, 15.51img/s]\n",
      "Eval/Epoch 110/150: 100%|█████████████████████████████████████████████████████████████| 27/27 [00:03<00:00,  8.81img/s]\n"
     ]
    },
    {
     "name": "stdout",
     "output_type": "stream",
     "text": [
      "\"\n",
      "        Epoch: 110, \n",
      "        Average Train Loss: 0.0331 |\n",
      "        Average Test Loss: 0.0276 |\n",
      "        Average Test mIoU: 93.86\n",
      "        Average Test Accuracy: 98.87950134277344\n"
     ]
    },
    {
     "name": "stderr",
     "output_type": "stream",
     "text": [
      "Train/Epoch 111/150: 100%|██████████████████████████████████████████████████████████| 104/104 [00:06<00:00, 15.40img/s]\n",
      "Eval/Epoch 111/150: 100%|█████████████████████████████████████████████████████████████| 27/27 [00:03<00:00,  8.81img/s]\n"
     ]
    },
    {
     "name": "stdout",
     "output_type": "stream",
     "text": [
      "\"\n",
      "        Epoch: 111, \n",
      "        Average Train Loss: 0.0290 |\n",
      "        Average Test Loss: 0.0274 |\n",
      "        Average Test mIoU: 93.93\n",
      "        Average Test Accuracy: 98.87899017333984\n"
     ]
    },
    {
     "name": "stderr",
     "output_type": "stream",
     "text": [
      "Train/Epoch 112/150: 100%|██████████████████████████████████████████████████████████| 104/104 [00:06<00:00, 15.47img/s]\n",
      "Eval/Epoch 112/150: 100%|█████████████████████████████████████████████████████████████| 27/27 [00:03<00:00,  8.81img/s]\n"
     ]
    },
    {
     "name": "stdout",
     "output_type": "stream",
     "text": [
      "\"\n",
      "        Epoch: 112, \n",
      "        Average Train Loss: 0.0311 |\n",
      "        Average Test Loss: 0.0282 |\n",
      "        Average Test mIoU: 93.80\n",
      "        Average Test Accuracy: 98.80345916748047\n"
     ]
    },
    {
     "name": "stderr",
     "output_type": "stream",
     "text": [
      "Train/Epoch 113/150: 100%|██████████████████████████████████████████████████████████| 104/104 [00:06<00:00, 15.73img/s]\n",
      "Eval/Epoch 113/150: 100%|█████████████████████████████████████████████████████████████| 27/27 [00:03<00:00,  8.81img/s]\n"
     ]
    },
    {
     "name": "stdout",
     "output_type": "stream",
     "text": [
      "\"\n",
      "        Epoch: 113, \n",
      "        Average Train Loss: 0.0335 |\n",
      "        Average Test Loss: 0.0268 |\n",
      "        Average Test mIoU: 94.09\n",
      "        Average Test Accuracy: 98.80218505859375\n",
      "Checkpoint: VGGUnet16_Segmentation_best is saved successfully\n"
     ]
    },
    {
     "name": "stderr",
     "output_type": "stream",
     "text": [
      "Train/Epoch 114/150: 100%|██████████████████████████████████████████████████████████| 104/104 [00:06<00:00, 15.40img/s]\n",
      "Eval/Epoch 114/150: 100%|█████████████████████████████████████████████████████████████| 27/27 [00:03<00:00,  9.00img/s]\n"
     ]
    },
    {
     "name": "stdout",
     "output_type": "stream",
     "text": [
      "\"\n",
      "        Epoch: 114, \n",
      "        Average Train Loss: 0.0302 |\n",
      "        Average Test Loss: 0.0271 |\n",
      "        Average Test mIoU: 94.10\n",
      "        Average Test Accuracy: 98.78794860839844\n",
      "Checkpoint: VGGUnet16_Segmentation_best is saved successfully\n"
     ]
    },
    {
     "name": "stderr",
     "output_type": "stream",
     "text": [
      "Train/Epoch 115/150: 100%|██████████████████████████████████████████████████████████| 104/104 [00:06<00:00, 15.58img/s]\n",
      "Eval/Epoch 115/150: 100%|█████████████████████████████████████████████████████████████| 27/27 [00:03<00:00,  8.90img/s]\n"
     ]
    },
    {
     "name": "stdout",
     "output_type": "stream",
     "text": [
      "\"\n",
      "        Epoch: 115, \n",
      "        Average Train Loss: 0.0297 |\n",
      "        Average Test Loss: 0.0273 |\n",
      "        Average Test mIoU: 94.04\n",
      "        Average Test Accuracy: 98.87847900390625\n"
     ]
    },
    {
     "name": "stderr",
     "output_type": "stream",
     "text": [
      "Train/Epoch 116/150: 100%|██████████████████████████████████████████████████████████| 104/104 [00:10<00:00, 10.22img/s]\n",
      "Eval/Epoch 116/150: 100%|█████████████████████████████████████████████████████████████| 27/27 [00:08<00:00,  3.28img/s]\n"
     ]
    },
    {
     "name": "stdout",
     "output_type": "stream",
     "text": [
      "\"\n",
      "        Epoch: 116, \n",
      "        Average Train Loss: 0.0351 |\n",
      "        Average Test Loss: 0.0275 |\n",
      "        Average Test mIoU: 93.85\n",
      "        Average Test Accuracy: 98.84567260742188\n"
     ]
    },
    {
     "name": "stderr",
     "output_type": "stream",
     "text": [
      "Train/Epoch 117/150: 100%|██████████████████████████████████████████████████████████| 104/104 [00:06<00:00, 15.54img/s]\n",
      "Eval/Epoch 117/150: 100%|█████████████████████████████████████████████████████████████| 27/27 [00:03<00:00,  8.86img/s]\n"
     ]
    },
    {
     "name": "stdout",
     "output_type": "stream",
     "text": [
      "\"\n",
      "        Epoch: 117, \n",
      "        Average Train Loss: 0.0290 |\n",
      "        Average Test Loss: 0.0275 |\n",
      "        Average Test mIoU: 93.93\n",
      "        Average Test Accuracy: 98.90975952148438\n"
     ]
    },
    {
     "name": "stderr",
     "output_type": "stream",
     "text": [
      "Train/Epoch 118/150: 100%|██████████████████████████████████████████████████████████| 104/104 [00:06<00:00, 15.51img/s]\n",
      "Eval/Epoch 118/150: 100%|█████████████████████████████████████████████████████████████| 27/27 [00:03<00:00,  8.82img/s]\n"
     ]
    },
    {
     "name": "stdout",
     "output_type": "stream",
     "text": [
      "\"\n",
      "        Epoch: 118, \n",
      "        Average Train Loss: 0.0306 |\n",
      "        Average Test Loss: 0.0276 |\n",
      "        Average Test mIoU: 93.89\n",
      "        Average Test Accuracy: 98.88954162597656\n"
     ]
    },
    {
     "name": "stderr",
     "output_type": "stream",
     "text": [
      "Train/Epoch 119/150: 100%|██████████████████████████████████████████████████████████| 104/104 [00:06<00:00, 15.44img/s]\n",
      "Eval/Epoch 119/150: 100%|█████████████████████████████████████████████████████████████| 27/27 [00:03<00:00,  8.86img/s]\n"
     ]
    },
    {
     "name": "stdout",
     "output_type": "stream",
     "text": [
      "\"\n",
      "        Epoch: 119, \n",
      "        Average Train Loss: 0.0265 |\n",
      "        Average Test Loss: 0.0273 |\n",
      "        Average Test mIoU: 93.91\n",
      "        Average Test Accuracy: 98.82405853271484\n"
     ]
    },
    {
     "name": "stderr",
     "output_type": "stream",
     "text": [
      "Train/Epoch 120/150: 100%|██████████████████████████████████████████████████████████| 104/104 [00:06<00:00, 15.62img/s]\n",
      "Eval/Epoch 120/150: 100%|█████████████████████████████████████████████████████████████| 27/27 [00:03<00:00,  8.86img/s]\n"
     ]
    },
    {
     "name": "stdout",
     "output_type": "stream",
     "text": [
      "\"\n",
      "        Epoch: 120, \n",
      "        Average Train Loss: 0.0293 |\n",
      "        Average Test Loss: 0.0273 |\n",
      "        Average Test mIoU: 94.01\n",
      "        Average Test Accuracy: 98.80027770996094\n"
     ]
    },
    {
     "name": "stderr",
     "output_type": "stream",
     "text": [
      "Train/Epoch 121/150: 100%|██████████████████████████████████████████████████████████| 104/104 [00:06<00:00, 15.51img/s]\n",
      "Eval/Epoch 121/150: 100%|█████████████████████████████████████████████████████████████| 27/27 [00:03<00:00,  8.90img/s]\n"
     ]
    },
    {
     "name": "stdout",
     "output_type": "stream",
     "text": [
      "\"\n",
      "        Epoch: 121, \n",
      "        Average Train Loss: 0.0308 |\n",
      "        Average Test Loss: 0.0275 |\n",
      "        Average Test mIoU: 93.85\n",
      "        Average Test Accuracy: 98.5528335571289\n"
     ]
    },
    {
     "name": "stderr",
     "output_type": "stream",
     "text": [
      "Train/Epoch 122/150: 100%|██████████████████████████████████████████████████████████| 104/104 [00:06<00:00, 15.47img/s]\n",
      "Eval/Epoch 122/150: 100%|█████████████████████████████████████████████████████████████| 27/27 [00:03<00:00,  8.86img/s]\n"
     ]
    },
    {
     "name": "stdout",
     "output_type": "stream",
     "text": [
      "\"\n",
      "        Epoch: 122, \n",
      "        Average Train Loss: 0.0283 |\n",
      "        Average Test Loss: 0.0268 |\n",
      "        Average Test mIoU: 94.00\n",
      "        Average Test Accuracy: 98.59174346923828\n"
     ]
    },
    {
     "name": "stderr",
     "output_type": "stream",
     "text": [
      "Train/Epoch 123/150: 100%|██████████████████████████████████████████████████████████| 104/104 [00:06<00:00, 15.51img/s]\n",
      "Eval/Epoch 123/150: 100%|█████████████████████████████████████████████████████████████| 27/27 [00:03<00:00,  8.77img/s]\n"
     ]
    },
    {
     "name": "stdout",
     "output_type": "stream",
     "text": [
      "\"\n",
      "        Epoch: 123, \n",
      "        Average Train Loss: 0.0321 |\n",
      "        Average Test Loss: 0.0264 |\n",
      "        Average Test mIoU: 94.23\n",
      "        Average Test Accuracy: 98.90289306640625\n",
      "Checkpoint: VGGUnet16_Segmentation_best is saved successfully\n"
     ]
    },
    {
     "name": "stderr",
     "output_type": "stream",
     "text": [
      "Train/Epoch 124/150: 100%|██████████████████████████████████████████████████████████| 104/104 [00:06<00:00, 15.44img/s]\n",
      "Eval/Epoch 124/150: 100%|█████████████████████████████████████████████████████████████| 27/27 [00:03<00:00,  8.95img/s]\n"
     ]
    },
    {
     "name": "stdout",
     "output_type": "stream",
     "text": [
      "\"\n",
      "        Epoch: 124, \n",
      "        Average Train Loss: 0.0307 |\n",
      "        Average Test Loss: 0.0263 |\n",
      "        Average Test mIoU: 94.23\n",
      "        Average Test Accuracy: 98.85356140136719\n",
      "Checkpoint: VGGUnet16_Segmentation_best is saved successfully\n"
     ]
    },
    {
     "name": "stderr",
     "output_type": "stream",
     "text": [
      "Train/Epoch 125/150: 100%|██████████████████████████████████████████████████████████| 104/104 [00:06<00:00, 15.15img/s]\n",
      "Eval/Epoch 125/150: 100%|█████████████████████████████████████████████████████████████| 27/27 [00:02<00:00,  9.04img/s]\n"
     ]
    },
    {
     "name": "stdout",
     "output_type": "stream",
     "text": [
      "\"\n",
      "        Epoch: 125, \n",
      "        Average Train Loss: 0.0293 |\n",
      "        Average Test Loss: 0.0266 |\n",
      "        Average Test mIoU: 93.93\n",
      "        Average Test Accuracy: 98.602294921875\n"
     ]
    },
    {
     "name": "stderr",
     "output_type": "stream",
     "text": [
      "Train/Epoch 126/150: 100%|██████████████████████████████████████████████████████████| 104/104 [00:06<00:00, 15.54img/s]\n",
      "Eval/Epoch 126/150: 100%|█████████████████████████████████████████████████████████████| 27/27 [00:03<00:00,  8.86img/s]\n"
     ]
    },
    {
     "name": "stdout",
     "output_type": "stream",
     "text": [
      "\"\n",
      "        Epoch: 126, \n",
      "        Average Train Loss: 0.0309 |\n",
      "        Average Test Loss: 0.0268 |\n",
      "        Average Test mIoU: 93.96\n",
      "        Average Test Accuracy: 98.63662719726562\n"
     ]
    },
    {
     "name": "stderr",
     "output_type": "stream",
     "text": [
      "Train/Epoch 127/150: 100%|██████████████████████████████████████████████████████████| 104/104 [00:06<00:00, 15.51img/s]\n",
      "Eval/Epoch 127/150: 100%|█████████████████████████████████████████████████████████████| 27/27 [00:02<00:00,  9.09img/s]\n"
     ]
    },
    {
     "name": "stdout",
     "output_type": "stream",
     "text": [
      "\"\n",
      "        Epoch: 127, \n",
      "        Average Train Loss: 0.0285 |\n",
      "        Average Test Loss: 0.0264 |\n",
      "        Average Test mIoU: 94.18\n",
      "        Average Test Accuracy: 98.87899017333984\n"
     ]
    },
    {
     "name": "stderr",
     "output_type": "stream",
     "text": [
      "Train/Epoch 128/150: 100%|██████████████████████████████████████████████████████████| 104/104 [00:06<00:00, 15.55img/s]\n",
      "Eval/Epoch 128/150: 100%|█████████████████████████████████████████████████████████████| 27/27 [00:03<00:00,  8.81img/s]\n"
     ]
    },
    {
     "name": "stdout",
     "output_type": "stream",
     "text": [
      "\"\n",
      "        Epoch: 128, \n",
      "        Average Train Loss: 0.0317 |\n",
      "        Average Test Loss: 0.0260 |\n",
      "        Average Test mIoU: 94.28\n",
      "        Average Test Accuracy: 98.89590454101562\n",
      "Checkpoint: VGGUnet16_Segmentation_best is saved successfully\n"
     ]
    },
    {
     "name": "stderr",
     "output_type": "stream",
     "text": [
      "Train/Epoch 129/150: 100%|██████████████████████████████████████████████████████████| 104/104 [00:06<00:00, 15.51img/s]\n",
      "Eval/Epoch 129/150: 100%|█████████████████████████████████████████████████████████████| 27/27 [00:03<00:00,  8.86img/s]\n"
     ]
    },
    {
     "name": "stdout",
     "output_type": "stream",
     "text": [
      "\"\n",
      "        Epoch: 129, \n",
      "        Average Train Loss: 0.0300 |\n",
      "        Average Test Loss: 0.0259 |\n",
      "        Average Test mIoU: 94.34\n",
      "        Average Test Accuracy: 98.97550201416016\n",
      "Checkpoint: VGGUnet16_Segmentation_best is saved successfully\n"
     ]
    },
    {
     "name": "stderr",
     "output_type": "stream",
     "text": [
      "Train/Epoch 130/150: 100%|██████████████████████████████████████████████████████████| 104/104 [00:06<00:00, 15.51img/s]\n",
      "Eval/Epoch 130/150: 100%|█████████████████████████████████████████████████████████████| 27/27 [00:03<00:00,  8.86img/s]\n"
     ]
    },
    {
     "name": "stdout",
     "output_type": "stream",
     "text": [
      "\"\n",
      "        Epoch: 130, \n",
      "        Average Train Loss: 0.0298 |\n",
      "        Average Test Loss: 0.0260 |\n",
      "        Average Test mIoU: 94.34\n",
      "        Average Test Accuracy: 98.96952819824219\n"
     ]
    },
    {
     "name": "stderr",
     "output_type": "stream",
     "text": [
      "Train/Epoch 131/150: 100%|██████████████████████████████████████████████████████████| 104/104 [00:06<00:00, 15.62img/s]\n",
      "Eval/Epoch 131/150: 100%|█████████████████████████████████████████████████████████████| 27/27 [00:03<00:00,  8.90img/s]\n"
     ]
    },
    {
     "name": "stdout",
     "output_type": "stream",
     "text": [
      "\"\n",
      "        Epoch: 131, \n",
      "        Average Train Loss: 0.0281 |\n",
      "        Average Test Loss: 0.0260 |\n",
      "        Average Test mIoU: 94.32\n",
      "        Average Test Accuracy: 98.84376525878906\n"
     ]
    },
    {
     "name": "stderr",
     "output_type": "stream",
     "text": [
      "Train/Epoch 132/150: 100%|██████████████████████████████████████████████████████████| 104/104 [00:06<00:00, 15.66img/s]\n",
      "Eval/Epoch 132/150: 100%|█████████████████████████████████████████████████████████████| 27/27 [00:03<00:00,  8.90img/s]\n"
     ]
    },
    {
     "name": "stdout",
     "output_type": "stream",
     "text": [
      "\"\n",
      "        Epoch: 132, \n",
      "        Average Train Loss: 0.0274 |\n",
      "        Average Test Loss: 0.0256 |\n",
      "        Average Test mIoU: 94.45\n",
      "        Average Test Accuracy: 98.822021484375\n",
      "Checkpoint: VGGUnet16_Segmentation_best is saved successfully\n"
     ]
    },
    {
     "name": "stderr",
     "output_type": "stream",
     "text": [
      "Train/Epoch 133/150: 100%|██████████████████████████████████████████████████████████| 104/104 [00:06<00:00, 15.02img/s]\n",
      "Eval/Epoch 133/150: 100%|█████████████████████████████████████████████████████████████| 27/27 [00:03<00:00,  8.47img/s]\n"
     ]
    },
    {
     "name": "stdout",
     "output_type": "stream",
     "text": [
      "\"\n",
      "        Epoch: 133, \n",
      "        Average Train Loss: 0.0312 |\n",
      "        Average Test Loss: 0.0255 |\n",
      "        Average Test mIoU: 94.45\n",
      "        Average Test Accuracy: 98.73886108398438\n",
      "Checkpoint: VGGUnet16_Segmentation_best is saved successfully\n"
     ]
    },
    {
     "name": "stderr",
     "output_type": "stream",
     "text": [
      "Train/Epoch 134/150: 100%|██████████████████████████████████████████████████████████| 104/104 [00:06<00:00, 15.05img/s]\n",
      "Eval/Epoch 134/150: 100%|█████████████████████████████████████████████████████████████| 27/27 [00:03<00:00,  8.81img/s]\n"
     ]
    },
    {
     "name": "stdout",
     "output_type": "stream",
     "text": [
      "\"\n",
      "        Epoch: 134, \n",
      "        Average Train Loss: 0.0288 |\n",
      "        Average Test Loss: 0.0260 |\n",
      "        Average Test mIoU: 94.18\n",
      "        Average Test Accuracy: 98.58169555664062\n"
     ]
    },
    {
     "name": "stderr",
     "output_type": "stream",
     "text": [
      "Train/Epoch 135/150: 100%|██████████████████████████████████████████████████████████| 104/104 [00:06<00:00, 15.51img/s]\n",
      "Eval/Epoch 135/150: 100%|█████████████████████████████████████████████████████████████| 27/27 [00:03<00:00,  8.86img/s]\n"
     ]
    },
    {
     "name": "stdout",
     "output_type": "stream",
     "text": [
      "\"\n",
      "        Epoch: 135, \n",
      "        Average Train Loss: 0.0312 |\n",
      "        Average Test Loss: 0.0261 |\n",
      "        Average Test mIoU: 94.30\n",
      "        Average Test Accuracy: 98.66918182373047\n"
     ]
    },
    {
     "name": "stderr",
     "output_type": "stream",
     "text": [
      "Train/Epoch 136/150: 100%|██████████████████████████████████████████████████████████| 104/104 [00:06<00:00, 15.44img/s]\n",
      "Eval/Epoch 136/150: 100%|█████████████████████████████████████████████████████████████| 27/27 [00:03<00:00,  8.86img/s]\n"
     ]
    },
    {
     "name": "stdout",
     "output_type": "stream",
     "text": [
      "\"\n",
      "        Epoch: 136, \n",
      "        Average Train Loss: 0.0317 |\n",
      "        Average Test Loss: 0.0260 |\n",
      "        Average Test mIoU: 94.34\n",
      "        Average Test Accuracy: 98.73110961914062\n"
     ]
    },
    {
     "name": "stderr",
     "output_type": "stream",
     "text": [
      "Train/Epoch 137/150: 100%|██████████████████████████████████████████████████████████| 104/104 [00:06<00:00, 15.43img/s]\n",
      "Eval/Epoch 137/150: 100%|█████████████████████████████████████████████████████████████| 27/27 [00:03<00:00,  8.90img/s]\n"
     ]
    },
    {
     "name": "stdout",
     "output_type": "stream",
     "text": [
      "\"\n",
      "        Epoch: 137, \n",
      "        Average Train Loss: 0.0285 |\n",
      "        Average Test Loss: 0.0258 |\n",
      "        Average Test mIoU: 94.44\n",
      "        Average Test Accuracy: 98.90760040283203\n"
     ]
    },
    {
     "name": "stderr",
     "output_type": "stream",
     "text": [
      "Train/Epoch 138/150: 100%|██████████████████████████████████████████████████████████| 104/104 [00:06<00:00, 15.44img/s]\n",
      "Eval/Epoch 138/150: 100%|█████████████████████████████████████████████████████████████| 27/27 [00:03<00:00,  8.77img/s]\n"
     ]
    },
    {
     "name": "stdout",
     "output_type": "stream",
     "text": [
      "\"\n",
      "        Epoch: 138, \n",
      "        Average Train Loss: 0.0306 |\n",
      "        Average Test Loss: 0.0261 |\n",
      "        Average Test mIoU: 94.37\n",
      "        Average Test Accuracy: 98.77764892578125\n"
     ]
    },
    {
     "name": "stderr",
     "output_type": "stream",
     "text": [
      "Train/Epoch 139/150: 100%|██████████████████████████████████████████████████████████| 104/104 [00:06<00:00, 15.40img/s]\n",
      "Eval/Epoch 139/150: 100%|█████████████████████████████████████████████████████████████| 27/27 [00:03<00:00,  8.86img/s]\n"
     ]
    },
    {
     "name": "stdout",
     "output_type": "stream",
     "text": [
      "\"\n",
      "        Epoch: 139, \n",
      "        Average Train Loss: 0.0303 |\n",
      "        Average Test Loss: 0.0262 |\n",
      "        Average Test mIoU: 94.12\n",
      "        Average Test Accuracy: 98.52447509765625\n"
     ]
    },
    {
     "name": "stderr",
     "output_type": "stream",
     "text": [
      "Train/Epoch 140/150: 100%|██████████████████████████████████████████████████████████| 104/104 [00:06<00:00, 15.47img/s]\n",
      "Eval/Epoch 140/150: 100%|█████████████████████████████████████████████████████████████| 27/27 [00:03<00:00,  8.81img/s]\n"
     ]
    },
    {
     "name": "stdout",
     "output_type": "stream",
     "text": [
      "\"\n",
      "        Epoch: 140, \n",
      "        Average Train Loss: 0.0259 |\n",
      "        Average Test Loss: 0.0265 |\n",
      "        Average Test mIoU: 93.98\n",
      "        Average Test Accuracy: 98.40545654296875\n"
     ]
    },
    {
     "name": "stderr",
     "output_type": "stream",
     "text": [
      "Train/Epoch 141/150: 100%|██████████████████████████████████████████████████████████| 104/104 [00:06<00:00, 15.44img/s]\n",
      "Eval/Epoch 141/150: 100%|█████████████████████████████████████████████████████████████| 27/27 [00:03<00:00,  8.81img/s]\n"
     ]
    },
    {
     "name": "stdout",
     "output_type": "stream",
     "text": [
      "\"\n",
      "        Epoch: 141, \n",
      "        Average Train Loss: 0.0277 |\n",
      "        Average Test Loss: 0.0268 |\n",
      "        Average Test mIoU: 93.95\n",
      "        Average Test Accuracy: 98.77230834960938\n"
     ]
    },
    {
     "name": "stderr",
     "output_type": "stream",
     "text": [
      "Train/Epoch 142/150: 100%|██████████████████████████████████████████████████████████| 104/104 [00:06<00:00, 15.48img/s]\n",
      "Eval/Epoch 142/150: 100%|█████████████████████████████████████████████████████████████| 27/27 [00:03<00:00,  8.81img/s]\n"
     ]
    },
    {
     "name": "stdout",
     "output_type": "stream",
     "text": [
      "\"\n",
      "        Epoch: 142, \n",
      "        Average Train Loss: 0.0263 |\n",
      "        Average Test Loss: 0.0269 |\n",
      "        Average Test mIoU: 93.96\n",
      "        Average Test Accuracy: 98.84122467041016\n"
     ]
    },
    {
     "name": "stderr",
     "output_type": "stream",
     "text": [
      "Train/Epoch 143/150: 100%|██████████████████████████████████████████████████████████| 104/104 [00:06<00:00, 15.47img/s]\n",
      "Eval/Epoch 143/150: 100%|█████████████████████████████████████████████████████████████| 27/27 [00:03<00:00,  8.81img/s]\n"
     ]
    },
    {
     "name": "stdout",
     "output_type": "stream",
     "text": [
      "\"\n",
      "        Epoch: 143, \n",
      "        Average Train Loss: 0.0253 |\n",
      "        Average Test Loss: 0.0274 |\n",
      "        Average Test mIoU: 93.84\n",
      "        Average Test Accuracy: 98.84262084960938\n"
     ]
    },
    {
     "name": "stderr",
     "output_type": "stream",
     "text": [
      "Train/Epoch 144/150: 100%|██████████████████████████████████████████████████████████| 104/104 [00:06<00:00, 15.55img/s]\n",
      "Eval/Epoch 144/150: 100%|█████████████████████████████████████████████████████████████| 27/27 [00:03<00:00,  8.86img/s]\n"
     ]
    },
    {
     "name": "stdout",
     "output_type": "stream",
     "text": [
      "\"\n",
      "        Epoch: 144, \n",
      "        Average Train Loss: 0.0301 |\n",
      "        Average Test Loss: 0.0273 |\n",
      "        Average Test mIoU: 93.92\n",
      "        Average Test Accuracy: 98.96202087402344\n"
     ]
    },
    {
     "name": "stderr",
     "output_type": "stream",
     "text": [
      "Train/Epoch 145/150: 100%|██████████████████████████████████████████████████████████| 104/104 [00:06<00:00, 15.62img/s]\n",
      "Eval/Epoch 145/150: 100%|█████████████████████████████████████████████████████████████| 27/27 [00:03<00:00,  8.86img/s]\n"
     ]
    },
    {
     "name": "stdout",
     "output_type": "stream",
     "text": [
      "\"\n",
      "        Epoch: 145, \n",
      "        Average Train Loss: 0.0275 |\n",
      "        Average Test Loss: 0.0275 |\n",
      "        Average Test mIoU: 93.96\n",
      "        Average Test Accuracy: 98.8011703491211\n"
     ]
    },
    {
     "name": "stderr",
     "output_type": "stream",
     "text": [
      "Train/Epoch 146/150: 100%|██████████████████████████████████████████████████████████| 104/104 [00:06<00:00, 15.51img/s]\n",
      "Eval/Epoch 146/150: 100%|█████████████████████████████████████████████████████████████| 27/27 [00:03<00:00,  8.81img/s]\n"
     ]
    },
    {
     "name": "stdout",
     "output_type": "stream",
     "text": [
      "\"\n",
      "        Epoch: 146, \n",
      "        Average Train Loss: 0.0237 |\n",
      "        Average Test Loss: 0.0270 |\n",
      "        Average Test mIoU: 94.06\n",
      "        Average Test Accuracy: 98.98198699951172\n"
     ]
    },
    {
     "name": "stderr",
     "output_type": "stream",
     "text": [
      "Train/Epoch 147/150: 100%|██████████████████████████████████████████████████████████| 104/104 [00:06<00:00, 15.51img/s]\n",
      "Eval/Epoch 147/150: 100%|█████████████████████████████████████████████████████████████| 27/27 [00:02<00:00,  9.04img/s]\n"
     ]
    },
    {
     "name": "stdout",
     "output_type": "stream",
     "text": [
      "\"\n",
      "        Epoch: 147, \n",
      "        Average Train Loss: 0.0263 |\n",
      "        Average Test Loss: 0.0268 |\n",
      "        Average Test mIoU: 94.03\n",
      "        Average Test Accuracy: 98.85597229003906\n"
     ]
    },
    {
     "name": "stderr",
     "output_type": "stream",
     "text": [
      "Train/Epoch 148/150: 100%|██████████████████████████████████████████████████████████| 104/104 [00:06<00:00, 15.55img/s]\n",
      "Eval/Epoch 148/150: 100%|█████████████████████████████████████████████████████████████| 27/27 [00:03<00:00,  8.90img/s]\n"
     ]
    },
    {
     "name": "stdout",
     "output_type": "stream",
     "text": [
      "\"\n",
      "        Epoch: 148, \n",
      "        Average Train Loss: 0.0289 |\n",
      "        Average Test Loss: 0.0266 |\n",
      "        Average Test mIoU: 94.06\n",
      "        Average Test Accuracy: 98.79798889160156\n"
     ]
    },
    {
     "name": "stderr",
     "output_type": "stream",
     "text": [
      "Train/Epoch 149/150: 100%|██████████████████████████████████████████████████████████| 104/104 [00:06<00:00, 15.40img/s]\n",
      "Eval/Epoch 149/150: 100%|█████████████████████████████████████████████████████████████| 27/27 [00:03<00:00,  8.86img/s]\n"
     ]
    },
    {
     "name": "stdout",
     "output_type": "stream",
     "text": [
      "\"\n",
      "        Epoch: 149, \n",
      "        Average Train Loss: 0.0288 |\n",
      "        Average Test Loss: 0.0269 |\n",
      "        Average Test mIoU: 94.00\n",
      "        Average Test Accuracy: 98.85279846191406\n"
     ]
    },
    {
     "name": "stderr",
     "output_type": "stream",
     "text": [
      "Train/Epoch 150/150: 100%|██████████████████████████████████████████████████████████| 104/104 [00:06<00:00, 15.44img/s]\n",
      "Eval/Epoch 150/150: 100%|█████████████████████████████████████████████████████████████| 27/27 [00:03<00:00,  8.77img/s]\n"
     ]
    },
    {
     "name": "stdout",
     "output_type": "stream",
     "text": [
      "\"\n",
      "        Epoch: 150, \n",
      "        Average Train Loss: 0.0258 |\n",
      "        Average Test Loss: 0.0266 |\n",
      "        Average Test mIoU: 94.04\n",
      "        Average Test Accuracy: 98.82482147216797\n"
     ]
    }
   ],
   "source": [
    "model1_train_start()"
   ]
  },
  {
   "cell_type": "markdown",
   "id": "3913d869-6e1f-4493-8c26-b4696b0bfa1f",
   "metadata": {},
   "source": [
    "## Model2 (Knowledge Distillation) Training"
   ]
  },
  {
   "cell_type": "code",
   "execution_count": 33,
   "id": "9426ab60-2bf9-4e68-af50-eec942c47b64",
   "metadata": {
    "scrolled": true
   },
   "outputs": [
    {
     "name": "stderr",
     "output_type": "stream",
     "text": [
      "Train/Epoch 1/150: 100%|████████████████████████████████████████████████████████████| 104/104 [00:07<00:00, 13.86img/s]\n",
      "Eval/Epoch 1/150: 100%|███████████████████████████████████████████████████████████████| 27/27 [00:03<00:00,  8.39img/s]\n"
     ]
    },
    {
     "name": "stdout",
     "output_type": "stream",
     "text": [
      "\"\n",
      "        Epoch: 1, \n",
      "        Average Train Loss: 3.8003 |\n",
      "        Average Test Loss: 5.0456 |\n",
      "        Average Test mIoU: 1.54\n",
      "        Average Test Accuracy: 6.262715816497803\n",
      "Checkpoint: VGGUnet16_Segmentation_best is saved successfully\n"
     ]
    },
    {
     "name": "stderr",
     "output_type": "stream",
     "text": [
      "Train/Epoch 2/150: 100%|████████████████████████████████████████████████████████████| 104/104 [00:08<00:00, 12.10img/s]\n",
      "Eval/Epoch 2/150: 100%|███████████████████████████████████████████████████████████████| 27/27 [00:04<00:00,  6.31img/s]\n"
     ]
    },
    {
     "name": "stdout",
     "output_type": "stream",
     "text": [
      "\"\n",
      "        Epoch: 2, \n",
      "        Average Train Loss: 2.8842 |\n",
      "        Average Test Loss: 4.1513 |\n",
      "        Average Test mIoU: 0.17\n",
      "        Average Test Accuracy: 0.2948760986328125\n"
     ]
    },
    {
     "name": "stderr",
     "output_type": "stream",
     "text": [
      "Train/Epoch 3/150: 100%|████████████████████████████████████████████████████████████| 104/104 [00:08<00:00, 12.08img/s]\n",
      "Eval/Epoch 3/150: 100%|███████████████████████████████████████████████████████████████| 27/27 [00:04<00:00,  6.52img/s]\n"
     ]
    },
    {
     "name": "stdout",
     "output_type": "stream",
     "text": [
      "\"\n",
      "        Epoch: 3, \n",
      "        Average Train Loss: 2.3648 |\n",
      "        Average Test Loss: 1.9766 |\n",
      "        Average Test mIoU: 8.30\n",
      "        Average Test Accuracy: 30.124282836914062\n",
      "Checkpoint: VGGUnet16_Segmentation_best is saved successfully\n"
     ]
    },
    {
     "name": "stderr",
     "output_type": "stream",
     "text": [
      "Train/Epoch 4/150: 100%|████████████████████████████████████████████████████████████| 104/104 [00:08<00:00, 12.21img/s]\n",
      "Eval/Epoch 4/150: 100%|███████████████████████████████████████████████████████████████| 27/27 [00:04<00:00,  6.55img/s]\n"
     ]
    },
    {
     "name": "stdout",
     "output_type": "stream",
     "text": [
      "\"\n",
      "        Epoch: 4, \n",
      "        Average Train Loss: 1.9952 |\n",
      "        Average Test Loss: 1.4001 |\n",
      "        Average Test mIoU: 10.62\n",
      "        Average Test Accuracy: 23.96697998046875\n",
      "Checkpoint: VGGUnet16_Segmentation_best is saved successfully\n"
     ]
    },
    {
     "name": "stderr",
     "output_type": "stream",
     "text": [
      "Train/Epoch 5/150: 100%|████████████████████████████████████████████████████████████| 104/104 [00:08<00:00, 12.14img/s]\n",
      "Eval/Epoch 5/150: 100%|███████████████████████████████████████████████████████████████| 27/27 [00:04<00:00,  6.54img/s]\n"
     ]
    },
    {
     "name": "stdout",
     "output_type": "stream",
     "text": [
      "\"\n",
      "        Epoch: 5, \n",
      "        Average Train Loss: 1.7433 |\n",
      "        Average Test Loss: 1.4307 |\n",
      "        Average Test mIoU: 5.26\n",
      "        Average Test Accuracy: 9.80224609375\n"
     ]
    },
    {
     "name": "stderr",
     "output_type": "stream",
     "text": [
      "Train/Epoch 6/150: 100%|████████████████████████████████████████████████████████████| 104/104 [00:08<00:00, 12.55img/s]\n",
      "Eval/Epoch 6/150: 100%|███████████████████████████████████████████████████████████████| 27/27 [00:03<00:00,  6.85img/s]\n"
     ]
    },
    {
     "name": "stdout",
     "output_type": "stream",
     "text": [
      "\"\n",
      "        Epoch: 6, \n",
      "        Average Train Loss: 1.5387 |\n",
      "        Average Test Loss: 1.1597 |\n",
      "        Average Test mIoU: 11.62\n",
      "        Average Test Accuracy: 21.7529296875\n",
      "Checkpoint: VGGUnet16_Segmentation_best is saved successfully\n"
     ]
    },
    {
     "name": "stderr",
     "output_type": "stream",
     "text": [
      "Train/Epoch 7/150: 100%|████████████████████████████████████████████████████████████| 104/104 [00:08<00:00, 12.39img/s]\n",
      "Eval/Epoch 7/150: 100%|███████████████████████████████████████████████████████████████| 27/27 [00:03<00:00,  7.02img/s]\n"
     ]
    },
    {
     "name": "stdout",
     "output_type": "stream",
     "text": [
      "\"\n",
      "        Epoch: 7, \n",
      "        Average Train Loss: 1.4115 |\n",
      "        Average Test Loss: 1.8322 |\n",
      "        Average Test mIoU: 0.80\n",
      "        Average Test Accuracy: 1.483917236328125\n"
     ]
    },
    {
     "name": "stderr",
     "output_type": "stream",
     "text": [
      "Train/Epoch 8/150: 100%|████████████████████████████████████████████████████████████| 104/104 [00:08<00:00, 12.46img/s]\n",
      "Eval/Epoch 8/150: 100%|███████████████████████████████████████████████████████████████| 27/27 [00:03<00:00,  7.02img/s]\n"
     ]
    },
    {
     "name": "stdout",
     "output_type": "stream",
     "text": [
      "\"\n",
      "        Epoch: 8, \n",
      "        Average Train Loss: 1.2782 |\n",
      "        Average Test Loss: 1.5177 |\n",
      "        Average Test mIoU: 1.20\n",
      "        Average Test Accuracy: 1.969146728515625\n"
     ]
    },
    {
     "name": "stderr",
     "output_type": "stream",
     "text": [
      "Train/Epoch 9/150: 100%|████████████████████████████████████████████████████████████| 104/104 [00:08<00:00, 12.72img/s]\n",
      "Eval/Epoch 9/150: 100%|███████████████████████████████████████████████████████████████| 27/27 [00:03<00:00,  7.10img/s]\n"
     ]
    },
    {
     "name": "stdout",
     "output_type": "stream",
     "text": [
      "\"\n",
      "        Epoch: 9, \n",
      "        Average Train Loss: 1.1567 |\n",
      "        Average Test Loss: 0.9757 |\n",
      "        Average Test mIoU: 10.81\n",
      "        Average Test Accuracy: 21.24697494506836\n"
     ]
    },
    {
     "name": "stderr",
     "output_type": "stream",
     "text": [
      "Train/Epoch 10/150: 100%|███████████████████████████████████████████████████████████| 104/104 [00:08<00:00, 12.75img/s]\n",
      "Eval/Epoch 10/150: 100%|██████████████████████████████████████████████████████████████| 27/27 [00:03<00:00,  7.14img/s]\n"
     ]
    },
    {
     "name": "stdout",
     "output_type": "stream",
     "text": [
      "\"\n",
      "        Epoch: 10, \n",
      "        Average Train Loss: 1.0564 |\n",
      "        Average Test Loss: 1.0522 |\n",
      "        Average Test mIoU: 7.46\n",
      "        Average Test Accuracy: 12.88909912109375\n"
     ]
    },
    {
     "name": "stderr",
     "output_type": "stream",
     "text": [
      "Train/Epoch 11/150: 100%|███████████████████████████████████████████████████████████| 104/104 [00:08<00:00, 12.67img/s]\n",
      "Eval/Epoch 11/150: 100%|██████████████████████████████████████████████████████████████| 27/27 [00:03<00:00,  7.26img/s]\n"
     ]
    },
    {
     "name": "stdout",
     "output_type": "stream",
     "text": [
      "\"\n",
      "        Epoch: 11, \n",
      "        Average Train Loss: 0.9589 |\n",
      "        Average Test Loss: 1.2237 |\n",
      "        Average Test mIoU: 1.92\n",
      "        Average Test Accuracy: 3.116607666015625\n"
     ]
    },
    {
     "name": "stderr",
     "output_type": "stream",
     "text": [
      "Train/Epoch 12/150: 100%|███████████████████████████████████████████████████████████| 104/104 [00:07<00:00, 13.05img/s]\n",
      "Eval/Epoch 12/150: 100%|██████████████████████████████████████████████████████████████| 27/27 [00:03<00:00,  7.48img/s]\n"
     ]
    },
    {
     "name": "stdout",
     "output_type": "stream",
     "text": [
      "\"\n",
      "        Epoch: 12, \n",
      "        Average Train Loss: 0.8695 |\n",
      "        Average Test Loss: 0.9506 |\n",
      "        Average Test mIoU: 8.89\n",
      "        Average Test Accuracy: 16.030248641967773\n"
     ]
    },
    {
     "name": "stderr",
     "output_type": "stream",
     "text": [
      "Train/Epoch 13/150: 100%|███████████████████████████████████████████████████████████| 104/104 [00:07<00:00, 13.05img/s]\n",
      "Eval/Epoch 13/150: 100%|██████████████████████████████████████████████████████████████| 27/27 [00:03<00:00,  7.54img/s]\n"
     ]
    },
    {
     "name": "stdout",
     "output_type": "stream",
     "text": [
      "\"\n",
      "        Epoch: 13, \n",
      "        Average Train Loss: 0.8057 |\n",
      "        Average Test Loss: 0.7072 |\n",
      "        Average Test mIoU: 17.31\n",
      "        Average Test Accuracy: 31.847000122070312\n",
      "Checkpoint: VGGUnet16_Segmentation_best is saved successfully\n"
     ]
    },
    {
     "name": "stderr",
     "output_type": "stream",
     "text": [
      "Train/Epoch 14/150: 100%|███████████████████████████████████████████████████████████| 104/104 [00:07<00:00, 13.20img/s]\n",
      "Eval/Epoch 14/150: 100%|██████████████████████████████████████████████████████████████| 27/27 [00:03<00:00,  7.68img/s]\n"
     ]
    },
    {
     "name": "stdout",
     "output_type": "stream",
     "text": [
      "\"\n",
      "        Epoch: 14, \n",
      "        Average Train Loss: 0.7307 |\n",
      "        Average Test Loss: 0.5820 |\n",
      "        Average Test mIoU: 24.34\n",
      "        Average Test Accuracy: 37.624359130859375\n",
      "Checkpoint: VGGUnet16_Segmentation_best is saved successfully\n"
     ]
    },
    {
     "name": "stderr",
     "output_type": "stream",
     "text": [
      "Train/Epoch 15/150: 100%|███████████████████████████████████████████████████████████| 104/104 [00:07<00:00, 13.44img/s]\n",
      "Eval/Epoch 15/150: 100%|██████████████████████████████████████████████████████████████| 27/27 [00:03<00:00,  7.75img/s]\n"
     ]
    },
    {
     "name": "stdout",
     "output_type": "stream",
     "text": [
      "\"\n",
      "        Epoch: 15, \n",
      "        Average Train Loss: 0.6599 |\n",
      "        Average Test Loss: 0.7459 |\n",
      "        Average Test mIoU: 20.54\n",
      "        Average Test Accuracy: 32.646942138671875\n"
     ]
    },
    {
     "name": "stderr",
     "output_type": "stream",
     "text": [
      "Train/Epoch 16/150: 100%|███████████████████████████████████████████████████████████| 104/104 [00:07<00:00, 13.47img/s]\n",
      "Eval/Epoch 16/150: 100%|██████████████████████████████████████████████████████████████| 27/27 [00:03<00:00,  7.85img/s]\n"
     ]
    },
    {
     "name": "stdout",
     "output_type": "stream",
     "text": [
      "\"\n",
      "        Epoch: 16, \n",
      "        Average Train Loss: 0.5931 |\n",
      "        Average Test Loss: 0.4972 |\n",
      "        Average Test mIoU: 33.50\n",
      "        Average Test Accuracy: 41.060768127441406\n",
      "Checkpoint: VGGUnet16_Segmentation_best is saved successfully\n"
     ]
    },
    {
     "name": "stderr",
     "output_type": "stream",
     "text": [
      "Train/Epoch 17/150: 100%|███████████████████████████████████████████████████████████| 104/104 [00:07<00:00, 13.33img/s]\n",
      "Eval/Epoch 17/150: 100%|██████████████████████████████████████████████████████████████| 27/27 [00:03<00:00,  7.92img/s]\n"
     ]
    },
    {
     "name": "stdout",
     "output_type": "stream",
     "text": [
      "\"\n",
      "        Epoch: 17, \n",
      "        Average Train Loss: 0.5527 |\n",
      "        Average Test Loss: 0.5636 |\n",
      "        Average Test mIoU: 27.08\n",
      "        Average Test Accuracy: 37.512718200683594\n"
     ]
    },
    {
     "name": "stderr",
     "output_type": "stream",
     "text": [
      "Train/Epoch 18/150: 100%|███████████████████████████████████████████████████████████| 104/104 [00:07<00:00, 13.52img/s]\n",
      "Eval/Epoch 18/150: 100%|██████████████████████████████████████████████████████████████| 27/27 [00:03<00:00,  7.81img/s]\n"
     ]
    },
    {
     "name": "stdout",
     "output_type": "stream",
     "text": [
      "\"\n",
      "        Epoch: 18, \n",
      "        Average Train Loss: 0.5014 |\n",
      "        Average Test Loss: 0.5811 |\n",
      "        Average Test mIoU: 26.36\n",
      "        Average Test Accuracy: 36.482749938964844\n"
     ]
    },
    {
     "name": "stderr",
     "output_type": "stream",
     "text": [
      "Train/Epoch 19/150: 100%|███████████████████████████████████████████████████████████| 104/104 [00:07<00:00, 13.47img/s]\n",
      "Eval/Epoch 19/150: 100%|██████████████████████████████████████████████████████████████| 27/27 [00:03<00:00,  7.92img/s]\n"
     ]
    },
    {
     "name": "stdout",
     "output_type": "stream",
     "text": [
      "\"\n",
      "        Epoch: 19, \n",
      "        Average Train Loss: 0.4666 |\n",
      "        Average Test Loss: 0.5907 |\n",
      "        Average Test mIoU: 28.71\n",
      "        Average Test Accuracy: 37.8997802734375\n"
     ]
    },
    {
     "name": "stderr",
     "output_type": "stream",
     "text": [
      "Train/Epoch 20/150: 100%|███████████████████████████████████████████████████████████| 104/104 [00:07<00:00, 13.41img/s]\n",
      "Eval/Epoch 20/150: 100%|██████████████████████████████████████████████████████████████| 27/27 [00:03<00:00,  7.85img/s]\n"
     ]
    },
    {
     "name": "stdout",
     "output_type": "stream",
     "text": [
      "\"\n",
      "        Epoch: 20, \n",
      "        Average Train Loss: 0.4358 |\n",
      "        Average Test Loss: 0.7027 |\n",
      "        Average Test mIoU: 34.93\n",
      "        Average Test Accuracy: 41.73228073120117\n",
      "Checkpoint: VGGUnet16_Segmentation_best is saved successfully\n"
     ]
    },
    {
     "name": "stderr",
     "output_type": "stream",
     "text": [
      "Train/Epoch 21/150: 100%|███████████████████████████████████████████████████████████| 104/104 [00:07<00:00, 13.47img/s]\n",
      "Eval/Epoch 21/150: 100%|██████████████████████████████████████████████████████████████| 27/27 [00:11<00:00,  2.43img/s]\n"
     ]
    },
    {
     "name": "stdout",
     "output_type": "stream",
     "text": [
      "\"\n",
      "        Epoch: 21, \n",
      "        Average Train Loss: 0.3770 |\n",
      "        Average Test Loss: 0.3953 |\n",
      "        Average Test mIoU: 40.46\n",
      "        Average Test Accuracy: 44.54778289794922\n",
      "Checkpoint: VGGUnet16_Segmentation_best is saved successfully\n"
     ]
    },
    {
     "name": "stderr",
     "output_type": "stream",
     "text": [
      "Train/Epoch 22/150: 100%|███████████████████████████████████████████████████████████| 104/104 [00:07<00:00, 13.63img/s]\n",
      "Eval/Epoch 22/150: 100%|██████████████████████████████████████████████████████████████| 27/27 [00:03<00:00,  8.07img/s]\n"
     ]
    },
    {
     "name": "stdout",
     "output_type": "stream",
     "text": [
      "\"\n",
      "        Epoch: 22, \n",
      "        Average Train Loss: 0.3531 |\n",
      "        Average Test Loss: 0.3933 |\n",
      "        Average Test mIoU: 42.76\n",
      "        Average Test Accuracy: 47.539268493652344\n",
      "Checkpoint: VGGUnet16_Segmentation_best is saved successfully\n"
     ]
    },
    {
     "name": "stderr",
     "output_type": "stream",
     "text": [
      "Train/Epoch 23/150: 100%|███████████████████████████████████████████████████████████| 104/104 [00:07<00:00, 13.61img/s]\n",
      "Eval/Epoch 23/150: 100%|██████████████████████████████████████████████████████████████| 27/27 [00:03<00:00,  8.11img/s]\n"
     ]
    },
    {
     "name": "stdout",
     "output_type": "stream",
     "text": [
      "\"\n",
      "        Epoch: 23, \n",
      "        Average Train Loss: 0.3143 |\n",
      "        Average Test Loss: 0.2556 |\n",
      "        Average Test mIoU: 48.81\n",
      "        Average Test Accuracy: 56.60247802734375\n",
      "Checkpoint: VGGUnet16_Segmentation_best is saved successfully\n"
     ]
    },
    {
     "name": "stderr",
     "output_type": "stream",
     "text": [
      "Train/Epoch 24/150: 100%|███████████████████████████████████████████████████████████| 104/104 [00:07<00:00, 13.58img/s]\n",
      "Eval/Epoch 24/150: 100%|██████████████████████████████████████████████████████████████| 27/27 [00:03<00:00,  8.11img/s]\n"
     ]
    },
    {
     "name": "stdout",
     "output_type": "stream",
     "text": [
      "\"\n",
      "        Epoch: 24, \n",
      "        Average Train Loss: 0.2827 |\n",
      "        Average Test Loss: 0.2254 |\n",
      "        Average Test mIoU: 55.99\n",
      "        Average Test Accuracy: 63.83463668823242\n",
      "Checkpoint: VGGUnet16_Segmentation_best is saved successfully\n"
     ]
    },
    {
     "name": "stderr",
     "output_type": "stream",
     "text": [
      "Train/Epoch 25/150: 100%|███████████████████████████████████████████████████████████| 104/104 [00:07<00:00, 13.69img/s]\n",
      "Eval/Epoch 25/150: 100%|██████████████████████████████████████████████████████████████| 27/27 [00:03<00:00,  8.34img/s]\n"
     ]
    },
    {
     "name": "stdout",
     "output_type": "stream",
     "text": [
      "\"\n",
      "        Epoch: 25, \n",
      "        Average Train Loss: 0.2557 |\n",
      "        Average Test Loss: 0.2455 |\n",
      "        Average Test mIoU: 73.20\n",
      "        Average Test Accuracy: 90.03829956054688\n",
      "Checkpoint: VGGUnet16_Segmentation_best is saved successfully\n"
     ]
    },
    {
     "name": "stderr",
     "output_type": "stream",
     "text": [
      "Train/Epoch 26/150: 100%|███████████████████████████████████████████████████████████| 104/104 [00:07<00:00, 13.80img/s]\n",
      "Eval/Epoch 26/150: 100%|██████████████████████████████████████████████████████████████| 27/27 [00:03<00:00,  8.27img/s]\n"
     ]
    },
    {
     "name": "stdout",
     "output_type": "stream",
     "text": [
      "\"\n",
      "        Epoch: 26, \n",
      "        Average Train Loss: 0.2198 |\n",
      "        Average Test Loss: 0.1834 |\n",
      "        Average Test mIoU: 75.49\n",
      "        Average Test Accuracy: 90.35619354248047\n",
      "Checkpoint: VGGUnet16_Segmentation_best is saved successfully\n"
     ]
    },
    {
     "name": "stderr",
     "output_type": "stream",
     "text": [
      "Train/Epoch 27/150: 100%|███████████████████████████████████████████████████████████| 104/104 [00:07<00:00, 13.50img/s]\n",
      "Eval/Epoch 27/150: 100%|██████████████████████████████████████████████████████████████| 27/27 [00:03<00:00,  8.14img/s]\n"
     ]
    },
    {
     "name": "stdout",
     "output_type": "stream",
     "text": [
      "\"\n",
      "        Epoch: 27, \n",
      "        Average Train Loss: 0.1955 |\n",
      "        Average Test Loss: 0.2324 |\n",
      "        Average Test mIoU: 71.01\n",
      "        Average Test Accuracy: 88.2817611694336\n"
     ]
    },
    {
     "name": "stderr",
     "output_type": "stream",
     "text": [
      "Train/Epoch 28/150: 100%|███████████████████████████████████████████████████████████| 104/104 [00:07<00:00, 13.77img/s]\n",
      "Eval/Epoch 28/150: 100%|██████████████████████████████████████████████████████████████| 27/27 [00:03<00:00,  8.30img/s]\n"
     ]
    },
    {
     "name": "stdout",
     "output_type": "stream",
     "text": [
      "\"\n",
      "        Epoch: 28, \n",
      "        Average Train Loss: 0.1754 |\n",
      "        Average Test Loss: 0.1461 |\n",
      "        Average Test mIoU: 79.86\n",
      "        Average Test Accuracy: 90.18211364746094\n",
      "Checkpoint: VGGUnet16_Segmentation_best is saved successfully\n"
     ]
    },
    {
     "name": "stderr",
     "output_type": "stream",
     "text": [
      "Train/Epoch 29/150: 100%|███████████████████████████████████████████████████████████| 104/104 [00:07<00:00, 13.55img/s]\n",
      "Eval/Epoch 29/150: 100%|██████████████████████████████████████████████████████████████| 27/27 [00:03<00:00,  8.22img/s]\n"
     ]
    },
    {
     "name": "stdout",
     "output_type": "stream",
     "text": [
      "\"\n",
      "        Epoch: 29, \n",
      "        Average Train Loss: 0.1520 |\n",
      "        Average Test Loss: 0.1261 |\n",
      "        Average Test mIoU: 83.72\n",
      "        Average Test Accuracy: 95.45516967773438\n",
      "Checkpoint: VGGUnet16_Segmentation_best is saved successfully\n"
     ]
    },
    {
     "name": "stderr",
     "output_type": "stream",
     "text": [
      "Train/Epoch 30/150: 100%|███████████████████████████████████████████████████████████| 104/104 [00:07<00:00, 13.77img/s]\n",
      "Eval/Epoch 30/150: 100%|██████████████████████████████████████████████████████████████| 27/27 [00:03<00:00,  8.22img/s]\n"
     ]
    },
    {
     "name": "stdout",
     "output_type": "stream",
     "text": [
      "\"\n",
      "        Epoch: 30, \n",
      "        Average Train Loss: 0.1567 |\n",
      "        Average Test Loss: 0.1527 |\n",
      "        Average Test mIoU: 76.99\n",
      "        Average Test Accuracy: 89.36551666259766\n"
     ]
    },
    {
     "name": "stderr",
     "output_type": "stream",
     "text": [
      "Train/Epoch 31/150: 100%|███████████████████████████████████████████████████████████| 104/104 [00:07<00:00, 13.55img/s]\n",
      "Eval/Epoch 31/150: 100%|██████████████████████████████████████████████████████████████| 27/27 [00:06<00:00,  4.11img/s]\n"
     ]
    },
    {
     "name": "stdout",
     "output_type": "stream",
     "text": [
      "\"\n",
      "        Epoch: 31, \n",
      "        Average Train Loss: 0.1385 |\n",
      "        Average Test Loss: 0.1353 |\n",
      "        Average Test mIoU: 79.47\n",
      "        Average Test Accuracy: 90.2862548828125\n"
     ]
    },
    {
     "name": "stderr",
     "output_type": "stream",
     "text": [
      "Train/Epoch 32/150: 100%|███████████████████████████████████████████████████████████| 104/104 [00:07<00:00, 13.83img/s]\n",
      "Eval/Epoch 32/150: 100%|██████████████████████████████████████████████████████████████| 27/27 [00:03<00:00,  8.26img/s]\n"
     ]
    },
    {
     "name": "stdout",
     "output_type": "stream",
     "text": [
      "\"\n",
      "        Epoch: 32, \n",
      "        Average Train Loss: 0.1338 |\n",
      "        Average Test Loss: 0.0772 |\n",
      "        Average Test mIoU: 86.35\n",
      "        Average Test Accuracy: 93.78166198730469\n",
      "Checkpoint: VGGUnet16_Segmentation_best is saved successfully\n"
     ]
    },
    {
     "name": "stderr",
     "output_type": "stream",
     "text": [
      "Train/Epoch 33/150: 100%|███████████████████████████████████████████████████████████| 104/104 [00:07<00:00, 13.83img/s]\n",
      "Eval/Epoch 33/150: 100%|██████████████████████████████████████████████████████████████| 27/27 [00:03<00:00,  8.27img/s]\n"
     ]
    },
    {
     "name": "stdout",
     "output_type": "stream",
     "text": [
      "\"\n",
      "        Epoch: 33, \n",
      "        Average Train Loss: 0.1011 |\n",
      "        Average Test Loss: 0.1302 |\n",
      "        Average Test mIoU: 79.92\n",
      "        Average Test Accuracy: 93.4722900390625\n"
     ]
    },
    {
     "name": "stderr",
     "output_type": "stream",
     "text": [
      "Train/Epoch 34/150: 100%|███████████████████████████████████████████████████████████| 104/104 [00:07<00:00, 13.44img/s]\n",
      "Eval/Epoch 34/150: 100%|██████████████████████████████████████████████████████████████| 27/27 [00:03<00:00,  8.23img/s]\n"
     ]
    },
    {
     "name": "stdout",
     "output_type": "stream",
     "text": [
      "\"\n",
      "        Epoch: 34, \n",
      "        Average Train Loss: 0.0921 |\n",
      "        Average Test Loss: 0.0835 |\n",
      "        Average Test mIoU: 86.19\n",
      "        Average Test Accuracy: 95.38434600830078\n"
     ]
    },
    {
     "name": "stderr",
     "output_type": "stream",
     "text": [
      "Train/Epoch 35/150: 100%|███████████████████████████████████████████████████████████| 104/104 [00:07<00:00, 13.83img/s]\n",
      "Eval/Epoch 35/150: 100%|██████████████████████████████████████████████████████████████| 27/27 [00:03<00:00,  8.27img/s]\n"
     ]
    },
    {
     "name": "stdout",
     "output_type": "stream",
     "text": [
      "\"\n",
      "        Epoch: 35, \n",
      "        Average Train Loss: 0.1030 |\n",
      "        Average Test Loss: 0.0867 |\n",
      "        Average Test mIoU: 85.57\n",
      "        Average Test Accuracy: 94.59686279296875\n"
     ]
    },
    {
     "name": "stderr",
     "output_type": "stream",
     "text": [
      "Train/Epoch 36/150: 100%|███████████████████████████████████████████████████████████| 104/104 [00:07<00:00, 13.77img/s]\n",
      "Eval/Epoch 36/150: 100%|██████████████████████████████████████████████████████████████| 27/27 [00:03<00:00,  8.27img/s]\n"
     ]
    },
    {
     "name": "stdout",
     "output_type": "stream",
     "text": [
      "\"\n",
      "        Epoch: 36, \n",
      "        Average Train Loss: 0.0795 |\n",
      "        Average Test Loss: 0.1083 |\n",
      "        Average Test mIoU: 77.95\n",
      "        Average Test Accuracy: 89.315673828125\n"
     ]
    },
    {
     "name": "stderr",
     "output_type": "stream",
     "text": [
      "Train/Epoch 37/150: 100%|███████████████████████████████████████████████████████████| 104/104 [00:07<00:00, 13.80img/s]\n",
      "Eval/Epoch 37/150: 100%|██████████████████████████████████████████████████████████████| 27/27 [00:03<00:00,  8.27img/s]\n"
     ]
    },
    {
     "name": "stdout",
     "output_type": "stream",
     "text": [
      "\"\n",
      "        Epoch: 37, \n",
      "        Average Train Loss: 0.0801 |\n",
      "        Average Test Loss: 0.0741 |\n",
      "        Average Test mIoU: 86.03\n",
      "        Average Test Accuracy: 95.32496643066406\n"
     ]
    },
    {
     "name": "stderr",
     "output_type": "stream",
     "text": [
      "Train/Epoch 38/150: 100%|███████████████████████████████████████████████████████████| 104/104 [00:07<00:00, 13.83img/s]\n",
      "Eval/Epoch 38/150: 100%|██████████████████████████████████████████████████████████████| 27/27 [00:03<00:00,  8.27img/s]\n"
     ]
    },
    {
     "name": "stdout",
     "output_type": "stream",
     "text": [
      "\"\n",
      "        Epoch: 38, \n",
      "        Average Train Loss: 0.0869 |\n",
      "        Average Test Loss: 0.0693 |\n",
      "        Average Test mIoU: 88.52\n",
      "        Average Test Accuracy: 96.65006256103516\n",
      "Checkpoint: VGGUnet16_Segmentation_best is saved successfully\n"
     ]
    },
    {
     "name": "stderr",
     "output_type": "stream",
     "text": [
      "Train/Epoch 39/150: 100%|███████████████████████████████████████████████████████████| 104/104 [00:07<00:00, 13.66img/s]\n",
      "Eval/Epoch 39/150: 100%|██████████████████████████████████████████████████████████████| 27/27 [00:03<00:00,  8.26img/s]\n"
     ]
    },
    {
     "name": "stdout",
     "output_type": "stream",
     "text": [
      "\"\n",
      "        Epoch: 39, \n",
      "        Average Train Loss: 0.0757 |\n",
      "        Average Test Loss: 0.0720 |\n",
      "        Average Test mIoU: 88.05\n",
      "        Average Test Accuracy: 96.4654312133789\n"
     ]
    },
    {
     "name": "stderr",
     "output_type": "stream",
     "text": [
      "Train/Epoch 40/150: 100%|███████████████████████████████████████████████████████████| 104/104 [00:07<00:00, 13.83img/s]\n",
      "Eval/Epoch 40/150: 100%|██████████████████████████████████████████████████████████████| 27/27 [00:03<00:00,  8.23img/s]\n"
     ]
    },
    {
     "name": "stdout",
     "output_type": "stream",
     "text": [
      "\"\n",
      "        Epoch: 40, \n",
      "        Average Train Loss: 0.0792 |\n",
      "        Average Test Loss: 0.0695 |\n",
      "        Average Test mIoU: 85.17\n",
      "        Average Test Accuracy: 92.30207061767578\n"
     ]
    },
    {
     "name": "stderr",
     "output_type": "stream",
     "text": [
      "Train/Epoch 41/150: 100%|███████████████████████████████████████████████████████████| 104/104 [00:07<00:00, 13.80img/s]\n",
      "Eval/Epoch 41/150: 100%|██████████████████████████████████████████████████████████████| 27/27 [00:03<00:00,  8.26img/s]\n"
     ]
    },
    {
     "name": "stdout",
     "output_type": "stream",
     "text": [
      "\"\n",
      "        Epoch: 41, \n",
      "        Average Train Loss: 0.0779 |\n",
      "        Average Test Loss: 0.0564 |\n",
      "        Average Test mIoU: 90.30\n",
      "        Average Test Accuracy: 98.02322387695312\n",
      "Checkpoint: VGGUnet16_Segmentation_best is saved successfully\n"
     ]
    },
    {
     "name": "stderr",
     "output_type": "stream",
     "text": [
      "Train/Epoch 42/150: 100%|███████████████████████████████████████████████████████████| 104/104 [00:07<00:00, 13.71img/s]\n",
      "Eval/Epoch 42/150: 100%|██████████████████████████████████████████████████████████████| 27/27 [00:03<00:00,  8.27img/s]\n"
     ]
    },
    {
     "name": "stdout",
     "output_type": "stream",
     "text": [
      "\"\n",
      "        Epoch: 42, \n",
      "        Average Train Loss: 0.0758 |\n",
      "        Average Test Loss: 0.0554 |\n",
      "        Average Test mIoU: 89.07\n",
      "        Average Test Accuracy: 96.71414947509766\n"
     ]
    },
    {
     "name": "stderr",
     "output_type": "stream",
     "text": [
      "Train/Epoch 43/150: 100%|███████████████████████████████████████████████████████████| 104/104 [00:07<00:00, 13.75img/s]\n",
      "Eval/Epoch 43/150: 100%|██████████████████████████████████████████████████████████████| 27/27 [00:03<00:00,  8.23img/s]\n"
     ]
    },
    {
     "name": "stdout",
     "output_type": "stream",
     "text": [
      "\"\n",
      "        Epoch: 43, \n",
      "        Average Train Loss: 0.0784 |\n",
      "        Average Test Loss: 0.0673 |\n",
      "        Average Test mIoU: 87.32\n",
      "        Average Test Accuracy: 96.10252380371094\n"
     ]
    },
    {
     "name": "stderr",
     "output_type": "stream",
     "text": [
      "Train/Epoch 44/150: 100%|███████████████████████████████████████████████████████████| 104/104 [00:07<00:00, 13.83img/s]\n",
      "Eval/Epoch 44/150: 100%|██████████████████████████████████████████████████████████████| 27/27 [00:03<00:00,  8.35img/s]\n"
     ]
    },
    {
     "name": "stdout",
     "output_type": "stream",
     "text": [
      "\"\n",
      "        Epoch: 44, \n",
      "        Average Train Loss: 0.0827 |\n",
      "        Average Test Loss: 0.0706 |\n",
      "        Average Test mIoU: 86.73\n",
      "        Average Test Accuracy: 95.51429748535156\n"
     ]
    },
    {
     "name": "stderr",
     "output_type": "stream",
     "text": [
      "Train/Epoch 45/150: 100%|███████████████████████████████████████████████████████████| 104/104 [00:07<00:00, 13.77img/s]\n",
      "Eval/Epoch 45/150: 100%|██████████████████████████████████████████████████████████████| 27/27 [00:03<00:00,  8.31img/s]\n"
     ]
    },
    {
     "name": "stdout",
     "output_type": "stream",
     "text": [
      "\"\n",
      "        Epoch: 45, \n",
      "        Average Train Loss: 0.0677 |\n",
      "        Average Test Loss: 0.0814 |\n",
      "        Average Test mIoU: 85.09\n",
      "        Average Test Accuracy: 95.33576965332031\n"
     ]
    },
    {
     "name": "stderr",
     "output_type": "stream",
     "text": [
      "Train/Epoch 46/150: 100%|███████████████████████████████████████████████████████████| 104/104 [00:07<00:00, 13.83img/s]\n",
      "Eval/Epoch 46/150: 100%|██████████████████████████████████████████████████████████████| 27/27 [00:03<00:00,  8.34img/s]\n"
     ]
    },
    {
     "name": "stdout",
     "output_type": "stream",
     "text": [
      "\"\n",
      "        Epoch: 46, \n",
      "        Average Train Loss: 0.0737 |\n",
      "        Average Test Loss: 0.0622 |\n",
      "        Average Test mIoU: 87.74\n",
      "        Average Test Accuracy: 95.41690063476562\n"
     ]
    },
    {
     "name": "stderr",
     "output_type": "stream",
     "text": [
      "Train/Epoch 47/150: 100%|███████████████████████████████████████████████████████████| 104/104 [00:07<00:00, 13.77img/s]\n",
      "Eval/Epoch 47/150: 100%|██████████████████████████████████████████████████████████████| 27/27 [00:03<00:00,  8.27img/s]\n"
     ]
    },
    {
     "name": "stdout",
     "output_type": "stream",
     "text": [
      "\"\n",
      "        Epoch: 47, \n",
      "        Average Train Loss: 0.0688 |\n",
      "        Average Test Loss: 0.0605 |\n",
      "        Average Test mIoU: 87.67\n",
      "        Average Test Accuracy: 94.64276885986328\n"
     ]
    },
    {
     "name": "stderr",
     "output_type": "stream",
     "text": [
      "Train/Epoch 48/150: 100%|███████████████████████████████████████████████████████████| 104/104 [00:07<00:00, 13.77img/s]\n",
      "Eval/Epoch 48/150: 100%|██████████████████████████████████████████████████████████████| 27/27 [00:03<00:00,  8.22img/s]\n"
     ]
    },
    {
     "name": "stdout",
     "output_type": "stream",
     "text": [
      "\"\n",
      "        Epoch: 48, \n",
      "        Average Train Loss: 0.0783 |\n",
      "        Average Test Loss: 0.0618 |\n",
      "        Average Test mIoU: 88.06\n",
      "        Average Test Accuracy: 95.04966735839844\n"
     ]
    },
    {
     "name": "stderr",
     "output_type": "stream",
     "text": [
      "Train/Epoch 49/150: 100%|███████████████████████████████████████████████████████████| 104/104 [00:07<00:00, 13.77img/s]\n",
      "Eval/Epoch 49/150: 100%|██████████████████████████████████████████████████████████████| 27/27 [00:03<00:00,  8.30img/s]\n"
     ]
    },
    {
     "name": "stdout",
     "output_type": "stream",
     "text": [
      "\"\n",
      "        Epoch: 49, \n",
      "        Average Train Loss: 0.0668 |\n",
      "        Average Test Loss: 0.0577 |\n",
      "        Average Test mIoU: 89.23\n",
      "        Average Test Accuracy: 97.161865234375\n"
     ]
    },
    {
     "name": "stderr",
     "output_type": "stream",
     "text": [
      "Train/Epoch 50/150: 100%|███████████████████████████████████████████████████████████| 104/104 [00:07<00:00, 13.72img/s]\n",
      "Eval/Epoch 50/150: 100%|██████████████████████████████████████████████████████████████| 27/27 [00:03<00:00,  8.23img/s]\n"
     ]
    },
    {
     "name": "stdout",
     "output_type": "stream",
     "text": [
      "\"\n",
      "        Epoch: 50, \n",
      "        Average Train Loss: 0.0704 |\n",
      "        Average Test Loss: 0.0609 |\n",
      "        Average Test mIoU: 88.24\n",
      "        Average Test Accuracy: 96.85466003417969\n"
     ]
    },
    {
     "name": "stderr",
     "output_type": "stream",
     "text": [
      "Train/Epoch 51/150: 100%|███████████████████████████████████████████████████████████| 104/104 [00:07<00:00, 13.74img/s]\n",
      "Eval/Epoch 51/150: 100%|██████████████████████████████████████████████████████████████| 27/27 [00:03<00:00,  8.22img/s]\n"
     ]
    },
    {
     "name": "stdout",
     "output_type": "stream",
     "text": [
      "\"\n",
      "        Epoch: 51, \n",
      "        Average Train Loss: 0.0572 |\n",
      "        Average Test Loss: 0.0647 |\n",
      "        Average Test mIoU: 86.62\n",
      "        Average Test Accuracy: 95.10116577148438\n"
     ]
    },
    {
     "name": "stderr",
     "output_type": "stream",
     "text": [
      "Train/Epoch 52/150: 100%|███████████████████████████████████████████████████████████| 104/104 [00:07<00:00, 13.74img/s]\n",
      "Eval/Epoch 52/150: 100%|██████████████████████████████████████████████████████████████| 27/27 [00:03<00:00,  8.34img/s]\n"
     ]
    },
    {
     "name": "stdout",
     "output_type": "stream",
     "text": [
      "\"\n",
      "        Epoch: 52, \n",
      "        Average Train Loss: 0.0542 |\n",
      "        Average Test Loss: 0.0480 |\n",
      "        Average Test mIoU: 90.52\n",
      "        Average Test Accuracy: 97.74144744873047\n",
      "Checkpoint: VGGUnet16_Segmentation_best is saved successfully\n"
     ]
    },
    {
     "name": "stderr",
     "output_type": "stream",
     "text": [
      "Train/Epoch 53/150: 100%|███████████████████████████████████████████████████████████| 104/104 [00:07<00:00, 13.84img/s]\n",
      "Eval/Epoch 53/150: 100%|██████████████████████████████████████████████████████████████| 27/27 [00:03<00:00,  8.31img/s]\n"
     ]
    },
    {
     "name": "stdout",
     "output_type": "stream",
     "text": [
      "\"\n",
      "        Epoch: 53, \n",
      "        Average Train Loss: 0.0653 |\n",
      "        Average Test Loss: 0.0643 |\n",
      "        Average Test mIoU: 88.51\n",
      "        Average Test Accuracy: 96.51998138427734\n"
     ]
    },
    {
     "name": "stderr",
     "output_type": "stream",
     "text": [
      "Train/Epoch 54/150: 100%|███████████████████████████████████████████████████████████| 104/104 [00:07<00:00, 13.69img/s]\n",
      "Eval/Epoch 54/150: 100%|██████████████████████████████████████████████████████████████| 27/27 [00:03<00:00,  8.27img/s]\n"
     ]
    },
    {
     "name": "stdout",
     "output_type": "stream",
     "text": [
      "\"\n",
      "        Epoch: 54, \n",
      "        Average Train Loss: 0.0665 |\n",
      "        Average Test Loss: 0.0783 |\n",
      "        Average Test mIoU: 83.95\n",
      "        Average Test Accuracy: 94.43995666503906\n"
     ]
    },
    {
     "name": "stderr",
     "output_type": "stream",
     "text": [
      "Train/Epoch 55/150: 100%|███████████████████████████████████████████████████████████| 104/104 [00:07<00:00, 13.80img/s]\n",
      "Eval/Epoch 55/150: 100%|██████████████████████████████████████████████████████████████| 27/27 [00:03<00:00,  8.51img/s]\n"
     ]
    },
    {
     "name": "stdout",
     "output_type": "stream",
     "text": [
      "\"\n",
      "        Epoch: 55, \n",
      "        Average Train Loss: 0.0751 |\n",
      "        Average Test Loss: 0.0520 |\n",
      "        Average Test mIoU: 90.93\n",
      "        Average Test Accuracy: 97.56088256835938\n",
      "Checkpoint: VGGUnet16_Segmentation_best is saved successfully\n"
     ]
    },
    {
     "name": "stderr",
     "output_type": "stream",
     "text": [
      "Train/Epoch 56/150: 100%|███████████████████████████████████████████████████████████| 104/104 [00:07<00:00, 13.80img/s]\n",
      "Eval/Epoch 56/150: 100%|██████████████████████████████████████████████████████████████| 27/27 [00:03<00:00,  8.30img/s]\n"
     ]
    },
    {
     "name": "stdout",
     "output_type": "stream",
     "text": [
      "\"\n",
      "        Epoch: 56, \n",
      "        Average Train Loss: 0.0714 |\n",
      "        Average Test Loss: 0.0683 |\n",
      "        Average Test mIoU: 88.26\n",
      "        Average Test Accuracy: 97.14317321777344\n"
     ]
    },
    {
     "name": "stderr",
     "output_type": "stream",
     "text": [
      "Train/Epoch 57/150: 100%|███████████████████████████████████████████████████████████| 104/104 [00:07<00:00, 13.78img/s]\n",
      "Eval/Epoch 57/150: 100%|██████████████████████████████████████████████████████████████| 27/27 [00:03<00:00,  8.38img/s]\n"
     ]
    },
    {
     "name": "stdout",
     "output_type": "stream",
     "text": [
      "\"\n",
      "        Epoch: 57, \n",
      "        Average Train Loss: 0.0627 |\n",
      "        Average Test Loss: 0.0502 |\n",
      "        Average Test mIoU: 90.85\n",
      "        Average Test Accuracy: 97.78251647949219\n"
     ]
    },
    {
     "name": "stderr",
     "output_type": "stream",
     "text": [
      "Train/Epoch 58/150: 100%|███████████████████████████████████████████████████████████| 104/104 [00:07<00:00, 13.78img/s]\n",
      "Eval/Epoch 58/150: 100%|██████████████████████████████████████████████████████████████| 27/27 [00:03<00:00,  8.30img/s]\n"
     ]
    },
    {
     "name": "stdout",
     "output_type": "stream",
     "text": [
      "\"\n",
      "        Epoch: 58, \n",
      "        Average Train Loss: 0.0662 |\n",
      "        Average Test Loss: 0.0567 |\n",
      "        Average Test mIoU: 88.45\n",
      "        Average Test Accuracy: 96.52507019042969\n"
     ]
    },
    {
     "name": "stderr",
     "output_type": "stream",
     "text": [
      "Train/Epoch 59/150: 100%|███████████████████████████████████████████████████████████| 104/104 [00:07<00:00, 13.75img/s]\n",
      "Eval/Epoch 59/150: 100%|██████████████████████████████████████████████████████████████| 27/27 [00:03<00:00,  8.34img/s]\n"
     ]
    },
    {
     "name": "stdout",
     "output_type": "stream",
     "text": [
      "\"\n",
      "        Epoch: 59, \n",
      "        Average Train Loss: 0.0549 |\n",
      "        Average Test Loss: 0.0457 |\n",
      "        Average Test mIoU: 90.90\n",
      "        Average Test Accuracy: 96.84359741210938\n"
     ]
    },
    {
     "name": "stderr",
     "output_type": "stream",
     "text": [
      "Train/Epoch 60/150: 100%|███████████████████████████████████████████████████████████| 104/104 [00:07<00:00, 13.75img/s]\n",
      "Eval/Epoch 60/150: 100%|██████████████████████████████████████████████████████████████| 27/27 [00:03<00:00,  8.34img/s]\n"
     ]
    },
    {
     "name": "stdout",
     "output_type": "stream",
     "text": [
      "\"\n",
      "        Epoch: 60, \n",
      "        Average Train Loss: 0.0670 |\n",
      "        Average Test Loss: 0.0549 |\n",
      "        Average Test mIoU: 89.88\n",
      "        Average Test Accuracy: 98.00517272949219\n"
     ]
    },
    {
     "name": "stderr",
     "output_type": "stream",
     "text": [
      "Train/Epoch 61/150: 100%|███████████████████████████████████████████████████████████| 104/104 [00:07<00:00, 13.74img/s]\n",
      "Eval/Epoch 61/150: 100%|██████████████████████████████████████████████████████████████| 27/27 [00:03<00:00,  8.35img/s]\n"
     ]
    },
    {
     "name": "stdout",
     "output_type": "stream",
     "text": [
      "\"\n",
      "        Epoch: 61, \n",
      "        Average Train Loss: 0.0576 |\n",
      "        Average Test Loss: 0.0479 |\n",
      "        Average Test mIoU: 90.88\n",
      "        Average Test Accuracy: 98.29839324951172\n"
     ]
    },
    {
     "name": "stderr",
     "output_type": "stream",
     "text": [
      "Train/Epoch 62/150: 100%|███████████████████████████████████████████████████████████| 104/104 [00:07<00:00, 13.80img/s]\n",
      "Eval/Epoch 62/150: 100%|██████████████████████████████████████████████████████████████| 27/27 [00:03<00:00,  8.43img/s]\n"
     ]
    },
    {
     "name": "stdout",
     "output_type": "stream",
     "text": [
      "\"\n",
      "        Epoch: 62, \n",
      "        Average Train Loss: 0.0591 |\n",
      "        Average Test Loss: 0.0454 |\n",
      "        Average Test mIoU: 91.74\n",
      "        Average Test Accuracy: 98.20722198486328\n",
      "Checkpoint: VGGUnet16_Segmentation_best is saved successfully\n"
     ]
    },
    {
     "name": "stderr",
     "output_type": "stream",
     "text": [
      "Train/Epoch 63/150: 100%|███████████████████████████████████████████████████████████| 104/104 [00:07<00:00, 13.77img/s]\n",
      "Eval/Epoch 63/150: 100%|██████████████████████████████████████████████████████████████| 27/27 [00:03<00:00,  8.27img/s]\n"
     ]
    },
    {
     "name": "stdout",
     "output_type": "stream",
     "text": [
      "\"\n",
      "        Epoch: 63, \n",
      "        Average Train Loss: 0.0540 |\n",
      "        Average Test Loss: 0.0496 |\n",
      "        Average Test mIoU: 90.43\n",
      "        Average Test Accuracy: 97.76535034179688\n"
     ]
    },
    {
     "name": "stderr",
     "output_type": "stream",
     "text": [
      "Train/Epoch 64/150: 100%|███████████████████████████████████████████████████████████| 104/104 [00:07<00:00, 13.72img/s]\n",
      "Eval/Epoch 64/150: 100%|██████████████████████████████████████████████████████████████| 27/27 [00:03<00:00,  8.35img/s]\n"
     ]
    },
    {
     "name": "stdout",
     "output_type": "stream",
     "text": [
      "\"\n",
      "        Epoch: 64, \n",
      "        Average Train Loss: 0.0619 |\n",
      "        Average Test Loss: 0.0515 |\n",
      "        Average Test mIoU: 91.08\n",
      "        Average Test Accuracy: 97.72504425048828\n"
     ]
    },
    {
     "name": "stderr",
     "output_type": "stream",
     "text": [
      "Train/Epoch 65/150: 100%|███████████████████████████████████████████████████████████| 104/104 [00:07<00:00, 13.49img/s]\n",
      "Eval/Epoch 65/150: 100%|██████████████████████████████████████████████████████████████| 27/27 [00:03<00:00,  8.34img/s]\n"
     ]
    },
    {
     "name": "stdout",
     "output_type": "stream",
     "text": [
      "\"\n",
      "        Epoch: 65, \n",
      "        Average Train Loss: 0.0525 |\n",
      "        Average Test Loss: 0.0480 |\n",
      "        Average Test mIoU: 90.64\n",
      "        Average Test Accuracy: 97.86186218261719\n"
     ]
    },
    {
     "name": "stderr",
     "output_type": "stream",
     "text": [
      "Train/Epoch 66/150: 100%|███████████████████████████████████████████████████████████| 104/104 [00:07<00:00, 13.92img/s]\n",
      "Eval/Epoch 66/150: 100%|██████████████████████████████████████████████████████████████| 27/27 [00:03<00:00,  8.30img/s]\n"
     ]
    },
    {
     "name": "stdout",
     "output_type": "stream",
     "text": [
      "\"\n",
      "        Epoch: 66, \n",
      "        Average Train Loss: 0.0557 |\n",
      "        Average Test Loss: 0.0475 |\n",
      "        Average Test mIoU: 91.47\n",
      "        Average Test Accuracy: 97.65841674804688\n"
     ]
    },
    {
     "name": "stderr",
     "output_type": "stream",
     "text": [
      "Train/Epoch 67/150: 100%|███████████████████████████████████████████████████████████| 104/104 [00:07<00:00, 13.78img/s]\n",
      "Eval/Epoch 67/150: 100%|██████████████████████████████████████████████████████████████| 27/27 [00:03<00:00,  8.31img/s]\n"
     ]
    },
    {
     "name": "stdout",
     "output_type": "stream",
     "text": [
      "\"\n",
      "        Epoch: 67, \n",
      "        Average Train Loss: 0.0488 |\n",
      "        Average Test Loss: 0.0416 |\n",
      "        Average Test mIoU: 92.03\n",
      "        Average Test Accuracy: 97.91743469238281\n",
      "Checkpoint: VGGUnet16_Segmentation_best is saved successfully\n"
     ]
    },
    {
     "name": "stderr",
     "output_type": "stream",
     "text": [
      "Train/Epoch 68/150: 100%|███████████████████████████████████████████████████████████| 104/104 [00:07<00:00, 13.89img/s]\n",
      "Eval/Epoch 68/150: 100%|██████████████████████████████████████████████████████████████| 27/27 [00:03<00:00,  8.34img/s]\n"
     ]
    },
    {
     "name": "stdout",
     "output_type": "stream",
     "text": [
      "\"\n",
      "        Epoch: 68, \n",
      "        Average Train Loss: 0.0521 |\n",
      "        Average Test Loss: 0.0471 |\n",
      "        Average Test mIoU: 90.68\n",
      "        Average Test Accuracy: 97.02644348144531\n"
     ]
    },
    {
     "name": "stderr",
     "output_type": "stream",
     "text": [
      "Train/Epoch 69/150: 100%|███████████████████████████████████████████████████████████| 104/104 [00:07<00:00, 13.81img/s]\n",
      "Eval/Epoch 69/150: 100%|██████████████████████████████████████████████████████████████| 27/27 [00:03<00:00,  8.26img/s]\n"
     ]
    },
    {
     "name": "stdout",
     "output_type": "stream",
     "text": [
      "\"\n",
      "        Epoch: 69, \n",
      "        Average Train Loss: 0.0588 |\n",
      "        Average Test Loss: 0.0450 |\n",
      "        Average Test mIoU: 91.41\n",
      "        Average Test Accuracy: 98.4251708984375\n"
     ]
    },
    {
     "name": "stderr",
     "output_type": "stream",
     "text": [
      "Train/Epoch 70/150: 100%|███████████████████████████████████████████████████████████| 104/104 [00:07<00:00, 13.72img/s]\n",
      "Eval/Epoch 70/150: 100%|██████████████████████████████████████████████████████████████| 27/27 [00:03<00:00,  8.22img/s]\n"
     ]
    },
    {
     "name": "stdout",
     "output_type": "stream",
     "text": [
      "\"\n",
      "        Epoch: 70, \n",
      "        Average Train Loss: 0.0580 |\n",
      "        Average Test Loss: 0.0460 |\n",
      "        Average Test mIoU: 91.47\n",
      "        Average Test Accuracy: 97.93523406982422\n"
     ]
    },
    {
     "name": "stderr",
     "output_type": "stream",
     "text": [
      "Train/Epoch 71/150: 100%|███████████████████████████████████████████████████████████| 104/104 [00:07<00:00, 13.61img/s]\n",
      "Eval/Epoch 71/150: 100%|██████████████████████████████████████████████████████████████| 27/27 [00:03<00:00,  8.43img/s]\n"
     ]
    },
    {
     "name": "stdout",
     "output_type": "stream",
     "text": [
      "\"\n",
      "        Epoch: 71, \n",
      "        Average Train Loss: 0.0489 |\n",
      "        Average Test Loss: 0.0438 |\n",
      "        Average Test mIoU: 91.53\n",
      "        Average Test Accuracy: 97.95201873779297\n"
     ]
    },
    {
     "name": "stderr",
     "output_type": "stream",
     "text": [
      "Train/Epoch 72/150: 100%|███████████████████████████████████████████████████████████| 104/104 [00:07<00:00, 13.89img/s]\n",
      "Eval/Epoch 72/150: 100%|██████████████████████████████████████████████████████████████| 27/27 [00:03<00:00,  8.30img/s]\n"
     ]
    },
    {
     "name": "stdout",
     "output_type": "stream",
     "text": [
      "\"\n",
      "        Epoch: 72, \n",
      "        Average Train Loss: 0.0523 |\n",
      "        Average Test Loss: 0.0500 |\n",
      "        Average Test mIoU: 90.98\n",
      "        Average Test Accuracy: 98.4410629272461\n"
     ]
    },
    {
     "name": "stderr",
     "output_type": "stream",
     "text": [
      "Train/Epoch 73/150: 100%|███████████████████████████████████████████████████████████| 104/104 [00:07<00:00, 13.42img/s]\n",
      "Eval/Epoch 73/150: 100%|██████████████████████████████████████████████████████████████| 27/27 [00:06<00:00,  3.96img/s]\n"
     ]
    },
    {
     "name": "stdout",
     "output_type": "stream",
     "text": [
      "\"\n",
      "        Epoch: 73, \n",
      "        Average Train Loss: 0.0466 |\n",
      "        Average Test Loss: 0.0454 |\n",
      "        Average Test mIoU: 91.47\n",
      "        Average Test Accuracy: 98.76239013671875\n"
     ]
    },
    {
     "name": "stderr",
     "output_type": "stream",
     "text": [
      "Train/Epoch 74/150: 100%|███████████████████████████████████████████████████████████| 104/104 [00:07<00:00, 13.42img/s]\n",
      "Eval/Epoch 74/150: 100%|██████████████████████████████████████████████████████████████| 27/27 [00:03<00:00,  8.04img/s]\n"
     ]
    },
    {
     "name": "stdout",
     "output_type": "stream",
     "text": [
      "\"\n",
      "        Epoch: 74, \n",
      "        Average Train Loss: 0.0515 |\n",
      "        Average Test Loss: 0.0409 |\n",
      "        Average Test mIoU: 92.01\n",
      "        Average Test Accuracy: 97.90599060058594\n"
     ]
    },
    {
     "name": "stderr",
     "output_type": "stream",
     "text": [
      "Train/Epoch 75/150: 100%|███████████████████████████████████████████████████████████| 104/104 [00:07<00:00, 13.72img/s]\n",
      "Eval/Epoch 75/150: 100%|██████████████████████████████████████████████████████████████| 27/27 [00:03<00:00,  8.07img/s]\n"
     ]
    },
    {
     "name": "stdout",
     "output_type": "stream",
     "text": [
      "\"\n",
      "        Epoch: 75, \n",
      "        Average Train Loss: 0.0479 |\n",
      "        Average Test Loss: 0.0859 |\n",
      "        Average Test mIoU: 83.05\n",
      "        Average Test Accuracy: 90.5089111328125\n"
     ]
    },
    {
     "name": "stderr",
     "output_type": "stream",
     "text": [
      "Train/Epoch 76/150: 100%|███████████████████████████████████████████████████████████| 104/104 [00:07<00:00, 13.53img/s]\n",
      "Eval/Epoch 76/150: 100%|██████████████████████████████████████████████████████████████| 27/27 [00:03<00:00,  8.15img/s]\n"
     ]
    },
    {
     "name": "stdout",
     "output_type": "stream",
     "text": [
      "\"\n",
      "        Epoch: 76, \n",
      "        Average Train Loss: 0.0618 |\n",
      "        Average Test Loss: 0.0520 |\n",
      "        Average Test mIoU: 90.77\n",
      "        Average Test Accuracy: 97.6353988647461\n"
     ]
    },
    {
     "name": "stderr",
     "output_type": "stream",
     "text": [
      "Train/Epoch 77/150: 100%|███████████████████████████████████████████████████████████| 104/104 [00:07<00:00, 13.55img/s]\n",
      "Eval/Epoch 77/150: 100%|██████████████████████████████████████████████████████████████| 27/27 [00:03<00:00,  8.04img/s]\n"
     ]
    },
    {
     "name": "stdout",
     "output_type": "stream",
     "text": [
      "\"\n",
      "        Epoch: 77, \n",
      "        Average Train Loss: 0.0489 |\n",
      "        Average Test Loss: 0.0413 |\n",
      "        Average Test mIoU: 92.33\n",
      "        Average Test Accuracy: 98.05068969726562\n",
      "Checkpoint: VGGUnet16_Segmentation_best is saved successfully\n"
     ]
    },
    {
     "name": "stderr",
     "output_type": "stream",
     "text": [
      "Train/Epoch 78/150: 100%|███████████████████████████████████████████████████████████| 104/104 [00:07<00:00, 13.61img/s]\n",
      "Eval/Epoch 78/150: 100%|██████████████████████████████████████████████████████████████| 27/27 [00:03<00:00,  8.07img/s]\n"
     ]
    },
    {
     "name": "stdout",
     "output_type": "stream",
     "text": [
      "\"\n",
      "        Epoch: 78, \n",
      "        Average Train Loss: 0.0480 |\n",
      "        Average Test Loss: 0.0407 |\n",
      "        Average Test mIoU: 92.06\n",
      "        Average Test Accuracy: 98.53643035888672\n"
     ]
    },
    {
     "name": "stderr",
     "output_type": "stream",
     "text": [
      "Train/Epoch 79/150: 100%|███████████████████████████████████████████████████████████| 104/104 [00:07<00:00, 13.53img/s]\n",
      "Eval/Epoch 79/150: 100%|██████████████████████████████████████████████████████████████| 27/27 [00:03<00:00,  8.31img/s]\n"
     ]
    },
    {
     "name": "stdout",
     "output_type": "stream",
     "text": [
      "\"\n",
      "        Epoch: 79, \n",
      "        Average Train Loss: 0.0489 |\n",
      "        Average Test Loss: 0.0450 |\n",
      "        Average Test mIoU: 90.96\n",
      "        Average Test Accuracy: 96.66417694091797\n"
     ]
    },
    {
     "name": "stderr",
     "output_type": "stream",
     "text": [
      "Train/Epoch 80/150: 100%|███████████████████████████████████████████████████████████| 104/104 [00:07<00:00, 13.39img/s]\n",
      "Eval/Epoch 80/150: 100%|██████████████████████████████████████████████████████████████| 27/27 [00:03<00:00,  8.35img/s]\n"
     ]
    },
    {
     "name": "stdout",
     "output_type": "stream",
     "text": [
      "\"\n",
      "        Epoch: 80, \n",
      "        Average Train Loss: 0.0460 |\n",
      "        Average Test Loss: 0.0450 |\n",
      "        Average Test mIoU: 91.38\n",
      "        Average Test Accuracy: 98.07027435302734\n"
     ]
    },
    {
     "name": "stderr",
     "output_type": "stream",
     "text": [
      "Train/Epoch 81/150: 100%|███████████████████████████████████████████████████████████| 104/104 [00:07<00:00, 13.61img/s]\n",
      "Eval/Epoch 81/150: 100%|██████████████████████████████████████████████████████████████| 27/27 [00:03<00:00,  8.23img/s]\n"
     ]
    },
    {
     "name": "stdout",
     "output_type": "stream",
     "text": [
      "\"\n",
      "        Epoch: 81, \n",
      "        Average Train Loss: 0.0445 |\n",
      "        Average Test Loss: 0.0380 |\n",
      "        Average Test mIoU: 92.53\n",
      "        Average Test Accuracy: 98.78324127197266\n",
      "Checkpoint: VGGUnet16_Segmentation_best is saved successfully\n"
     ]
    },
    {
     "name": "stderr",
     "output_type": "stream",
     "text": [
      "Train/Epoch 82/150: 100%|███████████████████████████████████████████████████████████| 104/104 [00:07<00:00, 13.23img/s]\n",
      "Eval/Epoch 82/150: 100%|██████████████████████████████████████████████████████████████| 27/27 [00:03<00:00,  8.07img/s]\n"
     ]
    },
    {
     "name": "stdout",
     "output_type": "stream",
     "text": [
      "\"\n",
      "        Epoch: 82, \n",
      "        Average Train Loss: 0.0474 |\n",
      "        Average Test Loss: 0.0455 |\n",
      "        Average Test mIoU: 91.58\n",
      "        Average Test Accuracy: 97.94490051269531\n"
     ]
    },
    {
     "name": "stderr",
     "output_type": "stream",
     "text": [
      "Train/Epoch 83/150: 100%|███████████████████████████████████████████████████████████| 104/104 [00:07<00:00, 13.56img/s]\n",
      "Eval/Epoch 83/150: 100%|██████████████████████████████████████████████████████████████| 27/27 [00:03<00:00,  8.31img/s]\n"
     ]
    },
    {
     "name": "stdout",
     "output_type": "stream",
     "text": [
      "\"\n",
      "        Epoch: 83, \n",
      "        Average Train Loss: 0.0469 |\n",
      "        Average Test Loss: 0.0381 |\n",
      "        Average Test mIoU: 92.76\n",
      "        Average Test Accuracy: 98.61895751953125\n",
      "Checkpoint: VGGUnet16_Segmentation_best is saved successfully\n"
     ]
    },
    {
     "name": "stderr",
     "output_type": "stream",
     "text": [
      "Train/Epoch 84/150: 100%|███████████████████████████████████████████████████████████| 104/104 [00:07<00:00, 13.53img/s]\n",
      "Eval/Epoch 84/150: 100%|██████████████████████████████████████████████████████████████| 27/27 [00:03<00:00,  8.11img/s]\n"
     ]
    },
    {
     "name": "stdout",
     "output_type": "stream",
     "text": [
      "\"\n",
      "        Epoch: 84, \n",
      "        Average Train Loss: 0.0451 |\n",
      "        Average Test Loss: 0.0387 |\n",
      "        Average Test mIoU: 92.77\n",
      "        Average Test Accuracy: 99.10647583007812\n",
      "Checkpoint: VGGUnet16_Segmentation_best is saved successfully\n"
     ]
    },
    {
     "name": "stderr",
     "output_type": "stream",
     "text": [
      "Train/Epoch 85/150: 100%|███████████████████████████████████████████████████████████| 104/104 [00:07<00:00, 13.75img/s]\n",
      "Eval/Epoch 85/150: 100%|██████████████████████████████████████████████████████████████| 27/27 [00:03<00:00,  8.30img/s]\n"
     ]
    },
    {
     "name": "stdout",
     "output_type": "stream",
     "text": [
      "\"\n",
      "        Epoch: 85, \n",
      "        Average Train Loss: 0.0408 |\n",
      "        Average Test Loss: 0.0500 |\n",
      "        Average Test mIoU: 91.64\n",
      "        Average Test Accuracy: 97.21883392333984\n"
     ]
    },
    {
     "name": "stderr",
     "output_type": "stream",
     "text": [
      "Train/Epoch 86/150: 100%|███████████████████████████████████████████████████████████| 104/104 [00:07<00:00, 13.69img/s]\n",
      "Eval/Epoch 86/150: 100%|██████████████████████████████████████████████████████████████| 27/27 [00:03<00:00,  8.04img/s]\n"
     ]
    },
    {
     "name": "stdout",
     "output_type": "stream",
     "text": [
      "\"\n",
      "        Epoch: 86, \n",
      "        Average Train Loss: 0.0455 |\n",
      "        Average Test Loss: 0.0367 |\n",
      "        Average Test mIoU: 93.08\n",
      "        Average Test Accuracy: 98.553466796875\n",
      "Checkpoint: VGGUnet16_Segmentation_best is saved successfully\n"
     ]
    },
    {
     "name": "stderr",
     "output_type": "stream",
     "text": [
      "Train/Epoch 87/150: 100%|███████████████████████████████████████████████████████████| 104/104 [00:07<00:00, 13.58img/s]\n",
      "Eval/Epoch 87/150: 100%|██████████████████████████████████████████████████████████████| 27/27 [00:03<00:00,  8.27img/s]\n"
     ]
    },
    {
     "name": "stdout",
     "output_type": "stream",
     "text": [
      "\"\n",
      "        Epoch: 87, \n",
      "        Average Train Loss: 0.0488 |\n",
      "        Average Test Loss: 0.0501 |\n",
      "        Average Test mIoU: 91.14\n",
      "        Average Test Accuracy: 97.30250549316406\n"
     ]
    },
    {
     "name": "stderr",
     "output_type": "stream",
     "text": [
      "Train/Epoch 88/150: 100%|███████████████████████████████████████████████████████████| 104/104 [00:07<00:00, 13.75img/s]\n",
      "Eval/Epoch 88/150: 100%|██████████████████████████████████████████████████████████████| 27/27 [00:03<00:00,  8.27img/s]\n"
     ]
    },
    {
     "name": "stdout",
     "output_type": "stream",
     "text": [
      "\"\n",
      "        Epoch: 88, \n",
      "        Average Train Loss: 0.0457 |\n",
      "        Average Test Loss: 0.0418 |\n",
      "        Average Test mIoU: 92.03\n",
      "        Average Test Accuracy: 98.55982971191406\n"
     ]
    },
    {
     "name": "stderr",
     "output_type": "stream",
     "text": [
      "Train/Epoch 89/150: 100%|███████████████████████████████████████████████████████████| 104/104 [00:07<00:00, 13.75img/s]\n",
      "Eval/Epoch 89/150: 100%|██████████████████████████████████████████████████████████████| 27/27 [00:03<00:00,  8.04img/s]\n"
     ]
    },
    {
     "name": "stdout",
     "output_type": "stream",
     "text": [
      "\"\n",
      "        Epoch: 89, \n",
      "        Average Train Loss: 0.0413 |\n",
      "        Average Test Loss: 0.0404 |\n",
      "        Average Test mIoU: 92.47\n",
      "        Average Test Accuracy: 98.56109619140625\n"
     ]
    },
    {
     "name": "stderr",
     "output_type": "stream",
     "text": [
      "Train/Epoch 90/150: 100%|███████████████████████████████████████████████████████████| 104/104 [00:07<00:00, 13.31img/s]\n",
      "Eval/Epoch 90/150: 100%|██████████████████████████████████████████████████████████████| 27/27 [00:03<00:00,  8.15img/s]\n"
     ]
    },
    {
     "name": "stdout",
     "output_type": "stream",
     "text": [
      "\"\n",
      "        Epoch: 90, \n",
      "        Average Train Loss: 0.0432 |\n",
      "        Average Test Loss: 0.0354 |\n",
      "        Average Test mIoU: 93.28\n",
      "        Average Test Accuracy: 98.38473510742188\n",
      "Checkpoint: VGGUnet16_Segmentation_best is saved successfully\n"
     ]
    },
    {
     "name": "stderr",
     "output_type": "stream",
     "text": [
      "Train/Epoch 91/150: 100%|███████████████████████████████████████████████████████████| 104/104 [00:07<00:00, 13.64img/s]\n",
      "Eval/Epoch 91/150: 100%|██████████████████████████████████████████████████████████████| 27/27 [00:03<00:00,  8.35img/s]\n"
     ]
    },
    {
     "name": "stdout",
     "output_type": "stream",
     "text": [
      "\"\n",
      "        Epoch: 91, \n",
      "        Average Train Loss: 0.0466 |\n",
      "        Average Test Loss: 0.0385 |\n",
      "        Average Test mIoU: 92.99\n",
      "        Average Test Accuracy: 98.45950317382812\n"
     ]
    },
    {
     "name": "stderr",
     "output_type": "stream",
     "text": [
      "Train/Epoch 92/150: 100%|███████████████████████████████████████████████████████████| 104/104 [00:07<00:00, 13.66img/s]\n",
      "Eval/Epoch 92/150: 100%|██████████████████████████████████████████████████████████████| 27/27 [00:04<00:00,  5.77img/s]\n"
     ]
    },
    {
     "name": "stdout",
     "output_type": "stream",
     "text": [
      "\"\n",
      "        Epoch: 92, \n",
      "        Average Train Loss: 0.0390 |\n",
      "        Average Test Loss: 0.0406 |\n",
      "        Average Test mIoU: 92.63\n",
      "        Average Test Accuracy: 98.76544189453125\n"
     ]
    },
    {
     "name": "stderr",
     "output_type": "stream",
     "text": [
      "Train/Epoch 93/150: 100%|███████████████████████████████████████████████████████████| 104/104 [00:09<00:00, 11.22img/s]\n",
      "Eval/Epoch 93/150: 100%|██████████████████████████████████████████████████████████████| 27/27 [00:04<00:00,  5.80img/s]\n"
     ]
    },
    {
     "name": "stdout",
     "output_type": "stream",
     "text": [
      "\"\n",
      "        Epoch: 93, \n",
      "        Average Train Loss: 0.0423 |\n",
      "        Average Test Loss: 0.0500 |\n",
      "        Average Test mIoU: 90.72\n",
      "        Average Test Accuracy: 97.56940460205078\n"
     ]
    },
    {
     "name": "stderr",
     "output_type": "stream",
     "text": [
      "Train/Epoch 94/150: 100%|███████████████████████████████████████████████████████████| 104/104 [00:07<00:00, 13.69img/s]\n",
      "Eval/Epoch 94/150: 100%|██████████████████████████████████████████████████████████████| 27/27 [00:03<00:00,  7.88img/s]\n"
     ]
    },
    {
     "name": "stdout",
     "output_type": "stream",
     "text": [
      "\"\n",
      "        Epoch: 94, \n",
      "        Average Train Loss: 0.0439 |\n",
      "        Average Test Loss: 0.0375 |\n",
      "        Average Test mIoU: 93.16\n",
      "        Average Test Accuracy: 98.5997543334961\n"
     ]
    },
    {
     "name": "stderr",
     "output_type": "stream",
     "text": [
      "Train/Epoch 95/150: 100%|███████████████████████████████████████████████████████████| 104/104 [00:07<00:00, 13.75img/s]\n",
      "Eval/Epoch 95/150: 100%|██████████████████████████████████████████████████████████████| 27/27 [00:03<00:00,  8.27img/s]\n"
     ]
    },
    {
     "name": "stdout",
     "output_type": "stream",
     "text": [
      "\"\n",
      "        Epoch: 95, \n",
      "        Average Train Loss: 0.0425 |\n",
      "        Average Test Loss: 0.0374 |\n",
      "        Average Test mIoU: 93.09\n",
      "        Average Test Accuracy: 98.57343292236328\n"
     ]
    },
    {
     "name": "stderr",
     "output_type": "stream",
     "text": [
      "Train/Epoch 96/150: 100%|███████████████████████████████████████████████████████████| 104/104 [00:07<00:00, 13.75img/s]\n",
      "Eval/Epoch 96/150: 100%|██████████████████████████████████████████████████████████████| 27/27 [00:03<00:00,  8.27img/s]\n"
     ]
    },
    {
     "name": "stdout",
     "output_type": "stream",
     "text": [
      "\"\n",
      "        Epoch: 96, \n",
      "        Average Train Loss: 0.0429 |\n",
      "        Average Test Loss: 0.0441 |\n",
      "        Average Test mIoU: 91.16\n",
      "        Average Test Accuracy: 97.22557067871094\n"
     ]
    },
    {
     "name": "stderr",
     "output_type": "stream",
     "text": [
      "Train/Epoch 97/150: 100%|███████████████████████████████████████████████████████████| 104/104 [00:07<00:00, 13.78img/s]\n",
      "Eval/Epoch 97/150: 100%|██████████████████████████████████████████████████████████████| 27/27 [00:03<00:00,  8.38img/s]\n"
     ]
    },
    {
     "name": "stdout",
     "output_type": "stream",
     "text": [
      "\"\n",
      "        Epoch: 97, \n",
      "        Average Train Loss: 0.0419 |\n",
      "        Average Test Loss: 0.0472 |\n",
      "        Average Test mIoU: 89.88\n",
      "        Average Test Accuracy: 96.01885986328125\n"
     ]
    },
    {
     "name": "stderr",
     "output_type": "stream",
     "text": [
      "Train/Epoch 98/150: 100%|███████████████████████████████████████████████████████████| 104/104 [00:07<00:00, 13.77img/s]\n",
      "Eval/Epoch 98/150: 100%|██████████████████████████████████████████████████████████████| 27/27 [00:06<00:00,  4.05img/s]\n"
     ]
    },
    {
     "name": "stdout",
     "output_type": "stream",
     "text": [
      "\"\n",
      "        Epoch: 98, \n",
      "        Average Train Loss: 0.0419 |\n",
      "        Average Test Loss: 0.0451 |\n",
      "        Average Test mIoU: 92.84\n",
      "        Average Test Accuracy: 98.55626678466797\n"
     ]
    },
    {
     "name": "stderr",
     "output_type": "stream",
     "text": [
      "Train/Epoch 99/150: 100%|███████████████████████████████████████████████████████████| 104/104 [00:07<00:00, 13.77img/s]\n",
      "Eval/Epoch 99/150: 100%|██████████████████████████████████████████████████████████████| 27/27 [00:03<00:00,  8.26img/s]\n"
     ]
    },
    {
     "name": "stdout",
     "output_type": "stream",
     "text": [
      "\"\n",
      "        Epoch: 99, \n",
      "        Average Train Loss: 0.0469 |\n",
      "        Average Test Loss: 0.0421 |\n",
      "        Average Test mIoU: 91.53\n",
      "        Average Test Accuracy: 97.73941040039062\n"
     ]
    },
    {
     "name": "stderr",
     "output_type": "stream",
     "text": [
      "Train/Epoch 100/150: 100%|██████████████████████████████████████████████████████████| 104/104 [00:07<00:00, 13.75img/s]\n",
      "Eval/Epoch 100/150: 100%|█████████████████████████████████████████████████████████████| 27/27 [00:03<00:00,  8.34img/s]\n"
     ]
    },
    {
     "name": "stdout",
     "output_type": "stream",
     "text": [
      "\"\n",
      "        Epoch: 100, \n",
      "        Average Train Loss: 0.0477 |\n",
      "        Average Test Loss: 0.0485 |\n",
      "        Average Test mIoU: 91.22\n",
      "        Average Test Accuracy: 98.53515625\n"
     ]
    },
    {
     "name": "stderr",
     "output_type": "stream",
     "text": [
      "Train/Epoch 101/150: 100%|██████████████████████████████████████████████████████████| 104/104 [00:07<00:00, 13.78img/s]\n",
      "Eval/Epoch 101/150: 100%|█████████████████████████████████████████████████████████████| 27/27 [00:03<00:00,  8.31img/s]\n"
     ]
    },
    {
     "name": "stdout",
     "output_type": "stream",
     "text": [
      "\"\n",
      "        Epoch: 101, \n",
      "        Average Train Loss: 0.0471 |\n",
      "        Average Test Loss: 0.0379 |\n",
      "        Average Test mIoU: 92.66\n",
      "        Average Test Accuracy: 98.45683288574219\n"
     ]
    },
    {
     "name": "stderr",
     "output_type": "stream",
     "text": [
      "Train/Epoch 102/150: 100%|██████████████████████████████████████████████████████████| 104/104 [00:07<00:00, 13.58img/s]\n",
      "Eval/Epoch 102/150: 100%|█████████████████████████████████████████████████████████████| 27/27 [00:03<00:00,  8.39img/s]\n"
     ]
    },
    {
     "name": "stdout",
     "output_type": "stream",
     "text": [
      "\"\n",
      "        Epoch: 102, \n",
      "        Average Train Loss: 0.0527 |\n",
      "        Average Test Loss: 0.0501 |\n",
      "        Average Test mIoU: 91.36\n",
      "        Average Test Accuracy: 98.06671142578125\n"
     ]
    },
    {
     "name": "stderr",
     "output_type": "stream",
     "text": [
      "Train/Epoch 103/150: 100%|██████████████████████████████████████████████████████████| 104/104 [00:07<00:00, 13.83img/s]\n",
      "Eval/Epoch 103/150: 100%|█████████████████████████████████████████████████████████████| 27/27 [00:03<00:00,  8.30img/s]\n"
     ]
    },
    {
     "name": "stdout",
     "output_type": "stream",
     "text": [
      "\"\n",
      "        Epoch: 103, \n",
      "        Average Train Loss: 0.0456 |\n",
      "        Average Test Loss: 0.0371 |\n",
      "        Average Test mIoU: 93.06\n",
      "        Average Test Accuracy: 98.40062713623047\n"
     ]
    },
    {
     "name": "stderr",
     "output_type": "stream",
     "text": [
      "Train/Epoch 104/150: 100%|██████████████████████████████████████████████████████████| 104/104 [00:07<00:00, 13.83img/s]\n",
      "Eval/Epoch 104/150: 100%|█████████████████████████████████████████████████████████████| 27/27 [00:03<00:00,  8.34img/s]\n"
     ]
    },
    {
     "name": "stdout",
     "output_type": "stream",
     "text": [
      "\"\n",
      "        Epoch: 104, \n",
      "        Average Train Loss: 0.0435 |\n",
      "        Average Test Loss: 0.0476 |\n",
      "        Average Test mIoU: 91.83\n",
      "        Average Test Accuracy: 98.5741958618164\n"
     ]
    },
    {
     "name": "stderr",
     "output_type": "stream",
     "text": [
      "Train/Epoch 105/150: 100%|██████████████████████████████████████████████████████████| 104/104 [00:07<00:00, 13.75img/s]\n",
      "Eval/Epoch 105/150: 100%|█████████████████████████████████████████████████████████████| 27/27 [00:03<00:00,  8.30img/s]\n"
     ]
    },
    {
     "name": "stdout",
     "output_type": "stream",
     "text": [
      "\"\n",
      "        Epoch: 105, \n",
      "        Average Train Loss: 0.0426 |\n",
      "        Average Test Loss: 0.0474 |\n",
      "        Average Test mIoU: 90.66\n",
      "        Average Test Accuracy: 96.67892456054688\n"
     ]
    },
    {
     "name": "stderr",
     "output_type": "stream",
     "text": [
      "Train/Epoch 106/150: 100%|██████████████████████████████████████████████████████████| 104/104 [00:07<00:00, 13.80img/s]\n",
      "Eval/Epoch 106/150: 100%|█████████████████████████████████████████████████████████████| 27/27 [00:03<00:00,  8.30img/s]\n"
     ]
    },
    {
     "name": "stdout",
     "output_type": "stream",
     "text": [
      "\"\n",
      "        Epoch: 106, \n",
      "        Average Train Loss: 0.0444 |\n",
      "        Average Test Loss: 0.0657 |\n",
      "        Average Test mIoU: 87.10\n",
      "        Average Test Accuracy: 94.72783660888672\n"
     ]
    },
    {
     "name": "stderr",
     "output_type": "stream",
     "text": [
      "Train/Epoch 107/150: 100%|██████████████████████████████████████████████████████████| 104/104 [00:07<00:00, 13.75img/s]\n",
      "Eval/Epoch 107/150: 100%|█████████████████████████████████████████████████████████████| 27/27 [00:03<00:00,  8.30img/s]\n"
     ]
    },
    {
     "name": "stdout",
     "output_type": "stream",
     "text": [
      "\"\n",
      "        Epoch: 107, \n",
      "        Average Train Loss: 0.0476 |\n",
      "        Average Test Loss: 0.0580 |\n",
      "        Average Test mIoU: 88.41\n",
      "        Average Test Accuracy: 96.7473373413086\n"
     ]
    },
    {
     "name": "stderr",
     "output_type": "stream",
     "text": [
      "Train/Epoch 108/150: 100%|██████████████████████████████████████████████████████████| 104/104 [00:07<00:00, 13.80img/s]\n",
      "Eval/Epoch 108/150: 100%|█████████████████████████████████████████████████████████████| 27/27 [00:03<00:00,  8.30img/s]\n"
     ]
    },
    {
     "name": "stdout",
     "output_type": "stream",
     "text": [
      "\"\n",
      "        Epoch: 108, \n",
      "        Average Train Loss: 0.0456 |\n",
      "        Average Test Loss: 0.0466 |\n",
      "        Average Test mIoU: 91.53\n",
      "        Average Test Accuracy: 97.76802062988281\n"
     ]
    },
    {
     "name": "stderr",
     "output_type": "stream",
     "text": [
      "Train/Epoch 109/150: 100%|██████████████████████████████████████████████████████████| 104/104 [00:07<00:00, 13.77img/s]\n",
      "Eval/Epoch 109/150: 100%|█████████████████████████████████████████████████████████████| 27/27 [00:03<00:00,  8.26img/s]\n"
     ]
    },
    {
     "name": "stdout",
     "output_type": "stream",
     "text": [
      "\"\n",
      "        Epoch: 109, \n",
      "        Average Train Loss: 0.0418 |\n",
      "        Average Test Loss: 0.0396 |\n",
      "        Average Test mIoU: 92.32\n",
      "        Average Test Accuracy: 98.62569427490234\n"
     ]
    },
    {
     "name": "stderr",
     "output_type": "stream",
     "text": [
      "Train/Epoch 110/150: 100%|██████████████████████████████████████████████████████████| 104/104 [00:07<00:00, 13.95img/s]\n",
      "Eval/Epoch 110/150: 100%|█████████████████████████████████████████████████████████████| 27/27 [00:03<00:00,  8.39img/s]\n"
     ]
    },
    {
     "name": "stdout",
     "output_type": "stream",
     "text": [
      "\"\n",
      "        Epoch: 110, \n",
      "        Average Train Loss: 0.0442 |\n",
      "        Average Test Loss: 0.0441 |\n",
      "        Average Test mIoU: 90.62\n",
      "        Average Test Accuracy: 96.06298065185547\n"
     ]
    },
    {
     "name": "stderr",
     "output_type": "stream",
     "text": [
      "Train/Epoch 111/150: 100%|██████████████████████████████████████████████████████████| 104/104 [00:07<00:00, 13.77img/s]\n",
      "Eval/Epoch 111/150: 100%|█████████████████████████████████████████████████████████████| 27/27 [00:03<00:00,  8.26img/s]\n"
     ]
    },
    {
     "name": "stdout",
     "output_type": "stream",
     "text": [
      "\"\n",
      "        Epoch: 111, \n",
      "        Average Train Loss: 0.0403 |\n",
      "        Average Test Loss: 0.0477 |\n",
      "        Average Test mIoU: 91.14\n",
      "        Average Test Accuracy: 97.31038665771484\n"
     ]
    },
    {
     "name": "stderr",
     "output_type": "stream",
     "text": [
      "Train/Epoch 112/150: 100%|██████████████████████████████████████████████████████████| 104/104 [00:07<00:00, 13.75img/s]\n",
      "Eval/Epoch 112/150: 100%|█████████████████████████████████████████████████████████████| 27/27 [00:03<00:00,  8.38img/s]\n"
     ]
    },
    {
     "name": "stdout",
     "output_type": "stream",
     "text": [
      "\"\n",
      "        Epoch: 112, \n",
      "        Average Train Loss: 0.0393 |\n",
      "        Average Test Loss: 0.0374 |\n",
      "        Average Test mIoU: 93.10\n",
      "        Average Test Accuracy: 98.77052307128906\n"
     ]
    },
    {
     "name": "stderr",
     "output_type": "stream",
     "text": [
      "Train/Epoch 113/150: 100%|██████████████████████████████████████████████████████████| 104/104 [00:07<00:00, 13.80img/s]\n",
      "Eval/Epoch 113/150: 100%|█████████████████████████████████████████████████████████████| 27/27 [00:03<00:00,  8.30img/s]\n"
     ]
    },
    {
     "name": "stdout",
     "output_type": "stream",
     "text": [
      "\"\n",
      "        Epoch: 113, \n",
      "        Average Train Loss: 0.0375 |\n",
      "        Average Test Loss: 0.0349 |\n",
      "        Average Test mIoU: 93.54\n",
      "        Average Test Accuracy: 98.92591094970703\n",
      "Checkpoint: VGGUnet16_Segmentation_best is saved successfully\n"
     ]
    },
    {
     "name": "stderr",
     "output_type": "stream",
     "text": [
      "Train/Epoch 114/150: 100%|██████████████████████████████████████████████████████████| 104/104 [00:07<00:00, 13.61img/s]\n",
      "Eval/Epoch 114/150: 100%|█████████████████████████████████████████████████████████████| 27/27 [00:03<00:00,  8.26img/s]\n"
     ]
    },
    {
     "name": "stdout",
     "output_type": "stream",
     "text": [
      "\"\n",
      "        Epoch: 114, \n",
      "        Average Train Loss: 0.0390 |\n",
      "        Average Test Loss: 0.0347 |\n",
      "        Average Test mIoU: 93.47\n",
      "        Average Test Accuracy: 98.9343032836914\n"
     ]
    },
    {
     "name": "stderr",
     "output_type": "stream",
     "text": [
      "Train/Epoch 115/150: 100%|██████████████████████████████████████████████████████████| 104/104 [00:07<00:00, 13.95img/s]\n",
      "Eval/Epoch 115/150: 100%|█████████████████████████████████████████████████████████████| 27/27 [00:03<00:00,  8.30img/s]\n"
     ]
    },
    {
     "name": "stdout",
     "output_type": "stream",
     "text": [
      "\"\n",
      "        Epoch: 115, \n",
      "        Average Train Loss: 0.0364 |\n",
      "        Average Test Loss: 0.0344 |\n",
      "        Average Test mIoU: 93.53\n",
      "        Average Test Accuracy: 98.92604064941406\n"
     ]
    },
    {
     "name": "stderr",
     "output_type": "stream",
     "text": [
      "Train/Epoch 116/150: 100%|██████████████████████████████████████████████████████████| 104/104 [00:07<00:00, 13.83img/s]\n",
      "Eval/Epoch 116/150: 100%|█████████████████████████████████████████████████████████████| 27/27 [00:03<00:00,  8.19img/s]\n"
     ]
    },
    {
     "name": "stdout",
     "output_type": "stream",
     "text": [
      "\"\n",
      "        Epoch: 116, \n",
      "        Average Train Loss: 0.0354 |\n",
      "        Average Test Loss: 0.0341 |\n",
      "        Average Test mIoU: 93.56\n",
      "        Average Test Accuracy: 98.86093139648438\n",
      "Checkpoint: VGGUnet16_Segmentation_best is saved successfully\n"
     ]
    },
    {
     "name": "stderr",
     "output_type": "stream",
     "text": [
      "Train/Epoch 117/150: 100%|██████████████████████████████████████████████████████████| 104/104 [00:07<00:00, 13.72img/s]\n",
      "Eval/Epoch 117/150: 100%|█████████████████████████████████████████████████████████████| 27/27 [00:06<00:00,  3.95img/s]\n"
     ]
    },
    {
     "name": "stdout",
     "output_type": "stream",
     "text": [
      "\"\n",
      "        Epoch: 117, \n",
      "        Average Train Loss: 0.0337 |\n",
      "        Average Test Loss: 0.0338 |\n",
      "        Average Test mIoU: 93.46\n",
      "        Average Test Accuracy: 98.66371154785156\n"
     ]
    },
    {
     "name": "stderr",
     "output_type": "stream",
     "text": [
      "Train/Epoch 118/150: 100%|██████████████████████████████████████████████████████████| 104/104 [00:07<00:00, 13.72img/s]\n",
      "Eval/Epoch 118/150: 100%|█████████████████████████████████████████████████████████████| 27/27 [00:03<00:00,  8.26img/s]\n"
     ]
    },
    {
     "name": "stdout",
     "output_type": "stream",
     "text": [
      "\"\n",
      "        Epoch: 118, \n",
      "        Average Train Loss: 0.0348 |\n",
      "        Average Test Loss: 0.0334 |\n",
      "        Average Test mIoU: 93.60\n",
      "        Average Test Accuracy: 98.82533264160156\n",
      "Checkpoint: VGGUnet16_Segmentation_best is saved successfully\n"
     ]
    },
    {
     "name": "stderr",
     "output_type": "stream",
     "text": [
      "Train/Epoch 119/150: 100%|██████████████████████████████████████████████████████████| 104/104 [00:07<00:00, 13.86img/s]\n",
      "Eval/Epoch 119/150: 100%|█████████████████████████████████████████████████████████████| 27/27 [00:03<00:00,  8.55img/s]\n"
     ]
    },
    {
     "name": "stdout",
     "output_type": "stream",
     "text": [
      "\"\n",
      "        Epoch: 119, \n",
      "        Average Train Loss: 0.0344 |\n",
      "        Average Test Loss: 0.0335 |\n",
      "        Average Test mIoU: 93.69\n",
      "        Average Test Accuracy: 98.95236206054688\n",
      "Checkpoint: VGGUnet16_Segmentation_best is saved successfully\n"
     ]
    },
    {
     "name": "stderr",
     "output_type": "stream",
     "text": [
      "Train/Epoch 120/150: 100%|██████████████████████████████████████████████████████████| 104/104 [00:07<00:00, 13.86img/s]\n",
      "Eval/Epoch 120/150: 100%|█████████████████████████████████████████████████████████████| 27/27 [00:03<00:00,  8.34img/s]\n"
     ]
    },
    {
     "name": "stdout",
     "output_type": "stream",
     "text": [
      "\"\n",
      "        Epoch: 120, \n",
      "        Average Train Loss: 0.0329 |\n",
      "        Average Test Loss: 0.0327 |\n",
      "        Average Test mIoU: 93.85\n",
      "        Average Test Accuracy: 98.92552947998047\n",
      "Checkpoint: VGGUnet16_Segmentation_best is saved successfully\n"
     ]
    },
    {
     "name": "stderr",
     "output_type": "stream",
     "text": [
      "Train/Epoch 121/150: 100%|██████████████████████████████████████████████████████████| 104/104 [00:07<00:00, 13.41img/s]\n",
      "Eval/Epoch 121/150: 100%|█████████████████████████████████████████████████████████████| 27/27 [00:03<00:00,  8.26img/s]\n"
     ]
    },
    {
     "name": "stdout",
     "output_type": "stream",
     "text": [
      "\"\n",
      "        Epoch: 121, \n",
      "        Average Train Loss: 0.0331 |\n",
      "        Average Test Loss: 0.0325 |\n",
      "        Average Test mIoU: 93.86\n",
      "        Average Test Accuracy: 98.90760040283203\n",
      "Checkpoint: VGGUnet16_Segmentation_best is saved successfully\n"
     ]
    },
    {
     "name": "stderr",
     "output_type": "stream",
     "text": [
      "Train/Epoch 122/150: 100%|██████████████████████████████████████████████████████████| 104/104 [00:07<00:00, 13.80img/s]\n",
      "Eval/Epoch 122/150: 100%|█████████████████████████████████████████████████████████████| 27/27 [00:03<00:00,  8.30img/s]\n"
     ]
    },
    {
     "name": "stdout",
     "output_type": "stream",
     "text": [
      "\"\n",
      "        Epoch: 122, \n",
      "        Average Train Loss: 0.0335 |\n",
      "        Average Test Loss: 0.0324 |\n",
      "        Average Test mIoU: 93.90\n",
      "        Average Test Accuracy: 98.95884704589844\n",
      "Checkpoint: VGGUnet16_Segmentation_best is saved successfully\n"
     ]
    },
    {
     "name": "stderr",
     "output_type": "stream",
     "text": [
      "Train/Epoch 123/150: 100%|██████████████████████████████████████████████████████████| 104/104 [00:07<00:00, 13.72img/s]\n",
      "Eval/Epoch 123/150: 100%|█████████████████████████████████████████████████████████████| 27/27 [00:03<00:00,  8.30img/s]\n"
     ]
    },
    {
     "name": "stdout",
     "output_type": "stream",
     "text": [
      "\"\n",
      "        Epoch: 123, \n",
      "        Average Train Loss: 0.0317 |\n",
      "        Average Test Loss: 0.0322 |\n",
      "        Average Test mIoU: 93.92\n",
      "        Average Test Accuracy: 98.94332885742188\n",
      "Checkpoint: VGGUnet16_Segmentation_best is saved successfully\n"
     ]
    },
    {
     "name": "stderr",
     "output_type": "stream",
     "text": [
      "Train/Epoch 124/150: 100%|██████████████████████████████████████████████████████████| 104/104 [00:07<00:00, 13.78img/s]\n",
      "Eval/Epoch 124/150: 100%|█████████████████████████████████████████████████████████████| 27/27 [00:03<00:00,  8.30img/s]\n"
     ]
    },
    {
     "name": "stdout",
     "output_type": "stream",
     "text": [
      "\"\n",
      "        Epoch: 124, \n",
      "        Average Train Loss: 0.0345 |\n",
      "        Average Test Loss: 0.0322 |\n",
      "        Average Test mIoU: 94.02\n",
      "        Average Test Accuracy: 99.01187133789062\n",
      "Checkpoint: VGGUnet16_Segmentation_best is saved successfully\n"
     ]
    },
    {
     "name": "stderr",
     "output_type": "stream",
     "text": [
      "Train/Epoch 125/150: 100%|██████████████████████████████████████████████████████████| 104/104 [00:07<00:00, 13.78img/s]\n",
      "Eval/Epoch 125/150: 100%|█████████████████████████████████████████████████████████████| 27/27 [00:03<00:00,  8.35img/s]\n"
     ]
    },
    {
     "name": "stdout",
     "output_type": "stream",
     "text": [
      "\"\n",
      "        Epoch: 125, \n",
      "        Average Train Loss: 0.0347 |\n",
      "        Average Test Loss: 0.0324 |\n",
      "        Average Test mIoU: 93.95\n",
      "        Average Test Accuracy: 99.01885986328125\n"
     ]
    },
    {
     "name": "stderr",
     "output_type": "stream",
     "text": [
      "Train/Epoch 126/150: 100%|██████████████████████████████████████████████████████████| 104/104 [00:07<00:00, 13.55img/s]\n",
      "Eval/Epoch 126/150: 100%|█████████████████████████████████████████████████████████████| 27/27 [00:03<00:00,  8.47img/s]\n"
     ]
    },
    {
     "name": "stdout",
     "output_type": "stream",
     "text": [
      "\"\n",
      "        Epoch: 126, \n",
      "        Average Train Loss: 0.0338 |\n",
      "        Average Test Loss: 0.0325 |\n",
      "        Average Test mIoU: 93.94\n",
      "        Average Test Accuracy: 98.90760040283203\n"
     ]
    },
    {
     "name": "stderr",
     "output_type": "stream",
     "text": [
      "Train/Epoch 127/150: 100%|██████████████████████████████████████████████████████████| 104/104 [00:07<00:00, 13.86img/s]\n",
      "Eval/Epoch 127/150: 100%|█████████████████████████████████████████████████████████████| 27/27 [00:03<00:00,  8.34img/s]\n"
     ]
    },
    {
     "name": "stdout",
     "output_type": "stream",
     "text": [
      "\"\n",
      "        Epoch: 127, \n",
      "        Average Train Loss: 0.0332 |\n",
      "        Average Test Loss: 0.0330 |\n",
      "        Average Test mIoU: 93.83\n",
      "        Average Test Accuracy: 99.02852630615234\n"
     ]
    },
    {
     "name": "stderr",
     "output_type": "stream",
     "text": [
      "Train/Epoch 128/150: 100%|██████████████████████████████████████████████████████████| 104/104 [00:07<00:00, 13.77img/s]\n",
      "Eval/Epoch 128/150: 100%|█████████████████████████████████████████████████████████████| 27/27 [00:03<00:00,  8.30img/s]\n"
     ]
    },
    {
     "name": "stdout",
     "output_type": "stream",
     "text": [
      "\"\n",
      "        Epoch: 128, \n",
      "        Average Train Loss: 0.0315 |\n",
      "        Average Test Loss: 0.0327 |\n",
      "        Average Test mIoU: 93.88\n",
      "        Average Test Accuracy: 99.03119659423828\n"
     ]
    },
    {
     "name": "stderr",
     "output_type": "stream",
     "text": [
      "Train/Epoch 129/150: 100%|██████████████████████████████████████████████████████████| 104/104 [00:07<00:00, 13.75img/s]\n",
      "Eval/Epoch 129/150: 100%|█████████████████████████████████████████████████████████████| 27/27 [00:03<00:00,  8.31img/s]\n"
     ]
    },
    {
     "name": "stdout",
     "output_type": "stream",
     "text": [
      "\"\n",
      "        Epoch: 129, \n",
      "        Average Train Loss: 0.0340 |\n",
      "        Average Test Loss: 0.0327 |\n",
      "        Average Test mIoU: 93.92\n",
      "        Average Test Accuracy: 98.94332885742188\n"
     ]
    },
    {
     "name": "stderr",
     "output_type": "stream",
     "text": [
      "Train/Epoch 130/150: 100%|██████████████████████████████████████████████████████████| 104/104 [00:07<00:00, 13.86img/s]\n",
      "Eval/Epoch 130/150: 100%|█████████████████████████████████████████████████████████████| 27/27 [00:03<00:00,  8.34img/s]\n"
     ]
    },
    {
     "name": "stdout",
     "output_type": "stream",
     "text": [
      "\"\n",
      "        Epoch: 130, \n",
      "        Average Train Loss: 0.0318 |\n",
      "        Average Test Loss: 0.0325 |\n",
      "        Average Test mIoU: 93.97\n",
      "        Average Test Accuracy: 98.96430969238281\n"
     ]
    },
    {
     "name": "stderr",
     "output_type": "stream",
     "text": [
      "Train/Epoch 131/150: 100%|██████████████████████████████████████████████████████████| 104/104 [00:07<00:00, 13.92img/s]\n",
      "Eval/Epoch 131/150: 100%|█████████████████████████████████████████████████████████████| 27/27 [00:03<00:00,  8.39img/s]\n"
     ]
    },
    {
     "name": "stdout",
     "output_type": "stream",
     "text": [
      "\"\n",
      "        Epoch: 131, \n",
      "        Average Train Loss: 0.0344 |\n",
      "        Average Test Loss: 0.0323 |\n",
      "        Average Test mIoU: 94.03\n",
      "        Average Test Accuracy: 98.95286560058594\n",
      "Checkpoint: VGGUnet16_Segmentation_best is saved successfully\n"
     ]
    },
    {
     "name": "stderr",
     "output_type": "stream",
     "text": [
      "Train/Epoch 132/150: 100%|██████████████████████████████████████████████████████████| 104/104 [00:07<00:00, 13.80img/s]\n",
      "Eval/Epoch 132/150: 100%|█████████████████████████████████████████████████████████████| 27/27 [00:03<00:00,  8.31img/s]\n"
     ]
    },
    {
     "name": "stdout",
     "output_type": "stream",
     "text": [
      "\"\n",
      "        Epoch: 132, \n",
      "        Average Train Loss: 0.0332 |\n",
      "        Average Test Loss: 0.0321 |\n",
      "        Average Test mIoU: 94.09\n",
      "        Average Test Accuracy: 98.99190521240234\n",
      "Checkpoint: VGGUnet16_Segmentation_best is saved successfully\n"
     ]
    },
    {
     "name": "stderr",
     "output_type": "stream",
     "text": [
      "Train/Epoch 133/150: 100%|██████████████████████████████████████████████████████████| 104/104 [00:07<00:00, 13.77img/s]\n",
      "Eval/Epoch 133/150: 100%|█████████████████████████████████████████████████████████████| 27/27 [00:03<00:00,  8.30img/s]\n"
     ]
    },
    {
     "name": "stdout",
     "output_type": "stream",
     "text": [
      "\"\n",
      "        Epoch: 133, \n",
      "        Average Train Loss: 0.0311 |\n",
      "        Average Test Loss: 0.0321 |\n",
      "        Average Test mIoU: 94.06\n",
      "        Average Test Accuracy: 99.03373718261719\n"
     ]
    },
    {
     "name": "stderr",
     "output_type": "stream",
     "text": [
      "Train/Epoch 134/150: 100%|██████████████████████████████████████████████████████████| 104/104 [00:07<00:00, 13.72img/s]\n",
      "Eval/Epoch 134/150: 100%|█████████████████████████████████████████████████████████████| 27/27 [00:03<00:00,  7.89img/s]\n"
     ]
    },
    {
     "name": "stdout",
     "output_type": "stream",
     "text": [
      "\"\n",
      "        Epoch: 134, \n",
      "        Average Train Loss: 0.0329 |\n",
      "        Average Test Loss: 0.0321 |\n",
      "        Average Test mIoU: 93.96\n",
      "        Average Test Accuracy: 98.93659210205078\n"
     ]
    },
    {
     "name": "stderr",
     "output_type": "stream",
     "text": [
      "Train/Epoch 135/150: 100%|██████████████████████████████████████████████████████████| 104/104 [00:07<00:00, 13.61img/s]\n",
      "Eval/Epoch 135/150: 100%|█████████████████████████████████████████████████████████████| 27/27 [00:03<00:00,  7.89img/s]\n"
     ]
    },
    {
     "name": "stdout",
     "output_type": "stream",
     "text": [
      "\"\n",
      "        Epoch: 135, \n",
      "        Average Train Loss: 0.0305 |\n",
      "        Average Test Loss: 0.0315 |\n",
      "        Average Test mIoU: 94.11\n",
      "        Average Test Accuracy: 98.94561767578125\n",
      "Checkpoint: VGGUnet16_Segmentation_best is saved successfully\n"
     ]
    },
    {
     "name": "stderr",
     "output_type": "stream",
     "text": [
      "Train/Epoch 136/150: 100%|██████████████████████████████████████████████████████████| 104/104 [00:07<00:00, 13.61img/s]\n",
      "Eval/Epoch 136/150: 100%|█████████████████████████████████████████████████████████████| 27/27 [00:03<00:00,  7.85img/s]\n"
     ]
    },
    {
     "name": "stdout",
     "output_type": "stream",
     "text": [
      "\"\n",
      "        Epoch: 136, \n",
      "        Average Train Loss: 0.0279 |\n",
      "        Average Test Loss: 0.0315 |\n",
      "        Average Test mIoU: 94.08\n",
      "        Average Test Accuracy: 98.97588348388672\n"
     ]
    },
    {
     "name": "stderr",
     "output_type": "stream",
     "text": [
      "Train/Epoch 137/150: 100%|██████████████████████████████████████████████████████████| 104/104 [00:08<00:00, 12.14img/s]\n",
      "Eval/Epoch 137/150: 100%|█████████████████████████████████████████████████████████████| 27/27 [00:03<00:00,  7.68img/s]\n"
     ]
    },
    {
     "name": "stdout",
     "output_type": "stream",
     "text": [
      "\"\n",
      "        Epoch: 137, \n",
      "        Average Train Loss: 0.0321 |\n",
      "        Average Test Loss: 0.0318 |\n",
      "        Average Test mIoU: 94.03\n",
      "        Average Test Accuracy: 99.05612182617188\n"
     ]
    },
    {
     "name": "stderr",
     "output_type": "stream",
     "text": [
      "Train/Epoch 138/150: 100%|██████████████████████████████████████████████████████████| 104/104 [00:07<00:00, 13.69img/s]\n",
      "Eval/Epoch 138/150: 100%|█████████████████████████████████████████████████████████████| 27/27 [00:03<00:00,  8.19img/s]\n"
     ]
    },
    {
     "name": "stdout",
     "output_type": "stream",
     "text": [
      "\"\n",
      "        Epoch: 138, \n",
      "        Average Train Loss: 0.0309 |\n",
      "        Average Test Loss: 0.0319 |\n",
      "        Average Test mIoU: 93.98\n",
      "        Average Test Accuracy: 98.99928283691406\n"
     ]
    },
    {
     "name": "stderr",
     "output_type": "stream",
     "text": [
      "Train/Epoch 139/150: 100%|██████████████████████████████████████████████████████████| 104/104 [00:07<00:00, 13.81img/s]\n",
      "Eval/Epoch 139/150: 100%|█████████████████████████████████████████████████████████████| 27/27 [00:03<00:00,  8.26img/s]\n"
     ]
    },
    {
     "name": "stdout",
     "output_type": "stream",
     "text": [
      "\"\n",
      "        Epoch: 139, \n",
      "        Average Train Loss: 0.0307 |\n",
      "        Average Test Loss: 0.0322 |\n",
      "        Average Test mIoU: 93.93\n",
      "        Average Test Accuracy: 98.92476654052734\n"
     ]
    },
    {
     "name": "stderr",
     "output_type": "stream",
     "text": [
      "Train/Epoch 140/150: 100%|██████████████████████████████████████████████████████████| 104/104 [00:07<00:00, 13.80img/s]\n",
      "Eval/Epoch 140/150: 100%|█████████████████████████████████████████████████████████████| 27/27 [00:03<00:00,  8.35img/s]\n"
     ]
    },
    {
     "name": "stdout",
     "output_type": "stream",
     "text": [
      "\"\n",
      "        Epoch: 140, \n",
      "        Average Train Loss: 0.0270 |\n",
      "        Average Test Loss: 0.0317 |\n",
      "        Average Test mIoU: 93.94\n",
      "        Average Test Accuracy: 98.85432434082031\n"
     ]
    },
    {
     "name": "stderr",
     "output_type": "stream",
     "text": [
      "Train/Epoch 141/150: 100%|██████████████████████████████████████████████████████████| 104/104 [00:07<00:00, 13.80img/s]\n",
      "Eval/Epoch 141/150: 100%|█████████████████████████████████████████████████████████████| 27/27 [00:03<00:00,  8.35img/s]\n"
     ]
    },
    {
     "name": "stdout",
     "output_type": "stream",
     "text": [
      "\"\n",
      "        Epoch: 141, \n",
      "        Average Train Loss: 0.0295 |\n",
      "        Average Test Loss: 0.0320 |\n",
      "        Average Test mIoU: 93.96\n",
      "        Average Test Accuracy: 98.92222595214844\n"
     ]
    },
    {
     "name": "stderr",
     "output_type": "stream",
     "text": [
      "Train/Epoch 142/150: 100%|██████████████████████████████████████████████████████████| 104/104 [00:07<00:00, 13.75img/s]\n",
      "Eval/Epoch 142/150: 100%|█████████████████████████████████████████████████████████████| 27/27 [00:03<00:00,  8.23img/s]\n"
     ]
    },
    {
     "name": "stdout",
     "output_type": "stream",
     "text": [
      "\"\n",
      "        Epoch: 142, \n",
      "        Average Train Loss: 0.0334 |\n",
      "        Average Test Loss: 0.0316 |\n",
      "        Average Test mIoU: 94.04\n",
      "        Average Test Accuracy: 98.96876525878906\n"
     ]
    },
    {
     "name": "stderr",
     "output_type": "stream",
     "text": [
      "Train/Epoch 143/150: 100%|██████████████████████████████████████████████████████████| 104/104 [00:07<00:00, 13.81img/s]\n",
      "Eval/Epoch 143/150: 100%|█████████████████████████████████████████████████████████████| 27/27 [00:03<00:00,  8.39img/s]\n"
     ]
    },
    {
     "name": "stdout",
     "output_type": "stream",
     "text": [
      "\"\n",
      "        Epoch: 143, \n",
      "        Average Train Loss: 0.0292 |\n",
      "        Average Test Loss: 0.0314 |\n",
      "        Average Test mIoU: 94.04\n",
      "        Average Test Accuracy: 99.00474548339844\n"
     ]
    },
    {
     "name": "stderr",
     "output_type": "stream",
     "text": [
      "Train/Epoch 144/150: 100%|██████████████████████████████████████████████████████████| 104/104 [00:07<00:00, 13.83img/s]\n",
      "Eval/Epoch 144/150: 100%|█████████████████████████████████████████████████████████████| 27/27 [00:03<00:00,  8.23img/s]\n"
     ]
    },
    {
     "name": "stdout",
     "output_type": "stream",
     "text": [
      "\"\n",
      "        Epoch: 144, \n",
      "        Average Train Loss: 0.0295 |\n",
      "        Average Test Loss: 0.0314 |\n",
      "        Average Test mIoU: 94.03\n",
      "        Average Test Accuracy: 98.96634674072266\n"
     ]
    },
    {
     "name": "stderr",
     "output_type": "stream",
     "text": [
      "Train/Epoch 145/150: 100%|██████████████████████████████████████████████████████████| 104/104 [00:07<00:00, 13.83img/s]\n",
      "Eval/Epoch 145/150: 100%|█████████████████████████████████████████████████████████████| 27/27 [00:03<00:00,  8.30img/s]\n"
     ]
    },
    {
     "name": "stdout",
     "output_type": "stream",
     "text": [
      "\"\n",
      "        Epoch: 145, \n",
      "        Average Train Loss: 0.0295 |\n",
      "        Average Test Loss: 0.0317 |\n",
      "        Average Test mIoU: 93.96\n",
      "        Average Test Accuracy: 98.89984130859375\n"
     ]
    },
    {
     "name": "stderr",
     "output_type": "stream",
     "text": [
      "Train/Epoch 146/150: 100%|██████████████████████████████████████████████████████████| 104/104 [00:07<00:00, 13.83img/s]\n",
      "Eval/Epoch 146/150: 100%|█████████████████████████████████████████████████████████████| 27/27 [00:03<00:00,  8.34img/s]\n"
     ]
    },
    {
     "name": "stdout",
     "output_type": "stream",
     "text": [
      "\"\n",
      "        Epoch: 146, \n",
      "        Average Train Loss: 0.0304 |\n",
      "        Average Test Loss: 0.0317 |\n",
      "        Average Test mIoU: 93.96\n",
      "        Average Test Accuracy: 98.85037994384766\n"
     ]
    },
    {
     "name": "stderr",
     "output_type": "stream",
     "text": [
      "Train/Epoch 147/150: 100%|██████████████████████████████████████████████████████████| 104/104 [00:07<00:00, 13.81img/s]\n",
      "Eval/Epoch 147/150: 100%|█████████████████████████████████████████████████████████████| 27/27 [00:03<00:00,  8.34img/s]\n"
     ]
    },
    {
     "name": "stdout",
     "output_type": "stream",
     "text": [
      "\"\n",
      "        Epoch: 147, \n",
      "        Average Train Loss: 0.0258 |\n",
      "        Average Test Loss: 0.0314 |\n",
      "        Average Test mIoU: 94.08\n",
      "        Average Test Accuracy: 98.81503295898438\n"
     ]
    },
    {
     "name": "stderr",
     "output_type": "stream",
     "text": [
      "Train/Epoch 148/150: 100%|██████████████████████████████████████████████████████████| 104/104 [00:07<00:00, 13.80img/s]\n",
      "Eval/Epoch 148/150: 100%|█████████████████████████████████████████████████████████████| 27/27 [00:03<00:00,  8.35img/s]\n"
     ]
    },
    {
     "name": "stdout",
     "output_type": "stream",
     "text": [
      "\"\n",
      "        Epoch: 148, \n",
      "        Average Train Loss: 0.0279 |\n",
      "        Average Test Loss: 0.0317 |\n",
      "        Average Test mIoU: 94.10\n",
      "        Average Test Accuracy: 98.9384994506836\n"
     ]
    },
    {
     "name": "stderr",
     "output_type": "stream",
     "text": [
      "Train/Epoch 149/150: 100%|██████████████████████████████████████████████████████████| 104/104 [00:07<00:00, 13.81img/s]\n",
      "Eval/Epoch 149/150: 100%|█████████████████████████████████████████████████████████████| 27/27 [00:03<00:00,  8.39img/s]\n"
     ]
    },
    {
     "name": "stdout",
     "output_type": "stream",
     "text": [
      "\"\n",
      "        Epoch: 149, \n",
      "        Average Train Loss: 0.0278 |\n",
      "        Average Test Loss: 0.0321 |\n",
      "        Average Test mIoU: 93.89\n",
      "        Average Test Accuracy: 98.94116973876953\n"
     ]
    },
    {
     "name": "stderr",
     "output_type": "stream",
     "text": [
      "Train/Epoch 150/150: 100%|██████████████████████████████████████████████████████████| 104/104 [00:07<00:00, 13.75img/s]\n",
      "Eval/Epoch 150/150: 100%|█████████████████████████████████████████████████████████████| 27/27 [00:03<00:00,  8.23img/s]\n"
     ]
    },
    {
     "name": "stdout",
     "output_type": "stream",
     "text": [
      "\"\n",
      "        Epoch: 150, \n",
      "        Average Train Loss: 0.0267 |\n",
      "        Average Test Loss: 0.0320 |\n",
      "        Average Test mIoU: 93.96\n",
      "        Average Test Accuracy: 98.90048217773438\n"
     ]
    }
   ],
   "source": [
    "model2_train_start()"
   ]
  },
  {
   "cell_type": "markdown",
   "id": "9755bb0d-4513-4e1f-9172-05b96ff6e060",
   "metadata": {},
   "source": [
    "# Result"
   ]
  },
  {
   "cell_type": "markdown",
   "id": "62e94807-3c5b-454c-919b-feae833168a7",
   "metadata": {},
   "source": [
    "## Print Result Comparison"
   ]
  },
  {
   "cell_type": "code",
   "execution_count": 34,
   "id": "27025831-ba3e-4a75-83bd-452e5ac26757",
   "metadata": {},
   "outputs": [
    {
     "name": "stdout",
     "output_type": "stream",
     "text": [
      "\n",
      "    Best of Model1 (Weight Copy):\n",
      "        - Epoch Number: 133\n",
      "        - Evaluation Loss: 0.025496587390080094\n",
      "        - Evaluation mIoU: 94.44989204406738\n",
      "        - Evaluation Accuracy: 98.73886108398438\n",
      "        \n",
      "    Best of Model2 (Knowledge Distillation):\n",
      "        - Epoch Number: 135\n",
      "        - Evaluation Loss: 0.03154985047876835\n",
      "        - Evaluation mIoU: 94.10592842102051\n",
      "        - Evaluation Accuracy: 98.94561767578125\n",
      "\n",
      "    \n"
     ]
    }
   ],
   "source": [
    "print(\n",
    "    f\"\"\"\n",
    "    Best of Model1 (Weight Copy):\n",
    "        - Epoch Number: {best_model1['best_epoch']}\n",
    "        - Evaluation Loss: {best_model1['best_eval_loss']}\n",
    "        - Evaluation mIoU: {best_model1['best_eval_miou']}\n",
    "        - Evaluation Accuracy: {best_model1['best_eval_acc']}\n",
    "        \n",
    "    Best of Model2 (Knowledge Distillation):\n",
    "        - Epoch Number: {best_model2['best_epoch']}\n",
    "        - Evaluation Loss: {best_model2['best_eval_loss']}\n",
    "        - Evaluation mIoU: {best_model2['best_eval_miou']}\n",
    "        - Evaluation Accuracy: {best_model2['best_eval_acc']}\n",
    "\n",
    "    \"\"\"\n",
    ")"
   ]
  },
  {
   "cell_type": "markdown",
   "id": "a3c0969a-58c7-44f9-a117-43b91e030521",
   "metadata": {},
   "source": [
    "## Plot Comparisons"
   ]
  },
  {
   "cell_type": "code",
   "execution_count": 35,
   "id": "1f2bd5f0-8a21-4637-8eb0-4e9f73fd567b",
   "metadata": {
    "tags": []
   },
   "outputs": [
    {
     "name": "stderr",
     "output_type": "stream",
     "text": [
      "Clipping input data to the valid range for imshow with RGB data ([0..1] for floats or [0..255] for integers).\n"
     ]
    },
    {
     "data": {
      "image/png": "[encoded data removed]",
      "text/plain": [
       "<Figure size 1200x1200 with 3 Axes>"
      ]
     },
     "metadata": {},
     "output_type": "display_data"
    }
   ],
   "source": [
    "# Model-1\n",
    "\n",
    "plot_segmentation(\n",
    "    model=model1, \n",
    "    dataset=test_dataset, \n",
    "    color_mapping=color_mapping, \n",
    "    save_fig=True, \n",
    "    #save_root_dir='../generated_examples/', \n",
    "    save_root_dir = hyperparameters['output_dir']['results'],\n",
    "    save_filename='model1_seg_fig', \n",
    "    save_format='png', \n",
    "    close_img=False\n",
    ")"
   ]
  },
  {
   "cell_type": "code",
   "execution_count": 36,
   "id": "f6c4c46d-97b8-4eb0-94dd-4188301a7c00",
   "metadata": {},
   "outputs": [
    {
     "name": "stderr",
     "output_type": "stream",
     "text": [
      "Clipping input data to the valid range for imshow with RGB data ([0..1] for floats or [0..255] for integers).\n"
     ]
    },
    {
     "data": {
      "image/png": "[encoded data removed]",
      "text/plain": [
       "<Figure size 1200x1200 with 3 Axes>"
      ]
     },
     "metadata": {},
     "output_type": "display_data"
    }
   ],
   "source": [
    "# Model-2\n",
    "\n",
    "plot_segmentation(\n",
    "    model=model2, \n",
    "    dataset=test_dataset, \n",
    "    color_mapping=color_mapping, \n",
    "    save_fig=True, \n",
    "    #save_root_dir='../generated_examples/', \n",
    "    save_root_dir = hyperparameters['output_dir']['results'],\n",
    "    save_filename='model2_seg_fig', \n",
    "    save_format='png', \n",
    "    close_img=False\n",
    ")"
   ]
  },
  {
   "cell_type": "markdown",
   "id": "fe0c565b-6265-4ad3-81a0-1203c1051cee",
   "metadata": {},
   "source": [
    "## Save Predictions"
   ]
  },
  {
   "cell_type": "code",
   "execution_count": 37,
   "id": "51418ee7-a95e-4af0-81a8-f23407263dad",
   "metadata": {},
   "outputs": [],
   "source": [
    "# Model1 Saving\n",
    "save_pred_masks(\n",
    "    model=model1,\n",
    "    transform=test_transforms,\n",
    "    save_folder=hyperparameters['output_dir']['model1'],\n",
    "    input_folder='./images/test',\n",
    "    color_mapping=color_mapping,\n",
    "    hyperparameters=hyperparameters,\n",
    ")\n",
    "\n",
    "save_pred_masks(\n",
    "    model=model1,\n",
    "    transform=test_transforms,\n",
    "    save_folder=hyperparameters['output_dir']['model1'],\n",
    "    input_folder='./images/train',\n",
    "    color_mapping=color_mapping,\n",
    "    hyperparameters=hyperparameters,\n",
    ")"
   ]
  },
  {
   "cell_type": "code",
   "execution_count": 38,
   "id": "9f3a3d14-d169-41bf-8a9b-83883e86e0fc",
   "metadata": {},
   "outputs": [],
   "source": [
    "# Model2 Saving\n",
    "save_pred_masks(\n",
    "    model=model2,\n",
    "    transform=test_transforms,\n",
    "    save_folder=hyperparameters['output_dir']['model2'],\n",
    "    input_folder='./images/test',\n",
    "    color_mapping=color_mapping,\n",
    "    hyperparameters=hyperparameters,\n",
    ")\n",
    "\n",
    "save_pred_masks(\n",
    "    model=model2,\n",
    "    transform=test_transforms,\n",
    "    save_folder=hyperparameters['output_dir']['model2'],\n",
    "    input_folder='./images/train',\n",
    "    color_mapping=color_mapping,\n",
    "    hyperparameters=hyperparameters,\n",
    ")"
   ]
  },
  {
   "cell_type": "markdown",
   "id": "bf9503e0-0842-4842-869c-916bb9109dbf",
   "metadata": {},
   "source": [
    "## History Graphs"
   ]
  },
  {
   "cell_type": "code",
   "execution_count": 39,
   "id": "eccc61cf-b676-41dc-bc57-62421eeb4d15",
   "metadata": {},
   "outputs": [
    {
     "data": {
      "image/png": "[encoded data removed]",
      "text/plain": [
       "<Figure size 1500x600 with 1 Axes>"
      ]
     },
     "metadata": {},
     "output_type": "display_data"
    }
   ],
   "source": [
    "epoch_range = np.arange(1, hyperparameters['epochs']+1, 1, dtype=int)\n",
    "\n",
    "plt.figure(figsize = (15,6))\n",
    "plt.title(f\"Loss\")\n",
    "plt.plot(epoch_range, history['model1']['eval_loss'], label=\"Model1-Evaluation Loss\")\n",
    "plt.plot(epoch_range, history['model2']['eval_loss'], label=\"Model2-Evaluation Loss\")\n",
    "plt.xlabel(\"Epochs\")\n",
    "plt.ylabel(\"Loss\")\n",
    "plt.legend();\n",
    "loss_dir = os.path.join(hyperparameters['output_dir']['results'], 'loss_graph.png')\n",
    "plt.savefig(loss_dir, format='png', bbox_inches='tight')"
   ]
  },
  {
   "cell_type": "code",
   "execution_count": 40,
   "id": "ebeb6b23-88e6-4fe1-aec5-538ccfa093a2",
   "metadata": {},
   "outputs": [
    {
     "data": {
      "image/png": "[encoded data removed]",
      "text/plain": [
       "<Figure size 1500x600 with 1 Axes>"
      ]
     },
     "metadata": {},
     "output_type": "display_data"
    }
   ],
   "source": [
    "plt.figure(figsize = (15,6))\n",
    "plt.title(f\"Eval mIoU\")\n",
    "plt.plot(epoch_range, history['model1']['eval_miou'], label=\"model1 mIoU\")\n",
    "plt.plot(epoch_range, history['model2']['eval_miou'], label=\"model2 mIoU\")\n",
    "plt.xlabel(\"Epochs\")\n",
    "plt.ylabel(\"mIoU\")\n",
    "plt.legend();\n",
    "miou_dir = os.path.join(hyperparameters['output_dir']['results'], 'miou_graph.png')\n",
    "plt.savefig(miou_dir, format='png', bbox_inches='tight')"
   ]
  },
  {
   "cell_type": "code",
   "execution_count": 41,
   "id": "a9a8960f-0a79-4613-a206-37f379b52d9e",
   "metadata": {},
   "outputs": [
    {
     "data": {
      "image/png": "[encoded data removed]",
      "text/plain": [
       "<Figure size 1500x600 with 1 Axes>"
      ]
     },
     "metadata": {},
     "output_type": "display_data"
    }
   ],
   "source": [
    "acc_tensor1 = torch.tensor(history['model1']['eval_acc'])\n",
    "acc_tensor1 = acc_tensor1.to('cpu')\n",
    "acc_list1 = acc_tensor1.tolist()\n",
    "\n",
    "acc_tensor2 = torch.tensor(history['model2']['eval_acc'])\n",
    "acc_tensor2 = acc_tensor2.to('cpu')\n",
    "acc_list2 = acc_tensor2.tolist()\n",
    "\n",
    "plt.figure(figsize = (15,6))\n",
    "plt.title(f\"Eval Accuracy\")\n",
    "plt.plot(epoch_range, acc_list1, label=\"Model1-Eval Acc\")\n",
    "plt.plot(epoch_range, acc_list2, label=\"Model2-Eval Acc\")\n",
    "plt.xlabel(\"Epochs\")\n",
    "plt.ylabel(\"Accuracy\")\n",
    "plt.legend();\n",
    "acc_dir = os.path.join(hyperparameters['output_dir']['results'], 'accuracy_graph.png')\n",
    "plt.savefig(acc_dir, format='png', bbox_inches='tight')"
   ]
  }
 ],
 "metadata": {
  "kernelspec": {
   "display_name": "Python 3 (ipykernel)",
   "language": "python",
   "name": "python3"
  },
  "language_info": {
   "codemirror_mode": {
    "name": "ipython",
    "version": 3
   },
   "file_extension": ".py",
   "mimetype": "text/x-python",
   "name": "python",
   "nbconvert_exporter": "python",
   "pygments_lexer": "ipython3",
   "version": "3.9.18"
  },
  "toc-autonumbering": true,
  "toc-showcode": false,
  "toc-showmarkdowntxt": false
 },
 "nbformat": 4,
 "nbformat_minor": 5
}
