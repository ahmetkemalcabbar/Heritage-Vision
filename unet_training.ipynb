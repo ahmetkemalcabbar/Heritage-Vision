{
 "cells": [
  {
   "cell_type": "markdown",
   "id": "d6829cf1-863a-4663-80a0-ada546e0f565",
   "metadata": {
    "tags": []
   },
   "source": [
    "# Initialization"
   ]
  },
  {
   "cell_type": "markdown",
   "id": "721c578d-f496-420f-aeef-3fa0cd5fd814",
   "metadata": {
    "tags": []
   },
   "source": [
    "## Import"
   ]
  },
  {
   "cell_type": "code",
   "execution_count": 1,
   "id": "52e2f05b-be98-4229-9a4b-19da4cbfc215",
   "metadata": {},
   "outputs": [
    {
     "name": "stdout",
     "output_type": "stream",
     "text": [
      "USING DEVICE: cuda\n"
     ]
    }
   ],
   "source": [
    "import torch\n",
    "import torch.nn as nn\n",
    "import torch.nn.functional as F\n",
    "from torchvision import transforms\n",
    "from torch.utils.data import random_split\n",
    "    \n",
    "import torchvision.transforms.functional as tF\n",
    "\n",
    "from models.unet import UNET\n",
    "\n",
    "from dataset.dataset import seg_datasets\n",
    "\n",
    "from utils.dataloader_utils import get_loader\n",
    "from utils.save_load_utils import save_model, load_model\n",
    "from utils.evaluation_utils import calculate_miou, check_acc\n",
    "from utils.visualization_utils import save_pred_masks, visualize_segmentation, plot_segmentation\n",
    "                                                                     \n",
    "import albumentations as A\n",
    "\n",
    "from torch.utils.tensorboard import SummaryWriter\n",
    "\n",
    "%matplotlib inline\n",
    "import os\n",
    "import time\n",
    "import random\n",
    "import numpy as np\n",
    "from tqdm import tqdm\n",
    "from PIL import Image, ImageOps\n",
    "import matplotlib.pyplot as plt\n",
    "\n",
    "plt.rcParams['figure.figsize'] = (6, 4)\n",
    "plt.rcParams['axes.grid'] = False\n",
    "\n",
    "%load_ext autoreload\n",
    "%autoreload 2\n",
    "\n",
    "device = 'cuda' if torch.cuda.is_available() else 'cpu'\n",
    "print(f'USING DEVICE: {device}')"
   ]
  },
  {
   "cell_type": "markdown",
   "id": "b68fc81c-e54d-49a2-8fe4-c8eb2a35f98d",
   "metadata": {
    "tags": [],
    "toc-hr-collapsed": true
   },
   "source": [
    "## Hyperparameters"
   ]
  },
  {
   "cell_type": "code",
   "execution_count": 2,
   "id": "257ef7f1-2af4-4849-b08f-fe20c17198b7",
   "metadata": {
    "tags": []
   },
   "outputs": [],
   "source": [
    "hyperparameters = {\n",
    "    'test_dir' : './images/test',\n",
    "    'train_dir' : './images/train',\n",
    "    'seed' : 9999,\n",
    "    'dataloader' :{\n",
    "        'batch_size' : 8,\n",
    "        'num_workers' : 4,\n",
    "        'pin_memory' : False, \n",
    "    },\n",
    "    'optimizer' :{\n",
    "        'lr' : 1e-4,\n",
    "        'betas' : (0.9, 0.999),\n",
    "        'weight_decay' : 1e-4,\n",
    "    },\n",
    "    'epochs' : 150,\n",
    "    'training_size' : 0,\n",
    "    'test_size': 0,\n",
    "    'gradient_clipping' : 1.0,\n",
    "    'unet': {\n",
    "        'in_channels': 3,\n",
    "        'out_channels': 1,\n",
    "        'features': 64,\n",
    "        'height': 320,\n",
    "        'width': 320,\n",
    "        'pre_trained_path': 'checkpoints/pretrained/pretrained_best.pth.tar',\n",
    "    }, \n",
    "    'output_dir':{\n",
    "        'results':'../generated_examples/unet/',\n",
    "        'model1':'../generated_examples/unet/wc/',\n",
    "        'model2':'../generated_examples/unet/kd/',\n",
    "    },\n",
    "    'checkpoints_dir':{\n",
    "        'model1': './checkpoints/unet/wc/',\n",
    "        'model2': './checkpoints/unet/kd/',\n",
    "\n",
    "    },\n",
    "}"
   ]
  },
  {
   "cell_type": "markdown",
   "id": "3f40d01a-077b-4636-a943-b4af5c4a9707",
   "metadata": {
    "tags": []
   },
   "source": [
    "## Seed Everything"
   ]
  },
  {
   "cell_type": "code",
   "execution_count": 3,
   "id": "a96b2438-498a-4cc8-884b-8b771fdfe5c7",
   "metadata": {
    "tags": []
   },
   "outputs": [],
   "source": [
    "def seed_everything(seed):\n",
    "    random.seed(seed)\n",
    "    os.environ['PYTHONHASHSEED'] = str(seed)\n",
    "    np.random.seed(seed)\n",
    "    torch.manual_seed(seed)\n",
    "    torch.cuda.manual_seed(seed)\n",
    "    torch.backends.cudnn.deterministic = True\n",
    "    torch.backends.cudnn.benchmark = False\n",
    "\n",
    "seed_everything(hyperparameters['seed'])"
   ]
  },
  {
   "cell_type": "markdown",
   "id": "6cdc7d29-c352-4976-8c43-38b98447cc24",
   "metadata": {
    "tags": []
   },
   "source": [
    "# Data Preprocessing"
   ]
  },
  {
   "cell_type": "markdown",
   "id": "ab1c9e6d-8643-4c67-ba5e-bd7e154b930d",
   "metadata": {
    "tags": []
   },
   "source": [
    "## Data Augmentation"
   ]
  },
  {
   "cell_type": "code",
   "execution_count": 4,
   "id": "2edc6a48-9e0d-4367-a4db-694e0698a50f",
   "metadata": {
    "tags": []
   },
   "outputs": [
    {
     "data": {
      "text/plain": [
       "(Compose([\n",
       "   HorizontalFlip(always_apply=False, p=0.5),\n",
       "   VerticalFlip(always_apply=False, p=0.5),\n",
       "   Rotate(always_apply=False, p=0.5, limit=(-90, 90), interpolation=1, border_mode=4, value=None, mask_value=None, rotate_method='largest_box', crop_border=False),\n",
       "   Normalize(always_apply=False, p=1.0, mean=[0.485, 0.456, 0.406], std=[0.229, 0.224, 0.225], max_pixel_value=255.0),\n",
       "   Resize(always_apply=False, p=1, height=512, width=512, interpolation=1),\n",
       " ], p=1.0, bbox_params=None, keypoint_params=None, additional_targets={}, is_check_shapes=True),\n",
       " Compose([\n",
       "   Normalize(always_apply=False, p=1.0, mean=[0.485, 0.456, 0.406], std=[0.229, 0.224, 0.225], max_pixel_value=255.0),\n",
       "   Resize(always_apply=False, p=1, height=512, width=512, interpolation=1),\n",
       " ], p=1.0, bbox_params=None, keypoint_params=None, additional_targets={}, is_check_shapes=True))"
      ]
     },
     "execution_count": 4,
     "metadata": {},
     "output_type": "execute_result"
    }
   ],
   "source": [
    "train_transforms = A.Compose([\n",
    "    A.HorizontalFlip(p=0.5),\n",
    "    A.VerticalFlip(p=0.5),\n",
    "    A.Rotate(p=0.5),\n",
    "    A.Normalize(mean=[0.485, 0.456, 0.406], std=[0.229, 0.224, 0.225]),\n",
    "    A.Resize(512, 512),\n",
    "])\n",
    "\n",
    "test_transforms = A.Compose([\n",
    "    A.Normalize(mean=[0.485, 0.456, 0.406], std=[0.229, 0.224, 0.225]),\n",
    "    A.Resize(512, 512),\n",
    "])\n",
    "\n",
    "\"\"\"\n",
    "test_transforms = transforms.Compose([\n",
    "    transforms.Normalize(mean=[0.485, 0.456, 0.406], std=[0.229, 0.224, 0.225]),\n",
    "    transforms.Resize(512, antialias=True)\n",
    "])\n",
    "\"\"\"\n",
    "train_transforms, test_transforms"
   ]
  },
  {
   "cell_type": "markdown",
   "id": "82f54681-bf8e-4383-a844-14dc115fc8fd",
   "metadata": {
    "tags": []
   },
   "source": [
    "## Dataset"
   ]
  },
  {
   "cell_type": "code",
   "execution_count": 5,
   "id": "3615270c-9966-409e-ac2c-2617725d202d",
   "metadata": {
    "tags": []
   },
   "outputs": [
    {
     "data": {
      "text/plain": [
       "(104, 27)"
      ]
     },
     "execution_count": 5,
     "metadata": {},
     "output_type": "execute_result"
    }
   ],
   "source": [
    "train_dataset = seg_datasets(hyperparameters['train_dir'], train_transforms)\n",
    "test_dataset = seg_datasets(hyperparameters['test_dir'], test_transforms)\n",
    "\n",
    "len(train_dataset), len(test_dataset)"
   ]
  },
  {
   "cell_type": "code",
   "execution_count": 6,
   "id": "78536529-298e-426b-a1cf-e6d658b763f7",
   "metadata": {},
   "outputs": [
    {
     "name": "stdout",
     "output_type": "stream",
     "text": [
      "['115_Plan.jpg', '119_Plan.jpg', '122_Plan.jpg', '125_Plan.jpg', '126_Plan.jpg', '131_Plan.jpg', '16_Plan.jpg', '17_Plan.jpg', '21_Plan.jpg', '26_Plan.jpg', '40_Plan.jpg', '41_Plan.jpg', '48_Plan.jpg', '4_Plan.jpg', '57_Plan.jpg', '58_Plan.jpg', '63_Plan.jpg', '66_Plan.jpg', '6_Plan.jpg', '73_Plan.jpg', '81_Plan.jpg', '88_Plan.jpg', '8_Plan.jpg', '92_Plan.jpg', '95_Plan.jpg', '98_Plan.jpg', '99_Plan.jpg']\n"
     ]
    }
   ],
   "source": [
    "print(test_dataset.img_files)"
   ]
  },
  {
   "cell_type": "code",
   "execution_count": 7,
   "id": "d5c239e4-e1e1-4e3b-981b-0c9abc1a574f",
   "metadata": {},
   "outputs": [],
   "source": [
    "hyperparameters['training_size'] = len(train_dataset)\n",
    "hyperparameters['test_size'] = len(test_dataset)"
   ]
  },
  {
   "cell_type": "code",
   "execution_count": 8,
   "id": "fbfd51ca-3477-42d8-b0eb-41e4446b2c27",
   "metadata": {
    "tags": []
   },
   "outputs": [
    {
     "data": {
      "text/plain": [
       "tensor([0., 1., 2., 3.])"
      ]
     },
     "execution_count": 8,
     "metadata": {},
     "output_type": "execute_result"
    }
   ],
   "source": [
    "sample = train_dataset[30]\n",
    "torch.unique(sample[1])"
   ]
  },
  {
   "cell_type": "code",
   "execution_count": 9,
   "id": "5b88b398-95e6-4a73-b69c-f4f4fff7c6d8",
   "metadata": {},
   "outputs": [
    {
     "data": {
      "text/plain": [
       "(torch.Size([3, 512, 512]), torch.Size([1, 512, 512]))"
      ]
     },
     "execution_count": 9,
     "metadata": {},
     "output_type": "execute_result"
    }
   ],
   "source": [
    "img, mask = train_dataset[20]\n",
    "img.shape, mask.shape"
   ]
  },
  {
   "cell_type": "code",
   "execution_count": 10,
   "id": "f7756914-c795-4f0e-a42b-4ce104e4e0b0",
   "metadata": {
    "tags": []
   },
   "outputs": [
    {
     "name": "stderr",
     "output_type": "stream",
     "text": [
      "Clipping input data to the valid range for imshow with RGB data ([0..1] for floats or [0..255] for integers).\n"
     ]
    },
    {
     "data": {
      "text/plain": [
       "<matplotlib.image.AxesImage at 0x240ecae1c90>"
      ]
     },
     "execution_count": 10,
     "metadata": {},
     "output_type": "execute_result"
    },
    {
     "data": {
      "image/png": "[encoded data removed]",
      "text/plain": [
       "<Figure size 800x800 with 2 Axes>"
      ]
     },
     "metadata": {},
     "output_type": "display_data"
    }
   ],
   "source": [
    "fig, (ax1, ax2) = plt.subplots(1, 2, figsize=(8, 8))\n",
    "fig.tight_layout()\n",
    "ax1.axis('off')\n",
    "ax1.set_title('Plan Image/Input')\n",
    "ax1.imshow(img.permute(1, 2, 0).numpy())\n",
    "    \n",
    "ax2.axis('off')\n",
    "ax2.set_title('Actual Masks')\n",
    "ax2.imshow(mask.numpy().transpose(1,2,0))"
   ]
  },
  {
   "cell_type": "markdown",
   "id": "da60d3d1-3eda-4862-98e0-78ab6025fa87",
   "metadata": {
    "tags": []
   },
   "source": [
    "## Color Mapping"
   ]
  },
  {
   "cell_type": "code",
   "execution_count": 11,
   "id": "58260b59-e833-4886-924f-a4af6ea01cb5",
   "metadata": {
    "tags": []
   },
   "outputs": [],
   "source": [
    "color_mapping = {\n",
    "    0: (0, 0, 0),         # Walls\n",
    "    1: (255, 80, 80),     # Iwan\n",
    "    2: (80, 80, 255),     # Room\n",
    "    3: (255, 255, 255),   # Background\n",
    "}"
   ]
  },
  {
   "cell_type": "code",
   "execution_count": 12,
   "id": "86e3f4f8-b2ca-4d75-8a50-8cd4b30010b1",
   "metadata": {
    "tags": []
   },
   "outputs": [
    {
     "name": "stderr",
     "output_type": "stream",
     "text": [
      "Clipping input data to the valid range for imshow with RGB data ([0..1] for floats or [0..255] for integers).\n"
     ]
    },
    {
     "data": {
      "text/plain": [
       "(-0.5, 511.5, 511.5, -0.5)"
      ]
     },
     "execution_count": 12,
     "metadata": {},
     "output_type": "execute_result"
    },
    {
     "data": {
      "image/png": "[encoded data removed]",
      "text/plain": [
       "<Figure size 800x800 with 2 Axes>"
      ]
     },
     "metadata": {},
     "output_type": "display_data"
    }
   ],
   "source": [
    "visualization = visualize_segmentation(mask, color_mapping, from_tensor=True)\n",
    "\n",
    "fig, (ax1, ax2) = plt.subplots(1, 2, figsize=(8, 8))\n",
    "\n",
    "ax1.imshow(img.permute(1, 2, 0).numpy())\n",
    "ax1.set_title('Plan Image/Input')\n",
    "ax1.axis('off')\n",
    "\n",
    "ax2.imshow(visualization)\n",
    "ax2.set_title('Actual Masks')\n",
    "ax2.axis('off')"
   ]
  },
  {
   "cell_type": "markdown",
   "id": "45ccb3b0-b65d-481f-b803-4db558a67ae6",
   "metadata": {
    "tags": []
   },
   "source": [
    "## Dataloader"
   ]
  },
  {
   "cell_type": "code",
   "execution_count": 13,
   "id": "bdd89b08-6209-467e-b3a2-7b509bd46d92",
   "metadata": {
    "tags": []
   },
   "outputs": [
    {
     "data": {
      "text/plain": [
       "(13, 4)"
      ]
     },
     "execution_count": 13,
     "metadata": {},
     "output_type": "execute_result"
    }
   ],
   "source": [
    "train_dataloader, test_dataloader = get_loader(\n",
    "    train_dir = hyperparameters['train_dir'],\n",
    "    test_dir = hyperparameters['test_dir'],\n",
    "    batch_size = hyperparameters['dataloader']['batch_size'],\n",
    "    train_transform = train_transforms,\n",
    "    test_transform = test_transforms,\n",
    "    num_workers = hyperparameters['dataloader']['num_workers'],\n",
    "    pin_memory = hyperparameters['dataloader']['pin_memory']\n",
    ")\n",
    "\n",
    "len(train_dataloader), len(test_dataloader)"
   ]
  },
  {
   "cell_type": "code",
   "execution_count": 14,
   "id": "870c24cb-2758-4321-b743-63551fa32ee8",
   "metadata": {
    "tags": []
   },
   "outputs": [
    {
     "name": "stdout",
     "output_type": "stream",
     "text": [
      "torch.Size([8, 3, 512, 512]) torch.Size([8, 1, 512, 512])\n",
      "8\n"
     ]
    }
   ],
   "source": [
    "img_a_batch, img_b_batch = next(iter(train_dataloader))\n",
    "print(img_a_batch.shape, img_b_batch.shape)\n",
    "print(img_a_batch.size(0))"
   ]
  },
  {
   "cell_type": "markdown",
   "id": "9c4ce4c7-9ebb-4b12-8762-6c9ec701d885",
   "metadata": {},
   "source": [
    "# Model"
   ]
  },
  {
   "cell_type": "markdown",
   "id": "9ee49c40-5ce7-448d-b85d-9025e19725db",
   "metadata": {
    "tags": []
   },
   "source": [
    "## Model Loading"
   ]
  },
  {
   "cell_type": "code",
   "execution_count": 15,
   "id": "acee5cce-3d3a-44b2-9c0c-bab8761e9e09",
   "metadata": {
    "tags": []
   },
   "outputs": [],
   "source": [
    "\"\"\"\n",
    "model1 --> weight copy\n",
    "model2 --> knowledge distillation\n",
    "\n",
    "\"\"\"\n",
    "\n",
    "model1 = UNET(\n",
    "    features=hyperparameters['unet']['features'], \n",
    "    in_channels=hyperparameters['unet']['in_channels'], \n",
    "    out_channels=hyperparameters['unet']['out_channels']\n",
    ")\n",
    "\n",
    "model2 = UNET(\n",
    "    features=hyperparameters['unet']['features'], \n",
    "    in_channels=hyperparameters['unet']['in_channels'], \n",
    "    out_channels=hyperparameters['unet']['out_channels']\n",
    ")"
   ]
  },
  {
   "cell_type": "raw",
   "id": "d3fd53e8-a195-4dd8-ae92-a34f4f7e61ba",
   "metadata": {},
   "source": [
    "# Print model's state_dict\n",
    "print(\"Model's state_dict:\")\n",
    "for param_tensor in model1.state_dict():\n",
    "    print(param_tensor, \"\\t\", model1.state_dict()[param_tensor].size())"
   ]
  },
  {
   "cell_type": "markdown",
   "id": "074e6f54",
   "metadata": {
    "tags": []
   },
   "source": [
    "## Pre-Trained Model Loading"
   ]
  },
  {
   "cell_type": "code",
   "execution_count": 16,
   "id": "e76e9b27-13bc-4d09-8c6a-723280bcde7b",
   "metadata": {
    "scrolled": true
   },
   "outputs": [
    {
     "name": "stdout",
     "output_type": "stream",
     "text": [
      "Requirement already satisfied: pretrained-backbones-unet in c:\\users\\user\\.conda\\envs\\pytorch\\lib\\site-packages (0.0.1)\n",
      "Requirement already satisfied: timm==0.6.12 in c:\\users\\user\\.conda\\envs\\pytorch\\lib\\site-packages (from pretrained-backbones-unet) (0.6.12)\n",
      "Requirement already satisfied: torch>=1.13.1 in c:\\users\\user\\.conda\\envs\\pytorch\\lib\\site-packages (from pretrained-backbones-unet) (2.0.1+cu118)\n",
      "Requirement already satisfied: torchvision in c:\\users\\user\\.conda\\envs\\pytorch\\lib\\site-packages (from timm==0.6.12->pretrained-backbones-unet) (0.15.2+cu118)\n",
      "Requirement already satisfied: pyyaml in c:\\users\\user\\.conda\\envs\\pytorch\\lib\\site-packages (from timm==0.6.12->pretrained-backbones-unet) (6.0.1)\n",
      "Requirement already satisfied: huggingface-hub in c:\\users\\user\\.conda\\envs\\pytorch\\lib\\site-packages (from timm==0.6.12->pretrained-backbones-unet) (0.20.3)\n",
      "Requirement already satisfied: filelock in c:\\users\\user\\.conda\\envs\\pytorch\\lib\\site-packages (from torch>=1.13.1->pretrained-backbones-unet) (3.9.0)\n",
      "Requirement already satisfied: typing-extensions in c:\\users\\user\\.conda\\envs\\pytorch\\lib\\site-packages (from torch>=1.13.1->pretrained-backbones-unet) (4.10.0)\n",
      "Requirement already satisfied: sympy in c:\\users\\user\\.conda\\envs\\pytorch\\lib\\site-packages (from torch>=1.13.1->pretrained-backbones-unet) (1.11.1)\n",
      "Requirement already satisfied: networkx in c:\\users\\user\\.conda\\envs\\pytorch\\lib\\site-packages (from torch>=1.13.1->pretrained-backbones-unet) (3.0)\n",
      "Requirement already satisfied: jinja2 in c:\\users\\user\\.conda\\envs\\pytorch\\lib\\site-packages (from torch>=1.13.1->pretrained-backbones-unet) (3.1.2)\n",
      "Requirement already satisfied: fsspec>=2023.5.0 in c:\\users\\user\\.conda\\envs\\pytorch\\lib\\site-packages (from huggingface-hub->timm==0.6.12->pretrained-backbones-unet) (2024.2.0)\n",
      "Requirement already satisfied: requests in c:\\users\\user\\.conda\\envs\\pytorch\\lib\\site-packages (from huggingface-hub->timm==0.6.12->pretrained-backbones-unet) (2.28.1)\n",
      "Requirement already satisfied: tqdm>=4.42.1 in c:\\users\\user\\.conda\\envs\\pytorch\\lib\\site-packages (from huggingface-hub->timm==0.6.12->pretrained-backbones-unet) (4.66.1)\n",
      "Requirement already satisfied: packaging>=20.9 in c:\\users\\user\\.conda\\envs\\pytorch\\lib\\site-packages (from huggingface-hub->timm==0.6.12->pretrained-backbones-unet) (23.0)\n",
      "Requirement already satisfied: MarkupSafe>=2.0 in c:\\users\\user\\.conda\\envs\\pytorch\\lib\\site-packages (from jinja2->torch>=1.13.1->pretrained-backbones-unet) (2.1.1)\n",
      "Requirement already satisfied: mpmath>=0.19 in c:\\users\\user\\.conda\\envs\\pytorch\\lib\\site-packages (from sympy->torch>=1.13.1->pretrained-backbones-unet) (1.2.1)\n",
      "Requirement already satisfied: numpy in c:\\users\\user\\.conda\\envs\\pytorch\\lib\\site-packages (from torchvision->timm==0.6.12->pretrained-backbones-unet) (1.24.1)\n",
      "Requirement already satisfied: pillow!=8.3.*,>=5.3.0 in c:\\users\\user\\.conda\\envs\\pytorch\\lib\\site-packages (from torchvision->timm==0.6.12->pretrained-backbones-unet) (9.3.0)\n",
      "Requirement already satisfied: colorama in c:\\users\\user\\.conda\\envs\\pytorch\\lib\\site-packages (from tqdm>=4.42.1->huggingface-hub->timm==0.6.12->pretrained-backbones-unet) (0.4.6)\n",
      "Requirement already satisfied: charset-normalizer<3,>=2 in c:\\users\\user\\.conda\\envs\\pytorch\\lib\\site-packages (from requests->huggingface-hub->timm==0.6.12->pretrained-backbones-unet) (2.0.4)\n",
      "Requirement already satisfied: idna<4,>=2.5 in c:\\users\\user\\.conda\\envs\\pytorch\\lib\\site-packages (from requests->huggingface-hub->timm==0.6.12->pretrained-backbones-unet) (3.4)\n",
      "Requirement already satisfied: urllib3<1.27,>=1.21.1 in c:\\users\\user\\.conda\\envs\\pytorch\\lib\\site-packages (from requests->huggingface-hub->timm==0.6.12->pretrained-backbones-unet) (1.26.13)\n",
      "Requirement already satisfied: certifi>=2017.4.17 in c:\\users\\user\\.conda\\envs\\pytorch\\lib\\site-packages (from requests->huggingface-hub->timm==0.6.12->pretrained-backbones-unet) (2022.12.7)\n"
     ]
    }
   ],
   "source": [
    "!pip install pretrained-backbones-unet"
   ]
  },
  {
   "cell_type": "code",
   "execution_count": 17,
   "id": "f293ff1f-d092-494c-8b22-022173cc3217",
   "metadata": {
    "scrolled": true
   },
   "outputs": [
    {
     "name": "stderr",
     "output_type": "stream",
     "text": [
      "C:\\Users\\user\\.conda\\envs\\pytorch\\lib\\site-packages\\tqdm\\auto.py:21: TqdmWarning: IProgress not found. Please update jupyter and ipywidgets. See https://ipywidgets.readthedocs.io/en/stable/user_install.html\n",
      "  from .autonotebook import tqdm as notebook_tqdm\n"
     ]
    },
    {
     "data": {
      "text/plain": [
       "Unet(\n",
       "  (encoder): FeatureListNet(\n",
       "    (stem_0): Conv2d(3, 128, kernel_size=(4, 4), stride=(4, 4))\n",
       "    (stem_1): LayerNorm2d((128,), eps=1e-06, elementwise_affine=True)\n",
       "    (stages_0): ConvNeXtStage(\n",
       "      (downsample): Identity()\n",
       "      (blocks): Sequential(\n",
       "        (0): ConvNeXtBlock(\n",
       "          (conv_dw): Conv2d(128, 128, kernel_size=(7, 7), stride=(1, 1), padding=(3, 3), groups=128)\n",
       "          (norm): LayerNorm((128,), eps=1e-06, elementwise_affine=True)\n",
       "          (mlp): Mlp(\n",
       "            (fc1): Linear(in_features=128, out_features=512, bias=True)\n",
       "            (act): GELU()\n",
       "            (drop1): Dropout(p=0.0, inplace=False)\n",
       "            (fc2): Linear(in_features=512, out_features=128, bias=True)\n",
       "            (drop2): Dropout(p=0.0, inplace=False)\n",
       "          )\n",
       "          (drop_path): Identity()\n",
       "        )\n",
       "        (1): ConvNeXtBlock(\n",
       "          (conv_dw): Conv2d(128, 128, kernel_size=(7, 7), stride=(1, 1), padding=(3, 3), groups=128)\n",
       "          (norm): LayerNorm((128,), eps=1e-06, elementwise_affine=True)\n",
       "          (mlp): Mlp(\n",
       "            (fc1): Linear(in_features=128, out_features=512, bias=True)\n",
       "            (act): GELU()\n",
       "            (drop1): Dropout(p=0.0, inplace=False)\n",
       "            (fc2): Linear(in_features=512, out_features=128, bias=True)\n",
       "            (drop2): Dropout(p=0.0, inplace=False)\n",
       "          )\n",
       "          (drop_path): Identity()\n",
       "        )\n",
       "        (2): ConvNeXtBlock(\n",
       "          (conv_dw): Conv2d(128, 128, kernel_size=(7, 7), stride=(1, 1), padding=(3, 3), groups=128)\n",
       "          (norm): LayerNorm((128,), eps=1e-06, elementwise_affine=True)\n",
       "          (mlp): Mlp(\n",
       "            (fc1): Linear(in_features=128, out_features=512, bias=True)\n",
       "            (act): GELU()\n",
       "            (drop1): Dropout(p=0.0, inplace=False)\n",
       "            (fc2): Linear(in_features=512, out_features=128, bias=True)\n",
       "            (drop2): Dropout(p=0.0, inplace=False)\n",
       "          )\n",
       "          (drop_path): Identity()\n",
       "        )\n",
       "      )\n",
       "    )\n",
       "    (stages_1): ConvNeXtStage(\n",
       "      (downsample): Sequential(\n",
       "        (0): LayerNorm2d((128,), eps=1e-06, elementwise_affine=True)\n",
       "        (1): Conv2d(128, 256, kernel_size=(2, 2), stride=(2, 2))\n",
       "      )\n",
       "      (blocks): Sequential(\n",
       "        (0): ConvNeXtBlock(\n",
       "          (conv_dw): Conv2d(256, 256, kernel_size=(7, 7), stride=(1, 1), padding=(3, 3), groups=256)\n",
       "          (norm): LayerNorm((256,), eps=1e-06, elementwise_affine=True)\n",
       "          (mlp): Mlp(\n",
       "            (fc1): Linear(in_features=256, out_features=1024, bias=True)\n",
       "            (act): GELU()\n",
       "            (drop1): Dropout(p=0.0, inplace=False)\n",
       "            (fc2): Linear(in_features=1024, out_features=256, bias=True)\n",
       "            (drop2): Dropout(p=0.0, inplace=False)\n",
       "          )\n",
       "          (drop_path): Identity()\n",
       "        )\n",
       "        (1): ConvNeXtBlock(\n",
       "          (conv_dw): Conv2d(256, 256, kernel_size=(7, 7), stride=(1, 1), padding=(3, 3), groups=256)\n",
       "          (norm): LayerNorm((256,), eps=1e-06, elementwise_affine=True)\n",
       "          (mlp): Mlp(\n",
       "            (fc1): Linear(in_features=256, out_features=1024, bias=True)\n",
       "            (act): GELU()\n",
       "            (drop1): Dropout(p=0.0, inplace=False)\n",
       "            (fc2): Linear(in_features=1024, out_features=256, bias=True)\n",
       "            (drop2): Dropout(p=0.0, inplace=False)\n",
       "          )\n",
       "          (drop_path): Identity()\n",
       "        )\n",
       "        (2): ConvNeXtBlock(\n",
       "          (conv_dw): Conv2d(256, 256, kernel_size=(7, 7), stride=(1, 1), padding=(3, 3), groups=256)\n",
       "          (norm): LayerNorm((256,), eps=1e-06, elementwise_affine=True)\n",
       "          (mlp): Mlp(\n",
       "            (fc1): Linear(in_features=256, out_features=1024, bias=True)\n",
       "            (act): GELU()\n",
       "            (drop1): Dropout(p=0.0, inplace=False)\n",
       "            (fc2): Linear(in_features=1024, out_features=256, bias=True)\n",
       "            (drop2): Dropout(p=0.0, inplace=False)\n",
       "          )\n",
       "          (drop_path): Identity()\n",
       "        )\n",
       "      )\n",
       "    )\n",
       "    (stages_2): ConvNeXtStage(\n",
       "      (downsample): Sequential(\n",
       "        (0): LayerNorm2d((256,), eps=1e-06, elementwise_affine=True)\n",
       "        (1): Conv2d(256, 512, kernel_size=(2, 2), stride=(2, 2))\n",
       "      )\n",
       "      (blocks): Sequential(\n",
       "        (0): ConvNeXtBlock(\n",
       "          (conv_dw): Conv2d(512, 512, kernel_size=(7, 7), stride=(1, 1), padding=(3, 3), groups=512)\n",
       "          (norm): LayerNorm((512,), eps=1e-06, elementwise_affine=True)\n",
       "          (mlp): Mlp(\n",
       "            (fc1): Linear(in_features=512, out_features=2048, bias=True)\n",
       "            (act): GELU()\n",
       "            (drop1): Dropout(p=0.0, inplace=False)\n",
       "            (fc2): Linear(in_features=2048, out_features=512, bias=True)\n",
       "            (drop2): Dropout(p=0.0, inplace=False)\n",
       "          )\n",
       "          (drop_path): Identity()\n",
       "        )\n",
       "        (1): ConvNeXtBlock(\n",
       "          (conv_dw): Conv2d(512, 512, kernel_size=(7, 7), stride=(1, 1), padding=(3, 3), groups=512)\n",
       "          (norm): LayerNorm((512,), eps=1e-06, elementwise_affine=True)\n",
       "          (mlp): Mlp(\n",
       "            (fc1): Linear(in_features=512, out_features=2048, bias=True)\n",
       "            (act): GELU()\n",
       "            (drop1): Dropout(p=0.0, inplace=False)\n",
       "            (fc2): Linear(in_features=2048, out_features=512, bias=True)\n",
       "            (drop2): Dropout(p=0.0, inplace=False)\n",
       "          )\n",
       "          (drop_path): Identity()\n",
       "        )\n",
       "        (2): ConvNeXtBlock(\n",
       "          (conv_dw): Conv2d(512, 512, kernel_size=(7, 7), stride=(1, 1), padding=(3, 3), groups=512)\n",
       "          (norm): LayerNorm((512,), eps=1e-06, elementwise_affine=True)\n",
       "          (mlp): Mlp(\n",
       "            (fc1): Linear(in_features=512, out_features=2048, bias=True)\n",
       "            (act): GELU()\n",
       "            (drop1): Dropout(p=0.0, inplace=False)\n",
       "            (fc2): Linear(in_features=2048, out_features=512, bias=True)\n",
       "            (drop2): Dropout(p=0.0, inplace=False)\n",
       "          )\n",
       "          (drop_path): Identity()\n",
       "        )\n",
       "        (3): ConvNeXtBlock(\n",
       "          (conv_dw): Conv2d(512, 512, kernel_size=(7, 7), stride=(1, 1), padding=(3, 3), groups=512)\n",
       "          (norm): LayerNorm((512,), eps=1e-06, elementwise_affine=True)\n",
       "          (mlp): Mlp(\n",
       "            (fc1): Linear(in_features=512, out_features=2048, bias=True)\n",
       "            (act): GELU()\n",
       "            (drop1): Dropout(p=0.0, inplace=False)\n",
       "            (fc2): Linear(in_features=2048, out_features=512, bias=True)\n",
       "            (drop2): Dropout(p=0.0, inplace=False)\n",
       "          )\n",
       "          (drop_path): Identity()\n",
       "        )\n",
       "        (4): ConvNeXtBlock(\n",
       "          (conv_dw): Conv2d(512, 512, kernel_size=(7, 7), stride=(1, 1), padding=(3, 3), groups=512)\n",
       "          (norm): LayerNorm((512,), eps=1e-06, elementwise_affine=True)\n",
       "          (mlp): Mlp(\n",
       "            (fc1): Linear(in_features=512, out_features=2048, bias=True)\n",
       "            (act): GELU()\n",
       "            (drop1): Dropout(p=0.0, inplace=False)\n",
       "            (fc2): Linear(in_features=2048, out_features=512, bias=True)\n",
       "            (drop2): Dropout(p=0.0, inplace=False)\n",
       "          )\n",
       "          (drop_path): Identity()\n",
       "        )\n",
       "        (5): ConvNeXtBlock(\n",
       "          (conv_dw): Conv2d(512, 512, kernel_size=(7, 7), stride=(1, 1), padding=(3, 3), groups=512)\n",
       "          (norm): LayerNorm((512,), eps=1e-06, elementwise_affine=True)\n",
       "          (mlp): Mlp(\n",
       "            (fc1): Linear(in_features=512, out_features=2048, bias=True)\n",
       "            (act): GELU()\n",
       "            (drop1): Dropout(p=0.0, inplace=False)\n",
       "            (fc2): Linear(in_features=2048, out_features=512, bias=True)\n",
       "            (drop2): Dropout(p=0.0, inplace=False)\n",
       "          )\n",
       "          (drop_path): Identity()\n",
       "        )\n",
       "        (6): ConvNeXtBlock(\n",
       "          (conv_dw): Conv2d(512, 512, kernel_size=(7, 7), stride=(1, 1), padding=(3, 3), groups=512)\n",
       "          (norm): LayerNorm((512,), eps=1e-06, elementwise_affine=True)\n",
       "          (mlp): Mlp(\n",
       "            (fc1): Linear(in_features=512, out_features=2048, bias=True)\n",
       "            (act): GELU()\n",
       "            (drop1): Dropout(p=0.0, inplace=False)\n",
       "            (fc2): Linear(in_features=2048, out_features=512, bias=True)\n",
       "            (drop2): Dropout(p=0.0, inplace=False)\n",
       "          )\n",
       "          (drop_path): Identity()\n",
       "        )\n",
       "        (7): ConvNeXtBlock(\n",
       "          (conv_dw): Conv2d(512, 512, kernel_size=(7, 7), stride=(1, 1), padding=(3, 3), groups=512)\n",
       "          (norm): LayerNorm((512,), eps=1e-06, elementwise_affine=True)\n",
       "          (mlp): Mlp(\n",
       "            (fc1): Linear(in_features=512, out_features=2048, bias=True)\n",
       "            (act): GELU()\n",
       "            (drop1): Dropout(p=0.0, inplace=False)\n",
       "            (fc2): Linear(in_features=2048, out_features=512, bias=True)\n",
       "            (drop2): Dropout(p=0.0, inplace=False)\n",
       "          )\n",
       "          (drop_path): Identity()\n",
       "        )\n",
       "        (8): ConvNeXtBlock(\n",
       "          (conv_dw): Conv2d(512, 512, kernel_size=(7, 7), stride=(1, 1), padding=(3, 3), groups=512)\n",
       "          (norm): LayerNorm((512,), eps=1e-06, elementwise_affine=True)\n",
       "          (mlp): Mlp(\n",
       "            (fc1): Linear(in_features=512, out_features=2048, bias=True)\n",
       "            (act): GELU()\n",
       "            (drop1): Dropout(p=0.0, inplace=False)\n",
       "            (fc2): Linear(in_features=2048, out_features=512, bias=True)\n",
       "            (drop2): Dropout(p=0.0, inplace=False)\n",
       "          )\n",
       "          (drop_path): Identity()\n",
       "        )\n",
       "        (9): ConvNeXtBlock(\n",
       "          (conv_dw): Conv2d(512, 512, kernel_size=(7, 7), stride=(1, 1), padding=(3, 3), groups=512)\n",
       "          (norm): LayerNorm((512,), eps=1e-06, elementwise_affine=True)\n",
       "          (mlp): Mlp(\n",
       "            (fc1): Linear(in_features=512, out_features=2048, bias=True)\n",
       "            (act): GELU()\n",
       "            (drop1): Dropout(p=0.0, inplace=False)\n",
       "            (fc2): Linear(in_features=2048, out_features=512, bias=True)\n",
       "            (drop2): Dropout(p=0.0, inplace=False)\n",
       "          )\n",
       "          (drop_path): Identity()\n",
       "        )\n",
       "        (10): ConvNeXtBlock(\n",
       "          (conv_dw): Conv2d(512, 512, kernel_size=(7, 7), stride=(1, 1), padding=(3, 3), groups=512)\n",
       "          (norm): LayerNorm((512,), eps=1e-06, elementwise_affine=True)\n",
       "          (mlp): Mlp(\n",
       "            (fc1): Linear(in_features=512, out_features=2048, bias=True)\n",
       "            (act): GELU()\n",
       "            (drop1): Dropout(p=0.0, inplace=False)\n",
       "            (fc2): Linear(in_features=2048, out_features=512, bias=True)\n",
       "            (drop2): Dropout(p=0.0, inplace=False)\n",
       "          )\n",
       "          (drop_path): Identity()\n",
       "        )\n",
       "        (11): ConvNeXtBlock(\n",
       "          (conv_dw): Conv2d(512, 512, kernel_size=(7, 7), stride=(1, 1), padding=(3, 3), groups=512)\n",
       "          (norm): LayerNorm((512,), eps=1e-06, elementwise_affine=True)\n",
       "          (mlp): Mlp(\n",
       "            (fc1): Linear(in_features=512, out_features=2048, bias=True)\n",
       "            (act): GELU()\n",
       "            (drop1): Dropout(p=0.0, inplace=False)\n",
       "            (fc2): Linear(in_features=2048, out_features=512, bias=True)\n",
       "            (drop2): Dropout(p=0.0, inplace=False)\n",
       "          )\n",
       "          (drop_path): Identity()\n",
       "        )\n",
       "        (12): ConvNeXtBlock(\n",
       "          (conv_dw): Conv2d(512, 512, kernel_size=(7, 7), stride=(1, 1), padding=(3, 3), groups=512)\n",
       "          (norm): LayerNorm((512,), eps=1e-06, elementwise_affine=True)\n",
       "          (mlp): Mlp(\n",
       "            (fc1): Linear(in_features=512, out_features=2048, bias=True)\n",
       "            (act): GELU()\n",
       "            (drop1): Dropout(p=0.0, inplace=False)\n",
       "            (fc2): Linear(in_features=2048, out_features=512, bias=True)\n",
       "            (drop2): Dropout(p=0.0, inplace=False)\n",
       "          )\n",
       "          (drop_path): Identity()\n",
       "        )\n",
       "        (13): ConvNeXtBlock(\n",
       "          (conv_dw): Conv2d(512, 512, kernel_size=(7, 7), stride=(1, 1), padding=(3, 3), groups=512)\n",
       "          (norm): LayerNorm((512,), eps=1e-06, elementwise_affine=True)\n",
       "          (mlp): Mlp(\n",
       "            (fc1): Linear(in_features=512, out_features=2048, bias=True)\n",
       "            (act): GELU()\n",
       "            (drop1): Dropout(p=0.0, inplace=False)\n",
       "            (fc2): Linear(in_features=2048, out_features=512, bias=True)\n",
       "            (drop2): Dropout(p=0.0, inplace=False)\n",
       "          )\n",
       "          (drop_path): Identity()\n",
       "        )\n",
       "        (14): ConvNeXtBlock(\n",
       "          (conv_dw): Conv2d(512, 512, kernel_size=(7, 7), stride=(1, 1), padding=(3, 3), groups=512)\n",
       "          (norm): LayerNorm((512,), eps=1e-06, elementwise_affine=True)\n",
       "          (mlp): Mlp(\n",
       "            (fc1): Linear(in_features=512, out_features=2048, bias=True)\n",
       "            (act): GELU()\n",
       "            (drop1): Dropout(p=0.0, inplace=False)\n",
       "            (fc2): Linear(in_features=2048, out_features=512, bias=True)\n",
       "            (drop2): Dropout(p=0.0, inplace=False)\n",
       "          )\n",
       "          (drop_path): Identity()\n",
       "        )\n",
       "        (15): ConvNeXtBlock(\n",
       "          (conv_dw): Conv2d(512, 512, kernel_size=(7, 7), stride=(1, 1), padding=(3, 3), groups=512)\n",
       "          (norm): LayerNorm((512,), eps=1e-06, elementwise_affine=True)\n",
       "          (mlp): Mlp(\n",
       "            (fc1): Linear(in_features=512, out_features=2048, bias=True)\n",
       "            (act): GELU()\n",
       "            (drop1): Dropout(p=0.0, inplace=False)\n",
       "            (fc2): Linear(in_features=2048, out_features=512, bias=True)\n",
       "            (drop2): Dropout(p=0.0, inplace=False)\n",
       "          )\n",
       "          (drop_path): Identity()\n",
       "        )\n",
       "        (16): ConvNeXtBlock(\n",
       "          (conv_dw): Conv2d(512, 512, kernel_size=(7, 7), stride=(1, 1), padding=(3, 3), groups=512)\n",
       "          (norm): LayerNorm((512,), eps=1e-06, elementwise_affine=True)\n",
       "          (mlp): Mlp(\n",
       "            (fc1): Linear(in_features=512, out_features=2048, bias=True)\n",
       "            (act): GELU()\n",
       "            (drop1): Dropout(p=0.0, inplace=False)\n",
       "            (fc2): Linear(in_features=2048, out_features=512, bias=True)\n",
       "            (drop2): Dropout(p=0.0, inplace=False)\n",
       "          )\n",
       "          (drop_path): Identity()\n",
       "        )\n",
       "        (17): ConvNeXtBlock(\n",
       "          (conv_dw): Conv2d(512, 512, kernel_size=(7, 7), stride=(1, 1), padding=(3, 3), groups=512)\n",
       "          (norm): LayerNorm((512,), eps=1e-06, elementwise_affine=True)\n",
       "          (mlp): Mlp(\n",
       "            (fc1): Linear(in_features=512, out_features=2048, bias=True)\n",
       "            (act): GELU()\n",
       "            (drop1): Dropout(p=0.0, inplace=False)\n",
       "            (fc2): Linear(in_features=2048, out_features=512, bias=True)\n",
       "            (drop2): Dropout(p=0.0, inplace=False)\n",
       "          )\n",
       "          (drop_path): Identity()\n",
       "        )\n",
       "        (18): ConvNeXtBlock(\n",
       "          (conv_dw): Conv2d(512, 512, kernel_size=(7, 7), stride=(1, 1), padding=(3, 3), groups=512)\n",
       "          (norm): LayerNorm((512,), eps=1e-06, elementwise_affine=True)\n",
       "          (mlp): Mlp(\n",
       "            (fc1): Linear(in_features=512, out_features=2048, bias=True)\n",
       "            (act): GELU()\n",
       "            (drop1): Dropout(p=0.0, inplace=False)\n",
       "            (fc2): Linear(in_features=2048, out_features=512, bias=True)\n",
       "            (drop2): Dropout(p=0.0, inplace=False)\n",
       "          )\n",
       "          (drop_path): Identity()\n",
       "        )\n",
       "        (19): ConvNeXtBlock(\n",
       "          (conv_dw): Conv2d(512, 512, kernel_size=(7, 7), stride=(1, 1), padding=(3, 3), groups=512)\n",
       "          (norm): LayerNorm((512,), eps=1e-06, elementwise_affine=True)\n",
       "          (mlp): Mlp(\n",
       "            (fc1): Linear(in_features=512, out_features=2048, bias=True)\n",
       "            (act): GELU()\n",
       "            (drop1): Dropout(p=0.0, inplace=False)\n",
       "            (fc2): Linear(in_features=2048, out_features=512, bias=True)\n",
       "            (drop2): Dropout(p=0.0, inplace=False)\n",
       "          )\n",
       "          (drop_path): Identity()\n",
       "        )\n",
       "        (20): ConvNeXtBlock(\n",
       "          (conv_dw): Conv2d(512, 512, kernel_size=(7, 7), stride=(1, 1), padding=(3, 3), groups=512)\n",
       "          (norm): LayerNorm((512,), eps=1e-06, elementwise_affine=True)\n",
       "          (mlp): Mlp(\n",
       "            (fc1): Linear(in_features=512, out_features=2048, bias=True)\n",
       "            (act): GELU()\n",
       "            (drop1): Dropout(p=0.0, inplace=False)\n",
       "            (fc2): Linear(in_features=2048, out_features=512, bias=True)\n",
       "            (drop2): Dropout(p=0.0, inplace=False)\n",
       "          )\n",
       "          (drop_path): Identity()\n",
       "        )\n",
       "        (21): ConvNeXtBlock(\n",
       "          (conv_dw): Conv2d(512, 512, kernel_size=(7, 7), stride=(1, 1), padding=(3, 3), groups=512)\n",
       "          (norm): LayerNorm((512,), eps=1e-06, elementwise_affine=True)\n",
       "          (mlp): Mlp(\n",
       "            (fc1): Linear(in_features=512, out_features=2048, bias=True)\n",
       "            (act): GELU()\n",
       "            (drop1): Dropout(p=0.0, inplace=False)\n",
       "            (fc2): Linear(in_features=2048, out_features=512, bias=True)\n",
       "            (drop2): Dropout(p=0.0, inplace=False)\n",
       "          )\n",
       "          (drop_path): Identity()\n",
       "        )\n",
       "        (22): ConvNeXtBlock(\n",
       "          (conv_dw): Conv2d(512, 512, kernel_size=(7, 7), stride=(1, 1), padding=(3, 3), groups=512)\n",
       "          (norm): LayerNorm((512,), eps=1e-06, elementwise_affine=True)\n",
       "          (mlp): Mlp(\n",
       "            (fc1): Linear(in_features=512, out_features=2048, bias=True)\n",
       "            (act): GELU()\n",
       "            (drop1): Dropout(p=0.0, inplace=False)\n",
       "            (fc2): Linear(in_features=2048, out_features=512, bias=True)\n",
       "            (drop2): Dropout(p=0.0, inplace=False)\n",
       "          )\n",
       "          (drop_path): Identity()\n",
       "        )\n",
       "        (23): ConvNeXtBlock(\n",
       "          (conv_dw): Conv2d(512, 512, kernel_size=(7, 7), stride=(1, 1), padding=(3, 3), groups=512)\n",
       "          (norm): LayerNorm((512,), eps=1e-06, elementwise_affine=True)\n",
       "          (mlp): Mlp(\n",
       "            (fc1): Linear(in_features=512, out_features=2048, bias=True)\n",
       "            (act): GELU()\n",
       "            (drop1): Dropout(p=0.0, inplace=False)\n",
       "            (fc2): Linear(in_features=2048, out_features=512, bias=True)\n",
       "            (drop2): Dropout(p=0.0, inplace=False)\n",
       "          )\n",
       "          (drop_path): Identity()\n",
       "        )\n",
       "        (24): ConvNeXtBlock(\n",
       "          (conv_dw): Conv2d(512, 512, kernel_size=(7, 7), stride=(1, 1), padding=(3, 3), groups=512)\n",
       "          (norm): LayerNorm((512,), eps=1e-06, elementwise_affine=True)\n",
       "          (mlp): Mlp(\n",
       "            (fc1): Linear(in_features=512, out_features=2048, bias=True)\n",
       "            (act): GELU()\n",
       "            (drop1): Dropout(p=0.0, inplace=False)\n",
       "            (fc2): Linear(in_features=2048, out_features=512, bias=True)\n",
       "            (drop2): Dropout(p=0.0, inplace=False)\n",
       "          )\n",
       "          (drop_path): Identity()\n",
       "        )\n",
       "        (25): ConvNeXtBlock(\n",
       "          (conv_dw): Conv2d(512, 512, kernel_size=(7, 7), stride=(1, 1), padding=(3, 3), groups=512)\n",
       "          (norm): LayerNorm((512,), eps=1e-06, elementwise_affine=True)\n",
       "          (mlp): Mlp(\n",
       "            (fc1): Linear(in_features=512, out_features=2048, bias=True)\n",
       "            (act): GELU()\n",
       "            (drop1): Dropout(p=0.0, inplace=False)\n",
       "            (fc2): Linear(in_features=2048, out_features=512, bias=True)\n",
       "            (drop2): Dropout(p=0.0, inplace=False)\n",
       "          )\n",
       "          (drop_path): Identity()\n",
       "        )\n",
       "        (26): ConvNeXtBlock(\n",
       "          (conv_dw): Conv2d(512, 512, kernel_size=(7, 7), stride=(1, 1), padding=(3, 3), groups=512)\n",
       "          (norm): LayerNorm((512,), eps=1e-06, elementwise_affine=True)\n",
       "          (mlp): Mlp(\n",
       "            (fc1): Linear(in_features=512, out_features=2048, bias=True)\n",
       "            (act): GELU()\n",
       "            (drop1): Dropout(p=0.0, inplace=False)\n",
       "            (fc2): Linear(in_features=2048, out_features=512, bias=True)\n",
       "            (drop2): Dropout(p=0.0, inplace=False)\n",
       "          )\n",
       "          (drop_path): Identity()\n",
       "        )\n",
       "      )\n",
       "    )\n",
       "    (stages_3): ConvNeXtStage(\n",
       "      (downsample): Sequential(\n",
       "        (0): LayerNorm2d((512,), eps=1e-06, elementwise_affine=True)\n",
       "        (1): Conv2d(512, 1024, kernel_size=(2, 2), stride=(2, 2))\n",
       "      )\n",
       "      (blocks): Sequential(\n",
       "        (0): ConvNeXtBlock(\n",
       "          (conv_dw): Conv2d(1024, 1024, kernel_size=(7, 7), stride=(1, 1), padding=(3, 3), groups=1024)\n",
       "          (norm): LayerNorm((1024,), eps=1e-06, elementwise_affine=True)\n",
       "          (mlp): Mlp(\n",
       "            (fc1): Linear(in_features=1024, out_features=4096, bias=True)\n",
       "            (act): GELU()\n",
       "            (drop1): Dropout(p=0.0, inplace=False)\n",
       "            (fc2): Linear(in_features=4096, out_features=1024, bias=True)\n",
       "            (drop2): Dropout(p=0.0, inplace=False)\n",
       "          )\n",
       "          (drop_path): Identity()\n",
       "        )\n",
       "        (1): ConvNeXtBlock(\n",
       "          (conv_dw): Conv2d(1024, 1024, kernel_size=(7, 7), stride=(1, 1), padding=(3, 3), groups=1024)\n",
       "          (norm): LayerNorm((1024,), eps=1e-06, elementwise_affine=True)\n",
       "          (mlp): Mlp(\n",
       "            (fc1): Linear(in_features=1024, out_features=4096, bias=True)\n",
       "            (act): GELU()\n",
       "            (drop1): Dropout(p=0.0, inplace=False)\n",
       "            (fc2): Linear(in_features=4096, out_features=1024, bias=True)\n",
       "            (drop2): Dropout(p=0.0, inplace=False)\n",
       "          )\n",
       "          (drop_path): Identity()\n",
       "        )\n",
       "        (2): ConvNeXtBlock(\n",
       "          (conv_dw): Conv2d(1024, 1024, kernel_size=(7, 7), stride=(1, 1), padding=(3, 3), groups=1024)\n",
       "          (norm): LayerNorm((1024,), eps=1e-06, elementwise_affine=True)\n",
       "          (mlp): Mlp(\n",
       "            (fc1): Linear(in_features=1024, out_features=4096, bias=True)\n",
       "            (act): GELU()\n",
       "            (drop1): Dropout(p=0.0, inplace=False)\n",
       "            (fc2): Linear(in_features=4096, out_features=1024, bias=True)\n",
       "            (drop2): Dropout(p=0.0, inplace=False)\n",
       "          )\n",
       "          (drop_path): Identity()\n",
       "        )\n",
       "      )\n",
       "    )\n",
       "  )\n",
       "  (decoder): UnetDecoder(\n",
       "    (center): Identity()\n",
       "    (blocks): ModuleList(\n",
       "      (0): DecoderBlock(\n",
       "        (conv1): Conv2dBnAct(\n",
       "          (conv): Conv2d(1536, 256, kernel_size=(3, 3), stride=(1, 1), padding=(1, 1), bias=False)\n",
       "          (bn): BatchNorm2d(256, eps=1e-05, momentum=0.1, affine=True, track_running_stats=True)\n",
       "          (act): ReLU(inplace=True)\n",
       "        )\n",
       "        (conv2): Conv2dBnAct(\n",
       "          (conv): Conv2d(256, 256, kernel_size=(3, 3), stride=(1, 1), padding=(1, 1), bias=False)\n",
       "          (bn): BatchNorm2d(256, eps=1e-05, momentum=0.1, affine=True, track_running_stats=True)\n",
       "          (act): ReLU(inplace=True)\n",
       "        )\n",
       "      )\n",
       "      (1): DecoderBlock(\n",
       "        (conv1): Conv2dBnAct(\n",
       "          (conv): Conv2d(512, 128, kernel_size=(3, 3), stride=(1, 1), padding=(1, 1), bias=False)\n",
       "          (bn): BatchNorm2d(128, eps=1e-05, momentum=0.1, affine=True, track_running_stats=True)\n",
       "          (act): ReLU(inplace=True)\n",
       "        )\n",
       "        (conv2): Conv2dBnAct(\n",
       "          (conv): Conv2d(128, 128, kernel_size=(3, 3), stride=(1, 1), padding=(1, 1), bias=False)\n",
       "          (bn): BatchNorm2d(128, eps=1e-05, momentum=0.1, affine=True, track_running_stats=True)\n",
       "          (act): ReLU(inplace=True)\n",
       "        )\n",
       "      )\n",
       "      (2): DecoderBlock(\n",
       "        (conv1): Conv2dBnAct(\n",
       "          (conv): Conv2d(256, 64, kernel_size=(3, 3), stride=(1, 1), padding=(1, 1), bias=False)\n",
       "          (bn): BatchNorm2d(64, eps=1e-05, momentum=0.1, affine=True, track_running_stats=True)\n",
       "          (act): ReLU(inplace=True)\n",
       "        )\n",
       "        (conv2): Conv2dBnAct(\n",
       "          (conv): Conv2d(64, 64, kernel_size=(3, 3), stride=(1, 1), padding=(1, 1), bias=False)\n",
       "          (bn): BatchNorm2d(64, eps=1e-05, momentum=0.1, affine=True, track_running_stats=True)\n",
       "          (act): ReLU(inplace=True)\n",
       "        )\n",
       "      )\n",
       "      (3): DecoderBlock(\n",
       "        (conv1): Conv2dBnAct(\n",
       "          (conv): Conv2d(64, 32, kernel_size=(3, 3), stride=(1, 1), padding=(1, 1), bias=False)\n",
       "          (bn): BatchNorm2d(32, eps=1e-05, momentum=0.1, affine=True, track_running_stats=True)\n",
       "          (act): ReLU(inplace=True)\n",
       "        )\n",
       "        (conv2): Conv2dBnAct(\n",
       "          (conv): Conv2d(32, 32, kernel_size=(3, 3), stride=(1, 1), padding=(1, 1), bias=False)\n",
       "          (bn): BatchNorm2d(32, eps=1e-05, momentum=0.1, affine=True, track_running_stats=True)\n",
       "          (act): ReLU(inplace=True)\n",
       "        )\n",
       "      )\n",
       "      (4): DecoderBlock(\n",
       "        (conv1): Conv2dBnAct(\n",
       "          (conv): Conv2d(32, 16, kernel_size=(3, 3), stride=(1, 1), padding=(1, 1), bias=False)\n",
       "          (bn): BatchNorm2d(16, eps=1e-05, momentum=0.1, affine=True, track_running_stats=True)\n",
       "          (act): ReLU(inplace=True)\n",
       "        )\n",
       "        (conv2): Conv2dBnAct(\n",
       "          (conv): Conv2d(16, 16, kernel_size=(3, 3), stride=(1, 1), padding=(1, 1), bias=False)\n",
       "          (bn): BatchNorm2d(16, eps=1e-05, momentum=0.1, affine=True, track_running_stats=True)\n",
       "          (act): ReLU(inplace=True)\n",
       "        )\n",
       "      )\n",
       "    )\n",
       "    (final_conv): Conv2d(16, 1, kernel_size=(1, 1), stride=(1, 1))\n",
       "  )\n",
       ")"
      ]
     },
     "execution_count": 17,
     "metadata": {},
     "output_type": "execute_result"
    }
   ],
   "source": [
    "from backbones_unet.model.unet import Unet\n",
    "\n",
    "\"\"\"\n",
    "pre_model:\n",
    "    - weight source for model 1\n",
    "    - teacher model for model 2\n",
    "    - weight source and teacher model for model 3\n",
    "\"\"\"\n",
    "\n",
    "pre_model = Unet(\n",
    "    backbone='convnext_base', # backbone network name\n",
    "    in_channels=3,            # input channels (1 for gray-scale images, 3 for RGB, etc.)\n",
    "    num_classes=1,            # output channels (number of classes in your dataset)\n",
    ")\n",
    "\n",
    "checkpoint = torch.load(hyperparameters['unet']['pre_trained_path'])\n",
    "pre_model.load_state_dict(checkpoint['model_state_dict'], strict=True)\n",
    "\n",
    "pre_model.to(device)"
   ]
  },
  {
   "cell_type": "raw",
   "id": "4f62526b-3eca-4f2b-934e-a64ee1027465",
   "metadata": {},
   "source": [
    "# Print model's state_dict\n",
    "print(\"Model's state_dict:\")\n",
    "for param_tensor in pre_model.state_dict():\n",
    "    print(param_tensor, \"\\t\", pre_model.state_dict()[param_tensor].size())"
   ]
  },
  {
   "cell_type": "markdown",
   "id": "52293a64-6782-4e3b-ac3e-5eae62ca7c9e",
   "metadata": {
    "tags": []
   },
   "source": [
    "## Weight Copy"
   ]
  },
  {
   "cell_type": "code",
   "execution_count": 18,
   "id": "b2cdf206-08f2-484a-8bf7-1b33ee478b99",
   "metadata": {
    "tags": []
   },
   "outputs": [
    {
     "data": {
      "text/plain": [
       "<All keys matched successfully>"
      ]
     },
     "execution_count": 18,
     "metadata": {},
     "output_type": "execute_result"
    }
   ],
   "source": [
    "pretrained_dict = pre_model.state_dict()\n",
    "model1_dict = model1.state_dict()\n",
    "\n",
    "new_state_dict1 = {}\n",
    "\n",
    "for k, v in pretrained_dict.items():\n",
    "    if k in model1_dict:\n",
    "        new_state_dict1[k] = v\n",
    "\n",
    "model1_dict.update(new_state_dict1)\n",
    "model1.load_state_dict(model1_dict)"
   ]
  },
  {
   "cell_type": "markdown",
   "id": "ecddd488-3586-46e7-99dc-34070da1e1e3",
   "metadata": {
    "tags": []
   },
   "source": [
    "## Number of Parameters"
   ]
  },
  {
   "cell_type": "code",
   "execution_count": 19,
   "id": "64e9ca96-84c1-493e-90c1-bea3cdbffc62",
   "metadata": {
    "tags": []
   },
   "outputs": [
    {
     "name": "stdout",
     "output_type": "stream",
     "text": [
      "Model input size: torch.Size([1, 3, 320, 320])\n",
      "Model output size: torch.Size([1, 1, 320, 320])\n"
     ]
    }
   ],
   "source": [
    "### Dummy Data\n",
    "__batch_size = 1\n",
    "__in_channels = hyperparameters['unet']['in_channels']\n",
    "__width = hyperparameters['unet']['width']\n",
    "__height = hyperparameters['unet']['height']\n",
    "\n",
    "dummy_input = torch.randn((__batch_size, __in_channels, __height, __width))\n",
    "dummy_out = model1(dummy_input)\n",
    "\n",
    "print(f'Model input size: {dummy_input.shape}')\n",
    "print(f'Model output size: {dummy_out.shape}')"
   ]
  },
  {
   "cell_type": "code",
   "execution_count": 20,
   "id": "f0bd5554-c7c4-4a58-97fb-7eeffbd52287",
   "metadata": {
    "tags": []
   },
   "outputs": [
    {
     "name": "stdout",
     "output_type": "stream",
     "text": [
      "Number of Parameters: 6,553,600\n"
     ]
    }
   ],
   "source": [
    "print(f'Number of Parameters: {sum(dummy_out.numel() for p in model1.parameters()):,}')"
   ]
  },
  {
   "cell_type": "markdown",
   "id": "fe41c2d1-ba7d-4cdb-937a-fec2ff59a67d",
   "metadata": {
    "tags": []
   },
   "source": [
    "# Loss & Optimizer"
   ]
  },
  {
   "cell_type": "markdown",
   "id": "ee62385f-dd21-49bc-90ab-69cafb655d93",
   "metadata": {},
   "source": [
    "## Loss Function"
   ]
  },
  {
   "cell_type": "code",
   "execution_count": 21,
   "id": "cbc9001e-c2bb-41c5-86d6-a2b88f92c72a",
   "metadata": {},
   "outputs": [
    {
     "data": {
      "text/plain": [
       "'\\nmodel1 --> loss_fn (segmentation loss)\\nmodel2 --> total_loss (segmentation loss + distillation loss)\\n\\n'"
      ]
     },
     "execution_count": 21,
     "metadata": {},
     "output_type": "execute_result"
    }
   ],
   "source": [
    "\"\"\"\n",
    "model1 --> loss_fn (segmentation loss)\n",
    "model2 --> total_loss (segmentation loss + distillation loss)\n",
    "\n",
    "\"\"\""
   ]
  },
  {
   "cell_type": "code",
   "execution_count": 22,
   "id": "1f2409a7-f4c6-48de-8c90-3e37ac0504ce",
   "metadata": {
    "tags": []
   },
   "outputs": [],
   "source": [
    "criterion = nn.MSELoss(reduction='none')\n",
    "\n",
    "def loss_fn(img_input, pred_student, mask, teacher_model, alpha=0.01):\n",
    "    \n",
    "    loss_by_pixel = criterion(pred_student, mask)\n",
    "    loss = loss_by_pixel.mean()\n",
    "    \n",
    "    return loss"
   ]
  },
  {
   "cell_type": "code",
   "execution_count": 23,
   "id": "c3352bd2-41e4-46ba-8378-32de70ad6ca1",
   "metadata": {},
   "outputs": [],
   "source": [
    "@torch.no_grad()\n",
    "def dist_loss(img_input, pred_student, teacher_model):\n",
    "    teacher_model.eval()\n",
    "    pred_teacher = teacher_model(img_input)\n",
    "    distill_loss_by_pixel = criterion(pred_student, pred_teacher)\n",
    "    loss = distill_loss_by_pixel.mean()\n",
    "    \n",
    "    return loss"
   ]
  },
  {
   "cell_type": "code",
   "execution_count": 24,
   "id": "ef0207d4-ea3a-40b3-910a-8ee663e8c18b",
   "metadata": {},
   "outputs": [],
   "source": [
    "def total_loss(img_input, pred_student, mask, teacher_model, alpha=0.01):\n",
    "    segmentation_loss = loss_fn(img_input, pred_student, mask, teacher_model)\n",
    "    distillation_loss = dist_loss(img_input, pred_student, teacher_model)\n",
    "    total_loss = segmentation_loss + alpha * distillation_loss\n",
    "    \n",
    "    return total_loss"
   ]
  },
  {
   "cell_type": "markdown",
   "id": "a1231945-8f22-4d96-9b60-deefe5175715",
   "metadata": {},
   "source": [
    "## Optimizer & Scheduler"
   ]
  },
  {
   "cell_type": "code",
   "execution_count": 25,
   "id": "0851eeb9-61cd-48fa-9620-07251aedacf9",
   "metadata": {
    "tags": []
   },
   "outputs": [],
   "source": [
    "learning_rate = hyperparameters['optimizer']['lr']\n",
    "betas = hyperparameters['optimizer']['betas']\n",
    "\n",
    "optimizer1 = torch.optim.Adam(\n",
    "    model1.parameters(),\n",
    "    lr = learning_rate,\n",
    "    betas = betas, \n",
    ")\n",
    "\n",
    "optimizer2 = torch.optim.Adam(\n",
    "    model2.parameters(),\n",
    "    lr = learning_rate,\n",
    "    betas = betas, \n",
    ")\n",
    "\n",
    "\n",
    "scheduler1 = torch.optim.lr_scheduler.ReduceLROnPlateau(optimizer1, mode='min', patience=20, factor=0.1)\n",
    "scheduler2 = torch.optim.lr_scheduler.ReduceLROnPlateau(optimizer2, mode='min', patience=20, factor=0.1)"
   ]
  },
  {
   "cell_type": "code",
   "execution_count": 26,
   "id": "43588192-b5c2-47eb-be7d-5f14b3fa3517",
   "metadata": {},
   "outputs": [
    {
     "name": "stdout",
     "output_type": "stream",
     "text": [
      "Optimizer's state_dict:\n",
      "state \t {}\n",
      "param_groups \t [{'lr': 0.0001, 'betas': (0.9, 0.999), 'eps': 1e-08, 'weight_decay': 0, 'amsgrad': False, 'maximize': False, 'foreach': None, 'capturable': False, 'differentiable': False, 'fused': None, 'params': [0, 1, 2, 3, 4, 5, 6, 7, 8, 9, 10, 11, 12, 13, 14, 15, 16, 17, 18, 19, 20, 21, 22, 23, 24, 25, 26, 27, 28, 29, 30, 31, 32, 33, 34, 35, 36, 37, 38, 39, 40, 41, 42, 43, 44, 45, 46, 47, 48, 49, 50, 51, 52, 53, 54, 55, 56, 57, 58, 59, 60, 61, 62, 63]}]\n"
     ]
    }
   ],
   "source": [
    "# Print optimizer's state_dict\n",
    "print(\"Optimizer's state_dict:\")\n",
    "for var_name in optimizer1.state_dict():\n",
    "    print(var_name, \"\\t\", optimizer1.state_dict()[var_name])"
   ]
  },
  {
   "cell_type": "markdown",
   "id": "5b01ec41-0d9d-4053-a7d2-b5fc6e159419",
   "metadata": {
    "tags": []
   },
   "source": [
    "# Training"
   ]
  },
  {
   "cell_type": "markdown",
   "id": "950951ef-d511-424c-b4a4-36cabc7dda67",
   "metadata": {
    "jp-MarkdownHeadingCollapsed": true
   },
   "source": [
    "## Train Function"
   ]
  },
  {
   "cell_type": "code",
   "execution_count": 27,
   "id": "7070db60-a7d2-44b7-a3cb-d03187d2b709",
   "metadata": {
    "tags": []
   },
   "outputs": [],
   "source": [
    "def train_fn(\n",
    "    epoch,\n",
    "    model,\n",
    "    dataloader, \n",
    "    optimizer, \n",
    "    scheduler,\n",
    "    criterion, \n",
    "    device,\n",
    "    gradient_clipping,\n",
    "    summary_writer\n",
    "):\n",
    "    \n",
    "    model.train()\n",
    "    \n",
    "    compute_avg = lambda x: sum(x) / len(x)\n",
    "    total_batches = len(dataloader)\n",
    "    write_interval = total_batches // 4\n",
    "    \n",
    "    avg_loss = []\n",
    "    epochs = hyperparameters['epochs']\n",
    "    \n",
    "    with tqdm(total=hyperparameters['training_size'], desc=f'Train/Epoch {epoch}/{epochs}', unit='img') as pbar:\n",
    "        for idx, (img, mask) in enumerate(dataloader):\n",
    "            img = img.to(device)\n",
    "            mask = mask.to(device)\n",
    "\n",
    "            optimizer.zero_grad()\n",
    "\n",
    "            pred_mask = model(img)\n",
    "        \n",
    "            loss = criterion(img_input=img, \n",
    "                              pred_student=pred_mask, \n",
    "                              mask=mask, \n",
    "                              teacher_model=pre_model)\n",
    "\n",
    "            loss.backward()\n",
    "            torch.nn.utils.clip_grad_norm_(model.parameters(), gradient_clipping)\n",
    "            optimizer.step()\n",
    "\n",
    "            # Record Results\n",
    "            avg_loss.append(loss.item())\n",
    "            \n",
    "            \"\"\"\n",
    "            # Update Progress Bar\n",
    "            _avg_loss = compute_avg(avg_loss)\n",
    "            \n",
    "            if idx % write_interval == 0:\n",
    "                summary_writer.add_scalar('Eval/Average Loss', _avg_loss, ((epoch-1)*total_batches) + idx)\n",
    "            \"\"\"\n",
    "            \n",
    "            pbar.update(img.shape[0])\n",
    "        \n",
    "    return compute_avg(avg_loss) "
   ]
  },
  {
   "cell_type": "markdown",
   "id": "d68c23a9-6836-4d3f-bba0-64ca2e843d09",
   "metadata": {
    "jp-MarkdownHeadingCollapsed": true
   },
   "source": [
    "## Evaluation Function"
   ]
  },
  {
   "cell_type": "code",
   "execution_count": 28,
   "id": "95503d40-59d5-4fb6-9ea8-0bf11ab0f775",
   "metadata": {
    "tags": []
   },
   "outputs": [],
   "source": [
    "@torch.no_grad()\n",
    "def eval_fn(\n",
    "    epoch,\n",
    "    model, \n",
    "    dataloader, \n",
    "    criterion, \n",
    "    device,\n",
    "    color_mapping,\n",
    "    summary_writer\n",
    "):\n",
    "    model.eval()\n",
    "    \n",
    "    # Average Loss and mIoU\n",
    "    avg_loss = []\n",
    "    avg_mIoU = []\n",
    "    \n",
    "    #Accuracy\n",
    "    total_correct = 0\n",
    "    total_pixel = 0\n",
    "\n",
    "    compute_avg = lambda x: sum(x) / len(x)\n",
    "    total_batches = len(dataloader)\n",
    "    write_interval = total_batches // 4\n",
    "    \n",
    "    epochs = hyperparameters['epochs']\n",
    "    \n",
    "    with tqdm(total=hyperparameters['test_size'], desc=f'Eval/Epoch {epoch}/{epochs}', unit='img') as pbar:\n",
    "        for idx, (img, mask) in enumerate(dataloader):\n",
    "            img = img.to(device)\n",
    "            mask = mask.to(device)\n",
    "\n",
    "            #Accuracy\n",
    "            num_correct, num_pixel = check_acc(img, mask, model, device)\n",
    "            total_correct += num_correct\n",
    "            total_pixel += num_pixel\n",
    "\n",
    "            pred_mask = model(img)\n",
    "            \n",
    "            loss = criterion(img_input=img, \n",
    "                              pred_student=pred_mask, \n",
    "                              mask=mask, \n",
    "                              teacher_model=pre_model)\n",
    "\n",
    "            # mIoU\n",
    "            miou = calculate_miou(pred_mask, mask, color_mapping)\n",
    "\n",
    "            avg_loss.append(loss.item())\n",
    "            avg_mIoU.append(miou.item())\n",
    "            \n",
    "            \n",
    "            \"\"\"\n",
    "            # Update Progress Bar\n",
    "            _avg_loss = compute_avg(avg_loss)\n",
    "            _avg_miou = compute_avg(avg_mIoU)\n",
    "            \n",
    "            if idx % write_interval == 0:\n",
    "                summary_writer.add_scalar('Eval/Average Loss', _avg_loss, ((epoch-1)*total_batches) + idx)\n",
    "                summary_writer.add_scalar('Eval/Average mIoU', _avg_miou, ((epoch-1)*total_batches) + idx)\n",
    "            \"\"\"\n",
    "            \n",
    "            \n",
    "            pbar.update(img.shape[0])\n",
    "\n",
    "    acc = 100*(num_correct/num_pixel)\n",
    "    return compute_avg(avg_loss), compute_avg(avg_mIoU), acc"
   ]
  },
  {
   "cell_type": "markdown",
   "id": "3f029069-9b68-45f0-b595-0f77c79cc70e",
   "metadata": {},
   "source": [
    "## Start Training"
   ]
  },
  {
   "cell_type": "code",
   "execution_count": 29,
   "id": "99160c94-cd3b-473a-83e2-a15d60ecc79a",
   "metadata": {
    "tags": []
   },
   "outputs": [],
   "source": [
    "best_model1 = {\n",
    "    'best_state_dict' : None,\n",
    "    'best_epoch' : None,\n",
    "    'best_eval_loss' : None,\n",
    "    'best_eval_miou' : 0.0,\n",
    "    'best_eval_acc' : None,\n",
    "}\n",
    "\n",
    "best_model2 = {\n",
    "    'best_state_dict' : None,\n",
    "    'best_epoch' : None,\n",
    "    'best_eval_loss' : None,\n",
    "    'best_eval_miou' : 0.0,\n",
    "    'best_eval_acc' : None,\n",
    "}\n",
    "\n",
    "history = {\n",
    "    'model1':{\n",
    "        'train_loss': [],\n",
    "        'eval_loss' : [],\n",
    "        'eval_miou' : [],\n",
    "        'eval_acc' : [],\n",
    "    },\n",
    "    'model2':{\n",
    "        'train_loss': [],\n",
    "        'eval_loss' : [],\n",
    "        'eval_miou' : [],\n",
    "        'eval_acc' : [],\n",
    "    },\n",
    "}"
   ]
  },
  {
   "cell_type": "code",
   "execution_count": 30,
   "id": "a5a10022-5c83-4329-b232-58cdb4076f04",
   "metadata": {
    "tags": []
   },
   "outputs": [],
   "source": [
    "def model1_train_start():\n",
    "    model1.to(device)\n",
    "    writer = SummaryWriter('runs/unet_model1')\n",
    "    \n",
    "    for epoch in range(1, hyperparameters['epochs']+1):  \n",
    "        \n",
    "        train_loss = train_fn(\n",
    "            epoch = epoch,\n",
    "            model = model1,\n",
    "            dataloader = train_dataloader, \n",
    "            optimizer = optimizer1, \n",
    "            scheduler = scheduler1,\n",
    "            criterion = loss_fn, \n",
    "            device = device,\n",
    "            gradient_clipping = hyperparameters['gradient_clipping'],\n",
    "            summary_writer = writer,\n",
    "        )\n",
    "        \n",
    "        eval_loss, eval_miou, eval_acc = eval_fn(\n",
    "            epoch = epoch,\n",
    "            model = model1, \n",
    "            dataloader = test_dataloader, \n",
    "            criterion = loss_fn, \n",
    "            device = device,\n",
    "            color_mapping = color_mapping,\n",
    "            summary_writer = writer,\n",
    "        )\n",
    "\n",
    "        print(f\"\"\"\"\n",
    "        Epoch: {epoch}, \n",
    "        Average Train Loss: {train_loss:.4f} \n",
    "        Average Test Loss: {eval_loss:.4f} \n",
    "        Average Test mIoU: {eval_miou:.2f}\n",
    "        Average Test Accuracy: {eval_acc} %\"\"\")\n",
    "        \n",
    "        #Tensorboard summary writer, saving the epoch results\n",
    "        writer.add_scalar('Train Loss',train_loss, epoch)\n",
    "        writer.add_scalar('Eval Loss',eval_loss, epoch)\n",
    "        writer.add_scalar('Eval mIoU',eval_miou, epoch)\n",
    "        writer.add_scalar('Eval Accuracy',eval_acc, epoch)\n",
    "        \n",
    "        history['model1']['train_loss'].append(train_loss)\n",
    "        history['model1']['eval_loss'].append(eval_loss)\n",
    "        history['model1']['eval_miou'].append(eval_miou)\n",
    "        history['model1']['eval_acc'].append(eval_acc)\n",
    "        \n",
    "        save_model(\n",
    "            model=model1, \n",
    "            optimizer=optimizer1, \n",
    "            root_folder=hyperparameters['checkpoints_dir']['model1'], \n",
    "            file_name='UNet_Segmentation_checkpoint', \n",
    "            hyperparameter_dict=hyperparameters, \n",
    "            best_model=best_model1, \n",
    "            last_epoch=epoch, \n",
    "            verbose=False)\n",
    "        \n",
    "        if eval_miou > best_model1['best_eval_miou']:\n",
    "            best_model1['best_state_dict'] = model1.state_dict().copy()\n",
    "            best_model1['best_epoch'] = epoch\n",
    "            best_model1['best_eval_loss'] = eval_loss\n",
    "            best_model1['best_eval_miou'] = eval_miou\n",
    "            best_model1['best_eval_acc'] = eval_acc\n",
    "            \n",
    "            save_model(\n",
    "                model=model1, \n",
    "                optimizer=optimizer1, \n",
    "                root_folder=hyperparameters['checkpoints_dir']['model1'], \n",
    "                file_name='UNet_Segmentation_best', \n",
    "                hyperparameter_dict=hyperparameters, \n",
    "                best_model=best_model1, \n",
    "                last_epoch=epoch, \n",
    "                verbose=True)\n",
    "            \n",
    "        scheduler1.step(eval_loss)\n",
    "        \n",
    "    writer.close()"
   ]
  },
  {
   "cell_type": "code",
   "execution_count": 31,
   "id": "bd5cb3ca-0d20-439e-9bdb-2b20699ed27d",
   "metadata": {},
   "outputs": [],
   "source": [
    "def model2_train_start():\n",
    "    model2.to(device)\n",
    "    writer = SummaryWriter('runs/unet_model2')\n",
    "    \n",
    "    for epoch in range(1, hyperparameters['epochs']+1):  \n",
    "        \n",
    "        train_loss = train_fn(\n",
    "            epoch = epoch,\n",
    "            model = model2,\n",
    "            dataloader = train_dataloader, \n",
    "            optimizer = optimizer2, \n",
    "            scheduler = scheduler2,\n",
    "            criterion = total_loss, \n",
    "            device = device,\n",
    "            gradient_clipping = hyperparameters['gradient_clipping'],\n",
    "            summary_writer = writer,\n",
    "        )\n",
    "        \n",
    "        eval_loss, eval_miou, eval_acc = eval_fn(\n",
    "            epoch = epoch,\n",
    "            model = model2, \n",
    "            dataloader = test_dataloader, \n",
    "            criterion = total_loss, \n",
    "            device = device,\n",
    "            color_mapping = color_mapping,\n",
    "            summary_writer = writer,\n",
    "        )\n",
    "\n",
    "        print(f\"\"\"\"\n",
    "        Epoch: {epoch}, \n",
    "        Average Train Loss: {train_loss:.4f} \n",
    "        Average Test Loss: {eval_loss:.4f} \n",
    "        Average Test mIoU: {eval_miou:.2f}\n",
    "        Average Test Accuracy: {eval_acc} %\"\"\")\n",
    "        \n",
    "        #Tensorboard summary writer, saving the epoch results\n",
    "        writer.add_scalar('Train Loss',train_loss, epoch)\n",
    "        writer.add_scalar('Eval Loss',eval_loss, epoch)\n",
    "        writer.add_scalar('Eval mIoU',eval_miou, epoch)\n",
    "        writer.add_scalar('Eval Accuracy',eval_acc, epoch)\n",
    "        \n",
    "        history['model2']['train_loss'].append(train_loss)\n",
    "        history['model2']['eval_loss'].append(eval_loss)\n",
    "        history['model2']['eval_miou'].append(eval_miou)\n",
    "        history['model2']['eval_acc'].append(eval_acc)\n",
    "        \n",
    "        save_model(\n",
    "            model=model2, \n",
    "            optimizer=optimizer2, \n",
    "            root_folder=hyperparameters['checkpoints_dir']['model2'], \n",
    "            file_name='UNet_Segmentation_checkpoint', \n",
    "            hyperparameter_dict=hyperparameters, \n",
    "            best_model=best_model2, \n",
    "            last_epoch=epoch, \n",
    "            verbose=False)\n",
    "        \n",
    "        if eval_miou > best_model2['best_eval_miou']:\n",
    "            best_model2['best_state_dict'] = model2.state_dict().copy()\n",
    "            best_model2['best_epoch'] = epoch\n",
    "            best_model2['best_eval_loss'] = eval_loss\n",
    "            best_model2['best_eval_miou'] = eval_miou\n",
    "            best_model2['best_eval_acc'] = eval_acc\n",
    "            \n",
    "            save_model(\n",
    "                model=model2, \n",
    "                optimizer=optimizer2, \n",
    "                root_folder=hyperparameters['checkpoints_dir']['model2'], \n",
    "                file_name='UNet_Segmentation_best', \n",
    "                hyperparameter_dict=hyperparameters, \n",
    "                best_model=best_model2, \n",
    "                last_epoch=epoch, \n",
    "                verbose=True)\n",
    "            \n",
    "        scheduler2.step(eval_loss)\n",
    "        \n",
    "    writer.close()"
   ]
  },
  {
   "cell_type": "markdown",
   "id": "423a7147-80e2-42b3-82dd-33aead6fe302",
   "metadata": {},
   "source": [
    "## Model-1 (Weight Copy) Training"
   ]
  },
  {
   "cell_type": "code",
   "execution_count": 32,
   "id": "0f3a10d2-0644-4f1c-a132-1a6e45f5049c",
   "metadata": {
    "scrolled": true
   },
   "outputs": [
    {
     "name": "stderr",
     "output_type": "stream",
     "text": [
      "Train/Epoch 1/150: 100%|████████████████████████████████████████████████████████████| 104/104 [00:11<00:00,  9.19img/s]\n",
      "Eval/Epoch 1/150: 100%|███████████████████████████████████████████████████████████████| 27/27 [00:02<00:00,  9.29img/s]\n"
     ]
    },
    {
     "name": "stdout",
     "output_type": "stream",
     "text": [
      "\"\n",
      "        Epoch: 1, \n",
      "        Average Train Loss: 3.8257 \n",
      "        Average Test Loss: 4.7989 \n",
      "        Average Test mIoU: 0.28\n",
      "        Average Test Accuracy: 1.0510762929916382 %\n",
      "Checkpoint: UNet_Segmentation_best is saved successfully\n"
     ]
    },
    {
     "name": "stderr",
     "output_type": "stream",
     "text": [
      "Train/Epoch 2/150: 100%|████████████████████████████████████████████████████████████| 104/104 [00:06<00:00, 15.86img/s]\n",
      "Eval/Epoch 2/150: 100%|███████████████████████████████████████████████████████████████| 27/27 [00:03<00:00,  8.03img/s]\n"
     ]
    },
    {
     "name": "stdout",
     "output_type": "stream",
     "text": [
      "\"\n",
      "        Epoch: 2, \n",
      "        Average Train Loss: 2.7564 \n",
      "        Average Test Loss: 3.6642 \n",
      "        Average Test mIoU: 1.70\n",
      "        Average Test Accuracy: 2.9438018798828125 %\n",
      "Checkpoint: UNet_Segmentation_best is saved successfully\n"
     ]
    },
    {
     "name": "stderr",
     "output_type": "stream",
     "text": [
      "Train/Epoch 3/150: 100%|████████████████████████████████████████████████████████████| 104/104 [00:06<00:00, 16.81img/s]\n",
      "Eval/Epoch 3/150: 100%|███████████████████████████████████████████████████████████████| 27/27 [00:03<00:00,  8.39img/s]\n"
     ]
    },
    {
     "name": "stdout",
     "output_type": "stream",
     "text": [
      "\"\n",
      "        Epoch: 3, \n",
      "        Average Train Loss: 2.1729 \n",
      "        Average Test Loss: 1.9270 \n",
      "        Average Test mIoU: 8.47\n",
      "        Average Test Accuracy: 28.448867797851562 %\n",
      "Checkpoint: UNet_Segmentation_best is saved successfully\n"
     ]
    },
    {
     "name": "stderr",
     "output_type": "stream",
     "text": [
      "Train/Epoch 4/150: 100%|████████████████████████████████████████████████████████████| 104/104 [00:06<00:00, 16.35img/s]\n",
      "Eval/Epoch 4/150: 100%|███████████████████████████████████████████████████████████████| 27/27 [00:03<00:00,  8.91img/s]\n"
     ]
    },
    {
     "name": "stdout",
     "output_type": "stream",
     "text": [
      "\"\n",
      "        Epoch: 4, \n",
      "        Average Train Loss: 1.7483 \n",
      "        Average Test Loss: 1.1179 \n",
      "        Average Test mIoU: 15.94\n",
      "        Average Test Accuracy: 34.000526428222656 %\n",
      "Checkpoint: UNet_Segmentation_best is saved successfully\n"
     ]
    },
    {
     "name": "stderr",
     "output_type": "stream",
     "text": [
      "Train/Epoch 5/150: 100%|████████████████████████████████████████████████████████████| 104/104 [00:06<00:00, 17.33img/s]\n",
      "Eval/Epoch 5/150: 100%|███████████████████████████████████████████████████████████████| 27/27 [00:03<00:00,  8.59img/s]\n"
     ]
    },
    {
     "name": "stdout",
     "output_type": "stream",
     "text": [
      "\"\n",
      "        Epoch: 5, \n",
      "        Average Train Loss: 1.4691 \n",
      "        Average Test Loss: 1.0004 \n",
      "        Average Test mIoU: 15.26\n",
      "        Average Test Accuracy: 31.398900985717773 %\n"
     ]
    },
    {
     "name": "stderr",
     "output_type": "stream",
     "text": [
      "Train/Epoch 6/150: 100%|████████████████████████████████████████████████████████████| 104/104 [00:06<00:00, 17.28img/s]\n",
      "Eval/Epoch 6/150: 100%|███████████████████████████████████████████████████████████████| 27/27 [00:03<00:00,  8.89img/s]\n"
     ]
    },
    {
     "name": "stdout",
     "output_type": "stream",
     "text": [
      "\"\n",
      "        Epoch: 6, \n",
      "        Average Train Loss: 1.2428 \n",
      "        Average Test Loss: 0.8460 \n",
      "        Average Test mIoU: 18.00\n",
      "        Average Test Accuracy: 34.49007797241211 %\n",
      "Checkpoint: UNet_Segmentation_best is saved successfully\n"
     ]
    },
    {
     "name": "stderr",
     "output_type": "stream",
     "text": [
      "Train/Epoch 7/150: 100%|████████████████████████████████████████████████████████████| 104/104 [00:05<00:00, 17.67img/s]\n",
      "Eval/Epoch 7/150: 100%|███████████████████████████████████████████████████████████████| 27/27 [00:02<00:00,  9.34img/s]\n"
     ]
    },
    {
     "name": "stdout",
     "output_type": "stream",
     "text": [
      "\"\n",
      "        Epoch: 7, \n",
      "        Average Train Loss: 1.0862 \n",
      "        Average Test Loss: 0.8303 \n",
      "        Average Test mIoU: 14.32\n",
      "        Average Test Accuracy: 21.63289451599121 %\n"
     ]
    },
    {
     "name": "stderr",
     "output_type": "stream",
     "text": [
      "Train/Epoch 8/150: 100%|████████████████████████████████████████████████████████████| 104/104 [00:05<00:00, 17.67img/s]\n",
      "Eval/Epoch 8/150: 100%|███████████████████████████████████████████████████████████████| 27/27 [00:02<00:00,  9.29img/s]\n"
     ]
    },
    {
     "name": "stdout",
     "output_type": "stream",
     "text": [
      "\"\n",
      "        Epoch: 8, \n",
      "        Average Train Loss: 0.9553 \n",
      "        Average Test Loss: 0.8307 \n",
      "        Average Test mIoU: 18.63\n",
      "        Average Test Accuracy: 34.189735412597656 %\n",
      "Checkpoint: UNet_Segmentation_best is saved successfully\n"
     ]
    },
    {
     "name": "stderr",
     "output_type": "stream",
     "text": [
      "Train/Epoch 9/150: 100%|████████████████████████████████████████████████████████████| 104/104 [00:05<00:00, 17.65img/s]\n",
      "Eval/Epoch 9/150: 100%|███████████████████████████████████████████████████████████████| 27/27 [00:02<00:00,  9.14img/s]\n"
     ]
    },
    {
     "name": "stdout",
     "output_type": "stream",
     "text": [
      "\"\n",
      "        Epoch: 9, \n",
      "        Average Train Loss: 0.8524 \n",
      "        Average Test Loss: 0.7674 \n",
      "        Average Test mIoU: 15.56\n",
      "        Average Test Accuracy: 17.601776123046875 %\n"
     ]
    },
    {
     "name": "stderr",
     "output_type": "stream",
     "text": [
      "Train/Epoch 10/150: 100%|███████████████████████████████████████████████████████████| 104/104 [00:05<00:00, 18.18img/s]\n",
      "Eval/Epoch 10/150: 100%|██████████████████████████████████████████████████████████████| 27/27 [00:02<00:00,  9.19img/s]\n"
     ]
    },
    {
     "name": "stdout",
     "output_type": "stream",
     "text": [
      "\"\n",
      "        Epoch: 10, \n",
      "        Average Train Loss: 0.7655 \n",
      "        Average Test Loss: 0.6560 \n",
      "        Average Test mIoU: 15.32\n",
      "        Average Test Accuracy: 20.053482055664062 %\n"
     ]
    },
    {
     "name": "stderr",
     "output_type": "stream",
     "text": [
      "Train/Epoch 11/150: 100%|███████████████████████████████████████████████████████████| 104/104 [00:05<00:00, 17.70img/s]\n",
      "Eval/Epoch 11/150: 100%|██████████████████████████████████████████████████████████████| 27/27 [00:02<00:00,  9.19img/s]\n"
     ]
    },
    {
     "name": "stdout",
     "output_type": "stream",
     "text": [
      "\"\n",
      "        Epoch: 11, \n",
      "        Average Train Loss: 0.7157 \n",
      "        Average Test Loss: 0.5938 \n",
      "        Average Test mIoU: 21.88\n",
      "        Average Test Accuracy: 23.675792694091797 %\n",
      "Checkpoint: UNet_Segmentation_best is saved successfully\n"
     ]
    },
    {
     "name": "stderr",
     "output_type": "stream",
     "text": [
      "Train/Epoch 12/150: 100%|███████████████████████████████████████████████████████████| 104/104 [00:05<00:00, 17.60img/s]\n",
      "Eval/Epoch 12/150: 100%|██████████████████████████████████████████████████████████████| 27/27 [00:02<00:00,  9.14img/s]\n"
     ]
    },
    {
     "name": "stdout",
     "output_type": "stream",
     "text": [
      "\"\n",
      "        Epoch: 12, \n",
      "        Average Train Loss: 0.6308 \n",
      "        Average Test Loss: 0.5618 \n",
      "        Average Test mIoU: 37.15\n",
      "        Average Test Accuracy: 31.65791893005371 %\n",
      "Checkpoint: UNet_Segmentation_best is saved successfully\n"
     ]
    },
    {
     "name": "stderr",
     "output_type": "stream",
     "text": [
      "Train/Epoch 13/150: 100%|███████████████████████████████████████████████████████████| 104/104 [00:06<00:00, 17.28img/s]\n",
      "Eval/Epoch 13/150: 100%|██████████████████████████████████████████████████████████████| 27/27 [00:03<00:00,  9.00img/s]\n"
     ]
    },
    {
     "name": "stdout",
     "output_type": "stream",
     "text": [
      "\"\n",
      "        Epoch: 13, \n",
      "        Average Train Loss: 0.5777 \n",
      "        Average Test Loss: 0.6362 \n",
      "        Average Test mIoU: 26.60\n",
      "        Average Test Accuracy: 24.570083618164062 %\n"
     ]
    },
    {
     "name": "stderr",
     "output_type": "stream",
     "text": [
      "Train/Epoch 14/150: 100%|███████████████████████████████████████████████████████████| 104/104 [00:06<00:00, 17.33img/s]\n",
      "Eval/Epoch 14/150: 100%|██████████████████████████████████████████████████████████████| 27/27 [00:03<00:00,  8.64img/s]\n"
     ]
    },
    {
     "name": "stdout",
     "output_type": "stream",
     "text": [
      "\"\n",
      "        Epoch: 14, \n",
      "        Average Train Loss: 0.5322 \n",
      "        Average Test Loss: 0.3902 \n",
      "        Average Test mIoU: 37.26\n",
      "        Average Test Accuracy: 49.77824020385742 %\n",
      "Checkpoint: UNet_Segmentation_best is saved successfully\n"
     ]
    },
    {
     "name": "stderr",
     "output_type": "stream",
     "text": [
      "Train/Epoch 15/150: 100%|███████████████████████████████████████████████████████████| 104/104 [00:05<00:00, 17.65img/s]\n",
      "Eval/Epoch 15/150: 100%|██████████████████████████████████████████████████████████████| 27/27 [00:02<00:00,  9.24img/s]\n"
     ]
    },
    {
     "name": "stdout",
     "output_type": "stream",
     "text": [
      "\"\n",
      "        Epoch: 15, \n",
      "        Average Train Loss: 0.4742 \n",
      "        Average Test Loss: 0.3239 \n",
      "        Average Test mIoU: 43.25\n",
      "        Average Test Accuracy: 51.72119140625 %\n",
      "Checkpoint: UNet_Segmentation_best is saved successfully\n"
     ]
    },
    {
     "name": "stderr",
     "output_type": "stream",
     "text": [
      "Train/Epoch 16/150: 100%|███████████████████████████████████████████████████████████| 104/104 [00:05<00:00, 17.56img/s]\n",
      "Eval/Epoch 16/150: 100%|██████████████████████████████████████████████████████████████| 27/27 [00:02<00:00,  9.24img/s]\n"
     ]
    },
    {
     "name": "stdout",
     "output_type": "stream",
     "text": [
      "\"\n",
      "        Epoch: 16, \n",
      "        Average Train Loss: 0.4296 \n",
      "        Average Test Loss: 0.4185 \n",
      "        Average Test mIoU: 44.05\n",
      "        Average Test Accuracy: 54.16437911987305 %\n",
      "Checkpoint: UNet_Segmentation_best is saved successfully\n"
     ]
    },
    {
     "name": "stderr",
     "output_type": "stream",
     "text": [
      "Train/Epoch 17/150: 100%|███████████████████████████████████████████████████████████| 104/104 [00:05<00:00, 17.56img/s]\n",
      "Eval/Epoch 17/150: 100%|██████████████████████████████████████████████████████████████| 27/27 [00:02<00:00,  9.19img/s]\n"
     ]
    },
    {
     "name": "stdout",
     "output_type": "stream",
     "text": [
      "\"\n",
      "        Epoch: 17, \n",
      "        Average Train Loss: 0.3877 \n",
      "        Average Test Loss: 0.3012 \n",
      "        Average Test mIoU: 58.08\n",
      "        Average Test Accuracy: 73.10931396484375 %\n",
      "Checkpoint: UNet_Segmentation_best is saved successfully\n"
     ]
    },
    {
     "name": "stderr",
     "output_type": "stream",
     "text": [
      "Train/Epoch 18/150: 100%|███████████████████████████████████████████████████████████| 104/104 [00:05<00:00, 17.56img/s]\n",
      "Eval/Epoch 18/150: 100%|██████████████████████████████████████████████████████████████| 27/27 [00:02<00:00,  9.19img/s]\n"
     ]
    },
    {
     "name": "stdout",
     "output_type": "stream",
     "text": [
      "\"\n",
      "        Epoch: 18, \n",
      "        Average Train Loss: 0.3564 \n",
      "        Average Test Loss: 0.3294 \n",
      "        Average Test mIoU: 51.88\n",
      "        Average Test Accuracy: 61.86408996582031 %\n"
     ]
    },
    {
     "name": "stderr",
     "output_type": "stream",
     "text": [
      "Train/Epoch 19/150: 100%|███████████████████████████████████████████████████████████| 104/104 [00:05<00:00, 17.65img/s]\n",
      "Eval/Epoch 19/150: 100%|██████████████████████████████████████████████████████████████| 27/27 [00:02<00:00,  9.14img/s]\n"
     ]
    },
    {
     "name": "stdout",
     "output_type": "stream",
     "text": [
      "\"\n",
      "        Epoch: 19, \n",
      "        Average Train Loss: 0.3306 \n",
      "        Average Test Loss: 0.2891 \n",
      "        Average Test mIoU: 66.96\n",
      "        Average Test Accuracy: 85.48736572265625 %\n",
      "Checkpoint: UNet_Segmentation_best is saved successfully\n"
     ]
    },
    {
     "name": "stderr",
     "output_type": "stream",
     "text": [
      "Train/Epoch 20/150: 100%|███████████████████████████████████████████████████████████| 104/104 [00:05<00:00, 17.60img/s]\n",
      "Eval/Epoch 20/150: 100%|██████████████████████████████████████████████████████████████| 27/27 [00:02<00:00,  9.19img/s]\n"
     ]
    },
    {
     "name": "stdout",
     "output_type": "stream",
     "text": [
      "\"\n",
      "        Epoch: 20, \n",
      "        Average Train Loss: 0.2914 \n",
      "        Average Test Loss: 0.2350 \n",
      "        Average Test mIoU: 58.33\n",
      "        Average Test Accuracy: 73.7553939819336 %\n"
     ]
    },
    {
     "name": "stderr",
     "output_type": "stream",
     "text": [
      "Train/Epoch 21/150: 100%|███████████████████████████████████████████████████████████| 104/104 [00:05<00:00, 17.51img/s]\n",
      "Eval/Epoch 21/150: 100%|██████████████████████████████████████████████████████████████| 27/27 [00:02<00:00,  9.24img/s]\n"
     ]
    },
    {
     "name": "stdout",
     "output_type": "stream",
     "text": [
      "\"\n",
      "        Epoch: 21, \n",
      "        Average Train Loss: 0.2555 \n",
      "        Average Test Loss: 0.2579 \n",
      "        Average Test mIoU: 63.80\n",
      "        Average Test Accuracy: 79.9254150390625 %\n"
     ]
    },
    {
     "name": "stderr",
     "output_type": "stream",
     "text": [
      "Train/Epoch 22/150: 100%|███████████████████████████████████████████████████████████| 104/104 [00:05<00:00, 17.70img/s]\n",
      "Eval/Epoch 22/150: 100%|██████████████████████████████████████████████████████████████| 27/27 [00:02<00:00,  9.19img/s]\n"
     ]
    },
    {
     "name": "stdout",
     "output_type": "stream",
     "text": [
      "\"\n",
      "        Epoch: 22, \n",
      "        Average Train Loss: 0.2374 \n",
      "        Average Test Loss: 0.2775 \n",
      "        Average Test mIoU: 57.45\n",
      "        Average Test Accuracy: 74.444580078125 %\n"
     ]
    },
    {
     "name": "stderr",
     "output_type": "stream",
     "text": [
      "Train/Epoch 23/150: 100%|███████████████████████████████████████████████████████████| 104/104 [00:05<00:00, 17.65img/s]\n",
      "Eval/Epoch 23/150: 100%|██████████████████████████████████████████████████████████████| 27/27 [00:02<00:00,  9.19img/s]\n"
     ]
    },
    {
     "name": "stdout",
     "output_type": "stream",
     "text": [
      "\"\n",
      "        Epoch: 23, \n",
      "        Average Train Loss: 0.2168 \n",
      "        Average Test Loss: 0.1893 \n",
      "        Average Test mIoU: 70.84\n",
      "        Average Test Accuracy: 84.13569641113281 %\n",
      "Checkpoint: UNet_Segmentation_best is saved successfully\n"
     ]
    },
    {
     "name": "stderr",
     "output_type": "stream",
     "text": [
      "Train/Epoch 24/150: 100%|███████████████████████████████████████████████████████████| 104/104 [00:05<00:00, 17.70img/s]\n",
      "Eval/Epoch 24/150: 100%|██████████████████████████████████████████████████████████████| 27/27 [00:02<00:00,  9.19img/s]\n"
     ]
    },
    {
     "name": "stdout",
     "output_type": "stream",
     "text": [
      "\"\n",
      "        Epoch: 24, \n",
      "        Average Train Loss: 0.2021 \n",
      "        Average Test Loss: 0.2590 \n",
      "        Average Test mIoU: 64.80\n",
      "        Average Test Accuracy: 82.84111022949219 %\n"
     ]
    },
    {
     "name": "stderr",
     "output_type": "stream",
     "text": [
      "Train/Epoch 25/150: 100%|███████████████████████████████████████████████████████████| 104/104 [00:05<00:00, 17.74img/s]\n",
      "Eval/Epoch 25/150: 100%|██████████████████████████████████████████████████████████████| 27/27 [00:02<00:00,  9.19img/s]\n"
     ]
    },
    {
     "name": "stdout",
     "output_type": "stream",
     "text": [
      "\"\n",
      "        Epoch: 25, \n",
      "        Average Train Loss: 0.1855 \n",
      "        Average Test Loss: 0.1465 \n",
      "        Average Test mIoU: 77.07\n",
      "        Average Test Accuracy: 90.5029296875 %\n",
      "Checkpoint: UNet_Segmentation_best is saved successfully\n"
     ]
    },
    {
     "name": "stderr",
     "output_type": "stream",
     "text": [
      "Train/Epoch 26/150: 100%|███████████████████████████████████████████████████████████| 104/104 [00:05<00:00, 17.60img/s]\n",
      "Eval/Epoch 26/150: 100%|██████████████████████████████████████████████████████████████| 27/27 [00:02<00:00,  9.29img/s]\n"
     ]
    },
    {
     "name": "stdout",
     "output_type": "stream",
     "text": [
      "\"\n",
      "        Epoch: 26, \n",
      "        Average Train Loss: 0.1893 \n",
      "        Average Test Loss: 0.1781 \n",
      "        Average Test mIoU: 74.45\n",
      "        Average Test Accuracy: 87.39776611328125 %\n"
     ]
    },
    {
     "name": "stderr",
     "output_type": "stream",
     "text": [
      "Train/Epoch 27/150: 100%|███████████████████████████████████████████████████████████| 104/104 [00:05<00:00, 17.65img/s]\n",
      "Eval/Epoch 27/150: 100%|██████████████████████████████████████████████████████████████| 27/27 [00:02<00:00,  9.19img/s]\n"
     ]
    },
    {
     "name": "stdout",
     "output_type": "stream",
     "text": [
      "\"\n",
      "        Epoch: 27, \n",
      "        Average Train Loss: 0.1704 \n",
      "        Average Test Loss: 0.2334 \n",
      "        Average Test mIoU: 62.38\n",
      "        Average Test Accuracy: 73.68787384033203 %\n"
     ]
    },
    {
     "name": "stderr",
     "output_type": "stream",
     "text": [
      "Train/Epoch 28/150: 100%|███████████████████████████████████████████████████████████| 104/104 [00:05<00:00, 17.60img/s]\n",
      "Eval/Epoch 28/150: 100%|██████████████████████████████████████████████████████████████| 27/27 [00:02<00:00,  9.19img/s]\n"
     ]
    },
    {
     "name": "stdout",
     "output_type": "stream",
     "text": [
      "\"\n",
      "        Epoch: 28, \n",
      "        Average Train Loss: 0.1586 \n",
      "        Average Test Loss: 0.2318 \n",
      "        Average Test mIoU: 72.14\n",
      "        Average Test Accuracy: 88.21665954589844 %\n"
     ]
    },
    {
     "name": "stderr",
     "output_type": "stream",
     "text": [
      "Train/Epoch 29/150: 100%|███████████████████████████████████████████████████████████| 104/104 [00:05<00:00, 17.65img/s]\n",
      "Eval/Epoch 29/150: 100%|██████████████████████████████████████████████████████████████| 27/27 [00:02<00:00,  9.24img/s]\n"
     ]
    },
    {
     "name": "stdout",
     "output_type": "stream",
     "text": [
      "\"\n",
      "        Epoch: 29, \n",
      "        Average Train Loss: 0.1560 \n",
      "        Average Test Loss: 0.1601 \n",
      "        Average Test mIoU: 74.75\n",
      "        Average Test Accuracy: 89.67997741699219 %\n"
     ]
    },
    {
     "name": "stderr",
     "output_type": "stream",
     "text": [
      "Train/Epoch 30/150: 100%|███████████████████████████████████████████████████████████| 104/104 [00:05<00:00, 17.60img/s]\n",
      "Eval/Epoch 30/150: 100%|██████████████████████████████████████████████████████████████| 27/27 [00:02<00:00,  9.29img/s]\n"
     ]
    },
    {
     "name": "stdout",
     "output_type": "stream",
     "text": [
      "\"\n",
      "        Epoch: 30, \n",
      "        Average Train Loss: 0.1433 \n",
      "        Average Test Loss: 0.1644 \n",
      "        Average Test mIoU: 76.08\n",
      "        Average Test Accuracy: 91.73711395263672 %\n"
     ]
    },
    {
     "name": "stderr",
     "output_type": "stream",
     "text": [
      "Train/Epoch 31/150: 100%|███████████████████████████████████████████████████████████| 104/104 [00:05<00:00, 17.51img/s]\n",
      "Eval/Epoch 31/150: 100%|██████████████████████████████████████████████████████████████| 27/27 [00:02<00:00,  9.19img/s]\n"
     ]
    },
    {
     "name": "stdout",
     "output_type": "stream",
     "text": [
      "\"\n",
      "        Epoch: 31, \n",
      "        Average Train Loss: 0.1489 \n",
      "        Average Test Loss: 0.1392 \n",
      "        Average Test mIoU: 75.94\n",
      "        Average Test Accuracy: 88.58566284179688 %\n"
     ]
    },
    {
     "name": "stderr",
     "output_type": "stream",
     "text": [
      "Train/Epoch 32/150: 100%|███████████████████████████████████████████████████████████| 104/104 [00:05<00:00, 17.60img/s]\n",
      "Eval/Epoch 32/150: 100%|██████████████████████████████████████████████████████████████| 27/27 [00:02<00:00,  9.29img/s]\n"
     ]
    },
    {
     "name": "stdout",
     "output_type": "stream",
     "text": [
      "\"\n",
      "        Epoch: 32, \n",
      "        Average Train Loss: 0.1462 \n",
      "        Average Test Loss: 0.1250 \n",
      "        Average Test mIoU: 79.59\n",
      "        Average Test Accuracy: 92.90860748291016 %\n",
      "Checkpoint: UNet_Segmentation_best is saved successfully\n"
     ]
    },
    {
     "name": "stderr",
     "output_type": "stream",
     "text": [
      "Train/Epoch 33/150: 100%|███████████████████████████████████████████████████████████| 104/104 [00:05<00:00, 17.51img/s]\n",
      "Eval/Epoch 33/150: 100%|██████████████████████████████████████████████████████████████| 27/27 [00:02<00:00,  9.29img/s]\n"
     ]
    },
    {
     "name": "stdout",
     "output_type": "stream",
     "text": [
      "\"\n",
      "        Epoch: 33, \n",
      "        Average Train Loss: 0.1396 \n",
      "        Average Test Loss: 0.1300 \n",
      "        Average Test mIoU: 78.66\n",
      "        Average Test Accuracy: 91.69451904296875 %\n"
     ]
    },
    {
     "name": "stderr",
     "output_type": "stream",
     "text": [
      "Train/Epoch 34/150: 100%|███████████████████████████████████████████████████████████| 104/104 [00:05<00:00, 17.70img/s]\n",
      "Eval/Epoch 34/150: 100%|██████████████████████████████████████████████████████████████| 27/27 [00:02<00:00,  9.19img/s]\n"
     ]
    },
    {
     "name": "stdout",
     "output_type": "stream",
     "text": [
      "\"\n",
      "        Epoch: 34, \n",
      "        Average Train Loss: 0.1354 \n",
      "        Average Test Loss: 0.1157 \n",
      "        Average Test mIoU: 78.28\n",
      "        Average Test Accuracy: 90.85223388671875 %\n"
     ]
    },
    {
     "name": "stderr",
     "output_type": "stream",
     "text": [
      "Train/Epoch 35/150: 100%|███████████████████████████████████████████████████████████| 104/104 [00:05<00:00, 17.65img/s]\n",
      "Eval/Epoch 35/150: 100%|██████████████████████████████████████████████████████████████| 27/27 [00:02<00:00,  9.24img/s]\n"
     ]
    },
    {
     "name": "stdout",
     "output_type": "stream",
     "text": [
      "\"\n",
      "        Epoch: 35, \n",
      "        Average Train Loss: 0.1347 \n",
      "        Average Test Loss: 0.1214 \n",
      "        Average Test mIoU: 79.31\n",
      "        Average Test Accuracy: 91.71308135986328 %\n"
     ]
    },
    {
     "name": "stderr",
     "output_type": "stream",
     "text": [
      "Train/Epoch 36/150: 100%|███████████████████████████████████████████████████████████| 104/104 [00:05<00:00, 17.64img/s]\n",
      "Eval/Epoch 36/150: 100%|██████████████████████████████████████████████████████████████| 27/27 [00:02<00:00,  9.29img/s]\n"
     ]
    },
    {
     "name": "stdout",
     "output_type": "stream",
     "text": [
      "\"\n",
      "        Epoch: 36, \n",
      "        Average Train Loss: 0.1303 \n",
      "        Average Test Loss: 0.1073 \n",
      "        Average Test mIoU: 80.92\n",
      "        Average Test Accuracy: 93.15032958984375 %\n",
      "Checkpoint: UNet_Segmentation_best is saved successfully\n"
     ]
    },
    {
     "name": "stderr",
     "output_type": "stream",
     "text": [
      "Train/Epoch 37/150: 100%|███████████████████████████████████████████████████████████| 104/104 [00:05<00:00, 17.70img/s]\n",
      "Eval/Epoch 37/150: 100%|██████████████████████████████████████████████████████████████| 27/27 [00:02<00:00,  9.24img/s]\n"
     ]
    },
    {
     "name": "stdout",
     "output_type": "stream",
     "text": [
      "\"\n",
      "        Epoch: 37, \n",
      "        Average Train Loss: 0.1123 \n",
      "        Average Test Loss: 0.1265 \n",
      "        Average Test mIoU: 78.98\n",
      "        Average Test Accuracy: 91.76788330078125 %\n"
     ]
    },
    {
     "name": "stderr",
     "output_type": "stream",
     "text": [
      "Train/Epoch 38/150: 100%|███████████████████████████████████████████████████████████| 104/104 [00:05<00:00, 17.60img/s]\n",
      "Eval/Epoch 38/150: 100%|██████████████████████████████████████████████████████████████| 27/27 [00:02<00:00,  9.23img/s]\n"
     ]
    },
    {
     "name": "stdout",
     "output_type": "stream",
     "text": [
      "\"\n",
      "        Epoch: 38, \n",
      "        Average Train Loss: 0.1135 \n",
      "        Average Test Loss: 0.0959 \n",
      "        Average Test mIoU: 82.28\n",
      "        Average Test Accuracy: 92.33525848388672 %\n",
      "Checkpoint: UNet_Segmentation_best is saved successfully\n"
     ]
    },
    {
     "name": "stderr",
     "output_type": "stream",
     "text": [
      "Train/Epoch 39/150: 100%|███████████████████████████████████████████████████████████| 104/104 [00:05<00:00, 17.55img/s]\n",
      "Eval/Epoch 39/150: 100%|██████████████████████████████████████████████████████████████| 27/27 [00:02<00:00,  9.19img/s]\n"
     ]
    },
    {
     "name": "stdout",
     "output_type": "stream",
     "text": [
      "\"\n",
      "        Epoch: 39, \n",
      "        Average Train Loss: 0.1157 \n",
      "        Average Test Loss: 0.1215 \n",
      "        Average Test mIoU: 80.99\n",
      "        Average Test Accuracy: 93.40896606445312 %\n"
     ]
    },
    {
     "name": "stderr",
     "output_type": "stream",
     "text": [
      "Train/Epoch 40/150: 100%|███████████████████████████████████████████████████████████| 104/104 [00:05<00:00, 17.65img/s]\n",
      "Eval/Epoch 40/150: 100%|██████████████████████████████████████████████████████████████| 27/27 [00:02<00:00,  9.24img/s]\n"
     ]
    },
    {
     "name": "stdout",
     "output_type": "stream",
     "text": [
      "\"\n",
      "        Epoch: 40, \n",
      "        Average Train Loss: 0.1319 \n",
      "        Average Test Loss: 0.0932 \n",
      "        Average Test mIoU: 82.84\n",
      "        Average Test Accuracy: 94.43283081054688 %\n",
      "Checkpoint: UNet_Segmentation_best is saved successfully\n"
     ]
    },
    {
     "name": "stderr",
     "output_type": "stream",
     "text": [
      "Train/Epoch 41/150: 100%|███████████████████████████████████████████████████████████| 104/104 [00:05<00:00, 17.60img/s]\n",
      "Eval/Epoch 41/150: 100%|██████████████████████████████████████████████████████████████| 27/27 [00:02<00:00,  9.19img/s]\n"
     ]
    },
    {
     "name": "stdout",
     "output_type": "stream",
     "text": [
      "\"\n",
      "        Epoch: 41, \n",
      "        Average Train Loss: 0.1143 \n",
      "        Average Test Loss: 0.0957 \n",
      "        Average Test mIoU: 82.75\n",
      "        Average Test Accuracy: 94.20802307128906 %\n"
     ]
    },
    {
     "name": "stderr",
     "output_type": "stream",
     "text": [
      "Train/Epoch 42/150: 100%|███████████████████████████████████████████████████████████| 104/104 [00:05<00:00, 17.56img/s]\n",
      "Eval/Epoch 42/150: 100%|██████████████████████████████████████████████████████████████| 27/27 [00:02<00:00,  9.29img/s]\n"
     ]
    },
    {
     "name": "stdout",
     "output_type": "stream",
     "text": [
      "\"\n",
      "        Epoch: 42, \n",
      "        Average Train Loss: 0.0999 \n",
      "        Average Test Loss: 0.0874 \n",
      "        Average Test mIoU: 83.26\n",
      "        Average Test Accuracy: 95.09900665283203 %\n",
      "Checkpoint: UNet_Segmentation_best is saved successfully\n"
     ]
    },
    {
     "name": "stderr",
     "output_type": "stream",
     "text": [
      "Train/Epoch 43/150: 100%|███████████████████████████████████████████████████████████| 104/104 [00:05<00:00, 17.56img/s]\n",
      "Eval/Epoch 43/150: 100%|██████████████████████████████████████████████████████████████| 27/27 [00:02<00:00,  9.39img/s]\n"
     ]
    },
    {
     "name": "stdout",
     "output_type": "stream",
     "text": [
      "\"\n",
      "        Epoch: 43, \n",
      "        Average Train Loss: 0.1101 \n",
      "        Average Test Loss: 0.1117 \n",
      "        Average Test mIoU: 80.66\n",
      "        Average Test Accuracy: 94.21755981445312 %\n"
     ]
    },
    {
     "name": "stderr",
     "output_type": "stream",
     "text": [
      "Train/Epoch 44/150: 100%|███████████████████████████████████████████████████████████| 104/104 [00:07<00:00, 13.36img/s]\n",
      "Eval/Epoch 44/150: 100%|██████████████████████████████████████████████████████████████| 27/27 [00:04<00:00,  6.52img/s]\n"
     ]
    },
    {
     "name": "stdout",
     "output_type": "stream",
     "text": [
      "\"\n",
      "        Epoch: 44, \n",
      "        Average Train Loss: 0.1046 \n",
      "        Average Test Loss: 0.0973 \n",
      "        Average Test mIoU: 81.36\n",
      "        Average Test Accuracy: 94.39189147949219 %\n"
     ]
    },
    {
     "name": "stderr",
     "output_type": "stream",
     "text": [
      "Train/Epoch 45/150: 100%|███████████████████████████████████████████████████████████| 104/104 [00:06<00:00, 17.11img/s]\n",
      "Eval/Epoch 45/150: 100%|██████████████████████████████████████████████████████████████| 27/27 [00:02<00:00,  9.34img/s]\n"
     ]
    },
    {
     "name": "stdout",
     "output_type": "stream",
     "text": [
      "\"\n",
      "        Epoch: 45, \n",
      "        Average Train Loss: 0.1019 \n",
      "        Average Test Loss: 0.0939 \n",
      "        Average Test mIoU: 81.73\n",
      "        Average Test Accuracy: 92.70223236083984 %\n"
     ]
    },
    {
     "name": "stderr",
     "output_type": "stream",
     "text": [
      "Train/Epoch 46/150: 100%|███████████████████████████████████████████████████████████| 104/104 [00:06<00:00, 17.29img/s]\n",
      "Eval/Epoch 46/150: 100%|██████████████████████████████████████████████████████████████| 27/27 [00:02<00:00,  9.49img/s]\n"
     ]
    },
    {
     "name": "stdout",
     "output_type": "stream",
     "text": [
      "\"\n",
      "        Epoch: 46, \n",
      "        Average Train Loss: 0.0977 \n",
      "        Average Test Loss: 0.0853 \n",
      "        Average Test mIoU: 84.45\n",
      "        Average Test Accuracy: 94.67938995361328 %\n",
      "Checkpoint: UNet_Segmentation_best is saved successfully\n"
     ]
    },
    {
     "name": "stderr",
     "output_type": "stream",
     "text": [
      "Train/Epoch 47/150: 100%|███████████████████████████████████████████████████████████| 104/104 [00:05<00:00, 17.37img/s]\n",
      "Eval/Epoch 47/150: 100%|██████████████████████████████████████████████████████████████| 27/27 [00:02<00:00,  9.39img/s]\n"
     ]
    },
    {
     "name": "stdout",
     "output_type": "stream",
     "text": [
      "\"\n",
      "        Epoch: 47, \n",
      "        Average Train Loss: 0.1024 \n",
      "        Average Test Loss: 0.0823 \n",
      "        Average Test mIoU: 84.39\n",
      "        Average Test Accuracy: 94.53773498535156 %\n"
     ]
    },
    {
     "name": "stderr",
     "output_type": "stream",
     "text": [
      "Train/Epoch 48/150: 100%|███████████████████████████████████████████████████████████| 104/104 [00:05<00:00, 17.47img/s]\n",
      "Eval/Epoch 48/150: 100%|██████████████████████████████████████████████████████████████| 27/27 [00:02<00:00,  9.44img/s]\n"
     ]
    },
    {
     "name": "stdout",
     "output_type": "stream",
     "text": [
      "\"\n",
      "        Epoch: 48, \n",
      "        Average Train Loss: 0.1003 \n",
      "        Average Test Loss: 0.0945 \n",
      "        Average Test mIoU: 84.25\n",
      "        Average Test Accuracy: 95.36705017089844 %\n"
     ]
    },
    {
     "name": "stderr",
     "output_type": "stream",
     "text": [
      "Train/Epoch 49/150: 100%|███████████████████████████████████████████████████████████| 104/104 [00:05<00:00, 17.60img/s]\n",
      "Eval/Epoch 49/150: 100%|██████████████████████████████████████████████████████████████| 27/27 [00:02<00:00,  9.29img/s]\n"
     ]
    },
    {
     "name": "stdout",
     "output_type": "stream",
     "text": [
      "\"\n",
      "        Epoch: 49, \n",
      "        Average Train Loss: 0.1054 \n",
      "        Average Test Loss: 0.1095 \n",
      "        Average Test mIoU: 80.10\n",
      "        Average Test Accuracy: 92.8131103515625 %\n"
     ]
    },
    {
     "name": "stderr",
     "output_type": "stream",
     "text": [
      "Train/Epoch 50/150: 100%|███████████████████████████████████████████████████████████| 104/104 [00:05<00:00, 17.56img/s]\n",
      "Eval/Epoch 50/150: 100%|██████████████████████████████████████████████████████████████| 27/27 [00:02<00:00,  9.19img/s]\n"
     ]
    },
    {
     "name": "stdout",
     "output_type": "stream",
     "text": [
      "\"\n",
      "        Epoch: 50, \n",
      "        Average Train Loss: 0.1132 \n",
      "        Average Test Loss: 0.0976 \n",
      "        Average Test mIoU: 81.94\n",
      "        Average Test Accuracy: 93.95841217041016 %\n"
     ]
    },
    {
     "name": "stderr",
     "output_type": "stream",
     "text": [
      "Train/Epoch 51/150: 100%|███████████████████████████████████████████████████████████| 104/104 [00:05<00:00, 17.60img/s]\n",
      "Eval/Epoch 51/150: 100%|██████████████████████████████████████████████████████████████| 27/27 [00:02<00:00,  9.29img/s]\n"
     ]
    },
    {
     "name": "stdout",
     "output_type": "stream",
     "text": [
      "\"\n",
      "        Epoch: 51, \n",
      "        Average Train Loss: 0.1073 \n",
      "        Average Test Loss: 0.0902 \n",
      "        Average Test mIoU: 83.91\n",
      "        Average Test Accuracy: 95.32534790039062 %\n"
     ]
    },
    {
     "name": "stderr",
     "output_type": "stream",
     "text": [
      "Train/Epoch 52/150: 100%|███████████████████████████████████████████████████████████| 104/104 [00:05<00:00, 17.69img/s]\n",
      "Eval/Epoch 52/150: 100%|██████████████████████████████████████████████████████████████| 27/27 [00:02<00:00,  9.24img/s]\n"
     ]
    },
    {
     "name": "stdout",
     "output_type": "stream",
     "text": [
      "\"\n",
      "        Epoch: 52, \n",
      "        Average Train Loss: 0.1007 \n",
      "        Average Test Loss: 0.0920 \n",
      "        Average Test mIoU: 83.19\n",
      "        Average Test Accuracy: 94.65243530273438 %\n"
     ]
    },
    {
     "name": "stderr",
     "output_type": "stream",
     "text": [
      "Train/Epoch 53/150: 100%|███████████████████████████████████████████████████████████| 104/104 [00:05<00:00, 17.69img/s]\n",
      "Eval/Epoch 53/150: 100%|██████████████████████████████████████████████████████████████| 27/27 [00:02<00:00,  9.34img/s]\n"
     ]
    },
    {
     "name": "stdout",
     "output_type": "stream",
     "text": [
      "\"\n",
      "        Epoch: 53, \n",
      "        Average Train Loss: 0.1046 \n",
      "        Average Test Loss: 0.1062 \n",
      "        Average Test mIoU: 81.04\n",
      "        Average Test Accuracy: 92.59809112548828 %\n"
     ]
    },
    {
     "name": "stderr",
     "output_type": "stream",
     "text": [
      "Train/Epoch 54/150: 100%|███████████████████████████████████████████████████████████| 104/104 [00:05<00:00, 17.60img/s]\n",
      "Eval/Epoch 54/150: 100%|██████████████████████████████████████████████████████████████| 27/27 [00:02<00:00,  9.29img/s]\n"
     ]
    },
    {
     "name": "stdout",
     "output_type": "stream",
     "text": [
      "\"\n",
      "        Epoch: 54, \n",
      "        Average Train Loss: 0.0933 \n",
      "        Average Test Loss: 0.0897 \n",
      "        Average Test mIoU: 83.67\n",
      "        Average Test Accuracy: 94.65116119384766 %\n"
     ]
    },
    {
     "name": "stderr",
     "output_type": "stream",
     "text": [
      "Train/Epoch 55/150: 100%|███████████████████████████████████████████████████████████| 104/104 [00:05<00:00, 17.60img/s]\n",
      "Eval/Epoch 55/150: 100%|██████████████████████████████████████████████████████████████| 27/27 [00:02<00:00,  9.24img/s]\n"
     ]
    },
    {
     "name": "stdout",
     "output_type": "stream",
     "text": [
      "\"\n",
      "        Epoch: 55, \n",
      "        Average Train Loss: 0.0877 \n",
      "        Average Test Loss: 0.0854 \n",
      "        Average Test mIoU: 84.68\n",
      "        Average Test Accuracy: 94.39824676513672 %\n",
      "Checkpoint: UNet_Segmentation_best is saved successfully\n"
     ]
    },
    {
     "name": "stderr",
     "output_type": "stream",
     "text": [
      "Train/Epoch 56/150: 100%|███████████████████████████████████████████████████████████| 104/104 [00:05<00:00, 17.60img/s]\n",
      "Eval/Epoch 56/150: 100%|██████████████████████████████████████████████████████████████| 27/27 [00:02<00:00,  9.19img/s]\n"
     ]
    },
    {
     "name": "stdout",
     "output_type": "stream",
     "text": [
      "\"\n",
      "        Epoch: 56, \n",
      "        Average Train Loss: 0.0912 \n",
      "        Average Test Loss: 0.0790 \n",
      "        Average Test mIoU: 85.82\n",
      "        Average Test Accuracy: 96.17106628417969 %\n",
      "Checkpoint: UNet_Segmentation_best is saved successfully\n"
     ]
    },
    {
     "name": "stderr",
     "output_type": "stream",
     "text": [
      "Train/Epoch 57/150: 100%|███████████████████████████████████████████████████████████| 104/104 [00:05<00:00, 17.65img/s]\n",
      "Eval/Epoch 57/150: 100%|██████████████████████████████████████████████████████████████| 27/27 [00:02<00:00,  9.29img/s]\n"
     ]
    },
    {
     "name": "stdout",
     "output_type": "stream",
     "text": [
      "\"\n",
      "        Epoch: 57, \n",
      "        Average Train Loss: 0.0932 \n",
      "        Average Test Loss: 0.0877 \n",
      "        Average Test mIoU: 83.13\n",
      "        Average Test Accuracy: 92.94802856445312 %\n"
     ]
    },
    {
     "name": "stderr",
     "output_type": "stream",
     "text": [
      "Train/Epoch 58/150: 100%|███████████████████████████████████████████████████████████| 104/104 [00:05<00:00, 17.65img/s]\n",
      "Eval/Epoch 58/150: 100%|██████████████████████████████████████████████████████████████| 27/27 [00:02<00:00,  9.19img/s]\n"
     ]
    },
    {
     "name": "stdout",
     "output_type": "stream",
     "text": [
      "\"\n",
      "        Epoch: 58, \n",
      "        Average Train Loss: 0.0966 \n",
      "        Average Test Loss: 0.3415 \n",
      "        Average Test mIoU: 65.51\n",
      "        Average Test Accuracy: 78.45370483398438 %\n"
     ]
    },
    {
     "name": "stderr",
     "output_type": "stream",
     "text": [
      "Train/Epoch 59/150: 100%|███████████████████████████████████████████████████████████| 104/104 [00:05<00:00, 17.60img/s]\n",
      "Eval/Epoch 59/150: 100%|██████████████████████████████████████████████████████████████| 27/27 [00:02<00:00,  9.29img/s]\n"
     ]
    },
    {
     "name": "stdout",
     "output_type": "stream",
     "text": [
      "\"\n",
      "        Epoch: 59, \n",
      "        Average Train Loss: 0.1036 \n",
      "        Average Test Loss: 0.0866 \n",
      "        Average Test mIoU: 84.51\n",
      "        Average Test Accuracy: 94.87800598144531 %\n"
     ]
    },
    {
     "name": "stderr",
     "output_type": "stream",
     "text": [
      "Train/Epoch 60/150: 100%|███████████████████████████████████████████████████████████| 104/104 [00:05<00:00, 17.60img/s]\n",
      "Eval/Epoch 60/150: 100%|██████████████████████████████████████████████████████████████| 27/27 [00:02<00:00,  9.29img/s]\n"
     ]
    },
    {
     "name": "stdout",
     "output_type": "stream",
     "text": [
      "\"\n",
      "        Epoch: 60, \n",
      "        Average Train Loss: 0.0908 \n",
      "        Average Test Loss: 0.0944 \n",
      "        Average Test mIoU: 83.20\n",
      "        Average Test Accuracy: 93.28321075439453 %\n"
     ]
    },
    {
     "name": "stderr",
     "output_type": "stream",
     "text": [
      "Train/Epoch 61/150: 100%|███████████████████████████████████████████████████████████| 104/104 [00:05<00:00, 17.65img/s]\n",
      "Eval/Epoch 61/150: 100%|██████████████████████████████████████████████████████████████| 27/27 [00:02<00:00,  9.24img/s]\n"
     ]
    },
    {
     "name": "stdout",
     "output_type": "stream",
     "text": [
      "\"\n",
      "        Epoch: 61, \n",
      "        Average Train Loss: 0.0958 \n",
      "        Average Test Loss: 0.7762 \n",
      "        Average Test mIoU: 53.06\n",
      "        Average Test Accuracy: 68.6730728149414 %\n"
     ]
    },
    {
     "name": "stderr",
     "output_type": "stream",
     "text": [
      "Train/Epoch 62/150: 100%|███████████████████████████████████████████████████████████| 104/104 [00:05<00:00, 17.60img/s]\n",
      "Eval/Epoch 62/150: 100%|██████████████████████████████████████████████████████████████| 27/27 [00:02<00:00,  9.29img/s]\n"
     ]
    },
    {
     "name": "stdout",
     "output_type": "stream",
     "text": [
      "\"\n",
      "        Epoch: 62, \n",
      "        Average Train Loss: 0.0998 \n",
      "        Average Test Loss: 0.0993 \n",
      "        Average Test mIoU: 84.51\n",
      "        Average Test Accuracy: 95.00617980957031 %\n"
     ]
    },
    {
     "name": "stderr",
     "output_type": "stream",
     "text": [
      "Train/Epoch 63/150: 100%|███████████████████████████████████████████████████████████| 104/104 [00:05<00:00, 17.70img/s]\n",
      "Eval/Epoch 63/150: 100%|██████████████████████████████████████████████████████████████| 27/27 [00:02<00:00,  9.14img/s]\n"
     ]
    },
    {
     "name": "stdout",
     "output_type": "stream",
     "text": [
      "\"\n",
      "        Epoch: 63, \n",
      "        Average Train Loss: 0.0951 \n",
      "        Average Test Loss: 0.0829 \n",
      "        Average Test mIoU: 84.61\n",
      "        Average Test Accuracy: 95.40252685546875 %\n"
     ]
    },
    {
     "name": "stderr",
     "output_type": "stream",
     "text": [
      "Train/Epoch 64/150: 100%|███████████████████████████████████████████████████████████| 104/104 [00:05<00:00, 17.65img/s]\n",
      "Eval/Epoch 64/150: 100%|██████████████████████████████████████████████████████████████| 27/27 [00:02<00:00,  9.24img/s]\n"
     ]
    },
    {
     "name": "stdout",
     "output_type": "stream",
     "text": [
      "\"\n",
      "        Epoch: 64, \n",
      "        Average Train Loss: 0.0903 \n",
      "        Average Test Loss: 0.0831 \n",
      "        Average Test mIoU: 85.33\n",
      "        Average Test Accuracy: 95.37086486816406 %\n"
     ]
    },
    {
     "name": "stderr",
     "output_type": "stream",
     "text": [
      "Train/Epoch 65/150: 100%|███████████████████████████████████████████████████████████| 104/104 [00:05<00:00, 17.65img/s]\n",
      "Eval/Epoch 65/150: 100%|██████████████████████████████████████████████████████████████| 27/27 [00:02<00:00,  9.24img/s]\n"
     ]
    },
    {
     "name": "stdout",
     "output_type": "stream",
     "text": [
      "\"\n",
      "        Epoch: 65, \n",
      "        Average Train Loss: 0.0946 \n",
      "        Average Test Loss: 0.1324 \n",
      "        Average Test mIoU: 77.36\n",
      "        Average Test Accuracy: 88.39874267578125 %\n"
     ]
    },
    {
     "name": "stderr",
     "output_type": "stream",
     "text": [
      "Train/Epoch 66/150: 100%|███████████████████████████████████████████████████████████| 104/104 [00:05<00:00, 17.56img/s]\n",
      "Eval/Epoch 66/150: 100%|██████████████████████████████████████████████████████████████| 27/27 [00:02<00:00,  9.19img/s]\n"
     ]
    },
    {
     "name": "stdout",
     "output_type": "stream",
     "text": [
      "\"\n",
      "        Epoch: 66, \n",
      "        Average Train Loss: 0.0878 \n",
      "        Average Test Loss: 0.0937 \n",
      "        Average Test mIoU: 83.68\n",
      "        Average Test Accuracy: 94.91157531738281 %\n"
     ]
    },
    {
     "name": "stderr",
     "output_type": "stream",
     "text": [
      "Train/Epoch 67/150: 100%|███████████████████████████████████████████████████████████| 104/104 [00:05<00:00, 17.65img/s]\n",
      "Eval/Epoch 67/150: 100%|██████████████████████████████████████████████████████████████| 27/27 [00:02<00:00,  9.34img/s]\n"
     ]
    },
    {
     "name": "stdout",
     "output_type": "stream",
     "text": [
      "\"\n",
      "        Epoch: 67, \n",
      "        Average Train Loss: 0.0864 \n",
      "        Average Test Loss: 0.1324 \n",
      "        Average Test mIoU: 76.42\n",
      "        Average Test Accuracy: 89.49445343017578 %\n"
     ]
    },
    {
     "name": "stderr",
     "output_type": "stream",
     "text": [
      "Train/Epoch 68/150: 100%|███████████████████████████████████████████████████████████| 104/104 [00:05<00:00, 17.60img/s]\n",
      "Eval/Epoch 68/150: 100%|██████████████████████████████████████████████████████████████| 27/27 [00:02<00:00,  9.24img/s]\n"
     ]
    },
    {
     "name": "stdout",
     "output_type": "stream",
     "text": [
      "\"\n",
      "        Epoch: 68, \n",
      "        Average Train Loss: 0.0867 \n",
      "        Average Test Loss: 0.0893 \n",
      "        Average Test mIoU: 84.21\n",
      "        Average Test Accuracy: 95.0494155883789 %\n"
     ]
    },
    {
     "name": "stderr",
     "output_type": "stream",
     "text": [
      "Train/Epoch 69/150: 100%|███████████████████████████████████████████████████████████| 104/104 [00:05<00:00, 17.65img/s]\n",
      "Eval/Epoch 69/150: 100%|██████████████████████████████████████████████████████████████| 27/27 [00:02<00:00,  9.18img/s]\n"
     ]
    },
    {
     "name": "stdout",
     "output_type": "stream",
     "text": [
      "\"\n",
      "        Epoch: 69, \n",
      "        Average Train Loss: 0.0850 \n",
      "        Average Test Loss: 0.0787 \n",
      "        Average Test mIoU: 86.22\n",
      "        Average Test Accuracy: 96.70499420166016 %\n",
      "Checkpoint: UNet_Segmentation_best is saved successfully\n"
     ]
    },
    {
     "name": "stderr",
     "output_type": "stream",
     "text": [
      "Train/Epoch 70/150: 100%|███████████████████████████████████████████████████████████| 104/104 [00:05<00:00, 17.56img/s]\n",
      "Eval/Epoch 70/150: 100%|██████████████████████████████████████████████████████████████| 27/27 [00:02<00:00,  9.14img/s]\n"
     ]
    },
    {
     "name": "stdout",
     "output_type": "stream",
     "text": [
      "\"\n",
      "        Epoch: 70, \n",
      "        Average Train Loss: 0.0867 \n",
      "        Average Test Loss: 0.0770 \n",
      "        Average Test mIoU: 86.17\n",
      "        Average Test Accuracy: 96.1151123046875 %\n"
     ]
    },
    {
     "name": "stderr",
     "output_type": "stream",
     "text": [
      "Train/Epoch 71/150: 100%|███████████████████████████████████████████████████████████| 104/104 [00:06<00:00, 17.28img/s]\n",
      "Eval/Epoch 71/150: 100%|██████████████████████████████████████████████████████████████| 27/27 [00:02<00:00,  9.19img/s]\n"
     ]
    },
    {
     "name": "stdout",
     "output_type": "stream",
     "text": [
      "\"\n",
      "        Epoch: 71, \n",
      "        Average Train Loss: 0.0804 \n",
      "        Average Test Loss: 0.1042 \n",
      "        Average Test mIoU: 83.20\n",
      "        Average Test Accuracy: 93.29910278320312 %\n"
     ]
    },
    {
     "name": "stderr",
     "output_type": "stream",
     "text": [
      "Train/Epoch 72/150: 100%|███████████████████████████████████████████████████████████| 104/104 [00:06<00:00, 17.33img/s]\n",
      "Eval/Epoch 72/150: 100%|██████████████████████████████████████████████████████████████| 27/27 [00:02<00:00,  9.19img/s]\n"
     ]
    },
    {
     "name": "stdout",
     "output_type": "stream",
     "text": [
      "\"\n",
      "        Epoch: 72, \n",
      "        Average Train Loss: 0.0919 \n",
      "        Average Test Loss: 0.0720 \n",
      "        Average Test mIoU: 86.45\n",
      "        Average Test Accuracy: 96.17042541503906 %\n",
      "Checkpoint: UNet_Segmentation_best is saved successfully\n"
     ]
    },
    {
     "name": "stderr",
     "output_type": "stream",
     "text": [
      "Train/Epoch 73/150: 100%|███████████████████████████████████████████████████████████| 104/104 [00:05<00:00, 17.79img/s]\n",
      "Eval/Epoch 73/150: 100%|██████████████████████████████████████████████████████████████| 27/27 [00:02<00:00,  9.24img/s]\n"
     ]
    },
    {
     "name": "stdout",
     "output_type": "stream",
     "text": [
      "\"\n",
      "        Epoch: 73, \n",
      "        Average Train Loss: 0.0947 \n",
      "        Average Test Loss: 0.7524 \n",
      "        Average Test mIoU: 52.50\n",
      "        Average Test Accuracy: 67.08323669433594 %\n"
     ]
    },
    {
     "name": "stderr",
     "output_type": "stream",
     "text": [
      "Train/Epoch 74/150: 100%|███████████████████████████████████████████████████████████| 104/104 [00:05<00:00, 17.69img/s]\n",
      "Eval/Epoch 74/150: 100%|██████████████████████████████████████████████████████████████| 27/27 [00:02<00:00,  9.24img/s]\n"
     ]
    },
    {
     "name": "stdout",
     "output_type": "stream",
     "text": [
      "\"\n",
      "        Epoch: 74, \n",
      "        Average Train Loss: 0.0841 \n",
      "        Average Test Loss: 0.0725 \n",
      "        Average Test mIoU: 86.47\n",
      "        Average Test Accuracy: 96.14842987060547 %\n",
      "Checkpoint: UNet_Segmentation_best is saved successfully\n"
     ]
    },
    {
     "name": "stderr",
     "output_type": "stream",
     "text": [
      "Train/Epoch 75/150: 100%|███████████████████████████████████████████████████████████| 104/104 [00:05<00:00, 17.56img/s]\n",
      "Eval/Epoch 75/150: 100%|██████████████████████████████████████████████████████████████| 27/27 [00:02<00:00,  9.19img/s]\n"
     ]
    },
    {
     "name": "stdout",
     "output_type": "stream",
     "text": [
      "\"\n",
      "        Epoch: 75, \n",
      "        Average Train Loss: 0.0776 \n",
      "        Average Test Loss: 0.0824 \n",
      "        Average Test mIoU: 85.37\n",
      "        Average Test Accuracy: 95.41397094726562 %\n"
     ]
    },
    {
     "name": "stderr",
     "output_type": "stream",
     "text": [
      "Train/Epoch 76/150: 100%|███████████████████████████████████████████████████████████| 104/104 [00:06<00:00, 17.24img/s]\n",
      "Eval/Epoch 76/150: 100%|██████████████████████████████████████████████████████████████| 27/27 [00:02<00:00,  9.54img/s]\n"
     ]
    },
    {
     "name": "stdout",
     "output_type": "stream",
     "text": [
      "\"\n",
      "        Epoch: 76, \n",
      "        Average Train Loss: 0.0770 \n",
      "        Average Test Loss: 0.0923 \n",
      "        Average Test mIoU: 85.11\n",
      "        Average Test Accuracy: 94.51408386230469 %\n"
     ]
    },
    {
     "name": "stderr",
     "output_type": "stream",
     "text": [
      "Train/Epoch 77/150: 100%|███████████████████████████████████████████████████████████| 104/104 [00:05<00:00, 17.56img/s]\n",
      "Eval/Epoch 77/150: 100%|██████████████████████████████████████████████████████████████| 27/27 [00:02<00:00,  9.14img/s]\n"
     ]
    },
    {
     "name": "stdout",
     "output_type": "stream",
     "text": [
      "\"\n",
      "        Epoch: 77, \n",
      "        Average Train Loss: 0.0847 \n",
      "        Average Test Loss: 0.0866 \n",
      "        Average Test mIoU: 84.70\n",
      "        Average Test Accuracy: 96.42295837402344 %\n"
     ]
    },
    {
     "name": "stderr",
     "output_type": "stream",
     "text": [
      "Train/Epoch 78/150: 100%|███████████████████████████████████████████████████████████| 104/104 [00:05<00:00, 17.55img/s]\n",
      "Eval/Epoch 78/150: 100%|██████████████████████████████████████████████████████████████| 27/27 [00:02<00:00,  9.24img/s]\n"
     ]
    },
    {
     "name": "stdout",
     "output_type": "stream",
     "text": [
      "\"\n",
      "        Epoch: 78, \n",
      "        Average Train Loss: 0.0841 \n",
      "        Average Test Loss: 0.0789 \n",
      "        Average Test mIoU: 85.05\n",
      "        Average Test Accuracy: 95.04661560058594 %\n"
     ]
    },
    {
     "name": "stderr",
     "output_type": "stream",
     "text": [
      "Train/Epoch 79/150: 100%|███████████████████████████████████████████████████████████| 104/104 [00:05<00:00, 17.70img/s]\n",
      "Eval/Epoch 79/150: 100%|██████████████████████████████████████████████████████████████| 27/27 [00:02<00:00,  9.19img/s]\n"
     ]
    },
    {
     "name": "stdout",
     "output_type": "stream",
     "text": [
      "\"\n",
      "        Epoch: 79, \n",
      "        Average Train Loss: 0.0800 \n",
      "        Average Test Loss: 0.0814 \n",
      "        Average Test mIoU: 84.98\n",
      "        Average Test Accuracy: 95.220947265625 %\n"
     ]
    },
    {
     "name": "stderr",
     "output_type": "stream",
     "text": [
      "Train/Epoch 80/150: 100%|███████████████████████████████████████████████████████████| 104/104 [00:05<00:00, 17.47img/s]\n",
      "Eval/Epoch 80/150: 100%|██████████████████████████████████████████████████████████████| 27/27 [00:02<00:00,  9.14img/s]\n"
     ]
    },
    {
     "name": "stdout",
     "output_type": "stream",
     "text": [
      "\"\n",
      "        Epoch: 80, \n",
      "        Average Train Loss: 0.0829 \n",
      "        Average Test Loss: 0.0788 \n",
      "        Average Test mIoU: 85.56\n",
      "        Average Test Accuracy: 95.025634765625 %\n"
     ]
    },
    {
     "name": "stderr",
     "output_type": "stream",
     "text": [
      "Train/Epoch 81/150: 100%|███████████████████████████████████████████████████████████| 104/104 [00:05<00:00, 17.70img/s]\n",
      "Eval/Epoch 81/150: 100%|██████████████████████████████████████████████████████████████| 27/27 [00:02<00:00,  9.24img/s]\n"
     ]
    },
    {
     "name": "stdout",
     "output_type": "stream",
     "text": [
      "\"\n",
      "        Epoch: 81, \n",
      "        Average Train Loss: 0.0870 \n",
      "        Average Test Loss: 0.0808 \n",
      "        Average Test mIoU: 84.59\n",
      "        Average Test Accuracy: 94.78467559814453 %\n"
     ]
    },
    {
     "name": "stderr",
     "output_type": "stream",
     "text": [
      "Train/Epoch 82/150: 100%|███████████████████████████████████████████████████████████| 104/104 [00:05<00:00, 17.56img/s]\n",
      "Eval/Epoch 82/150: 100%|██████████████████████████████████████████████████████████████| 27/27 [00:02<00:00,  9.24img/s]\n"
     ]
    },
    {
     "name": "stdout",
     "output_type": "stream",
     "text": [
      "\"\n",
      "        Epoch: 82, \n",
      "        Average Train Loss: 0.0797 \n",
      "        Average Test Loss: 0.0827 \n",
      "        Average Test mIoU: 84.78\n",
      "        Average Test Accuracy: 94.46309661865234 %\n"
     ]
    },
    {
     "name": "stderr",
     "output_type": "stream",
     "text": [
      "Train/Epoch 83/150: 100%|███████████████████████████████████████████████████████████| 104/104 [00:05<00:00, 17.60img/s]\n",
      "Eval/Epoch 83/150: 100%|██████████████████████████████████████████████████████████████| 27/27 [00:02<00:00,  9.14img/s]\n"
     ]
    },
    {
     "name": "stdout",
     "output_type": "stream",
     "text": [
      "\"\n",
      "        Epoch: 83, \n",
      "        Average Train Loss: 0.0757 \n",
      "        Average Test Loss: 0.0724 \n",
      "        Average Test mIoU: 86.48\n",
      "        Average Test Accuracy: 95.80802917480469 %\n",
      "Checkpoint: UNet_Segmentation_best is saved successfully\n"
     ]
    },
    {
     "name": "stderr",
     "output_type": "stream",
     "text": [
      "Train/Epoch 84/150: 100%|███████████████████████████████████████████████████████████| 104/104 [00:05<00:00, 17.38img/s]\n",
      "Eval/Epoch 84/150: 100%|██████████████████████████████████████████████████████████████| 27/27 [00:02<00:00,  9.49img/s]\n"
     ]
    },
    {
     "name": "stdout",
     "output_type": "stream",
     "text": [
      "\"\n",
      "        Epoch: 84, \n",
      "        Average Train Loss: 0.0778 \n",
      "        Average Test Loss: 0.0832 \n",
      "        Average Test mIoU: 85.79\n",
      "        Average Test Accuracy: 95.61119079589844 %\n"
     ]
    },
    {
     "name": "stderr",
     "output_type": "stream",
     "text": [
      "Train/Epoch 85/150: 100%|███████████████████████████████████████████████████████████| 104/104 [00:05<00:00, 17.38img/s]\n",
      "Eval/Epoch 85/150: 100%|██████████████████████████████████████████████████████████████| 27/27 [00:02<00:00,  9.44img/s]\n"
     ]
    },
    {
     "name": "stdout",
     "output_type": "stream",
     "text": [
      "\"\n",
      "        Epoch: 85, \n",
      "        Average Train Loss: 0.0749 \n",
      "        Average Test Loss: 0.0751 \n",
      "        Average Test mIoU: 86.43\n",
      "        Average Test Accuracy: 96.18644714355469 %\n"
     ]
    },
    {
     "name": "stderr",
     "output_type": "stream",
     "text": [
      "Train/Epoch 86/150: 100%|███████████████████████████████████████████████████████████| 104/104 [00:05<00:00, 17.65img/s]\n",
      "Eval/Epoch 86/150: 100%|██████████████████████████████████████████████████████████████| 27/27 [00:02<00:00,  9.14img/s]\n"
     ]
    },
    {
     "name": "stdout",
     "output_type": "stream",
     "text": [
      "\"\n",
      "        Epoch: 86, \n",
      "        Average Train Loss: 0.0800 \n",
      "        Average Test Loss: 0.0739 \n",
      "        Average Test mIoU: 86.35\n",
      "        Average Test Accuracy: 95.61602783203125 %\n"
     ]
    },
    {
     "name": "stderr",
     "output_type": "stream",
     "text": [
      "Train/Epoch 87/150: 100%|███████████████████████████████████████████████████████████| 104/104 [00:05<00:00, 17.65img/s]\n",
      "Eval/Epoch 87/150: 100%|██████████████████████████████████████████████████████████████| 27/27 [00:02<00:00,  9.19img/s]\n"
     ]
    },
    {
     "name": "stdout",
     "output_type": "stream",
     "text": [
      "\"\n",
      "        Epoch: 87, \n",
      "        Average Train Loss: 0.0810 \n",
      "        Average Test Loss: 0.0740 \n",
      "        Average Test mIoU: 87.14\n",
      "        Average Test Accuracy: 96.54986572265625 %\n",
      "Checkpoint: UNet_Segmentation_best is saved successfully\n"
     ]
    },
    {
     "name": "stderr",
     "output_type": "stream",
     "text": [
      "Train/Epoch 88/150: 100%|███████████████████████████████████████████████████████████| 104/104 [00:06<00:00, 17.11img/s]\n",
      "Eval/Epoch 88/150: 100%|██████████████████████████████████████████████████████████████| 27/27 [00:02<00:00,  9.44img/s]\n"
     ]
    },
    {
     "name": "stdout",
     "output_type": "stream",
     "text": [
      "\"\n",
      "        Epoch: 88, \n",
      "        Average Train Loss: 0.0780 \n",
      "        Average Test Loss: 0.0811 \n",
      "        Average Test mIoU: 87.13\n",
      "        Average Test Accuracy: 96.24697875976562 %\n"
     ]
    },
    {
     "name": "stderr",
     "output_type": "stream",
     "text": [
      "Train/Epoch 89/150: 100%|███████████████████████████████████████████████████████████| 104/104 [00:05<00:00, 17.51img/s]\n",
      "Eval/Epoch 89/150: 100%|██████████████████████████████████████████████████████████████| 27/27 [00:02<00:00,  9.19img/s]\n"
     ]
    },
    {
     "name": "stdout",
     "output_type": "stream",
     "text": [
      "\"\n",
      "        Epoch: 89, \n",
      "        Average Train Loss: 0.0692 \n",
      "        Average Test Loss: 0.0901 \n",
      "        Average Test mIoU: 84.32\n",
      "        Average Test Accuracy: 94.43576049804688 %\n"
     ]
    },
    {
     "name": "stderr",
     "output_type": "stream",
     "text": [
      "Train/Epoch 90/150: 100%|███████████████████████████████████████████████████████████| 104/104 [00:05<00:00, 17.60img/s]\n",
      "Eval/Epoch 90/150: 100%|██████████████████████████████████████████████████████████████| 27/27 [00:02<00:00,  9.19img/s]\n"
     ]
    },
    {
     "name": "stdout",
     "output_type": "stream",
     "text": [
      "\"\n",
      "        Epoch: 90, \n",
      "        Average Train Loss: 0.0771 \n",
      "        Average Test Loss: 0.0960 \n",
      "        Average Test mIoU: 82.84\n",
      "        Average Test Accuracy: 92.74699401855469 %\n"
     ]
    },
    {
     "name": "stderr",
     "output_type": "stream",
     "text": [
      "Train/Epoch 91/150: 100%|███████████████████████████████████████████████████████████| 104/104 [00:05<00:00, 17.64img/s]\n",
      "Eval/Epoch 91/150: 100%|██████████████████████████████████████████████████████████████| 27/27 [00:02<00:00,  9.19img/s]\n"
     ]
    },
    {
     "name": "stdout",
     "output_type": "stream",
     "text": [
      "\"\n",
      "        Epoch: 91, \n",
      "        Average Train Loss: 0.0840 \n",
      "        Average Test Loss: 0.5359 \n",
      "        Average Test mIoU: 60.77\n",
      "        Average Test Accuracy: 74.51045227050781 %\n"
     ]
    },
    {
     "name": "stderr",
     "output_type": "stream",
     "text": [
      "Train/Epoch 92/150: 100%|███████████████████████████████████████████████████████████| 104/104 [00:05<00:00, 17.65img/s]\n",
      "Eval/Epoch 92/150: 100%|██████████████████████████████████████████████████████████████| 27/27 [00:02<00:00,  9.29img/s]\n"
     ]
    },
    {
     "name": "stdout",
     "output_type": "stream",
     "text": [
      "\"\n",
      "        Epoch: 92, \n",
      "        Average Train Loss: 0.0735 \n",
      "        Average Test Loss: 0.0815 \n",
      "        Average Test mIoU: 85.41\n",
      "        Average Test Accuracy: 94.38693237304688 %\n"
     ]
    },
    {
     "name": "stderr",
     "output_type": "stream",
     "text": [
      "Train/Epoch 93/150: 100%|███████████████████████████████████████████████████████████| 104/104 [00:05<00:00, 17.60img/s]\n",
      "Eval/Epoch 93/150: 100%|██████████████████████████████████████████████████████████████| 27/27 [00:02<00:00,  9.23img/s]\n"
     ]
    },
    {
     "name": "stdout",
     "output_type": "stream",
     "text": [
      "\"\n",
      "        Epoch: 93, \n",
      "        Average Train Loss: 0.0725 \n",
      "        Average Test Loss: 0.0704 \n",
      "        Average Test mIoU: 86.65\n",
      "        Average Test Accuracy: 96.35951232910156 %\n"
     ]
    },
    {
     "name": "stderr",
     "output_type": "stream",
     "text": [
      "Train/Epoch 94/150: 100%|███████████████████████████████████████████████████████████| 104/104 [00:05<00:00, 17.60img/s]\n",
      "Eval/Epoch 94/150: 100%|██████████████████████████████████████████████████████████████| 27/27 [00:02<00:00,  9.34img/s]\n"
     ]
    },
    {
     "name": "stdout",
     "output_type": "stream",
     "text": [
      "\"\n",
      "        Epoch: 94, \n",
      "        Average Train Loss: 0.0735 \n",
      "        Average Test Loss: 0.0719 \n",
      "        Average Test mIoU: 87.13\n",
      "        Average Test Accuracy: 95.9081039428711 %\n"
     ]
    },
    {
     "name": "stderr",
     "output_type": "stream",
     "text": [
      "Train/Epoch 95/150: 100%|███████████████████████████████████████████████████████████| 104/104 [00:05<00:00, 17.60img/s]\n",
      "Eval/Epoch 95/150: 100%|██████████████████████████████████████████████████████████████| 27/27 [00:02<00:00,  9.44img/s]\n"
     ]
    },
    {
     "name": "stdout",
     "output_type": "stream",
     "text": [
      "\"\n",
      "        Epoch: 95, \n",
      "        Average Train Loss: 0.0737 \n",
      "        Average Test Loss: 0.0849 \n",
      "        Average Test mIoU: 85.46\n",
      "        Average Test Accuracy: 95.23391723632812 %\n"
     ]
    },
    {
     "name": "stderr",
     "output_type": "stream",
     "text": [
      "Train/Epoch 96/150: 100%|███████████████████████████████████████████████████████████| 104/104 [00:05<00:00, 17.84img/s]\n",
      "Eval/Epoch 96/150: 100%|██████████████████████████████████████████████████████████████| 27/27 [00:02<00:00,  9.24img/s]\n"
     ]
    },
    {
     "name": "stdout",
     "output_type": "stream",
     "text": [
      "\"\n",
      "        Epoch: 96, \n",
      "        Average Train Loss: 0.0798 \n",
      "        Average Test Loss: 0.0759 \n",
      "        Average Test mIoU: 87.06\n",
      "        Average Test Accuracy: 95.92311096191406 %\n"
     ]
    },
    {
     "name": "stderr",
     "output_type": "stream",
     "text": [
      "Train/Epoch 97/150: 100%|███████████████████████████████████████████████████████████| 104/104 [00:05<00:00, 17.74img/s]\n",
      "Eval/Epoch 97/150: 100%|██████████████████████████████████████████████████████████████| 27/27 [00:02<00:00,  9.24img/s]\n"
     ]
    },
    {
     "name": "stdout",
     "output_type": "stream",
     "text": [
      "\"\n",
      "        Epoch: 97, \n",
      "        Average Train Loss: 0.0763 \n",
      "        Average Test Loss: 0.8587 \n",
      "        Average Test mIoU: 51.43\n",
      "        Average Test Accuracy: 65.76678466796875 %\n"
     ]
    },
    {
     "name": "stderr",
     "output_type": "stream",
     "text": [
      "Train/Epoch 98/150: 100%|███████████████████████████████████████████████████████████| 104/104 [00:05<00:00, 17.51img/s]\n",
      "Eval/Epoch 98/150: 100%|██████████████████████████████████████████████████████████████| 27/27 [00:02<00:00,  9.34img/s]\n"
     ]
    },
    {
     "name": "stdout",
     "output_type": "stream",
     "text": [
      "\"\n",
      "        Epoch: 98, \n",
      "        Average Train Loss: 0.0829 \n",
      "        Average Test Loss: 0.0835 \n",
      "        Average Test mIoU: 86.04\n",
      "        Average Test Accuracy: 96.09044647216797 %\n"
     ]
    },
    {
     "name": "stderr",
     "output_type": "stream",
     "text": [
      "Train/Epoch 99/150: 100%|███████████████████████████████████████████████████████████| 104/104 [00:05<00:00, 17.60img/s]\n",
      "Eval/Epoch 99/150: 100%|██████████████████████████████████████████████████████████████| 27/27 [00:02<00:00,  9.28img/s]\n"
     ]
    },
    {
     "name": "stdout",
     "output_type": "stream",
     "text": [
      "\"\n",
      "        Epoch: 99, \n",
      "        Average Train Loss: 0.0780 \n",
      "        Average Test Loss: 0.0705 \n",
      "        Average Test mIoU: 87.69\n",
      "        Average Test Accuracy: 95.92069244384766 %\n",
      "Checkpoint: UNet_Segmentation_best is saved successfully\n"
     ]
    },
    {
     "name": "stderr",
     "output_type": "stream",
     "text": [
      "Train/Epoch 100/150: 100%|██████████████████████████████████████████████████████████| 104/104 [00:05<00:00, 17.56img/s]\n",
      "Eval/Epoch 100/150: 100%|█████████████████████████████████████████████████████████████| 27/27 [00:02<00:00,  9.19img/s]\n"
     ]
    },
    {
     "name": "stdout",
     "output_type": "stream",
     "text": [
      "\"\n",
      "        Epoch: 100, \n",
      "        Average Train Loss: 0.0683 \n",
      "        Average Test Loss: 0.0774 \n",
      "        Average Test mIoU: 86.41\n",
      "        Average Test Accuracy: 95.98808288574219 %\n"
     ]
    },
    {
     "name": "stderr",
     "output_type": "stream",
     "text": [
      "Train/Epoch 101/150: 100%|██████████████████████████████████████████████████████████| 104/104 [00:05<00:00, 17.61img/s]\n",
      "Eval/Epoch 101/150: 100%|█████████████████████████████████████████████████████████████| 27/27 [00:02<00:00,  9.24img/s]\n"
     ]
    },
    {
     "name": "stdout",
     "output_type": "stream",
     "text": [
      "\"\n",
      "        Epoch: 101, \n",
      "        Average Train Loss: 0.0829 \n",
      "        Average Test Loss: 0.0873 \n",
      "        Average Test mIoU: 83.45\n",
      "        Average Test Accuracy: 93.38099670410156 %\n"
     ]
    },
    {
     "name": "stderr",
     "output_type": "stream",
     "text": [
      "Train/Epoch 102/150: 100%|██████████████████████████████████████████████████████████| 104/104 [00:05<00:00, 17.65img/s]\n",
      "Eval/Epoch 102/150: 100%|█████████████████████████████████████████████████████████████| 27/27 [00:02<00:00,  9.24img/s]\n"
     ]
    },
    {
     "name": "stdout",
     "output_type": "stream",
     "text": [
      "\"\n",
      "        Epoch: 102, \n",
      "        Average Train Loss: 0.0670 \n",
      "        Average Test Loss: 0.2250 \n",
      "        Average Test mIoU: 68.76\n",
      "        Average Test Accuracy: 81.1333999633789 %\n"
     ]
    },
    {
     "name": "stderr",
     "output_type": "stream",
     "text": [
      "Train/Epoch 103/150: 100%|██████████████████████████████████████████████████████████| 104/104 [00:05<00:00, 17.65img/s]\n",
      "Eval/Epoch 103/150: 100%|█████████████████████████████████████████████████████████████| 27/27 [00:02<00:00,  9.14img/s]\n"
     ]
    },
    {
     "name": "stdout",
     "output_type": "stream",
     "text": [
      "\"\n",
      "        Epoch: 103, \n",
      "        Average Train Loss: 0.0729 \n",
      "        Average Test Loss: 0.2394 \n",
      "        Average Test mIoU: 70.56\n",
      "        Average Test Accuracy: 82.27246856689453 %\n"
     ]
    },
    {
     "name": "stderr",
     "output_type": "stream",
     "text": [
      "Train/Epoch 104/150: 100%|██████████████████████████████████████████████████████████| 104/104 [00:05<00:00, 17.79img/s]\n",
      "Eval/Epoch 104/150: 100%|█████████████████████████████████████████████████████████████| 27/27 [00:02<00:00,  9.29img/s]\n"
     ]
    },
    {
     "name": "stdout",
     "output_type": "stream",
     "text": [
      "\"\n",
      "        Epoch: 104, \n",
      "        Average Train Loss: 0.0673 \n",
      "        Average Test Loss: 0.0705 \n",
      "        Average Test mIoU: 87.51\n",
      "        Average Test Accuracy: 96.27482604980469 %\n"
     ]
    },
    {
     "name": "stderr",
     "output_type": "stream",
     "text": [
      "Train/Epoch 105/150: 100%|██████████████████████████████████████████████████████████| 104/104 [00:05<00:00, 17.65img/s]\n",
      "Eval/Epoch 105/150: 100%|█████████████████████████████████████████████████████████████| 27/27 [00:02<00:00,  9.14img/s]\n"
     ]
    },
    {
     "name": "stdout",
     "output_type": "stream",
     "text": [
      "\"\n",
      "        Epoch: 105, \n",
      "        Average Train Loss: 0.0624 \n",
      "        Average Test Loss: 0.0742 \n",
      "        Average Test mIoU: 86.77\n",
      "        Average Test Accuracy: 96.01542663574219 %\n"
     ]
    },
    {
     "name": "stderr",
     "output_type": "stream",
     "text": [
      "Train/Epoch 106/150: 100%|██████████████████████████████████████████████████████████| 104/104 [00:05<00:00, 17.70img/s]\n",
      "Eval/Epoch 106/150: 100%|█████████████████████████████████████████████████████████████| 27/27 [00:02<00:00,  9.44img/s]\n"
     ]
    },
    {
     "name": "stdout",
     "output_type": "stream",
     "text": [
      "\"\n",
      "        Epoch: 106, \n",
      "        Average Train Loss: 0.0769 \n",
      "        Average Test Loss: 0.0761 \n",
      "        Average Test mIoU: 86.68\n",
      "        Average Test Accuracy: 95.30868530273438 %\n"
     ]
    },
    {
     "name": "stderr",
     "output_type": "stream",
     "text": [
      "Train/Epoch 107/150: 100%|██████████████████████████████████████████████████████████| 104/104 [00:05<00:00, 17.74img/s]\n",
      "Eval/Epoch 107/150: 100%|█████████████████████████████████████████████████████████████| 27/27 [00:02<00:00,  9.19img/s]\n"
     ]
    },
    {
     "name": "stdout",
     "output_type": "stream",
     "text": [
      "\"\n",
      "        Epoch: 107, \n",
      "        Average Train Loss: 0.0770 \n",
      "        Average Test Loss: 0.0794 \n",
      "        Average Test mIoU: 85.29\n",
      "        Average Test Accuracy: 94.21653747558594 %\n"
     ]
    },
    {
     "name": "stderr",
     "output_type": "stream",
     "text": [
      "Train/Epoch 108/150: 100%|██████████████████████████████████████████████████████████| 104/104 [00:05<00:00, 17.69img/s]\n",
      "Eval/Epoch 108/150: 100%|█████████████████████████████████████████████████████████████| 27/27 [00:02<00:00,  9.29img/s]\n"
     ]
    },
    {
     "name": "stdout",
     "output_type": "stream",
     "text": [
      "\"\n",
      "        Epoch: 108, \n",
      "        Average Train Loss: 0.0637 \n",
      "        Average Test Loss: 0.0712 \n",
      "        Average Test mIoU: 87.05\n",
      "        Average Test Accuracy: 96.73589324951172 %\n"
     ]
    },
    {
     "name": "stderr",
     "output_type": "stream",
     "text": [
      "Train/Epoch 109/150: 100%|██████████████████████████████████████████████████████████| 104/104 [00:05<00:00, 17.69img/s]\n",
      "Eval/Epoch 109/150: 100%|█████████████████████████████████████████████████████████████| 27/27 [00:02<00:00,  9.24img/s]\n"
     ]
    },
    {
     "name": "stdout",
     "output_type": "stream",
     "text": [
      "\"\n",
      "        Epoch: 109, \n",
      "        Average Train Loss: 0.0666 \n",
      "        Average Test Loss: 0.0757 \n",
      "        Average Test mIoU: 86.69\n",
      "        Average Test Accuracy: 96.3036880493164 %\n"
     ]
    },
    {
     "name": "stderr",
     "output_type": "stream",
     "text": [
      "Train/Epoch 110/150: 100%|██████████████████████████████████████████████████████████| 104/104 [00:05<00:00, 17.60img/s]\n",
      "Eval/Epoch 110/150: 100%|█████████████████████████████████████████████████████████████| 27/27 [00:02<00:00,  9.28img/s]\n"
     ]
    },
    {
     "name": "stdout",
     "output_type": "stream",
     "text": [
      "\"\n",
      "        Epoch: 110, \n",
      "        Average Train Loss: 0.0729 \n",
      "        Average Test Loss: 0.0647 \n",
      "        Average Test mIoU: 88.16\n",
      "        Average Test Accuracy: 96.85033416748047 %\n",
      "Checkpoint: UNet_Segmentation_best is saved successfully\n"
     ]
    },
    {
     "name": "stderr",
     "output_type": "stream",
     "text": [
      "Train/Epoch 111/150: 100%|██████████████████████████████████████████████████████████| 104/104 [00:05<00:00, 17.60img/s]\n",
      "Eval/Epoch 111/150: 100%|█████████████████████████████████████████████████████████████| 27/27 [00:02<00:00,  9.23img/s]\n"
     ]
    },
    {
     "name": "stdout",
     "output_type": "stream",
     "text": [
      "\"\n",
      "        Epoch: 111, \n",
      "        Average Train Loss: 0.0643 \n",
      "        Average Test Loss: 0.0721 \n",
      "        Average Test mIoU: 88.04\n",
      "        Average Test Accuracy: 96.7442855834961 %\n"
     ]
    },
    {
     "name": "stderr",
     "output_type": "stream",
     "text": [
      "Train/Epoch 112/150: 100%|██████████████████████████████████████████████████████████| 104/104 [00:05<00:00, 17.69img/s]\n",
      "Eval/Epoch 112/150: 100%|█████████████████████████████████████████████████████████████| 27/27 [00:02<00:00,  9.29img/s]\n"
     ]
    },
    {
     "name": "stdout",
     "output_type": "stream",
     "text": [
      "\"\n",
      "        Epoch: 112, \n",
      "        Average Train Loss: 0.0661 \n",
      "        Average Test Loss: 0.0871 \n",
      "        Average Test mIoU: 85.35\n",
      "        Average Test Accuracy: 95.2275619506836 %\n"
     ]
    },
    {
     "name": "stderr",
     "output_type": "stream",
     "text": [
      "Train/Epoch 113/150: 100%|██████████████████████████████████████████████████████████| 104/104 [00:05<00:00, 17.59img/s]\n",
      "Eval/Epoch 113/150: 100%|█████████████████████████████████████████████████████████████| 27/27 [00:02<00:00,  9.28img/s]\n"
     ]
    },
    {
     "name": "stdout",
     "output_type": "stream",
     "text": [
      "\"\n",
      "        Epoch: 113, \n",
      "        Average Train Loss: 0.0637 \n",
      "        Average Test Loss: 0.0730 \n",
      "        Average Test mIoU: 87.08\n",
      "        Average Test Accuracy: 96.28156280517578 %\n"
     ]
    },
    {
     "name": "stderr",
     "output_type": "stream",
     "text": [
      "Train/Epoch 114/150: 100%|██████████████████████████████████████████████████████████| 104/104 [00:05<00:00, 17.60img/s]\n",
      "Eval/Epoch 114/150: 100%|█████████████████████████████████████████████████████████████| 27/27 [00:02<00:00,  9.19img/s]\n"
     ]
    },
    {
     "name": "stdout",
     "output_type": "stream",
     "text": [
      "\"\n",
      "        Epoch: 114, \n",
      "        Average Train Loss: 0.0618 \n",
      "        Average Test Loss: 0.0812 \n",
      "        Average Test mIoU: 86.54\n",
      "        Average Test Accuracy: 95.98312377929688 %\n"
     ]
    },
    {
     "name": "stderr",
     "output_type": "stream",
     "text": [
      "Train/Epoch 115/150: 100%|██████████████████████████████████████████████████████████| 104/104 [00:05<00:00, 17.65img/s]\n",
      "Eval/Epoch 115/150: 100%|█████████████████████████████████████████████████████████████| 27/27 [00:02<00:00,  9.18img/s]\n"
     ]
    },
    {
     "name": "stdout",
     "output_type": "stream",
     "text": [
      "\"\n",
      "        Epoch: 115, \n",
      "        Average Train Loss: 0.0690 \n",
      "        Average Test Loss: 0.0790 \n",
      "        Average Test mIoU: 86.46\n",
      "        Average Test Accuracy: 95.73161315917969 %\n"
     ]
    },
    {
     "name": "stderr",
     "output_type": "stream",
     "text": [
      "Train/Epoch 116/150: 100%|██████████████████████████████████████████████████████████| 104/104 [00:05<00:00, 17.70img/s]\n",
      "Eval/Epoch 116/150: 100%|█████████████████████████████████████████████████████████████| 27/27 [00:02<00:00,  9.23img/s]\n"
     ]
    },
    {
     "name": "stdout",
     "output_type": "stream",
     "text": [
      "\"\n",
      "        Epoch: 116, \n",
      "        Average Train Loss: 0.0707 \n",
      "        Average Test Loss: 0.0805 \n",
      "        Average Test mIoU: 84.26\n",
      "        Average Test Accuracy: 92.80052185058594 %\n"
     ]
    },
    {
     "name": "stderr",
     "output_type": "stream",
     "text": [
      "Train/Epoch 117/150: 100%|██████████████████████████████████████████████████████████| 104/104 [00:05<00:00, 17.65img/s]\n",
      "Eval/Epoch 117/150: 100%|█████████████████████████████████████████████████████████████| 27/27 [00:02<00:00,  9.14img/s]\n"
     ]
    },
    {
     "name": "stdout",
     "output_type": "stream",
     "text": [
      "\"\n",
      "        Epoch: 117, \n",
      "        Average Train Loss: 0.0641 \n",
      "        Average Test Loss: 0.0772 \n",
      "        Average Test mIoU: 86.89\n",
      "        Average Test Accuracy: 96.38011169433594 %\n"
     ]
    },
    {
     "name": "stderr",
     "output_type": "stream",
     "text": [
      "Train/Epoch 118/150: 100%|██████████████████████████████████████████████████████████| 104/104 [00:05<00:00, 17.74img/s]\n",
      "Eval/Epoch 118/150: 100%|█████████████████████████████████████████████████████████████| 27/27 [00:02<00:00,  9.29img/s]\n"
     ]
    },
    {
     "name": "stdout",
     "output_type": "stream",
     "text": [
      "\"\n",
      "        Epoch: 118, \n",
      "        Average Train Loss: 0.0684 \n",
      "        Average Test Loss: 0.0722 \n",
      "        Average Test mIoU: 86.31\n",
      "        Average Test Accuracy: 94.46818542480469 %\n"
     ]
    },
    {
     "name": "stderr",
     "output_type": "stream",
     "text": [
      "Train/Epoch 119/150: 100%|██████████████████████████████████████████████████████████| 104/104 [00:05<00:00, 17.65img/s]\n",
      "Eval/Epoch 119/150: 100%|█████████████████████████████████████████████████████████████| 27/27 [00:02<00:00,  9.24img/s]\n"
     ]
    },
    {
     "name": "stdout",
     "output_type": "stream",
     "text": [
      "\"\n",
      "        Epoch: 119, \n",
      "        Average Train Loss: 0.0653 \n",
      "        Average Test Loss: 0.0870 \n",
      "        Average Test mIoU: 85.95\n",
      "        Average Test Accuracy: 95.9288330078125 %\n"
     ]
    },
    {
     "name": "stderr",
     "output_type": "stream",
     "text": [
      "Train/Epoch 120/150: 100%|██████████████████████████████████████████████████████████| 104/104 [00:05<00:00, 17.60img/s]\n",
      "Eval/Epoch 120/150: 100%|█████████████████████████████████████████████████████████████| 27/27 [00:02<00:00,  9.14img/s]\n"
     ]
    },
    {
     "name": "stdout",
     "output_type": "stream",
     "text": [
      "\"\n",
      "        Epoch: 120, \n",
      "        Average Train Loss: 0.0711 \n",
      "        Average Test Loss: 0.0793 \n",
      "        Average Test mIoU: 86.27\n",
      "        Average Test Accuracy: 95.62467193603516 %\n"
     ]
    },
    {
     "name": "stderr",
     "output_type": "stream",
     "text": [
      "Train/Epoch 121/150: 100%|██████████████████████████████████████████████████████████| 104/104 [00:05<00:00, 17.69img/s]\n",
      "Eval/Epoch 121/150: 100%|█████████████████████████████████████████████████████████████| 27/27 [00:02<00:00,  9.19img/s]\n"
     ]
    },
    {
     "name": "stdout",
     "output_type": "stream",
     "text": [
      "\"\n",
      "        Epoch: 121, \n",
      "        Average Train Loss: 0.0706 \n",
      "        Average Test Loss: 0.0801 \n",
      "        Average Test mIoU: 86.23\n",
      "        Average Test Accuracy: 96.54006958007812 %\n"
     ]
    },
    {
     "name": "stderr",
     "output_type": "stream",
     "text": [
      "Train/Epoch 122/150: 100%|██████████████████████████████████████████████████████████| 104/104 [00:05<00:00, 17.70img/s]\n",
      "Eval/Epoch 122/150: 100%|█████████████████████████████████████████████████████████████| 27/27 [00:02<00:00,  9.24img/s]\n"
     ]
    },
    {
     "name": "stdout",
     "output_type": "stream",
     "text": [
      "\"\n",
      "        Epoch: 122, \n",
      "        Average Train Loss: 0.0613 \n",
      "        Average Test Loss: 0.0721 \n",
      "        Average Test mIoU: 87.77\n",
      "        Average Test Accuracy: 96.66671752929688 %\n"
     ]
    },
    {
     "name": "stderr",
     "output_type": "stream",
     "text": [
      "Train/Epoch 123/150: 100%|██████████████████████████████████████████████████████████| 104/104 [00:05<00:00, 17.70img/s]\n",
      "Eval/Epoch 123/150: 100%|█████████████████████████████████████████████████████████████| 27/27 [00:02<00:00,  9.24img/s]\n"
     ]
    },
    {
     "name": "stdout",
     "output_type": "stream",
     "text": [
      "\"\n",
      "        Epoch: 123, \n",
      "        Average Train Loss: 0.0635 \n",
      "        Average Test Loss: 0.0814 \n",
      "        Average Test mIoU: 85.52\n",
      "        Average Test Accuracy: 95.07230377197266 %\n"
     ]
    },
    {
     "name": "stderr",
     "output_type": "stream",
     "text": [
      "Train/Epoch 124/150: 100%|██████████████████████████████████████████████████████████| 104/104 [00:05<00:00, 17.65img/s]\n",
      "Eval/Epoch 124/150: 100%|█████████████████████████████████████████████████████████████| 27/27 [00:02<00:00,  9.29img/s]\n"
     ]
    },
    {
     "name": "stdout",
     "output_type": "stream",
     "text": [
      "\"\n",
      "        Epoch: 124, \n",
      "        Average Train Loss: 0.0649 \n",
      "        Average Test Loss: 0.0733 \n",
      "        Average Test mIoU: 86.70\n",
      "        Average Test Accuracy: 95.0408935546875 %\n"
     ]
    },
    {
     "name": "stderr",
     "output_type": "stream",
     "text": [
      "Train/Epoch 125/150: 100%|██████████████████████████████████████████████████████████| 104/104 [00:05<00:00, 17.55img/s]\n",
      "Eval/Epoch 125/150: 100%|█████████████████████████████████████████████████████████████| 27/27 [00:02<00:00,  9.18img/s]\n"
     ]
    },
    {
     "name": "stdout",
     "output_type": "stream",
     "text": [
      "\"\n",
      "        Epoch: 125, \n",
      "        Average Train Loss: 0.0649 \n",
      "        Average Test Loss: 0.0738 \n",
      "        Average Test mIoU: 88.21\n",
      "        Average Test Accuracy: 97.0342025756836 %\n",
      "Checkpoint: UNet_Segmentation_best is saved successfully\n"
     ]
    },
    {
     "name": "stderr",
     "output_type": "stream",
     "text": [
      "Train/Epoch 126/150: 100%|██████████████████████████████████████████████████████████| 104/104 [00:05<00:00, 17.65img/s]\n",
      "Eval/Epoch 126/150: 100%|█████████████████████████████████████████████████████████████| 27/27 [00:02<00:00,  9.24img/s]\n"
     ]
    },
    {
     "name": "stdout",
     "output_type": "stream",
     "text": [
      "\"\n",
      "        Epoch: 126, \n",
      "        Average Train Loss: 0.0654 \n",
      "        Average Test Loss: 0.0935 \n",
      "        Average Test mIoU: 83.06\n",
      "        Average Test Accuracy: 94.73114013671875 %\n"
     ]
    },
    {
     "name": "stderr",
     "output_type": "stream",
     "text": [
      "Train/Epoch 127/150: 100%|██████████████████████████████████████████████████████████| 104/104 [00:05<00:00, 17.41img/s]\n",
      "Eval/Epoch 127/150: 100%|█████████████████████████████████████████████████████████████| 27/27 [00:02<00:00,  9.44img/s]\n"
     ]
    },
    {
     "name": "stdout",
     "output_type": "stream",
     "text": [
      "\"\n",
      "        Epoch: 127, \n",
      "        Average Train Loss: 0.0729 \n",
      "        Average Test Loss: 0.4977 \n",
      "        Average Test mIoU: 63.71\n",
      "        Average Test Accuracy: 78.619384765625 %\n"
     ]
    },
    {
     "name": "stderr",
     "output_type": "stream",
     "text": [
      "Train/Epoch 128/150: 100%|██████████████████████████████████████████████████████████| 104/104 [00:09<00:00, 10.71img/s]\n",
      "Eval/Epoch 128/150: 100%|█████████████████████████████████████████████████████████████| 27/27 [00:02<00:00,  9.29img/s]\n"
     ]
    },
    {
     "name": "stdout",
     "output_type": "stream",
     "text": [
      "\"\n",
      "        Epoch: 128, \n",
      "        Average Train Loss: 0.0665 \n",
      "        Average Test Loss: 0.3680 \n",
      "        Average Test mIoU: 60.77\n",
      "        Average Test Accuracy: 74.01313781738281 %\n"
     ]
    },
    {
     "name": "stderr",
     "output_type": "stream",
     "text": [
      "Train/Epoch 129/150: 100%|██████████████████████████████████████████████████████████| 104/104 [00:05<00:00, 17.37img/s]\n",
      "Eval/Epoch 129/150: 100%|█████████████████████████████████████████████████████████████| 27/27 [00:02<00:00,  9.14img/s]\n"
     ]
    },
    {
     "name": "stdout",
     "output_type": "stream",
     "text": [
      "\"\n",
      "        Epoch: 129, \n",
      "        Average Train Loss: 0.0554 \n",
      "        Average Test Loss: 0.0703 \n",
      "        Average Test mIoU: 87.64\n",
      "        Average Test Accuracy: 96.24519348144531 %\n"
     ]
    },
    {
     "name": "stderr",
     "output_type": "stream",
     "text": [
      "Train/Epoch 130/150: 100%|██████████████████████████████████████████████████████████| 104/104 [00:05<00:00, 17.70img/s]\n",
      "Eval/Epoch 130/150: 100%|█████████████████████████████████████████████████████████████| 27/27 [00:02<00:00,  9.33img/s]\n"
     ]
    },
    {
     "name": "stdout",
     "output_type": "stream",
     "text": [
      "\"\n",
      "        Epoch: 130, \n",
      "        Average Train Loss: 0.0612 \n",
      "        Average Test Loss: 0.0724 \n",
      "        Average Test mIoU: 87.34\n",
      "        Average Test Accuracy: 96.15390014648438 %\n"
     ]
    },
    {
     "name": "stderr",
     "output_type": "stream",
     "text": [
      "Train/Epoch 131/150: 100%|██████████████████████████████████████████████████████████| 104/104 [00:05<00:00, 17.55img/s]\n",
      "Eval/Epoch 131/150: 100%|█████████████████████████████████████████████████████████████| 27/27 [00:02<00:00,  9.34img/s]\n"
     ]
    },
    {
     "name": "stdout",
     "output_type": "stream",
     "text": [
      "\"\n",
      "        Epoch: 131, \n",
      "        Average Train Loss: 0.0676 \n",
      "        Average Test Loss: 0.0875 \n",
      "        Average Test mIoU: 86.22\n",
      "        Average Test Accuracy: 95.72982788085938 %\n"
     ]
    },
    {
     "name": "stderr",
     "output_type": "stream",
     "text": [
      "Train/Epoch 132/150: 100%|██████████████████████████████████████████████████████████| 104/104 [00:05<00:00, 17.60img/s]\n",
      "Eval/Epoch 132/150: 100%|█████████████████████████████████████████████████████████████| 27/27 [00:02<00:00,  9.29img/s]\n"
     ]
    },
    {
     "name": "stdout",
     "output_type": "stream",
     "text": [
      "\"\n",
      "        Epoch: 132, \n",
      "        Average Train Loss: 0.0533 \n",
      "        Average Test Loss: 0.0636 \n",
      "        Average Test mIoU: 88.70\n",
      "        Average Test Accuracy: 96.67613220214844 %\n",
      "Checkpoint: UNet_Segmentation_best is saved successfully\n"
     ]
    },
    {
     "name": "stderr",
     "output_type": "stream",
     "text": [
      "Train/Epoch 133/150: 100%|██████████████████████████████████████████████████████████| 104/104 [00:05<00:00, 17.51img/s]\n",
      "Eval/Epoch 133/150: 100%|█████████████████████████████████████████████████████████████| 27/27 [00:02<00:00,  9.49img/s]\n"
     ]
    },
    {
     "name": "stdout",
     "output_type": "stream",
     "text": [
      "\"\n",
      "        Epoch: 133, \n",
      "        Average Train Loss: 0.0558 \n",
      "        Average Test Loss: 0.0604 \n",
      "        Average Test mIoU: 89.13\n",
      "        Average Test Accuracy: 97.02822875976562 %\n",
      "Checkpoint: UNet_Segmentation_best is saved successfully\n"
     ]
    },
    {
     "name": "stderr",
     "output_type": "stream",
     "text": [
      "Train/Epoch 134/150: 100%|██████████████████████████████████████████████████████████| 104/104 [00:05<00:00, 17.79img/s]\n",
      "Eval/Epoch 134/150: 100%|█████████████████████████████████████████████████████████████| 27/27 [00:02<00:00,  9.28img/s]\n"
     ]
    },
    {
     "name": "stdout",
     "output_type": "stream",
     "text": [
      "\"\n",
      "        Epoch: 134, \n",
      "        Average Train Loss: 0.0521 \n",
      "        Average Test Loss: 0.0592 \n",
      "        Average Test mIoU: 89.32\n",
      "        Average Test Accuracy: 97.16911315917969 %\n",
      "Checkpoint: UNet_Segmentation_best is saved successfully\n"
     ]
    },
    {
     "name": "stderr",
     "output_type": "stream",
     "text": [
      "Train/Epoch 135/150: 100%|██████████████████████████████████████████████████████████| 104/104 [00:05<00:00, 17.60img/s]\n",
      "Eval/Epoch 135/150: 100%|█████████████████████████████████████████████████████████████| 27/27 [00:02<00:00,  9.24img/s]\n"
     ]
    },
    {
     "name": "stdout",
     "output_type": "stream",
     "text": [
      "\"\n",
      "        Epoch: 135, \n",
      "        Average Train Loss: 0.0474 \n",
      "        Average Test Loss: 0.0585 \n",
      "        Average Test mIoU: 89.52\n",
      "        Average Test Accuracy: 97.27084350585938 %\n",
      "Checkpoint: UNet_Segmentation_best is saved successfully\n"
     ]
    },
    {
     "name": "stderr",
     "output_type": "stream",
     "text": [
      "Train/Epoch 136/150: 100%|██████████████████████████████████████████████████████████| 104/104 [00:05<00:00, 17.69img/s]\n",
      "Eval/Epoch 136/150: 100%|█████████████████████████████████████████████████████████████| 27/27 [00:02<00:00,  9.24img/s]\n"
     ]
    },
    {
     "name": "stdout",
     "output_type": "stream",
     "text": [
      "\"\n",
      "        Epoch: 136, \n",
      "        Average Train Loss: 0.0485 \n",
      "        Average Test Loss: 0.0592 \n",
      "        Average Test mIoU: 89.43\n",
      "        Average Test Accuracy: 97.40079498291016 %\n"
     ]
    },
    {
     "name": "stderr",
     "output_type": "stream",
     "text": [
      "Train/Epoch 137/150: 100%|██████████████████████████████████████████████████████████| 104/104 [00:05<00:00, 17.65img/s]\n",
      "Eval/Epoch 137/150: 100%|█████████████████████████████████████████████████████████████| 27/27 [00:02<00:00,  9.24img/s]\n"
     ]
    },
    {
     "name": "stdout",
     "output_type": "stream",
     "text": [
      "\"\n",
      "        Epoch: 137, \n",
      "        Average Train Loss: 0.0529 \n",
      "        Average Test Loss: 0.0597 \n",
      "        Average Test mIoU: 89.32\n",
      "        Average Test Accuracy: 97.35629272460938 %\n"
     ]
    },
    {
     "name": "stderr",
     "output_type": "stream",
     "text": [
      "Train/Epoch 138/150: 100%|██████████████████████████████████████████████████████████| 104/104 [00:05<00:00, 17.65img/s]\n",
      "Eval/Epoch 138/150: 100%|█████████████████████████████████████████████████████████████| 27/27 [00:02<00:00,  9.28img/s]\n"
     ]
    },
    {
     "name": "stdout",
     "output_type": "stream",
     "text": [
      "\"\n",
      "        Epoch: 138, \n",
      "        Average Train Loss: 0.0508 \n",
      "        Average Test Loss: 0.0588 \n",
      "        Average Test mIoU: 89.38\n",
      "        Average Test Accuracy: 97.24693298339844 %\n"
     ]
    },
    {
     "name": "stderr",
     "output_type": "stream",
     "text": [
      "Train/Epoch 139/150: 100%|██████████████████████████████████████████████████████████| 104/104 [00:05<00:00, 17.60img/s]\n",
      "Eval/Epoch 139/150: 100%|█████████████████████████████████████████████████████████████| 27/27 [00:02<00:00,  9.18img/s]\n"
     ]
    },
    {
     "name": "stdout",
     "output_type": "stream",
     "text": [
      "\"\n",
      "        Epoch: 139, \n",
      "        Average Train Loss: 0.0522 \n",
      "        Average Test Loss: 0.0586 \n",
      "        Average Test mIoU: 89.48\n",
      "        Average Test Accuracy: 97.20065307617188 %\n"
     ]
    },
    {
     "name": "stderr",
     "output_type": "stream",
     "text": [
      "Train/Epoch 140/150: 100%|██████████████████████████████████████████████████████████| 104/104 [00:05<00:00, 17.61img/s]\n",
      "Eval/Epoch 140/150: 100%|█████████████████████████████████████████████████████████████| 27/27 [00:02<00:00,  9.49img/s]\n"
     ]
    },
    {
     "name": "stdout",
     "output_type": "stream",
     "text": [
      "\"\n",
      "        Epoch: 140, \n",
      "        Average Train Loss: 0.0457 \n",
      "        Average Test Loss: 0.0576 \n",
      "        Average Test mIoU: 89.69\n",
      "        Average Test Accuracy: 97.27910614013672 %\n",
      "Checkpoint: UNet_Segmentation_best is saved successfully\n"
     ]
    },
    {
     "name": "stderr",
     "output_type": "stream",
     "text": [
      "Train/Epoch 141/150: 100%|██████████████████████████████████████████████████████████| 104/104 [00:05<00:00, 17.51img/s]\n",
      "Eval/Epoch 141/150: 100%|█████████████████████████████████████████████████████████████| 27/27 [00:02<00:00,  9.44img/s]\n"
     ]
    },
    {
     "name": "stdout",
     "output_type": "stream",
     "text": [
      "\"\n",
      "        Epoch: 141, \n",
      "        Average Train Loss: 0.0490 \n",
      "        Average Test Loss: 0.0573 \n",
      "        Average Test mIoU: 89.73\n",
      "        Average Test Accuracy: 97.22938537597656 %\n",
      "Checkpoint: UNet_Segmentation_best is saved successfully\n"
     ]
    },
    {
     "name": "stderr",
     "output_type": "stream",
     "text": [
      "Train/Epoch 142/150: 100%|██████████████████████████████████████████████████████████| 104/104 [00:05<00:00, 17.51img/s]\n",
      "Eval/Epoch 142/150: 100%|█████████████████████████████████████████████████████████████| 27/27 [00:02<00:00,  9.49img/s]\n"
     ]
    },
    {
     "name": "stdout",
     "output_type": "stream",
     "text": [
      "\"\n",
      "        Epoch: 142, \n",
      "        Average Train Loss: 0.0519 \n",
      "        Average Test Loss: 0.0585 \n",
      "        Average Test mIoU: 89.47\n",
      "        Average Test Accuracy: 96.99211120605469 %\n"
     ]
    },
    {
     "name": "stderr",
     "output_type": "stream",
     "text": [
      "Train/Epoch 143/150: 100%|██████████████████████████████████████████████████████████| 104/104 [00:05<00:00, 17.74img/s]\n",
      "Eval/Epoch 143/150: 100%|█████████████████████████████████████████████████████████████| 27/27 [00:02<00:00,  9.38img/s]\n"
     ]
    },
    {
     "name": "stdout",
     "output_type": "stream",
     "text": [
      "\"\n",
      "        Epoch: 143, \n",
      "        Average Train Loss: 0.0542 \n",
      "        Average Test Loss: 0.0589 \n",
      "        Average Test mIoU: 89.28\n",
      "        Average Test Accuracy: 96.85134887695312 %\n"
     ]
    },
    {
     "name": "stderr",
     "output_type": "stream",
     "text": [
      "Train/Epoch 144/150: 100%|██████████████████████████████████████████████████████████| 104/104 [00:05<00:00, 17.65img/s]\n",
      "Eval/Epoch 144/150: 100%|█████████████████████████████████████████████████████████████| 27/27 [00:02<00:00,  9.39img/s]\n"
     ]
    },
    {
     "name": "stdout",
     "output_type": "stream",
     "text": [
      "\"\n",
      "        Epoch: 144, \n",
      "        Average Train Loss: 0.0428 \n",
      "        Average Test Loss: 0.0575 \n",
      "        Average Test mIoU: 89.66\n",
      "        Average Test Accuracy: 97.09815979003906 %\n"
     ]
    },
    {
     "name": "stderr",
     "output_type": "stream",
     "text": [
      "Train/Epoch 145/150: 100%|██████████████████████████████████████████████████████████| 104/104 [00:05<00:00, 17.60img/s]\n",
      "Eval/Epoch 145/150: 100%|█████████████████████████████████████████████████████████████| 27/27 [00:02<00:00,  9.19img/s]\n"
     ]
    },
    {
     "name": "stdout",
     "output_type": "stream",
     "text": [
      "\"\n",
      "        Epoch: 145, \n",
      "        Average Train Loss: 0.0462 \n",
      "        Average Test Loss: 0.0581 \n",
      "        Average Test mIoU: 89.52\n",
      "        Average Test Accuracy: 96.98957061767578 %\n"
     ]
    },
    {
     "name": "stderr",
     "output_type": "stream",
     "text": [
      "Train/Epoch 146/150: 100%|██████████████████████████████████████████████████████████| 104/104 [00:05<00:00, 17.69img/s]\n",
      "Eval/Epoch 146/150: 100%|█████████████████████████████████████████████████████████████| 27/27 [00:02<00:00,  9.19img/s]\n"
     ]
    },
    {
     "name": "stdout",
     "output_type": "stream",
     "text": [
      "\"\n",
      "        Epoch: 146, \n",
      "        Average Train Loss: 0.0456 \n",
      "        Average Test Loss: 0.0579 \n",
      "        Average Test mIoU: 89.57\n",
      "        Average Test Accuracy: 97.07463836669922 %\n"
     ]
    },
    {
     "name": "stderr",
     "output_type": "stream",
     "text": [
      "Train/Epoch 147/150: 100%|██████████████████████████████████████████████████████████| 104/104 [00:05<00:00, 17.64img/s]\n",
      "Eval/Epoch 147/150: 100%|█████████████████████████████████████████████████████████████| 27/27 [00:02<00:00,  9.34img/s]\n"
     ]
    },
    {
     "name": "stdout",
     "output_type": "stream",
     "text": [
      "\"\n",
      "        Epoch: 147, \n",
      "        Average Train Loss: 0.0430 \n",
      "        Average Test Loss: 0.0579 \n",
      "        Average Test mIoU: 89.58\n",
      "        Average Test Accuracy: 97.10311889648438 %\n"
     ]
    },
    {
     "name": "stderr",
     "output_type": "stream",
     "text": [
      "Train/Epoch 148/150: 100%|██████████████████████████████████████████████████████████| 104/104 [00:05<00:00, 17.51img/s]\n",
      "Eval/Epoch 148/150: 100%|█████████████████████████████████████████████████████████████| 27/27 [00:02<00:00,  9.24img/s]\n"
     ]
    },
    {
     "name": "stdout",
     "output_type": "stream",
     "text": [
      "\"\n",
      "        Epoch: 148, \n",
      "        Average Train Loss: 0.0423 \n",
      "        Average Test Loss: 0.0580 \n",
      "        Average Test mIoU: 89.48\n",
      "        Average Test Accuracy: 97.06700897216797 %\n"
     ]
    },
    {
     "name": "stderr",
     "output_type": "stream",
     "text": [
      "Train/Epoch 149/150: 100%|██████████████████████████████████████████████████████████| 104/104 [00:05<00:00, 17.55img/s]\n",
      "Eval/Epoch 149/150: 100%|█████████████████████████████████████████████████████████████| 27/27 [00:02<00:00,  9.18img/s]\n"
     ]
    },
    {
     "name": "stdout",
     "output_type": "stream",
     "text": [
      "\"\n",
      "        Epoch: 149, \n",
      "        Average Train Loss: 0.0437 \n",
      "        Average Test Loss: 0.0575 \n",
      "        Average Test mIoU: 89.49\n",
      "        Average Test Accuracy: 96.98588562011719 %\n"
     ]
    },
    {
     "name": "stderr",
     "output_type": "stream",
     "text": [
      "Train/Epoch 150/150: 100%|██████████████████████████████████████████████████████████| 104/104 [00:05<00:00, 17.65img/s]\n",
      "Eval/Epoch 150/150: 100%|█████████████████████████████████████████████████████████████| 27/27 [00:02<00:00,  9.24img/s]\n"
     ]
    },
    {
     "name": "stdout",
     "output_type": "stream",
     "text": [
      "\"\n",
      "        Epoch: 150, \n",
      "        Average Train Loss: 0.0480 \n",
      "        Average Test Loss: 0.0584 \n",
      "        Average Test mIoU: 89.42\n",
      "        Average Test Accuracy: 96.98524475097656 %\n"
     ]
    }
   ],
   "source": [
    "model1_train_start()"
   ]
  },
  {
   "cell_type": "markdown",
   "id": "3913d869-6e1f-4493-8c26-b4696b0bfa1f",
   "metadata": {},
   "source": [
    "## Model-2 (Knowledge Distillation) Training"
   ]
  },
  {
   "cell_type": "code",
   "execution_count": 33,
   "id": "9426ab60-2bf9-4e68-af50-eec942c47b64",
   "metadata": {
    "scrolled": true
   },
   "outputs": [
    {
     "name": "stderr",
     "output_type": "stream",
     "text": [
      "Train/Epoch 1/150: 100%|████████████████████████████████████████████████████████████| 104/104 [00:06<00:00, 15.44img/s]\n",
      "Eval/Epoch 1/150: 100%|███████████████████████████████████████████████████████████████| 27/27 [00:03<00:00,  8.77img/s]\n"
     ]
    },
    {
     "name": "stdout",
     "output_type": "stream",
     "text": [
      "\"\n",
      "        Epoch: 1, \n",
      "        Average Train Loss: 3.2921 \n",
      "        Average Test Loss: 4.6452 \n",
      "        Average Test mIoU: 1.54\n",
      "        Average Test Accuracy: 6.261189937591553 %\n",
      "Checkpoint: UNet_Segmentation_best is saved successfully\n"
     ]
    },
    {
     "name": "stderr",
     "output_type": "stream",
     "text": [
      "Train/Epoch 2/150: 100%|████████████████████████████████████████████████████████████| 104/104 [00:07<00:00, 14.13img/s]\n",
      "Eval/Epoch 2/150: 100%|███████████████████████████████████████████████████████████████| 27/27 [00:03<00:00,  7.22img/s]\n"
     ]
    },
    {
     "name": "stdout",
     "output_type": "stream",
     "text": [
      "\"\n",
      "        Epoch: 2, \n",
      "        Average Train Loss: 2.4425 \n",
      "        Average Test Loss: 3.3563 \n",
      "        Average Test mIoU: 5.34\n",
      "        Average Test Accuracy: 14.024989128112793 %\n",
      "Checkpoint: UNet_Segmentation_best is saved successfully\n"
     ]
    },
    {
     "name": "stderr",
     "output_type": "stream",
     "text": [
      "Train/Epoch 3/150: 100%|████████████████████████████████████████████████████████████| 104/104 [00:07<00:00, 14.43img/s]\n",
      "Eval/Epoch 3/150: 100%|███████████████████████████████████████████████████████████████| 27/27 [00:03<00:00,  7.61img/s]\n"
     ]
    },
    {
     "name": "stdout",
     "output_type": "stream",
     "text": [
      "\"\n",
      "        Epoch: 3, \n",
      "        Average Train Loss: 2.0023 \n",
      "        Average Test Loss: 2.3383 \n",
      "        Average Test mIoU: 6.32\n",
      "        Average Test Accuracy: 20.9718074798584 %\n",
      "Checkpoint: UNet_Segmentation_best is saved successfully\n"
     ]
    },
    {
     "name": "stderr",
     "output_type": "stream",
     "text": [
      "Train/Epoch 4/150: 100%|████████████████████████████████████████████████████████████| 104/104 [00:07<00:00, 14.56img/s]\n",
      "Eval/Epoch 4/150: 100%|███████████████████████████████████████████████████████████████| 27/27 [00:03<00:00,  7.68img/s]\n"
     ]
    },
    {
     "name": "stdout",
     "output_type": "stream",
     "text": [
      "\"\n",
      "        Epoch: 4, \n",
      "        Average Train Loss: 1.6550 \n",
      "        Average Test Loss: 1.6997 \n",
      "        Average Test mIoU: 10.11\n",
      "        Average Test Accuracy: 25.678253173828125 %\n",
      "Checkpoint: UNet_Segmentation_best is saved successfully\n"
     ]
    },
    {
     "name": "stderr",
     "output_type": "stream",
     "text": [
      "Train/Epoch 5/150: 100%|████████████████████████████████████████████████████████████| 104/104 [00:07<00:00, 14.62img/s]\n",
      "Eval/Epoch 5/150: 100%|███████████████████████████████████████████████████████████████| 27/27 [00:03<00:00,  7.75img/s]\n"
     ]
    },
    {
     "name": "stdout",
     "output_type": "stream",
     "text": [
      "\"\n",
      "        Epoch: 5, \n",
      "        Average Train Loss: 1.3800 \n",
      "        Average Test Loss: 1.0896 \n",
      "        Average Test mIoU: 6.89\n",
      "        Average Test Accuracy: 10.41412353515625 %\n"
     ]
    },
    {
     "name": "stderr",
     "output_type": "stream",
     "text": [
      "Train/Epoch 6/150: 100%|████████████████████████████████████████████████████████████| 104/104 [00:07<00:00, 14.82img/s]\n",
      "Eval/Epoch 6/150: 100%|███████████████████████████████████████████████████████████████| 27/27 [00:03<00:00,  8.07img/s]\n"
     ]
    },
    {
     "name": "stdout",
     "output_type": "stream",
     "text": [
      "\"\n",
      "        Epoch: 6, \n",
      "        Average Train Loss: 1.2194 \n",
      "        Average Test Loss: 1.0438 \n",
      "        Average Test mIoU: 13.72\n",
      "        Average Test Accuracy: 27.385330200195312 %\n",
      "Checkpoint: UNet_Segmentation_best is saved successfully\n"
     ]
    },
    {
     "name": "stderr",
     "output_type": "stream",
     "text": [
      "Train/Epoch 7/150: 100%|████████████████████████████████████████████████████████████| 104/104 [00:07<00:00, 14.49img/s]\n",
      "Eval/Epoch 7/150: 100%|███████████████████████████████████████████████████████████████| 27/27 [00:03<00:00,  7.92img/s]\n"
     ]
    },
    {
     "name": "stdout",
     "output_type": "stream",
     "text": [
      "\"\n",
      "        Epoch: 7, \n",
      "        Average Train Loss: 1.0594 \n",
      "        Average Test Loss: 0.6990 \n",
      "        Average Test mIoU: 16.60\n",
      "        Average Test Accuracy: 28.228633880615234 %\n",
      "Checkpoint: UNet_Segmentation_best is saved successfully\n"
     ]
    },
    {
     "name": "stderr",
     "output_type": "stream",
     "text": [
      "Train/Epoch 8/150: 100%|████████████████████████████████████████████████████████████| 104/104 [00:06<00:00, 14.95img/s]\n",
      "Eval/Epoch 8/150: 100%|███████████████████████████████████████████████████████████████| 27/27 [00:03<00:00,  8.19img/s]\n"
     ]
    },
    {
     "name": "stdout",
     "output_type": "stream",
     "text": [
      "\"\n",
      "        Epoch: 8, \n",
      "        Average Train Loss: 0.9301 \n",
      "        Average Test Loss: 0.9876 \n",
      "        Average Test mIoU: 7.54\n",
      "        Average Test Accuracy: 13.031515121459961 %\n"
     ]
    },
    {
     "name": "stderr",
     "output_type": "stream",
     "text": [
      "Train/Epoch 9/150: 100%|████████████████████████████████████████████████████████████| 104/104 [00:06<00:00, 14.92img/s]\n",
      "Eval/Epoch 9/150: 100%|███████████████████████████████████████████████████████████████| 27/27 [00:03<00:00,  8.34img/s]\n"
     ]
    },
    {
     "name": "stdout",
     "output_type": "stream",
     "text": [
      "\"\n",
      "        Epoch: 9, \n",
      "        Average Train Loss: 0.8414 \n",
      "        Average Test Loss: 0.5146 \n",
      "        Average Test mIoU: 23.24\n",
      "        Average Test Accuracy: 32.09381103515625 %\n",
      "Checkpoint: UNet_Segmentation_best is saved successfully\n"
     ]
    },
    {
     "name": "stderr",
     "output_type": "stream",
     "text": [
      "Train/Epoch 10/150: 100%|███████████████████████████████████████████████████████████| 104/104 [00:06<00:00, 14.95img/s]\n",
      "Eval/Epoch 10/150: 100%|██████████████████████████████████████████████████████████████| 27/27 [00:03<00:00,  8.26img/s]\n"
     ]
    },
    {
     "name": "stdout",
     "output_type": "stream",
     "text": [
      "\"\n",
      "        Epoch: 10, \n",
      "        Average Train Loss: 0.7530 \n",
      "        Average Test Loss: 0.5980 \n",
      "        Average Test mIoU: 21.80\n",
      "        Average Test Accuracy: 37.73193359375 %\n"
     ]
    },
    {
     "name": "stderr",
     "output_type": "stream",
     "text": [
      "Train/Epoch 11/150: 100%|███████████████████████████████████████████████████████████| 104/104 [00:06<00:00, 15.16img/s]\n",
      "Eval/Epoch 11/150: 100%|██████████████████████████████████████████████████████████████| 27/27 [00:03<00:00,  8.43img/s]\n"
     ]
    },
    {
     "name": "stdout",
     "output_type": "stream",
     "text": [
      "\"\n",
      "        Epoch: 11, \n",
      "        Average Train Loss: 0.6935 \n",
      "        Average Test Loss: 0.5499 \n",
      "        Average Test mIoU: 30.80\n",
      "        Average Test Accuracy: 42.194366455078125 %\n",
      "Checkpoint: UNet_Segmentation_best is saved successfully\n"
     ]
    },
    {
     "name": "stderr",
     "output_type": "stream",
     "text": [
      "Train/Epoch 12/150: 100%|███████████████████████████████████████████████████████████| 104/104 [00:06<00:00, 15.12img/s]\n",
      "Eval/Epoch 12/150: 100%|██████████████████████████████████████████████████████████████| 27/27 [00:03<00:00,  8.34img/s]\n"
     ]
    },
    {
     "name": "stdout",
     "output_type": "stream",
     "text": [
      "\"\n",
      "        Epoch: 12, \n",
      "        Average Train Loss: 0.6093 \n",
      "        Average Test Loss: 0.3905 \n",
      "        Average Test mIoU: 37.97\n",
      "        Average Test Accuracy: 43.738555908203125 %\n",
      "Checkpoint: UNet_Segmentation_best is saved successfully\n"
     ]
    },
    {
     "name": "stderr",
     "output_type": "stream",
     "text": [
      "Train/Epoch 13/150: 100%|███████████████████████████████████████████████████████████| 104/104 [00:06<00:00, 15.23img/s]\n",
      "Eval/Epoch 13/150: 100%|██████████████████████████████████████████████████████████████| 27/27 [00:03<00:00,  8.43img/s]\n"
     ]
    },
    {
     "name": "stdout",
     "output_type": "stream",
     "text": [
      "\"\n",
      "        Epoch: 13, \n",
      "        Average Train Loss: 0.5770 \n",
      "        Average Test Loss: 0.4389 \n",
      "        Average Test mIoU: 51.94\n",
      "        Average Test Accuracy: 67.18063354492188 %\n",
      "Checkpoint: UNet_Segmentation_best is saved successfully\n"
     ]
    },
    {
     "name": "stderr",
     "output_type": "stream",
     "text": [
      "Train/Epoch 14/150: 100%|███████████████████████████████████████████████████████████| 104/104 [00:06<00:00, 15.23img/s]\n",
      "Eval/Epoch 14/150: 100%|██████████████████████████████████████████████████████████████| 27/27 [00:03<00:00,  8.47img/s]\n"
     ]
    },
    {
     "name": "stdout",
     "output_type": "stream",
     "text": [
      "\"\n",
      "        Epoch: 14, \n",
      "        Average Train Loss: 0.5048 \n",
      "        Average Test Loss: 0.3404 \n",
      "        Average Test mIoU: 44.32\n",
      "        Average Test Accuracy: 49.792354583740234 %\n"
     ]
    },
    {
     "name": "stderr",
     "output_type": "stream",
     "text": [
      "Train/Epoch 15/150: 100%|███████████████████████████████████████████████████████████| 104/104 [00:06<00:00, 15.15img/s]\n",
      "Eval/Epoch 15/150: 100%|██████████████████████████████████████████████████████████████| 27/27 [00:03<00:00,  8.51img/s]\n"
     ]
    },
    {
     "name": "stdout",
     "output_type": "stream",
     "text": [
      "\"\n",
      "        Epoch: 15, \n",
      "        Average Train Loss: 0.4374 \n",
      "        Average Test Loss: 0.3987 \n",
      "        Average Test mIoU: 45.34\n",
      "        Average Test Accuracy: 57.276153564453125 %\n"
     ]
    },
    {
     "name": "stderr",
     "output_type": "stream",
     "text": [
      "Train/Epoch 16/150: 100%|███████████████████████████████████████████████████████████| 104/104 [00:06<00:00, 15.30img/s]\n",
      "Eval/Epoch 16/150: 100%|██████████████████████████████████████████████████████████████| 27/27 [00:03<00:00,  8.51img/s]\n"
     ]
    },
    {
     "name": "stdout",
     "output_type": "stream",
     "text": [
      "\"\n",
      "        Epoch: 16, \n",
      "        Average Train Loss: 0.4000 \n",
      "        Average Test Loss: 0.5801 \n",
      "        Average Test mIoU: 49.04\n",
      "        Average Test Accuracy: 66.0027847290039 %\n"
     ]
    },
    {
     "name": "stderr",
     "output_type": "stream",
     "text": [
      "Train/Epoch 17/150: 100%|███████████████████████████████████████████████████████████| 104/104 [00:06<00:00, 15.23img/s]\n",
      "Eval/Epoch 17/150: 100%|██████████████████████████████████████████████████████████████| 27/27 [00:03<00:00,  8.47img/s]\n"
     ]
    },
    {
     "name": "stdout",
     "output_type": "stream",
     "text": [
      "\"\n",
      "        Epoch: 17, \n",
      "        Average Train Loss: 0.3685 \n",
      "        Average Test Loss: 0.2782 \n",
      "        Average Test mIoU: 59.58\n",
      "        Average Test Accuracy: 71.42054748535156 %\n",
      "Checkpoint: UNet_Segmentation_best is saved successfully\n"
     ]
    },
    {
     "name": "stderr",
     "output_type": "stream",
     "text": [
      "Train/Epoch 18/150: 100%|███████████████████████████████████████████████████████████| 104/104 [00:06<00:00, 15.26img/s]\n",
      "Eval/Epoch 18/150: 100%|██████████████████████████████████████████████████████████████| 27/27 [00:03<00:00,  8.42img/s]\n"
     ]
    },
    {
     "name": "stdout",
     "output_type": "stream",
     "text": [
      "\"\n",
      "        Epoch: 18, \n",
      "        Average Train Loss: 0.3447 \n",
      "        Average Test Loss: 0.2572 \n",
      "        Average Test mIoU: 65.97\n",
      "        Average Test Accuracy: 84.04821014404297 %\n",
      "Checkpoint: UNet_Segmentation_best is saved successfully\n"
     ]
    },
    {
     "name": "stderr",
     "output_type": "stream",
     "text": [
      "Train/Epoch 19/150: 100%|███████████████████████████████████████████████████████████| 104/104 [00:06<00:00, 15.23img/s]\n",
      "Eval/Epoch 19/150: 100%|██████████████████████████████████████████████████████████████| 27/27 [00:03<00:00,  8.51img/s]\n"
     ]
    },
    {
     "name": "stdout",
     "output_type": "stream",
     "text": [
      "\"\n",
      "        Epoch: 19, \n",
      "        Average Train Loss: 0.2940 \n",
      "        Average Test Loss: 0.2019 \n",
      "        Average Test mIoU: 71.63\n",
      "        Average Test Accuracy: 84.65919494628906 %\n",
      "Checkpoint: UNet_Segmentation_best is saved successfully\n"
     ]
    },
    {
     "name": "stderr",
     "output_type": "stream",
     "text": [
      "Train/Epoch 20/150: 100%|███████████████████████████████████████████████████████████| 104/104 [00:06<00:00, 15.47img/s]\n",
      "Eval/Epoch 20/150: 100%|██████████████████████████████████████████████████████████████| 27/27 [00:03<00:00,  8.64img/s]\n"
     ]
    },
    {
     "name": "stdout",
     "output_type": "stream",
     "text": [
      "\"\n",
      "        Epoch: 20, \n",
      "        Average Train Loss: 0.2681 \n",
      "        Average Test Loss: 0.2190 \n",
      "        Average Test mIoU: 68.68\n",
      "        Average Test Accuracy: 85.73558044433594 %\n"
     ]
    },
    {
     "name": "stderr",
     "output_type": "stream",
     "text": [
      "Train/Epoch 21/150: 100%|███████████████████████████████████████████████████████████| 104/104 [00:06<00:00, 15.51img/s]\n",
      "Eval/Epoch 21/150: 100%|██████████████████████████████████████████████████████████████| 27/27 [00:03<00:00,  8.55img/s]\n"
     ]
    },
    {
     "name": "stdout",
     "output_type": "stream",
     "text": [
      "\"\n",
      "        Epoch: 21, \n",
      "        Average Train Loss: 0.2567 \n",
      "        Average Test Loss: 0.2041 \n",
      "        Average Test mIoU: 73.33\n",
      "        Average Test Accuracy: 86.37313842773438 %\n",
      "Checkpoint: UNet_Segmentation_best is saved successfully\n"
     ]
    },
    {
     "name": "stderr",
     "output_type": "stream",
     "text": [
      "Train/Epoch 22/150: 100%|███████████████████████████████████████████████████████████| 104/104 [00:06<00:00, 15.37img/s]\n",
      "Eval/Epoch 22/150: 100%|██████████████████████████████████████████████████████████████| 27/27 [00:03<00:00,  8.68img/s]\n"
     ]
    },
    {
     "name": "stdout",
     "output_type": "stream",
     "text": [
      "\"\n",
      "        Epoch: 22, \n",
      "        Average Train Loss: 0.2419 \n",
      "        Average Test Loss: 0.2296 \n",
      "        Average Test mIoU: 68.08\n",
      "        Average Test Accuracy: 86.38229370117188 %\n"
     ]
    },
    {
     "name": "stderr",
     "output_type": "stream",
     "text": [
      "Train/Epoch 23/150: 100%|███████████████████████████████████████████████████████████| 104/104 [00:06<00:00, 15.47img/s]\n",
      "Eval/Epoch 23/150: 100%|██████████████████████████████████████████████████████████████| 27/27 [00:03<00:00,  8.68img/s]\n"
     ]
    },
    {
     "name": "stdout",
     "output_type": "stream",
     "text": [
      "\"\n",
      "        Epoch: 23, \n",
      "        Average Train Loss: 0.2071 \n",
      "        Average Test Loss: 0.1816 \n",
      "        Average Test mIoU: 74.02\n",
      "        Average Test Accuracy: 89.22500610351562 %\n",
      "Checkpoint: UNet_Segmentation_best is saved successfully\n"
     ]
    },
    {
     "name": "stderr",
     "output_type": "stream",
     "text": [
      "Train/Epoch 24/150: 100%|███████████████████████████████████████████████████████████| 104/104 [00:06<00:00, 15.43img/s]\n",
      "Eval/Epoch 24/150: 100%|██████████████████████████████████████████████████████████████| 27/27 [00:03<00:00,  8.73img/s]\n"
     ]
    },
    {
     "name": "stdout",
     "output_type": "stream",
     "text": [
      "\"\n",
      "        Epoch: 24, \n",
      "        Average Train Loss: 0.1948 \n",
      "        Average Test Loss: 0.1518 \n",
      "        Average Test mIoU: 78.14\n",
      "        Average Test Accuracy: 92.0745849609375 %\n",
      "Checkpoint: UNet_Segmentation_best is saved successfully\n"
     ]
    },
    {
     "name": "stderr",
     "output_type": "stream",
     "text": [
      "Train/Epoch 25/150: 100%|███████████████████████████████████████████████████████████| 104/104 [00:06<00:00, 15.51img/s]\n",
      "Eval/Epoch 25/150: 100%|██████████████████████████████████████████████████████████████| 27/27 [00:03<00:00,  8.68img/s]\n"
     ]
    },
    {
     "name": "stdout",
     "output_type": "stream",
     "text": [
      "\"\n",
      "        Epoch: 25, \n",
      "        Average Train Loss: 0.2023 \n",
      "        Average Test Loss: 0.1843 \n",
      "        Average Test mIoU: 73.47\n",
      "        Average Test Accuracy: 90.29515838623047 %\n"
     ]
    },
    {
     "name": "stderr",
     "output_type": "stream",
     "text": [
      "Train/Epoch 26/150: 100%|███████████████████████████████████████████████████████████| 104/104 [00:06<00:00, 15.51img/s]\n",
      "Eval/Epoch 26/150: 100%|██████████████████████████████████████████████████████████████| 27/27 [00:03<00:00,  8.64img/s]\n"
     ]
    },
    {
     "name": "stdout",
     "output_type": "stream",
     "text": [
      "\"\n",
      "        Epoch: 26, \n",
      "        Average Train Loss: 0.1648 \n",
      "        Average Test Loss: 0.1308 \n",
      "        Average Test mIoU: 77.97\n",
      "        Average Test Accuracy: 92.17135620117188 %\n"
     ]
    },
    {
     "name": "stderr",
     "output_type": "stream",
     "text": [
      "Train/Epoch 27/150: 100%|███████████████████████████████████████████████████████████| 104/104 [00:06<00:00, 15.47img/s]\n",
      "Eval/Epoch 27/150: 100%|██████████████████████████████████████████████████████████████| 27/27 [00:03<00:00,  8.68img/s]\n"
     ]
    },
    {
     "name": "stdout",
     "output_type": "stream",
     "text": [
      "\"\n",
      "        Epoch: 27, \n",
      "        Average Train Loss: 0.1651 \n",
      "        Average Test Loss: 0.1909 \n",
      "        Average Test mIoU: 72.83\n",
      "        Average Test Accuracy: 88.66004943847656 %\n"
     ]
    },
    {
     "name": "stderr",
     "output_type": "stream",
     "text": [
      "Train/Epoch 28/150: 100%|███████████████████████████████████████████████████████████| 104/104 [00:06<00:00, 15.51img/s]\n",
      "Eval/Epoch 28/150: 100%|██████████████████████████████████████████████████████████████| 27/27 [00:03<00:00,  8.68img/s]\n"
     ]
    },
    {
     "name": "stdout",
     "output_type": "stream",
     "text": [
      "\"\n",
      "        Epoch: 28, \n",
      "        Average Train Loss: 0.1573 \n",
      "        Average Test Loss: 0.1274 \n",
      "        Average Test mIoU: 78.45\n",
      "        Average Test Accuracy: 91.98735809326172 %\n",
      "Checkpoint: UNet_Segmentation_best is saved successfully\n"
     ]
    },
    {
     "name": "stderr",
     "output_type": "stream",
     "text": [
      "Train/Epoch 29/150: 100%|███████████████████████████████████████████████████████████| 104/104 [00:06<00:00, 15.34img/s]\n",
      "Eval/Epoch 29/150: 100%|██████████████████████████████████████████████████████████████| 27/27 [00:03<00:00,  8.68img/s]\n"
     ]
    },
    {
     "name": "stdout",
     "output_type": "stream",
     "text": [
      "\"\n",
      "        Epoch: 29, \n",
      "        Average Train Loss: 0.1555 \n",
      "        Average Test Loss: 0.1095 \n",
      "        Average Test mIoU: 79.59\n",
      "        Average Test Accuracy: 91.79776763916016 %\n",
      "Checkpoint: UNet_Segmentation_best is saved successfully\n"
     ]
    },
    {
     "name": "stderr",
     "output_type": "stream",
     "text": [
      "Train/Epoch 30/150: 100%|███████████████████████████████████████████████████████████| 104/104 [00:06<00:00, 15.12img/s]\n",
      "Eval/Epoch 30/150: 100%|██████████████████████████████████████████████████████████████| 27/27 [00:03<00:00,  8.72img/s]\n"
     ]
    },
    {
     "name": "stdout",
     "output_type": "stream",
     "text": [
      "\"\n",
      "        Epoch: 30, \n",
      "        Average Train Loss: 0.1535 \n",
      "        Average Test Loss: 0.1126 \n",
      "        Average Test mIoU: 78.27\n",
      "        Average Test Accuracy: 91.08416748046875 %\n"
     ]
    },
    {
     "name": "stderr",
     "output_type": "stream",
     "text": [
      "Train/Epoch 31/150: 100%|███████████████████████████████████████████████████████████| 104/104 [00:06<00:00, 15.36img/s]\n",
      "Eval/Epoch 31/150: 100%|██████████████████████████████████████████████████████████████| 27/27 [00:03<00:00,  8.64img/s]\n"
     ]
    },
    {
     "name": "stdout",
     "output_type": "stream",
     "text": [
      "\"\n",
      "        Epoch: 31, \n",
      "        Average Train Loss: 0.1617 \n",
      "        Average Test Loss: 0.1267 \n",
      "        Average Test mIoU: 79.99\n",
      "        Average Test Accuracy: 93.62920379638672 %\n",
      "Checkpoint: UNet_Segmentation_best is saved successfully\n"
     ]
    },
    {
     "name": "stderr",
     "output_type": "stream",
     "text": [
      "Train/Epoch 32/150: 100%|███████████████████████████████████████████████████████████| 104/104 [00:06<00:00, 15.40img/s]\n",
      "Eval/Epoch 32/150: 100%|██████████████████████████████████████████████████████████████| 27/27 [00:03<00:00,  8.64img/s]\n"
     ]
    },
    {
     "name": "stdout",
     "output_type": "stream",
     "text": [
      "\"\n",
      "        Epoch: 32, \n",
      "        Average Train Loss: 0.1387 \n",
      "        Average Test Loss: 0.1217 \n",
      "        Average Test mIoU: 79.98\n",
      "        Average Test Accuracy: 92.47932434082031 %\n"
     ]
    },
    {
     "name": "stderr",
     "output_type": "stream",
     "text": [
      "Train/Epoch 33/150: 100%|███████████████████████████████████████████████████████████| 104/104 [00:06<00:00, 15.51img/s]\n",
      "Eval/Epoch 33/150: 100%|██████████████████████████████████████████████████████████████| 27/27 [00:03<00:00,  8.68img/s]\n"
     ]
    },
    {
     "name": "stdout",
     "output_type": "stream",
     "text": [
      "\"\n",
      "        Epoch: 33, \n",
      "        Average Train Loss: 0.1342 \n",
      "        Average Test Loss: 0.1090 \n",
      "        Average Test mIoU: 81.06\n",
      "        Average Test Accuracy: 93.77568817138672 %\n",
      "Checkpoint: UNet_Segmentation_best is saved successfully\n"
     ]
    },
    {
     "name": "stderr",
     "output_type": "stream",
     "text": [
      "Train/Epoch 34/150: 100%|███████████████████████████████████████████████████████████| 104/104 [00:06<00:00, 15.37img/s]\n",
      "Eval/Epoch 34/150: 100%|██████████████████████████████████████████████████████████████| 27/27 [00:03<00:00,  8.55img/s]\n"
     ]
    },
    {
     "name": "stdout",
     "output_type": "stream",
     "text": [
      "\"\n",
      "        Epoch: 34, \n",
      "        Average Train Loss: 0.1377 \n",
      "        Average Test Loss: 0.1125 \n",
      "        Average Test mIoU: 80.36\n",
      "        Average Test Accuracy: 92.98795318603516 %\n"
     ]
    },
    {
     "name": "stderr",
     "output_type": "stream",
     "text": [
      "Train/Epoch 35/150: 100%|███████████████████████████████████████████████████████████| 104/104 [00:06<00:00, 15.51img/s]\n",
      "Eval/Epoch 35/150: 100%|██████████████████████████████████████████████████████████████| 27/27 [00:03<00:00,  8.64img/s]\n"
     ]
    },
    {
     "name": "stdout",
     "output_type": "stream",
     "text": [
      "\"\n",
      "        Epoch: 35, \n",
      "        Average Train Loss: 0.1312 \n",
      "        Average Test Loss: 0.1152 \n",
      "        Average Test mIoU: 79.75\n",
      "        Average Test Accuracy: 92.7337646484375 %\n"
     ]
    },
    {
     "name": "stderr",
     "output_type": "stream",
     "text": [
      "Train/Epoch 36/150: 100%|███████████████████████████████████████████████████████████| 104/104 [00:06<00:00, 15.47img/s]\n",
      "Eval/Epoch 36/150: 100%|██████████████████████████████████████████████████████████████| 27/27 [00:03<00:00,  8.68img/s]\n"
     ]
    },
    {
     "name": "stdout",
     "output_type": "stream",
     "text": [
      "\"\n",
      "        Epoch: 36, \n",
      "        Average Train Loss: 0.1277 \n",
      "        Average Test Loss: 0.1005 \n",
      "        Average Test mIoU: 81.46\n",
      "        Average Test Accuracy: 91.70634460449219 %\n",
      "Checkpoint: UNet_Segmentation_best is saved successfully\n"
     ]
    },
    {
     "name": "stderr",
     "output_type": "stream",
     "text": [
      "Train/Epoch 37/150: 100%|███████████████████████████████████████████████████████████| 104/104 [00:06<00:00, 15.40img/s]\n",
      "Eval/Epoch 37/150: 100%|██████████████████████████████████████████████████████████████| 27/27 [00:03<00:00,  8.64img/s]\n"
     ]
    },
    {
     "name": "stdout",
     "output_type": "stream",
     "text": [
      "\"\n",
      "        Epoch: 37, \n",
      "        Average Train Loss: 0.1327 \n",
      "        Average Test Loss: 0.1070 \n",
      "        Average Test mIoU: 81.58\n",
      "        Average Test Accuracy: 94.15461730957031 %\n",
      "Checkpoint: UNet_Segmentation_best is saved successfully\n"
     ]
    },
    {
     "name": "stderr",
     "output_type": "stream",
     "text": [
      "Train/Epoch 38/150: 100%|███████████████████████████████████████████████████████████| 104/104 [00:06<00:00, 15.43img/s]\n",
      "Eval/Epoch 38/150: 100%|██████████████████████████████████████████████████████████████| 27/27 [00:03<00:00,  8.72img/s]\n"
     ]
    },
    {
     "name": "stdout",
     "output_type": "stream",
     "text": [
      "\"\n",
      "        Epoch: 38, \n",
      "        Average Train Loss: 0.1189 \n",
      "        Average Test Loss: 0.1010 \n",
      "        Average Test mIoU: 83.04\n",
      "        Average Test Accuracy: 95.04191589355469 %\n",
      "Checkpoint: UNet_Segmentation_best is saved successfully\n"
     ]
    },
    {
     "name": "stderr",
     "output_type": "stream",
     "text": [
      "Train/Epoch 39/150: 100%|███████████████████████████████████████████████████████████| 104/104 [00:06<00:00, 15.40img/s]\n",
      "Eval/Epoch 39/150: 100%|██████████████████████████████████████████████████████████████| 27/27 [00:03<00:00,  8.59img/s]\n"
     ]
    },
    {
     "name": "stdout",
     "output_type": "stream",
     "text": [
      "\"\n",
      "        Epoch: 39, \n",
      "        Average Train Loss: 0.1290 \n",
      "        Average Test Loss: 0.1015 \n",
      "        Average Test mIoU: 81.22\n",
      "        Average Test Accuracy: 92.03109741210938 %\n"
     ]
    },
    {
     "name": "stderr",
     "output_type": "stream",
     "text": [
      "Train/Epoch 40/150: 100%|███████████████████████████████████████████████████████████| 104/104 [00:06<00:00, 15.47img/s]\n",
      "Eval/Epoch 40/150: 100%|██████████████████████████████████████████████████████████████| 27/27 [00:03<00:00,  8.68img/s]\n"
     ]
    },
    {
     "name": "stdout",
     "output_type": "stream",
     "text": [
      "\"\n",
      "        Epoch: 40, \n",
      "        Average Train Loss: 0.1397 \n",
      "        Average Test Loss: 0.1009 \n",
      "        Average Test mIoU: 81.87\n",
      "        Average Test Accuracy: 93.4295654296875 %\n"
     ]
    },
    {
     "name": "stderr",
     "output_type": "stream",
     "text": [
      "Train/Epoch 41/150: 100%|███████████████████████████████████████████████████████████| 104/104 [00:06<00:00, 15.51img/s]\n",
      "Eval/Epoch 41/150: 100%|██████████████████████████████████████████████████████████████| 27/27 [00:03<00:00,  8.64img/s]\n"
     ]
    },
    {
     "name": "stdout",
     "output_type": "stream",
     "text": [
      "\"\n",
      "        Epoch: 41, \n",
      "        Average Train Loss: 0.1336 \n",
      "        Average Test Loss: 0.1040 \n",
      "        Average Test mIoU: 82.34\n",
      "        Average Test Accuracy: 93.75343322753906 %\n"
     ]
    },
    {
     "name": "stderr",
     "output_type": "stream",
     "text": [
      "Train/Epoch 42/150: 100%|███████████████████████████████████████████████████████████| 104/104 [00:06<00:00, 15.47img/s]\n",
      "Eval/Epoch 42/150: 100%|██████████████████████████████████████████████████████████████| 27/27 [00:03<00:00,  8.64img/s]\n"
     ]
    },
    {
     "name": "stdout",
     "output_type": "stream",
     "text": [
      "\"\n",
      "        Epoch: 42, \n",
      "        Average Train Loss: 0.1201 \n",
      "        Average Test Loss: 0.0999 \n",
      "        Average Test mIoU: 82.66\n",
      "        Average Test Accuracy: 94.07157897949219 %\n"
     ]
    },
    {
     "name": "stderr",
     "output_type": "stream",
     "text": [
      "Train/Epoch 43/150: 100%|███████████████████████████████████████████████████████████| 104/104 [00:06<00:00, 15.55img/s]\n",
      "Eval/Epoch 43/150: 100%|██████████████████████████████████████████████████████████████| 27/27 [00:03<00:00,  8.64img/s]\n"
     ]
    },
    {
     "name": "stdout",
     "output_type": "stream",
     "text": [
      "\"\n",
      "        Epoch: 43, \n",
      "        Average Train Loss: 0.1346 \n",
      "        Average Test Loss: 0.1027 \n",
      "        Average Test mIoU: 81.92\n",
      "        Average Test Accuracy: 92.8251953125 %\n"
     ]
    },
    {
     "name": "stderr",
     "output_type": "stream",
     "text": [
      "Train/Epoch 44/150: 100%|███████████████████████████████████████████████████████████| 104/104 [00:06<00:00, 15.47img/s]\n",
      "Eval/Epoch 44/150: 100%|██████████████████████████████████████████████████████████████| 27/27 [00:03<00:00,  8.64img/s]\n"
     ]
    },
    {
     "name": "stdout",
     "output_type": "stream",
     "text": [
      "\"\n",
      "        Epoch: 44, \n",
      "        Average Train Loss: 0.1175 \n",
      "        Average Test Loss: 0.1015 \n",
      "        Average Test mIoU: 81.85\n",
      "        Average Test Accuracy: 93.4380874633789 %\n"
     ]
    },
    {
     "name": "stderr",
     "output_type": "stream",
     "text": [
      "Train/Epoch 45/150: 100%|███████████████████████████████████████████████████████████| 104/104 [00:06<00:00, 15.48img/s]\n",
      "Eval/Epoch 45/150: 100%|██████████████████████████████████████████████████████████████| 27/27 [00:03<00:00,  8.68img/s]\n"
     ]
    },
    {
     "name": "stdout",
     "output_type": "stream",
     "text": [
      "\"\n",
      "        Epoch: 45, \n",
      "        Average Train Loss: 0.1174 \n",
      "        Average Test Loss: 0.1022 \n",
      "        Average Test mIoU: 81.70\n",
      "        Average Test Accuracy: 93.18555450439453 %\n"
     ]
    },
    {
     "name": "stderr",
     "output_type": "stream",
     "text": [
      "Train/Epoch 46/150: 100%|███████████████████████████████████████████████████████████| 104/104 [00:06<00:00, 15.12img/s]\n",
      "Eval/Epoch 46/150: 100%|██████████████████████████████████████████████████████████████| 27/27 [00:03<00:00,  8.81img/s]\n"
     ]
    },
    {
     "name": "stdout",
     "output_type": "stream",
     "text": [
      "\"\n",
      "        Epoch: 46, \n",
      "        Average Train Loss: 0.1146 \n",
      "        Average Test Loss: 0.0954 \n",
      "        Average Test mIoU: 83.83\n",
      "        Average Test Accuracy: 94.16873168945312 %\n",
      "Checkpoint: UNet_Segmentation_best is saved successfully\n"
     ]
    },
    {
     "name": "stderr",
     "output_type": "stream",
     "text": [
      "Train/Epoch 47/150: 100%|███████████████████████████████████████████████████████████| 104/104 [00:06<00:00, 15.54img/s]\n",
      "Eval/Epoch 47/150: 100%|██████████████████████████████████████████████████████████████| 27/27 [00:03<00:00,  8.72img/s]\n"
     ]
    },
    {
     "name": "stdout",
     "output_type": "stream",
     "text": [
      "\"\n",
      "        Epoch: 47, \n",
      "        Average Train Loss: 0.1124 \n",
      "        Average Test Loss: 0.0955 \n",
      "        Average Test mIoU: 83.24\n",
      "        Average Test Accuracy: 93.62399291992188 %\n"
     ]
    },
    {
     "name": "stderr",
     "output_type": "stream",
     "text": [
      "Train/Epoch 48/150: 100%|███████████████████████████████████████████████████████████| 104/104 [00:06<00:00, 15.44img/s]\n",
      "Eval/Epoch 48/150: 100%|██████████████████████████████████████████████████████████████| 27/27 [00:03<00:00,  8.77img/s]\n"
     ]
    },
    {
     "name": "stdout",
     "output_type": "stream",
     "text": [
      "\"\n",
      "        Epoch: 48, \n",
      "        Average Train Loss: 0.1048 \n",
      "        Average Test Loss: 0.0872 \n",
      "        Average Test mIoU: 85.05\n",
      "        Average Test Accuracy: 95.8917007446289 %\n",
      "Checkpoint: UNet_Segmentation_best is saved successfully\n"
     ]
    },
    {
     "name": "stderr",
     "output_type": "stream",
     "text": [
      "Train/Epoch 49/150: 100%|███████████████████████████████████████████████████████████| 104/104 [00:06<00:00, 15.47img/s]\n",
      "Eval/Epoch 49/150: 100%|██████████████████████████████████████████████████████████████| 27/27 [00:03<00:00,  8.67img/s]\n"
     ]
    },
    {
     "name": "stdout",
     "output_type": "stream",
     "text": [
      "\"\n",
      "        Epoch: 49, \n",
      "        Average Train Loss: 0.1103 \n",
      "        Average Test Loss: 0.0952 \n",
      "        Average Test mIoU: 83.29\n",
      "        Average Test Accuracy: 94.11456298828125 %\n"
     ]
    },
    {
     "name": "stderr",
     "output_type": "stream",
     "text": [
      "Train/Epoch 50/150: 100%|███████████████████████████████████████████████████████████| 104/104 [00:06<00:00, 15.51img/s]\n",
      "Eval/Epoch 50/150: 100%|██████████████████████████████████████████████████████████████| 27/27 [00:03<00:00,  8.72img/s]\n"
     ]
    },
    {
     "name": "stdout",
     "output_type": "stream",
     "text": [
      "\"\n",
      "        Epoch: 50, \n",
      "        Average Train Loss: 0.1064 \n",
      "        Average Test Loss: 0.1152 \n",
      "        Average Test mIoU: 80.69\n",
      "        Average Test Accuracy: 93.7803955078125 %\n"
     ]
    },
    {
     "name": "stderr",
     "output_type": "stream",
     "text": [
      "Train/Epoch 51/150: 100%|███████████████████████████████████████████████████████████| 104/104 [00:06<00:00, 15.44img/s]\n",
      "Eval/Epoch 51/150: 100%|██████████████████████████████████████████████████████████████| 27/27 [00:03<00:00,  8.77img/s]\n"
     ]
    },
    {
     "name": "stdout",
     "output_type": "stream",
     "text": [
      "\"\n",
      "        Epoch: 51, \n",
      "        Average Train Loss: 0.1072 \n",
      "        Average Test Loss: 0.0981 \n",
      "        Average Test mIoU: 83.92\n",
      "        Average Test Accuracy: 94.98113250732422 %\n"
     ]
    },
    {
     "name": "stderr",
     "output_type": "stream",
     "text": [
      "Train/Epoch 52/150: 100%|███████████████████████████████████████████████████████████| 104/104 [00:06<00:00, 15.47img/s]\n",
      "Eval/Epoch 52/150: 100%|██████████████████████████████████████████████████████████████| 27/27 [00:03<00:00,  8.68img/s]\n"
     ]
    },
    {
     "name": "stdout",
     "output_type": "stream",
     "text": [
      "\"\n",
      "        Epoch: 52, \n",
      "        Average Train Loss: 0.1039 \n",
      "        Average Test Loss: 0.0894 \n",
      "        Average Test mIoU: 84.51\n",
      "        Average Test Accuracy: 95.34505462646484 %\n"
     ]
    },
    {
     "name": "stderr",
     "output_type": "stream",
     "text": [
      "Train/Epoch 53/150: 100%|███████████████████████████████████████████████████████████| 104/104 [00:06<00:00, 15.47img/s]\n",
      "Eval/Epoch 53/150: 100%|██████████████████████████████████████████████████████████████| 27/27 [00:03<00:00,  8.72img/s]\n"
     ]
    },
    {
     "name": "stdout",
     "output_type": "stream",
     "text": [
      "\"\n",
      "        Epoch: 53, \n",
      "        Average Train Loss: 0.1000 \n",
      "        Average Test Loss: 0.0833 \n",
      "        Average Test mIoU: 84.47\n",
      "        Average Test Accuracy: 94.39112854003906 %\n"
     ]
    },
    {
     "name": "stderr",
     "output_type": "stream",
     "text": [
      "Train/Epoch 54/150: 100%|███████████████████████████████████████████████████████████| 104/104 [00:06<00:00, 15.47img/s]\n",
      "Eval/Epoch 54/150: 100%|██████████████████████████████████████████████████████████████| 27/27 [00:03<00:00,  8.72img/s]\n"
     ]
    },
    {
     "name": "stdout",
     "output_type": "stream",
     "text": [
      "\"\n",
      "        Epoch: 54, \n",
      "        Average Train Loss: 0.1032 \n",
      "        Average Test Loss: 0.0897 \n",
      "        Average Test mIoU: 83.95\n",
      "        Average Test Accuracy: 94.73126983642578 %\n"
     ]
    },
    {
     "name": "stderr",
     "output_type": "stream",
     "text": [
      "Train/Epoch 55/150: 100%|███████████████████████████████████████████████████████████| 104/104 [00:06<00:00, 15.51img/s]\n",
      "Eval/Epoch 55/150: 100%|██████████████████████████████████████████████████████████████| 27/27 [00:03<00:00,  8.68img/s]\n"
     ]
    },
    {
     "name": "stdout",
     "output_type": "stream",
     "text": [
      "\"\n",
      "        Epoch: 55, \n",
      "        Average Train Loss: 0.1025 \n",
      "        Average Test Loss: 0.0891 \n",
      "        Average Test mIoU: 84.77\n",
      "        Average Test Accuracy: 96.09222412109375 %\n"
     ]
    },
    {
     "name": "stderr",
     "output_type": "stream",
     "text": [
      "Train/Epoch 56/150: 100%|███████████████████████████████████████████████████████████| 104/104 [00:06<00:00, 15.47img/s]\n",
      "Eval/Epoch 56/150: 100%|██████████████████████████████████████████████████████████████| 27/27 [00:03<00:00,  8.77img/s]\n"
     ]
    },
    {
     "name": "stdout",
     "output_type": "stream",
     "text": [
      "\"\n",
      "        Epoch: 56, \n",
      "        Average Train Loss: 0.1094 \n",
      "        Average Test Loss: 0.0991 \n",
      "        Average Test mIoU: 82.73\n",
      "        Average Test Accuracy: 94.24756622314453 %\n"
     ]
    },
    {
     "name": "stderr",
     "output_type": "stream",
     "text": [
      "Train/Epoch 57/150: 100%|███████████████████████████████████████████████████████████| 104/104 [00:06<00:00, 15.47img/s]\n",
      "Eval/Epoch 57/150: 100%|██████████████████████████████████████████████████████████████| 27/27 [00:03<00:00,  8.72img/s]\n"
     ]
    },
    {
     "name": "stdout",
     "output_type": "stream",
     "text": [
      "\"\n",
      "        Epoch: 57, \n",
      "        Average Train Loss: 0.1016 \n",
      "        Average Test Loss: 0.1026 \n",
      "        Average Test mIoU: 83.84\n",
      "        Average Test Accuracy: 94.34293365478516 %\n"
     ]
    },
    {
     "name": "stderr",
     "output_type": "stream",
     "text": [
      "Train/Epoch 58/150: 100%|███████████████████████████████████████████████████████████| 104/104 [00:06<00:00, 15.44img/s]\n",
      "Eval/Epoch 58/150: 100%|██████████████████████████████████████████████████████████████| 27/27 [00:03<00:00,  8.68img/s]\n"
     ]
    },
    {
     "name": "stdout",
     "output_type": "stream",
     "text": [
      "\"\n",
      "        Epoch: 58, \n",
      "        Average Train Loss: 0.0971 \n",
      "        Average Test Loss: 0.0931 \n",
      "        Average Test mIoU: 84.24\n",
      "        Average Test Accuracy: 95.14846801757812 %\n"
     ]
    },
    {
     "name": "stderr",
     "output_type": "stream",
     "text": [
      "Train/Epoch 59/150: 100%|███████████████████████████████████████████████████████████| 104/104 [00:06<00:00, 15.51img/s]\n",
      "Eval/Epoch 59/150: 100%|██████████████████████████████████████████████████████████████| 27/27 [00:03<00:00,  8.68img/s]\n"
     ]
    },
    {
     "name": "stdout",
     "output_type": "stream",
     "text": [
      "\"\n",
      "        Epoch: 59, \n",
      "        Average Train Loss: 0.0923 \n",
      "        Average Test Loss: 0.0857 \n",
      "        Average Test mIoU: 84.54\n",
      "        Average Test Accuracy: 95.09989929199219 %\n"
     ]
    },
    {
     "name": "stderr",
     "output_type": "stream",
     "text": [
      "Train/Epoch 60/150: 100%|███████████████████████████████████████████████████████████| 104/104 [00:06<00:00, 15.47img/s]\n",
      "Eval/Epoch 60/150: 100%|██████████████████████████████████████████████████████████████| 27/27 [00:03<00:00,  8.77img/s]\n"
     ]
    },
    {
     "name": "stdout",
     "output_type": "stream",
     "text": [
      "\"\n",
      "        Epoch: 60, \n",
      "        Average Train Loss: 0.0931 \n",
      "        Average Test Loss: 0.0799 \n",
      "        Average Test mIoU: 85.31\n",
      "        Average Test Accuracy: 94.5824966430664 %\n",
      "Checkpoint: UNet_Segmentation_best is saved successfully\n"
     ]
    },
    {
     "name": "stderr",
     "output_type": "stream",
     "text": [
      "Train/Epoch 61/150: 100%|███████████████████████████████████████████████████████████| 104/104 [00:06<00:00, 15.54img/s]\n",
      "Eval/Epoch 61/150: 100%|██████████████████████████████████████████████████████████████| 27/27 [00:03<00:00,  8.64img/s]\n"
     ]
    },
    {
     "name": "stdout",
     "output_type": "stream",
     "text": [
      "\"\n",
      "        Epoch: 61, \n",
      "        Average Train Loss: 0.0959 \n",
      "        Average Test Loss: 0.0889 \n",
      "        Average Test mIoU: 84.58\n",
      "        Average Test Accuracy: 94.95862579345703 %\n"
     ]
    },
    {
     "name": "stderr",
     "output_type": "stream",
     "text": [
      "Train/Epoch 62/150: 100%|███████████████████████████████████████████████████████████| 104/104 [00:06<00:00, 15.51img/s]\n",
      "Eval/Epoch 62/150: 100%|██████████████████████████████████████████████████████████████| 27/27 [00:03<00:00,  8.63img/s]\n"
     ]
    },
    {
     "name": "stdout",
     "output_type": "stream",
     "text": [
      "\"\n",
      "        Epoch: 62, \n",
      "        Average Train Loss: 0.1041 \n",
      "        Average Test Loss: 0.0880 \n",
      "        Average Test mIoU: 84.59\n",
      "        Average Test Accuracy: 94.80667114257812 %\n"
     ]
    },
    {
     "name": "stderr",
     "output_type": "stream",
     "text": [
      "Train/Epoch 63/150: 100%|███████████████████████████████████████████████████████████| 104/104 [00:06<00:00, 15.54img/s]\n",
      "Eval/Epoch 63/150: 100%|██████████████████████████████████████████████████████████████| 27/27 [00:03<00:00,  8.68img/s]\n"
     ]
    },
    {
     "name": "stdout",
     "output_type": "stream",
     "text": [
      "\"\n",
      "        Epoch: 63, \n",
      "        Average Train Loss: 0.0946 \n",
      "        Average Test Loss: 0.1387 \n",
      "        Average Test mIoU: 74.56\n",
      "        Average Test Accuracy: 83.59235382080078 %\n"
     ]
    },
    {
     "name": "stderr",
     "output_type": "stream",
     "text": [
      "Train/Epoch 64/150: 100%|███████████████████████████████████████████████████████████| 104/104 [00:06<00:00, 15.37img/s]\n",
      "Eval/Epoch 64/150: 100%|██████████████████████████████████████████████████████████████| 27/27 [00:03<00:00,  8.60img/s]\n"
     ]
    },
    {
     "name": "stdout",
     "output_type": "stream",
     "text": [
      "\"\n",
      "        Epoch: 64, \n",
      "        Average Train Loss: 0.1040 \n",
      "        Average Test Loss: 0.1054 \n",
      "        Average Test mIoU: 83.44\n",
      "        Average Test Accuracy: 93.9512939453125 %\n"
     ]
    },
    {
     "name": "stderr",
     "output_type": "stream",
     "text": [
      "Train/Epoch 65/150: 100%|███████████████████████████████████████████████████████████| 104/104 [00:06<00:00, 15.48img/s]\n",
      "Eval/Epoch 65/150: 100%|██████████████████████████████████████████████████████████████| 27/27 [00:03<00:00,  8.64img/s]\n"
     ]
    },
    {
     "name": "stdout",
     "output_type": "stream",
     "text": [
      "\"\n",
      "        Epoch: 65, \n",
      "        Average Train Loss: 0.0980 \n",
      "        Average Test Loss: 0.0870 \n",
      "        Average Test mIoU: 84.25\n",
      "        Average Test Accuracy: 95.53985595703125 %\n"
     ]
    },
    {
     "name": "stderr",
     "output_type": "stream",
     "text": [
      "Train/Epoch 66/150: 100%|███████████████████████████████████████████████████████████| 104/104 [00:06<00:00, 15.51img/s]\n",
      "Eval/Epoch 66/150: 100%|██████████████████████████████████████████████████████████████| 27/27 [00:03<00:00,  8.68img/s]\n"
     ]
    },
    {
     "name": "stdout",
     "output_type": "stream",
     "text": [
      "\"\n",
      "        Epoch: 66, \n",
      "        Average Train Loss: 0.0939 \n",
      "        Average Test Loss: 0.0951 \n",
      "        Average Test mIoU: 84.56\n",
      "        Average Test Accuracy: 94.50302124023438 %\n"
     ]
    },
    {
     "name": "stderr",
     "output_type": "stream",
     "text": [
      "Train/Epoch 67/150: 100%|███████████████████████████████████████████████████████████| 104/104 [00:06<00:00, 15.58img/s]\n",
      "Eval/Epoch 67/150: 100%|██████████████████████████████████████████████████████████████| 27/27 [00:03<00:00,  8.77img/s]\n"
     ]
    },
    {
     "name": "stdout",
     "output_type": "stream",
     "text": [
      "\"\n",
      "        Epoch: 67, \n",
      "        Average Train Loss: 0.0937 \n",
      "        Average Test Loss: 0.0913 \n",
      "        Average Test mIoU: 85.10\n",
      "        Average Test Accuracy: 95.69969177246094 %\n"
     ]
    },
    {
     "name": "stderr",
     "output_type": "stream",
     "text": [
      "Train/Epoch 68/150: 100%|███████████████████████████████████████████████████████████| 104/104 [00:06<00:00, 15.47img/s]\n",
      "Eval/Epoch 68/150: 100%|██████████████████████████████████████████████████████████████| 27/27 [00:03<00:00,  8.73img/s]\n"
     ]
    },
    {
     "name": "stdout",
     "output_type": "stream",
     "text": [
      "\"\n",
      "        Epoch: 68, \n",
      "        Average Train Loss: 0.0974 \n",
      "        Average Test Loss: 0.0912 \n",
      "        Average Test mIoU: 83.11\n",
      "        Average Test Accuracy: 92.855712890625 %\n"
     ]
    },
    {
     "name": "stderr",
     "output_type": "stream",
     "text": [
      "Train/Epoch 69/150: 100%|███████████████████████████████████████████████████████████| 104/104 [00:06<00:00, 15.44img/s]\n",
      "Eval/Epoch 69/150: 100%|██████████████████████████████████████████████████████████████| 27/27 [00:03<00:00,  8.72img/s]\n"
     ]
    },
    {
     "name": "stdout",
     "output_type": "stream",
     "text": [
      "\"\n",
      "        Epoch: 69, \n",
      "        Average Train Loss: 0.0993 \n",
      "        Average Test Loss: 0.0933 \n",
      "        Average Test mIoU: 83.84\n",
      "        Average Test Accuracy: 94.10769653320312 %\n"
     ]
    },
    {
     "name": "stderr",
     "output_type": "stream",
     "text": [
      "Train/Epoch 70/150: 100%|███████████████████████████████████████████████████████████| 104/104 [00:06<00:00, 15.44img/s]\n",
      "Eval/Epoch 70/150: 100%|██████████████████████████████████████████████████████████████| 27/27 [00:03<00:00,  8.68img/s]\n"
     ]
    },
    {
     "name": "stdout",
     "output_type": "stream",
     "text": [
      "\"\n",
      "        Epoch: 70, \n",
      "        Average Train Loss: 0.0938 \n",
      "        Average Test Loss: 0.1101 \n",
      "        Average Test mIoU: 80.72\n",
      "        Average Test Accuracy: 90.73461151123047 %\n"
     ]
    },
    {
     "name": "stderr",
     "output_type": "stream",
     "text": [
      "Train/Epoch 71/150: 100%|███████████████████████████████████████████████████████████| 104/104 [00:06<00:00, 15.44img/s]\n",
      "Eval/Epoch 71/150: 100%|██████████████████████████████████████████████████████████████| 27/27 [00:03<00:00,  8.77img/s]\n"
     ]
    },
    {
     "name": "stdout",
     "output_type": "stream",
     "text": [
      "\"\n",
      "        Epoch: 71, \n",
      "        Average Train Loss: 0.0949 \n",
      "        Average Test Loss: 0.1092 \n",
      "        Average Test mIoU: 81.32\n",
      "        Average Test Accuracy: 89.78602600097656 %\n"
     ]
    },
    {
     "name": "stderr",
     "output_type": "stream",
     "text": [
      "Train/Epoch 72/150: 100%|███████████████████████████████████████████████████████████| 104/104 [00:06<00:00, 15.51img/s]\n",
      "Eval/Epoch 72/150: 100%|██████████████████████████████████████████████████████████████| 27/27 [00:03<00:00,  8.77img/s]\n"
     ]
    },
    {
     "name": "stdout",
     "output_type": "stream",
     "text": [
      "\"\n",
      "        Epoch: 72, \n",
      "        Average Train Loss: 0.0910 \n",
      "        Average Test Loss: 0.0876 \n",
      "        Average Test mIoU: 85.46\n",
      "        Average Test Accuracy: 94.69197845458984 %\n",
      "Checkpoint: UNet_Segmentation_best is saved successfully\n"
     ]
    },
    {
     "name": "stderr",
     "output_type": "stream",
     "text": [
      "Train/Epoch 73/150: 100%|███████████████████████████████████████████████████████████| 104/104 [00:06<00:00, 15.44img/s]\n",
      "Eval/Epoch 73/150: 100%|██████████████████████████████████████████████████████████████| 27/27 [00:03<00:00,  8.63img/s]\n"
     ]
    },
    {
     "name": "stdout",
     "output_type": "stream",
     "text": [
      "\"\n",
      "        Epoch: 73, \n",
      "        Average Train Loss: 0.0887 \n",
      "        Average Test Loss: 0.0835 \n",
      "        Average Test mIoU: 85.67\n",
      "        Average Test Accuracy: 95.75424194335938 %\n",
      "Checkpoint: UNet_Segmentation_best is saved successfully\n"
     ]
    },
    {
     "name": "stderr",
     "output_type": "stream",
     "text": [
      "Train/Epoch 74/150: 100%|███████████████████████████████████████████████████████████| 104/104 [00:06<00:00, 15.44img/s]\n",
      "Eval/Epoch 74/150: 100%|██████████████████████████████████████████████████████████████| 27/27 [00:03<00:00,  8.72img/s]\n"
     ]
    },
    {
     "name": "stdout",
     "output_type": "stream",
     "text": [
      "\"\n",
      "        Epoch: 74, \n",
      "        Average Train Loss: 0.0846 \n",
      "        Average Test Loss: 0.1083 \n",
      "        Average Test mIoU: 80.57\n",
      "        Average Test Accuracy: 89.40391540527344 %\n"
     ]
    },
    {
     "name": "stderr",
     "output_type": "stream",
     "text": [
      "Train/Epoch 75/150: 100%|███████████████████████████████████████████████████████████| 104/104 [00:06<00:00, 15.51img/s]\n",
      "Eval/Epoch 75/150: 100%|██████████████████████████████████████████████████████████████| 27/27 [00:03<00:00,  8.77img/s]\n"
     ]
    },
    {
     "name": "stdout",
     "output_type": "stream",
     "text": [
      "\"\n",
      "        Epoch: 75, \n",
      "        Average Train Loss: 0.0874 \n",
      "        Average Test Loss: 0.0870 \n",
      "        Average Test mIoU: 85.09\n",
      "        Average Test Accuracy: 96.26681518554688 %\n"
     ]
    },
    {
     "name": "stderr",
     "output_type": "stream",
     "text": [
      "Train/Epoch 76/150: 100%|███████████████████████████████████████████████████████████| 104/104 [00:06<00:00, 15.47img/s]\n",
      "Eval/Epoch 76/150: 100%|██████████████████████████████████████████████████████████████| 27/27 [00:03<00:00,  8.68img/s]\n"
     ]
    },
    {
     "name": "stdout",
     "output_type": "stream",
     "text": [
      "\"\n",
      "        Epoch: 76, \n",
      "        Average Train Loss: 0.0860 \n",
      "        Average Test Loss: 0.0867 \n",
      "        Average Test mIoU: 85.15\n",
      "        Average Test Accuracy: 95.46788787841797 %\n"
     ]
    },
    {
     "name": "stderr",
     "output_type": "stream",
     "text": [
      "Train/Epoch 77/150: 100%|███████████████████████████████████████████████████████████| 104/104 [00:06<00:00, 15.44img/s]\n",
      "Eval/Epoch 77/150: 100%|██████████████████████████████████████████████████████████████| 27/27 [00:03<00:00,  8.77img/s]\n"
     ]
    },
    {
     "name": "stdout",
     "output_type": "stream",
     "text": [
      "\"\n",
      "        Epoch: 77, \n",
      "        Average Train Loss: 0.0883 \n",
      "        Average Test Loss: 0.0905 \n",
      "        Average Test mIoU: 84.81\n",
      "        Average Test Accuracy: 94.31432342529297 %\n"
     ]
    },
    {
     "name": "stderr",
     "output_type": "stream",
     "text": [
      "Train/Epoch 78/150: 100%|███████████████████████████████████████████████████████████| 104/104 [00:06<00:00, 15.51img/s]\n",
      "Eval/Epoch 78/150: 100%|██████████████████████████████████████████████████████████████| 27/27 [00:03<00:00,  8.77img/s]\n"
     ]
    },
    {
     "name": "stdout",
     "output_type": "stream",
     "text": [
      "\"\n",
      "        Epoch: 78, \n",
      "        Average Train Loss: 0.0836 \n",
      "        Average Test Loss: 0.0873 \n",
      "        Average Test mIoU: 84.71\n",
      "        Average Test Accuracy: 95.35903930664062 %\n"
     ]
    },
    {
     "name": "stderr",
     "output_type": "stream",
     "text": [
      "Train/Epoch 79/150: 100%|███████████████████████████████████████████████████████████| 104/104 [00:06<00:00, 15.51img/s]\n",
      "Eval/Epoch 79/150: 100%|██████████████████████████████████████████████████████████████| 27/27 [00:03<00:00,  8.72img/s]\n"
     ]
    },
    {
     "name": "stdout",
     "output_type": "stream",
     "text": [
      "\"\n",
      "        Epoch: 79, \n",
      "        Average Train Loss: 0.0917 \n",
      "        Average Test Loss: 0.1007 \n",
      "        Average Test mIoU: 83.96\n",
      "        Average Test Accuracy: 94.79014587402344 %\n"
     ]
    },
    {
     "name": "stderr",
     "output_type": "stream",
     "text": [
      "Train/Epoch 80/150: 100%|███████████████████████████████████████████████████████████| 104/104 [00:06<00:00, 15.47img/s]\n",
      "Eval/Epoch 80/150: 100%|██████████████████████████████████████████████████████████████| 27/27 [00:03<00:00,  8.68img/s]\n"
     ]
    },
    {
     "name": "stdout",
     "output_type": "stream",
     "text": [
      "\"\n",
      "        Epoch: 80, \n",
      "        Average Train Loss: 0.0887 \n",
      "        Average Test Loss: 0.0832 \n",
      "        Average Test mIoU: 86.00\n",
      "        Average Test Accuracy: 95.76187133789062 %\n",
      "Checkpoint: UNet_Segmentation_best is saved successfully\n"
     ]
    },
    {
     "name": "stderr",
     "output_type": "stream",
     "text": [
      "Train/Epoch 81/150: 100%|███████████████████████████████████████████████████████████| 104/104 [00:06<00:00, 15.48img/s]\n",
      "Eval/Epoch 81/150: 100%|██████████████████████████████████████████████████████████████| 27/27 [00:03<00:00,  8.64img/s]\n"
     ]
    },
    {
     "name": "stdout",
     "output_type": "stream",
     "text": [
      "\"\n",
      "        Epoch: 81, \n",
      "        Average Train Loss: 0.0770 \n",
      "        Average Test Loss: 0.0867 \n",
      "        Average Test mIoU: 84.67\n",
      "        Average Test Accuracy: 95.08934020996094 %\n"
     ]
    },
    {
     "name": "stderr",
     "output_type": "stream",
     "text": [
      "Train/Epoch 82/150: 100%|███████████████████████████████████████████████████████████| 104/104 [00:06<00:00, 15.44img/s]\n",
      "Eval/Epoch 82/150: 100%|██████████████████████████████████████████████████████████████| 27/27 [00:03<00:00,  8.68img/s]\n"
     ]
    },
    {
     "name": "stdout",
     "output_type": "stream",
     "text": [
      "\"\n",
      "        Epoch: 82, \n",
      "        Average Train Loss: 0.0776 \n",
      "        Average Test Loss: 0.0774 \n",
      "        Average Test mIoU: 86.80\n",
      "        Average Test Accuracy: 96.18657684326172 %\n",
      "Checkpoint: UNet_Segmentation_best is saved successfully\n"
     ]
    },
    {
     "name": "stderr",
     "output_type": "stream",
     "text": [
      "Train/Epoch 83/150: 100%|███████████████████████████████████████████████████████████| 104/104 [00:06<00:00, 15.15img/s]\n",
      "Eval/Epoch 83/150: 100%|██████████████████████████████████████████████████████████████| 27/27 [00:03<00:00,  8.81img/s]\n"
     ]
    },
    {
     "name": "stdout",
     "output_type": "stream",
     "text": [
      "\"\n",
      "        Epoch: 83, \n",
      "        Average Train Loss: 0.0728 \n",
      "        Average Test Loss: 0.0762 \n",
      "        Average Test mIoU: 87.23\n",
      "        Average Test Accuracy: 96.05903625488281 %\n",
      "Checkpoint: UNet_Segmentation_best is saved successfully\n"
     ]
    },
    {
     "name": "stderr",
     "output_type": "stream",
     "text": [
      "Train/Epoch 84/150: 100%|███████████████████████████████████████████████████████████| 104/104 [00:06<00:00, 15.33img/s]\n",
      "Eval/Epoch 84/150: 100%|██████████████████████████████████████████████████████████████| 27/27 [00:03<00:00,  8.73img/s]\n"
     ]
    },
    {
     "name": "stdout",
     "output_type": "stream",
     "text": [
      "\"\n",
      "        Epoch: 84, \n",
      "        Average Train Loss: 0.0757 \n",
      "        Average Test Loss: 0.0743 \n",
      "        Average Test mIoU: 86.94\n",
      "        Average Test Accuracy: 95.77344512939453 %\n"
     ]
    },
    {
     "name": "stderr",
     "output_type": "stream",
     "text": [
      "Train/Epoch 85/150: 100%|███████████████████████████████████████████████████████████| 104/104 [00:06<00:00, 15.15img/s]\n",
      "Eval/Epoch 85/150: 100%|██████████████████████████████████████████████████████████████| 27/27 [00:03<00:00,  8.59img/s]\n"
     ]
    },
    {
     "name": "stdout",
     "output_type": "stream",
     "text": [
      "\"\n",
      "        Epoch: 85, \n",
      "        Average Train Loss: 0.0708 \n",
      "        Average Test Loss: 0.0726 \n",
      "        Average Test mIoU: 87.58\n",
      "        Average Test Accuracy: 96.2762222290039 %\n",
      "Checkpoint: UNet_Segmentation_best is saved successfully\n"
     ]
    },
    {
     "name": "stderr",
     "output_type": "stream",
     "text": [
      "Train/Epoch 86/150: 100%|███████████████████████████████████████████████████████████| 104/104 [00:06<00:00, 15.37img/s]\n",
      "Eval/Epoch 86/150: 100%|██████████████████████████████████████████████████████████████| 27/27 [00:03<00:00,  8.55img/s]\n"
     ]
    },
    {
     "name": "stdout",
     "output_type": "stream",
     "text": [
      "\"\n",
      "        Epoch: 86, \n",
      "        Average Train Loss: 0.0695 \n",
      "        Average Test Loss: 0.0719 \n",
      "        Average Test mIoU: 87.62\n",
      "        Average Test Accuracy: 96.14169311523438 %\n",
      "Checkpoint: UNet_Segmentation_best is saved successfully\n"
     ]
    },
    {
     "name": "stderr",
     "output_type": "stream",
     "text": [
      "Train/Epoch 87/150: 100%|███████████████████████████████████████████████████████████| 104/104 [00:06<00:00, 15.47img/s]\n",
      "Eval/Epoch 87/150: 100%|██████████████████████████████████████████████████████████████| 27/27 [00:03<00:00,  8.68img/s]\n"
     ]
    },
    {
     "name": "stdout",
     "output_type": "stream",
     "text": [
      "\"\n",
      "        Epoch: 87, \n",
      "        Average Train Loss: 0.0706 \n",
      "        Average Test Loss: 0.0713 \n",
      "        Average Test mIoU: 87.82\n",
      "        Average Test Accuracy: 96.12274169921875 %\n",
      "Checkpoint: UNet_Segmentation_best is saved successfully\n"
     ]
    },
    {
     "name": "stderr",
     "output_type": "stream",
     "text": [
      "Train/Epoch 88/150: 100%|███████████████████████████████████████████████████████████| 104/104 [00:06<00:00, 15.44img/s]\n",
      "Eval/Epoch 88/150: 100%|██████████████████████████████████████████████████████████████| 27/27 [00:03<00:00,  8.68img/s]\n"
     ]
    },
    {
     "name": "stdout",
     "output_type": "stream",
     "text": [
      "\"\n",
      "        Epoch: 88, \n",
      "        Average Train Loss: 0.0719 \n",
      "        Average Test Loss: 0.0712 \n",
      "        Average Test mIoU: 87.87\n",
      "        Average Test Accuracy: 96.0088119506836 %\n",
      "Checkpoint: UNet_Segmentation_best is saved successfully\n"
     ]
    },
    {
     "name": "stderr",
     "output_type": "stream",
     "text": [
      "Train/Epoch 89/150: 100%|███████████████████████████████████████████████████████████| 104/104 [00:06<00:00, 15.51img/s]\n",
      "Eval/Epoch 89/150: 100%|██████████████████████████████████████████████████████████████| 27/27 [00:03<00:00,  8.68img/s]\n"
     ]
    },
    {
     "name": "stdout",
     "output_type": "stream",
     "text": [
      "\"\n",
      "        Epoch: 89, \n",
      "        Average Train Loss: 0.0675 \n",
      "        Average Test Loss: 0.0710 \n",
      "        Average Test mIoU: 88.02\n",
      "        Average Test Accuracy: 96.17411804199219 %\n",
      "Checkpoint: UNet_Segmentation_best is saved successfully\n"
     ]
    },
    {
     "name": "stderr",
     "output_type": "stream",
     "text": [
      "Train/Epoch 90/150: 100%|███████████████████████████████████████████████████████████| 104/104 [00:06<00:00, 15.44img/s]\n",
      "Eval/Epoch 90/150: 100%|██████████████████████████████████████████████████████████████| 27/27 [00:03<00:00,  8.68img/s]\n"
     ]
    },
    {
     "name": "stdout",
     "output_type": "stream",
     "text": [
      "\"\n",
      "        Epoch: 90, \n",
      "        Average Train Loss: 0.0631 \n",
      "        Average Test Loss: 0.0722 \n",
      "        Average Test mIoU: 87.46\n",
      "        Average Test Accuracy: 95.38714599609375 %\n"
     ]
    },
    {
     "name": "stderr",
     "output_type": "stream",
     "text": [
      "Train/Epoch 91/150: 100%|███████████████████████████████████████████████████████████| 104/104 [00:06<00:00, 15.51img/s]\n",
      "Eval/Epoch 91/150: 100%|██████████████████████████████████████████████████████████████| 27/27 [00:03<00:00,  8.77img/s]\n"
     ]
    },
    {
     "name": "stdout",
     "output_type": "stream",
     "text": [
      "\"\n",
      "        Epoch: 91, \n",
      "        Average Train Loss: 0.0692 \n",
      "        Average Test Loss: 0.0719 \n",
      "        Average Test mIoU: 87.43\n",
      "        Average Test Accuracy: 95.22985076904297 %\n"
     ]
    },
    {
     "name": "stderr",
     "output_type": "stream",
     "text": [
      "Train/Epoch 92/150: 100%|███████████████████████████████████████████████████████████| 104/104 [00:06<00:00, 15.48img/s]\n",
      "Eval/Epoch 92/150: 100%|██████████████████████████████████████████████████████████████| 27/27 [00:03<00:00,  8.68img/s]\n"
     ]
    },
    {
     "name": "stdout",
     "output_type": "stream",
     "text": [
      "\"\n",
      "        Epoch: 92, \n",
      "        Average Train Loss: 0.0670 \n",
      "        Average Test Loss: 0.0712 \n",
      "        Average Test mIoU: 87.64\n",
      "        Average Test Accuracy: 95.49980163574219 %\n"
     ]
    },
    {
     "name": "stderr",
     "output_type": "stream",
     "text": [
      "Train/Epoch 93/150: 100%|███████████████████████████████████████████████████████████| 104/104 [00:06<00:00, 15.26img/s]\n",
      "Eval/Epoch 93/150: 100%|██████████████████████████████████████████████████████████████| 27/27 [00:03<00:00,  8.51img/s]\n"
     ]
    },
    {
     "name": "stdout",
     "output_type": "stream",
     "text": [
      "\"\n",
      "        Epoch: 93, \n",
      "        Average Train Loss: 0.0702 \n",
      "        Average Test Loss: 0.0691 \n",
      "        Average Test mIoU: 88.09\n",
      "        Average Test Accuracy: 96.03284454345703 %\n",
      "Checkpoint: UNet_Segmentation_best is saved successfully\n"
     ]
    },
    {
     "name": "stderr",
     "output_type": "stream",
     "text": [
      "Train/Epoch 94/150: 100%|███████████████████████████████████████████████████████████| 104/104 [00:06<00:00, 15.51img/s]\n",
      "Eval/Epoch 94/150: 100%|██████████████████████████████████████████████████████████████| 27/27 [00:03<00:00,  8.68img/s]\n"
     ]
    },
    {
     "name": "stdout",
     "output_type": "stream",
     "text": [
      "\"\n",
      "        Epoch: 94, \n",
      "        Average Train Loss: 0.0626 \n",
      "        Average Test Loss: 0.0690 \n",
      "        Average Test mIoU: 88.16\n",
      "        Average Test Accuracy: 96.36268615722656 %\n",
      "Checkpoint: UNet_Segmentation_best is saved successfully\n"
     ]
    },
    {
     "name": "stderr",
     "output_type": "stream",
     "text": [
      "Train/Epoch 95/150: 100%|███████████████████████████████████████████████████████████| 104/104 [00:06<00:00, 15.48img/s]\n",
      "Eval/Epoch 95/150: 100%|██████████████████████████████████████████████████████████████| 27/27 [00:03<00:00,  8.35img/s]\n"
     ]
    },
    {
     "name": "stdout",
     "output_type": "stream",
     "text": [
      "\"\n",
      "        Epoch: 95, \n",
      "        Average Train Loss: 0.0659 \n",
      "        Average Test Loss: 0.0699 \n",
      "        Average Test mIoU: 87.93\n",
      "        Average Test Accuracy: 95.86219787597656 %\n"
     ]
    },
    {
     "name": "stderr",
     "output_type": "stream",
     "text": [
      "Train/Epoch 96/150: 100%|███████████████████████████████████████████████████████████| 104/104 [00:06<00:00, 15.12img/s]\n",
      "Eval/Epoch 96/150: 100%|██████████████████████████████████████████████████████████████| 27/27 [00:03<00:00,  8.81img/s]\n"
     ]
    },
    {
     "name": "stdout",
     "output_type": "stream",
     "text": [
      "\"\n",
      "        Epoch: 96, \n",
      "        Average Train Loss: 0.0669 \n",
      "        Average Test Loss: 0.0704 \n",
      "        Average Test mIoU: 88.04\n",
      "        Average Test Accuracy: 96.14041900634766 %\n"
     ]
    },
    {
     "name": "stderr",
     "output_type": "stream",
     "text": [
      "Train/Epoch 97/150: 100%|███████████████████████████████████████████████████████████| 104/104 [00:06<00:00, 15.51img/s]\n",
      "Eval/Epoch 97/150: 100%|██████████████████████████████████████████████████████████████| 27/27 [00:03<00:00,  8.77img/s]\n"
     ]
    },
    {
     "name": "stdout",
     "output_type": "stream",
     "text": [
      "\"\n",
      "        Epoch: 97, \n",
      "        Average Train Loss: 0.0669 \n",
      "        Average Test Loss: 0.0710 \n",
      "        Average Test mIoU: 87.96\n",
      "        Average Test Accuracy: 96.21086120605469 %\n"
     ]
    },
    {
     "name": "stderr",
     "output_type": "stream",
     "text": [
      "Train/Epoch 98/150: 100%|███████████████████████████████████████████████████████████| 104/104 [00:06<00:00, 15.51img/s]\n",
      "Eval/Epoch 98/150: 100%|██████████████████████████████████████████████████████████████| 27/27 [00:03<00:00,  8.68img/s]\n"
     ]
    },
    {
     "name": "stdout",
     "output_type": "stream",
     "text": [
      "\"\n",
      "        Epoch: 98, \n",
      "        Average Train Loss: 0.0631 \n",
      "        Average Test Loss: 0.0697 \n",
      "        Average Test mIoU: 88.22\n",
      "        Average Test Accuracy: 96.50968170166016 %\n",
      "Checkpoint: UNet_Segmentation_best is saved successfully\n"
     ]
    },
    {
     "name": "stderr",
     "output_type": "stream",
     "text": [
      "Train/Epoch 99/150: 100%|███████████████████████████████████████████████████████████| 104/104 [00:06<00:00, 15.54img/s]\n",
      "Eval/Epoch 99/150: 100%|██████████████████████████████████████████████████████████████| 27/27 [00:03<00:00,  8.77img/s]\n"
     ]
    },
    {
     "name": "stdout",
     "output_type": "stream",
     "text": [
      "\"\n",
      "        Epoch: 99, \n",
      "        Average Train Loss: 0.0664 \n",
      "        Average Test Loss: 0.0690 \n",
      "        Average Test mIoU: 88.33\n",
      "        Average Test Accuracy: 96.41647338867188 %\n",
      "Checkpoint: UNet_Segmentation_best is saved successfully\n"
     ]
    },
    {
     "name": "stderr",
     "output_type": "stream",
     "text": [
      "Train/Epoch 100/150: 100%|██████████████████████████████████████████████████████████| 104/104 [00:06<00:00, 15.44img/s]\n",
      "Eval/Epoch 100/150: 100%|█████████████████████████████████████████████████████████████| 27/27 [00:03<00:00,  8.59img/s]\n"
     ]
    },
    {
     "name": "stdout",
     "output_type": "stream",
     "text": [
      "\"\n",
      "        Epoch: 100, \n",
      "        Average Train Loss: 0.0618 \n",
      "        Average Test Loss: 0.0709 \n",
      "        Average Test mIoU: 87.79\n",
      "        Average Test Accuracy: 95.760986328125 %\n"
     ]
    },
    {
     "name": "stderr",
     "output_type": "stream",
     "text": [
      "Train/Epoch 101/150: 100%|██████████████████████████████████████████████████████████| 104/104 [00:06<00:00, 15.51img/s]\n",
      "Eval/Epoch 101/150: 100%|█████████████████████████████████████████████████████████████| 27/27 [00:03<00:00,  8.68img/s]\n"
     ]
    },
    {
     "name": "stdout",
     "output_type": "stream",
     "text": [
      "\"\n",
      "        Epoch: 101, \n",
      "        Average Train Loss: 0.0644 \n",
      "        Average Test Loss: 0.0703 \n",
      "        Average Test mIoU: 88.12\n",
      "        Average Test Accuracy: 96.44686889648438 %\n"
     ]
    },
    {
     "name": "stderr",
     "output_type": "stream",
     "text": [
      "Train/Epoch 102/150: 100%|██████████████████████████████████████████████████████████| 104/104 [00:06<00:00, 15.47img/s]\n",
      "Eval/Epoch 102/150: 100%|█████████████████████████████████████████████████████████████| 27/27 [00:03<00:00,  8.68img/s]\n"
     ]
    },
    {
     "name": "stdout",
     "output_type": "stream",
     "text": [
      "\"\n",
      "        Epoch: 102, \n",
      "        Average Train Loss: 0.0612 \n",
      "        Average Test Loss: 0.0696 \n",
      "        Average Test mIoU: 88.07\n",
      "        Average Test Accuracy: 96.50077819824219 %\n"
     ]
    },
    {
     "name": "stderr",
     "output_type": "stream",
     "text": [
      "Train/Epoch 103/150: 100%|██████████████████████████████████████████████████████████| 104/104 [00:06<00:00, 15.51img/s]\n",
      "Eval/Epoch 103/150: 100%|█████████████████████████████████████████████████████████████| 27/27 [00:03<00:00,  8.63img/s]\n"
     ]
    },
    {
     "name": "stdout",
     "output_type": "stream",
     "text": [
      "\"\n",
      "        Epoch: 103, \n",
      "        Average Train Loss: 0.0649 \n",
      "        Average Test Loss: 0.0721 \n",
      "        Average Test mIoU: 87.40\n",
      "        Average Test Accuracy: 95.85164642333984 %\n"
     ]
    },
    {
     "name": "stderr",
     "output_type": "stream",
     "text": [
      "Train/Epoch 104/150: 100%|██████████████████████████████████████████████████████████| 104/104 [00:06<00:00, 15.51img/s]\n",
      "Eval/Epoch 104/150: 100%|█████████████████████████████████████████████████████████████| 27/27 [00:03<00:00,  8.68img/s]\n"
     ]
    },
    {
     "name": "stdout",
     "output_type": "stream",
     "text": [
      "\"\n",
      "        Epoch: 104, \n",
      "        Average Train Loss: 0.0631 \n",
      "        Average Test Loss: 0.0702 \n",
      "        Average Test mIoU: 88.00\n",
      "        Average Test Accuracy: 96.04708862304688 %\n"
     ]
    },
    {
     "name": "stderr",
     "output_type": "stream",
     "text": [
      "Train/Epoch 105/150: 100%|██████████████████████████████████████████████████████████| 104/104 [00:06<00:00, 15.51img/s]\n",
      "Eval/Epoch 105/150: 100%|█████████████████████████████████████████████████████████████| 27/27 [00:03<00:00,  8.64img/s]\n"
     ]
    },
    {
     "name": "stdout",
     "output_type": "stream",
     "text": [
      "\"\n",
      "        Epoch: 105, \n",
      "        Average Train Loss: 0.0700 \n",
      "        Average Test Loss: 0.0698 \n",
      "        Average Test mIoU: 87.99\n",
      "        Average Test Accuracy: 95.69282531738281 %\n"
     ]
    },
    {
     "name": "stderr",
     "output_type": "stream",
     "text": [
      "Train/Epoch 106/150: 100%|██████████████████████████████████████████████████████████| 104/104 [00:06<00:00, 15.51img/s]\n",
      "Eval/Epoch 106/150: 100%|█████████████████████████████████████████████████████████████| 27/27 [00:03<00:00,  8.26img/s]\n"
     ]
    },
    {
     "name": "stdout",
     "output_type": "stream",
     "text": [
      "\"\n",
      "        Epoch: 106, \n",
      "        Average Train Loss: 0.0660 \n",
      "        Average Test Loss: 0.0704 \n",
      "        Average Test mIoU: 87.87\n",
      "        Average Test Accuracy: 95.87567901611328 %\n"
     ]
    },
    {
     "name": "stderr",
     "output_type": "stream",
     "text": [
      "Train/Epoch 107/150: 100%|██████████████████████████████████████████████████████████| 104/104 [00:06<00:00, 15.55img/s]\n",
      "Eval/Epoch 107/150: 100%|█████████████████████████████████████████████████████████████| 27/27 [00:03<00:00,  8.72img/s]\n"
     ]
    },
    {
     "name": "stdout",
     "output_type": "stream",
     "text": [
      "\"\n",
      "        Epoch: 107, \n",
      "        Average Train Loss: 0.0627 \n",
      "        Average Test Loss: 0.0709 \n",
      "        Average Test mIoU: 87.66\n",
      "        Average Test Accuracy: 95.41091918945312 %\n"
     ]
    },
    {
     "name": "stderr",
     "output_type": "stream",
     "text": [
      "Train/Epoch 108/150: 100%|██████████████████████████████████████████████████████████| 104/104 [00:06<00:00, 15.34img/s]\n",
      "Eval/Epoch 108/150: 100%|█████████████████████████████████████████████████████████████| 27/27 [00:03<00:00,  8.72img/s]\n"
     ]
    },
    {
     "name": "stdout",
     "output_type": "stream",
     "text": [
      "\"\n",
      "        Epoch: 108, \n",
      "        Average Train Loss: 0.0584 \n",
      "        Average Test Loss: 0.0712 \n",
      "        Average Test mIoU: 87.79\n",
      "        Average Test Accuracy: 95.50590515136719 %\n"
     ]
    },
    {
     "name": "stderr",
     "output_type": "stream",
     "text": [
      "Train/Epoch 109/150: 100%|██████████████████████████████████████████████████████████| 104/104 [00:06<00:00, 15.51img/s]\n",
      "Eval/Epoch 109/150: 100%|█████████████████████████████████████████████████████████████| 27/27 [00:03<00:00,  8.68img/s]\n"
     ]
    },
    {
     "name": "stdout",
     "output_type": "stream",
     "text": [
      "\"\n",
      "        Epoch: 109, \n",
      "        Average Train Loss: 0.0620 \n",
      "        Average Test Loss: 0.0712 \n",
      "        Average Test mIoU: 88.13\n",
      "        Average Test Accuracy: 96.58673858642578 %\n"
     ]
    },
    {
     "name": "stderr",
     "output_type": "stream",
     "text": [
      "Train/Epoch 110/150: 100%|██████████████████████████████████████████████████████████| 104/104 [00:06<00:00, 15.41img/s]\n",
      "Eval/Epoch 110/150: 100%|█████████████████████████████████████████████████████████████| 27/27 [00:03<00:00,  8.51img/s]\n"
     ]
    },
    {
     "name": "stdout",
     "output_type": "stream",
     "text": [
      "\"\n",
      "        Epoch: 110, \n",
      "        Average Train Loss: 0.0621 \n",
      "        Average Test Loss: 0.0708 \n",
      "        Average Test mIoU: 88.22\n",
      "        Average Test Accuracy: 96.70919036865234 %\n"
     ]
    },
    {
     "name": "stderr",
     "output_type": "stream",
     "text": [
      "Train/Epoch 111/150: 100%|██████████████████████████████████████████████████████████| 104/104 [00:06<00:00, 15.51img/s]\n",
      "Eval/Epoch 111/150: 100%|█████████████████████████████████████████████████████████████| 27/27 [00:03<00:00,  8.68img/s]\n"
     ]
    },
    {
     "name": "stdout",
     "output_type": "stream",
     "text": [
      "\"\n",
      "        Epoch: 111, \n",
      "        Average Train Loss: 0.0588 \n",
      "        Average Test Loss: 0.0700 \n",
      "        Average Test mIoU: 88.41\n",
      "        Average Test Accuracy: 96.56893920898438 %\n",
      "Checkpoint: UNet_Segmentation_best is saved successfully\n"
     ]
    },
    {
     "name": "stderr",
     "output_type": "stream",
     "text": [
      "Train/Epoch 112/150: 100%|██████████████████████████████████████████████████████████| 104/104 [00:06<00:00, 15.33img/s]\n",
      "Eval/Epoch 112/150: 100%|█████████████████████████████████████████████████████████████| 27/27 [00:03<00:00,  8.86img/s]\n"
     ]
    },
    {
     "name": "stdout",
     "output_type": "stream",
     "text": [
      "\"\n",
      "        Epoch: 112, \n",
      "        Average Train Loss: 0.0670 \n",
      "        Average Test Loss: 0.0698 \n",
      "        Average Test mIoU: 88.33\n",
      "        Average Test Accuracy: 96.52659606933594 %\n"
     ]
    },
    {
     "name": "stderr",
     "output_type": "stream",
     "text": [
      "Train/Epoch 113/150: 100%|██████████████████████████████████████████████████████████| 104/104 [00:06<00:00, 15.55img/s]\n",
      "Eval/Epoch 113/150: 100%|█████████████████████████████████████████████████████████████| 27/27 [00:03<00:00,  8.72img/s]\n"
     ]
    },
    {
     "name": "stdout",
     "output_type": "stream",
     "text": [
      "\"\n",
      "        Epoch: 113, \n",
      "        Average Train Loss: 0.0678 \n",
      "        Average Test Loss: 0.0693 \n",
      "        Average Test mIoU: 88.03\n",
      "        Average Test Accuracy: 96.39918518066406 %\n"
     ]
    },
    {
     "name": "stderr",
     "output_type": "stream",
     "text": [
      "Train/Epoch 114/150: 100%|██████████████████████████████████████████████████████████| 104/104 [00:06<00:00, 15.51img/s]\n",
      "Eval/Epoch 114/150: 100%|█████████████████████████████████████████████████████████████| 27/27 [00:03<00:00,  8.72img/s]\n"
     ]
    },
    {
     "name": "stdout",
     "output_type": "stream",
     "text": [
      "\"\n",
      "        Epoch: 114, \n",
      "        Average Train Loss: 0.0628 \n",
      "        Average Test Loss: 0.0711 \n",
      "        Average Test mIoU: 87.59\n",
      "        Average Test Accuracy: 95.82965087890625 %\n"
     ]
    },
    {
     "name": "stderr",
     "output_type": "stream",
     "text": [
      "Train/Epoch 115/150: 100%|██████████████████████████████████████████████████████████| 104/104 [00:06<00:00, 15.51img/s]\n",
      "Eval/Epoch 115/150: 100%|█████████████████████████████████████████████████████████████| 27/27 [00:03<00:00,  8.68img/s]\n"
     ]
    },
    {
     "name": "stdout",
     "output_type": "stream",
     "text": [
      "\"\n",
      "        Epoch: 115, \n",
      "        Average Train Loss: 0.0651 \n",
      "        Average Test Loss: 0.0707 \n",
      "        Average Test mIoU: 88.01\n",
      "        Average Test Accuracy: 96.53485870361328 %\n"
     ]
    },
    {
     "name": "stderr",
     "output_type": "stream",
     "text": [
      "Train/Epoch 116/150: 100%|██████████████████████████████████████████████████████████| 104/104 [00:06<00:00, 15.44img/s]\n",
      "Eval/Epoch 116/150: 100%|█████████████████████████████████████████████████████████████| 27/27 [00:03<00:00,  8.77img/s]\n"
     ]
    },
    {
     "name": "stdout",
     "output_type": "stream",
     "text": [
      "\"\n",
      "        Epoch: 116, \n",
      "        Average Train Loss: 0.0640 \n",
      "        Average Test Loss: 0.0697 \n",
      "        Average Test mIoU: 88.32\n",
      "        Average Test Accuracy: 96.54960632324219 %\n"
     ]
    },
    {
     "name": "stderr",
     "output_type": "stream",
     "text": [
      "Train/Epoch 117/150: 100%|██████████████████████████████████████████████████████████| 104/104 [00:06<00:00, 15.29img/s]\n",
      "Eval/Epoch 117/150: 100%|█████████████████████████████████████████████████████████████| 27/27 [00:03<00:00,  8.55img/s]\n"
     ]
    },
    {
     "name": "stdout",
     "output_type": "stream",
     "text": [
      "\"\n",
      "        Epoch: 117, \n",
      "        Average Train Loss: 0.0637 \n",
      "        Average Test Loss: 0.0716 \n",
      "        Average Test mIoU: 87.85\n",
      "        Average Test Accuracy: 95.83956909179688 %\n"
     ]
    },
    {
     "name": "stderr",
     "output_type": "stream",
     "text": [
      "Train/Epoch 118/150: 100%|██████████████████████████████████████████████████████████| 104/104 [00:06<00:00, 15.47img/s]\n",
      "Eval/Epoch 118/150: 100%|█████████████████████████████████████████████████████████████| 27/27 [00:03<00:00,  8.77img/s]\n"
     ]
    },
    {
     "name": "stdout",
     "output_type": "stream",
     "text": [
      "\"\n",
      "        Epoch: 118, \n",
      "        Average Train Loss: 0.0618 \n",
      "        Average Test Loss: 0.0711 \n",
      "        Average Test mIoU: 87.81\n",
      "        Average Test Accuracy: 96.17080688476562 %\n"
     ]
    },
    {
     "name": "stderr",
     "output_type": "stream",
     "text": [
      "Train/Epoch 119/150: 100%|██████████████████████████████████████████████████████████| 104/104 [00:06<00:00, 15.47img/s]\n",
      "Eval/Epoch 119/150: 100%|█████████████████████████████████████████████████████████████| 27/27 [00:03<00:00,  8.77img/s]\n"
     ]
    },
    {
     "name": "stdout",
     "output_type": "stream",
     "text": [
      "\"\n",
      "        Epoch: 119, \n",
      "        Average Train Loss: 0.0595 \n",
      "        Average Test Loss: 0.0706 \n",
      "        Average Test mIoU: 87.92\n",
      "        Average Test Accuracy: 95.89614868164062 %\n"
     ]
    },
    {
     "name": "stderr",
     "output_type": "stream",
     "text": [
      "Train/Epoch 120/150: 100%|██████████████████████████████████████████████████████████| 104/104 [00:06<00:00, 15.47img/s]\n",
      "Eval/Epoch 120/150: 100%|█████████████████████████████████████████████████████████████| 27/27 [00:03<00:00,  8.72img/s]\n"
     ]
    },
    {
     "name": "stdout",
     "output_type": "stream",
     "text": [
      "\"\n",
      "        Epoch: 120, \n",
      "        Average Train Loss: 0.0635 \n",
      "        Average Test Loss: 0.0698 \n",
      "        Average Test mIoU: 88.26\n",
      "        Average Test Accuracy: 96.41075134277344 %\n"
     ]
    },
    {
     "name": "stderr",
     "output_type": "stream",
     "text": [
      "Train/Epoch 121/150: 100%|██████████████████████████████████████████████████████████| 104/104 [00:06<00:00, 15.43img/s]\n",
      "Eval/Epoch 121/150: 100%|█████████████████████████████████████████████████████████████| 27/27 [00:03<00:00,  8.77img/s]\n"
     ]
    },
    {
     "name": "stdout",
     "output_type": "stream",
     "text": [
      "\"\n",
      "        Epoch: 121, \n",
      "        Average Train Loss: 0.0604 \n",
      "        Average Test Loss: 0.0700 \n",
      "        Average Test mIoU: 88.37\n",
      "        Average Test Accuracy: 96.578857421875 %\n"
     ]
    },
    {
     "name": "stderr",
     "output_type": "stream",
     "text": [
      "Train/Epoch 122/150: 100%|██████████████████████████████████████████████████████████| 104/104 [00:06<00:00, 15.44img/s]\n",
      "Eval/Epoch 122/150: 100%|█████████████████████████████████████████████████████████████| 27/27 [00:03<00:00,  8.77img/s]\n"
     ]
    },
    {
     "name": "stdout",
     "output_type": "stream",
     "text": [
      "\"\n",
      "        Epoch: 122, \n",
      "        Average Train Loss: 0.0611 \n",
      "        Average Test Loss: 0.0698 \n",
      "        Average Test mIoU: 88.38\n",
      "        Average Test Accuracy: 96.54998779296875 %\n"
     ]
    },
    {
     "name": "stderr",
     "output_type": "stream",
     "text": [
      "Train/Epoch 123/150: 100%|██████████████████████████████████████████████████████████| 104/104 [00:06<00:00, 15.40img/s]\n",
      "Eval/Epoch 123/150: 100%|█████████████████████████████████████████████████████████████| 27/27 [00:03<00:00,  8.73img/s]\n"
     ]
    },
    {
     "name": "stdout",
     "output_type": "stream",
     "text": [
      "\"\n",
      "        Epoch: 123, \n",
      "        Average Train Loss: 0.0612 \n",
      "        Average Test Loss: 0.0695 \n",
      "        Average Test mIoU: 88.42\n",
      "        Average Test Accuracy: 96.58317565917969 %\n",
      "Checkpoint: UNet_Segmentation_best is saved successfully\n"
     ]
    },
    {
     "name": "stderr",
     "output_type": "stream",
     "text": [
      "Train/Epoch 124/150: 100%|██████████████████████████████████████████████████████████| 104/104 [00:06<00:00, 15.40img/s]\n",
      "Eval/Epoch 124/150: 100%|█████████████████████████████████████████████████████████████| 27/27 [00:03<00:00,  8.68img/s]\n"
     ]
    },
    {
     "name": "stdout",
     "output_type": "stream",
     "text": [
      "\"\n",
      "        Epoch: 124, \n",
      "        Average Train Loss: 0.0645 \n",
      "        Average Test Loss: 0.0694 \n",
      "        Average Test mIoU: 88.42\n",
      "        Average Test Accuracy: 96.4818344116211 %\n",
      "Checkpoint: UNet_Segmentation_best is saved successfully\n"
     ]
    },
    {
     "name": "stderr",
     "output_type": "stream",
     "text": [
      "Train/Epoch 125/150: 100%|██████████████████████████████████████████████████████████| 104/104 [00:06<00:00, 15.37img/s]\n",
      "Eval/Epoch 125/150: 100%|█████████████████████████████████████████████████████████████| 27/27 [00:03<00:00,  8.68img/s]\n"
     ]
    },
    {
     "name": "stdout",
     "output_type": "stream",
     "text": [
      "\"\n",
      "        Epoch: 125, \n",
      "        Average Train Loss: 0.0618 \n",
      "        Average Test Loss: 0.0698 \n",
      "        Average Test mIoU: 88.39\n",
      "        Average Test Accuracy: 96.4757308959961 %\n"
     ]
    },
    {
     "name": "stderr",
     "output_type": "stream",
     "text": [
      "Train/Epoch 126/150: 100%|██████████████████████████████████████████████████████████| 104/104 [00:06<00:00, 15.51img/s]\n",
      "Eval/Epoch 126/150: 100%|█████████████████████████████████████████████████████████████| 27/27 [00:03<00:00,  8.73img/s]\n"
     ]
    },
    {
     "name": "stdout",
     "output_type": "stream",
     "text": [
      "\"\n",
      "        Epoch: 126, \n",
      "        Average Train Loss: 0.0629 \n",
      "        Average Test Loss: 0.0695 \n",
      "        Average Test mIoU: 88.40\n",
      "        Average Test Accuracy: 96.43402099609375 %\n"
     ]
    },
    {
     "name": "stderr",
     "output_type": "stream",
     "text": [
      "Train/Epoch 127/150: 100%|██████████████████████████████████████████████████████████| 104/104 [00:06<00:00, 15.19img/s]\n",
      "Eval/Epoch 127/150: 100%|█████████████████████████████████████████████████████████████| 27/27 [00:03<00:00,  8.55img/s]\n"
     ]
    },
    {
     "name": "stdout",
     "output_type": "stream",
     "text": [
      "\"\n",
      "        Epoch: 127, \n",
      "        Average Train Loss: 0.0608 \n",
      "        Average Test Loss: 0.0694 \n",
      "        Average Test mIoU: 88.41\n",
      "        Average Test Accuracy: 96.41825866699219 %\n"
     ]
    },
    {
     "name": "stderr",
     "output_type": "stream",
     "text": [
      "Train/Epoch 128/150: 100%|██████████████████████████████████████████████████████████| 104/104 [00:06<00:00, 15.51img/s]\n",
      "Eval/Epoch 128/150: 100%|█████████████████████████████████████████████████████████████| 27/27 [00:03<00:00,  8.68img/s]\n"
     ]
    },
    {
     "name": "stdout",
     "output_type": "stream",
     "text": [
      "\"\n",
      "        Epoch: 128, \n",
      "        Average Train Loss: 0.0558 \n",
      "        Average Test Loss: 0.0692 \n",
      "        Average Test mIoU: 88.36\n",
      "        Average Test Accuracy: 96.24583435058594 %\n"
     ]
    },
    {
     "name": "stderr",
     "output_type": "stream",
     "text": [
      "Train/Epoch 129/150: 100%|██████████████████████████████████████████████████████████| 104/104 [00:06<00:00, 15.46img/s]\n",
      "Eval/Epoch 129/150: 100%|█████████████████████████████████████████████████████████████| 27/27 [00:03<00:00,  8.72img/s]\n"
     ]
    },
    {
     "name": "stdout",
     "output_type": "stream",
     "text": [
      "\"\n",
      "        Epoch: 129, \n",
      "        Average Train Loss: 0.0608 \n",
      "        Average Test Loss: 0.0692 \n",
      "        Average Test mIoU: 88.45\n",
      "        Average Test Accuracy: 96.41278839111328 %\n",
      "Checkpoint: UNet_Segmentation_best is saved successfully\n"
     ]
    },
    {
     "name": "stderr",
     "output_type": "stream",
     "text": [
      "Train/Epoch 130/150: 100%|██████████████████████████████████████████████████████████| 104/104 [00:06<00:00, 15.40img/s]\n",
      "Eval/Epoch 130/150: 100%|█████████████████████████████████████████████████████████████| 27/27 [00:03<00:00,  8.77img/s]\n"
     ]
    },
    {
     "name": "stdout",
     "output_type": "stream",
     "text": [
      "\"\n",
      "        Epoch: 130, \n",
      "        Average Train Loss: 0.0644 \n",
      "        Average Test Loss: 0.0694 \n",
      "        Average Test mIoU: 88.42\n",
      "        Average Test Accuracy: 96.46886444091797 %\n"
     ]
    },
    {
     "name": "stderr",
     "output_type": "stream",
     "text": [
      "Train/Epoch 131/150: 100%|██████████████████████████████████████████████████████████| 104/104 [00:06<00:00, 15.44img/s]\n",
      "Eval/Epoch 131/150: 100%|█████████████████████████████████████████████████████████████| 27/27 [00:03<00:00,  8.72img/s]\n"
     ]
    },
    {
     "name": "stdout",
     "output_type": "stream",
     "text": [
      "\"\n",
      "        Epoch: 131, \n",
      "        Average Train Loss: 0.0582 \n",
      "        Average Test Loss: 0.0692 \n",
      "        Average Test mIoU: 88.42\n",
      "        Average Test Accuracy: 96.42066955566406 %\n"
     ]
    },
    {
     "name": "stderr",
     "output_type": "stream",
     "text": [
      "Train/Epoch 132/150: 100%|██████████████████████████████████████████████████████████| 104/104 [00:06<00:00, 15.44img/s]\n",
      "Eval/Epoch 132/150: 100%|█████████████████████████████████████████████████████████████| 27/27 [00:03<00:00,  8.77img/s]\n"
     ]
    },
    {
     "name": "stdout",
     "output_type": "stream",
     "text": [
      "\"\n",
      "        Epoch: 132, \n",
      "        Average Train Loss: 0.0590 \n",
      "        Average Test Loss: 0.0694 \n",
      "        Average Test mIoU: 88.37\n",
      "        Average Test Accuracy: 96.42003631591797 %\n"
     ]
    },
    {
     "name": "stderr",
     "output_type": "stream",
     "text": [
      "Train/Epoch 133/150: 100%|██████████████████████████████████████████████████████████| 104/104 [00:06<00:00, 15.44img/s]\n",
      "Eval/Epoch 133/150: 100%|█████████████████████████████████████████████████████████████| 27/27 [00:03<00:00,  8.72img/s]\n"
     ]
    },
    {
     "name": "stdout",
     "output_type": "stream",
     "text": [
      "\"\n",
      "        Epoch: 133, \n",
      "        Average Train Loss: 0.0621 \n",
      "        Average Test Loss: 0.0696 \n",
      "        Average Test mIoU: 88.37\n",
      "        Average Test Accuracy: 96.47929382324219 %\n"
     ]
    },
    {
     "name": "stderr",
     "output_type": "stream",
     "text": [
      "Train/Epoch 134/150: 100%|██████████████████████████████████████████████████████████| 104/104 [00:06<00:00, 15.47img/s]\n",
      "Eval/Epoch 134/150: 100%|█████████████████████████████████████████████████████████████| 27/27 [00:03<00:00,  8.81img/s]\n"
     ]
    },
    {
     "name": "stdout",
     "output_type": "stream",
     "text": [
      "\"\n",
      "        Epoch: 134, \n",
      "        Average Train Loss: 0.0569 \n",
      "        Average Test Loss: 0.0693 \n",
      "        Average Test mIoU: 88.40\n",
      "        Average Test Accuracy: 96.45564270019531 %\n"
     ]
    },
    {
     "name": "stderr",
     "output_type": "stream",
     "text": [
      "Train/Epoch 135/150: 100%|██████████████████████████████████████████████████████████| 104/104 [00:06<00:00, 15.47img/s]\n",
      "Eval/Epoch 135/150: 100%|█████████████████████████████████████████████████████████████| 27/27 [00:03<00:00,  8.72img/s]\n"
     ]
    },
    {
     "name": "stdout",
     "output_type": "stream",
     "text": [
      "\"\n",
      "        Epoch: 135, \n",
      "        Average Train Loss: 0.0608 \n",
      "        Average Test Loss: 0.0695 \n",
      "        Average Test mIoU: 88.39\n",
      "        Average Test Accuracy: 96.48081970214844 %\n"
     ]
    },
    {
     "name": "stderr",
     "output_type": "stream",
     "text": [
      "Train/Epoch 136/150: 100%|██████████████████████████████████████████████████████████| 104/104 [00:06<00:00, 15.40img/s]\n",
      "Eval/Epoch 136/150: 100%|█████████████████████████████████████████████████████████████| 27/27 [00:03<00:00,  8.72img/s]\n"
     ]
    },
    {
     "name": "stdout",
     "output_type": "stream",
     "text": [
      "\"\n",
      "        Epoch: 136, \n",
      "        Average Train Loss: 0.0584 \n",
      "        Average Test Loss: 0.0694 \n",
      "        Average Test mIoU: 88.34\n",
      "        Average Test Accuracy: 96.42041778564453 %\n"
     ]
    },
    {
     "name": "stderr",
     "output_type": "stream",
     "text": [
      "Train/Epoch 137/150: 100%|██████████████████████████████████████████████████████████| 104/104 [00:06<00:00, 15.40img/s]\n",
      "Eval/Epoch 137/150: 100%|█████████████████████████████████████████████████████████████| 27/27 [00:03<00:00,  8.72img/s]\n"
     ]
    },
    {
     "name": "stdout",
     "output_type": "stream",
     "text": [
      "\"\n",
      "        Epoch: 137, \n",
      "        Average Train Loss: 0.0596 \n",
      "        Average Test Loss: 0.0693 \n",
      "        Average Test mIoU: 88.39\n",
      "        Average Test Accuracy: 96.42092895507812 %\n"
     ]
    },
    {
     "name": "stderr",
     "output_type": "stream",
     "text": [
      "Train/Epoch 138/150: 100%|██████████████████████████████████████████████████████████| 104/104 [00:06<00:00, 15.36img/s]\n",
      "Eval/Epoch 138/150: 100%|█████████████████████████████████████████████████████████████| 27/27 [00:03<00:00,  8.72img/s]\n"
     ]
    },
    {
     "name": "stdout",
     "output_type": "stream",
     "text": [
      "\"\n",
      "        Epoch: 138, \n",
      "        Average Train Loss: 0.0603 \n",
      "        Average Test Loss: 0.0692 \n",
      "        Average Test mIoU: 88.40\n",
      "        Average Test Accuracy: 96.38774108886719 %\n"
     ]
    },
    {
     "name": "stderr",
     "output_type": "stream",
     "text": [
      "Train/Epoch 139/150: 100%|██████████████████████████████████████████████████████████| 104/104 [00:07<00:00, 14.03img/s]\n",
      "Eval/Epoch 139/150: 100%|█████████████████████████████████████████████████████████████| 27/27 [00:05<00:00,  4.72img/s]\n"
     ]
    },
    {
     "name": "stdout",
     "output_type": "stream",
     "text": [
      "\"\n",
      "        Epoch: 139, \n",
      "        Average Train Loss: 0.0651 \n",
      "        Average Test Loss: 0.0694 \n",
      "        Average Test mIoU: 88.40\n",
      "        Average Test Accuracy: 96.36878967285156 %\n"
     ]
    },
    {
     "name": "stderr",
     "output_type": "stream",
     "text": [
      "Train/Epoch 140/150: 100%|██████████████████████████████████████████████████████████| 104/104 [00:06<00:00, 15.26img/s]\n",
      "Eval/Epoch 140/150: 100%|█████████████████████████████████████████████████████████████| 27/27 [00:03<00:00,  8.72img/s]\n"
     ]
    },
    {
     "name": "stdout",
     "output_type": "stream",
     "text": [
      "\"\n",
      "        Epoch: 140, \n",
      "        Average Train Loss: 0.0637 \n",
      "        Average Test Loss: 0.0694 \n",
      "        Average Test mIoU: 88.40\n",
      "        Average Test Accuracy: 96.39460754394531 %\n"
     ]
    },
    {
     "name": "stderr",
     "output_type": "stream",
     "text": [
      "Train/Epoch 141/150: 100%|██████████████████████████████████████████████████████████| 104/104 [00:06<00:00, 15.36img/s]\n",
      "Eval/Epoch 141/150: 100%|█████████████████████████████████████████████████████████████| 27/27 [00:03<00:00,  8.64img/s]\n"
     ]
    },
    {
     "name": "stdout",
     "output_type": "stream",
     "text": [
      "\"\n",
      "        Epoch: 141, \n",
      "        Average Train Loss: 0.0612 \n",
      "        Average Test Loss: 0.0691 \n",
      "        Average Test mIoU: 88.38\n",
      "        Average Test Accuracy: 96.36981201171875 %\n"
     ]
    },
    {
     "name": "stderr",
     "output_type": "stream",
     "text": [
      "Train/Epoch 142/150: 100%|██████████████████████████████████████████████████████████| 104/104 [00:06<00:00, 15.40img/s]\n",
      "Eval/Epoch 142/150: 100%|█████████████████████████████████████████████████████████████| 27/27 [00:03<00:00,  8.73img/s]\n"
     ]
    },
    {
     "name": "stdout",
     "output_type": "stream",
     "text": [
      "\"\n",
      "        Epoch: 142, \n",
      "        Average Train Loss: 0.0582 \n",
      "        Average Test Loss: 0.0690 \n",
      "        Average Test mIoU: 88.35\n",
      "        Average Test Accuracy: 96.28131103515625 %\n"
     ]
    },
    {
     "name": "stderr",
     "output_type": "stream",
     "text": [
      "Train/Epoch 143/150: 100%|██████████████████████████████████████████████████████████| 104/104 [00:06<00:00, 15.44img/s]\n",
      "Eval/Epoch 143/150: 100%|█████████████████████████████████████████████████████████████| 27/27 [00:03<00:00,  8.72img/s]\n"
     ]
    },
    {
     "name": "stdout",
     "output_type": "stream",
     "text": [
      "\"\n",
      "        Epoch: 143, \n",
      "        Average Train Loss: 0.0575 \n",
      "        Average Test Loss: 0.0690 \n",
      "        Average Test mIoU: 88.31\n",
      "        Average Test Accuracy: 96.19357299804688 %\n"
     ]
    },
    {
     "name": "stderr",
     "output_type": "stream",
     "text": [
      "Train/Epoch 144/150: 100%|██████████████████████████████████████████████████████████| 104/104 [00:06<00:00, 15.44img/s]\n",
      "Eval/Epoch 144/150: 100%|█████████████████████████████████████████████████████████████| 27/27 [00:03<00:00,  8.72img/s]\n"
     ]
    },
    {
     "name": "stdout",
     "output_type": "stream",
     "text": [
      "\"\n",
      "        Epoch: 144, \n",
      "        Average Train Loss: 0.0602 \n",
      "        Average Test Loss: 0.0690 \n",
      "        Average Test mIoU: 88.40\n",
      "        Average Test Accuracy: 96.37069702148438 %\n"
     ]
    },
    {
     "name": "stderr",
     "output_type": "stream",
     "text": [
      "Train/Epoch 145/150: 100%|██████████████████████████████████████████████████████████| 104/104 [00:06<00:00, 15.51img/s]\n",
      "Eval/Epoch 145/150: 100%|█████████████████████████████████████████████████████████████| 27/27 [00:03<00:00,  8.68img/s]\n"
     ]
    },
    {
     "name": "stdout",
     "output_type": "stream",
     "text": [
      "\"\n",
      "        Epoch: 145, \n",
      "        Average Train Loss: 0.0519 \n",
      "        Average Test Loss: 0.0686 \n",
      "        Average Test mIoU: 88.41\n",
      "        Average Test Accuracy: 96.35874938964844 %\n"
     ]
    },
    {
     "name": "stderr",
     "output_type": "stream",
     "text": [
      "Train/Epoch 146/150: 100%|██████████████████████████████████████████████████████████| 104/104 [00:06<00:00, 15.47img/s]\n",
      "Eval/Epoch 146/150: 100%|█████████████████████████████████████████████████████████████| 27/27 [00:03<00:00,  8.72img/s]\n"
     ]
    },
    {
     "name": "stdout",
     "output_type": "stream",
     "text": [
      "\"\n",
      "        Epoch: 146, \n",
      "        Average Train Loss: 0.0573 \n",
      "        Average Test Loss: 0.0688 \n",
      "        Average Test mIoU: 88.39\n",
      "        Average Test Accuracy: 96.34730529785156 %\n"
     ]
    },
    {
     "name": "stderr",
     "output_type": "stream",
     "text": [
      "Train/Epoch 147/150: 100%|██████████████████████████████████████████████████████████| 104/104 [00:06<00:00, 15.51img/s]\n",
      "Eval/Epoch 147/150: 100%|█████████████████████████████████████████████████████████████| 27/27 [00:03<00:00,  8.72img/s]\n"
     ]
    },
    {
     "name": "stdout",
     "output_type": "stream",
     "text": [
      "\"\n",
      "        Epoch: 147, \n",
      "        Average Train Loss: 0.0564 \n",
      "        Average Test Loss: 0.0687 \n",
      "        Average Test mIoU: 88.40\n",
      "        Average Test Accuracy: 96.32289123535156 %\n"
     ]
    },
    {
     "name": "stderr",
     "output_type": "stream",
     "text": [
      "Train/Epoch 148/150: 100%|██████████████████████████████████████████████████████████| 104/104 [00:06<00:00, 15.44img/s]\n",
      "Eval/Epoch 148/150: 100%|█████████████████████████████████████████████████████████████| 27/27 [00:03<00:00,  8.68img/s]\n"
     ]
    },
    {
     "name": "stdout",
     "output_type": "stream",
     "text": [
      "\"\n",
      "        Epoch: 148, \n",
      "        Average Train Loss: 0.0614 \n",
      "        Average Test Loss: 0.0691 \n",
      "        Average Test mIoU: 88.35\n",
      "        Average Test Accuracy: 96.27876281738281 %\n"
     ]
    },
    {
     "name": "stderr",
     "output_type": "stream",
     "text": [
      "Train/Epoch 149/150: 100%|██████████████████████████████████████████████████████████| 104/104 [00:06<00:00, 15.40img/s]\n",
      "Eval/Epoch 149/150: 100%|█████████████████████████████████████████████████████████████| 27/27 [00:03<00:00,  8.72img/s]\n"
     ]
    },
    {
     "name": "stdout",
     "output_type": "stream",
     "text": [
      "\"\n",
      "        Epoch: 149, \n",
      "        Average Train Loss: 0.0601 \n",
      "        Average Test Loss: 0.0691 \n",
      "        Average Test mIoU: 88.34\n",
      "        Average Test Accuracy: 96.27571105957031 %\n"
     ]
    },
    {
     "name": "stderr",
     "output_type": "stream",
     "text": [
      "Train/Epoch 150/150: 100%|██████████████████████████████████████████████████████████| 104/104 [00:06<00:00, 15.37img/s]\n",
      "Eval/Epoch 150/150: 100%|█████████████████████████████████████████████████████████████| 27/27 [00:03<00:00,  8.68img/s]\n"
     ]
    },
    {
     "name": "stdout",
     "output_type": "stream",
     "text": [
      "\"\n",
      "        Epoch: 150, \n",
      "        Average Train Loss: 0.0576 \n",
      "        Average Test Loss: 0.0690 \n",
      "        Average Test mIoU: 88.38\n",
      "        Average Test Accuracy: 96.30292510986328 %\n"
     ]
    }
   ],
   "source": [
    "model2_train_start()"
   ]
  },
  {
   "cell_type": "markdown",
   "id": "9755bb0d-4513-4e1f-9172-05b96ff6e060",
   "metadata": {
    "tags": []
   },
   "source": [
    "# Result"
   ]
  },
  {
   "cell_type": "markdown",
   "id": "a3c0969a-58c7-44f9-a117-43b91e030521",
   "metadata": {},
   "source": [
    "## Print Result Comparison"
   ]
  },
  {
   "cell_type": "code",
   "execution_count": 34,
   "id": "27025831-ba3e-4a75-83bd-452e5ac26757",
   "metadata": {},
   "outputs": [
    {
     "name": "stdout",
     "output_type": "stream",
     "text": [
      "\n",
      "    Best of Model1 (Weight Copy):\n",
      "        - Epoch Number: 141\n",
      "        - Evaluation Loss: 0.05730880331248045\n",
      "        - Evaluation mIoU: 89.72906875610352\n",
      "        - Evaluation Accuracy: 97.22938537597656\n",
      "        \n",
      "    Best of Model2 (Knowledge Distillation):\n",
      "        - Epoch Number: 129\n",
      "        - Evaluation Loss: 0.06916035898029804\n",
      "        - Evaluation mIoU: 88.44894981384277\n",
      "        - Evaluation Accuracy: 96.41278839111328\n",
      "    \n"
     ]
    }
   ],
   "source": [
    "print(\n",
    "    f\"\"\"\n",
    "    Best of Model1 (Weight Copy):\n",
    "        - Epoch Number: {best_model1['best_epoch']}\n",
    "        - Evaluation Loss: {best_model1['best_eval_loss']}\n",
    "        - Evaluation mIoU: {best_model1['best_eval_miou']}\n",
    "        - Evaluation Accuracy: {best_model1['best_eval_acc']}\n",
    "        \n",
    "    Best of Model2 (Knowledge Distillation):\n",
    "        - Epoch Number: {best_model2['best_epoch']}\n",
    "        - Evaluation Loss: {best_model2['best_eval_loss']}\n",
    "        - Evaluation mIoU: {best_model2['best_eval_miou']}\n",
    "        - Evaluation Accuracy: {best_model2['best_eval_acc']}\n",
    "    \"\"\"\n",
    ")"
   ]
  },
  {
   "cell_type": "markdown",
   "id": "ebd30f8e-3754-45aa-b767-43e11bf692d7",
   "metadata": {},
   "source": [
    "## Plot Comparisons"
   ]
  },
  {
   "cell_type": "code",
   "execution_count": 35,
   "id": "1f2bd5f0-8a21-4637-8eb0-4e9f73fd567b",
   "metadata": {
    "tags": []
   },
   "outputs": [
    {
     "name": "stderr",
     "output_type": "stream",
     "text": [
      "Clipping input data to the valid range for imshow with RGB data ([0..1] for floats or [0..255] for integers).\n"
     ]
    },
    {
     "data": {
      "image/png": "[encoded data removed]",
      "text/plain": [
       "<Figure size 1200x1200 with 3 Axes>"
      ]
     },
     "metadata": {},
     "output_type": "display_data"
    }
   ],
   "source": [
    "# Model-1\n",
    "\n",
    "plot_segmentation(\n",
    "    model=model1, \n",
    "    dataset=test_dataset, \n",
    "    color_mapping=color_mapping, \n",
    "    save_fig=True, \n",
    "    #save_root_dir='../generated_examples/', \n",
    "    save_root_dir = hyperparameters['output_dir']['results'],\n",
    "    save_filename='model1_seg_fig', \n",
    "    save_format='png', \n",
    "    close_img=False\n",
    ")"
   ]
  },
  {
   "cell_type": "code",
   "execution_count": 36,
   "id": "f6c4c46d-97b8-4eb0-94dd-4188301a7c00",
   "metadata": {},
   "outputs": [
    {
     "name": "stderr",
     "output_type": "stream",
     "text": [
      "Clipping input data to the valid range for imshow with RGB data ([0..1] for floats or [0..255] for integers).\n"
     ]
    },
    {
     "data": {
      "image/png": "[encoded data removed]",
      "text/plain": [
       "<Figure size 1200x1200 with 3 Axes>"
      ]
     },
     "metadata": {},
     "output_type": "display_data"
    }
   ],
   "source": [
    "# Model-2\n",
    "\n",
    "plot_segmentation(\n",
    "    model=model2, \n",
    "    dataset=test_dataset, \n",
    "    color_mapping=color_mapping, \n",
    "    save_fig=True, \n",
    "    #save_root_dir='../generated_examples/', \n",
    "    save_root_dir = hyperparameters['output_dir']['results'],\n",
    "    save_filename='model2_seg_fig', \n",
    "    save_format='png', \n",
    "    close_img=False\n",
    ")"
   ]
  },
  {
   "cell_type": "markdown",
   "id": "fe0c565b-6265-4ad3-81a0-1203c1051cee",
   "metadata": {},
   "source": [
    "## Save Predictions"
   ]
  },
  {
   "cell_type": "code",
   "execution_count": 37,
   "id": "51418ee7-a95e-4af0-81a8-f23407263dad",
   "metadata": {},
   "outputs": [],
   "source": [
    "# Model1 Saving\n",
    "from utils.visualization_utils import save_pred_masks, visualize_segmentation, plot_segmentation\n",
    "save_pred_masks(\n",
    "    model=model1,\n",
    "    transform=test_transforms,\n",
    "    save_folder=hyperparameters['output_dir']['model1'],\n",
    "    input_folder='./images/test',\n",
    "    color_mapping=color_mapping,\n",
    "    hyperparameters=hyperparameters,\n",
    ")\n",
    "\n",
    "save_pred_masks(\n",
    "    model=model1,\n",
    "    transform=test_transforms,\n",
    "    save_folder=hyperparameters['output_dir']['model1'],\n",
    "    input_folder='./images/train',\n",
    "    color_mapping=color_mapping,\n",
    "    hyperparameters=hyperparameters,\n",
    ")"
   ]
  },
  {
   "cell_type": "code",
   "execution_count": 38,
   "id": "9f3a3d14-d169-41bf-8a9b-83883e86e0fc",
   "metadata": {},
   "outputs": [],
   "source": [
    "# Model2 Saving\n",
    "\n",
    "save_pred_masks(\n",
    "    model=model2,\n",
    "    transform=test_transforms,\n",
    "    save_folder=hyperparameters['output_dir']['model2'],\n",
    "    input_folder='./images/test',\n",
    "    color_mapping=color_mapping,\n",
    "    hyperparameters=hyperparameters,\n",
    ")\n",
    "\n",
    "save_pred_masks(\n",
    "    model=model2,\n",
    "    transform=test_transforms,\n",
    "    save_folder=hyperparameters['output_dir']['model2'],\n",
    "    input_folder='./images/train',\n",
    "    color_mapping=color_mapping,\n",
    "    hyperparameters=hyperparameters,\n",
    ")"
   ]
  },
  {
   "cell_type": "markdown",
   "id": "bf9503e0-0842-4842-869c-916bb9109dbf",
   "metadata": {},
   "source": [
    "## History Graphs"
   ]
  },
  {
   "cell_type": "code",
   "execution_count": 39,
   "id": "eccc61cf-b676-41dc-bc57-62421eeb4d15",
   "metadata": {},
   "outputs": [
    {
     "data": {
      "image/png": "[encoded data removed]",
      "text/plain": [
       "<Figure size 1500x600 with 1 Axes>"
      ]
     },
     "metadata": {},
     "output_type": "display_data"
    }
   ],
   "source": [
    "epoch_range = np.arange(1, hyperparameters['epochs']+1, 1, dtype=int)\n",
    "\n",
    "plt.figure(figsize = (15,6))\n",
    "plt.title(f\"Loss\")\n",
    "plt.plot(epoch_range, history['model1']['eval_loss'], label=\"Model1-Evaluation Loss\")\n",
    "plt.plot(epoch_range, history['model2']['eval_loss'], label=\"Model2-Evaluation Loss\")\n",
    "plt.xlabel(\"Epochs\")\n",
    "plt.ylabel(\"Loss\")\n",
    "plt.legend();\n",
    "loss_dir = os.path.join(hyperparameters['output_dir']['results'], 'loss_graph.png')\n",
    "plt.savefig(loss_dir, format='png', bbox_inches='tight')"
   ]
  },
  {
   "cell_type": "code",
   "execution_count": 40,
   "id": "ebeb6b23-88e6-4fe1-aec5-538ccfa093a2",
   "metadata": {},
   "outputs": [
    {
     "data": {
      "image/png": "[encoded data removed]",
      "text/plain": [
       "<Figure size 1500x600 with 1 Axes>"
      ]
     },
     "metadata": {},
     "output_type": "display_data"
    }
   ],
   "source": [
    "plt.figure(figsize = (15,6))\n",
    "plt.title(f\"Eval mIoU\")\n",
    "plt.plot(epoch_range, history['model1']['eval_miou'], label=\"model1 mIoU\")\n",
    "plt.plot(epoch_range, history['model2']['eval_miou'], label=\"model2 mIoU\")\n",
    "plt.xlabel(\"Epochs\")\n",
    "plt.ylabel(\"mIoU\")\n",
    "plt.legend();\n",
    "miou_dir = os.path.join(hyperparameters['output_dir']['results'], 'miou_graph.png')\n",
    "plt.savefig(miou_dir, format='png', bbox_inches='tight')"
   ]
  },
  {
   "cell_type": "code",
   "execution_count": 41,
   "id": "a9a8960f-0a79-4613-a206-37f379b52d9e",
   "metadata": {
    "tags": []
   },
   "outputs": [
    {
     "data": {
      "image/png": "[encoded data removed]",
      "text/plain": [
       "<Figure size 1500x600 with 1 Axes>"
      ]
     },
     "metadata": {},
     "output_type": "display_data"
    }
   ],
   "source": [
    "acc_tensor1 = torch.tensor(history['model1']['eval_acc'])\n",
    "acc_tensor1 = acc_tensor1.to('cpu')\n",
    "acc_list1 = acc_tensor1.tolist()\n",
    "\n",
    "acc_tensor2 = torch.tensor(history['model2']['eval_acc'])\n",
    "acc_tensor2 = acc_tensor2.to('cpu')\n",
    "acc_list2 = acc_tensor2.tolist()\n",
    "\n",
    "\n",
    "plt.figure(figsize = (15,6))\n",
    "plt.title(f\"Eval Accuracy\")\n",
    "plt.plot(epoch_range, acc_list1, label=\"Model1-Eval Acc\")\n",
    "plt.plot(epoch_range, acc_list2, label=\"Model2-Eval Acc\")\n",
    "plt.xlabel(\"Epochs\")\n",
    "plt.ylabel(\"Accuracy\")\n",
    "plt.legend();\n",
    "acc_dir = os.path.join(hyperparameters['output_dir']['results'], 'accuracy_graph.png')\n",
    "plt.savefig(acc_dir, format='png', bbox_inches='tight')"
   ]
  }
 ],
 "metadata": {
  "kernelspec": {
   "display_name": "Python 3 (ipykernel)",
   "language": "python",
   "name": "python3"
  },
  "language_info": {
   "codemirror_mode": {
    "name": "ipython",
    "version": 3
   },
   "file_extension": ".py",
   "mimetype": "text/x-python",
   "name": "python",
   "nbconvert_exporter": "python",
   "pygments_lexer": "ipython3",
   "version": "3.9.18"
  },
  "toc-autonumbering": true,
  "toc-showcode": false,
  "toc-showmarkdowntxt": false
 },
 "nbformat": 4,
 "nbformat_minor": 5
}
