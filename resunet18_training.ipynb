{
 "cells": [
  {
   "cell_type": "markdown",
   "id": "d6829cf1-863a-4663-80a0-ada546e0f565",
   "metadata": {},
   "source": [
    "# Initialization"
   ]
  },
  {
   "cell_type": "markdown",
   "id": "721c578d-f496-420f-aeef-3fa0cd5fd814",
   "metadata": {},
   "source": [
    "## Import"
   ]
  },
  {
   "cell_type": "code",
   "execution_count": 1,
   "id": "52e2f05b-be98-4229-9a4b-19da4cbfc215",
   "metadata": {
    "tags": []
   },
   "outputs": [
    {
     "name": "stdout",
     "output_type": "stream",
     "text": [
      "USING DEVICE: cuda\n"
     ]
    }
   ],
   "source": [
    "import torch\n",
    "import torch.nn as nn\n",
    "import torch.nn.functional as F\n",
    "from torchvision import transforms\n",
    "from torch.utils.data import random_split\n",
    "    \n",
    "import torchvision.transforms.functional as tF\n",
    "\n",
    "from models.unet import UNET\n",
    "from models.resunet18 import RESUNET18\n",
    "\n",
    "from dataset.dataset import seg_datasets\n",
    "\n",
    "from utils.dataloader_utils import get_loader\n",
    "from utils.save_load_utils import save_model, load_model\n",
    "from utils.evaluation_utils import calculate_miou, check_acc\n",
    "from utils.visualization_utils import save_pred_masks, visualize_segmentation, plot_segmentation\n",
    "                                                                     \n",
    "import albumentations as A\n",
    "\n",
    "from torch.utils.tensorboard import SummaryWriter\n",
    "\n",
    "%matplotlib inline\n",
    "import os\n",
    "import time\n",
    "import random\n",
    "import numpy as np\n",
    "from tqdm import tqdm\n",
    "from PIL import Image, ImageOps\n",
    "import matplotlib.pyplot as plt\n",
    "\n",
    "plt.rcParams['figure.figsize'] = (6, 4)\n",
    "plt.rcParams['axes.grid'] = False\n",
    "\n",
    "%load_ext autoreload\n",
    "%autoreload 2\n",
    "\n",
    "device = 'cuda' if torch.cuda.is_available() else 'cpu'\n",
    "print(f'USING DEVICE: {device}')"
   ]
  },
  {
   "cell_type": "markdown",
   "id": "b68fc81c-e54d-49a2-8fe4-c8eb2a35f98d",
   "metadata": {
    "tags": [],
    "toc-hr-collapsed": true
   },
   "source": [
    "## Hyperparameters"
   ]
  },
  {
   "cell_type": "code",
   "execution_count": 2,
   "id": "257ef7f1-2af4-4849-b08f-fe20c17198b7",
   "metadata": {
    "tags": []
   },
   "outputs": [],
   "source": [
    "hyperparameters = {\n",
    "    'test_dir' : './images/test',\n",
    "    'train_dir' : './images/train',\n",
    "    'seed' : 9999,\n",
    "    'dataloader' :{\n",
    "        'batch_size' : 8,\n",
    "        'num_workers' : 4,\n",
    "        'pin_memory' : False, \n",
    "    },\n",
    "    'optimizer' :{\n",
    "        'lr' : 1e-4,\n",
    "        'betas' : (0.9, 0.999),\n",
    "        'weight_decay' : 1e-4,\n",
    "    },\n",
    "    'epochs' : 150,\n",
    "    'training_size' : 0,\n",
    "    'test_size': 0,\n",
    "    'gradient_clipping' : 1.0,\n",
    "    'resunet': {\n",
    "        'in_channels': 3,\n",
    "        'out_channels': 1,\n",
    "        'features': 64,\n",
    "        'height': 320,\n",
    "        'width': 320,\n",
    "        'pre_trained_path': 'checkpoints/pretrained/pretrained_best.pth.tar'\n",
    "    }, \n",
    "    'output_dir':{\n",
    "        'results':'../generated_examples/resunet18/',\n",
    "        'model1':'../generated_examples/resunet18/wc/',\n",
    "        'model2':'../generated_examples/resunet18/kd/',\n",
    "    },\n",
    "    'checkpoints_dir':{\n",
    "        'model1': './checkpoints/resunet18/wc/',\n",
    "        'model2': './checkpoints/resunet18/kd/',\n",
    "    },\n",
    "}"
   ]
  },
  {
   "cell_type": "markdown",
   "id": "3f40d01a-077b-4636-a943-b4af5c4a9707",
   "metadata": {},
   "source": [
    "## Seed Everything"
   ]
  },
  {
   "cell_type": "code",
   "execution_count": 3,
   "id": "a96b2438-498a-4cc8-884b-8b771fdfe5c7",
   "metadata": {
    "tags": []
   },
   "outputs": [],
   "source": [
    "def seed_everything(seed):\n",
    "    random.seed(seed)\n",
    "    os.environ['PYTHONHASHSEED'] = str(seed)\n",
    "    np.random.seed(seed)\n",
    "    torch.manual_seed(seed)\n",
    "    torch.cuda.manual_seed(seed)\n",
    "    torch.backends.cudnn.deterministic = True\n",
    "    torch.backends.cudnn.benchmark = False\n",
    "\n",
    "seed_everything(hyperparameters['seed'])"
   ]
  },
  {
   "cell_type": "markdown",
   "id": "6cdc7d29-c352-4976-8c43-38b98447cc24",
   "metadata": {},
   "source": [
    "# Data Preprocessing"
   ]
  },
  {
   "cell_type": "markdown",
   "id": "ab1c9e6d-8643-4c67-ba5e-bd7e154b930d",
   "metadata": {
    "tags": []
   },
   "source": [
    "## Data Augmentation"
   ]
  },
  {
   "cell_type": "code",
   "execution_count": 4,
   "id": "2edc6a48-9e0d-4367-a4db-694e0698a50f",
   "metadata": {
    "tags": []
   },
   "outputs": [
    {
     "data": {
      "text/plain": [
       "(Compose([\n",
       "   HorizontalFlip(always_apply=False, p=0.5),\n",
       "   VerticalFlip(always_apply=False, p=0.5),\n",
       "   Rotate(always_apply=False, p=0.5, limit=(-90, 90), interpolation=1, border_mode=4, value=None, mask_value=None, rotate_method='largest_box', crop_border=False),\n",
       "   Normalize(always_apply=False, p=1.0, mean=[0.485, 0.456, 0.406], std=[0.229, 0.224, 0.225], max_pixel_value=255.0),\n",
       "   Resize(always_apply=False, p=1, height=512, width=512, interpolation=1),\n",
       " ], p=1.0, bbox_params=None, keypoint_params=None, additional_targets={}, is_check_shapes=True),\n",
       " Compose([\n",
       "   Normalize(always_apply=False, p=1.0, mean=[0.485, 0.456, 0.406], std=[0.229, 0.224, 0.225], max_pixel_value=255.0),\n",
       "   Resize(always_apply=False, p=1, height=512, width=512, interpolation=1),\n",
       " ], p=1.0, bbox_params=None, keypoint_params=None, additional_targets={}, is_check_shapes=True))"
      ]
     },
     "execution_count": 4,
     "metadata": {},
     "output_type": "execute_result"
    }
   ],
   "source": [
    "train_transforms = A.Compose([\n",
    "    A.HorizontalFlip(p=0.5),\n",
    "    A.VerticalFlip(p=0.5),\n",
    "    A.Rotate(p=0.5),\n",
    "    A.Normalize(mean=[0.485, 0.456, 0.406], std=[0.229, 0.224, 0.225]),\n",
    "    A.Resize(512, 512),\n",
    "])\n",
    "\n",
    "test_transforms = A.Compose([\n",
    "    A.Normalize(mean=[0.485, 0.456, 0.406], std=[0.229, 0.224, 0.225]),\n",
    "    A.Resize(512, 512),\n",
    "])\n",
    "\n",
    "\"\"\"\n",
    "test_transforms = transforms.Compose([\n",
    "    transforms.Normalize(mean=[0.485, 0.456, 0.406], std=[0.229, 0.224, 0.225]),\n",
    "    transforms.Resize(512, antialias=True)\n",
    "])\n",
    "\"\"\"\n",
    "train_transforms, test_transforms"
   ]
  },
  {
   "cell_type": "markdown",
   "id": "82f54681-bf8e-4383-a844-14dc115fc8fd",
   "metadata": {
    "tags": []
   },
   "source": [
    "## Dataset"
   ]
  },
  {
   "cell_type": "code",
   "execution_count": 5,
   "id": "3615270c-9966-409e-ac2c-2617725d202d",
   "metadata": {
    "tags": []
   },
   "outputs": [
    {
     "data": {
      "text/plain": [
       "(104, 27)"
      ]
     },
     "execution_count": 5,
     "metadata": {},
     "output_type": "execute_result"
    }
   ],
   "source": [
    "train_dataset = seg_datasets(hyperparameters['train_dir'], train_transforms)\n",
    "test_dataset = seg_datasets(hyperparameters['test_dir'], test_transforms)\n",
    "\n",
    "len(train_dataset), len(test_dataset)"
   ]
  },
  {
   "cell_type": "code",
   "execution_count": 6,
   "id": "78536529-298e-426b-a1cf-e6d658b763f7",
   "metadata": {
    "tags": []
   },
   "outputs": [
    {
     "name": "stdout",
     "output_type": "stream",
     "text": [
      "['115_Plan.jpg', '119_Plan.jpg', '122_Plan.jpg', '125_Plan.jpg', '126_Plan.jpg', '131_Plan.jpg', '16_Plan.jpg', '17_Plan.jpg', '21_Plan.jpg', '26_Plan.jpg', '40_Plan.jpg', '41_Plan.jpg', '48_Plan.jpg', '4_Plan.jpg', '57_Plan.jpg', '58_Plan.jpg', '63_Plan.jpg', '66_Plan.jpg', '6_Plan.jpg', '73_Plan.jpg', '81_Plan.jpg', '88_Plan.jpg', '8_Plan.jpg', '92_Plan.jpg', '95_Plan.jpg', '98_Plan.jpg', '99_Plan.jpg']\n"
     ]
    }
   ],
   "source": [
    "print(test_dataset.img_files)"
   ]
  },
  {
   "cell_type": "code",
   "execution_count": 7,
   "id": "d5c239e4-e1e1-4e3b-981b-0c9abc1a574f",
   "metadata": {
    "tags": []
   },
   "outputs": [],
   "source": [
    "hyperparameters['training_size'] = len(train_dataset)\n",
    "hyperparameters['test_size'] = len(test_dataset)"
   ]
  },
  {
   "cell_type": "code",
   "execution_count": 8,
   "id": "fcf1e448-7d23-4fa4-b716-5e9c0f1decfd",
   "metadata": {
    "tags": []
   },
   "outputs": [
    {
     "data": {
      "text/plain": [
       "tensor([0., 1., 2., 3.])"
      ]
     },
     "execution_count": 8,
     "metadata": {},
     "output_type": "execute_result"
    }
   ],
   "source": [
    "sample = train_dataset[30]\n",
    "torch.unique(sample[1])"
   ]
  },
  {
   "cell_type": "code",
   "execution_count": 9,
   "id": "5b88b398-95e6-4a73-b69c-f4f4fff7c6d8",
   "metadata": {
    "tags": []
   },
   "outputs": [
    {
     "data": {
      "text/plain": [
       "(torch.Size([3, 512, 512]), torch.Size([1, 512, 512]))"
      ]
     },
     "execution_count": 9,
     "metadata": {},
     "output_type": "execute_result"
    }
   ],
   "source": [
    "img, mask = train_dataset[20]\n",
    "img.shape, mask.shape"
   ]
  },
  {
   "cell_type": "code",
   "execution_count": 10,
   "id": "f7756914-c795-4f0e-a42b-4ce104e4e0b0",
   "metadata": {
    "tags": []
   },
   "outputs": [
    {
     "name": "stderr",
     "output_type": "stream",
     "text": [
      "Clipping input data to the valid range for imshow with RGB data ([0..1] for floats or [0..255] for integers).\n"
     ]
    },
    {
     "data": {
      "text/plain": [
       "<matplotlib.image.AxesImage at 0x189d406d930>"
      ]
     },
     "execution_count": 10,
     "metadata": {},
     "output_type": "execute_result"
    },
    {
     "data": {
      "image/png": "[encoded data removed]",
      "text/plain": [
       "<Figure size 800x800 with 2 Axes>"
      ]
     },
     "metadata": {},
     "output_type": "display_data"
    }
   ],
   "source": [
    "fig, (ax1, ax2) = plt.subplots(1, 2, figsize=(8, 8))\n",
    "fig.tight_layout()\n",
    "ax1.axis('off')\n",
    "ax1.set_title('Plan Image/Input')\n",
    "ax1.imshow(img.permute(1, 2, 0).numpy())\n",
    "    \n",
    "ax2.axis('off')\n",
    "ax2.set_title('Actual Masks')\n",
    "ax2.imshow(mask.numpy().transpose(1,2,0))"
   ]
  },
  {
   "cell_type": "markdown",
   "id": "da60d3d1-3eda-4862-98e0-78ab6025fa87",
   "metadata": {},
   "source": [
    "## Color Mapping"
   ]
  },
  {
   "cell_type": "code",
   "execution_count": 11,
   "id": "58260b59-e833-4886-924f-a4af6ea01cb5",
   "metadata": {
    "tags": []
   },
   "outputs": [],
   "source": [
    "color_mapping = {\n",
    "    0: (0, 0, 0),         # Walls\n",
    "    1: (255, 80, 80),     # Iwan\n",
    "    2: (80, 80, 255),     # Room\n",
    "    3: (255, 255, 255),   # Background\n",
    "}"
   ]
  },
  {
   "cell_type": "code",
   "execution_count": 12,
   "id": "86e3f4f8-b2ca-4d75-8a50-8cd4b30010b1",
   "metadata": {
    "tags": []
   },
   "outputs": [
    {
     "name": "stderr",
     "output_type": "stream",
     "text": [
      "Clipping input data to the valid range for imshow with RGB data ([0..1] for floats or [0..255] for integers).\n"
     ]
    },
    {
     "data": {
      "text/plain": [
       "(-0.5, 511.5, 511.5, -0.5)"
      ]
     },
     "execution_count": 12,
     "metadata": {},
     "output_type": "execute_result"
    },
    {
     "data": {
      "image/png": "[encoded data removed]",
      "text/plain": [
       "<Figure size 800x800 with 2 Axes>"
      ]
     },
     "metadata": {},
     "output_type": "display_data"
    }
   ],
   "source": [
    "visualization = visualize_segmentation(mask, color_mapping, from_tensor=True)\n",
    "\n",
    "fig, (ax1, ax2) = plt.subplots(1, 2, figsize=(8, 8))\n",
    "\n",
    "ax1.imshow(img.permute(1, 2, 0).numpy())\n",
    "ax1.set_title('Plan Image/Input')\n",
    "ax1.axis('off')\n",
    "\n",
    "ax2.imshow(visualization)\n",
    "ax2.set_title('Actual Masks')\n",
    "ax2.axis('off')"
   ]
  },
  {
   "cell_type": "markdown",
   "id": "45ccb3b0-b65d-481f-b803-4db558a67ae6",
   "metadata": {},
   "source": [
    "## Dataloader"
   ]
  },
  {
   "cell_type": "code",
   "execution_count": 13,
   "id": "bdd89b08-6209-467e-b3a2-7b509bd46d92",
   "metadata": {
    "tags": []
   },
   "outputs": [
    {
     "data": {
      "text/plain": [
       "(13, 4)"
      ]
     },
     "execution_count": 13,
     "metadata": {},
     "output_type": "execute_result"
    }
   ],
   "source": [
    "train_dataloader, test_dataloader = get_loader(\n",
    "    train_dir = hyperparameters['train_dir'],\n",
    "    test_dir = hyperparameters['test_dir'],\n",
    "    batch_size = hyperparameters['dataloader']['batch_size'],\n",
    "    train_transform = train_transforms,\n",
    "    test_transform = test_transforms,\n",
    "    num_workers = hyperparameters['dataloader']['num_workers'],\n",
    "    pin_memory = hyperparameters['dataloader']['pin_memory']\n",
    ")\n",
    "\n",
    "len(train_dataloader), len(test_dataloader)"
   ]
  },
  {
   "cell_type": "code",
   "execution_count": 14,
   "id": "870c24cb-2758-4321-b743-63551fa32ee8",
   "metadata": {
    "tags": []
   },
   "outputs": [
    {
     "name": "stdout",
     "output_type": "stream",
     "text": [
      "torch.Size([8, 3, 512, 512]) torch.Size([8, 1, 512, 512])\n",
      "8\n"
     ]
    }
   ],
   "source": [
    "img_a_batch, img_b_batch = next(iter(train_dataloader))\n",
    "print(img_a_batch.shape, img_b_batch.shape)\n",
    "print(img_a_batch.size(0))"
   ]
  },
  {
   "cell_type": "markdown",
   "id": "9c4ce4c7-9ebb-4b12-8762-6c9ec701d885",
   "metadata": {
    "tags": []
   },
   "source": [
    "# Model"
   ]
  },
  {
   "cell_type": "markdown",
   "id": "9ee49c40-5ce7-448d-b85d-9025e19725db",
   "metadata": {},
   "source": [
    "## Model Loading"
   ]
  },
  {
   "cell_type": "code",
   "execution_count": 15,
   "id": "acee5cce-3d3a-44b2-9c0c-bab8761e9e09",
   "metadata": {
    "tags": []
   },
   "outputs": [],
   "source": [
    "\"\"\"\n",
    "model1 --> weight copy\n",
    "model2 --> knowledge distillation\n",
    "\n",
    "\"\"\"\n",
    "\n",
    "model1 = RESUNET18(\n",
    "    features=hyperparameters['resunet']['features'], \n",
    "    in_channels=hyperparameters['resunet']['in_channels'], \n",
    "    out_channels=hyperparameters['resunet']['out_channels']\n",
    ")\n",
    "\n",
    "model2 = RESUNET18(\n",
    "    features=hyperparameters['resunet']['features'], \n",
    "    in_channels=hyperparameters['resunet']['in_channels'], \n",
    "    out_channels=hyperparameters['resunet']['out_channels']\n",
    ")"
   ]
  },
  {
   "cell_type": "raw",
   "id": "8fa6cbcb-ce7a-403a-8d05-61af3a3601df",
   "metadata": {
    "tags": []
   },
   "source": [
    "# Print model's state_dict\n",
    "print(\"Model's state_dict:\")\n",
    "for param_tensor in model1.state_dict():\n",
    "    print(param_tensor, \"\\t\", model1.state_dict()[param_tensor].size())"
   ]
  },
  {
   "cell_type": "markdown",
   "id": "074e6f54",
   "metadata": {},
   "source": [
    "## Pre-Trained Model Loading"
   ]
  },
  {
   "cell_type": "code",
   "execution_count": 16,
   "id": "7451fe41-f3d2-456c-8361-f6eae345b418",
   "metadata": {},
   "outputs": [
    {
     "name": "stdout",
     "output_type": "stream",
     "text": [
      "Requirement already satisfied: pretrained-backbones-unet in c:\\users\\user\\.conda\\envs\\pytorch\\lib\\site-packages (0.0.1)\n",
      "Requirement already satisfied: timm==0.6.12 in c:\\users\\user\\.conda\\envs\\pytorch\\lib\\site-packages (from pretrained-backbones-unet) (0.6.12)\n",
      "Requirement already satisfied: torch>=1.13.1 in c:\\users\\user\\.conda\\envs\\pytorch\\lib\\site-packages (from pretrained-backbones-unet) (2.0.1+cu118)\n",
      "Requirement already satisfied: torchvision in c:\\users\\user\\.conda\\envs\\pytorch\\lib\\site-packages (from timm==0.6.12->pretrained-backbones-unet) (0.15.2+cu118)\n",
      "Requirement already satisfied: pyyaml in c:\\users\\user\\.conda\\envs\\pytorch\\lib\\site-packages (from timm==0.6.12->pretrained-backbones-unet) (6.0.1)\n",
      "Requirement already satisfied: huggingface-hub in c:\\users\\user\\.conda\\envs\\pytorch\\lib\\site-packages (from timm==0.6.12->pretrained-backbones-unet) (0.20.3)\n",
      "Requirement already satisfied: filelock in c:\\users\\user\\.conda\\envs\\pytorch\\lib\\site-packages (from torch>=1.13.1->pretrained-backbones-unet) (3.9.0)\n",
      "Requirement already satisfied: typing-extensions in c:\\users\\user\\.conda\\envs\\pytorch\\lib\\site-packages (from torch>=1.13.1->pretrained-backbones-unet) (4.10.0)\n",
      "Requirement already satisfied: sympy in c:\\users\\user\\.conda\\envs\\pytorch\\lib\\site-packages (from torch>=1.13.1->pretrained-backbones-unet) (1.11.1)\n",
      "Requirement already satisfied: networkx in c:\\users\\user\\.conda\\envs\\pytorch\\lib\\site-packages (from torch>=1.13.1->pretrained-backbones-unet) (3.0)\n",
      "Requirement already satisfied: jinja2 in c:\\users\\user\\.conda\\envs\\pytorch\\lib\\site-packages (from torch>=1.13.1->pretrained-backbones-unet) (3.1.2)\n",
      "Requirement already satisfied: fsspec>=2023.5.0 in c:\\users\\user\\.conda\\envs\\pytorch\\lib\\site-packages (from huggingface-hub->timm==0.6.12->pretrained-backbones-unet) (2024.2.0)\n",
      "Requirement already satisfied: requests in c:\\users\\user\\.conda\\envs\\pytorch\\lib\\site-packages (from huggingface-hub->timm==0.6.12->pretrained-backbones-unet) (2.28.1)\n",
      "Requirement already satisfied: tqdm>=4.42.1 in c:\\users\\user\\.conda\\envs\\pytorch\\lib\\site-packages (from huggingface-hub->timm==0.6.12->pretrained-backbones-unet) (4.66.1)\n",
      "Requirement already satisfied: packaging>=20.9 in c:\\users\\user\\.conda\\envs\\pytorch\\lib\\site-packages (from huggingface-hub->timm==0.6.12->pretrained-backbones-unet) (23.0)\n",
      "Requirement already satisfied: MarkupSafe>=2.0 in c:\\users\\user\\.conda\\envs\\pytorch\\lib\\site-packages (from jinja2->torch>=1.13.1->pretrained-backbones-unet) (2.1.1)\n",
      "Requirement already satisfied: mpmath>=0.19 in c:\\users\\user\\.conda\\envs\\pytorch\\lib\\site-packages (from sympy->torch>=1.13.1->pretrained-backbones-unet) (1.2.1)\n",
      "Requirement already satisfied: numpy in c:\\users\\user\\.conda\\envs\\pytorch\\lib\\site-packages (from torchvision->timm==0.6.12->pretrained-backbones-unet) (1.24.1)\n",
      "Requirement already satisfied: pillow!=8.3.*,>=5.3.0 in c:\\users\\user\\.conda\\envs\\pytorch\\lib\\site-packages (from torchvision->timm==0.6.12->pretrained-backbones-unet) (9.3.0)\n",
      "Requirement already satisfied: colorama in c:\\users\\user\\.conda\\envs\\pytorch\\lib\\site-packages (from tqdm>=4.42.1->huggingface-hub->timm==0.6.12->pretrained-backbones-unet) (0.4.6)\n",
      "Requirement already satisfied: charset-normalizer<3,>=2 in c:\\users\\user\\.conda\\envs\\pytorch\\lib\\site-packages (from requests->huggingface-hub->timm==0.6.12->pretrained-backbones-unet) (2.0.4)\n",
      "Requirement already satisfied: idna<4,>=2.5 in c:\\users\\user\\.conda\\envs\\pytorch\\lib\\site-packages (from requests->huggingface-hub->timm==0.6.12->pretrained-backbones-unet) (3.4)\n",
      "Requirement already satisfied: urllib3<1.27,>=1.21.1 in c:\\users\\user\\.conda\\envs\\pytorch\\lib\\site-packages (from requests->huggingface-hub->timm==0.6.12->pretrained-backbones-unet) (1.26.13)\n",
      "Requirement already satisfied: certifi>=2017.4.17 in c:\\users\\user\\.conda\\envs\\pytorch\\lib\\site-packages (from requests->huggingface-hub->timm==0.6.12->pretrained-backbones-unet) (2022.12.7)\n"
     ]
    }
   ],
   "source": [
    "!pip install pretrained-backbones-unet"
   ]
  },
  {
   "cell_type": "code",
   "execution_count": 17,
   "id": "55d8f2e1-8505-4c98-8115-9971e9e49fc6",
   "metadata": {
    "scrolled": true
   },
   "outputs": [
    {
     "name": "stderr",
     "output_type": "stream",
     "text": [
      "C:\\Users\\user\\.conda\\envs\\pytorch\\lib\\site-packages\\tqdm\\auto.py:21: TqdmWarning: IProgress not found. Please update jupyter and ipywidgets. See https://ipywidgets.readthedocs.io/en/stable/user_install.html\n",
      "  from .autonotebook import tqdm as notebook_tqdm\n"
     ]
    },
    {
     "data": {
      "text/plain": [
       "Unet(\n",
       "  (encoder): FeatureListNet(\n",
       "    (stem_0): Conv2d(3, 128, kernel_size=(4, 4), stride=(4, 4))\n",
       "    (stem_1): LayerNorm2d((128,), eps=1e-06, elementwise_affine=True)\n",
       "    (stages_0): ConvNeXtStage(\n",
       "      (downsample): Identity()\n",
       "      (blocks): Sequential(\n",
       "        (0): ConvNeXtBlock(\n",
       "          (conv_dw): Conv2d(128, 128, kernel_size=(7, 7), stride=(1, 1), padding=(3, 3), groups=128)\n",
       "          (norm): LayerNorm((128,), eps=1e-06, elementwise_affine=True)\n",
       "          (mlp): Mlp(\n",
       "            (fc1): Linear(in_features=128, out_features=512, bias=True)\n",
       "            (act): GELU()\n",
       "            (drop1): Dropout(p=0.0, inplace=False)\n",
       "            (fc2): Linear(in_features=512, out_features=128, bias=True)\n",
       "            (drop2): Dropout(p=0.0, inplace=False)\n",
       "          )\n",
       "          (drop_path): Identity()\n",
       "        )\n",
       "        (1): ConvNeXtBlock(\n",
       "          (conv_dw): Conv2d(128, 128, kernel_size=(7, 7), stride=(1, 1), padding=(3, 3), groups=128)\n",
       "          (norm): LayerNorm((128,), eps=1e-06, elementwise_affine=True)\n",
       "          (mlp): Mlp(\n",
       "            (fc1): Linear(in_features=128, out_features=512, bias=True)\n",
       "            (act): GELU()\n",
       "            (drop1): Dropout(p=0.0, inplace=False)\n",
       "            (fc2): Linear(in_features=512, out_features=128, bias=True)\n",
       "            (drop2): Dropout(p=0.0, inplace=False)\n",
       "          )\n",
       "          (drop_path): Identity()\n",
       "        )\n",
       "        (2): ConvNeXtBlock(\n",
       "          (conv_dw): Conv2d(128, 128, kernel_size=(7, 7), stride=(1, 1), padding=(3, 3), groups=128)\n",
       "          (norm): LayerNorm((128,), eps=1e-06, elementwise_affine=True)\n",
       "          (mlp): Mlp(\n",
       "            (fc1): Linear(in_features=128, out_features=512, bias=True)\n",
       "            (act): GELU()\n",
       "            (drop1): Dropout(p=0.0, inplace=False)\n",
       "            (fc2): Linear(in_features=512, out_features=128, bias=True)\n",
       "            (drop2): Dropout(p=0.0, inplace=False)\n",
       "          )\n",
       "          (drop_path): Identity()\n",
       "        )\n",
       "      )\n",
       "    )\n",
       "    (stages_1): ConvNeXtStage(\n",
       "      (downsample): Sequential(\n",
       "        (0): LayerNorm2d((128,), eps=1e-06, elementwise_affine=True)\n",
       "        (1): Conv2d(128, 256, kernel_size=(2, 2), stride=(2, 2))\n",
       "      )\n",
       "      (blocks): Sequential(\n",
       "        (0): ConvNeXtBlock(\n",
       "          (conv_dw): Conv2d(256, 256, kernel_size=(7, 7), stride=(1, 1), padding=(3, 3), groups=256)\n",
       "          (norm): LayerNorm((256,), eps=1e-06, elementwise_affine=True)\n",
       "          (mlp): Mlp(\n",
       "            (fc1): Linear(in_features=256, out_features=1024, bias=True)\n",
       "            (act): GELU()\n",
       "            (drop1): Dropout(p=0.0, inplace=False)\n",
       "            (fc2): Linear(in_features=1024, out_features=256, bias=True)\n",
       "            (drop2): Dropout(p=0.0, inplace=False)\n",
       "          )\n",
       "          (drop_path): Identity()\n",
       "        )\n",
       "        (1): ConvNeXtBlock(\n",
       "          (conv_dw): Conv2d(256, 256, kernel_size=(7, 7), stride=(1, 1), padding=(3, 3), groups=256)\n",
       "          (norm): LayerNorm((256,), eps=1e-06, elementwise_affine=True)\n",
       "          (mlp): Mlp(\n",
       "            (fc1): Linear(in_features=256, out_features=1024, bias=True)\n",
       "            (act): GELU()\n",
       "            (drop1): Dropout(p=0.0, inplace=False)\n",
       "            (fc2): Linear(in_features=1024, out_features=256, bias=True)\n",
       "            (drop2): Dropout(p=0.0, inplace=False)\n",
       "          )\n",
       "          (drop_path): Identity()\n",
       "        )\n",
       "        (2): ConvNeXtBlock(\n",
       "          (conv_dw): Conv2d(256, 256, kernel_size=(7, 7), stride=(1, 1), padding=(3, 3), groups=256)\n",
       "          (norm): LayerNorm((256,), eps=1e-06, elementwise_affine=True)\n",
       "          (mlp): Mlp(\n",
       "            (fc1): Linear(in_features=256, out_features=1024, bias=True)\n",
       "            (act): GELU()\n",
       "            (drop1): Dropout(p=0.0, inplace=False)\n",
       "            (fc2): Linear(in_features=1024, out_features=256, bias=True)\n",
       "            (drop2): Dropout(p=0.0, inplace=False)\n",
       "          )\n",
       "          (drop_path): Identity()\n",
       "        )\n",
       "      )\n",
       "    )\n",
       "    (stages_2): ConvNeXtStage(\n",
       "      (downsample): Sequential(\n",
       "        (0): LayerNorm2d((256,), eps=1e-06, elementwise_affine=True)\n",
       "        (1): Conv2d(256, 512, kernel_size=(2, 2), stride=(2, 2))\n",
       "      )\n",
       "      (blocks): Sequential(\n",
       "        (0): ConvNeXtBlock(\n",
       "          (conv_dw): Conv2d(512, 512, kernel_size=(7, 7), stride=(1, 1), padding=(3, 3), groups=512)\n",
       "          (norm): LayerNorm((512,), eps=1e-06, elementwise_affine=True)\n",
       "          (mlp): Mlp(\n",
       "            (fc1): Linear(in_features=512, out_features=2048, bias=True)\n",
       "            (act): GELU()\n",
       "            (drop1): Dropout(p=0.0, inplace=False)\n",
       "            (fc2): Linear(in_features=2048, out_features=512, bias=True)\n",
       "            (drop2): Dropout(p=0.0, inplace=False)\n",
       "          )\n",
       "          (drop_path): Identity()\n",
       "        )\n",
       "        (1): ConvNeXtBlock(\n",
       "          (conv_dw): Conv2d(512, 512, kernel_size=(7, 7), stride=(1, 1), padding=(3, 3), groups=512)\n",
       "          (norm): LayerNorm((512,), eps=1e-06, elementwise_affine=True)\n",
       "          (mlp): Mlp(\n",
       "            (fc1): Linear(in_features=512, out_features=2048, bias=True)\n",
       "            (act): GELU()\n",
       "            (drop1): Dropout(p=0.0, inplace=False)\n",
       "            (fc2): Linear(in_features=2048, out_features=512, bias=True)\n",
       "            (drop2): Dropout(p=0.0, inplace=False)\n",
       "          )\n",
       "          (drop_path): Identity()\n",
       "        )\n",
       "        (2): ConvNeXtBlock(\n",
       "          (conv_dw): Conv2d(512, 512, kernel_size=(7, 7), stride=(1, 1), padding=(3, 3), groups=512)\n",
       "          (norm): LayerNorm((512,), eps=1e-06, elementwise_affine=True)\n",
       "          (mlp): Mlp(\n",
       "            (fc1): Linear(in_features=512, out_features=2048, bias=True)\n",
       "            (act): GELU()\n",
       "            (drop1): Dropout(p=0.0, inplace=False)\n",
       "            (fc2): Linear(in_features=2048, out_features=512, bias=True)\n",
       "            (drop2): Dropout(p=0.0, inplace=False)\n",
       "          )\n",
       "          (drop_path): Identity()\n",
       "        )\n",
       "        (3): ConvNeXtBlock(\n",
       "          (conv_dw): Conv2d(512, 512, kernel_size=(7, 7), stride=(1, 1), padding=(3, 3), groups=512)\n",
       "          (norm): LayerNorm((512,), eps=1e-06, elementwise_affine=True)\n",
       "          (mlp): Mlp(\n",
       "            (fc1): Linear(in_features=512, out_features=2048, bias=True)\n",
       "            (act): GELU()\n",
       "            (drop1): Dropout(p=0.0, inplace=False)\n",
       "            (fc2): Linear(in_features=2048, out_features=512, bias=True)\n",
       "            (drop2): Dropout(p=0.0, inplace=False)\n",
       "          )\n",
       "          (drop_path): Identity()\n",
       "        )\n",
       "        (4): ConvNeXtBlock(\n",
       "          (conv_dw): Conv2d(512, 512, kernel_size=(7, 7), stride=(1, 1), padding=(3, 3), groups=512)\n",
       "          (norm): LayerNorm((512,), eps=1e-06, elementwise_affine=True)\n",
       "          (mlp): Mlp(\n",
       "            (fc1): Linear(in_features=512, out_features=2048, bias=True)\n",
       "            (act): GELU()\n",
       "            (drop1): Dropout(p=0.0, inplace=False)\n",
       "            (fc2): Linear(in_features=2048, out_features=512, bias=True)\n",
       "            (drop2): Dropout(p=0.0, inplace=False)\n",
       "          )\n",
       "          (drop_path): Identity()\n",
       "        )\n",
       "        (5): ConvNeXtBlock(\n",
       "          (conv_dw): Conv2d(512, 512, kernel_size=(7, 7), stride=(1, 1), padding=(3, 3), groups=512)\n",
       "          (norm): LayerNorm((512,), eps=1e-06, elementwise_affine=True)\n",
       "          (mlp): Mlp(\n",
       "            (fc1): Linear(in_features=512, out_features=2048, bias=True)\n",
       "            (act): GELU()\n",
       "            (drop1): Dropout(p=0.0, inplace=False)\n",
       "            (fc2): Linear(in_features=2048, out_features=512, bias=True)\n",
       "            (drop2): Dropout(p=0.0, inplace=False)\n",
       "          )\n",
       "          (drop_path): Identity()\n",
       "        )\n",
       "        (6): ConvNeXtBlock(\n",
       "          (conv_dw): Conv2d(512, 512, kernel_size=(7, 7), stride=(1, 1), padding=(3, 3), groups=512)\n",
       "          (norm): LayerNorm((512,), eps=1e-06, elementwise_affine=True)\n",
       "          (mlp): Mlp(\n",
       "            (fc1): Linear(in_features=512, out_features=2048, bias=True)\n",
       "            (act): GELU()\n",
       "            (drop1): Dropout(p=0.0, inplace=False)\n",
       "            (fc2): Linear(in_features=2048, out_features=512, bias=True)\n",
       "            (drop2): Dropout(p=0.0, inplace=False)\n",
       "          )\n",
       "          (drop_path): Identity()\n",
       "        )\n",
       "        (7): ConvNeXtBlock(\n",
       "          (conv_dw): Conv2d(512, 512, kernel_size=(7, 7), stride=(1, 1), padding=(3, 3), groups=512)\n",
       "          (norm): LayerNorm((512,), eps=1e-06, elementwise_affine=True)\n",
       "          (mlp): Mlp(\n",
       "            (fc1): Linear(in_features=512, out_features=2048, bias=True)\n",
       "            (act): GELU()\n",
       "            (drop1): Dropout(p=0.0, inplace=False)\n",
       "            (fc2): Linear(in_features=2048, out_features=512, bias=True)\n",
       "            (drop2): Dropout(p=0.0, inplace=False)\n",
       "          )\n",
       "          (drop_path): Identity()\n",
       "        )\n",
       "        (8): ConvNeXtBlock(\n",
       "          (conv_dw): Conv2d(512, 512, kernel_size=(7, 7), stride=(1, 1), padding=(3, 3), groups=512)\n",
       "          (norm): LayerNorm((512,), eps=1e-06, elementwise_affine=True)\n",
       "          (mlp): Mlp(\n",
       "            (fc1): Linear(in_features=512, out_features=2048, bias=True)\n",
       "            (act): GELU()\n",
       "            (drop1): Dropout(p=0.0, inplace=False)\n",
       "            (fc2): Linear(in_features=2048, out_features=512, bias=True)\n",
       "            (drop2): Dropout(p=0.0, inplace=False)\n",
       "          )\n",
       "          (drop_path): Identity()\n",
       "        )\n",
       "        (9): ConvNeXtBlock(\n",
       "          (conv_dw): Conv2d(512, 512, kernel_size=(7, 7), stride=(1, 1), padding=(3, 3), groups=512)\n",
       "          (norm): LayerNorm((512,), eps=1e-06, elementwise_affine=True)\n",
       "          (mlp): Mlp(\n",
       "            (fc1): Linear(in_features=512, out_features=2048, bias=True)\n",
       "            (act): GELU()\n",
       "            (drop1): Dropout(p=0.0, inplace=False)\n",
       "            (fc2): Linear(in_features=2048, out_features=512, bias=True)\n",
       "            (drop2): Dropout(p=0.0, inplace=False)\n",
       "          )\n",
       "          (drop_path): Identity()\n",
       "        )\n",
       "        (10): ConvNeXtBlock(\n",
       "          (conv_dw): Conv2d(512, 512, kernel_size=(7, 7), stride=(1, 1), padding=(3, 3), groups=512)\n",
       "          (norm): LayerNorm((512,), eps=1e-06, elementwise_affine=True)\n",
       "          (mlp): Mlp(\n",
       "            (fc1): Linear(in_features=512, out_features=2048, bias=True)\n",
       "            (act): GELU()\n",
       "            (drop1): Dropout(p=0.0, inplace=False)\n",
       "            (fc2): Linear(in_features=2048, out_features=512, bias=True)\n",
       "            (drop2): Dropout(p=0.0, inplace=False)\n",
       "          )\n",
       "          (drop_path): Identity()\n",
       "        )\n",
       "        (11): ConvNeXtBlock(\n",
       "          (conv_dw): Conv2d(512, 512, kernel_size=(7, 7), stride=(1, 1), padding=(3, 3), groups=512)\n",
       "          (norm): LayerNorm((512,), eps=1e-06, elementwise_affine=True)\n",
       "          (mlp): Mlp(\n",
       "            (fc1): Linear(in_features=512, out_features=2048, bias=True)\n",
       "            (act): GELU()\n",
       "            (drop1): Dropout(p=0.0, inplace=False)\n",
       "            (fc2): Linear(in_features=2048, out_features=512, bias=True)\n",
       "            (drop2): Dropout(p=0.0, inplace=False)\n",
       "          )\n",
       "          (drop_path): Identity()\n",
       "        )\n",
       "        (12): ConvNeXtBlock(\n",
       "          (conv_dw): Conv2d(512, 512, kernel_size=(7, 7), stride=(1, 1), padding=(3, 3), groups=512)\n",
       "          (norm): LayerNorm((512,), eps=1e-06, elementwise_affine=True)\n",
       "          (mlp): Mlp(\n",
       "            (fc1): Linear(in_features=512, out_features=2048, bias=True)\n",
       "            (act): GELU()\n",
       "            (drop1): Dropout(p=0.0, inplace=False)\n",
       "            (fc2): Linear(in_features=2048, out_features=512, bias=True)\n",
       "            (drop2): Dropout(p=0.0, inplace=False)\n",
       "          )\n",
       "          (drop_path): Identity()\n",
       "        )\n",
       "        (13): ConvNeXtBlock(\n",
       "          (conv_dw): Conv2d(512, 512, kernel_size=(7, 7), stride=(1, 1), padding=(3, 3), groups=512)\n",
       "          (norm): LayerNorm((512,), eps=1e-06, elementwise_affine=True)\n",
       "          (mlp): Mlp(\n",
       "            (fc1): Linear(in_features=512, out_features=2048, bias=True)\n",
       "            (act): GELU()\n",
       "            (drop1): Dropout(p=0.0, inplace=False)\n",
       "            (fc2): Linear(in_features=2048, out_features=512, bias=True)\n",
       "            (drop2): Dropout(p=0.0, inplace=False)\n",
       "          )\n",
       "          (drop_path): Identity()\n",
       "        )\n",
       "        (14): ConvNeXtBlock(\n",
       "          (conv_dw): Conv2d(512, 512, kernel_size=(7, 7), stride=(1, 1), padding=(3, 3), groups=512)\n",
       "          (norm): LayerNorm((512,), eps=1e-06, elementwise_affine=True)\n",
       "          (mlp): Mlp(\n",
       "            (fc1): Linear(in_features=512, out_features=2048, bias=True)\n",
       "            (act): GELU()\n",
       "            (drop1): Dropout(p=0.0, inplace=False)\n",
       "            (fc2): Linear(in_features=2048, out_features=512, bias=True)\n",
       "            (drop2): Dropout(p=0.0, inplace=False)\n",
       "          )\n",
       "          (drop_path): Identity()\n",
       "        )\n",
       "        (15): ConvNeXtBlock(\n",
       "          (conv_dw): Conv2d(512, 512, kernel_size=(7, 7), stride=(1, 1), padding=(3, 3), groups=512)\n",
       "          (norm): LayerNorm((512,), eps=1e-06, elementwise_affine=True)\n",
       "          (mlp): Mlp(\n",
       "            (fc1): Linear(in_features=512, out_features=2048, bias=True)\n",
       "            (act): GELU()\n",
       "            (drop1): Dropout(p=0.0, inplace=False)\n",
       "            (fc2): Linear(in_features=2048, out_features=512, bias=True)\n",
       "            (drop2): Dropout(p=0.0, inplace=False)\n",
       "          )\n",
       "          (drop_path): Identity()\n",
       "        )\n",
       "        (16): ConvNeXtBlock(\n",
       "          (conv_dw): Conv2d(512, 512, kernel_size=(7, 7), stride=(1, 1), padding=(3, 3), groups=512)\n",
       "          (norm): LayerNorm((512,), eps=1e-06, elementwise_affine=True)\n",
       "          (mlp): Mlp(\n",
       "            (fc1): Linear(in_features=512, out_features=2048, bias=True)\n",
       "            (act): GELU()\n",
       "            (drop1): Dropout(p=0.0, inplace=False)\n",
       "            (fc2): Linear(in_features=2048, out_features=512, bias=True)\n",
       "            (drop2): Dropout(p=0.0, inplace=False)\n",
       "          )\n",
       "          (drop_path): Identity()\n",
       "        )\n",
       "        (17): ConvNeXtBlock(\n",
       "          (conv_dw): Conv2d(512, 512, kernel_size=(7, 7), stride=(1, 1), padding=(3, 3), groups=512)\n",
       "          (norm): LayerNorm((512,), eps=1e-06, elementwise_affine=True)\n",
       "          (mlp): Mlp(\n",
       "            (fc1): Linear(in_features=512, out_features=2048, bias=True)\n",
       "            (act): GELU()\n",
       "            (drop1): Dropout(p=0.0, inplace=False)\n",
       "            (fc2): Linear(in_features=2048, out_features=512, bias=True)\n",
       "            (drop2): Dropout(p=0.0, inplace=False)\n",
       "          )\n",
       "          (drop_path): Identity()\n",
       "        )\n",
       "        (18): ConvNeXtBlock(\n",
       "          (conv_dw): Conv2d(512, 512, kernel_size=(7, 7), stride=(1, 1), padding=(3, 3), groups=512)\n",
       "          (norm): LayerNorm((512,), eps=1e-06, elementwise_affine=True)\n",
       "          (mlp): Mlp(\n",
       "            (fc1): Linear(in_features=512, out_features=2048, bias=True)\n",
       "            (act): GELU()\n",
       "            (drop1): Dropout(p=0.0, inplace=False)\n",
       "            (fc2): Linear(in_features=2048, out_features=512, bias=True)\n",
       "            (drop2): Dropout(p=0.0, inplace=False)\n",
       "          )\n",
       "          (drop_path): Identity()\n",
       "        )\n",
       "        (19): ConvNeXtBlock(\n",
       "          (conv_dw): Conv2d(512, 512, kernel_size=(7, 7), stride=(1, 1), padding=(3, 3), groups=512)\n",
       "          (norm): LayerNorm((512,), eps=1e-06, elementwise_affine=True)\n",
       "          (mlp): Mlp(\n",
       "            (fc1): Linear(in_features=512, out_features=2048, bias=True)\n",
       "            (act): GELU()\n",
       "            (drop1): Dropout(p=0.0, inplace=False)\n",
       "            (fc2): Linear(in_features=2048, out_features=512, bias=True)\n",
       "            (drop2): Dropout(p=0.0, inplace=False)\n",
       "          )\n",
       "          (drop_path): Identity()\n",
       "        )\n",
       "        (20): ConvNeXtBlock(\n",
       "          (conv_dw): Conv2d(512, 512, kernel_size=(7, 7), stride=(1, 1), padding=(3, 3), groups=512)\n",
       "          (norm): LayerNorm((512,), eps=1e-06, elementwise_affine=True)\n",
       "          (mlp): Mlp(\n",
       "            (fc1): Linear(in_features=512, out_features=2048, bias=True)\n",
       "            (act): GELU()\n",
       "            (drop1): Dropout(p=0.0, inplace=False)\n",
       "            (fc2): Linear(in_features=2048, out_features=512, bias=True)\n",
       "            (drop2): Dropout(p=0.0, inplace=False)\n",
       "          )\n",
       "          (drop_path): Identity()\n",
       "        )\n",
       "        (21): ConvNeXtBlock(\n",
       "          (conv_dw): Conv2d(512, 512, kernel_size=(7, 7), stride=(1, 1), padding=(3, 3), groups=512)\n",
       "          (norm): LayerNorm((512,), eps=1e-06, elementwise_affine=True)\n",
       "          (mlp): Mlp(\n",
       "            (fc1): Linear(in_features=512, out_features=2048, bias=True)\n",
       "            (act): GELU()\n",
       "            (drop1): Dropout(p=0.0, inplace=False)\n",
       "            (fc2): Linear(in_features=2048, out_features=512, bias=True)\n",
       "            (drop2): Dropout(p=0.0, inplace=False)\n",
       "          )\n",
       "          (drop_path): Identity()\n",
       "        )\n",
       "        (22): ConvNeXtBlock(\n",
       "          (conv_dw): Conv2d(512, 512, kernel_size=(7, 7), stride=(1, 1), padding=(3, 3), groups=512)\n",
       "          (norm): LayerNorm((512,), eps=1e-06, elementwise_affine=True)\n",
       "          (mlp): Mlp(\n",
       "            (fc1): Linear(in_features=512, out_features=2048, bias=True)\n",
       "            (act): GELU()\n",
       "            (drop1): Dropout(p=0.0, inplace=False)\n",
       "            (fc2): Linear(in_features=2048, out_features=512, bias=True)\n",
       "            (drop2): Dropout(p=0.0, inplace=False)\n",
       "          )\n",
       "          (drop_path): Identity()\n",
       "        )\n",
       "        (23): ConvNeXtBlock(\n",
       "          (conv_dw): Conv2d(512, 512, kernel_size=(7, 7), stride=(1, 1), padding=(3, 3), groups=512)\n",
       "          (norm): LayerNorm((512,), eps=1e-06, elementwise_affine=True)\n",
       "          (mlp): Mlp(\n",
       "            (fc1): Linear(in_features=512, out_features=2048, bias=True)\n",
       "            (act): GELU()\n",
       "            (drop1): Dropout(p=0.0, inplace=False)\n",
       "            (fc2): Linear(in_features=2048, out_features=512, bias=True)\n",
       "            (drop2): Dropout(p=0.0, inplace=False)\n",
       "          )\n",
       "          (drop_path): Identity()\n",
       "        )\n",
       "        (24): ConvNeXtBlock(\n",
       "          (conv_dw): Conv2d(512, 512, kernel_size=(7, 7), stride=(1, 1), padding=(3, 3), groups=512)\n",
       "          (norm): LayerNorm((512,), eps=1e-06, elementwise_affine=True)\n",
       "          (mlp): Mlp(\n",
       "            (fc1): Linear(in_features=512, out_features=2048, bias=True)\n",
       "            (act): GELU()\n",
       "            (drop1): Dropout(p=0.0, inplace=False)\n",
       "            (fc2): Linear(in_features=2048, out_features=512, bias=True)\n",
       "            (drop2): Dropout(p=0.0, inplace=False)\n",
       "          )\n",
       "          (drop_path): Identity()\n",
       "        )\n",
       "        (25): ConvNeXtBlock(\n",
       "          (conv_dw): Conv2d(512, 512, kernel_size=(7, 7), stride=(1, 1), padding=(3, 3), groups=512)\n",
       "          (norm): LayerNorm((512,), eps=1e-06, elementwise_affine=True)\n",
       "          (mlp): Mlp(\n",
       "            (fc1): Linear(in_features=512, out_features=2048, bias=True)\n",
       "            (act): GELU()\n",
       "            (drop1): Dropout(p=0.0, inplace=False)\n",
       "            (fc2): Linear(in_features=2048, out_features=512, bias=True)\n",
       "            (drop2): Dropout(p=0.0, inplace=False)\n",
       "          )\n",
       "          (drop_path): Identity()\n",
       "        )\n",
       "        (26): ConvNeXtBlock(\n",
       "          (conv_dw): Conv2d(512, 512, kernel_size=(7, 7), stride=(1, 1), padding=(3, 3), groups=512)\n",
       "          (norm): LayerNorm((512,), eps=1e-06, elementwise_affine=True)\n",
       "          (mlp): Mlp(\n",
       "            (fc1): Linear(in_features=512, out_features=2048, bias=True)\n",
       "            (act): GELU()\n",
       "            (drop1): Dropout(p=0.0, inplace=False)\n",
       "            (fc2): Linear(in_features=2048, out_features=512, bias=True)\n",
       "            (drop2): Dropout(p=0.0, inplace=False)\n",
       "          )\n",
       "          (drop_path): Identity()\n",
       "        )\n",
       "      )\n",
       "    )\n",
       "    (stages_3): ConvNeXtStage(\n",
       "      (downsample): Sequential(\n",
       "        (0): LayerNorm2d((512,), eps=1e-06, elementwise_affine=True)\n",
       "        (1): Conv2d(512, 1024, kernel_size=(2, 2), stride=(2, 2))\n",
       "      )\n",
       "      (blocks): Sequential(\n",
       "        (0): ConvNeXtBlock(\n",
       "          (conv_dw): Conv2d(1024, 1024, kernel_size=(7, 7), stride=(1, 1), padding=(3, 3), groups=1024)\n",
       "          (norm): LayerNorm((1024,), eps=1e-06, elementwise_affine=True)\n",
       "          (mlp): Mlp(\n",
       "            (fc1): Linear(in_features=1024, out_features=4096, bias=True)\n",
       "            (act): GELU()\n",
       "            (drop1): Dropout(p=0.0, inplace=False)\n",
       "            (fc2): Linear(in_features=4096, out_features=1024, bias=True)\n",
       "            (drop2): Dropout(p=0.0, inplace=False)\n",
       "          )\n",
       "          (drop_path): Identity()\n",
       "        )\n",
       "        (1): ConvNeXtBlock(\n",
       "          (conv_dw): Conv2d(1024, 1024, kernel_size=(7, 7), stride=(1, 1), padding=(3, 3), groups=1024)\n",
       "          (norm): LayerNorm((1024,), eps=1e-06, elementwise_affine=True)\n",
       "          (mlp): Mlp(\n",
       "            (fc1): Linear(in_features=1024, out_features=4096, bias=True)\n",
       "            (act): GELU()\n",
       "            (drop1): Dropout(p=0.0, inplace=False)\n",
       "            (fc2): Linear(in_features=4096, out_features=1024, bias=True)\n",
       "            (drop2): Dropout(p=0.0, inplace=False)\n",
       "          )\n",
       "          (drop_path): Identity()\n",
       "        )\n",
       "        (2): ConvNeXtBlock(\n",
       "          (conv_dw): Conv2d(1024, 1024, kernel_size=(7, 7), stride=(1, 1), padding=(3, 3), groups=1024)\n",
       "          (norm): LayerNorm((1024,), eps=1e-06, elementwise_affine=True)\n",
       "          (mlp): Mlp(\n",
       "            (fc1): Linear(in_features=1024, out_features=4096, bias=True)\n",
       "            (act): GELU()\n",
       "            (drop1): Dropout(p=0.0, inplace=False)\n",
       "            (fc2): Linear(in_features=4096, out_features=1024, bias=True)\n",
       "            (drop2): Dropout(p=0.0, inplace=False)\n",
       "          )\n",
       "          (drop_path): Identity()\n",
       "        )\n",
       "      )\n",
       "    )\n",
       "  )\n",
       "  (decoder): UnetDecoder(\n",
       "    (center): Identity()\n",
       "    (blocks): ModuleList(\n",
       "      (0): DecoderBlock(\n",
       "        (conv1): Conv2dBnAct(\n",
       "          (conv): Conv2d(1536, 256, kernel_size=(3, 3), stride=(1, 1), padding=(1, 1), bias=False)\n",
       "          (bn): BatchNorm2d(256, eps=1e-05, momentum=0.1, affine=True, track_running_stats=True)\n",
       "          (act): ReLU(inplace=True)\n",
       "        )\n",
       "        (conv2): Conv2dBnAct(\n",
       "          (conv): Conv2d(256, 256, kernel_size=(3, 3), stride=(1, 1), padding=(1, 1), bias=False)\n",
       "          (bn): BatchNorm2d(256, eps=1e-05, momentum=0.1, affine=True, track_running_stats=True)\n",
       "          (act): ReLU(inplace=True)\n",
       "        )\n",
       "      )\n",
       "      (1): DecoderBlock(\n",
       "        (conv1): Conv2dBnAct(\n",
       "          (conv): Conv2d(512, 128, kernel_size=(3, 3), stride=(1, 1), padding=(1, 1), bias=False)\n",
       "          (bn): BatchNorm2d(128, eps=1e-05, momentum=0.1, affine=True, track_running_stats=True)\n",
       "          (act): ReLU(inplace=True)\n",
       "        )\n",
       "        (conv2): Conv2dBnAct(\n",
       "          (conv): Conv2d(128, 128, kernel_size=(3, 3), stride=(1, 1), padding=(1, 1), bias=False)\n",
       "          (bn): BatchNorm2d(128, eps=1e-05, momentum=0.1, affine=True, track_running_stats=True)\n",
       "          (act): ReLU(inplace=True)\n",
       "        )\n",
       "      )\n",
       "      (2): DecoderBlock(\n",
       "        (conv1): Conv2dBnAct(\n",
       "          (conv): Conv2d(256, 64, kernel_size=(3, 3), stride=(1, 1), padding=(1, 1), bias=False)\n",
       "          (bn): BatchNorm2d(64, eps=1e-05, momentum=0.1, affine=True, track_running_stats=True)\n",
       "          (act): ReLU(inplace=True)\n",
       "        )\n",
       "        (conv2): Conv2dBnAct(\n",
       "          (conv): Conv2d(64, 64, kernel_size=(3, 3), stride=(1, 1), padding=(1, 1), bias=False)\n",
       "          (bn): BatchNorm2d(64, eps=1e-05, momentum=0.1, affine=True, track_running_stats=True)\n",
       "          (act): ReLU(inplace=True)\n",
       "        )\n",
       "      )\n",
       "      (3): DecoderBlock(\n",
       "        (conv1): Conv2dBnAct(\n",
       "          (conv): Conv2d(64, 32, kernel_size=(3, 3), stride=(1, 1), padding=(1, 1), bias=False)\n",
       "          (bn): BatchNorm2d(32, eps=1e-05, momentum=0.1, affine=True, track_running_stats=True)\n",
       "          (act): ReLU(inplace=True)\n",
       "        )\n",
       "        (conv2): Conv2dBnAct(\n",
       "          (conv): Conv2d(32, 32, kernel_size=(3, 3), stride=(1, 1), padding=(1, 1), bias=False)\n",
       "          (bn): BatchNorm2d(32, eps=1e-05, momentum=0.1, affine=True, track_running_stats=True)\n",
       "          (act): ReLU(inplace=True)\n",
       "        )\n",
       "      )\n",
       "      (4): DecoderBlock(\n",
       "        (conv1): Conv2dBnAct(\n",
       "          (conv): Conv2d(32, 16, kernel_size=(3, 3), stride=(1, 1), padding=(1, 1), bias=False)\n",
       "          (bn): BatchNorm2d(16, eps=1e-05, momentum=0.1, affine=True, track_running_stats=True)\n",
       "          (act): ReLU(inplace=True)\n",
       "        )\n",
       "        (conv2): Conv2dBnAct(\n",
       "          (conv): Conv2d(16, 16, kernel_size=(3, 3), stride=(1, 1), padding=(1, 1), bias=False)\n",
       "          (bn): BatchNorm2d(16, eps=1e-05, momentum=0.1, affine=True, track_running_stats=True)\n",
       "          (act): ReLU(inplace=True)\n",
       "        )\n",
       "      )\n",
       "    )\n",
       "    (final_conv): Conv2d(16, 1, kernel_size=(1, 1), stride=(1, 1))\n",
       "  )\n",
       ")"
      ]
     },
     "execution_count": 17,
     "metadata": {},
     "output_type": "execute_result"
    }
   ],
   "source": [
    "from backbones_unet.model.unet import Unet\n",
    "\n",
    "\"\"\"\n",
    "pre_model:\n",
    "    - weight source for model 1\n",
    "    - teacher model for model 2\n",
    "    - weight source and teacher model for model 3\n",
    "\"\"\"\n",
    "\n",
    "pre_model = Unet(\n",
    "    backbone='convnext_base', # backbone network name\n",
    "    in_channels=3,            # input channels (1 for gray-scale images, 3 for RGB, etc.)\n",
    "    num_classes=1,            # output channels (number of classes in your dataset)\n",
    ")\n",
    "\n",
    "checkpoint = torch.load(hyperparameters['resunet']['pre_trained_path'])\n",
    "pre_model.load_state_dict(checkpoint['model_state_dict'], strict=True)\n",
    "\n",
    "pre_model.to(device)"
   ]
  },
  {
   "cell_type": "markdown",
   "id": "1ae9b14a-a622-4399-883b-745f5425ac6d",
   "metadata": {},
   "source": [
    "## Weight Copy"
   ]
  },
  {
   "cell_type": "code",
   "execution_count": 18,
   "id": "89aebe61-2d33-47c6-a405-0abf1ad742d2",
   "metadata": {},
   "outputs": [
    {
     "data": {
      "text/plain": [
       "<All keys matched successfully>"
      ]
     },
     "execution_count": 18,
     "metadata": {},
     "output_type": "execute_result"
    }
   ],
   "source": [
    "pretrained_dict = pre_model.state_dict()\n",
    "model1_dict = model1.state_dict()\n",
    "\n",
    "new_state_dict1 = {}\n",
    "\n",
    "for k, v in pretrained_dict.items():\n",
    "    if k in model1_dict:\n",
    "        new_state_dict1[k] = v\n",
    "\n",
    "model1_dict.update(new_state_dict1)\n",
    "model1.load_state_dict(model1_dict)"
   ]
  },
  {
   "cell_type": "markdown",
   "id": "ecddd488-3586-46e7-99dc-34070da1e1e3",
   "metadata": {},
   "source": [
    "## Number of Parameters"
   ]
  },
  {
   "cell_type": "code",
   "execution_count": 19,
   "id": "64e9ca96-84c1-493e-90c1-bea3cdbffc62",
   "metadata": {
    "tags": []
   },
   "outputs": [
    {
     "name": "stdout",
     "output_type": "stream",
     "text": [
      "Model input size: torch.Size([1, 3, 320, 320])\n",
      "Model output size: torch.Size([1, 1, 320, 320])\n"
     ]
    }
   ],
   "source": [
    "### Dummy Data\n",
    "__batch_size = 1\n",
    "__in_channels = hyperparameters['resunet']['in_channels']\n",
    "__width = hyperparameters['resunet']['width']\n",
    "__height = hyperparameters['resunet']['height']\n",
    "\n",
    "dummy_input = torch.randn((__batch_size, __in_channels, __height, __width))\n",
    "dummy_out = model1(dummy_input)\n",
    "\n",
    "print(f'Model input size: {dummy_input.shape}')\n",
    "print(f'Model output size: {dummy_out.shape}')"
   ]
  },
  {
   "cell_type": "code",
   "execution_count": 20,
   "id": "f0bd5554-c7c4-4a58-97fb-7eeffbd52287",
   "metadata": {
    "tags": []
   },
   "outputs": [
    {
     "name": "stdout",
     "output_type": "stream",
     "text": [
      "Number of Parameters: 7,475,200\n"
     ]
    }
   ],
   "source": [
    "print(f'Number of Parameters: {sum(dummy_out.numel() for p in model1.parameters()):,}')"
   ]
  },
  {
   "cell_type": "markdown",
   "id": "fe41c2d1-ba7d-4cdb-937a-fec2ff59a67d",
   "metadata": {},
   "source": [
    "# Loss & Optimizer"
   ]
  },
  {
   "cell_type": "markdown",
   "id": "ee62385f-dd21-49bc-90ab-69cafb655d93",
   "metadata": {},
   "source": [
    "## Loss Function"
   ]
  },
  {
   "cell_type": "code",
   "execution_count": 21,
   "id": "cbc9001e-c2bb-41c5-86d6-a2b88f92c72a",
   "metadata": {},
   "outputs": [
    {
     "data": {
      "text/plain": [
       "'\\nmodel1 --> loss_fn (segmentation loss)\\nmodel2 --> total_loss (segmentation loss + distillation loss)\\n\\n'"
      ]
     },
     "execution_count": 21,
     "metadata": {},
     "output_type": "execute_result"
    }
   ],
   "source": [
    "\"\"\"\n",
    "model1 --> loss_fn (segmentation loss)\n",
    "model2 --> total_loss (segmentation loss + distillation loss)\n",
    "\n",
    "\"\"\""
   ]
  },
  {
   "cell_type": "code",
   "execution_count": 22,
   "id": "1f2409a7-f4c6-48de-8c90-3e37ac0504ce",
   "metadata": {
    "tags": []
   },
   "outputs": [],
   "source": [
    "criterion = nn.MSELoss(reduction='none')\n",
    "\n",
    "def loss_fn(img_input, pred_student, mask, teacher_model, alpha=0.01):\n",
    "    \n",
    "    loss_by_pixel = criterion(pred_student, mask)\n",
    "    loss = loss_by_pixel.mean()\n",
    "    \n",
    "    return loss"
   ]
  },
  {
   "cell_type": "code",
   "execution_count": 23,
   "id": "c3352bd2-41e4-46ba-8378-32de70ad6ca1",
   "metadata": {},
   "outputs": [],
   "source": [
    "@torch.no_grad()\n",
    "def dist_loss(img_input, pred_student, teacher_model):\n",
    "    teacher_model.eval()\n",
    "    pred_teacher = teacher_model(img_input)\n",
    "    distill_loss_by_pixel = criterion(pred_student, pred_teacher)\n",
    "    loss = distill_loss_by_pixel.mean()\n",
    "    \n",
    "    return loss"
   ]
  },
  {
   "cell_type": "code",
   "execution_count": 24,
   "id": "ef0207d4-ea3a-40b3-910a-8ee663e8c18b",
   "metadata": {},
   "outputs": [],
   "source": [
    "def total_loss(img_input, pred_student, mask, teacher_model, alpha=0.01):\n",
    "    segmentation_loss = loss_fn(img_input, pred_student, mask, teacher_model)\n",
    "    distillation_loss = dist_loss(img_input, pred_student, teacher_model)\n",
    "    total_loss = segmentation_loss + alpha * distillation_loss\n",
    "    \n",
    "    return total_loss"
   ]
  },
  {
   "cell_type": "markdown",
   "id": "a1231945-8f22-4d96-9b60-deefe5175715",
   "metadata": {},
   "source": [
    "## Optimizer & Scheduler"
   ]
  },
  {
   "cell_type": "code",
   "execution_count": 25,
   "id": "0851eeb9-61cd-48fa-9620-07251aedacf9",
   "metadata": {
    "tags": []
   },
   "outputs": [],
   "source": [
    "learning_rate = hyperparameters['optimizer']['lr']\n",
    "betas = hyperparameters['optimizer']['betas']\n",
    "\n",
    "optimizer1 = torch.optim.Adam(\n",
    "    model1.parameters(),\n",
    "    lr = learning_rate,\n",
    "    betas = betas, \n",
    ")\n",
    "\n",
    "optimizer2 = torch.optim.Adam(\n",
    "    model2.parameters(),\n",
    "    lr = learning_rate,\n",
    "    betas = betas, \n",
    ")\n",
    "\n",
    "scheduler1 = torch.optim.lr_scheduler.ReduceLROnPlateau(optimizer1, mode='min', patience=20, factor=0.1)\n",
    "scheduler2 = torch.optim.lr_scheduler.ReduceLROnPlateau(optimizer2, mode='min', patience=20, factor=0.1)"
   ]
  },
  {
   "cell_type": "code",
   "execution_count": 26,
   "id": "43588192-b5c2-47eb-be7d-5f14b3fa3517",
   "metadata": {},
   "outputs": [
    {
     "name": "stdout",
     "output_type": "stream",
     "text": [
      "Optimizer's state_dict:\n",
      "state \t {}\n",
      "param_groups \t [{'lr': 0.0001, 'betas': (0.9, 0.999), 'eps': 1e-08, 'weight_decay': 0, 'amsgrad': False, 'maximize': False, 'foreach': None, 'capturable': False, 'differentiable': False, 'fused': None, 'params': [0, 1, 2, 3, 4, 5, 6, 7, 8, 9, 10, 11, 12, 13, 14, 15, 16, 17, 18, 19, 20, 21, 22, 23, 24, 25, 26, 27, 28, 29, 30, 31, 32, 33, 34, 35, 36, 37, 38, 39, 40, 41, 42, 43, 44, 45, 46, 47, 48, 49, 50, 51, 52, 53, 54, 55, 56, 57, 58, 59, 60, 61, 62, 63, 64, 65, 66, 67, 68, 69, 70, 71, 72]}]\n"
     ]
    }
   ],
   "source": [
    "# Print optimizer's state_dict\n",
    "print(\"Optimizer's state_dict:\")\n",
    "for var_name in optimizer1.state_dict():\n",
    "    print(var_name, \"\\t\", optimizer1.state_dict()[var_name])"
   ]
  },
  {
   "cell_type": "markdown",
   "id": "5b01ec41-0d9d-4053-a7d2-b5fc6e159419",
   "metadata": {
    "tags": []
   },
   "source": [
    "# Training"
   ]
  },
  {
   "cell_type": "markdown",
   "id": "950951ef-d511-424c-b4a4-36cabc7dda67",
   "metadata": {},
   "source": [
    "## Train Function"
   ]
  },
  {
   "cell_type": "code",
   "execution_count": 27,
   "id": "7070db60-a7d2-44b7-a3cb-d03187d2b709",
   "metadata": {
    "tags": []
   },
   "outputs": [],
   "source": [
    "def train_fn(\n",
    "    epoch,\n",
    "    model,\n",
    "    dataloader, \n",
    "    optimizer, \n",
    "    scheduler,\n",
    "    criterion, \n",
    "    device,\n",
    "    gradient_clipping,\n",
    "    summary_writer\n",
    "):\n",
    "    \n",
    "    model.train()\n",
    "    \n",
    "    compute_avg = lambda x: sum(x) / len(x)\n",
    "    total_batches = len(dataloader)\n",
    "    write_interval = total_batches // 4\n",
    "    \n",
    "    avg_loss = []\n",
    "    epochs = hyperparameters['epochs']\n",
    "    \n",
    "    with tqdm(total=hyperparameters['training_size'], desc=f'Train/Epoch {epoch}/{epochs}', unit='img') as pbar:\n",
    "        for idx, (img, mask) in enumerate(dataloader):\n",
    "            img = img.to(device)\n",
    "            mask = mask.to(device)\n",
    "\n",
    "            optimizer.zero_grad()\n",
    "\n",
    "            pred_mask = model(img)\n",
    "\n",
    "            loss = criterion(img_input=img, \n",
    "                              pred_student=pred_mask, \n",
    "                              mask=mask, \n",
    "                              teacher_model=pre_model)\n",
    "\n",
    "            loss.backward()\n",
    "            torch.nn.utils.clip_grad_norm_(model.parameters(), gradient_clipping)\n",
    "            optimizer.step()\n",
    "\n",
    "            # Record Results\n",
    "            avg_loss.append(loss.item())\n",
    "\n",
    "            \"\"\"\n",
    "            # Update Progress Bar\n",
    "            _avg_loss = compute_avg(avg_loss)\n",
    "            \n",
    "            if idx % write_interval == 0:\n",
    "                summary_writer.add_scalar('Eval/Average Loss', _avg_loss, ((epoch-1)*total_batches) + idx)\n",
    "            \"\"\"\n",
    "            \n",
    "            pbar.update(img.shape[0])\n",
    "        \n",
    "    return compute_avg(avg_loss) "
   ]
  },
  {
   "cell_type": "markdown",
   "id": "d68c23a9-6836-4d3f-bba0-64ca2e843d09",
   "metadata": {},
   "source": [
    "## Evaluation Function"
   ]
  },
  {
   "cell_type": "code",
   "execution_count": 28,
   "id": "95503d40-59d5-4fb6-9ea8-0bf11ab0f775",
   "metadata": {
    "tags": []
   },
   "outputs": [],
   "source": [
    "@torch.no_grad()\n",
    "def eval_fn(\n",
    "    epoch,\n",
    "    model, \n",
    "    dataloader, \n",
    "    criterion, \n",
    "    device,\n",
    "    color_mapping,\n",
    "    summary_writer\n",
    "):\n",
    "    model.eval()\n",
    "    \n",
    "    # Average Loss and mIoU\n",
    "    avg_loss = []\n",
    "    avg_mIoU = []\n",
    "    \n",
    "    #Accuracy\n",
    "    total_correct = 0\n",
    "    total_pixel = 0\n",
    "\n",
    "    compute_avg = lambda x: sum(x) / len(x)\n",
    "    total_batches = len(dataloader)\n",
    "    write_interval = total_batches // 4\n",
    "    \n",
    "    epochs = hyperparameters['epochs']\n",
    "    \n",
    "    with tqdm(total=hyperparameters['test_size'], desc=f'Eval/Epoch {epoch}/{epochs}', unit='img') as pbar:\n",
    "        for idx, (img, mask) in enumerate(dataloader):\n",
    "            img = img.to(device)\n",
    "            mask = mask.to(device)\n",
    "\n",
    "            #Accuracy\n",
    "            num_correct, num_pixel = check_acc(img, mask, model, device)\n",
    "            total_correct += num_correct\n",
    "            total_pixel += num_pixel\n",
    "\n",
    "            pred_mask = model(img)\n",
    "            \n",
    "            loss = criterion(img_input=img, \n",
    "                              pred_student=pred_mask, \n",
    "                              mask=mask, \n",
    "                              teacher_model=pre_model)\n",
    "\n",
    "            # mIoU\n",
    "            miou = calculate_miou(pred_mask, mask, color_mapping)\n",
    "\n",
    "            avg_loss.append(loss.item())\n",
    "            avg_mIoU.append(miou.item())\n",
    "            \n",
    "            \n",
    "            \"\"\"\n",
    "            # Update Progress Bar\n",
    "            _avg_loss = compute_avg(avg_loss)\n",
    "            _avg_miou = compute_avg(avg_mIoU)\n",
    "            \n",
    "            if idx % write_interval == 0:\n",
    "                summary_writer.add_scalar('Eval/Average Loss', _avg_loss, ((epoch-1)*total_batches) + idx)\n",
    "                summary_writer.add_scalar('Eval/Average mIoU', _avg_miou, ((epoch-1)*total_batches) + idx)\n",
    "            \"\"\"  \n",
    "            \n",
    "            pbar.update(img.shape[0])\n",
    "\n",
    "    acc = 100*(num_correct/num_pixel)\n",
    "    return compute_avg(avg_loss), compute_avg(avg_mIoU), acc"
   ]
  },
  {
   "cell_type": "markdown",
   "id": "3f029069-9b68-45f0-b595-0f77c79cc70e",
   "metadata": {
    "jp-MarkdownHeadingCollapsed": true
   },
   "source": [
    "## Start Training"
   ]
  },
  {
   "cell_type": "code",
   "execution_count": 29,
   "id": "99160c94-cd3b-473a-83e2-a15d60ecc79a",
   "metadata": {
    "tags": []
   },
   "outputs": [],
   "source": [
    "best_model1 = {\n",
    "    'best_state_dict' : None,\n",
    "    'best_epoch' : None,\n",
    "    'best_eval_loss' : None,\n",
    "    'best_eval_miou' : 0.0,\n",
    "    'best_eval_acc' : None,\n",
    "}\n",
    "\n",
    "best_model2 = {\n",
    "    'best_state_dict' : None,\n",
    "    'best_epoch' : None,\n",
    "    'best_eval_loss' : None,\n",
    "    'best_eval_miou' : 0.0,\n",
    "    'best_eval_acc' : None,\n",
    "}\n",
    "\n",
    "history = {\n",
    "    'model1':{\n",
    "        'train_loss': [],\n",
    "        'eval_loss' : [],\n",
    "        'eval_miou' : [],\n",
    "        'eval_acc' : [],\n",
    "    },\n",
    "    'model2':{\n",
    "        'train_loss': [],\n",
    "        'eval_loss' : [],\n",
    "        'eval_miou' : [],\n",
    "        'eval_acc' : [],\n",
    "    },\n",
    "}"
   ]
  },
  {
   "cell_type": "code",
   "execution_count": 30,
   "id": "a5a10022-5c83-4329-b232-58cdb4076f04",
   "metadata": {
    "tags": []
   },
   "outputs": [],
   "source": [
    "def model1_train_start():\n",
    "    model1.to(device)\n",
    "    writer = SummaryWriter('runs/resunet18_model1')\n",
    "    \n",
    "    for epoch in range(1, hyperparameters['epochs']+1):  \n",
    "        \n",
    "        train_loss = train_fn(\n",
    "            epoch = epoch,\n",
    "            model = model1,\n",
    "            dataloader = train_dataloader, \n",
    "            optimizer = optimizer1, \n",
    "            scheduler = scheduler1,\n",
    "            criterion = loss_fn, \n",
    "            device = device,\n",
    "            gradient_clipping = hyperparameters['gradient_clipping'],\n",
    "            summary_writer = writer,\n",
    "        )\n",
    "        \n",
    "        eval_loss, eval_miou, eval_acc = eval_fn(\n",
    "            epoch = epoch,\n",
    "            model = model1, \n",
    "            dataloader = test_dataloader, \n",
    "            criterion = loss_fn, \n",
    "            device = device,\n",
    "            color_mapping = color_mapping,\n",
    "            summary_writer = writer,\n",
    "        )\n",
    "\n",
    "        print(f\"\"\"\"\n",
    "        Epoch: {epoch}, \n",
    "        Average Train Loss: {train_loss:.4f} |\n",
    "        Average Test Loss: {eval_loss:.4f} |\n",
    "        Average Test mIoU: {eval_miou:.2f}\n",
    "        Average Test Accuracy: {eval_acc}\"\"\")\n",
    "        \n",
    "        \n",
    "        #Tensorboard summary writer, saving the epoch results\n",
    "        writer.add_scalar('Train Loss',train_loss, epoch)\n",
    "        writer.add_scalar('Eval Loss',eval_loss, epoch)\n",
    "        writer.add_scalar('Eval mIoU',eval_miou, epoch)\n",
    "        writer.add_scalar('Eval Accuracy',eval_acc, epoch)\n",
    "        \n",
    "        \n",
    "        history['model1']['train_loss'].append(train_loss)\n",
    "        history['model1']['eval_loss'].append(eval_loss)\n",
    "        history['model1']['eval_miou'].append(eval_miou)\n",
    "        history['model1']['eval_acc'].append(eval_acc)\n",
    "        \n",
    "        \n",
    "        save_model(\n",
    "            model=model1, \n",
    "            optimizer=optimizer1, \n",
    "            root_folder=hyperparameters['checkpoints_dir']['model1'], \n",
    "            file_name='ResUNet18_Segmentation_checkpoint', \n",
    "            hyperparameter_dict=hyperparameters, \n",
    "            best_model=best_model1, \n",
    "            last_epoch=epoch, \n",
    "            verbose=False)\n",
    "        \n",
    "        if eval_miou > best_model1['best_eval_miou']:\n",
    "            best_model1['best_state_dict'] = model1.state_dict().copy()\n",
    "            best_model1['best_epoch'] = epoch\n",
    "            best_model1['best_eval_loss'] = eval_loss\n",
    "            best_model1['best_eval_miou'] = eval_miou\n",
    "            best_model1['best_eval_acc'] = eval_acc\n",
    "            \n",
    "            save_model(\n",
    "                model=model1, \n",
    "                optimizer=optimizer1, \n",
    "                root_folder=hyperparameters['checkpoints_dir']['model1'], \n",
    "                file_name='ResUNet18_Segmentation_best', \n",
    "                hyperparameter_dict=hyperparameters, \n",
    "                best_model=best_model1, \n",
    "                last_epoch=epoch, \n",
    "                verbose=True)\n",
    "            \n",
    "        scheduler1.step(eval_loss)\n",
    "        \n",
    "    writer.close()"
   ]
  },
  {
   "cell_type": "code",
   "execution_count": 31,
   "id": "bd5cb3ca-0d20-439e-9bdb-2b20699ed27d",
   "metadata": {},
   "outputs": [],
   "source": [
    "def model2_train_start():\n",
    "    model2.to(device)\n",
    "    writer = SummaryWriter('runs/resunet18_model2')\n",
    "    \n",
    "    for epoch in range(1, hyperparameters['epochs']+1):  \n",
    "        \n",
    "        train_loss = train_fn(\n",
    "            epoch = epoch,\n",
    "            model = model2,\n",
    "            dataloader = train_dataloader, \n",
    "            optimizer = optimizer2, \n",
    "            scheduler = scheduler2,\n",
    "            criterion = total_loss, \n",
    "            device = device,\n",
    "            gradient_clipping = hyperparameters['gradient_clipping'],\n",
    "            summary_writer = writer,\n",
    "        )\n",
    "        \n",
    "        eval_loss, eval_miou, eval_acc = eval_fn(\n",
    "            epoch = epoch,\n",
    "            model = model2, \n",
    "            dataloader = test_dataloader, \n",
    "            criterion = total_loss, \n",
    "            device = device,\n",
    "            color_mapping = color_mapping,\n",
    "            summary_writer = writer,\n",
    "        )\n",
    "\n",
    "        print(f\"\"\"\"\n",
    "        Epoch: {epoch}, \n",
    "        Average Train Loss: {train_loss:.4f} |\n",
    "        Average Test Loss: {eval_loss:.4f} |\n",
    "        Average Test mIoU: {eval_miou:.2f}\n",
    "        Average Test Accuracy: {eval_acc}\"\"\")\n",
    "        \n",
    "        \n",
    "        #Tensorboard summary writer, saving the epoch results\n",
    "        writer.add_scalar('Train Loss',train_loss, epoch)\n",
    "        writer.add_scalar('Eval Loss',eval_loss, epoch)\n",
    "        writer.add_scalar('Eval mIoU',eval_miou, epoch)\n",
    "        writer.add_scalar('Eval Accuracy',eval_acc, epoch)\n",
    "        \n",
    "        \n",
    "        history['model2']['train_loss'].append(train_loss)\n",
    "        history['model2']['eval_loss'].append(eval_loss)\n",
    "        history['model2']['eval_miou'].append(eval_miou)\n",
    "        history['model2']['eval_acc'].append(eval_acc)\n",
    "        \n",
    "        save_model(\n",
    "            model=model2, \n",
    "            optimizer=optimizer2, \n",
    "            root_folder=hyperparameters['checkpoints_dir']['model2'], \n",
    "            file_name='ResUNet18_Segmentation_checkpoint', \n",
    "            hyperparameter_dict=hyperparameters, \n",
    "            best_model=best_model2, \n",
    "            last_epoch=epoch, \n",
    "            verbose=False)\n",
    "        \n",
    "        if eval_miou > best_model2['best_eval_miou']:\n",
    "            best_model2['best_state_dict'] = model2.state_dict().copy()\n",
    "            best_model2['best_epoch'] = epoch\n",
    "            best_model2['best_eval_loss'] = eval_loss\n",
    "            best_model2['best_eval_miou'] = eval_miou\n",
    "            best_model2['best_eval_acc'] = eval_acc\n",
    "            \n",
    "            save_model(\n",
    "                model=model2, \n",
    "                optimizer=optimizer2, \n",
    "                root_folder=hyperparameters['checkpoints_dir']['model2'], \n",
    "                file_name='ResUNet18_Segmentation_best', \n",
    "                hyperparameter_dict=hyperparameters, \n",
    "                best_model=best_model2, \n",
    "                last_epoch=epoch, \n",
    "                verbose=True)\n",
    "            \n",
    "        scheduler2.step(eval_loss)\n",
    "        \n",
    "    writer.close()"
   ]
  },
  {
   "cell_type": "markdown",
   "id": "423a7147-80e2-42b3-82dd-33aead6fe302",
   "metadata": {},
   "source": [
    "## Model1 (Weight Copy) Training"
   ]
  },
  {
   "cell_type": "code",
   "execution_count": 32,
   "id": "3cd56556-ec71-4376-8c14-9ed7a9e9a152",
   "metadata": {
    "scrolled": true
   },
   "outputs": [
    {
     "name": "stderr",
     "output_type": "stream",
     "text": [
      "Train/Epoch 1/150: 100%|████████████████████████████████████████████████████████████| 104/104 [00:13<00:00,  7.69img/s]\n",
      "Eval/Epoch 1/150: 100%|███████████████████████████████████████████████████████████████| 27/27 [00:03<00:00,  8.99img/s]\n"
     ]
    },
    {
     "name": "stdout",
     "output_type": "stream",
     "text": [
      "\"\n",
      "        Epoch: 1, \n",
      "        Average Train Loss: 3.7209 |\n",
      "        Average Test Loss: 4.1874 |\n",
      "        Average Test mIoU: 1.54\n",
      "        Average Test Accuracy: 6.26233434677124\n",
      "Checkpoint: ResUNet18_Segmentation_best is saved successfully\n"
     ]
    },
    {
     "name": "stderr",
     "output_type": "stream",
     "text": [
      "Train/Epoch 2/150: 100%|████████████████████████████████████████████████████████████| 104/104 [00:06<00:00, 16.09img/s]\n",
      "Eval/Epoch 2/150: 100%|███████████████████████████████████████████████████████████████| 27/27 [00:02<00:00,  9.04img/s]\n"
     ]
    },
    {
     "name": "stdout",
     "output_type": "stream",
     "text": [
      "\"\n",
      "        Epoch: 2, \n",
      "        Average Train Loss: 2.1773 |\n",
      "        Average Test Loss: 2.6776 |\n",
      "        Average Test mIoU: 19.56\n",
      "        Average Test Accuracy: 38.148372650146484\n",
      "Checkpoint: ResUNet18_Segmentation_best is saved successfully\n"
     ]
    },
    {
     "name": "stderr",
     "output_type": "stream",
     "text": [
      "Train/Epoch 3/150: 100%|████████████████████████████████████████████████████████████| 104/104 [00:06<00:00, 15.84img/s]\n",
      "Eval/Epoch 3/150: 100%|███████████████████████████████████████████████████████████████| 27/27 [00:03<00:00,  8.98img/s]\n"
     ]
    },
    {
     "name": "stdout",
     "output_type": "stream",
     "text": [
      "\"\n",
      "        Epoch: 3, \n",
      "        Average Train Loss: 0.8907 |\n",
      "        Average Test Loss: 0.7990 |\n",
      "        Average Test mIoU: 23.41\n",
      "        Average Test Accuracy: 26.767730712890625\n",
      "Checkpoint: ResUNet18_Segmentation_best is saved successfully\n"
     ]
    },
    {
     "name": "stderr",
     "output_type": "stream",
     "text": [
      "Train/Epoch 4/150: 100%|████████████████████████████████████████████████████████████| 104/104 [00:06<00:00, 16.00img/s]\n",
      "Eval/Epoch 4/150: 100%|███████████████████████████████████████████████████████████████| 27/27 [00:03<00:00,  8.94img/s]\n"
     ]
    },
    {
     "name": "stdout",
     "output_type": "stream",
     "text": [
      "\"\n",
      "        Epoch: 4, \n",
      "        Average Train Loss: 0.4720 |\n",
      "        Average Test Loss: 1.2100 |\n",
      "        Average Test mIoU: 36.84\n",
      "        Average Test Accuracy: 44.62687301635742\n",
      "Checkpoint: ResUNet18_Segmentation_best is saved successfully\n"
     ]
    },
    {
     "name": "stderr",
     "output_type": "stream",
     "text": [
      "Train/Epoch 5/150: 100%|████████████████████████████████████████████████████████████| 104/104 [00:06<00:00, 16.00img/s]\n",
      "Eval/Epoch 5/150: 100%|███████████████████████████████████████████████████████████████| 27/27 [00:03<00:00,  8.86img/s]\n"
     ]
    },
    {
     "name": "stdout",
     "output_type": "stream",
     "text": [
      "\"\n",
      "        Epoch: 5, \n",
      "        Average Train Loss: 0.3813 |\n",
      "        Average Test Loss: 0.5030 |\n",
      "        Average Test mIoU: 42.94\n",
      "        Average Test Accuracy: 45.55524444580078\n",
      "Checkpoint: ResUNet18_Segmentation_best is saved successfully\n"
     ]
    },
    {
     "name": "stderr",
     "output_type": "stream",
     "text": [
      "Train/Epoch 6/150: 100%|████████████████████████████████████████████████████████████| 104/104 [00:06<00:00, 15.92img/s]\n",
      "Eval/Epoch 6/150: 100%|███████████████████████████████████████████████████████████████| 27/27 [00:03<00:00,  8.74img/s]\n"
     ]
    },
    {
     "name": "stdout",
     "output_type": "stream",
     "text": [
      "\"\n",
      "        Epoch: 6, \n",
      "        Average Train Loss: 0.3419 |\n",
      "        Average Test Loss: 0.2723 |\n",
      "        Average Test mIoU: 58.30\n",
      "        Average Test Accuracy: 67.06632232666016\n",
      "Checkpoint: ResUNet18_Segmentation_best is saved successfully\n"
     ]
    },
    {
     "name": "stderr",
     "output_type": "stream",
     "text": [
      "Train/Epoch 7/150: 100%|████████████████████████████████████████████████████████████| 104/104 [00:06<00:00, 15.74img/s]\n",
      "Eval/Epoch 7/150: 100%|███████████████████████████████████████████████████████████████| 27/27 [00:03<00:00,  8.76img/s]\n"
     ]
    },
    {
     "name": "stdout",
     "output_type": "stream",
     "text": [
      "\"\n",
      "        Epoch: 7, \n",
      "        Average Train Loss: 0.3158 |\n",
      "        Average Test Loss: 0.4120 |\n",
      "        Average Test mIoU: 49.47\n",
      "        Average Test Accuracy: 64.23530578613281\n"
     ]
    },
    {
     "name": "stderr",
     "output_type": "stream",
     "text": [
      "Train/Epoch 8/150: 100%|████████████████████████████████████████████████████████████| 104/104 [00:06<00:00, 15.70img/s]\n",
      "Eval/Epoch 8/150: 100%|███████████████████████████████████████████████████████████████| 27/27 [00:02<00:00,  9.04img/s]\n"
     ]
    },
    {
     "name": "stdout",
     "output_type": "stream",
     "text": [
      "\"\n",
      "        Epoch: 8, \n",
      "        Average Train Loss: 0.2579 |\n",
      "        Average Test Loss: 0.3330 |\n",
      "        Average Test mIoU: 57.63\n",
      "        Average Test Accuracy: 66.88906860351562\n"
     ]
    },
    {
     "name": "stderr",
     "output_type": "stream",
     "text": [
      "Train/Epoch 9/150: 100%|████████████████████████████████████████████████████████████| 104/104 [00:06<00:00, 16.15img/s]\n",
      "Eval/Epoch 9/150: 100%|███████████████████████████████████████████████████████████████| 27/27 [00:02<00:00,  9.01img/s]\n"
     ]
    },
    {
     "name": "stdout",
     "output_type": "stream",
     "text": [
      "\"\n",
      "        Epoch: 9, \n",
      "        Average Train Loss: 0.2481 |\n",
      "        Average Test Loss: 0.3636 |\n",
      "        Average Test mIoU: 57.60\n",
      "        Average Test Accuracy: 77.67283630371094\n"
     ]
    },
    {
     "name": "stderr",
     "output_type": "stream",
     "text": [
      "Train/Epoch 10/150: 100%|███████████████████████████████████████████████████████████| 104/104 [00:06<00:00, 15.92img/s]\n",
      "Eval/Epoch 10/150: 100%|██████████████████████████████████████████████████████████████| 27/27 [00:03<00:00,  8.82img/s]\n"
     ]
    },
    {
     "name": "stdout",
     "output_type": "stream",
     "text": [
      "\"\n",
      "        Epoch: 10, \n",
      "        Average Train Loss: 0.2635 |\n",
      "        Average Test Loss: 0.2018 |\n",
      "        Average Test mIoU: 64.24\n",
      "        Average Test Accuracy: 76.94982147216797\n",
      "Checkpoint: ResUNet18_Segmentation_best is saved successfully\n"
     ]
    },
    {
     "name": "stderr",
     "output_type": "stream",
     "text": [
      "Train/Epoch 11/150: 100%|███████████████████████████████████████████████████████████| 104/104 [00:06<00:00, 15.95img/s]\n",
      "Eval/Epoch 11/150: 100%|██████████████████████████████████████████████████████████████| 27/27 [00:02<00:00,  9.01img/s]\n"
     ]
    },
    {
     "name": "stdout",
     "output_type": "stream",
     "text": [
      "\"\n",
      "        Epoch: 11, \n",
      "        Average Train Loss: 0.2343 |\n",
      "        Average Test Loss: 0.1927 |\n",
      "        Average Test mIoU: 70.69\n",
      "        Average Test Accuracy: 85.11962890625\n",
      "Checkpoint: ResUNet18_Segmentation_best is saved successfully\n"
     ]
    },
    {
     "name": "stderr",
     "output_type": "stream",
     "text": [
      "Train/Epoch 12/150: 100%|███████████████████████████████████████████████████████████| 104/104 [00:06<00:00, 16.07img/s]\n",
      "Eval/Epoch 12/150: 100%|██████████████████████████████████████████████████████████████| 27/27 [00:02<00:00,  9.02img/s]\n"
     ]
    },
    {
     "name": "stdout",
     "output_type": "stream",
     "text": [
      "\"\n",
      "        Epoch: 12, \n",
      "        Average Train Loss: 0.2151 |\n",
      "        Average Test Loss: 0.1978 |\n",
      "        Average Test mIoU: 68.39\n",
      "        Average Test Accuracy: 80.70449829101562\n"
     ]
    },
    {
     "name": "stderr",
     "output_type": "stream",
     "text": [
      "Train/Epoch 13/150: 100%|███████████████████████████████████████████████████████████| 104/104 [00:06<00:00, 16.13img/s]\n",
      "Eval/Epoch 13/150: 100%|██████████████████████████████████████████████████████████████| 27/27 [00:03<00:00,  8.97img/s]\n"
     ]
    },
    {
     "name": "stdout",
     "output_type": "stream",
     "text": [
      "\"\n",
      "        Epoch: 13, \n",
      "        Average Train Loss: 0.2055 |\n",
      "        Average Test Loss: 0.1913 |\n",
      "        Average Test mIoU: 69.55\n",
      "        Average Test Accuracy: 85.67657470703125\n"
     ]
    },
    {
     "name": "stderr",
     "output_type": "stream",
     "text": [
      "Train/Epoch 14/150: 100%|███████████████████████████████████████████████████████████| 104/104 [00:06<00:00, 15.88img/s]\n",
      "Eval/Epoch 14/150: 100%|██████████████████████████████████████████████████████████████| 27/27 [00:02<00:00,  9.02img/s]\n"
     ]
    },
    {
     "name": "stdout",
     "output_type": "stream",
     "text": [
      "\"\n",
      "        Epoch: 14, \n",
      "        Average Train Loss: 0.2085 |\n",
      "        Average Test Loss: 0.1952 |\n",
      "        Average Test mIoU: 67.34\n",
      "        Average Test Accuracy: 84.11891174316406\n"
     ]
    },
    {
     "name": "stderr",
     "output_type": "stream",
     "text": [
      "Train/Epoch 15/150: 100%|███████████████████████████████████████████████████████████| 104/104 [00:06<00:00, 16.07img/s]\n",
      "Eval/Epoch 15/150: 100%|██████████████████████████████████████████████████████████████| 27/27 [00:03<00:00,  8.97img/s]\n"
     ]
    },
    {
     "name": "stdout",
     "output_type": "stream",
     "text": [
      "\"\n",
      "        Epoch: 15, \n",
      "        Average Train Loss: 0.1719 |\n",
      "        Average Test Loss: 0.1884 |\n",
      "        Average Test mIoU: 68.93\n",
      "        Average Test Accuracy: 81.58709716796875\n"
     ]
    },
    {
     "name": "stderr",
     "output_type": "stream",
     "text": [
      "Train/Epoch 16/150: 100%|███████████████████████████████████████████████████████████| 104/104 [00:06<00:00, 15.95img/s]\n",
      "Eval/Epoch 16/150: 100%|██████████████████████████████████████████████████████████████| 27/27 [00:03<00:00,  8.95img/s]\n"
     ]
    },
    {
     "name": "stdout",
     "output_type": "stream",
     "text": [
      "\"\n",
      "        Epoch: 16, \n",
      "        Average Train Loss: 0.1827 |\n",
      "        Average Test Loss: 0.1442 |\n",
      "        Average Test mIoU: 74.31\n",
      "        Average Test Accuracy: 89.89690399169922\n",
      "Checkpoint: ResUNet18_Segmentation_best is saved successfully\n"
     ]
    },
    {
     "name": "stderr",
     "output_type": "stream",
     "text": [
      "Train/Epoch 17/150: 100%|███████████████████████████████████████████████████████████| 104/104 [00:06<00:00, 16.07img/s]\n",
      "Eval/Epoch 17/150: 100%|██████████████████████████████████████████████████████████████| 27/27 [00:02<00:00,  9.01img/s]\n"
     ]
    },
    {
     "name": "stdout",
     "output_type": "stream",
     "text": [
      "\"\n",
      "        Epoch: 17, \n",
      "        Average Train Loss: 0.1654 |\n",
      "        Average Test Loss: 0.1668 |\n",
      "        Average Test mIoU: 72.38\n",
      "        Average Test Accuracy: 87.73117065429688\n"
     ]
    },
    {
     "name": "stderr",
     "output_type": "stream",
     "text": [
      "Train/Epoch 18/150: 100%|███████████████████████████████████████████████████████████| 104/104 [00:06<00:00, 15.92img/s]\n",
      "Eval/Epoch 18/150: 100%|██████████████████████████████████████████████████████████████| 27/27 [00:03<00:00,  8.82img/s]\n"
     ]
    },
    {
     "name": "stdout",
     "output_type": "stream",
     "text": [
      "\"\n",
      "        Epoch: 18, \n",
      "        Average Train Loss: 0.1686 |\n",
      "        Average Test Loss: 0.1365 |\n",
      "        Average Test mIoU: 74.61\n",
      "        Average Test Accuracy: 89.8381576538086\n",
      "Checkpoint: ResUNet18_Segmentation_best is saved successfully\n"
     ]
    },
    {
     "name": "stderr",
     "output_type": "stream",
     "text": [
      "Train/Epoch 19/150: 100%|███████████████████████████████████████████████████████████| 104/104 [00:06<00:00, 16.08img/s]\n",
      "Eval/Epoch 19/150: 100%|██████████████████████████████████████████████████████████████| 27/27 [00:03<00:00,  9.00img/s]\n"
     ]
    },
    {
     "name": "stdout",
     "output_type": "stream",
     "text": [
      "\"\n",
      "        Epoch: 19, \n",
      "        Average Train Loss: 0.1512 |\n",
      "        Average Test Loss: 0.1643 |\n",
      "        Average Test mIoU: 71.01\n",
      "        Average Test Accuracy: 87.09119415283203\n"
     ]
    },
    {
     "name": "stderr",
     "output_type": "stream",
     "text": [
      "Train/Epoch 20/150: 100%|███████████████████████████████████████████████████████████| 104/104 [00:06<00:00, 15.95img/s]\n",
      "Eval/Epoch 20/150: 100%|██████████████████████████████████████████████████████████████| 27/27 [00:03<00:00,  8.90img/s]\n"
     ]
    },
    {
     "name": "stdout",
     "output_type": "stream",
     "text": [
      "\"\n",
      "        Epoch: 20, \n",
      "        Average Train Loss: 0.1582 |\n",
      "        Average Test Loss: 0.1135 |\n",
      "        Average Test mIoU: 79.87\n",
      "        Average Test Accuracy: 93.13316345214844\n",
      "Checkpoint: ResUNet18_Segmentation_best is saved successfully\n"
     ]
    },
    {
     "name": "stderr",
     "output_type": "stream",
     "text": [
      "Train/Epoch 21/150: 100%|███████████████████████████████████████████████████████████| 104/104 [00:06<00:00, 16.05img/s]\n",
      "Eval/Epoch 21/150: 100%|██████████████████████████████████████████████████████████████| 27/27 [00:03<00:00,  8.95img/s]\n"
     ]
    },
    {
     "name": "stdout",
     "output_type": "stream",
     "text": [
      "\"\n",
      "        Epoch: 21, \n",
      "        Average Train Loss: 0.1429 |\n",
      "        Average Test Loss: 0.1572 |\n",
      "        Average Test mIoU: 74.42\n",
      "        Average Test Accuracy: 88.23356628417969\n"
     ]
    },
    {
     "name": "stderr",
     "output_type": "stream",
     "text": [
      "Train/Epoch 22/150: 100%|███████████████████████████████████████████████████████████| 104/104 [00:06<00:00, 15.92img/s]\n",
      "Eval/Epoch 22/150: 100%|██████████████████████████████████████████████████████████████| 27/27 [00:03<00:00,  8.98img/s]\n"
     ]
    },
    {
     "name": "stdout",
     "output_type": "stream",
     "text": [
      "\"\n",
      "        Epoch: 22, \n",
      "        Average Train Loss: 0.1419 |\n",
      "        Average Test Loss: 0.1186 |\n",
      "        Average Test mIoU: 77.77\n",
      "        Average Test Accuracy: 91.60334777832031\n"
     ]
    },
    {
     "name": "stderr",
     "output_type": "stream",
     "text": [
      "Train/Epoch 23/150: 100%|███████████████████████████████████████████████████████████| 104/104 [00:06<00:00, 15.88img/s]\n",
      "Eval/Epoch 23/150: 100%|██████████████████████████████████████████████████████████████| 27/27 [00:02<00:00,  9.20img/s]\n"
     ]
    },
    {
     "name": "stdout",
     "output_type": "stream",
     "text": [
      "\"\n",
      "        Epoch: 23, \n",
      "        Average Train Loss: 0.1418 |\n",
      "        Average Test Loss: 0.1380 |\n",
      "        Average Test mIoU: 74.78\n",
      "        Average Test Accuracy: 86.77253723144531\n"
     ]
    },
    {
     "name": "stderr",
     "output_type": "stream",
     "text": [
      "Train/Epoch 24/150: 100%|███████████████████████████████████████████████████████████| 104/104 [00:06<00:00, 15.68img/s]\n",
      "Eval/Epoch 24/150: 100%|██████████████████████████████████████████████████████████████| 27/27 [00:02<00:00,  9.06img/s]\n"
     ]
    },
    {
     "name": "stdout",
     "output_type": "stream",
     "text": [
      "\"\n",
      "        Epoch: 24, \n",
      "        Average Train Loss: 0.1507 |\n",
      "        Average Test Loss: 0.1197 |\n",
      "        Average Test mIoU: 77.11\n",
      "        Average Test Accuracy: 90.66556549072266\n"
     ]
    },
    {
     "name": "stderr",
     "output_type": "stream",
     "text": [
      "Train/Epoch 25/150: 100%|███████████████████████████████████████████████████████████| 104/104 [00:06<00:00, 15.66img/s]\n",
      "Eval/Epoch 25/150: 100%|██████████████████████████████████████████████████████████████| 27/27 [00:02<00:00,  9.15img/s]\n"
     ]
    },
    {
     "name": "stdout",
     "output_type": "stream",
     "text": [
      "\"\n",
      "        Epoch: 25, \n",
      "        Average Train Loss: 0.1390 |\n",
      "        Average Test Loss: 0.1114 |\n",
      "        Average Test mIoU: 79.18\n",
      "        Average Test Accuracy: 91.19033813476562\n"
     ]
    },
    {
     "name": "stderr",
     "output_type": "stream",
     "text": [
      "Train/Epoch 26/150: 100%|███████████████████████████████████████████████████████████| 104/104 [00:06<00:00, 15.96img/s]\n",
      "Eval/Epoch 26/150: 100%|██████████████████████████████████████████████████████████████| 27/27 [00:03<00:00,  8.90img/s]\n"
     ]
    },
    {
     "name": "stdout",
     "output_type": "stream",
     "text": [
      "\"\n",
      "        Epoch: 26, \n",
      "        Average Train Loss: 0.1290 |\n",
      "        Average Test Loss: 0.1118 |\n",
      "        Average Test mIoU: 80.25\n",
      "        Average Test Accuracy: 92.8532943725586\n",
      "Checkpoint: ResUNet18_Segmentation_best is saved successfully\n"
     ]
    },
    {
     "name": "stderr",
     "output_type": "stream",
     "text": [
      "Train/Epoch 27/150: 100%|███████████████████████████████████████████████████████████| 104/104 [00:06<00:00, 15.92img/s]\n",
      "Eval/Epoch 27/150: 100%|██████████████████████████████████████████████████████████████| 27/27 [00:02<00:00,  9.19img/s]\n"
     ]
    },
    {
     "name": "stdout",
     "output_type": "stream",
     "text": [
      "\"\n",
      "        Epoch: 27, \n",
      "        Average Train Loss: 0.1245 |\n",
      "        Average Test Loss: 0.1063 |\n",
      "        Average Test mIoU: 81.22\n",
      "        Average Test Accuracy: 93.34691619873047\n",
      "Checkpoint: ResUNet18_Segmentation_best is saved successfully\n"
     ]
    },
    {
     "name": "stderr",
     "output_type": "stream",
     "text": [
      "Train/Epoch 28/150: 100%|███████████████████████████████████████████████████████████| 104/104 [00:06<00:00, 16.07img/s]\n",
      "Eval/Epoch 28/150: 100%|██████████████████████████████████████████████████████████████| 27/27 [00:03<00:00,  8.99img/s]\n"
     ]
    },
    {
     "name": "stdout",
     "output_type": "stream",
     "text": [
      "\"\n",
      "        Epoch: 28, \n",
      "        Average Train Loss: 0.1432 |\n",
      "        Average Test Loss: 0.1178 |\n",
      "        Average Test mIoU: 77.79\n",
      "        Average Test Accuracy: 89.70655059814453\n"
     ]
    },
    {
     "name": "stderr",
     "output_type": "stream",
     "text": [
      "Train/Epoch 29/150: 100%|███████████████████████████████████████████████████████████| 104/104 [00:06<00:00, 15.87img/s]\n",
      "Eval/Epoch 29/150: 100%|██████████████████████████████████████████████████████████████| 27/27 [00:03<00:00,  8.89img/s]\n"
     ]
    },
    {
     "name": "stdout",
     "output_type": "stream",
     "text": [
      "\"\n",
      "        Epoch: 29, \n",
      "        Average Train Loss: 0.1268 |\n",
      "        Average Test Loss: 0.1237 |\n",
      "        Average Test mIoU: 77.76\n",
      "        Average Test Accuracy: 89.34644317626953\n"
     ]
    },
    {
     "name": "stderr",
     "output_type": "stream",
     "text": [
      "Train/Epoch 30/150: 100%|███████████████████████████████████████████████████████████| 104/104 [00:06<00:00, 15.82img/s]\n",
      "Eval/Epoch 30/150: 100%|██████████████████████████████████████████████████████████████| 27/27 [00:03<00:00,  8.85img/s]\n"
     ]
    },
    {
     "name": "stdout",
     "output_type": "stream",
     "text": [
      "\"\n",
      "        Epoch: 30, \n",
      "        Average Train Loss: 0.1104 |\n",
      "        Average Test Loss: 0.1063 |\n",
      "        Average Test mIoU: 81.08\n",
      "        Average Test Accuracy: 92.28643035888672\n"
     ]
    },
    {
     "name": "stderr",
     "output_type": "stream",
     "text": [
      "Train/Epoch 31/150: 100%|███████████████████████████████████████████████████████████| 104/104 [00:06<00:00, 15.91img/s]\n",
      "Eval/Epoch 31/150: 100%|██████████████████████████████████████████████████████████████| 27/27 [00:02<00:00,  9.01img/s]\n"
     ]
    },
    {
     "name": "stdout",
     "output_type": "stream",
     "text": [
      "\"\n",
      "        Epoch: 31, \n",
      "        Average Train Loss: 0.1319 |\n",
      "        Average Test Loss: 0.1189 |\n",
      "        Average Test mIoU: 77.14\n",
      "        Average Test Accuracy: 90.487548828125\n"
     ]
    },
    {
     "name": "stderr",
     "output_type": "stream",
     "text": [
      "Train/Epoch 32/150: 100%|███████████████████████████████████████████████████████████| 104/104 [00:06<00:00, 16.17img/s]\n",
      "Eval/Epoch 32/150: 100%|██████████████████████████████████████████████████████████████| 27/27 [00:03<00:00,  8.91img/s]\n"
     ]
    },
    {
     "name": "stdout",
     "output_type": "stream",
     "text": [
      "\"\n",
      "        Epoch: 32, \n",
      "        Average Train Loss: 0.1314 |\n",
      "        Average Test Loss: 0.1151 |\n",
      "        Average Test mIoU: 78.97\n",
      "        Average Test Accuracy: 89.12010192871094\n"
     ]
    },
    {
     "name": "stderr",
     "output_type": "stream",
     "text": [
      "Train/Epoch 33/150: 100%|███████████████████████████████████████████████████████████| 104/104 [00:06<00:00, 15.96img/s]\n",
      "Eval/Epoch 33/150: 100%|██████████████████████████████████████████████████████████████| 27/27 [00:02<00:00,  9.19img/s]\n"
     ]
    },
    {
     "name": "stdout",
     "output_type": "stream",
     "text": [
      "\"\n",
      "        Epoch: 33, \n",
      "        Average Train Loss: 0.1137 |\n",
      "        Average Test Loss: 0.1069 |\n",
      "        Average Test mIoU: 80.84\n",
      "        Average Test Accuracy: 93.37565612792969\n"
     ]
    },
    {
     "name": "stderr",
     "output_type": "stream",
     "text": [
      "Train/Epoch 34/150: 100%|███████████████████████████████████████████████████████████| 104/104 [00:06<00:00, 15.99img/s]\n",
      "Eval/Epoch 34/150: 100%|██████████████████████████████████████████████████████████████| 27/27 [00:03<00:00,  8.90img/s]\n"
     ]
    },
    {
     "name": "stdout",
     "output_type": "stream",
     "text": [
      "\"\n",
      "        Epoch: 34, \n",
      "        Average Train Loss: 0.1172 |\n",
      "        Average Test Loss: 0.0927 |\n",
      "        Average Test mIoU: 82.19\n",
      "        Average Test Accuracy: 94.78912353515625\n",
      "Checkpoint: ResUNet18_Segmentation_best is saved successfully\n"
     ]
    },
    {
     "name": "stderr",
     "output_type": "stream",
     "text": [
      "Train/Epoch 35/150: 100%|███████████████████████████████████████████████████████████| 104/104 [00:06<00:00, 16.07img/s]\n",
      "Eval/Epoch 35/150: 100%|██████████████████████████████████████████████████████████████| 27/27 [00:03<00:00,  8.95img/s]\n"
     ]
    },
    {
     "name": "stdout",
     "output_type": "stream",
     "text": [
      "\"\n",
      "        Epoch: 35, \n",
      "        Average Train Loss: 0.1104 |\n",
      "        Average Test Loss: 0.1129 |\n",
      "        Average Test mIoU: 79.87\n",
      "        Average Test Accuracy: 92.59745788574219\n"
     ]
    },
    {
     "name": "stderr",
     "output_type": "stream",
     "text": [
      "Train/Epoch 36/150: 100%|███████████████████████████████████████████████████████████| 104/104 [00:06<00:00, 15.99img/s]\n",
      "Eval/Epoch 36/150: 100%|██████████████████████████████████████████████████████████████| 27/27 [00:02<00:00,  9.14img/s]\n"
     ]
    },
    {
     "name": "stdout",
     "output_type": "stream",
     "text": [
      "\"\n",
      "        Epoch: 36, \n",
      "        Average Train Loss: 0.1144 |\n",
      "        Average Test Loss: 0.0956 |\n",
      "        Average Test mIoU: 82.07\n",
      "        Average Test Accuracy: 93.8481674194336\n"
     ]
    },
    {
     "name": "stderr",
     "output_type": "stream",
     "text": [
      "Train/Epoch 37/150: 100%|███████████████████████████████████████████████████████████| 104/104 [00:06<00:00, 15.96img/s]\n",
      "Eval/Epoch 37/150: 100%|██████████████████████████████████████████████████████████████| 27/27 [00:03<00:00,  8.86img/s]\n"
     ]
    },
    {
     "name": "stdout",
     "output_type": "stream",
     "text": [
      "\"\n",
      "        Epoch: 37, \n",
      "        Average Train Loss: 0.1216 |\n",
      "        Average Test Loss: 0.0955 |\n",
      "        Average Test mIoU: 81.51\n",
      "        Average Test Accuracy: 93.15719604492188\n"
     ]
    },
    {
     "name": "stderr",
     "output_type": "stream",
     "text": [
      "Train/Epoch 38/150: 100%|███████████████████████████████████████████████████████████| 104/104 [00:06<00:00, 16.15img/s]\n",
      "Eval/Epoch 38/150: 100%|██████████████████████████████████████████████████████████████| 27/27 [00:03<00:00,  8.95img/s]\n"
     ]
    },
    {
     "name": "stdout",
     "output_type": "stream",
     "text": [
      "\"\n",
      "        Epoch: 38, \n",
      "        Average Train Loss: 0.1187 |\n",
      "        Average Test Loss: 0.0873 |\n",
      "        Average Test mIoU: 84.07\n",
      "        Average Test Accuracy: 95.44029235839844\n",
      "Checkpoint: ResUNet18_Segmentation_best is saved successfully\n"
     ]
    },
    {
     "name": "stderr",
     "output_type": "stream",
     "text": [
      "Train/Epoch 39/150: 100%|███████████████████████████████████████████████████████████| 104/104 [00:06<00:00, 15.62img/s]\n",
      "Eval/Epoch 39/150: 100%|██████████████████████████████████████████████████████████████| 27/27 [00:02<00:00,  9.09img/s]\n"
     ]
    },
    {
     "name": "stdout",
     "output_type": "stream",
     "text": [
      "\"\n",
      "        Epoch: 39, \n",
      "        Average Train Loss: 0.1151 |\n",
      "        Average Test Loss: 0.1046 |\n",
      "        Average Test mIoU: 81.03\n",
      "        Average Test Accuracy: 93.62590026855469\n"
     ]
    },
    {
     "name": "stderr",
     "output_type": "stream",
     "text": [
      "Train/Epoch 40/150: 100%|███████████████████████████████████████████████████████████| 104/104 [00:06<00:00, 15.85img/s]\n",
      "Eval/Epoch 40/150: 100%|██████████████████████████████████████████████████████████████| 27/27 [00:02<00:00,  9.09img/s]\n"
     ]
    },
    {
     "name": "stdout",
     "output_type": "stream",
     "text": [
      "\"\n",
      "        Epoch: 40, \n",
      "        Average Train Loss: 0.1144 |\n",
      "        Average Test Loss: 0.1081 |\n",
      "        Average Test mIoU: 80.27\n",
      "        Average Test Accuracy: 93.22306823730469\n"
     ]
    },
    {
     "name": "stderr",
     "output_type": "stream",
     "text": [
      "Train/Epoch 41/150: 100%|███████████████████████████████████████████████████████████| 104/104 [00:06<00:00, 15.99img/s]\n",
      "Eval/Epoch 41/150: 100%|██████████████████████████████████████████████████████████████| 27/27 [00:03<00:00,  8.81img/s]\n"
     ]
    },
    {
     "name": "stdout",
     "output_type": "stream",
     "text": [
      "\"\n",
      "        Epoch: 41, \n",
      "        Average Train Loss: 0.1009 |\n",
      "        Average Test Loss: 0.0828 |\n",
      "        Average Test mIoU: 85.02\n",
      "        Average Test Accuracy: 95.61614990234375\n",
      "Checkpoint: ResUNet18_Segmentation_best is saved successfully\n"
     ]
    },
    {
     "name": "stderr",
     "output_type": "stream",
     "text": [
      "Train/Epoch 42/150: 100%|███████████████████████████████████████████████████████████| 104/104 [00:06<00:00, 15.99img/s]\n",
      "Eval/Epoch 42/150: 100%|██████████████████████████████████████████████████████████████| 27/27 [00:03<00:00,  8.95img/s]\n"
     ]
    },
    {
     "name": "stdout",
     "output_type": "stream",
     "text": [
      "\"\n",
      "        Epoch: 42, \n",
      "        Average Train Loss: 0.0960 |\n",
      "        Average Test Loss: 0.0933 |\n",
      "        Average Test mIoU: 82.78\n",
      "        Average Test Accuracy: 92.88139343261719\n"
     ]
    },
    {
     "name": "stderr",
     "output_type": "stream",
     "text": [
      "Train/Epoch 43/150: 100%|███████████████████████████████████████████████████████████| 104/104 [00:06<00:00, 16.18img/s]\n",
      "Eval/Epoch 43/150: 100%|██████████████████████████████████████████████████████████████| 27/27 [00:03<00:00,  8.95img/s]\n"
     ]
    },
    {
     "name": "stdout",
     "output_type": "stream",
     "text": [
      "\"\n",
      "        Epoch: 43, \n",
      "        Average Train Loss: 0.0982 |\n",
      "        Average Test Loss: 0.0872 |\n",
      "        Average Test mIoU: 83.43\n",
      "        Average Test Accuracy: 94.3907470703125\n"
     ]
    },
    {
     "name": "stderr",
     "output_type": "stream",
     "text": [
      "Train/Epoch 44/150: 100%|███████████████████████████████████████████████████████████| 104/104 [00:06<00:00, 15.95img/s]\n",
      "Eval/Epoch 44/150: 100%|██████████████████████████████████████████████████████████████| 27/27 [00:03<00:00,  9.00img/s]\n"
     ]
    },
    {
     "name": "stdout",
     "output_type": "stream",
     "text": [
      "\"\n",
      "        Epoch: 44, \n",
      "        Average Train Loss: 0.0955 |\n",
      "        Average Test Loss: 0.0928 |\n",
      "        Average Test mIoU: 82.45\n",
      "        Average Test Accuracy: 91.68777465820312\n"
     ]
    },
    {
     "name": "stderr",
     "output_type": "stream",
     "text": [
      "Train/Epoch 45/150: 100%|███████████████████████████████████████████████████████████| 104/104 [00:06<00:00, 16.07img/s]\n",
      "Eval/Epoch 45/150: 100%|██████████████████████████████████████████████████████████████| 27/27 [00:03<00:00,  8.86img/s]\n"
     ]
    },
    {
     "name": "stdout",
     "output_type": "stream",
     "text": [
      "\"\n",
      "        Epoch: 45, \n",
      "        Average Train Loss: 0.1033 |\n",
      "        Average Test Loss: 0.0923 |\n",
      "        Average Test mIoU: 82.21\n",
      "        Average Test Accuracy: 94.84100341796875\n"
     ]
    },
    {
     "name": "stderr",
     "output_type": "stream",
     "text": [
      "Train/Epoch 46/150: 100%|███████████████████████████████████████████████████████████| 104/104 [00:06<00:00, 15.96img/s]\n",
      "Eval/Epoch 46/150: 100%|██████████████████████████████████████████████████████████████| 27/27 [00:03<00:00,  8.95img/s]\n"
     ]
    },
    {
     "name": "stdout",
     "output_type": "stream",
     "text": [
      "\"\n",
      "        Epoch: 46, \n",
      "        Average Train Loss: 0.1109 |\n",
      "        Average Test Loss: 0.1007 |\n",
      "        Average Test mIoU: 81.54\n",
      "        Average Test Accuracy: 93.01261901855469\n"
     ]
    },
    {
     "name": "stderr",
     "output_type": "stream",
     "text": [
      "Train/Epoch 47/150: 100%|███████████████████████████████████████████████████████████| 104/104 [00:06<00:00, 15.99img/s]\n",
      "Eval/Epoch 47/150: 100%|██████████████████████████████████████████████████████████████| 27/27 [00:03<00:00,  8.90img/s]\n"
     ]
    },
    {
     "name": "stdout",
     "output_type": "stream",
     "text": [
      "\"\n",
      "        Epoch: 47, \n",
      "        Average Train Loss: 0.1035 |\n",
      "        Average Test Loss: 0.0984 |\n",
      "        Average Test mIoU: 82.81\n",
      "        Average Test Accuracy: 93.40604400634766\n"
     ]
    },
    {
     "name": "stderr",
     "output_type": "stream",
     "text": [
      "Train/Epoch 48/150: 100%|███████████████████████████████████████████████████████████| 104/104 [00:06<00:00, 15.99img/s]\n",
      "Eval/Epoch 48/150: 100%|██████████████████████████████████████████████████████████████| 27/27 [00:02<00:00,  9.04img/s]\n"
     ]
    },
    {
     "name": "stdout",
     "output_type": "stream",
     "text": [
      "\"\n",
      "        Epoch: 48, \n",
      "        Average Train Loss: 0.1037 |\n",
      "        Average Test Loss: 0.1014 |\n",
      "        Average Test mIoU: 81.97\n",
      "        Average Test Accuracy: 93.84613037109375\n"
     ]
    },
    {
     "name": "stderr",
     "output_type": "stream",
     "text": [
      "Train/Epoch 49/150: 100%|███████████████████████████████████████████████████████████| 104/104 [00:06<00:00, 16.03img/s]\n",
      "Eval/Epoch 49/150: 100%|██████████████████████████████████████████████████████████████| 27/27 [00:03<00:00,  8.95img/s]\n"
     ]
    },
    {
     "name": "stdout",
     "output_type": "stream",
     "text": [
      "\"\n",
      "        Epoch: 49, \n",
      "        Average Train Loss: 0.0902 |\n",
      "        Average Test Loss: 0.0970 |\n",
      "        Average Test mIoU: 81.38\n",
      "        Average Test Accuracy: 92.55269622802734\n"
     ]
    },
    {
     "name": "stderr",
     "output_type": "stream",
     "text": [
      "Train/Epoch 50/150: 100%|███████████████████████████████████████████████████████████| 104/104 [00:06<00:00, 15.92img/s]\n",
      "Eval/Epoch 50/150: 100%|██████████████████████████████████████████████████████████████| 27/27 [00:02<00:00,  9.14img/s]\n"
     ]
    },
    {
     "name": "stdout",
     "output_type": "stream",
     "text": [
      "\"\n",
      "        Epoch: 50, \n",
      "        Average Train Loss: 0.1005 |\n",
      "        Average Test Loss: 0.0927 |\n",
      "        Average Test mIoU: 83.64\n",
      "        Average Test Accuracy: 95.66790771484375\n"
     ]
    },
    {
     "name": "stderr",
     "output_type": "stream",
     "text": [
      "Train/Epoch 51/150: 100%|███████████████████████████████████████████████████████████| 104/104 [00:06<00:00, 16.03img/s]\n",
      "Eval/Epoch 51/150: 100%|██████████████████████████████████████████████████████████████| 27/27 [00:03<00:00,  8.91img/s]\n"
     ]
    },
    {
     "name": "stdout",
     "output_type": "stream",
     "text": [
      "\"\n",
      "        Epoch: 51, \n",
      "        Average Train Loss: 0.1024 |\n",
      "        Average Test Loss: 0.0994 |\n",
      "        Average Test mIoU: 82.44\n",
      "        Average Test Accuracy: 93.44546508789062\n"
     ]
    },
    {
     "name": "stderr",
     "output_type": "stream",
     "text": [
      "Train/Epoch 52/150: 100%|███████████████████████████████████████████████████████████| 104/104 [00:06<00:00, 16.07img/s]\n",
      "Eval/Epoch 52/150: 100%|██████████████████████████████████████████████████████████████| 27/27 [00:03<00:00,  9.00img/s]\n"
     ]
    },
    {
     "name": "stdout",
     "output_type": "stream",
     "text": [
      "\"\n",
      "        Epoch: 52, \n",
      "        Average Train Loss: 0.0993 |\n",
      "        Average Test Loss: 0.1028 |\n",
      "        Average Test mIoU: 82.67\n",
      "        Average Test Accuracy: 94.09561157226562\n"
     ]
    },
    {
     "name": "stderr",
     "output_type": "stream",
     "text": [
      "Train/Epoch 53/150: 100%|███████████████████████████████████████████████████████████| 104/104 [00:06<00:00, 15.95img/s]\n",
      "Eval/Epoch 53/150: 100%|██████████████████████████████████████████████████████████████| 27/27 [00:03<00:00,  8.81img/s]\n"
     ]
    },
    {
     "name": "stdout",
     "output_type": "stream",
     "text": [
      "\"\n",
      "        Epoch: 53, \n",
      "        Average Train Loss: 0.0962 |\n",
      "        Average Test Loss: 0.0812 |\n",
      "        Average Test mIoU: 84.52\n",
      "        Average Test Accuracy: 94.81227111816406\n"
     ]
    },
    {
     "name": "stderr",
     "output_type": "stream",
     "text": [
      "Train/Epoch 54/150: 100%|███████████████████████████████████████████████████████████| 104/104 [00:06<00:00, 16.11img/s]\n",
      "Eval/Epoch 54/150: 100%|██████████████████████████████████████████████████████████████| 27/27 [00:03<00:00,  8.95img/s]\n"
     ]
    },
    {
     "name": "stdout",
     "output_type": "stream",
     "text": [
      "\"\n",
      "        Epoch: 54, \n",
      "        Average Train Loss: 0.0945 |\n",
      "        Average Test Loss: 0.0866 |\n",
      "        Average Test mIoU: 84.49\n",
      "        Average Test Accuracy: 94.77500915527344\n"
     ]
    },
    {
     "name": "stderr",
     "output_type": "stream",
     "text": [
      "Train/Epoch 55/150: 100%|███████████████████████████████████████████████████████████| 104/104 [00:06<00:00, 15.99img/s]\n",
      "Eval/Epoch 55/150: 100%|██████████████████████████████████████████████████████████████| 27/27 [00:03<00:00,  8.86img/s]\n"
     ]
    },
    {
     "name": "stdout",
     "output_type": "stream",
     "text": [
      "\"\n",
      "        Epoch: 55, \n",
      "        Average Train Loss: 0.0876 |\n",
      "        Average Test Loss: 0.0929 |\n",
      "        Average Test mIoU: 82.85\n",
      "        Average Test Accuracy: 94.72987365722656\n"
     ]
    },
    {
     "name": "stderr",
     "output_type": "stream",
     "text": [
      "Train/Epoch 56/150: 100%|███████████████████████████████████████████████████████████| 104/104 [00:06<00:00, 16.19img/s]\n",
      "Eval/Epoch 56/150: 100%|██████████████████████████████████████████████████████████████| 27/27 [00:03<00:00,  8.99img/s]\n"
     ]
    },
    {
     "name": "stdout",
     "output_type": "stream",
     "text": [
      "\"\n",
      "        Epoch: 56, \n",
      "        Average Train Loss: 0.0874 |\n",
      "        Average Test Loss: 0.0822 |\n",
      "        Average Test mIoU: 84.32\n",
      "        Average Test Accuracy: 94.47314453125\n"
     ]
    },
    {
     "name": "stderr",
     "output_type": "stream",
     "text": [
      "Train/Epoch 57/150: 100%|███████████████████████████████████████████████████████████| 104/104 [00:06<00:00, 15.92img/s]\n",
      "Eval/Epoch 57/150: 100%|██████████████████████████████████████████████████████████████| 27/27 [00:06<00:00,  4.31img/s]\n"
     ]
    },
    {
     "name": "stdout",
     "output_type": "stream",
     "text": [
      "\"\n",
      "        Epoch: 57, \n",
      "        Average Train Loss: 0.0851 |\n",
      "        Average Test Loss: 0.1026 |\n",
      "        Average Test mIoU: 83.08\n",
      "        Average Test Accuracy: 94.78594970703125\n"
     ]
    },
    {
     "name": "stderr",
     "output_type": "stream",
     "text": [
      "Train/Epoch 58/150: 100%|███████████████████████████████████████████████████████████| 104/104 [00:06<00:00, 16.07img/s]\n",
      "Eval/Epoch 58/150: 100%|██████████████████████████████████████████████████████████████| 27/27 [00:03<00:00,  9.00img/s]\n"
     ]
    },
    {
     "name": "stdout",
     "output_type": "stream",
     "text": [
      "\"\n",
      "        Epoch: 58, \n",
      "        Average Train Loss: 0.0795 |\n",
      "        Average Test Loss: 0.0880 |\n",
      "        Average Test mIoU: 84.58\n",
      "        Average Test Accuracy: 94.83960723876953\n"
     ]
    },
    {
     "name": "stderr",
     "output_type": "stream",
     "text": [
      "Train/Epoch 59/150: 100%|███████████████████████████████████████████████████████████| 104/104 [00:06<00:00, 15.77img/s]\n",
      "Eval/Epoch 59/150: 100%|██████████████████████████████████████████████████████████████| 27/27 [00:02<00:00,  9.09img/s]\n"
     ]
    },
    {
     "name": "stdout",
     "output_type": "stream",
     "text": [
      "\"\n",
      "        Epoch: 59, \n",
      "        Average Train Loss: 0.0843 |\n",
      "        Average Test Loss: 0.0872 |\n",
      "        Average Test mIoU: 83.84\n",
      "        Average Test Accuracy: 93.81358337402344\n"
     ]
    },
    {
     "name": "stderr",
     "output_type": "stream",
     "text": [
      "Train/Epoch 60/150: 100%|███████████████████████████████████████████████████████████| 104/104 [00:06<00:00, 15.48img/s]\n",
      "Eval/Epoch 60/150: 100%|██████████████████████████████████████████████████████████████| 27/27 [00:02<00:00,  9.05img/s]\n"
     ]
    },
    {
     "name": "stdout",
     "output_type": "stream",
     "text": [
      "\"\n",
      "        Epoch: 60, \n",
      "        Average Train Loss: 0.0849 |\n",
      "        Average Test Loss: 0.0921 |\n",
      "        Average Test mIoU: 84.45\n",
      "        Average Test Accuracy: 95.12303924560547\n"
     ]
    },
    {
     "name": "stderr",
     "output_type": "stream",
     "text": [
      "Train/Epoch 61/150: 100%|███████████████████████████████████████████████████████████| 104/104 [00:06<00:00, 15.69img/s]\n",
      "Eval/Epoch 61/150: 100%|██████████████████████████████████████████████████████████████| 27/27 [00:03<00:00,  8.77img/s]\n"
     ]
    },
    {
     "name": "stdout",
     "output_type": "stream",
     "text": [
      "\"\n",
      "        Epoch: 61, \n",
      "        Average Train Loss: 0.0863 |\n",
      "        Average Test Loss: 0.1033 |\n",
      "        Average Test mIoU: 80.61\n",
      "        Average Test Accuracy: 92.437744140625\n"
     ]
    },
    {
     "name": "stderr",
     "output_type": "stream",
     "text": [
      "Train/Epoch 62/150: 100%|███████████████████████████████████████████████████████████| 104/104 [00:06<00:00, 15.92img/s]\n",
      "Eval/Epoch 62/150: 100%|██████████████████████████████████████████████████████████████| 27/27 [00:03<00:00,  8.99img/s]\n"
     ]
    },
    {
     "name": "stdout",
     "output_type": "stream",
     "text": [
      "\"\n",
      "        Epoch: 62, \n",
      "        Average Train Loss: 0.0948 |\n",
      "        Average Test Loss: 0.0946 |\n",
      "        Average Test mIoU: 82.56\n",
      "        Average Test Accuracy: 93.50141143798828\n"
     ]
    },
    {
     "name": "stderr",
     "output_type": "stream",
     "text": [
      "Train/Epoch 63/150: 100%|███████████████████████████████████████████████████████████| 104/104 [00:06<00:00, 15.96img/s]\n",
      "Eval/Epoch 63/150: 100%|██████████████████████████████████████████████████████████████| 27/27 [00:02<00:00,  9.04img/s]\n"
     ]
    },
    {
     "name": "stdout",
     "output_type": "stream",
     "text": [
      "\"\n",
      "        Epoch: 63, \n",
      "        Average Train Loss: 0.0796 |\n",
      "        Average Test Loss: 0.0801 |\n",
      "        Average Test mIoU: 85.73\n",
      "        Average Test Accuracy: 96.11600494384766\n",
      "Checkpoint: ResUNet18_Segmentation_best is saved successfully\n"
     ]
    },
    {
     "name": "stderr",
     "output_type": "stream",
     "text": [
      "Train/Epoch 64/150: 100%|███████████████████████████████████████████████████████████| 104/104 [00:06<00:00, 15.99img/s]\n",
      "Eval/Epoch 64/150: 100%|██████████████████████████████████████████████████████████████| 27/27 [00:03<00:00,  8.81img/s]\n"
     ]
    },
    {
     "name": "stdout",
     "output_type": "stream",
     "text": [
      "\"\n",
      "        Epoch: 64, \n",
      "        Average Train Loss: 0.0882 |\n",
      "        Average Test Loss: 0.0753 |\n",
      "        Average Test mIoU: 85.74\n",
      "        Average Test Accuracy: 94.68498229980469\n",
      "Checkpoint: ResUNet18_Segmentation_best is saved successfully\n"
     ]
    },
    {
     "name": "stderr",
     "output_type": "stream",
     "text": [
      "Train/Epoch 65/150: 100%|███████████████████████████████████████████████████████████| 104/104 [00:06<00:00, 15.92img/s]\n",
      "Eval/Epoch 65/150: 100%|██████████████████████████████████████████████████████████████| 27/27 [00:02<00:00,  9.19img/s]\n"
     ]
    },
    {
     "name": "stdout",
     "output_type": "stream",
     "text": [
      "\"\n",
      "        Epoch: 65, \n",
      "        Average Train Loss: 0.0930 |\n",
      "        Average Test Loss: 0.0805 |\n",
      "        Average Test mIoU: 84.95\n",
      "        Average Test Accuracy: 95.62352752685547\n"
     ]
    },
    {
     "name": "stderr",
     "output_type": "stream",
     "text": [
      "Train/Epoch 66/150: 100%|███████████████████████████████████████████████████████████| 104/104 [00:06<00:00, 15.99img/s]\n",
      "Eval/Epoch 66/150: 100%|██████████████████████████████████████████████████████████████| 27/27 [00:03<00:00,  8.90img/s]\n"
     ]
    },
    {
     "name": "stdout",
     "output_type": "stream",
     "text": [
      "\"\n",
      "        Epoch: 66, \n",
      "        Average Train Loss: 0.0857 |\n",
      "        Average Test Loss: 0.0913 |\n",
      "        Average Test mIoU: 84.29\n",
      "        Average Test Accuracy: 95.33004760742188\n"
     ]
    },
    {
     "name": "stderr",
     "output_type": "stream",
     "text": [
      "Train/Epoch 67/150: 100%|███████████████████████████████████████████████████████████| 104/104 [00:06<00:00, 15.99img/s]\n",
      "Eval/Epoch 67/150: 100%|██████████████████████████████████████████████████████████████| 27/27 [00:02<00:00,  9.19img/s]\n"
     ]
    },
    {
     "name": "stdout",
     "output_type": "stream",
     "text": [
      "\"\n",
      "        Epoch: 67, \n",
      "        Average Train Loss: 0.0912 |\n",
      "        Average Test Loss: 0.0847 |\n",
      "        Average Test mIoU: 85.35\n",
      "        Average Test Accuracy: 95.85113525390625\n"
     ]
    },
    {
     "name": "stderr",
     "output_type": "stream",
     "text": [
      "Train/Epoch 68/150: 100%|███████████████████████████████████████████████████████████| 104/104 [00:06<00:00, 15.99img/s]\n",
      "Eval/Epoch 68/150: 100%|██████████████████████████████████████████████████████████████| 27/27 [00:03<00:00,  8.90img/s]\n"
     ]
    },
    {
     "name": "stdout",
     "output_type": "stream",
     "text": [
      "\"\n",
      "        Epoch: 68, \n",
      "        Average Train Loss: 0.0868 |\n",
      "        Average Test Loss: 0.0948 |\n",
      "        Average Test mIoU: 83.28\n",
      "        Average Test Accuracy: 93.6120376586914\n"
     ]
    },
    {
     "name": "stderr",
     "output_type": "stream",
     "text": [
      "Train/Epoch 69/150: 100%|███████████████████████████████████████████████████████████| 104/104 [00:06<00:00, 16.11img/s]\n",
      "Eval/Epoch 69/150: 100%|██████████████████████████████████████████████████████████████| 27/27 [00:03<00:00,  9.00img/s]\n"
     ]
    },
    {
     "name": "stdout",
     "output_type": "stream",
     "text": [
      "\"\n",
      "        Epoch: 69, \n",
      "        Average Train Loss: 0.0800 |\n",
      "        Average Test Loss: 0.0771 |\n",
      "        Average Test mIoU: 84.55\n",
      "        Average Test Accuracy: 95.0566635131836\n"
     ]
    },
    {
     "name": "stderr",
     "output_type": "stream",
     "text": [
      "Train/Epoch 70/150: 100%|███████████████████████████████████████████████████████████| 104/104 [00:06<00:00, 16.11img/s]\n",
      "Eval/Epoch 70/150: 100%|██████████████████████████████████████████████████████████████| 27/27 [00:03<00:00,  8.95img/s]\n"
     ]
    },
    {
     "name": "stdout",
     "output_type": "stream",
     "text": [
      "\"\n",
      "        Epoch: 70, \n",
      "        Average Train Loss: 0.0805 |\n",
      "        Average Test Loss: 0.0844 |\n",
      "        Average Test mIoU: 84.81\n",
      "        Average Test Accuracy: 94.23701477050781\n"
     ]
    },
    {
     "name": "stderr",
     "output_type": "stream",
     "text": [
      "Train/Epoch 71/150: 100%|███████████████████████████████████████████████████████████| 104/104 [00:06<00:00, 16.22img/s]\n",
      "Eval/Epoch 71/150: 100%|██████████████████████████████████████████████████████████████| 27/27 [00:03<00:00,  8.95img/s]\n"
     ]
    },
    {
     "name": "stdout",
     "output_type": "stream",
     "text": [
      "\"\n",
      "        Epoch: 71, \n",
      "        Average Train Loss: 0.0779 |\n",
      "        Average Test Loss: 0.0763 |\n",
      "        Average Test mIoU: 86.57\n",
      "        Average Test Accuracy: 96.3078842163086\n",
      "Checkpoint: ResUNet18_Segmentation_best is saved successfully\n"
     ]
    },
    {
     "name": "stderr",
     "output_type": "stream",
     "text": [
      "Train/Epoch 72/150: 100%|███████████████████████████████████████████████████████████| 104/104 [00:06<00:00, 15.99img/s]\n",
      "Eval/Epoch 72/150: 100%|██████████████████████████████████████████████████████████████| 27/27 [00:02<00:00,  9.08img/s]\n"
     ]
    },
    {
     "name": "stdout",
     "output_type": "stream",
     "text": [
      "\"\n",
      "        Epoch: 72, \n",
      "        Average Train Loss: 0.0743 |\n",
      "        Average Test Loss: 0.0835 |\n",
      "        Average Test mIoU: 85.92\n",
      "        Average Test Accuracy: 96.13876342773438\n"
     ]
    },
    {
     "name": "stderr",
     "output_type": "stream",
     "text": [
      "Train/Epoch 73/150: 100%|███████████████████████████████████████████████████████████| 104/104 [00:06<00:00, 16.03img/s]\n",
      "Eval/Epoch 73/150: 100%|██████████████████████████████████████████████████████████████| 27/27 [00:03<00:00,  8.99img/s]\n"
     ]
    },
    {
     "name": "stdout",
     "output_type": "stream",
     "text": [
      "\"\n",
      "        Epoch: 73, \n",
      "        Average Train Loss: 0.0798 |\n",
      "        Average Test Loss: 0.0880 |\n",
      "        Average Test mIoU: 85.45\n",
      "        Average Test Accuracy: 95.38002014160156\n"
     ]
    },
    {
     "name": "stderr",
     "output_type": "stream",
     "text": [
      "Train/Epoch 74/150: 100%|███████████████████████████████████████████████████████████| 104/104 [00:06<00:00, 16.19img/s]\n",
      "Eval/Epoch 74/150: 100%|██████████████████████████████████████████████████████████████| 27/27 [00:03<00:00,  8.94img/s]\n"
     ]
    },
    {
     "name": "stdout",
     "output_type": "stream",
     "text": [
      "\"\n",
      "        Epoch: 74, \n",
      "        Average Train Loss: 0.0817 |\n",
      "        Average Test Loss: 0.0831 |\n",
      "        Average Test mIoU: 84.65\n",
      "        Average Test Accuracy: 95.0810775756836\n"
     ]
    },
    {
     "name": "stderr",
     "output_type": "stream",
     "text": [
      "Train/Epoch 75/150: 100%|███████████████████████████████████████████████████████████| 104/104 [00:06<00:00, 15.96img/s]\n",
      "Eval/Epoch 75/150: 100%|██████████████████████████████████████████████████████████████| 27/27 [00:02<00:00,  9.04img/s]\n"
     ]
    },
    {
     "name": "stdout",
     "output_type": "stream",
     "text": [
      "\"\n",
      "        Epoch: 75, \n",
      "        Average Train Loss: 0.0871 |\n",
      "        Average Test Loss: 0.0985 |\n",
      "        Average Test mIoU: 82.36\n",
      "        Average Test Accuracy: 92.47869110107422\n"
     ]
    },
    {
     "name": "stderr",
     "output_type": "stream",
     "text": [
      "Train/Epoch 76/150: 100%|███████████████████████████████████████████████████████████| 104/104 [00:06<00:00, 16.03img/s]\n",
      "Eval/Epoch 76/150: 100%|██████████████████████████████████████████████████████████████| 27/27 [00:03<00:00,  8.95img/s]\n"
     ]
    },
    {
     "name": "stdout",
     "output_type": "stream",
     "text": [
      "\"\n",
      "        Epoch: 76, \n",
      "        Average Train Loss: 0.0733 |\n",
      "        Average Test Loss: 0.0776 |\n",
      "        Average Test mIoU: 85.53\n",
      "        Average Test Accuracy: 95.96685028076172\n"
     ]
    },
    {
     "name": "stderr",
     "output_type": "stream",
     "text": [
      "Train/Epoch 77/150: 100%|███████████████████████████████████████████████████████████| 104/104 [00:06<00:00, 16.00img/s]\n",
      "Eval/Epoch 77/150: 100%|██████████████████████████████████████████████████████████████| 27/27 [00:02<00:00,  9.14img/s]\n"
     ]
    },
    {
     "name": "stdout",
     "output_type": "stream",
     "text": [
      "\"\n",
      "        Epoch: 77, \n",
      "        Average Train Loss: 0.0755 |\n",
      "        Average Test Loss: 0.0862 |\n",
      "        Average Test mIoU: 84.08\n",
      "        Average Test Accuracy: 93.59054565429688\n"
     ]
    },
    {
     "name": "stderr",
     "output_type": "stream",
     "text": [
      "Train/Epoch 78/150: 100%|███████████████████████████████████████████████████████████| 104/104 [00:06<00:00, 15.99img/s]\n",
      "Eval/Epoch 78/150: 100%|██████████████████████████████████████████████████████████████| 27/27 [00:03<00:00,  8.90img/s]\n"
     ]
    },
    {
     "name": "stdout",
     "output_type": "stream",
     "text": [
      "\"\n",
      "        Epoch: 78, \n",
      "        Average Train Loss: 0.0743 |\n",
      "        Average Test Loss: 0.0833 |\n",
      "        Average Test mIoU: 84.59\n",
      "        Average Test Accuracy: 94.99969482421875\n"
     ]
    },
    {
     "name": "stderr",
     "output_type": "stream",
     "text": [
      "Train/Epoch 79/150: 100%|███████████████████████████████████████████████████████████| 104/104 [00:06<00:00, 16.19img/s]\n",
      "Eval/Epoch 79/150: 100%|██████████████████████████████████████████████████████████████| 27/27 [00:03<00:00,  8.95img/s]\n"
     ]
    },
    {
     "name": "stdout",
     "output_type": "stream",
     "text": [
      "\"\n",
      "        Epoch: 79, \n",
      "        Average Train Loss: 0.0717 |\n",
      "        Average Test Loss: 0.0842 |\n",
      "        Average Test mIoU: 83.97\n",
      "        Average Test Accuracy: 94.06840515136719\n"
     ]
    },
    {
     "name": "stderr",
     "output_type": "stream",
     "text": [
      "Train/Epoch 80/150: 100%|███████████████████████████████████████████████████████████| 104/104 [00:06<00:00, 15.92img/s]\n",
      "Eval/Epoch 80/150: 100%|██████████████████████████████████████████████████████████████| 27/27 [00:03<00:00,  8.81img/s]\n"
     ]
    },
    {
     "name": "stdout",
     "output_type": "stream",
     "text": [
      "\"\n",
      "        Epoch: 80, \n",
      "        Average Train Loss: 0.0774 |\n",
      "        Average Test Loss: 0.0781 |\n",
      "        Average Test mIoU: 86.52\n",
      "        Average Test Accuracy: 96.74034118652344\n"
     ]
    },
    {
     "name": "stderr",
     "output_type": "stream",
     "text": [
      "Train/Epoch 81/150: 100%|███████████████████████████████████████████████████████████| 104/104 [00:06<00:00, 15.92img/s]\n",
      "Eval/Epoch 81/150: 100%|██████████████████████████████████████████████████████████████| 27/27 [00:02<00:00,  9.19img/s]\n"
     ]
    },
    {
     "name": "stdout",
     "output_type": "stream",
     "text": [
      "\"\n",
      "        Epoch: 81, \n",
      "        Average Train Loss: 0.0748 |\n",
      "        Average Test Loss: 0.0916 |\n",
      "        Average Test mIoU: 83.19\n",
      "        Average Test Accuracy: 93.46784210205078\n"
     ]
    },
    {
     "name": "stderr",
     "output_type": "stream",
     "text": [
      "Train/Epoch 82/150: 100%|███████████████████████████████████████████████████████████| 104/104 [00:06<00:00, 15.92img/s]\n",
      "Eval/Epoch 82/150: 100%|██████████████████████████████████████████████████████████████| 27/27 [00:03<00:00,  8.85img/s]\n"
     ]
    },
    {
     "name": "stdout",
     "output_type": "stream",
     "text": [
      "\"\n",
      "        Epoch: 82, \n",
      "        Average Train Loss: 0.0744 |\n",
      "        Average Test Loss: 0.0817 |\n",
      "        Average Test mIoU: 85.61\n",
      "        Average Test Accuracy: 95.7635269165039\n"
     ]
    },
    {
     "name": "stderr",
     "output_type": "stream",
     "text": [
      "Train/Epoch 83/150: 100%|███████████████████████████████████████████████████████████| 104/104 [00:06<00:00, 15.95img/s]\n",
      "Eval/Epoch 83/150: 100%|██████████████████████████████████████████████████████████████| 27/27 [00:03<00:00,  8.86img/s]\n"
     ]
    },
    {
     "name": "stdout",
     "output_type": "stream",
     "text": [
      "\"\n",
      "        Epoch: 83, \n",
      "        Average Train Loss: 0.0749 |\n",
      "        Average Test Loss: 0.0837 |\n",
      "        Average Test mIoU: 85.85\n",
      "        Average Test Accuracy: 95.60127258300781\n"
     ]
    },
    {
     "name": "stderr",
     "output_type": "stream",
     "text": [
      "Train/Epoch 84/150: 100%|███████████████████████████████████████████████████████████| 104/104 [00:06<00:00, 16.11img/s]\n",
      "Eval/Epoch 84/150: 100%|██████████████████████████████████████████████████████████████| 27/27 [00:03<00:00,  8.99img/s]\n"
     ]
    },
    {
     "name": "stdout",
     "output_type": "stream",
     "text": [
      "\"\n",
      "        Epoch: 84, \n",
      "        Average Train Loss: 0.0822 |\n",
      "        Average Test Loss: 0.0897 |\n",
      "        Average Test mIoU: 84.54\n",
      "        Average Test Accuracy: 93.91187286376953\n"
     ]
    },
    {
     "name": "stderr",
     "output_type": "stream",
     "text": [
      "Train/Epoch 85/150: 100%|███████████████████████████████████████████████████████████| 104/104 [00:06<00:00, 15.96img/s]\n",
      "Eval/Epoch 85/150: 100%|██████████████████████████████████████████████████████████████| 27/27 [00:03<00:00,  8.86img/s]\n"
     ]
    },
    {
     "name": "stdout",
     "output_type": "stream",
     "text": [
      "\"\n",
      "        Epoch: 85, \n",
      "        Average Train Loss: 0.0740 |\n",
      "        Average Test Loss: 0.0720 |\n",
      "        Average Test mIoU: 86.82\n",
      "        Average Test Accuracy: 96.8266830444336\n",
      "Checkpoint: ResUNet18_Segmentation_best is saved successfully\n"
     ]
    },
    {
     "name": "stderr",
     "output_type": "stream",
     "text": [
      "Train/Epoch 86/150: 100%|███████████████████████████████████████████████████████████| 104/104 [00:06<00:00, 15.92img/s]\n",
      "Eval/Epoch 86/150: 100%|██████████████████████████████████████████████████████████████| 27/27 [00:02<00:00,  9.09img/s]\n"
     ]
    },
    {
     "name": "stdout",
     "output_type": "stream",
     "text": [
      "\"\n",
      "        Epoch: 86, \n",
      "        Average Train Loss: 0.0670 |\n",
      "        Average Test Loss: 0.0834 |\n",
      "        Average Test mIoU: 85.67\n",
      "        Average Test Accuracy: 95.77674865722656\n"
     ]
    },
    {
     "name": "stderr",
     "output_type": "stream",
     "text": [
      "Train/Epoch 87/150: 100%|███████████████████████████████████████████████████████████| 104/104 [00:06<00:00, 15.95img/s]\n",
      "Eval/Epoch 87/150: 100%|██████████████████████████████████████████████████████████████| 27/27 [00:03<00:00,  9.00img/s]\n"
     ]
    },
    {
     "name": "stdout",
     "output_type": "stream",
     "text": [
      "\"\n",
      "        Epoch: 87, \n",
      "        Average Train Loss: 0.0761 |\n",
      "        Average Test Loss: 0.0931 |\n",
      "        Average Test mIoU: 85.73\n",
      "        Average Test Accuracy: 96.09400939941406\n"
     ]
    },
    {
     "name": "stderr",
     "output_type": "stream",
     "text": [
      "Train/Epoch 88/150: 100%|███████████████████████████████████████████████████████████| 104/104 [00:06<00:00, 15.95img/s]\n",
      "Eval/Epoch 88/150: 100%|██████████████████████████████████████████████████████████████| 27/27 [00:02<00:00,  9.14img/s]\n"
     ]
    },
    {
     "name": "stdout",
     "output_type": "stream",
     "text": [
      "\"\n",
      "        Epoch: 88, \n",
      "        Average Train Loss: 0.0722 |\n",
      "        Average Test Loss: 0.0728 |\n",
      "        Average Test mIoU: 87.03\n",
      "        Average Test Accuracy: 96.52430725097656\n",
      "Checkpoint: ResUNet18_Segmentation_best is saved successfully\n"
     ]
    },
    {
     "name": "stderr",
     "output_type": "stream",
     "text": [
      "Train/Epoch 89/150: 100%|███████████████████████████████████████████████████████████| 104/104 [00:06<00:00, 15.99img/s]\n",
      "Eval/Epoch 89/150: 100%|██████████████████████████████████████████████████████████████| 27/27 [00:03<00:00,  8.85img/s]\n"
     ]
    },
    {
     "name": "stdout",
     "output_type": "stream",
     "text": [
      "\"\n",
      "        Epoch: 89, \n",
      "        Average Train Loss: 0.0786 |\n",
      "        Average Test Loss: 0.0812 |\n",
      "        Average Test mIoU: 84.99\n",
      "        Average Test Accuracy: 93.64217376708984\n"
     ]
    },
    {
     "name": "stderr",
     "output_type": "stream",
     "text": [
      "Train/Epoch 90/150: 100%|███████████████████████████████████████████████████████████| 104/104 [00:06<00:00, 16.18img/s]\n",
      "Eval/Epoch 90/150: 100%|██████████████████████████████████████████████████████████████| 27/27 [00:02<00:00,  9.04img/s]\n"
     ]
    },
    {
     "name": "stdout",
     "output_type": "stream",
     "text": [
      "\"\n",
      "        Epoch: 90, \n",
      "        Average Train Loss: 0.0680 |\n",
      "        Average Test Loss: 0.0748 |\n",
      "        Average Test mIoU: 86.07\n",
      "        Average Test Accuracy: 96.2188720703125\n"
     ]
    },
    {
     "name": "stderr",
     "output_type": "stream",
     "text": [
      "Train/Epoch 91/150: 100%|███████████████████████████████████████████████████████████| 104/104 [00:06<00:00, 16.00img/s]\n",
      "Eval/Epoch 91/150: 100%|██████████████████████████████████████████████████████████████| 27/27 [00:02<00:00,  9.09img/s]\n"
     ]
    },
    {
     "name": "stdout",
     "output_type": "stream",
     "text": [
      "\"\n",
      "        Epoch: 91, \n",
      "        Average Train Loss: 0.0684 |\n",
      "        Average Test Loss: 0.0752 |\n",
      "        Average Test mIoU: 86.91\n",
      "        Average Test Accuracy: 95.72181701660156\n"
     ]
    },
    {
     "name": "stderr",
     "output_type": "stream",
     "text": [
      "Train/Epoch 92/150: 100%|███████████████████████████████████████████████████████████| 104/104 [00:06<00:00, 15.96img/s]\n",
      "Eval/Epoch 92/150: 100%|██████████████████████████████████████████████████████████████| 27/27 [00:03<00:00,  8.90img/s]\n"
     ]
    },
    {
     "name": "stdout",
     "output_type": "stream",
     "text": [
      "\"\n",
      "        Epoch: 92, \n",
      "        Average Train Loss: 0.0619 |\n",
      "        Average Test Loss: 0.0799 |\n",
      "        Average Test mIoU: 85.79\n",
      "        Average Test Accuracy: 94.8968276977539\n"
     ]
    },
    {
     "name": "stderr",
     "output_type": "stream",
     "text": [
      "Train/Epoch 93/150: 100%|███████████████████████████████████████████████████████████| 104/104 [00:06<00:00, 16.08img/s]\n",
      "Eval/Epoch 93/150: 100%|██████████████████████████████████████████████████████████████| 27/27 [00:03<00:00,  9.00img/s]\n"
     ]
    },
    {
     "name": "stdout",
     "output_type": "stream",
     "text": [
      "\"\n",
      "        Epoch: 93, \n",
      "        Average Train Loss: 0.0664 |\n",
      "        Average Test Loss: 0.0924 |\n",
      "        Average Test mIoU: 84.78\n",
      "        Average Test Accuracy: 95.5571517944336\n"
     ]
    },
    {
     "name": "stderr",
     "output_type": "stream",
     "text": [
      "Train/Epoch 94/150: 100%|███████████████████████████████████████████████████████████| 104/104 [00:06<00:00, 16.04img/s]\n",
      "Eval/Epoch 94/150: 100%|██████████████████████████████████████████████████████████████| 27/27 [00:03<00:00,  8.95img/s]\n"
     ]
    },
    {
     "name": "stdout",
     "output_type": "stream",
     "text": [
      "\"\n",
      "        Epoch: 94, \n",
      "        Average Train Loss: 0.0652 |\n",
      "        Average Test Loss: 0.0827 |\n",
      "        Average Test mIoU: 85.02\n",
      "        Average Test Accuracy: 95.01546478271484\n"
     ]
    },
    {
     "name": "stderr",
     "output_type": "stream",
     "text": [
      "Train/Epoch 95/150: 100%|███████████████████████████████████████████████████████████| 104/104 [00:06<00:00, 16.00img/s]\n",
      "Eval/Epoch 95/150: 100%|██████████████████████████████████████████████████████████████| 27/27 [00:03<00:00,  8.95img/s]\n"
     ]
    },
    {
     "name": "stdout",
     "output_type": "stream",
     "text": [
      "\"\n",
      "        Epoch: 95, \n",
      "        Average Train Loss: 0.0648 |\n",
      "        Average Test Loss: 0.0976 |\n",
      "        Average Test mIoU: 82.28\n",
      "        Average Test Accuracy: 92.54252624511719\n"
     ]
    },
    {
     "name": "stderr",
     "output_type": "stream",
     "text": [
      "Train/Epoch 96/150: 100%|███████████████████████████████████████████████████████████| 104/104 [00:06<00:00, 16.00img/s]\n",
      "Eval/Epoch 96/150: 100%|██████████████████████████████████████████████████████████████| 27/27 [00:03<00:00,  8.90img/s]\n"
     ]
    },
    {
     "name": "stdout",
     "output_type": "stream",
     "text": [
      "\"\n",
      "        Epoch: 96, \n",
      "        Average Train Loss: 0.0644 |\n",
      "        Average Test Loss: 0.0828 |\n",
      "        Average Test mIoU: 85.61\n",
      "        Average Test Accuracy: 95.64031219482422\n"
     ]
    },
    {
     "name": "stderr",
     "output_type": "stream",
     "text": [
      "Train/Epoch 97/150: 100%|███████████████████████████████████████████████████████████| 104/104 [00:06<00:00, 16.15img/s]\n",
      "Eval/Epoch 97/150: 100%|██████████████████████████████████████████████████████████████| 27/27 [00:03<00:00,  8.95img/s]\n"
     ]
    },
    {
     "name": "stdout",
     "output_type": "stream",
     "text": [
      "\"\n",
      "        Epoch: 97, \n",
      "        Average Train Loss: 0.0688 |\n",
      "        Average Test Loss: 0.0744 |\n",
      "        Average Test mIoU: 86.61\n",
      "        Average Test Accuracy: 95.02334594726562\n"
     ]
    },
    {
     "name": "stderr",
     "output_type": "stream",
     "text": [
      "Train/Epoch 98/150: 100%|███████████████████████████████████████████████████████████| 104/104 [00:06<00:00, 15.96img/s]\n",
      "Eval/Epoch 98/150: 100%|██████████████████████████████████████████████████████████████| 27/27 [00:03<00:00,  8.81img/s]\n"
     ]
    },
    {
     "name": "stdout",
     "output_type": "stream",
     "text": [
      "\"\n",
      "        Epoch: 98, \n",
      "        Average Train Loss: 0.0612 |\n",
      "        Average Test Loss: 0.0866 |\n",
      "        Average Test mIoU: 84.30\n",
      "        Average Test Accuracy: 95.6419677734375\n"
     ]
    },
    {
     "name": "stderr",
     "output_type": "stream",
     "text": [
      "Train/Epoch 99/150: 100%|███████████████████████████████████████████████████████████| 104/104 [00:06<00:00, 15.96img/s]\n",
      "Eval/Epoch 99/150: 100%|██████████████████████████████████████████████████████████████| 27/27 [00:02<00:00,  9.14img/s]\n"
     ]
    },
    {
     "name": "stdout",
     "output_type": "stream",
     "text": [
      "\"\n",
      "        Epoch: 99, \n",
      "        Average Train Loss: 0.0727 |\n",
      "        Average Test Loss: 0.0833 |\n",
      "        Average Test mIoU: 86.73\n",
      "        Average Test Accuracy: 97.06141662597656\n"
     ]
    },
    {
     "name": "stderr",
     "output_type": "stream",
     "text": [
      "Train/Epoch 100/150: 100%|██████████████████████████████████████████████████████████| 104/104 [00:06<00:00, 16.03img/s]\n",
      "Eval/Epoch 100/150: 100%|█████████████████████████████████████████████████████████████| 27/27 [00:03<00:00,  8.91img/s]\n"
     ]
    },
    {
     "name": "stdout",
     "output_type": "stream",
     "text": [
      "\"\n",
      "        Epoch: 100, \n",
      "        Average Train Loss: 0.0640 |\n",
      "        Average Test Loss: 0.0879 |\n",
      "        Average Test mIoU: 84.88\n",
      "        Average Test Accuracy: 96.2767333984375\n"
     ]
    },
    {
     "name": "stderr",
     "output_type": "stream",
     "text": [
      "Train/Epoch 101/150: 100%|██████████████████████████████████████████████████████████| 104/104 [00:06<00:00, 15.95img/s]\n",
      "Eval/Epoch 101/150: 100%|█████████████████████████████████████████████████████████████| 27/27 [00:02<00:00,  9.04img/s]\n"
     ]
    },
    {
     "name": "stdout",
     "output_type": "stream",
     "text": [
      "\"\n",
      "        Epoch: 101, \n",
      "        Average Train Loss: 0.0634 |\n",
      "        Average Test Loss: 0.0724 |\n",
      "        Average Test mIoU: 87.40\n",
      "        Average Test Accuracy: 96.3933334350586\n",
      "Checkpoint: ResUNet18_Segmentation_best is saved successfully\n"
     ]
    },
    {
     "name": "stderr",
     "output_type": "stream",
     "text": [
      "Train/Epoch 102/150: 100%|██████████████████████████████████████████████████████████| 104/104 [00:06<00:00, 16.03img/s]\n",
      "Eval/Epoch 102/150: 100%|█████████████████████████████████████████████████████████████| 27/27 [00:03<00:00,  8.95img/s]\n"
     ]
    },
    {
     "name": "stdout",
     "output_type": "stream",
     "text": [
      "\"\n",
      "        Epoch: 102, \n",
      "        Average Train Loss: 0.0604 |\n",
      "        Average Test Loss: 0.0716 |\n",
      "        Average Test mIoU: 87.53\n",
      "        Average Test Accuracy: 96.92357635498047\n",
      "Checkpoint: ResUNet18_Segmentation_best is saved successfully\n"
     ]
    },
    {
     "name": "stderr",
     "output_type": "stream",
     "text": [
      "Train/Epoch 103/150: 100%|██████████████████████████████████████████████████████████| 104/104 [00:06<00:00, 16.11img/s]\n",
      "Eval/Epoch 103/150: 100%|█████████████████████████████████████████████████████████████| 27/27 [00:03<00:00,  8.95img/s]\n"
     ]
    },
    {
     "name": "stdout",
     "output_type": "stream",
     "text": [
      "\"\n",
      "        Epoch: 103, \n",
      "        Average Train Loss: 0.0650 |\n",
      "        Average Test Loss: 0.1085 |\n",
      "        Average Test mIoU: 80.64\n",
      "        Average Test Accuracy: 92.09735107421875\n"
     ]
    },
    {
     "name": "stderr",
     "output_type": "stream",
     "text": [
      "Train/Epoch 104/150: 100%|██████████████████████████████████████████████████████████| 104/104 [00:06<00:00, 16.15img/s]\n",
      "Eval/Epoch 104/150: 100%|█████████████████████████████████████████████████████████████| 27/27 [00:03<00:00,  8.95img/s]\n"
     ]
    },
    {
     "name": "stdout",
     "output_type": "stream",
     "text": [
      "\"\n",
      "        Epoch: 104, \n",
      "        Average Train Loss: 0.0627 |\n",
      "        Average Test Loss: 0.0724 |\n",
      "        Average Test mIoU: 86.31\n",
      "        Average Test Accuracy: 94.39163208007812\n"
     ]
    },
    {
     "name": "stderr",
     "output_type": "stream",
     "text": [
      "Train/Epoch 105/150: 100%|██████████████████████████████████████████████████████████| 104/104 [00:06<00:00, 15.96img/s]\n",
      "Eval/Epoch 105/150: 100%|█████████████████████████████████████████████████████████████| 27/27 [00:02<00:00,  9.14img/s]\n"
     ]
    },
    {
     "name": "stdout",
     "output_type": "stream",
     "text": [
      "\"\n",
      "        Epoch: 105, \n",
      "        Average Train Loss: 0.0613 |\n",
      "        Average Test Loss: 0.0790 |\n",
      "        Average Test mIoU: 86.12\n",
      "        Average Test Accuracy: 96.04644775390625\n"
     ]
    },
    {
     "name": "stderr",
     "output_type": "stream",
     "text": [
      "Train/Epoch 106/150: 100%|██████████████████████████████████████████████████████████| 104/104 [00:06<00:00, 15.96img/s]\n",
      "Eval/Epoch 106/150: 100%|█████████████████████████████████████████████████████████████| 27/27 [00:03<00:00,  8.90img/s]\n"
     ]
    },
    {
     "name": "stdout",
     "output_type": "stream",
     "text": [
      "\"\n",
      "        Epoch: 106, \n",
      "        Average Train Loss: 0.0688 |\n",
      "        Average Test Loss: 0.0859 |\n",
      "        Average Test mIoU: 85.11\n",
      "        Average Test Accuracy: 94.45597839355469\n"
     ]
    },
    {
     "name": "stderr",
     "output_type": "stream",
     "text": [
      "Train/Epoch 107/150: 100%|██████████████████████████████████████████████████████████| 104/104 [00:06<00:00, 15.92img/s]\n",
      "Eval/Epoch 107/150: 100%|█████████████████████████████████████████████████████████████| 27/27 [00:02<00:00,  9.19img/s]\n"
     ]
    },
    {
     "name": "stdout",
     "output_type": "stream",
     "text": [
      "\"\n",
      "        Epoch: 107, \n",
      "        Average Train Loss: 0.0626 |\n",
      "        Average Test Loss: 0.0693 |\n",
      "        Average Test mIoU: 86.92\n",
      "        Average Test Accuracy: 95.44741821289062\n"
     ]
    },
    {
     "name": "stderr",
     "output_type": "stream",
     "text": [
      "Train/Epoch 108/150: 100%|██████████████████████████████████████████████████████████| 104/104 [00:06<00:00, 15.96img/s]\n",
      "Eval/Epoch 108/150: 100%|█████████████████████████████████████████████████████████████| 27/27 [00:03<00:00,  8.91img/s]\n"
     ]
    },
    {
     "name": "stdout",
     "output_type": "stream",
     "text": [
      "\"\n",
      "        Epoch: 108, \n",
      "        Average Train Loss: 0.0648 |\n",
      "        Average Test Loss: 0.0749 |\n",
      "        Average Test mIoU: 86.48\n",
      "        Average Test Accuracy: 96.35480499267578\n"
     ]
    },
    {
     "name": "stderr",
     "output_type": "stream",
     "text": [
      "Train/Epoch 109/150: 100%|██████████████████████████████████████████████████████████| 104/104 [00:06<00:00, 16.15img/s]\n",
      "Eval/Epoch 109/150: 100%|█████████████████████████████████████████████████████████████| 27/27 [00:03<00:00,  8.85img/s]\n"
     ]
    },
    {
     "name": "stdout",
     "output_type": "stream",
     "text": [
      "\"\n",
      "        Epoch: 109, \n",
      "        Average Train Loss: 0.0601 |\n",
      "        Average Test Loss: 0.0697 |\n",
      "        Average Test mIoU: 87.73\n",
      "        Average Test Accuracy: 97.08646392822266\n",
      "Checkpoint: ResUNet18_Segmentation_best is saved successfully\n"
     ]
    },
    {
     "name": "stderr",
     "output_type": "stream",
     "text": [
      "Train/Epoch 110/150: 100%|██████████████████████████████████████████████████████████| 104/104 [00:06<00:00, 15.99img/s]\n",
      "Eval/Epoch 110/150: 100%|█████████████████████████████████████████████████████████████| 27/27 [00:03<00:00,  9.00img/s]\n"
     ]
    },
    {
     "name": "stdout",
     "output_type": "stream",
     "text": [
      "\"\n",
      "        Epoch: 110, \n",
      "        Average Train Loss: 0.0676 |\n",
      "        Average Test Loss: 0.0714 |\n",
      "        Average Test mIoU: 86.66\n",
      "        Average Test Accuracy: 94.98303985595703\n"
     ]
    },
    {
     "name": "stderr",
     "output_type": "stream",
     "text": [
      "Train/Epoch 111/150: 100%|██████████████████████████████████████████████████████████| 104/104 [00:06<00:00, 16.07img/s]\n",
      "Eval/Epoch 111/150: 100%|█████████████████████████████████████████████████████████████| 27/27 [00:03<00:00,  8.90img/s]\n"
     ]
    },
    {
     "name": "stdout",
     "output_type": "stream",
     "text": [
      "\"\n",
      "        Epoch: 111, \n",
      "        Average Train Loss: 0.0701 |\n",
      "        Average Test Loss: 0.0747 |\n",
      "        Average Test mIoU: 86.58\n",
      "        Average Test Accuracy: 95.63331604003906\n"
     ]
    },
    {
     "name": "stderr",
     "output_type": "stream",
     "text": [
      "Train/Epoch 112/150: 100%|██████████████████████████████████████████████████████████| 104/104 [00:06<00:00, 15.96img/s]\n",
      "Eval/Epoch 112/150: 100%|█████████████████████████████████████████████████████████████| 27/27 [00:03<00:00,  8.95img/s]\n"
     ]
    },
    {
     "name": "stdout",
     "output_type": "stream",
     "text": [
      "\"\n",
      "        Epoch: 112, \n",
      "        Average Train Loss: 0.0625 |\n",
      "        Average Test Loss: 0.0691 |\n",
      "        Average Test mIoU: 87.36\n",
      "        Average Test Accuracy: 97.49819946289062\n"
     ]
    },
    {
     "name": "stderr",
     "output_type": "stream",
     "text": [
      "Train/Epoch 113/150: 100%|██████████████████████████████████████████████████████████| 104/104 [00:06<00:00, 16.11img/s]\n",
      "Eval/Epoch 113/150: 100%|█████████████████████████████████████████████████████████████| 27/27 [00:03<00:00,  8.86img/s]\n"
     ]
    },
    {
     "name": "stdout",
     "output_type": "stream",
     "text": [
      "\"\n",
      "        Epoch: 113, \n",
      "        Average Train Loss: 0.0603 |\n",
      "        Average Test Loss: 0.0624 |\n",
      "        Average Test mIoU: 88.72\n",
      "        Average Test Accuracy: 96.60975646972656\n",
      "Checkpoint: ResUNet18_Segmentation_best is saved successfully\n"
     ]
    },
    {
     "name": "stderr",
     "output_type": "stream",
     "text": [
      "Train/Epoch 114/150: 100%|██████████████████████████████████████████████████████████| 104/104 [00:06<00:00, 15.95img/s]\n",
      "Eval/Epoch 114/150: 100%|█████████████████████████████████████████████████████████████| 27/27 [00:02<00:00,  9.19img/s]\n"
     ]
    },
    {
     "name": "stdout",
     "output_type": "stream",
     "text": [
      "\"\n",
      "        Epoch: 114, \n",
      "        Average Train Loss: 0.0608 |\n",
      "        Average Test Loss: 0.0664 |\n",
      "        Average Test mIoU: 87.98\n",
      "        Average Test Accuracy: 96.61738586425781\n"
     ]
    },
    {
     "name": "stderr",
     "output_type": "stream",
     "text": [
      "Train/Epoch 115/150: 100%|██████████████████████████████████████████████████████████| 104/104 [00:06<00:00, 16.01img/s]\n",
      "Eval/Epoch 115/150: 100%|█████████████████████████████████████████████████████████████| 27/27 [00:03<00:00,  8.86img/s]\n"
     ]
    },
    {
     "name": "stdout",
     "output_type": "stream",
     "text": [
      "\"\n",
      "        Epoch: 115, \n",
      "        Average Train Loss: 0.0632 |\n",
      "        Average Test Loss: 0.0935 |\n",
      "        Average Test mIoU: 82.58\n",
      "        Average Test Accuracy: 93.575927734375\n"
     ]
    },
    {
     "name": "stderr",
     "output_type": "stream",
     "text": [
      "Train/Epoch 116/150: 100%|██████████████████████████████████████████████████████████| 104/104 [00:06<00:00, 15.92img/s]\n",
      "Eval/Epoch 116/150: 100%|█████████████████████████████████████████████████████████████| 27/27 [00:03<00:00,  8.86img/s]\n"
     ]
    },
    {
     "name": "stdout",
     "output_type": "stream",
     "text": [
      "\"\n",
      "        Epoch: 116, \n",
      "        Average Train Loss: 0.0602 |\n",
      "        Average Test Loss: 0.0723 |\n",
      "        Average Test mIoU: 87.92\n",
      "        Average Test Accuracy: 96.37044525146484\n"
     ]
    },
    {
     "name": "stderr",
     "output_type": "stream",
     "text": [
      "Train/Epoch 117/150: 100%|██████████████████████████████████████████████████████████| 104/104 [00:06<00:00, 16.11img/s]\n",
      "Eval/Epoch 117/150: 100%|█████████████████████████████████████████████████████████████| 27/27 [00:03<00:00,  9.00img/s]\n"
     ]
    },
    {
     "name": "stdout",
     "output_type": "stream",
     "text": [
      "\"\n",
      "        Epoch: 117, \n",
      "        Average Train Loss: 0.0657 |\n",
      "        Average Test Loss: 0.0836 |\n",
      "        Average Test mIoU: 87.13\n",
      "        Average Test Accuracy: 97.11138916015625\n"
     ]
    },
    {
     "name": "stderr",
     "output_type": "stream",
     "text": [
      "Train/Epoch 118/150: 100%|██████████████████████████████████████████████████████████| 104/104 [00:06<00:00, 15.55img/s]\n",
      "Eval/Epoch 118/150: 100%|█████████████████████████████████████████████████████████████| 27/27 [00:03<00:00,  8.59img/s]\n"
     ]
    },
    {
     "name": "stdout",
     "output_type": "stream",
     "text": [
      "\"\n",
      "        Epoch: 118, \n",
      "        Average Train Loss: 0.0599 |\n",
      "        Average Test Loss: 0.0670 |\n",
      "        Average Test mIoU: 87.92\n",
      "        Average Test Accuracy: 96.1613998413086\n"
     ]
    },
    {
     "name": "stderr",
     "output_type": "stream",
     "text": [
      "Train/Epoch 119/150: 100%|██████████████████████████████████████████████████████████| 104/104 [00:06<00:00, 15.77img/s]\n",
      "Eval/Epoch 119/150: 100%|█████████████████████████████████████████████████████████████| 27/27 [00:03<00:00,  8.72img/s]\n"
     ]
    },
    {
     "name": "stdout",
     "output_type": "stream",
     "text": [
      "\"\n",
      "        Epoch: 119, \n",
      "        Average Train Loss: 0.0689 |\n",
      "        Average Test Loss: 0.0794 |\n",
      "        Average Test mIoU: 85.85\n",
      "        Average Test Accuracy: 95.75564575195312\n"
     ]
    },
    {
     "name": "stderr",
     "output_type": "stream",
     "text": [
      "Train/Epoch 120/150: 100%|██████████████████████████████████████████████████████████| 104/104 [00:06<00:00, 15.99img/s]\n",
      "Eval/Epoch 120/150: 100%|█████████████████████████████████████████████████████████████| 27/27 [00:03<00:00,  8.95img/s]\n"
     ]
    },
    {
     "name": "stdout",
     "output_type": "stream",
     "text": [
      "\"\n",
      "        Epoch: 120, \n",
      "        Average Train Loss: 0.0542 |\n",
      "        Average Test Loss: 0.0660 |\n",
      "        Average Test mIoU: 88.73\n",
      "        Average Test Accuracy: 96.6795654296875\n",
      "Checkpoint: ResUNet18_Segmentation_best is saved successfully\n"
     ]
    },
    {
     "name": "stderr",
     "output_type": "stream",
     "text": [
      "Train/Epoch 121/150: 100%|██████████████████████████████████████████████████████████| 104/104 [00:06<00:00, 16.03img/s]\n",
      "Eval/Epoch 121/150: 100%|█████████████████████████████████████████████████████████████| 27/27 [00:03<00:00,  8.90img/s]\n"
     ]
    },
    {
     "name": "stdout",
     "output_type": "stream",
     "text": [
      "\"\n",
      "        Epoch: 121, \n",
      "        Average Train Loss: 0.0554 |\n",
      "        Average Test Loss: 0.0664 |\n",
      "        Average Test mIoU: 88.28\n",
      "        Average Test Accuracy: 96.31526184082031\n"
     ]
    },
    {
     "name": "stderr",
     "output_type": "stream",
     "text": [
      "Train/Epoch 122/150: 100%|██████████████████████████████████████████████████████████| 104/104 [00:06<00:00, 16.19img/s]\n",
      "Eval/Epoch 122/150: 100%|█████████████████████████████████████████████████████████████| 27/27 [00:03<00:00,  9.00img/s]\n"
     ]
    },
    {
     "name": "stdout",
     "output_type": "stream",
     "text": [
      "\"\n",
      "        Epoch: 122, \n",
      "        Average Train Loss: 0.0549 |\n",
      "        Average Test Loss: 0.0705 |\n",
      "        Average Test mIoU: 87.09\n",
      "        Average Test Accuracy: 96.55303955078125\n"
     ]
    },
    {
     "name": "stderr",
     "output_type": "stream",
     "text": [
      "Train/Epoch 123/150: 100%|██████████████████████████████████████████████████████████| 104/104 [00:06<00:00, 16.15img/s]\n",
      "Eval/Epoch 123/150: 100%|█████████████████████████████████████████████████████████████| 27/27 [00:03<00:00,  9.00img/s]\n"
     ]
    },
    {
     "name": "stdout",
     "output_type": "stream",
     "text": [
      "\"\n",
      "        Epoch: 123, \n",
      "        Average Train Loss: 0.0502 |\n",
      "        Average Test Loss: 0.0644 |\n",
      "        Average Test mIoU: 88.47\n",
      "        Average Test Accuracy: 96.74937438964844\n"
     ]
    },
    {
     "name": "stderr",
     "output_type": "stream",
     "text": [
      "Train/Epoch 124/150: 100%|██████████████████████████████████████████████████████████| 104/104 [00:06<00:00, 15.95img/s]\n",
      "Eval/Epoch 124/150: 100%|█████████████████████████████████████████████████████████████| 27/27 [00:03<00:00,  8.81img/s]\n"
     ]
    },
    {
     "name": "stdout",
     "output_type": "stream",
     "text": [
      "\"\n",
      "        Epoch: 124, \n",
      "        Average Train Loss: 0.0552 |\n",
      "        Average Test Loss: 0.0647 |\n",
      "        Average Test mIoU: 87.96\n",
      "        Average Test Accuracy: 97.21794128417969\n"
     ]
    },
    {
     "name": "stderr",
     "output_type": "stream",
     "text": [
      "Train/Epoch 125/150: 100%|██████████████████████████████████████████████████████████| 104/104 [00:06<00:00, 15.95img/s]\n",
      "Eval/Epoch 125/150: 100%|█████████████████████████████████████████████████████████████| 27/27 [00:03<00:00,  8.81img/s]\n"
     ]
    },
    {
     "name": "stdout",
     "output_type": "stream",
     "text": [
      "\"\n",
      "        Epoch: 125, \n",
      "        Average Train Loss: 0.0519 |\n",
      "        Average Test Loss: 0.0648 |\n",
      "        Average Test mIoU: 88.73\n",
      "        Average Test Accuracy: 97.32551574707031\n",
      "Checkpoint: ResUNet18_Segmentation_best is saved successfully\n"
     ]
    },
    {
     "name": "stderr",
     "output_type": "stream",
     "text": [
      "Train/Epoch 126/150: 100%|██████████████████████████████████████████████████████████| 104/104 [00:06<00:00, 15.88img/s]\n",
      "Eval/Epoch 126/150: 100%|█████████████████████████████████████████████████████████████| 27/27 [00:02<00:00,  9.14img/s]\n"
     ]
    },
    {
     "name": "stdout",
     "output_type": "stream",
     "text": [
      "\"\n",
      "        Epoch: 126, \n",
      "        Average Train Loss: 0.0540 |\n",
      "        Average Test Loss: 0.0654 |\n",
      "        Average Test mIoU: 88.17\n",
      "        Average Test Accuracy: 96.57402038574219\n"
     ]
    },
    {
     "name": "stderr",
     "output_type": "stream",
     "text": [
      "Train/Epoch 127/150: 100%|██████████████████████████████████████████████████████████| 104/104 [00:06<00:00, 15.99img/s]\n",
      "Eval/Epoch 127/150: 100%|█████████████████████████████████████████████████████████████| 27/27 [00:02<00:00,  9.04img/s]\n"
     ]
    },
    {
     "name": "stdout",
     "output_type": "stream",
     "text": [
      "\"\n",
      "        Epoch: 127, \n",
      "        Average Train Loss: 0.0563 |\n",
      "        Average Test Loss: 0.0643 |\n",
      "        Average Test mIoU: 88.72\n",
      "        Average Test Accuracy: 96.80875396728516\n"
     ]
    },
    {
     "name": "stderr",
     "output_type": "stream",
     "text": [
      "Train/Epoch 128/150: 100%|██████████████████████████████████████████████████████████| 104/104 [00:06<00:00, 16.15img/s]\n",
      "Eval/Epoch 128/150: 100%|█████████████████████████████████████████████████████████████| 27/27 [00:03<00:00,  8.95img/s]\n"
     ]
    },
    {
     "name": "stdout",
     "output_type": "stream",
     "text": [
      "\"\n",
      "        Epoch: 128, \n",
      "        Average Train Loss: 0.0573 |\n",
      "        Average Test Loss: 0.0675 |\n",
      "        Average Test mIoU: 87.64\n",
      "        Average Test Accuracy: 96.29618835449219\n"
     ]
    },
    {
     "name": "stderr",
     "output_type": "stream",
     "text": [
      "Train/Epoch 129/150: 100%|██████████████████████████████████████████████████████████| 104/104 [00:06<00:00, 15.99img/s]\n",
      "Eval/Epoch 129/150: 100%|█████████████████████████████████████████████████████████████| 27/27 [00:03<00:00,  9.00img/s]\n"
     ]
    },
    {
     "name": "stdout",
     "output_type": "stream",
     "text": [
      "\"\n",
      "        Epoch: 129, \n",
      "        Average Train Loss: 0.0517 |\n",
      "        Average Test Loss: 0.0669 |\n",
      "        Average Test mIoU: 88.16\n",
      "        Average Test Accuracy: 96.44305419921875\n"
     ]
    },
    {
     "name": "stderr",
     "output_type": "stream",
     "text": [
      "Train/Epoch 130/150: 100%|██████████████████████████████████████████████████████████| 104/104 [00:06<00:00, 16.15img/s]\n",
      "Eval/Epoch 130/150: 100%|█████████████████████████████████████████████████████████████| 27/27 [00:03<00:00,  8.91img/s]\n"
     ]
    },
    {
     "name": "stdout",
     "output_type": "stream",
     "text": [
      "\"\n",
      "        Epoch: 130, \n",
      "        Average Train Loss: 0.0612 |\n",
      "        Average Test Loss: 0.0744 |\n",
      "        Average Test mIoU: 87.70\n",
      "        Average Test Accuracy: 95.73974609375\n"
     ]
    },
    {
     "name": "stderr",
     "output_type": "stream",
     "text": [
      "Train/Epoch 131/150: 100%|██████████████████████████████████████████████████████████| 104/104 [00:06<00:00, 15.92img/s]\n",
      "Eval/Epoch 131/150: 100%|█████████████████████████████████████████████████████████████| 27/27 [00:02<00:00,  9.05img/s]\n"
     ]
    },
    {
     "name": "stdout",
     "output_type": "stream",
     "text": [
      "\"\n",
      "        Epoch: 131, \n",
      "        Average Train Loss: 0.0509 |\n",
      "        Average Test Loss: 0.0676 |\n",
      "        Average Test mIoU: 87.84\n",
      "        Average Test Accuracy: 97.21158599853516\n"
     ]
    },
    {
     "name": "stderr",
     "output_type": "stream",
     "text": [
      "Train/Epoch 132/150: 100%|██████████████████████████████████████████████████████████| 104/104 [00:06<00:00, 15.66img/s]\n",
      "Eval/Epoch 132/150: 100%|█████████████████████████████████████████████████████████████| 27/27 [00:02<00:00,  9.09img/s]\n"
     ]
    },
    {
     "name": "stdout",
     "output_type": "stream",
     "text": [
      "\"\n",
      "        Epoch: 132, \n",
      "        Average Train Loss: 0.0524 |\n",
      "        Average Test Loss: 0.0702 |\n",
      "        Average Test mIoU: 87.05\n",
      "        Average Test Accuracy: 95.23824310302734\n"
     ]
    },
    {
     "name": "stderr",
     "output_type": "stream",
     "text": [
      "Train/Epoch 133/150: 100%|██████████████████████████████████████████████████████████| 104/104 [00:06<00:00, 16.07img/s]\n",
      "Eval/Epoch 133/150: 100%|█████████████████████████████████████████████████████████████| 27/27 [00:03<00:00,  8.95img/s]\n"
     ]
    },
    {
     "name": "stdout",
     "output_type": "stream",
     "text": [
      "\"\n",
      "        Epoch: 133, \n",
      "        Average Train Loss: 0.0572 |\n",
      "        Average Test Loss: 0.0660 |\n",
      "        Average Test mIoU: 88.41\n",
      "        Average Test Accuracy: 96.18708801269531\n"
     ]
    },
    {
     "name": "stderr",
     "output_type": "stream",
     "text": [
      "Train/Epoch 134/150: 100%|██████████████████████████████████████████████████████████| 104/104 [00:06<00:00, 16.11img/s]\n",
      "Eval/Epoch 134/150: 100%|█████████████████████████████████████████████████████████████| 27/27 [00:03<00:00,  8.95img/s]\n"
     ]
    },
    {
     "name": "stdout",
     "output_type": "stream",
     "text": [
      "\"\n",
      "        Epoch: 134, \n",
      "        Average Train Loss: 0.0580 |\n",
      "        Average Test Loss: 0.0737 |\n",
      "        Average Test mIoU: 86.48\n",
      "        Average Test Accuracy: 96.24481201171875\n"
     ]
    },
    {
     "name": "stderr",
     "output_type": "stream",
     "text": [
      "Train/Epoch 135/150: 100%|██████████████████████████████████████████████████████████| 104/104 [00:06<00:00, 15.84img/s]\n",
      "Eval/Epoch 135/150: 100%|█████████████████████████████████████████████████████████████| 27/27 [00:03<00:00,  8.90img/s]\n"
     ]
    },
    {
     "name": "stdout",
     "output_type": "stream",
     "text": [
      "\"\n",
      "        Epoch: 135, \n",
      "        Average Train Loss: 0.0486 |\n",
      "        Average Test Loss: 0.0651 |\n",
      "        Average Test mIoU: 88.35\n",
      "        Average Test Accuracy: 96.88529968261719\n"
     ]
    },
    {
     "name": "stderr",
     "output_type": "stream",
     "text": [
      "Train/Epoch 136/150: 100%|██████████████████████████████████████████████████████████| 104/104 [00:06<00:00, 16.11img/s]\n",
      "Eval/Epoch 136/150: 100%|█████████████████████████████████████████████████████████████| 27/27 [00:03<00:00,  9.00img/s]\n"
     ]
    },
    {
     "name": "stdout",
     "output_type": "stream",
     "text": [
      "\"\n",
      "        Epoch: 136, \n",
      "        Average Train Loss: 0.0469 |\n",
      "        Average Test Loss: 0.0637 |\n",
      "        Average Test mIoU: 88.73\n",
      "        Average Test Accuracy: 96.92230224609375\n"
     ]
    },
    {
     "name": "stderr",
     "output_type": "stream",
     "text": [
      "Train/Epoch 137/150: 100%|██████████████████████████████████████████████████████████| 104/104 [00:06<00:00, 15.84img/s]\n",
      "Eval/Epoch 137/150: 100%|█████████████████████████████████████████████████████████████| 27/27 [00:02<00:00,  9.19img/s]\n"
     ]
    },
    {
     "name": "stdout",
     "output_type": "stream",
     "text": [
      "\"\n",
      "        Epoch: 137, \n",
      "        Average Train Loss: 0.0415 |\n",
      "        Average Test Loss: 0.0612 |\n",
      "        Average Test mIoU: 89.08\n",
      "        Average Test Accuracy: 97.03013610839844\n",
      "Checkpoint: ResUNet18_Segmentation_best is saved successfully\n"
     ]
    },
    {
     "name": "stderr",
     "output_type": "stream",
     "text": [
      "Train/Epoch 138/150: 100%|██████████████████████████████████████████████████████████| 104/104 [00:06<00:00, 15.99img/s]\n",
      "Eval/Epoch 138/150: 100%|█████████████████████████████████████████████████████████████| 27/27 [00:03<00:00,  8.86img/s]\n"
     ]
    },
    {
     "name": "stdout",
     "output_type": "stream",
     "text": [
      "\"\n",
      "        Epoch: 138, \n",
      "        Average Train Loss: 0.0468 |\n",
      "        Average Test Loss: 0.0621 |\n",
      "        Average Test mIoU: 88.88\n",
      "        Average Test Accuracy: 97.1612319946289\n"
     ]
    },
    {
     "name": "stderr",
     "output_type": "stream",
     "text": [
      "Train/Epoch 139/150: 100%|██████████████████████████████████████████████████████████| 104/104 [00:06<00:00, 16.15img/s]\n",
      "Eval/Epoch 139/150: 100%|█████████████████████████████████████████████████████████████| 27/27 [00:03<00:00,  9.00img/s]\n"
     ]
    },
    {
     "name": "stdout",
     "output_type": "stream",
     "text": [
      "\"\n",
      "        Epoch: 139, \n",
      "        Average Train Loss: 0.0480 |\n",
      "        Average Test Loss: 0.0621 |\n",
      "        Average Test mIoU: 88.90\n",
      "        Average Test Accuracy: 97.02174377441406\n"
     ]
    },
    {
     "name": "stderr",
     "output_type": "stream",
     "text": [
      "Train/Epoch 140/150: 100%|██████████████████████████████████████████████████████████| 104/104 [00:06<00:00, 16.19img/s]\n",
      "Eval/Epoch 140/150: 100%|█████████████████████████████████████████████████████████████| 27/27 [00:03<00:00,  8.99img/s]\n"
     ]
    },
    {
     "name": "stdout",
     "output_type": "stream",
     "text": [
      "\"\n",
      "        Epoch: 140, \n",
      "        Average Train Loss: 0.0498 |\n",
      "        Average Test Loss: 0.0619 |\n",
      "        Average Test mIoU: 88.92\n",
      "        Average Test Accuracy: 97.0727310180664\n"
     ]
    },
    {
     "name": "stderr",
     "output_type": "stream",
     "text": [
      "Train/Epoch 141/150: 100%|██████████████████████████████████████████████████████████| 104/104 [00:06<00:00, 15.95img/s]\n",
      "Eval/Epoch 141/150: 100%|█████████████████████████████████████████████████████████████| 27/27 [00:03<00:00,  8.81img/s]\n"
     ]
    },
    {
     "name": "stdout",
     "output_type": "stream",
     "text": [
      "\"\n",
      "        Epoch: 141, \n",
      "        Average Train Loss: 0.0442 |\n",
      "        Average Test Loss: 0.0615 |\n",
      "        Average Test mIoU: 88.95\n",
      "        Average Test Accuracy: 97.10490417480469\n"
     ]
    },
    {
     "name": "stderr",
     "output_type": "stream",
     "text": [
      "Train/Epoch 142/150: 100%|██████████████████████████████████████████████████████████| 104/104 [00:06<00:00, 16.19img/s]\n",
      "Eval/Epoch 142/150: 100%|█████████████████████████████████████████████████████████████| 27/27 [00:03<00:00,  9.00img/s]\n"
     ]
    },
    {
     "name": "stdout",
     "output_type": "stream",
     "text": [
      "\"\n",
      "        Epoch: 142, \n",
      "        Average Train Loss: 0.0415 |\n",
      "        Average Test Loss: 0.0631 |\n",
      "        Average Test mIoU: 88.78\n",
      "        Average Test Accuracy: 97.06993103027344\n"
     ]
    },
    {
     "name": "stderr",
     "output_type": "stream",
     "text": [
      "Train/Epoch 143/150: 100%|██████████████████████████████████████████████████████████| 104/104 [00:06<00:00, 15.96img/s]\n",
      "Eval/Epoch 143/150: 100%|█████████████████████████████████████████████████████████████| 27/27 [00:06<00:00,  4.29img/s]\n"
     ]
    },
    {
     "name": "stdout",
     "output_type": "stream",
     "text": [
      "\"\n",
      "        Epoch: 143, \n",
      "        Average Train Loss: 0.0383 |\n",
      "        Average Test Loss: 0.0618 |\n",
      "        Average Test mIoU: 88.99\n",
      "        Average Test Accuracy: 97.08938598632812\n"
     ]
    },
    {
     "name": "stderr",
     "output_type": "stream",
     "text": [
      "Train/Epoch 144/150: 100%|██████████████████████████████████████████████████████████| 104/104 [00:06<00:00, 15.99img/s]\n",
      "Eval/Epoch 144/150: 100%|█████████████████████████████████████████████████████████████| 27/27 [00:03<00:00,  8.81img/s]\n"
     ]
    },
    {
     "name": "stdout",
     "output_type": "stream",
     "text": [
      "\"\n",
      "        Epoch: 144, \n",
      "        Average Train Loss: 0.0420 |\n",
      "        Average Test Loss: 0.0612 |\n",
      "        Average Test mIoU: 89.13\n",
      "        Average Test Accuracy: 97.07463836669922\n",
      "Checkpoint: ResUNet18_Segmentation_best is saved successfully\n"
     ]
    },
    {
     "name": "stderr",
     "output_type": "stream",
     "text": [
      "Train/Epoch 145/150: 100%|██████████████████████████████████████████████████████████| 104/104 [00:06<00:00, 15.91img/s]\n",
      "Eval/Epoch 145/150: 100%|█████████████████████████████████████████████████████████████| 27/27 [00:02<00:00,  9.04img/s]\n"
     ]
    },
    {
     "name": "stdout",
     "output_type": "stream",
     "text": [
      "\"\n",
      "        Epoch: 145, \n",
      "        Average Train Loss: 0.0394 |\n",
      "        Average Test Loss: 0.0603 |\n",
      "        Average Test mIoU: 89.19\n",
      "        Average Test Accuracy: 97.09956359863281\n",
      "Checkpoint: ResUNet18_Segmentation_best is saved successfully\n"
     ]
    },
    {
     "name": "stderr",
     "output_type": "stream",
     "text": [
      "Train/Epoch 146/150: 100%|██████████████████████████████████████████████████████████| 104/104 [00:06<00:00, 16.03img/s]\n",
      "Eval/Epoch 146/150: 100%|█████████████████████████████████████████████████████████████| 27/27 [00:03<00:00,  8.99img/s]\n"
     ]
    },
    {
     "name": "stdout",
     "output_type": "stream",
     "text": [
      "\"\n",
      "        Epoch: 146, \n",
      "        Average Train Loss: 0.0434 |\n",
      "        Average Test Loss: 0.0612 |\n",
      "        Average Test mIoU: 89.25\n",
      "        Average Test Accuracy: 97.14190673828125\n",
      "Checkpoint: ResUNet18_Segmentation_best is saved successfully\n"
     ]
    },
    {
     "name": "stderr",
     "output_type": "stream",
     "text": [
      "Train/Epoch 147/150: 100%|██████████████████████████████████████████████████████████| 104/104 [00:06<00:00, 15.88img/s]\n",
      "Eval/Epoch 147/150: 100%|█████████████████████████████████████████████████████████████| 27/27 [00:03<00:00,  8.82img/s]\n"
     ]
    },
    {
     "name": "stdout",
     "output_type": "stream",
     "text": [
      "\"\n",
      "        Epoch: 147, \n",
      "        Average Train Loss: 0.0410 |\n",
      "        Average Test Loss: 0.0616 |\n",
      "        Average Test mIoU: 89.11\n",
      "        Average Test Accuracy: 97.08455657958984\n"
     ]
    },
    {
     "name": "stderr",
     "output_type": "stream",
     "text": [
      "Train/Epoch 148/150: 100%|██████████████████████████████████████████████████████████| 104/104 [00:06<00:00, 15.88img/s]\n",
      "Eval/Epoch 148/150: 100%|█████████████████████████████████████████████████████████████| 27/27 [00:02<00:00,  9.09img/s]\n"
     ]
    },
    {
     "name": "stdout",
     "output_type": "stream",
     "text": [
      "\"\n",
      "        Epoch: 148, \n",
      "        Average Train Loss: 0.0419 |\n",
      "        Average Test Loss: 0.0623 |\n",
      "        Average Test mIoU: 89.22\n",
      "        Average Test Accuracy: 97.09561920166016\n"
     ]
    },
    {
     "name": "stderr",
     "output_type": "stream",
     "text": [
      "Train/Epoch 149/150: 100%|██████████████████████████████████████████████████████████| 104/104 [00:06<00:00, 15.99img/s]\n",
      "Eval/Epoch 149/150: 100%|█████████████████████████████████████████████████████████████| 27/27 [00:03<00:00,  8.77img/s]\n"
     ]
    },
    {
     "name": "stdout",
     "output_type": "stream",
     "text": [
      "\"\n",
      "        Epoch: 149, \n",
      "        Average Train Loss: 0.0406 |\n",
      "        Average Test Loss: 0.0624 |\n",
      "        Average Test mIoU: 89.12\n",
      "        Average Test Accuracy: 97.1435546875\n"
     ]
    },
    {
     "name": "stderr",
     "output_type": "stream",
     "text": [
      "Train/Epoch 150/150: 100%|██████████████████████████████████████████████████████████| 104/104 [00:06<00:00, 15.92img/s]\n",
      "Eval/Epoch 150/150: 100%|█████████████████████████████████████████████████████████████| 27/27 [00:02<00:00,  9.04img/s]\n"
     ]
    },
    {
     "name": "stdout",
     "output_type": "stream",
     "text": [
      "\"\n",
      "        Epoch: 150, \n",
      "        Average Train Loss: 0.0402 |\n",
      "        Average Test Loss: 0.0624 |\n",
      "        Average Test mIoU: 89.15\n",
      "        Average Test Accuracy: 97.07730865478516\n"
     ]
    }
   ],
   "source": [
    "model1_train_start()"
   ]
  },
  {
   "cell_type": "markdown",
   "id": "3913d869-6e1f-4493-8c26-b4696b0bfa1f",
   "metadata": {},
   "source": [
    "## Model2 (Knowledge Distillation) Training"
   ]
  },
  {
   "cell_type": "code",
   "execution_count": 33,
   "id": "9426ab60-2bf9-4e68-af50-eec942c47b64",
   "metadata": {
    "scrolled": true
   },
   "outputs": [
    {
     "name": "stderr",
     "output_type": "stream",
     "text": [
      "Train/Epoch 1/150: 100%|████████████████████████████████████████████████████████████| 104/104 [00:07<00:00, 14.15img/s]\n",
      "Eval/Epoch 1/150: 100%|███████████████████████████████████████████████████████████████| 27/27 [00:03<00:00,  8.30img/s]\n"
     ]
    },
    {
     "name": "stdout",
     "output_type": "stream",
     "text": [
      "\"\n",
      "        Epoch: 1, \n",
      "        Average Train Loss: 3.6775 |\n",
      "        Average Test Loss: 3.9434 |\n",
      "        Average Test mIoU: 1.54\n",
      "        Average Test Accuracy: 6.259918212890625\n",
      "Checkpoint: ResUNet18_Segmentation_best is saved successfully\n"
     ]
    },
    {
     "name": "stderr",
     "output_type": "stream",
     "text": [
      "Train/Epoch 2/150: 100%|████████████████████████████████████████████████████████████| 104/104 [00:07<00:00, 14.10img/s]\n",
      "Eval/Epoch 2/150: 100%|███████████████████████████████████████████████████████████████| 27/27 [00:03<00:00,  8.38img/s]\n"
     ]
    },
    {
     "name": "stdout",
     "output_type": "stream",
     "text": [
      "\"\n",
      "        Epoch: 2, \n",
      "        Average Train Loss: 2.0482 |\n",
      "        Average Test Loss: 2.3740 |\n",
      "        Average Test mIoU: 26.03\n",
      "        Average Test Accuracy: 40.10226058959961\n",
      "Checkpoint: ResUNet18_Segmentation_best is saved successfully\n"
     ]
    },
    {
     "name": "stderr",
     "output_type": "stream",
     "text": [
      "Train/Epoch 3/150: 100%|████████████████████████████████████████████████████████████| 104/104 [00:07<00:00, 14.25img/s]\n",
      "Eval/Epoch 3/150: 100%|███████████████████████████████████████████████████████████████| 27/27 [00:03<00:00,  8.43img/s]\n"
     ]
    },
    {
     "name": "stdout",
     "output_type": "stream",
     "text": [
      "\"\n",
      "        Epoch: 3, \n",
      "        Average Train Loss: 0.9732 |\n",
      "        Average Test Loss: 1.5062 |\n",
      "        Average Test mIoU: 25.90\n",
      "        Average Test Accuracy: 43.35543441772461\n"
     ]
    },
    {
     "name": "stderr",
     "output_type": "stream",
     "text": [
      "Train/Epoch 4/150: 100%|████████████████████████████████████████████████████████████| 104/104 [00:07<00:00, 14.10img/s]\n",
      "Eval/Epoch 4/150: 100%|███████████████████████████████████████████████████████████████| 27/27 [00:03<00:00,  8.38img/s]\n"
     ]
    },
    {
     "name": "stdout",
     "output_type": "stream",
     "text": [
      "\"\n",
      "        Epoch: 4, \n",
      "        Average Train Loss: 0.5017 |\n",
      "        Average Test Loss: 1.5680 |\n",
      "        Average Test mIoU: 21.38\n",
      "        Average Test Accuracy: 34.03129577636719\n"
     ]
    },
    {
     "name": "stderr",
     "output_type": "stream",
     "text": [
      "Train/Epoch 5/150: 100%|████████████████████████████████████████████████████████████| 104/104 [00:07<00:00, 14.12img/s]\n",
      "Eval/Epoch 5/150: 100%|███████████████████████████████████████████████████████████████| 27/27 [00:03<00:00,  8.30img/s]\n"
     ]
    },
    {
     "name": "stdout",
     "output_type": "stream",
     "text": [
      "\"\n",
      "        Epoch: 5, \n",
      "        Average Train Loss: 0.4067 |\n",
      "        Average Test Loss: 0.5489 |\n",
      "        Average Test mIoU: 44.76\n",
      "        Average Test Accuracy: 56.35948181152344\n",
      "Checkpoint: ResUNet18_Segmentation_best is saved successfully\n"
     ]
    },
    {
     "name": "stderr",
     "output_type": "stream",
     "text": [
      "Train/Epoch 6/150: 100%|████████████████████████████████████████████████████████████| 104/104 [00:07<00:00, 14.10img/s]\n",
      "Eval/Epoch 6/150: 100%|███████████████████████████████████████████████████████████████| 27/27 [00:03<00:00,  8.30img/s]\n"
     ]
    },
    {
     "name": "stdout",
     "output_type": "stream",
     "text": [
      "\"\n",
      "        Epoch: 6, \n",
      "        Average Train Loss: 0.3401 |\n",
      "        Average Test Loss: 0.3150 |\n",
      "        Average Test mIoU: 60.11\n",
      "        Average Test Accuracy: 73.56719970703125\n",
      "Checkpoint: ResUNet18_Segmentation_best is saved successfully\n"
     ]
    },
    {
     "name": "stderr",
     "output_type": "stream",
     "text": [
      "Train/Epoch 7/150: 100%|████████████████████████████████████████████████████████████| 104/104 [00:07<00:00, 14.12img/s]\n",
      "Eval/Epoch 7/150: 100%|███████████████████████████████████████████████████████████████| 27/27 [00:03<00:00,  8.30img/s]\n"
     ]
    },
    {
     "name": "stdout",
     "output_type": "stream",
     "text": [
      "\"\n",
      "        Epoch: 7, \n",
      "        Average Train Loss: 0.3256 |\n",
      "        Average Test Loss: 0.2548 |\n",
      "        Average Test mIoU: 65.18\n",
      "        Average Test Accuracy: 81.13568878173828\n",
      "Checkpoint: ResUNet18_Segmentation_best is saved successfully\n"
     ]
    },
    {
     "name": "stderr",
     "output_type": "stream",
     "text": [
      "Train/Epoch 8/150: 100%|████████████████████████████████████████████████████████████| 104/104 [00:07<00:00, 14.08img/s]\n",
      "Eval/Epoch 8/150: 100%|███████████████████████████████████████████████████████████████| 27/27 [00:03<00:00,  8.30img/s]\n"
     ]
    },
    {
     "name": "stdout",
     "output_type": "stream",
     "text": [
      "\"\n",
      "        Epoch: 8, \n",
      "        Average Train Loss: 0.3087 |\n",
      "        Average Test Loss: 0.2309 |\n",
      "        Average Test mIoU: 61.11\n",
      "        Average Test Accuracy: 69.79586791992188\n"
     ]
    },
    {
     "name": "stderr",
     "output_type": "stream",
     "text": [
      "Train/Epoch 9/150: 100%|████████████████████████████████████████████████████████████| 104/104 [00:07<00:00, 14.10img/s]\n",
      "Eval/Epoch 9/150: 100%|███████████████████████████████████████████████████████████████| 27/27 [00:03<00:00,  8.34img/s]\n"
     ]
    },
    {
     "name": "stdout",
     "output_type": "stream",
     "text": [
      "\"\n",
      "        Epoch: 9, \n",
      "        Average Train Loss: 0.2600 |\n",
      "        Average Test Loss: 0.2709 |\n",
      "        Average Test mIoU: 61.47\n",
      "        Average Test Accuracy: 81.39737701416016\n"
     ]
    },
    {
     "name": "stderr",
     "output_type": "stream",
     "text": [
      "Train/Epoch 10/150: 100%|███████████████████████████████████████████████████████████| 104/104 [00:07<00:00, 14.15img/s]\n",
      "Eval/Epoch 10/150: 100%|██████████████████████████████████████████████████████████████| 27/27 [00:03<00:00,  8.39img/s]\n"
     ]
    },
    {
     "name": "stdout",
     "output_type": "stream",
     "text": [
      "\"\n",
      "        Epoch: 10, \n",
      "        Average Train Loss: 0.2477 |\n",
      "        Average Test Loss: 0.2535 |\n",
      "        Average Test mIoU: 63.24\n",
      "        Average Test Accuracy: 82.31481170654297\n"
     ]
    },
    {
     "name": "stderr",
     "output_type": "stream",
     "text": [
      "Train/Epoch 11/150: 100%|███████████████████████████████████████████████████████████| 104/104 [00:07<00:00, 14.28img/s]\n",
      "Eval/Epoch 11/150: 100%|██████████████████████████████████████████████████████████████| 27/27 [00:03<00:00,  8.47img/s]\n"
     ]
    },
    {
     "name": "stdout",
     "output_type": "stream",
     "text": [
      "\"\n",
      "        Epoch: 11, \n",
      "        Average Train Loss: 0.2408 |\n",
      "        Average Test Loss: 0.1982 |\n",
      "        Average Test mIoU: 65.97\n",
      "        Average Test Accuracy: 79.4225082397461\n",
      "Checkpoint: ResUNet18_Segmentation_best is saved successfully\n"
     ]
    },
    {
     "name": "stderr",
     "output_type": "stream",
     "text": [
      "Train/Epoch 12/150: 100%|███████████████████████████████████████████████████████████| 104/104 [00:07<00:00, 14.03img/s]\n",
      "Eval/Epoch 12/150: 100%|██████████████████████████████████████████████████████████████| 27/27 [00:03<00:00,  8.38img/s]\n"
     ]
    },
    {
     "name": "stdout",
     "output_type": "stream",
     "text": [
      "\"\n",
      "        Epoch: 12, \n",
      "        Average Train Loss: 0.2164 |\n",
      "        Average Test Loss: 0.1544 |\n",
      "        Average Test mIoU: 72.81\n",
      "        Average Test Accuracy: 88.25747680664062\n",
      "Checkpoint: ResUNet18_Segmentation_best is saved successfully\n"
     ]
    },
    {
     "name": "stderr",
     "output_type": "stream",
     "text": [
      "Train/Epoch 13/150: 100%|███████████████████████████████████████████████████████████| 104/104 [00:07<00:00, 14.25img/s]\n",
      "Eval/Epoch 13/150: 100%|██████████████████████████████████████████████████████████████| 27/27 [00:03<00:00,  8.47img/s]\n"
     ]
    },
    {
     "name": "stdout",
     "output_type": "stream",
     "text": [
      "\"\n",
      "        Epoch: 13, \n",
      "        Average Train Loss: 0.1997 |\n",
      "        Average Test Loss: 0.1606 |\n",
      "        Average Test mIoU: 71.05\n",
      "        Average Test Accuracy: 86.86904907226562\n"
     ]
    },
    {
     "name": "stderr",
     "output_type": "stream",
     "text": [
      "Train/Epoch 14/150: 100%|███████████████████████████████████████████████████████████| 104/104 [00:07<00:00, 14.16img/s]\n",
      "Eval/Epoch 14/150: 100%|██████████████████████████████████████████████████████████████| 27/27 [00:03<00:00,  8.42img/s]\n"
     ]
    },
    {
     "name": "stdout",
     "output_type": "stream",
     "text": [
      "\"\n",
      "        Epoch: 14, \n",
      "        Average Train Loss: 0.2037 |\n",
      "        Average Test Loss: 0.1540 |\n",
      "        Average Test mIoU: 73.17\n",
      "        Average Test Accuracy: 85.5035171508789\n",
      "Checkpoint: ResUNet18_Segmentation_best is saved successfully\n"
     ]
    },
    {
     "name": "stderr",
     "output_type": "stream",
     "text": [
      "Train/Epoch 15/150: 100%|███████████████████████████████████████████████████████████| 104/104 [00:07<00:00, 14.25img/s]\n",
      "Eval/Epoch 15/150: 100%|██████████████████████████████████████████████████████████████| 27/27 [00:03<00:00,  8.42img/s]\n"
     ]
    },
    {
     "name": "stdout",
     "output_type": "stream",
     "text": [
      "\"\n",
      "        Epoch: 15, \n",
      "        Average Train Loss: 0.1803 |\n",
      "        Average Test Loss: 0.1777 |\n",
      "        Average Test mIoU: 70.52\n",
      "        Average Test Accuracy: 87.46427154541016\n"
     ]
    },
    {
     "name": "stderr",
     "output_type": "stream",
     "text": [
      "Train/Epoch 16/150: 100%|███████████████████████████████████████████████████████████| 104/104 [00:07<00:00, 14.10img/s]\n",
      "Eval/Epoch 16/150: 100%|██████████████████████████████████████████████████████████████| 27/27 [00:03<00:00,  8.34img/s]\n"
     ]
    },
    {
     "name": "stdout",
     "output_type": "stream",
     "text": [
      "\"\n",
      "        Epoch: 16, \n",
      "        Average Train Loss: 0.1831 |\n",
      "        Average Test Loss: 0.1585 |\n",
      "        Average Test mIoU: 72.16\n",
      "        Average Test Accuracy: 87.77491760253906\n"
     ]
    },
    {
     "name": "stderr",
     "output_type": "stream",
     "text": [
      "Train/Epoch 17/150: 100%|███████████████████████████████████████████████████████████| 104/104 [00:07<00:00, 14.13img/s]\n",
      "Eval/Epoch 17/150: 100%|██████████████████████████████████████████████████████████████| 27/27 [00:03<00:00,  8.30img/s]\n"
     ]
    },
    {
     "name": "stdout",
     "output_type": "stream",
     "text": [
      "\"\n",
      "        Epoch: 17, \n",
      "        Average Train Loss: 0.1790 |\n",
      "        Average Test Loss: 0.1481 |\n",
      "        Average Test mIoU: 75.48\n",
      "        Average Test Accuracy: 90.07377624511719\n",
      "Checkpoint: ResUNet18_Segmentation_best is saved successfully\n"
     ]
    },
    {
     "name": "stderr",
     "output_type": "stream",
     "text": [
      "Train/Epoch 18/150: 100%|███████████████████████████████████████████████████████████| 104/104 [00:07<00:00, 14.25img/s]\n",
      "Eval/Epoch 18/150: 100%|██████████████████████████████████████████████████████████████| 27/27 [00:03<00:00,  8.47img/s]\n"
     ]
    },
    {
     "name": "stdout",
     "output_type": "stream",
     "text": [
      "\"\n",
      "        Epoch: 18, \n",
      "        Average Train Loss: 0.1789 |\n",
      "        Average Test Loss: 0.1820 |\n",
      "        Average Test mIoU: 70.55\n",
      "        Average Test Accuracy: 81.50800323486328\n"
     ]
    },
    {
     "name": "stderr",
     "output_type": "stream",
     "text": [
      "Train/Epoch 19/150: 100%|███████████████████████████████████████████████████████████| 104/104 [00:07<00:00, 14.16img/s]\n",
      "Eval/Epoch 19/150: 100%|██████████████████████████████████████████████████████████████| 27/27 [00:03<00:00,  8.38img/s]\n"
     ]
    },
    {
     "name": "stdout",
     "output_type": "stream",
     "text": [
      "\"\n",
      "        Epoch: 19, \n",
      "        Average Train Loss: 0.1742 |\n",
      "        Average Test Loss: 0.1289 |\n",
      "        Average Test mIoU: 75.57\n",
      "        Average Test Accuracy: 89.46533203125\n",
      "Checkpoint: ResUNet18_Segmentation_best is saved successfully\n"
     ]
    },
    {
     "name": "stderr",
     "output_type": "stream",
     "text": [
      "Train/Epoch 20/150: 100%|███████████████████████████████████████████████████████████| 104/104 [00:07<00:00, 14.28img/s]\n",
      "Eval/Epoch 20/150: 100%|██████████████████████████████████████████████████████████████| 27/27 [00:03<00:00,  8.47img/s]\n"
     ]
    },
    {
     "name": "stdout",
     "output_type": "stream",
     "text": [
      "\"\n",
      "        Epoch: 20, \n",
      "        Average Train Loss: 0.1542 |\n",
      "        Average Test Loss: 0.1706 |\n",
      "        Average Test mIoU: 73.10\n",
      "        Average Test Accuracy: 88.72947692871094\n"
     ]
    },
    {
     "name": "stderr",
     "output_type": "stream",
     "text": [
      "Train/Epoch 21/150: 100%|███████████████████████████████████████████████████████████| 104/104 [00:07<00:00, 14.16img/s]\n",
      "Eval/Epoch 21/150: 100%|██████████████████████████████████████████████████████████████| 27/27 [00:03<00:00,  8.35img/s]\n"
     ]
    },
    {
     "name": "stdout",
     "output_type": "stream",
     "text": [
      "\"\n",
      "        Epoch: 21, \n",
      "        Average Train Loss: 0.1499 |\n",
      "        Average Test Loss: 0.2592 |\n",
      "        Average Test mIoU: 65.63\n",
      "        Average Test Accuracy: 82.45964050292969\n"
     ]
    },
    {
     "name": "stderr",
     "output_type": "stream",
     "text": [
      "Train/Epoch 22/150: 100%|███████████████████████████████████████████████████████████| 104/104 [00:07<00:00, 13.86img/s]\n",
      "Eval/Epoch 22/150: 100%|██████████████████████████████████████████████████████████████| 27/27 [00:03<00:00,  8.30img/s]\n"
     ]
    },
    {
     "name": "stdout",
     "output_type": "stream",
     "text": [
      "\"\n",
      "        Epoch: 22, \n",
      "        Average Train Loss: 0.1594 |\n",
      "        Average Test Loss: 0.1199 |\n",
      "        Average Test mIoU: 78.82\n",
      "        Average Test Accuracy: 91.47402954101562\n",
      "Checkpoint: ResUNet18_Segmentation_best is saved successfully\n"
     ]
    },
    {
     "name": "stderr",
     "output_type": "stream",
     "text": [
      "Train/Epoch 23/150: 100%|███████████████████████████████████████████████████████████| 104/104 [00:07<00:00, 14.04img/s]\n",
      "Eval/Epoch 23/150: 100%|██████████████████████████████████████████████████████████████| 27/27 [00:03<00:00,  8.30img/s]\n"
     ]
    },
    {
     "name": "stdout",
     "output_type": "stream",
     "text": [
      "\"\n",
      "        Epoch: 23, \n",
      "        Average Train Loss: 0.1639 |\n",
      "        Average Test Loss: 0.1190 |\n",
      "        Average Test mIoU: 78.20\n",
      "        Average Test Accuracy: 91.40218353271484\n"
     ]
    },
    {
     "name": "stderr",
     "output_type": "stream",
     "text": [
      "Train/Epoch 24/150: 100%|███████████████████████████████████████████████████████████| 104/104 [00:07<00:00, 14.16img/s]\n",
      "Eval/Epoch 24/150: 100%|██████████████████████████████████████████████████████████████| 27/27 [00:03<00:00,  8.43img/s]\n"
     ]
    },
    {
     "name": "stdout",
     "output_type": "stream",
     "text": [
      "\"\n",
      "        Epoch: 24, \n",
      "        Average Train Loss: 0.1534 |\n",
      "        Average Test Loss: 0.1174 |\n",
      "        Average Test mIoU: 78.56\n",
      "        Average Test Accuracy: 91.60983276367188\n"
     ]
    },
    {
     "name": "stderr",
     "output_type": "stream",
     "text": [
      "Train/Epoch 25/150: 100%|███████████████████████████████████████████████████████████| 104/104 [00:07<00:00, 14.01img/s]\n",
      "Eval/Epoch 25/150: 100%|██████████████████████████████████████████████████████████████| 27/27 [00:03<00:00,  8.26img/s]\n"
     ]
    },
    {
     "name": "stdout",
     "output_type": "stream",
     "text": [
      "\"\n",
      "        Epoch: 25, \n",
      "        Average Train Loss: 0.1520 |\n",
      "        Average Test Loss: 0.1177 |\n",
      "        Average Test mIoU: 79.00\n",
      "        Average Test Accuracy: 92.95463562011719\n",
      "Checkpoint: ResUNet18_Segmentation_best is saved successfully\n"
     ]
    },
    {
     "name": "stderr",
     "output_type": "stream",
     "text": [
      "Train/Epoch 26/150: 100%|███████████████████████████████████████████████████████████| 104/104 [00:07<00:00, 14.28img/s]\n",
      "Eval/Epoch 26/150: 100%|██████████████████████████████████████████████████████████████| 27/27 [00:03<00:00,  8.38img/s]\n"
     ]
    },
    {
     "name": "stdout",
     "output_type": "stream",
     "text": [
      "\"\n",
      "        Epoch: 26, \n",
      "        Average Train Loss: 0.1518 |\n",
      "        Average Test Loss: 0.1541 |\n",
      "        Average Test mIoU: 74.92\n",
      "        Average Test Accuracy: 89.96340942382812\n"
     ]
    },
    {
     "name": "stderr",
     "output_type": "stream",
     "text": [
      "Train/Epoch 27/150: 100%|███████████████████████████████████████████████████████████| 104/104 [00:07<00:00, 14.16img/s]\n",
      "Eval/Epoch 27/150: 100%|██████████████████████████████████████████████████████████████| 27/27 [00:03<00:00,  8.35img/s]\n"
     ]
    },
    {
     "name": "stdout",
     "output_type": "stream",
     "text": [
      "\"\n",
      "        Epoch: 27, \n",
      "        Average Train Loss: 0.1538 |\n",
      "        Average Test Loss: 0.1488 |\n",
      "        Average Test mIoU: 77.88\n",
      "        Average Test Accuracy: 92.08806610107422\n"
     ]
    },
    {
     "name": "stderr",
     "output_type": "stream",
     "text": [
      "Train/Epoch 28/150: 100%|███████████████████████████████████████████████████████████| 104/104 [00:07<00:00, 14.16img/s]\n",
      "Eval/Epoch 28/150: 100%|██████████████████████████████████████████████████████████████| 27/27 [00:03<00:00,  8.35img/s]\n"
     ]
    },
    {
     "name": "stdout",
     "output_type": "stream",
     "text": [
      "\"\n",
      "        Epoch: 28, \n",
      "        Average Train Loss: 0.1408 |\n",
      "        Average Test Loss: 0.1406 |\n",
      "        Average Test mIoU: 76.22\n",
      "        Average Test Accuracy: 87.11751556396484\n"
     ]
    },
    {
     "name": "stderr",
     "output_type": "stream",
     "text": [
      "Train/Epoch 29/150: 100%|███████████████████████████████████████████████████████████| 104/104 [00:07<00:00, 14.13img/s]\n",
      "Eval/Epoch 29/150: 100%|██████████████████████████████████████████████████████████████| 27/27 [00:03<00:00,  8.31img/s]\n"
     ]
    },
    {
     "name": "stdout",
     "output_type": "stream",
     "text": [
      "\"\n",
      "        Epoch: 29, \n",
      "        Average Train Loss: 0.1413 |\n",
      "        Average Test Loss: 0.1156 |\n",
      "        Average Test mIoU: 77.09\n",
      "        Average Test Accuracy: 90.35873413085938\n"
     ]
    },
    {
     "name": "stderr",
     "output_type": "stream",
     "text": [
      "Train/Epoch 30/150: 100%|███████████████████████████████████████████████████████████| 104/104 [00:07<00:00, 14.28img/s]\n",
      "Eval/Epoch 30/150: 100%|██████████████████████████████████████████████████████████████| 27/27 [00:03<00:00,  8.39img/s]\n"
     ]
    },
    {
     "name": "stdout",
     "output_type": "stream",
     "text": [
      "\"\n",
      "        Epoch: 30, \n",
      "        Average Train Loss: 0.1264 |\n",
      "        Average Test Loss: 0.1198 |\n",
      "        Average Test mIoU: 78.94\n",
      "        Average Test Accuracy: 92.42999267578125\n"
     ]
    },
    {
     "name": "stderr",
     "output_type": "stream",
     "text": [
      "Train/Epoch 31/150: 100%|███████████████████████████████████████████████████████████| 104/104 [00:07<00:00, 14.16img/s]\n",
      "Eval/Epoch 31/150: 100%|██████████████████████████████████████████████████████████████| 27/27 [00:03<00:00,  8.39img/s]\n"
     ]
    },
    {
     "name": "stdout",
     "output_type": "stream",
     "text": [
      "\"\n",
      "        Epoch: 31, \n",
      "        Average Train Loss: 0.1254 |\n",
      "        Average Test Loss: 0.1080 |\n",
      "        Average Test mIoU: 81.09\n",
      "        Average Test Accuracy: 93.7371597290039\n",
      "Checkpoint: ResUNet18_Segmentation_best is saved successfully\n"
     ]
    },
    {
     "name": "stderr",
     "output_type": "stream",
     "text": [
      "Train/Epoch 32/150: 100%|███████████████████████████████████████████████████████████| 104/104 [00:07<00:00, 14.13img/s]\n",
      "Eval/Epoch 32/150: 100%|██████████████████████████████████████████████████████████████| 27/27 [00:03<00:00,  8.26img/s]\n"
     ]
    },
    {
     "name": "stdout",
     "output_type": "stream",
     "text": [
      "\"\n",
      "        Epoch: 32, \n",
      "        Average Train Loss: 0.1325 |\n",
      "        Average Test Loss: 0.1354 |\n",
      "        Average Test mIoU: 77.76\n",
      "        Average Test Accuracy: 89.67933654785156\n"
     ]
    },
    {
     "name": "stderr",
     "output_type": "stream",
     "text": [
      "Train/Epoch 33/150: 100%|███████████████████████████████████████████████████████████| 104/104 [00:07<00:00, 14.13img/s]\n",
      "Eval/Epoch 33/150: 100%|██████████████████████████████████████████████████████████████| 27/27 [00:03<00:00,  8.30img/s]\n"
     ]
    },
    {
     "name": "stdout",
     "output_type": "stream",
     "text": [
      "\"\n",
      "        Epoch: 33, \n",
      "        Average Train Loss: 0.1352 |\n",
      "        Average Test Loss: 0.1068 |\n",
      "        Average Test mIoU: 80.49\n",
      "        Average Test Accuracy: 92.88813781738281\n"
     ]
    },
    {
     "name": "stderr",
     "output_type": "stream",
     "text": [
      "Train/Epoch 34/150: 100%|███████████████████████████████████████████████████████████| 104/104 [00:07<00:00, 14.13img/s]\n",
      "Eval/Epoch 34/150: 100%|██████████████████████████████████████████████████████████████| 27/27 [00:03<00:00,  8.27img/s]\n"
     ]
    },
    {
     "name": "stdout",
     "output_type": "stream",
     "text": [
      "\"\n",
      "        Epoch: 34, \n",
      "        Average Train Loss: 0.1205 |\n",
      "        Average Test Loss: 0.1107 |\n",
      "        Average Test mIoU: 80.69\n",
      "        Average Test Accuracy: 92.8619384765625\n"
     ]
    },
    {
     "name": "stderr",
     "output_type": "stream",
     "text": [
      "Train/Epoch 35/150: 100%|███████████████████████████████████████████████████████████| 104/104 [00:07<00:00, 14.16img/s]\n",
      "Eval/Epoch 35/150: 100%|██████████████████████████████████████████████████████████████| 27/27 [00:03<00:00,  8.27img/s]\n"
     ]
    },
    {
     "name": "stdout",
     "output_type": "stream",
     "text": [
      "\"\n",
      "        Epoch: 35, \n",
      "        Average Train Loss: 0.1249 |\n",
      "        Average Test Loss: 0.1028 |\n",
      "        Average Test mIoU: 82.15\n",
      "        Average Test Accuracy: 94.41630554199219\n",
      "Checkpoint: ResUNet18_Segmentation_best is saved successfully\n"
     ]
    },
    {
     "name": "stderr",
     "output_type": "stream",
     "text": [
      "Train/Epoch 36/150: 100%|███████████████████████████████████████████████████████████| 104/104 [00:07<00:00, 14.28img/s]\n",
      "Eval/Epoch 36/150: 100%|██████████████████████████████████████████████████████████████| 27/27 [00:03<00:00,  8.39img/s]\n"
     ]
    },
    {
     "name": "stdout",
     "output_type": "stream",
     "text": [
      "\"\n",
      "        Epoch: 36, \n",
      "        Average Train Loss: 0.1337 |\n",
      "        Average Test Loss: 0.1195 |\n",
      "        Average Test mIoU: 80.68\n",
      "        Average Test Accuracy: 92.06212615966797\n"
     ]
    },
    {
     "name": "stderr",
     "output_type": "stream",
     "text": [
      "Train/Epoch 37/150: 100%|███████████████████████████████████████████████████████████| 104/104 [00:07<00:00, 14.16img/s]\n",
      "Eval/Epoch 37/150: 100%|██████████████████████████████████████████████████████████████| 27/27 [00:03<00:00,  8.39img/s]\n"
     ]
    },
    {
     "name": "stdout",
     "output_type": "stream",
     "text": [
      "\"\n",
      "        Epoch: 37, \n",
      "        Average Train Loss: 0.1261 |\n",
      "        Average Test Loss: 0.0986 |\n",
      "        Average Test mIoU: 82.06\n",
      "        Average Test Accuracy: 93.7524185180664\n"
     ]
    },
    {
     "name": "stderr",
     "output_type": "stream",
     "text": [
      "Train/Epoch 38/150: 100%|███████████████████████████████████████████████████████████| 104/104 [00:07<00:00, 14.13img/s]\n",
      "Eval/Epoch 38/150: 100%|██████████████████████████████████████████████████████████████| 27/27 [00:03<00:00,  8.35img/s]\n"
     ]
    },
    {
     "name": "stdout",
     "output_type": "stream",
     "text": [
      "\"\n",
      "        Epoch: 38, \n",
      "        Average Train Loss: 0.1230 |\n",
      "        Average Test Loss: 0.1048 |\n",
      "        Average Test mIoU: 80.61\n",
      "        Average Test Accuracy: 92.0171127319336\n"
     ]
    },
    {
     "name": "stderr",
     "output_type": "stream",
     "text": [
      "Train/Epoch 39/150: 100%|███████████████████████████████████████████████████████████| 104/104 [00:07<00:00, 14.28img/s]\n",
      "Eval/Epoch 39/150: 100%|██████████████████████████████████████████████████████████████| 27/27 [00:03<00:00,  8.47img/s]\n"
     ]
    },
    {
     "name": "stdout",
     "output_type": "stream",
     "text": [
      "\"\n",
      "        Epoch: 39, \n",
      "        Average Train Loss: 0.1155 |\n",
      "        Average Test Loss: 0.1123 |\n",
      "        Average Test mIoU: 81.14\n",
      "        Average Test Accuracy: 92.828369140625\n"
     ]
    },
    {
     "name": "stderr",
     "output_type": "stream",
     "text": [
      "Train/Epoch 40/150: 100%|███████████████████████████████████████████████████████████| 104/104 [00:07<00:00, 14.09img/s]\n",
      "Eval/Epoch 40/150: 100%|██████████████████████████████████████████████████████████████| 27/27 [00:03<00:00,  8.30img/s]\n"
     ]
    },
    {
     "name": "stdout",
     "output_type": "stream",
     "text": [
      "\"\n",
      "        Epoch: 40, \n",
      "        Average Train Loss: 0.1100 |\n",
      "        Average Test Loss: 0.1051 |\n",
      "        Average Test mIoU: 81.80\n",
      "        Average Test Accuracy: 93.96388244628906\n"
     ]
    },
    {
     "name": "stderr",
     "output_type": "stream",
     "text": [
      "Train/Epoch 41/150: 100%|███████████████████████████████████████████████████████████| 104/104 [00:07<00:00, 14.13img/s]\n",
      "Eval/Epoch 41/150: 100%|██████████████████████████████████████████████████████████████| 27/27 [00:03<00:00,  8.43img/s]\n"
     ]
    },
    {
     "name": "stdout",
     "output_type": "stream",
     "text": [
      "\"\n",
      "        Epoch: 41, \n",
      "        Average Train Loss: 0.1232 |\n",
      "        Average Test Loss: 0.1042 |\n",
      "        Average Test mIoU: 81.24\n",
      "        Average Test Accuracy: 92.76034545898438\n"
     ]
    },
    {
     "name": "stderr",
     "output_type": "stream",
     "text": [
      "Train/Epoch 42/150: 100%|███████████████████████████████████████████████████████████| 104/104 [00:07<00:00, 14.28img/s]\n",
      "Eval/Epoch 42/150: 100%|██████████████████████████████████████████████████████████████| 27/27 [00:03<00:00,  8.42img/s]\n"
     ]
    },
    {
     "name": "stdout",
     "output_type": "stream",
     "text": [
      "\"\n",
      "        Epoch: 42, \n",
      "        Average Train Loss: 0.1120 |\n",
      "        Average Test Loss: 0.0990 |\n",
      "        Average Test mIoU: 83.13\n",
      "        Average Test Accuracy: 94.56584167480469\n",
      "Checkpoint: ResUNet18_Segmentation_best is saved successfully\n"
     ]
    },
    {
     "name": "stderr",
     "output_type": "stream",
     "text": [
      "Train/Epoch 43/150: 100%|███████████████████████████████████████████████████████████| 104/104 [00:07<00:00, 14.13img/s]\n",
      "Eval/Epoch 43/150: 100%|██████████████████████████████████████████████████████████████| 27/27 [00:03<00:00,  8.47img/s]\n"
     ]
    },
    {
     "name": "stdout",
     "output_type": "stream",
     "text": [
      "\"\n",
      "        Epoch: 43, \n",
      "        Average Train Loss: 0.1076 |\n",
      "        Average Test Loss: 0.1262 |\n",
      "        Average Test mIoU: 79.77\n",
      "        Average Test Accuracy: 91.91106414794922\n"
     ]
    },
    {
     "name": "stderr",
     "output_type": "stream",
     "text": [
      "Train/Epoch 44/150: 100%|███████████████████████████████████████████████████████████| 104/104 [00:07<00:00, 14.10img/s]\n",
      "Eval/Epoch 44/150: 100%|██████████████████████████████████████████████████████████████| 27/27 [00:03<00:00,  8.31img/s]\n"
     ]
    },
    {
     "name": "stdout",
     "output_type": "stream",
     "text": [
      "\"\n",
      "        Epoch: 44, \n",
      "        Average Train Loss: 0.1170 |\n",
      "        Average Test Loss: 0.0975 |\n",
      "        Average Test mIoU: 82.89\n",
      "        Average Test Accuracy: 93.63225555419922\n"
     ]
    },
    {
     "name": "stderr",
     "output_type": "stream",
     "text": [
      "Train/Epoch 45/150: 100%|███████████████████████████████████████████████████████████| 104/104 [00:07<00:00, 14.16img/s]\n",
      "Eval/Epoch 45/150: 100%|██████████████████████████████████████████████████████████████| 27/27 [00:03<00:00,  8.30img/s]\n"
     ]
    },
    {
     "name": "stdout",
     "output_type": "stream",
     "text": [
      "\"\n",
      "        Epoch: 45, \n",
      "        Average Train Loss: 0.1131 |\n",
      "        Average Test Loss: 0.1031 |\n",
      "        Average Test mIoU: 82.16\n",
      "        Average Test Accuracy: 95.0042724609375\n"
     ]
    },
    {
     "name": "stderr",
     "output_type": "stream",
     "text": [
      "Train/Epoch 46/150: 100%|███████████████████████████████████████████████████████████| 104/104 [00:07<00:00, 14.13img/s]\n",
      "Eval/Epoch 46/150: 100%|██████████████████████████████████████████████████████████████| 27/27 [00:03<00:00,  8.43img/s]\n"
     ]
    },
    {
     "name": "stdout",
     "output_type": "stream",
     "text": [
      "\"\n",
      "        Epoch: 46, \n",
      "        Average Train Loss: 0.1272 |\n",
      "        Average Test Loss: 0.1240 |\n",
      "        Average Test mIoU: 80.59\n",
      "        Average Test Accuracy: 93.18097686767578\n"
     ]
    },
    {
     "name": "stderr",
     "output_type": "stream",
     "text": [
      "Train/Epoch 47/150: 100%|███████████████████████████████████████████████████████████| 104/104 [00:07<00:00, 14.25img/s]\n",
      "Eval/Epoch 47/150: 100%|██████████████████████████████████████████████████████████████| 27/27 [00:03<00:00,  8.47img/s]\n"
     ]
    },
    {
     "name": "stdout",
     "output_type": "stream",
     "text": [
      "\"\n",
      "        Epoch: 47, \n",
      "        Average Train Loss: 0.1146 |\n",
      "        Average Test Loss: 0.1106 |\n",
      "        Average Test mIoU: 82.07\n",
      "        Average Test Accuracy: 93.87728881835938\n"
     ]
    },
    {
     "name": "stderr",
     "output_type": "stream",
     "text": [
      "Train/Epoch 48/150: 100%|███████████████████████████████████████████████████████████| 104/104 [00:07<00:00, 14.13img/s]\n",
      "Eval/Epoch 48/150: 100%|██████████████████████████████████████████████████████████████| 27/27 [00:03<00:00,  8.30img/s]\n"
     ]
    },
    {
     "name": "stdout",
     "output_type": "stream",
     "text": [
      "\"\n",
      "        Epoch: 48, \n",
      "        Average Train Loss: 0.1132 |\n",
      "        Average Test Loss: 0.1094 |\n",
      "        Average Test mIoU: 80.05\n",
      "        Average Test Accuracy: 91.05453491210938\n"
     ]
    },
    {
     "name": "stderr",
     "output_type": "stream",
     "text": [
      "Train/Epoch 49/150: 100%|███████████████████████████████████████████████████████████| 104/104 [00:07<00:00, 14.31img/s]\n",
      "Eval/Epoch 49/150: 100%|██████████████████████████████████████████████████████████████| 27/27 [00:03<00:00,  8.38img/s]\n"
     ]
    },
    {
     "name": "stdout",
     "output_type": "stream",
     "text": [
      "\"\n",
      "        Epoch: 49, \n",
      "        Average Train Loss: 0.0946 |\n",
      "        Average Test Loss: 0.0933 |\n",
      "        Average Test mIoU: 84.19\n",
      "        Average Test Accuracy: 94.69426727294922\n",
      "Checkpoint: ResUNet18_Segmentation_best is saved successfully\n"
     ]
    },
    {
     "name": "stderr",
     "output_type": "stream",
     "text": [
      "Train/Epoch 50/150: 100%|███████████████████████████████████████████████████████████| 104/104 [00:07<00:00, 14.25img/s]\n",
      "Eval/Epoch 50/150: 100%|██████████████████████████████████████████████████████████████| 27/27 [00:03<00:00,  8.34img/s]\n"
     ]
    },
    {
     "name": "stdout",
     "output_type": "stream",
     "text": [
      "\"\n",
      "        Epoch: 50, \n",
      "        Average Train Loss: 0.1063 |\n",
      "        Average Test Loss: 0.1080 |\n",
      "        Average Test mIoU: 82.10\n",
      "        Average Test Accuracy: 94.33657836914062\n"
     ]
    },
    {
     "name": "stderr",
     "output_type": "stream",
     "text": [
      "Train/Epoch 51/150: 100%|███████████████████████████████████████████████████████████| 104/104 [00:07<00:00, 14.16img/s]\n",
      "Eval/Epoch 51/150: 100%|██████████████████████████████████████████████████████████████| 27/27 [00:03<00:00,  8.30img/s]\n"
     ]
    },
    {
     "name": "stdout",
     "output_type": "stream",
     "text": [
      "\"\n",
      "        Epoch: 51, \n",
      "        Average Train Loss: 0.1093 |\n",
      "        Average Test Loss: 0.0913 |\n",
      "        Average Test mIoU: 83.80\n",
      "        Average Test Accuracy: 94.36264038085938\n"
     ]
    },
    {
     "name": "stderr",
     "output_type": "stream",
     "text": [
      "Train/Epoch 52/150: 100%|███████████████████████████████████████████████████████████| 104/104 [00:07<00:00, 14.13img/s]\n",
      "Eval/Epoch 52/150: 100%|██████████████████████████████████████████████████████████████| 27/27 [00:03<00:00,  8.38img/s]\n"
     ]
    },
    {
     "name": "stdout",
     "output_type": "stream",
     "text": [
      "\"\n",
      "        Epoch: 52, \n",
      "        Average Train Loss: 0.0932 |\n",
      "        Average Test Loss: 0.1002 |\n",
      "        Average Test mIoU: 82.92\n",
      "        Average Test Accuracy: 93.43363952636719\n"
     ]
    },
    {
     "name": "stderr",
     "output_type": "stream",
     "text": [
      "Train/Epoch 53/150: 100%|███████████████████████████████████████████████████████████| 104/104 [00:07<00:00, 14.13img/s]\n",
      "Eval/Epoch 53/150: 100%|██████████████████████████████████████████████████████████████| 27/27 [00:03<00:00,  8.31img/s]\n"
     ]
    },
    {
     "name": "stdout",
     "output_type": "stream",
     "text": [
      "\"\n",
      "        Epoch: 53, \n",
      "        Average Train Loss: 0.0998 |\n",
      "        Average Test Loss: 0.1109 |\n",
      "        Average Test mIoU: 82.02\n",
      "        Average Test Accuracy: 93.78471374511719\n"
     ]
    },
    {
     "name": "stderr",
     "output_type": "stream",
     "text": [
      "Train/Epoch 54/150: 100%|███████████████████████████████████████████████████████████| 104/104 [00:07<00:00, 14.25img/s]\n",
      "Eval/Epoch 54/150: 100%|██████████████████████████████████████████████████████████████| 27/27 [00:03<00:00,  8.42img/s]\n"
     ]
    },
    {
     "name": "stdout",
     "output_type": "stream",
     "text": [
      "\"\n",
      "        Epoch: 54, \n",
      "        Average Train Loss: 0.1042 |\n",
      "        Average Test Loss: 0.0969 |\n",
      "        Average Test mIoU: 83.50\n",
      "        Average Test Accuracy: 94.80094909667969\n"
     ]
    },
    {
     "name": "stderr",
     "output_type": "stream",
     "text": [
      "Train/Epoch 55/150: 100%|███████████████████████████████████████████████████████████| 104/104 [00:07<00:00, 14.13img/s]\n",
      "Eval/Epoch 55/150: 100%|██████████████████████████████████████████████████████████████| 27/27 [00:03<00:00,  8.31img/s]\n"
     ]
    },
    {
     "name": "stdout",
     "output_type": "stream",
     "text": [
      "\"\n",
      "        Epoch: 55, \n",
      "        Average Train Loss: 0.1000 |\n",
      "        Average Test Loss: 0.0950 |\n",
      "        Average Test mIoU: 82.97\n",
      "        Average Test Accuracy: 92.99037170410156\n"
     ]
    },
    {
     "name": "stderr",
     "output_type": "stream",
     "text": [
      "Train/Epoch 56/150: 100%|███████████████████████████████████████████████████████████| 104/104 [00:07<00:00, 14.13img/s]\n",
      "Eval/Epoch 56/150: 100%|██████████████████████████████████████████████████████████████| 27/27 [00:03<00:00,  8.38img/s]\n"
     ]
    },
    {
     "name": "stdout",
     "output_type": "stream",
     "text": [
      "\"\n",
      "        Epoch: 56, \n",
      "        Average Train Loss: 0.0993 |\n",
      "        Average Test Loss: 0.0938 |\n",
      "        Average Test mIoU: 83.88\n",
      "        Average Test Accuracy: 95.11756896972656\n"
     ]
    },
    {
     "name": "stderr",
     "output_type": "stream",
     "text": [
      "Train/Epoch 57/150: 100%|███████████████████████████████████████████████████████████| 104/104 [00:07<00:00, 14.28img/s]\n",
      "Eval/Epoch 57/150: 100%|██████████████████████████████████████████████████████████████| 27/27 [00:03<00:00,  8.42img/s]\n"
     ]
    },
    {
     "name": "stdout",
     "output_type": "stream",
     "text": [
      "\"\n",
      "        Epoch: 57, \n",
      "        Average Train Loss: 0.0968 |\n",
      "        Average Test Loss: 0.1048 |\n",
      "        Average Test mIoU: 81.91\n",
      "        Average Test Accuracy: 92.56553649902344\n"
     ]
    },
    {
     "name": "stderr",
     "output_type": "stream",
     "text": [
      "Train/Epoch 58/150: 100%|███████████████████████████████████████████████████████████| 104/104 [00:07<00:00, 14.19img/s]\n",
      "Eval/Epoch 58/150: 100%|██████████████████████████████████████████████████████████████| 27/27 [00:03<00:00,  8.30img/s]\n"
     ]
    },
    {
     "name": "stdout",
     "output_type": "stream",
     "text": [
      "\"\n",
      "        Epoch: 58, \n",
      "        Average Train Loss: 0.0887 |\n",
      "        Average Test Loss: 0.0955 |\n",
      "        Average Test mIoU: 83.34\n",
      "        Average Test Accuracy: 93.99236297607422\n"
     ]
    },
    {
     "name": "stderr",
     "output_type": "stream",
     "text": [
      "Train/Epoch 59/150: 100%|███████████████████████████████████████████████████████████| 104/104 [00:07<00:00, 14.16img/s]\n",
      "Eval/Epoch 59/150: 100%|██████████████████████████████████████████████████████████████| 27/27 [00:03<00:00,  8.27img/s]\n"
     ]
    },
    {
     "name": "stdout",
     "output_type": "stream",
     "text": [
      "\"\n",
      "        Epoch: 59, \n",
      "        Average Train Loss: 0.0958 |\n",
      "        Average Test Loss: 0.1026 |\n",
      "        Average Test mIoU: 84.22\n",
      "        Average Test Accuracy: 95.36972045898438\n",
      "Checkpoint: ResUNet18_Segmentation_best is saved successfully\n"
     ]
    },
    {
     "name": "stderr",
     "output_type": "stream",
     "text": [
      "Train/Epoch 60/150: 100%|███████████████████████████████████████████████████████████| 104/104 [00:07<00:00, 14.06img/s]\n",
      "Eval/Epoch 60/150: 100%|██████████████████████████████████████████████████████████████| 27/27 [00:03<00:00,  8.51img/s]\n"
     ]
    },
    {
     "name": "stdout",
     "output_type": "stream",
     "text": [
      "\"\n",
      "        Epoch: 60, \n",
      "        Average Train Loss: 0.0924 |\n",
      "        Average Test Loss: 0.0918 |\n",
      "        Average Test mIoU: 84.74\n",
      "        Average Test Accuracy: 95.58919525146484\n",
      "Checkpoint: ResUNet18_Segmentation_best is saved successfully\n"
     ]
    },
    {
     "name": "stderr",
     "output_type": "stream",
     "text": [
      "Train/Epoch 61/150: 100%|███████████████████████████████████████████████████████████| 104/104 [00:07<00:00, 14.19img/s]\n",
      "Eval/Epoch 61/150: 100%|██████████████████████████████████████████████████████████████| 27/27 [00:03<00:00,  8.43img/s]\n"
     ]
    },
    {
     "name": "stdout",
     "output_type": "stream",
     "text": [
      "\"\n",
      "        Epoch: 61, \n",
      "        Average Train Loss: 0.0999 |\n",
      "        Average Test Loss: 0.1007 |\n",
      "        Average Test mIoU: 82.67\n",
      "        Average Test Accuracy: 92.73936462402344\n"
     ]
    },
    {
     "name": "stderr",
     "output_type": "stream",
     "text": [
      "Train/Epoch 62/150: 100%|███████████████████████████████████████████████████████████| 104/104 [00:07<00:00, 14.13img/s]\n",
      "Eval/Epoch 62/150: 100%|██████████████████████████████████████████████████████████████| 27/27 [00:03<00:00,  8.43img/s]\n"
     ]
    },
    {
     "name": "stdout",
     "output_type": "stream",
     "text": [
      "\"\n",
      "        Epoch: 62, \n",
      "        Average Train Loss: 0.0897 |\n",
      "        Average Test Loss: 0.1090 |\n",
      "        Average Test mIoU: 81.13\n",
      "        Average Test Accuracy: 93.10684204101562\n"
     ]
    },
    {
     "name": "stderr",
     "output_type": "stream",
     "text": [
      "Train/Epoch 63/150: 100%|███████████████████████████████████████████████████████████| 104/104 [00:07<00:00, 14.22img/s]\n",
      "Eval/Epoch 63/150: 100%|██████████████████████████████████████████████████████████████| 27/27 [00:03<00:00,  8.43img/s]\n"
     ]
    },
    {
     "name": "stdout",
     "output_type": "stream",
     "text": [
      "\"\n",
      "        Epoch: 63, \n",
      "        Average Train Loss: 0.0977 |\n",
      "        Average Test Loss: 0.0890 |\n",
      "        Average Test mIoU: 84.67\n",
      "        Average Test Accuracy: 94.52909088134766\n"
     ]
    },
    {
     "name": "stderr",
     "output_type": "stream",
     "text": [
      "Train/Epoch 64/150: 100%|███████████████████████████████████████████████████████████| 104/104 [00:07<00:00, 14.16img/s]\n",
      "Eval/Epoch 64/150: 100%|██████████████████████████████████████████████████████████████| 27/27 [00:03<00:00,  8.31img/s]\n"
     ]
    },
    {
     "name": "stdout",
     "output_type": "stream",
     "text": [
      "\"\n",
      "        Epoch: 64, \n",
      "        Average Train Loss: 0.0921 |\n",
      "        Average Test Loss: 0.0937 |\n",
      "        Average Test mIoU: 84.46\n",
      "        Average Test Accuracy: 95.66739654541016\n"
     ]
    },
    {
     "name": "stderr",
     "output_type": "stream",
     "text": [
      "Train/Epoch 65/150: 100%|███████████████████████████████████████████████████████████| 104/104 [00:07<00:00, 14.13img/s]\n",
      "Eval/Epoch 65/150: 100%|██████████████████████████████████████████████████████████████| 27/27 [00:03<00:00,  8.26img/s]\n"
     ]
    },
    {
     "name": "stdout",
     "output_type": "stream",
     "text": [
      "\"\n",
      "        Epoch: 65, \n",
      "        Average Train Loss: 0.0960 |\n",
      "        Average Test Loss: 0.1118 |\n",
      "        Average Test mIoU: 82.29\n",
      "        Average Test Accuracy: 94.2137451171875\n"
     ]
    },
    {
     "name": "stderr",
     "output_type": "stream",
     "text": [
      "Train/Epoch 66/150: 100%|███████████████████████████████████████████████████████████| 104/104 [00:07<00:00, 14.13img/s]\n",
      "Eval/Epoch 66/150: 100%|██████████████████████████████████████████████████████████████| 27/27 [00:03<00:00,  8.39img/s]\n"
     ]
    },
    {
     "name": "stdout",
     "output_type": "stream",
     "text": [
      "\"\n",
      "        Epoch: 66, \n",
      "        Average Train Loss: 0.0923 |\n",
      "        Average Test Loss: 0.0933 |\n",
      "        Average Test mIoU: 84.28\n",
      "        Average Test Accuracy: 95.28948974609375\n"
     ]
    },
    {
     "name": "stderr",
     "output_type": "stream",
     "text": [
      "Train/Epoch 67/150: 100%|███████████████████████████████████████████████████████████| 104/104 [00:07<00:00, 14.22img/s]\n",
      "Eval/Epoch 67/150: 100%|██████████████████████████████████████████████████████████████| 27/27 [00:03<00:00,  8.43img/s]\n"
     ]
    },
    {
     "name": "stdout",
     "output_type": "stream",
     "text": [
      "\"\n",
      "        Epoch: 67, \n",
      "        Average Train Loss: 0.0856 |\n",
      "        Average Test Loss: 0.0933 |\n",
      "        Average Test mIoU: 84.01\n",
      "        Average Test Accuracy: 93.32771301269531\n"
     ]
    },
    {
     "name": "stderr",
     "output_type": "stream",
     "text": [
      "Train/Epoch 68/150: 100%|███████████████████████████████████████████████████████████| 104/104 [00:07<00:00, 14.16img/s]\n",
      "Eval/Epoch 68/150: 100%|██████████████████████████████████████████████████████████████| 27/27 [00:03<00:00,  8.35img/s]\n"
     ]
    },
    {
     "name": "stdout",
     "output_type": "stream",
     "text": [
      "\"\n",
      "        Epoch: 68, \n",
      "        Average Train Loss: 0.0818 |\n",
      "        Average Test Loss: 0.0784 |\n",
      "        Average Test mIoU: 86.13\n",
      "        Average Test Accuracy: 95.92616271972656\n",
      "Checkpoint: ResUNet18_Segmentation_best is saved successfully\n"
     ]
    },
    {
     "name": "stderr",
     "output_type": "stream",
     "text": [
      "Train/Epoch 69/150: 100%|███████████████████████████████████████████████████████████| 104/104 [00:07<00:00, 14.22img/s]\n",
      "Eval/Epoch 69/150: 100%|██████████████████████████████████████████████████████████████| 27/27 [00:03<00:00,  8.42img/s]\n"
     ]
    },
    {
     "name": "stdout",
     "output_type": "stream",
     "text": [
      "\"\n",
      "        Epoch: 69, \n",
      "        Average Train Loss: 0.0842 |\n",
      "        Average Test Loss: 0.1145 |\n",
      "        Average Test mIoU: 79.71\n",
      "        Average Test Accuracy: 91.59228515625\n"
     ]
    },
    {
     "name": "stderr",
     "output_type": "stream",
     "text": [
      "Train/Epoch 70/150: 100%|███████████████████████████████████████████████████████████| 104/104 [00:07<00:00, 14.16img/s]\n",
      "Eval/Epoch 70/150: 100%|██████████████████████████████████████████████████████████████| 27/27 [00:03<00:00,  8.38img/s]\n"
     ]
    },
    {
     "name": "stdout",
     "output_type": "stream",
     "text": [
      "\"\n",
      "        Epoch: 70, \n",
      "        Average Train Loss: 0.0954 |\n",
      "        Average Test Loss: 0.0902 |\n",
      "        Average Test mIoU: 84.78\n",
      "        Average Test Accuracy: 94.67189025878906\n"
     ]
    },
    {
     "name": "stderr",
     "output_type": "stream",
     "text": [
      "Train/Epoch 71/150: 100%|███████████████████████████████████████████████████████████| 104/104 [00:07<00:00, 14.12img/s]\n",
      "Eval/Epoch 71/150: 100%|██████████████████████████████████████████████████████████████| 27/27 [00:06<00:00,  4.28img/s]\n"
     ]
    },
    {
     "name": "stdout",
     "output_type": "stream",
     "text": [
      "\"\n",
      "        Epoch: 71, \n",
      "        Average Train Loss: 0.0870 |\n",
      "        Average Test Loss: 0.0943 |\n",
      "        Average Test mIoU: 83.16\n",
      "        Average Test Accuracy: 92.2826156616211\n"
     ]
    },
    {
     "name": "stderr",
     "output_type": "stream",
     "text": [
      "Train/Epoch 72/150: 100%|███████████████████████████████████████████████████████████| 104/104 [00:07<00:00, 14.19img/s]\n",
      "Eval/Epoch 72/150: 100%|██████████████████████████████████████████████████████████████| 27/27 [00:03<00:00,  8.38img/s]\n"
     ]
    },
    {
     "name": "stdout",
     "output_type": "stream",
     "text": [
      "\"\n",
      "        Epoch: 72, \n",
      "        Average Train Loss: 0.0883 |\n",
      "        Average Test Loss: 0.0888 |\n",
      "        Average Test mIoU: 83.94\n",
      "        Average Test Accuracy: 93.24137878417969\n"
     ]
    },
    {
     "name": "stderr",
     "output_type": "stream",
     "text": [
      "Train/Epoch 73/150: 100%|███████████████████████████████████████████████████████████| 104/104 [00:07<00:00, 14.10img/s]\n",
      "Eval/Epoch 73/150: 100%|██████████████████████████████████████████████████████████████| 27/27 [00:03<00:00,  8.34img/s]\n"
     ]
    },
    {
     "name": "stdout",
     "output_type": "stream",
     "text": [
      "\"\n",
      "        Epoch: 73, \n",
      "        Average Train Loss: 0.0803 |\n",
      "        Average Test Loss: 0.0917 |\n",
      "        Average Test mIoU: 85.67\n",
      "        Average Test Accuracy: 96.70436096191406\n"
     ]
    },
    {
     "name": "stderr",
     "output_type": "stream",
     "text": [
      "Train/Epoch 74/150: 100%|███████████████████████████████████████████████████████████| 104/104 [00:07<00:00, 14.25img/s]\n",
      "Eval/Epoch 74/150: 100%|██████████████████████████████████████████████████████████████| 27/27 [00:03<00:00,  8.34img/s]\n"
     ]
    },
    {
     "name": "stdout",
     "output_type": "stream",
     "text": [
      "\"\n",
      "        Epoch: 74, \n",
      "        Average Train Loss: 0.0833 |\n",
      "        Average Test Loss: 0.0940 |\n",
      "        Average Test mIoU: 84.05\n",
      "        Average Test Accuracy: 93.93069458007812\n"
     ]
    },
    {
     "name": "stderr",
     "output_type": "stream",
     "text": [
      "Train/Epoch 75/150: 100%|███████████████████████████████████████████████████████████| 104/104 [00:07<00:00, 13.83img/s]\n",
      "Eval/Epoch 75/150: 100%|██████████████████████████████████████████████████████████████| 27/27 [00:03<00:00,  8.07img/s]\n"
     ]
    },
    {
     "name": "stdout",
     "output_type": "stream",
     "text": [
      "\"\n",
      "        Epoch: 75, \n",
      "        Average Train Loss: 0.0864 |\n",
      "        Average Test Loss: 0.0849 |\n",
      "        Average Test mIoU: 86.09\n",
      "        Average Test Accuracy: 95.93353271484375\n"
     ]
    },
    {
     "name": "stderr",
     "output_type": "stream",
     "text": [
      "Train/Epoch 76/150: 100%|███████████████████████████████████████████████████████████| 104/104 [00:07<00:00, 14.13img/s]\n",
      "Eval/Epoch 76/150: 100%|██████████████████████████████████████████████████████████████| 27/27 [00:03<00:00,  8.27img/s]\n"
     ]
    },
    {
     "name": "stdout",
     "output_type": "stream",
     "text": [
      "\"\n",
      "        Epoch: 76, \n",
      "        Average Train Loss: 0.0868 |\n",
      "        Average Test Loss: 0.0950 |\n",
      "        Average Test mIoU: 84.39\n",
      "        Average Test Accuracy: 94.34432983398438\n"
     ]
    },
    {
     "name": "stderr",
     "output_type": "stream",
     "text": [
      "Train/Epoch 77/150: 100%|███████████████████████████████████████████████████████████| 104/104 [00:07<00:00, 14.10img/s]\n",
      "Eval/Epoch 77/150: 100%|██████████████████████████████████████████████████████████████| 27/27 [00:03<00:00,  8.47img/s]\n"
     ]
    },
    {
     "name": "stdout",
     "output_type": "stream",
     "text": [
      "\"\n",
      "        Epoch: 77, \n",
      "        Average Train Loss: 0.0866 |\n",
      "        Average Test Loss: 0.0781 |\n",
      "        Average Test mIoU: 86.35\n",
      "        Average Test Accuracy: 95.60966491699219\n",
      "Checkpoint: ResUNet18_Segmentation_best is saved successfully\n"
     ]
    },
    {
     "name": "stderr",
     "output_type": "stream",
     "text": [
      "Train/Epoch 78/150: 100%|███████████████████████████████████████████████████████████| 104/104 [00:07<00:00, 13.81img/s]\n",
      "Eval/Epoch 78/150: 100%|██████████████████████████████████████████████████████████████| 27/27 [00:03<00:00,  8.31img/s]\n"
     ]
    },
    {
     "name": "stdout",
     "output_type": "stream",
     "text": [
      "\"\n",
      "        Epoch: 78, \n",
      "        Average Train Loss: 0.0879 |\n",
      "        Average Test Loss: 0.0816 |\n",
      "        Average Test mIoU: 86.21\n",
      "        Average Test Accuracy: 96.0637435913086\n"
     ]
    },
    {
     "name": "stderr",
     "output_type": "stream",
     "text": [
      "Train/Epoch 79/150: 100%|███████████████████████████████████████████████████████████| 104/104 [00:07<00:00, 14.01img/s]\n",
      "Eval/Epoch 79/150: 100%|██████████████████████████████████████████████████████████████| 27/27 [00:03<00:00,  8.26img/s]\n"
     ]
    },
    {
     "name": "stdout",
     "output_type": "stream",
     "text": [
      "\"\n",
      "        Epoch: 79, \n",
      "        Average Train Loss: 0.0771 |\n",
      "        Average Test Loss: 0.0792 |\n",
      "        Average Test mIoU: 86.53\n",
      "        Average Test Accuracy: 94.59012603759766\n",
      "Checkpoint: ResUNet18_Segmentation_best is saved successfully\n"
     ]
    },
    {
     "name": "stderr",
     "output_type": "stream",
     "text": [
      "Train/Epoch 80/150: 100%|███████████████████████████████████████████████████████████| 104/104 [00:07<00:00, 14.25img/s]\n",
      "Eval/Epoch 80/150: 100%|██████████████████████████████████████████████████████████████| 27/27 [00:03<00:00,  8.30img/s]\n"
     ]
    },
    {
     "name": "stdout",
     "output_type": "stream",
     "text": [
      "\"\n",
      "        Epoch: 80, \n",
      "        Average Train Loss: 0.0738 |\n",
      "        Average Test Loss: 0.0784 |\n",
      "        Average Test mIoU: 86.87\n",
      "        Average Test Accuracy: 96.55227661132812\n",
      "Checkpoint: ResUNet18_Segmentation_best is saved successfully\n"
     ]
    },
    {
     "name": "stderr",
     "output_type": "stream",
     "text": [
      "Train/Epoch 81/150: 100%|███████████████████████████████████████████████████████████| 104/104 [00:07<00:00, 14.12img/s]\n",
      "Eval/Epoch 81/150: 100%|██████████████████████████████████████████████████████████████| 27/27 [00:03<00:00,  8.34img/s]\n"
     ]
    },
    {
     "name": "stdout",
     "output_type": "stream",
     "text": [
      "\"\n",
      "        Epoch: 81, \n",
      "        Average Train Loss: 0.0780 |\n",
      "        Average Test Loss: 0.0841 |\n",
      "        Average Test mIoU: 85.63\n",
      "        Average Test Accuracy: 95.67134094238281\n"
     ]
    },
    {
     "name": "stderr",
     "output_type": "stream",
     "text": [
      "Train/Epoch 82/150: 100%|███████████████████████████████████████████████████████████| 104/104 [00:07<00:00, 14.15img/s]\n",
      "Eval/Epoch 82/150: 100%|██████████████████████████████████████████████████████████████| 27/27 [00:03<00:00,  8.34img/s]\n"
     ]
    },
    {
     "name": "stdout",
     "output_type": "stream",
     "text": [
      "\"\n",
      "        Epoch: 82, \n",
      "        Average Train Loss: 0.0741 |\n",
      "        Average Test Loss: 0.0822 |\n",
      "        Average Test mIoU: 86.22\n",
      "        Average Test Accuracy: 95.24243927001953\n"
     ]
    },
    {
     "name": "stderr",
     "output_type": "stream",
     "text": [
      "Train/Epoch 83/150: 100%|███████████████████████████████████████████████████████████| 104/104 [00:07<00:00, 14.16img/s]\n",
      "Eval/Epoch 83/150: 100%|██████████████████████████████████████████████████████████████| 27/27 [00:03<00:00,  8.38img/s]\n"
     ]
    },
    {
     "name": "stdout",
     "output_type": "stream",
     "text": [
      "\"\n",
      "        Epoch: 83, \n",
      "        Average Train Loss: 0.0775 |\n",
      "        Average Test Loss: 0.0800 |\n",
      "        Average Test mIoU: 86.28\n",
      "        Average Test Accuracy: 95.211669921875\n"
     ]
    },
    {
     "name": "stderr",
     "output_type": "stream",
     "text": [
      "Train/Epoch 84/150: 100%|███████████████████████████████████████████████████████████| 104/104 [00:07<00:00, 14.22img/s]\n",
      "Eval/Epoch 84/150: 100%|██████████████████████████████████████████████████████████████| 27/27 [00:03<00:00,  8.47img/s]\n"
     ]
    },
    {
     "name": "stdout",
     "output_type": "stream",
     "text": [
      "\"\n",
      "        Epoch: 84, \n",
      "        Average Train Loss: 0.0746 |\n",
      "        Average Test Loss: 0.0790 |\n",
      "        Average Test mIoU: 86.13\n",
      "        Average Test Accuracy: 95.33475494384766\n"
     ]
    },
    {
     "name": "stderr",
     "output_type": "stream",
     "text": [
      "Train/Epoch 85/150: 100%|███████████████████████████████████████████████████████████| 104/104 [00:07<00:00, 14.13img/s]\n",
      "Eval/Epoch 85/150: 100%|██████████████████████████████████████████████████████████████| 27/27 [00:03<00:00,  8.34img/s]\n"
     ]
    },
    {
     "name": "stdout",
     "output_type": "stream",
     "text": [
      "\"\n",
      "        Epoch: 85, \n",
      "        Average Train Loss: 0.0758 |\n",
      "        Average Test Loss: 0.1073 |\n",
      "        Average Test mIoU: 80.53\n",
      "        Average Test Accuracy: 90.05775451660156\n"
     ]
    },
    {
     "name": "stderr",
     "output_type": "stream",
     "text": [
      "Train/Epoch 86/150: 100%|███████████████████████████████████████████████████████████| 104/104 [00:07<00:00, 14.12img/s]\n",
      "Eval/Epoch 86/150: 100%|██████████████████████████████████████████████████████████████| 27/27 [00:03<00:00,  8.34img/s]\n"
     ]
    },
    {
     "name": "stdout",
     "output_type": "stream",
     "text": [
      "\"\n",
      "        Epoch: 86, \n",
      "        Average Train Loss: 0.0753 |\n",
      "        Average Test Loss: 0.0745 |\n",
      "        Average Test mIoU: 87.70\n",
      "        Average Test Accuracy: 96.98295593261719\n",
      "Checkpoint: ResUNet18_Segmentation_best is saved successfully\n"
     ]
    },
    {
     "name": "stderr",
     "output_type": "stream",
     "text": [
      "Train/Epoch 87/150: 100%|███████████████████████████████████████████████████████████| 104/104 [00:07<00:00, 14.22img/s]\n",
      "Eval/Epoch 87/150: 100%|██████████████████████████████████████████████████████████████| 27/27 [00:03<00:00,  8.42img/s]\n"
     ]
    },
    {
     "name": "stdout",
     "output_type": "stream",
     "text": [
      "\"\n",
      "        Epoch: 87, \n",
      "        Average Train Loss: 0.0828 |\n",
      "        Average Test Loss: 0.0889 |\n",
      "        Average Test mIoU: 85.44\n",
      "        Average Test Accuracy: 94.97083282470703\n"
     ]
    },
    {
     "name": "stderr",
     "output_type": "stream",
     "text": [
      "Train/Epoch 88/150: 100%|███████████████████████████████████████████████████████████| 104/104 [00:07<00:00, 14.12img/s]\n",
      "Eval/Epoch 88/150: 100%|██████████████████████████████████████████████████████████████| 27/27 [00:03<00:00,  8.38img/s]\n"
     ]
    },
    {
     "name": "stdout",
     "output_type": "stream",
     "text": [
      "\"\n",
      "        Epoch: 88, \n",
      "        Average Train Loss: 0.0885 |\n",
      "        Average Test Loss: 0.0792 |\n",
      "        Average Test mIoU: 86.12\n",
      "        Average Test Accuracy: 96.37400817871094\n"
     ]
    },
    {
     "name": "stderr",
     "output_type": "stream",
     "text": [
      "Train/Epoch 89/150: 100%|███████████████████████████████████████████████████████████| 104/104 [00:07<00:00, 14.16img/s]\n",
      "Eval/Epoch 89/150: 100%|██████████████████████████████████████████████████████████████| 27/27 [00:03<00:00,  8.35img/s]\n"
     ]
    },
    {
     "name": "stdout",
     "output_type": "stream",
     "text": [
      "\"\n",
      "        Epoch: 89, \n",
      "        Average Train Loss: 0.0767 |\n",
      "        Average Test Loss: 0.1057 |\n",
      "        Average Test mIoU: 81.41\n",
      "        Average Test Accuracy: 91.53150177001953\n"
     ]
    },
    {
     "name": "stderr",
     "output_type": "stream",
     "text": [
      "Train/Epoch 90/150: 100%|███████████████████████████████████████████████████████████| 104/104 [00:07<00:00, 14.09img/s]\n",
      "Eval/Epoch 90/150: 100%|██████████████████████████████████████████████████████████████| 27/27 [00:03<00:00,  8.31img/s]\n"
     ]
    },
    {
     "name": "stdout",
     "output_type": "stream",
     "text": [
      "\"\n",
      "        Epoch: 90, \n",
      "        Average Train Loss: 0.0811 |\n",
      "        Average Test Loss: 0.0834 |\n",
      "        Average Test mIoU: 86.13\n",
      "        Average Test Accuracy: 95.54824829101562\n"
     ]
    },
    {
     "name": "stderr",
     "output_type": "stream",
     "text": [
      "Train/Epoch 91/150: 100%|███████████████████████████████████████████████████████████| 104/104 [00:07<00:00, 14.04img/s]\n",
      "Eval/Epoch 91/150: 100%|██████████████████████████████████████████████████████████████| 27/27 [00:03<00:00,  8.35img/s]\n"
     ]
    },
    {
     "name": "stdout",
     "output_type": "stream",
     "text": [
      "\"\n",
      "        Epoch: 91, \n",
      "        Average Train Loss: 0.0689 |\n",
      "        Average Test Loss: 0.0795 |\n",
      "        Average Test mIoU: 86.49\n",
      "        Average Test Accuracy: 95.751953125\n"
     ]
    },
    {
     "name": "stderr",
     "output_type": "stream",
     "text": [
      "Train/Epoch 92/150: 100%|███████████████████████████████████████████████████████████| 104/104 [00:07<00:00, 14.28img/s]\n",
      "Eval/Epoch 92/150: 100%|██████████████████████████████████████████████████████████████| 27/27 [00:03<00:00,  8.51img/s]\n"
     ]
    },
    {
     "name": "stdout",
     "output_type": "stream",
     "text": [
      "\"\n",
      "        Epoch: 92, \n",
      "        Average Train Loss: 0.0718 |\n",
      "        Average Test Loss: 0.0845 |\n",
      "        Average Test mIoU: 86.83\n",
      "        Average Test Accuracy: 96.38290405273438\n"
     ]
    },
    {
     "name": "stderr",
     "output_type": "stream",
     "text": [
      "Train/Epoch 93/150: 100%|███████████████████████████████████████████████████████████| 104/104 [00:07<00:00, 14.13img/s]\n",
      "Eval/Epoch 93/150: 100%|██████████████████████████████████████████████████████████████| 27/27 [00:03<00:00,  8.34img/s]\n"
     ]
    },
    {
     "name": "stdout",
     "output_type": "stream",
     "text": [
      "\"\n",
      "        Epoch: 93, \n",
      "        Average Train Loss: 0.0745 |\n",
      "        Average Test Loss: 0.0845 |\n",
      "        Average Test mIoU: 85.76\n",
      "        Average Test Accuracy: 94.82638549804688\n"
     ]
    },
    {
     "name": "stderr",
     "output_type": "stream",
     "text": [
      "Train/Epoch 94/150: 100%|███████████████████████████████████████████████████████████| 104/104 [00:07<00:00, 14.15img/s]\n",
      "Eval/Epoch 94/150: 100%|██████████████████████████████████████████████████████████████| 27/27 [00:03<00:00,  8.26img/s]\n"
     ]
    },
    {
     "name": "stdout",
     "output_type": "stream",
     "text": [
      "\"\n",
      "        Epoch: 94, \n",
      "        Average Train Loss: 0.0661 |\n",
      "        Average Test Loss: 0.0845 |\n",
      "        Average Test mIoU: 85.44\n",
      "        Average Test Accuracy: 95.06022644042969\n"
     ]
    },
    {
     "name": "stderr",
     "output_type": "stream",
     "text": [
      "Train/Epoch 95/150: 100%|███████████████████████████████████████████████████████████| 104/104 [00:07<00:00, 14.13img/s]\n",
      "Eval/Epoch 95/150: 100%|██████████████████████████████████████████████████████████████| 27/27 [00:03<00:00,  8.43img/s]\n"
     ]
    },
    {
     "name": "stdout",
     "output_type": "stream",
     "text": [
      "\"\n",
      "        Epoch: 95, \n",
      "        Average Train Loss: 0.0770 |\n",
      "        Average Test Loss: 0.0939 |\n",
      "        Average Test mIoU: 84.74\n",
      "        Average Test Accuracy: 95.7848892211914\n"
     ]
    },
    {
     "name": "stderr",
     "output_type": "stream",
     "text": [
      "Train/Epoch 96/150: 100%|███████████████████████████████████████████████████████████| 104/104 [00:07<00:00, 14.25img/s]\n",
      "Eval/Epoch 96/150: 100%|██████████████████████████████████████████████████████████████| 27/27 [00:03<00:00,  8.43img/s]\n"
     ]
    },
    {
     "name": "stdout",
     "output_type": "stream",
     "text": [
      "\"\n",
      "        Epoch: 96, \n",
      "        Average Train Loss: 0.0690 |\n",
      "        Average Test Loss: 0.0858 |\n",
      "        Average Test mIoU: 85.25\n",
      "        Average Test Accuracy: 95.08438110351562\n"
     ]
    },
    {
     "name": "stderr",
     "output_type": "stream",
     "text": [
      "Train/Epoch 97/150: 100%|███████████████████████████████████████████████████████████| 104/104 [00:07<00:00, 14.16img/s]\n",
      "Eval/Epoch 97/150: 100%|██████████████████████████████████████████████████████████████| 27/27 [00:03<00:00,  8.34img/s]\n"
     ]
    },
    {
     "name": "stdout",
     "output_type": "stream",
     "text": [
      "\"\n",
      "        Epoch: 97, \n",
      "        Average Train Loss: 0.0710 |\n",
      "        Average Test Loss: 0.0921 |\n",
      "        Average Test mIoU: 83.55\n",
      "        Average Test Accuracy: 93.36700439453125\n"
     ]
    },
    {
     "name": "stderr",
     "output_type": "stream",
     "text": [
      "Train/Epoch 98/150: 100%|███████████████████████████████████████████████████████████| 104/104 [00:07<00:00, 14.10img/s]\n",
      "Eval/Epoch 98/150: 100%|██████████████████████████████████████████████████████████████| 27/27 [00:03<00:00,  8.31img/s]\n"
     ]
    },
    {
     "name": "stdout",
     "output_type": "stream",
     "text": [
      "\"\n",
      "        Epoch: 98, \n",
      "        Average Train Loss: 0.0647 |\n",
      "        Average Test Loss: 0.0809 |\n",
      "        Average Test mIoU: 86.18\n",
      "        Average Test Accuracy: 94.86465454101562\n"
     ]
    },
    {
     "name": "stderr",
     "output_type": "stream",
     "text": [
      "Train/Epoch 99/150: 100%|███████████████████████████████████████████████████████████| 104/104 [00:07<00:00, 14.25img/s]\n",
      "Eval/Epoch 99/150: 100%|██████████████████████████████████████████████████████████████| 27/27 [00:03<00:00,  8.47img/s]\n"
     ]
    },
    {
     "name": "stdout",
     "output_type": "stream",
     "text": [
      "\"\n",
      "        Epoch: 99, \n",
      "        Average Train Loss: 0.0723 |\n",
      "        Average Test Loss: 0.0830 |\n",
      "        Average Test mIoU: 85.70\n",
      "        Average Test Accuracy: 94.91336059570312\n"
     ]
    },
    {
     "name": "stderr",
     "output_type": "stream",
     "text": [
      "Train/Epoch 100/150: 100%|██████████████████████████████████████████████████████████| 104/104 [00:07<00:00, 14.16img/s]\n",
      "Eval/Epoch 100/150: 100%|█████████████████████████████████████████████████████████████| 27/27 [00:03<00:00,  8.34img/s]\n"
     ]
    },
    {
     "name": "stdout",
     "output_type": "stream",
     "text": [
      "\"\n",
      "        Epoch: 100, \n",
      "        Average Train Loss: 0.0752 |\n",
      "        Average Test Loss: 0.0894 |\n",
      "        Average Test mIoU: 85.38\n",
      "        Average Test Accuracy: 95.31059265136719\n"
     ]
    },
    {
     "name": "stderr",
     "output_type": "stream",
     "text": [
      "Train/Epoch 101/150: 100%|██████████████████████████████████████████████████████████| 104/104 [00:07<00:00, 14.13img/s]\n",
      "Eval/Epoch 101/150: 100%|█████████████████████████████████████████████████████████████| 27/27 [00:03<00:00,  8.39img/s]\n"
     ]
    },
    {
     "name": "stdout",
     "output_type": "stream",
     "text": [
      "\"\n",
      "        Epoch: 101, \n",
      "        Average Train Loss: 0.0704 |\n",
      "        Average Test Loss: 0.0832 |\n",
      "        Average Test mIoU: 86.23\n",
      "        Average Test Accuracy: 95.61322784423828\n"
     ]
    },
    {
     "name": "stderr",
     "output_type": "stream",
     "text": [
      "Train/Epoch 102/150: 100%|██████████████████████████████████████████████████████████| 104/104 [00:07<00:00, 14.13img/s]\n",
      "Eval/Epoch 102/150: 100%|█████████████████████████████████████████████████████████████| 27/27 [00:03<00:00,  8.38img/s]\n"
     ]
    },
    {
     "name": "stdout",
     "output_type": "stream",
     "text": [
      "\"\n",
      "        Epoch: 102, \n",
      "        Average Train Loss: 0.0717 |\n",
      "        Average Test Loss: 0.0852 |\n",
      "        Average Test mIoU: 85.85\n",
      "        Average Test Accuracy: 95.3282699584961\n"
     ]
    },
    {
     "name": "stderr",
     "output_type": "stream",
     "text": [
      "Train/Epoch 103/150: 100%|██████████████████████████████████████████████████████████| 104/104 [00:07<00:00, 14.09img/s]\n",
      "Eval/Epoch 103/150: 100%|█████████████████████████████████████████████████████████████| 27/27 [00:03<00:00,  8.34img/s]\n"
     ]
    },
    {
     "name": "stdout",
     "output_type": "stream",
     "text": [
      "\"\n",
      "        Epoch: 103, \n",
      "        Average Train Loss: 0.0605 |\n",
      "        Average Test Loss: 0.0844 |\n",
      "        Average Test mIoU: 86.88\n",
      "        Average Test Accuracy: 96.12655639648438\n"
     ]
    },
    {
     "name": "stderr",
     "output_type": "stream",
     "text": [
      "Train/Epoch 104/150: 100%|██████████████████████████████████████████████████████████| 104/104 [00:07<00:00, 14.31img/s]\n",
      "Eval/Epoch 104/150: 100%|█████████████████████████████████████████████████████████████| 27/27 [00:03<00:00,  8.38img/s]\n"
     ]
    },
    {
     "name": "stdout",
     "output_type": "stream",
     "text": [
      "\"\n",
      "        Epoch: 104, \n",
      "        Average Train Loss: 0.0598 |\n",
      "        Average Test Loss: 0.0785 |\n",
      "        Average Test mIoU: 87.49\n",
      "        Average Test Accuracy: 96.5417251586914\n"
     ]
    },
    {
     "name": "stderr",
     "output_type": "stream",
     "text": [
      "Train/Epoch 105/150: 100%|██████████████████████████████████████████████████████████| 104/104 [00:07<00:00, 14.19img/s]\n",
      "Eval/Epoch 105/150: 100%|█████████████████████████████████████████████████████████████| 27/27 [00:03<00:00,  8.42img/s]\n"
     ]
    },
    {
     "name": "stdout",
     "output_type": "stream",
     "text": [
      "\"\n",
      "        Epoch: 105, \n",
      "        Average Train Loss: 0.0650 |\n",
      "        Average Test Loss: 0.0807 |\n",
      "        Average Test mIoU: 86.65\n",
      "        Average Test Accuracy: 95.81439208984375\n"
     ]
    },
    {
     "name": "stderr",
     "output_type": "stream",
     "text": [
      "Train/Epoch 106/150: 100%|██████████████████████████████████████████████████████████| 104/104 [00:07<00:00, 14.16img/s]\n",
      "Eval/Epoch 106/150: 100%|█████████████████████████████████████████████████████████████| 27/27 [00:03<00:00,  8.39img/s]\n"
     ]
    },
    {
     "name": "stdout",
     "output_type": "stream",
     "text": [
      "\"\n",
      "        Epoch: 106, \n",
      "        Average Train Loss: 0.0672 |\n",
      "        Average Test Loss: 0.0804 |\n",
      "        Average Test mIoU: 85.88\n",
      "        Average Test Accuracy: 94.22035217285156\n"
     ]
    },
    {
     "name": "stderr",
     "output_type": "stream",
     "text": [
      "Train/Epoch 107/150: 100%|██████████████████████████████████████████████████████████| 104/104 [00:07<00:00, 14.28img/s]\n",
      "Eval/Epoch 107/150: 100%|█████████████████████████████████████████████████████████████| 27/27 [00:03<00:00,  8.47img/s]\n"
     ]
    },
    {
     "name": "stdout",
     "output_type": "stream",
     "text": [
      "\"\n",
      "        Epoch: 107, \n",
      "        Average Train Loss: 0.0633 |\n",
      "        Average Test Loss: 0.0859 |\n",
      "        Average Test mIoU: 85.45\n",
      "        Average Test Accuracy: 93.514892578125\n"
     ]
    },
    {
     "name": "stderr",
     "output_type": "stream",
     "text": [
      "Train/Epoch 108/150: 100%|██████████████████████████████████████████████████████████| 104/104 [00:07<00:00, 14.13img/s]\n",
      "Eval/Epoch 108/150: 100%|█████████████████████████████████████████████████████████████| 27/27 [00:03<00:00,  8.39img/s]\n"
     ]
    },
    {
     "name": "stdout",
     "output_type": "stream",
     "text": [
      "\"\n",
      "        Epoch: 108, \n",
      "        Average Train Loss: 0.0665 |\n",
      "        Average Test Loss: 0.0738 |\n",
      "        Average Test mIoU: 87.75\n",
      "        Average Test Accuracy: 96.02153015136719\n",
      "Checkpoint: ResUNet18_Segmentation_best is saved successfully\n"
     ]
    },
    {
     "name": "stderr",
     "output_type": "stream",
     "text": [
      "Train/Epoch 109/150: 100%|██████████████████████████████████████████████████████████| 104/104 [00:07<00:00, 14.16img/s]\n",
      "Eval/Epoch 109/150: 100%|█████████████████████████████████████████████████████████████| 27/27 [00:03<00:00,  8.34img/s]\n"
     ]
    },
    {
     "name": "stdout",
     "output_type": "stream",
     "text": [
      "\"\n",
      "        Epoch: 109, \n",
      "        Average Train Loss: 0.0576 |\n",
      "        Average Test Loss: 0.0713 |\n",
      "        Average Test mIoU: 88.19\n",
      "        Average Test Accuracy: 96.14448547363281\n",
      "Checkpoint: ResUNet18_Segmentation_best is saved successfully\n"
     ]
    },
    {
     "name": "stderr",
     "output_type": "stream",
     "text": [
      "Train/Epoch 110/150: 100%|██████████████████████████████████████████████████████████| 104/104 [00:07<00:00, 14.16img/s]\n",
      "Eval/Epoch 110/150: 100%|█████████████████████████████████████████████████████████████| 27/27 [00:03<00:00,  8.22img/s]\n"
     ]
    },
    {
     "name": "stdout",
     "output_type": "stream",
     "text": [
      "\"\n",
      "        Epoch: 110, \n",
      "        Average Train Loss: 0.0565 |\n",
      "        Average Test Loss: 0.0695 |\n",
      "        Average Test mIoU: 88.40\n",
      "        Average Test Accuracy: 96.39714813232422\n",
      "Checkpoint: ResUNet18_Segmentation_best is saved successfully\n"
     ]
    },
    {
     "name": "stderr",
     "output_type": "stream",
     "text": [
      "Train/Epoch 111/150: 100%|██████████████████████████████████████████████████████████| 104/104 [00:07<00:00, 13.89img/s]\n",
      "Eval/Epoch 111/150: 100%|█████████████████████████████████████████████████████████████| 27/27 [00:03<00:00,  8.34img/s]\n"
     ]
    },
    {
     "name": "stdout",
     "output_type": "stream",
     "text": [
      "\"\n",
      "        Epoch: 111, \n",
      "        Average Train Loss: 0.0597 |\n",
      "        Average Test Loss: 0.0689 |\n",
      "        Average Test mIoU: 88.46\n",
      "        Average Test Accuracy: 96.25676727294922\n",
      "Checkpoint: ResUNet18_Segmentation_best is saved successfully\n"
     ]
    },
    {
     "name": "stderr",
     "output_type": "stream",
     "text": [
      "Train/Epoch 112/150: 100%|██████████████████████████████████████████████████████████| 104/104 [00:07<00:00, 14.12img/s]\n",
      "Eval/Epoch 112/150: 100%|█████████████████████████████████████████████████████████████| 27/27 [00:03<00:00,  8.35img/s]\n"
     ]
    },
    {
     "name": "stdout",
     "output_type": "stream",
     "text": [
      "\"\n",
      "        Epoch: 112, \n",
      "        Average Train Loss: 0.0587 |\n",
      "        Average Test Loss: 0.0686 |\n",
      "        Average Test mIoU: 88.37\n",
      "        Average Test Accuracy: 95.94535827636719\n"
     ]
    },
    {
     "name": "stderr",
     "output_type": "stream",
     "text": [
      "Train/Epoch 113/150: 100%|██████████████████████████████████████████████████████████| 104/104 [00:07<00:00, 14.16img/s]\n",
      "Eval/Epoch 113/150: 100%|█████████████████████████████████████████████████████████████| 27/27 [00:03<00:00,  8.30img/s]\n"
     ]
    },
    {
     "name": "stdout",
     "output_type": "stream",
     "text": [
      "\"\n",
      "        Epoch: 113, \n",
      "        Average Train Loss: 0.0537 |\n",
      "        Average Test Loss: 0.0681 |\n",
      "        Average Test mIoU: 88.42\n",
      "        Average Test Accuracy: 95.92170715332031\n"
     ]
    },
    {
     "name": "stderr",
     "output_type": "stream",
     "text": [
      "Train/Epoch 114/150: 100%|██████████████████████████████████████████████████████████| 104/104 [00:07<00:00, 14.34img/s]\n",
      "Eval/Epoch 114/150: 100%|█████████████████████████████████████████████████████████████| 27/27 [00:03<00:00,  8.38img/s]\n"
     ]
    },
    {
     "name": "stdout",
     "output_type": "stream",
     "text": [
      "\"\n",
      "        Epoch: 114, \n",
      "        Average Train Loss: 0.0509 |\n",
      "        Average Test Loss: 0.0676 |\n",
      "        Average Test mIoU: 88.62\n",
      "        Average Test Accuracy: 96.2518081665039\n",
      "Checkpoint: ResUNet18_Segmentation_best is saved successfully\n"
     ]
    },
    {
     "name": "stderr",
     "output_type": "stream",
     "text": [
      "Train/Epoch 115/150: 100%|██████████████████████████████████████████████████████████| 104/104 [00:07<00:00, 14.25img/s]\n",
      "Eval/Epoch 115/150: 100%|█████████████████████████████████████████████████████████████| 27/27 [00:03<00:00,  8.47img/s]\n"
     ]
    },
    {
     "name": "stdout",
     "output_type": "stream",
     "text": [
      "\"\n",
      "        Epoch: 115, \n",
      "        Average Train Loss: 0.0559 |\n",
      "        Average Test Loss: 0.0667 |\n",
      "        Average Test mIoU: 88.91\n",
      "        Average Test Accuracy: 96.51057434082031\n",
      "Checkpoint: ResUNet18_Segmentation_best is saved successfully\n"
     ]
    },
    {
     "name": "stderr",
     "output_type": "stream",
     "text": [
      "Train/Epoch 116/150: 100%|██████████████████████████████████████████████████████████| 104/104 [00:07<00:00, 14.28img/s]\n",
      "Eval/Epoch 116/150: 100%|█████████████████████████████████████████████████████████████| 27/27 [00:03<00:00,  8.47img/s]\n"
     ]
    },
    {
     "name": "stdout",
     "output_type": "stream",
     "text": [
      "\"\n",
      "        Epoch: 116, \n",
      "        Average Train Loss: 0.0569 |\n",
      "        Average Test Loss: 0.0668 |\n",
      "        Average Test mIoU: 88.82\n",
      "        Average Test Accuracy: 96.57618713378906\n"
     ]
    },
    {
     "name": "stderr",
     "output_type": "stream",
     "text": [
      "Train/Epoch 117/150: 100%|██████████████████████████████████████████████████████████| 104/104 [00:07<00:00, 14.10img/s]\n",
      "Eval/Epoch 117/150: 100%|█████████████████████████████████████████████████████████████| 27/27 [00:03<00:00,  8.22img/s]\n"
     ]
    },
    {
     "name": "stdout",
     "output_type": "stream",
     "text": [
      "\"\n",
      "        Epoch: 117, \n",
      "        Average Train Loss: 0.0500 |\n",
      "        Average Test Loss: 0.0659 |\n",
      "        Average Test mIoU: 89.11\n",
      "        Average Test Accuracy: 96.6588363647461\n",
      "Checkpoint: ResUNet18_Segmentation_best is saved successfully\n"
     ]
    },
    {
     "name": "stderr",
     "output_type": "stream",
     "text": [
      "Train/Epoch 118/150: 100%|██████████████████████████████████████████████████████████| 104/104 [00:07<00:00, 14.19img/s]\n",
      "Eval/Epoch 118/150: 100%|█████████████████████████████████████████████████████████████| 27/27 [00:03<00:00,  8.43img/s]\n"
     ]
    },
    {
     "name": "stdout",
     "output_type": "stream",
     "text": [
      "\"\n",
      "        Epoch: 118, \n",
      "        Average Train Loss: 0.0555 |\n",
      "        Average Test Loss: 0.0652 |\n",
      "        Average Test mIoU: 89.22\n",
      "        Average Test Accuracy: 96.4752197265625\n",
      "Checkpoint: ResUNet18_Segmentation_best is saved successfully\n"
     ]
    },
    {
     "name": "stderr",
     "output_type": "stream",
     "text": [
      "Train/Epoch 119/150: 100%|██████████████████████████████████████████████████████████| 104/104 [00:07<00:00, 14.10img/s]\n",
      "Eval/Epoch 119/150: 100%|█████████████████████████████████████████████████████████████| 27/27 [00:03<00:00,  8.39img/s]\n"
     ]
    },
    {
     "name": "stdout",
     "output_type": "stream",
     "text": [
      "\"\n",
      "        Epoch: 119, \n",
      "        Average Train Loss: 0.0560 |\n",
      "        Average Test Loss: 0.0651 |\n",
      "        Average Test mIoU: 89.41\n",
      "        Average Test Accuracy: 96.53104400634766\n",
      "Checkpoint: ResUNet18_Segmentation_best is saved successfully\n"
     ]
    },
    {
     "name": "stderr",
     "output_type": "stream",
     "text": [
      "Train/Epoch 120/150: 100%|██████████████████████████████████████████████████████████| 104/104 [00:07<00:00, 14.01img/s]\n",
      "Eval/Epoch 120/150: 100%|█████████████████████████████████████████████████████████████| 27/27 [00:03<00:00,  8.23img/s]\n"
     ]
    },
    {
     "name": "stdout",
     "output_type": "stream",
     "text": [
      "\"\n",
      "        Epoch: 120, \n",
      "        Average Train Loss: 0.0500 |\n",
      "        Average Test Loss: 0.0653 |\n",
      "        Average Test mIoU: 89.51\n",
      "        Average Test Accuracy: 96.688720703125\n",
      "Checkpoint: ResUNet18_Segmentation_best is saved successfully\n"
     ]
    },
    {
     "name": "stderr",
     "output_type": "stream",
     "text": [
      "Train/Epoch 121/150: 100%|██████████████████████████████████████████████████████████| 104/104 [00:07<00:00, 13.86img/s]\n",
      "Eval/Epoch 121/150: 100%|█████████████████████████████████████████████████████████████| 27/27 [00:03<00:00,  8.15img/s]\n"
     ]
    },
    {
     "name": "stdout",
     "output_type": "stream",
     "text": [
      "\"\n",
      "        Epoch: 121, \n",
      "        Average Train Loss: 0.0529 |\n",
      "        Average Test Loss: 0.0646 |\n",
      "        Average Test mIoU: 89.50\n",
      "        Average Test Accuracy: 96.59487915039062\n"
     ]
    },
    {
     "name": "stderr",
     "output_type": "stream",
     "text": [
      "Train/Epoch 122/150: 100%|██████████████████████████████████████████████████████████| 104/104 [00:07<00:00, 13.89img/s]\n",
      "Eval/Epoch 122/150: 100%|█████████████████████████████████████████████████████████████| 27/27 [00:03<00:00,  8.23img/s]\n"
     ]
    },
    {
     "name": "stdout",
     "output_type": "stream",
     "text": [
      "\"\n",
      "        Epoch: 122, \n",
      "        Average Train Loss: 0.0539 |\n",
      "        Average Test Loss: 0.0648 |\n",
      "        Average Test mIoU: 89.40\n",
      "        Average Test Accuracy: 96.46339416503906\n"
     ]
    },
    {
     "name": "stderr",
     "output_type": "stream",
     "text": [
      "Train/Epoch 123/150: 100%|██████████████████████████████████████████████████████████| 104/104 [00:07<00:00, 13.98img/s]\n",
      "Eval/Epoch 123/150: 100%|█████████████████████████████████████████████████████████████| 27/27 [00:03<00:00,  8.26img/s]\n"
     ]
    },
    {
     "name": "stdout",
     "output_type": "stream",
     "text": [
      "\"\n",
      "        Epoch: 123, \n",
      "        Average Train Loss: 0.0499 |\n",
      "        Average Test Loss: 0.0663 |\n",
      "        Average Test mIoU: 89.13\n",
      "        Average Test Accuracy: 96.44038391113281\n"
     ]
    },
    {
     "name": "stderr",
     "output_type": "stream",
     "text": [
      "Train/Epoch 124/150: 100%|██████████████████████████████████████████████████████████| 104/104 [00:07<00:00, 14.13img/s]\n",
      "Eval/Epoch 124/150: 100%|█████████████████████████████████████████████████████████████| 27/27 [00:03<00:00,  8.26img/s]\n"
     ]
    },
    {
     "name": "stdout",
     "output_type": "stream",
     "text": [
      "\"\n",
      "        Epoch: 124, \n",
      "        Average Train Loss: 0.0531 |\n",
      "        Average Test Loss: 0.0671 |\n",
      "        Average Test mIoU: 88.93\n",
      "        Average Test Accuracy: 96.29109954833984\n"
     ]
    },
    {
     "name": "stderr",
     "output_type": "stream",
     "text": [
      "Train/Epoch 125/150: 100%|██████████████████████████████████████████████████████████| 104/104 [00:07<00:00, 14.16img/s]\n",
      "Eval/Epoch 125/150: 100%|█████████████████████████████████████████████████████████████| 27/27 [00:03<00:00,  8.34img/s]\n"
     ]
    },
    {
     "name": "stdout",
     "output_type": "stream",
     "text": [
      "\"\n",
      "        Epoch: 125, \n",
      "        Average Train Loss: 0.0547 |\n",
      "        Average Test Loss: 0.0670 |\n",
      "        Average Test mIoU: 89.11\n",
      "        Average Test Accuracy: 96.5337142944336\n"
     ]
    },
    {
     "name": "stderr",
     "output_type": "stream",
     "text": [
      "Train/Epoch 126/150: 100%|██████████████████████████████████████████████████████████| 104/104 [00:07<00:00, 14.10img/s]\n",
      "Eval/Epoch 126/150: 100%|█████████████████████████████████████████████████████████████| 27/27 [00:03<00:00,  8.27img/s]\n"
     ]
    },
    {
     "name": "stdout",
     "output_type": "stream",
     "text": [
      "\"\n",
      "        Epoch: 126, \n",
      "        Average Train Loss: 0.0483 |\n",
      "        Average Test Loss: 0.0664 |\n",
      "        Average Test mIoU: 89.21\n",
      "        Average Test Accuracy: 96.68553924560547\n"
     ]
    },
    {
     "name": "stderr",
     "output_type": "stream",
     "text": [
      "Train/Epoch 127/150: 100%|██████████████████████████████████████████████████████████| 104/104 [00:07<00:00, 14.16img/s]\n",
      "Eval/Epoch 127/150: 100%|█████████████████████████████████████████████████████████████| 27/27 [00:03<00:00,  8.26img/s]\n"
     ]
    },
    {
     "name": "stdout",
     "output_type": "stream",
     "text": [
      "\"\n",
      "        Epoch: 127, \n",
      "        Average Train Loss: 0.0491 |\n",
      "        Average Test Loss: 0.0653 |\n",
      "        Average Test mIoU: 89.27\n",
      "        Average Test Accuracy: 96.57516479492188\n"
     ]
    },
    {
     "name": "stderr",
     "output_type": "stream",
     "text": [
      "Train/Epoch 128/150: 100%|██████████████████████████████████████████████████████████| 104/104 [00:07<00:00, 14.13img/s]\n",
      "Eval/Epoch 128/150: 100%|█████████████████████████████████████████████████████████████| 27/27 [00:03<00:00,  8.38img/s]\n"
     ]
    },
    {
     "name": "stdout",
     "output_type": "stream",
     "text": [
      "\"\n",
      "        Epoch: 128, \n",
      "        Average Train Loss: 0.0495 |\n",
      "        Average Test Loss: 0.0651 |\n",
      "        Average Test mIoU: 89.31\n",
      "        Average Test Accuracy: 96.66608428955078\n"
     ]
    },
    {
     "name": "stderr",
     "output_type": "stream",
     "text": [
      "Train/Epoch 129/150: 100%|██████████████████████████████████████████████████████████| 104/104 [00:07<00:00, 14.28img/s]\n",
      "Eval/Epoch 129/150: 100%|█████████████████████████████████████████████████████████████| 27/27 [00:03<00:00,  8.43img/s]\n"
     ]
    },
    {
     "name": "stdout",
     "output_type": "stream",
     "text": [
      "\"\n",
      "        Epoch: 129, \n",
      "        Average Train Loss: 0.0491 |\n",
      "        Average Test Loss: 0.0663 |\n",
      "        Average Test mIoU: 89.08\n",
      "        Average Test Accuracy: 96.79450988769531\n"
     ]
    },
    {
     "name": "stderr",
     "output_type": "stream",
     "text": [
      "Train/Epoch 130/150: 100%|██████████████████████████████████████████████████████████| 104/104 [00:07<00:00, 14.12img/s]\n",
      "Eval/Epoch 130/150: 100%|█████████████████████████████████████████████████████████████| 27/27 [00:03<00:00,  8.34img/s]\n"
     ]
    },
    {
     "name": "stdout",
     "output_type": "stream",
     "text": [
      "\"\n",
      "        Epoch: 130, \n",
      "        Average Train Loss: 0.0524 |\n",
      "        Average Test Loss: 0.0652 |\n",
      "        Average Test mIoU: 89.31\n",
      "        Average Test Accuracy: 96.62284851074219\n"
     ]
    },
    {
     "name": "stderr",
     "output_type": "stream",
     "text": [
      "Train/Epoch 131/150: 100%|██████████████████████████████████████████████████████████| 104/104 [00:07<00:00, 14.16img/s]\n",
      "Eval/Epoch 131/150: 100%|█████████████████████████████████████████████████████████████| 27/27 [00:03<00:00,  8.27img/s]\n"
     ]
    },
    {
     "name": "stdout",
     "output_type": "stream",
     "text": [
      "\"\n",
      "        Epoch: 131, \n",
      "        Average Train Loss: 0.0478 |\n",
      "        Average Test Loss: 0.0652 |\n",
      "        Average Test mIoU: 89.33\n",
      "        Average Test Accuracy: 96.5031967163086\n"
     ]
    },
    {
     "name": "stderr",
     "output_type": "stream",
     "text": [
      "Train/Epoch 132/150: 100%|██████████████████████████████████████████████████████████| 104/104 [00:07<00:00, 14.16img/s]\n",
      "Eval/Epoch 132/150: 100%|█████████████████████████████████████████████████████████████| 27/27 [00:03<00:00,  8.43img/s]\n"
     ]
    },
    {
     "name": "stdout",
     "output_type": "stream",
     "text": [
      "\"\n",
      "        Epoch: 132, \n",
      "        Average Train Loss: 0.0523 |\n",
      "        Average Test Loss: 0.0648 |\n",
      "        Average Test mIoU: 89.54\n",
      "        Average Test Accuracy: 96.80049133300781\n",
      "Checkpoint: ResUNet18_Segmentation_best is saved successfully\n"
     ]
    },
    {
     "name": "stderr",
     "output_type": "stream",
     "text": [
      "Train/Epoch 133/150: 100%|██████████████████████████████████████████████████████████| 104/104 [00:07<00:00, 14.22img/s]\n",
      "Eval/Epoch 133/150: 100%|█████████████████████████████████████████████████████████████| 27/27 [00:03<00:00,  8.38img/s]\n"
     ]
    },
    {
     "name": "stdout",
     "output_type": "stream",
     "text": [
      "\"\n",
      "        Epoch: 133, \n",
      "        Average Train Loss: 0.0481 |\n",
      "        Average Test Loss: 0.0649 |\n",
      "        Average Test mIoU: 89.36\n",
      "        Average Test Accuracy: 96.5147705078125\n"
     ]
    },
    {
     "name": "stderr",
     "output_type": "stream",
     "text": [
      "Train/Epoch 134/150: 100%|██████████████████████████████████████████████████████████| 104/104 [00:07<00:00, 14.13img/s]\n",
      "Eval/Epoch 134/150: 100%|█████████████████████████████████████████████████████████████| 27/27 [00:03<00:00,  8.35img/s]\n"
     ]
    },
    {
     "name": "stdout",
     "output_type": "stream",
     "text": [
      "\"\n",
      "        Epoch: 134, \n",
      "        Average Train Loss: 0.0464 |\n",
      "        Average Test Loss: 0.0649 |\n",
      "        Average Test mIoU: 89.33\n",
      "        Average Test Accuracy: 96.53536987304688\n"
     ]
    },
    {
     "name": "stderr",
     "output_type": "stream",
     "text": [
      "Train/Epoch 135/150: 100%|██████████████████████████████████████████████████████████| 104/104 [00:07<00:00, 14.28img/s]\n",
      "Eval/Epoch 135/150: 100%|█████████████████████████████████████████████████████████████| 27/27 [00:03<00:00,  8.42img/s]\n"
     ]
    },
    {
     "name": "stdout",
     "output_type": "stream",
     "text": [
      "\"\n",
      "        Epoch: 135, \n",
      "        Average Train Loss: 0.0509 |\n",
      "        Average Test Loss: 0.0668 |\n",
      "        Average Test mIoU: 89.22\n",
      "        Average Test Accuracy: 96.55558776855469\n"
     ]
    },
    {
     "name": "stderr",
     "output_type": "stream",
     "text": [
      "Train/Epoch 136/150: 100%|██████████████████████████████████████████████████████████| 104/104 [00:07<00:00, 14.12img/s]\n",
      "Eval/Epoch 136/150: 100%|█████████████████████████████████████████████████████████████| 27/27 [00:03<00:00,  8.30img/s]\n"
     ]
    },
    {
     "name": "stdout",
     "output_type": "stream",
     "text": [
      "\"\n",
      "        Epoch: 136, \n",
      "        Average Train Loss: 0.0525 |\n",
      "        Average Test Loss: 0.0676 |\n",
      "        Average Test mIoU: 89.16\n",
      "        Average Test Accuracy: 96.77455139160156\n"
     ]
    },
    {
     "name": "stderr",
     "output_type": "stream",
     "text": [
      "Train/Epoch 137/150: 100%|██████████████████████████████████████████████████████████| 104/104 [00:07<00:00, 14.15img/s]\n",
      "Eval/Epoch 137/150: 100%|█████████████████████████████████████████████████████████████| 27/27 [00:03<00:00,  8.27img/s]\n"
     ]
    },
    {
     "name": "stdout",
     "output_type": "stream",
     "text": [
      "\"\n",
      "        Epoch: 137, \n",
      "        Average Train Loss: 0.0507 |\n",
      "        Average Test Loss: 0.0670 |\n",
      "        Average Test mIoU: 89.10\n",
      "        Average Test Accuracy: 96.74148559570312\n"
     ]
    },
    {
     "name": "stderr",
     "output_type": "stream",
     "text": [
      "Train/Epoch 138/150: 100%|██████████████████████████████████████████████████████████| 104/104 [00:07<00:00, 14.16img/s]\n",
      "Eval/Epoch 138/150: 100%|█████████████████████████████████████████████████████████████| 27/27 [00:03<00:00,  8.35img/s]\n"
     ]
    },
    {
     "name": "stdout",
     "output_type": "stream",
     "text": [
      "\"\n",
      "        Epoch: 138, \n",
      "        Average Train Loss: 0.0462 |\n",
      "        Average Test Loss: 0.0658 |\n",
      "        Average Test mIoU: 89.39\n",
      "        Average Test Accuracy: 96.74555969238281\n"
     ]
    },
    {
     "name": "stderr",
     "output_type": "stream",
     "text": [
      "Train/Epoch 139/150: 100%|██████████████████████████████████████████████████████████| 104/104 [00:07<00:00, 14.15img/s]\n",
      "Eval/Epoch 139/150: 100%|█████████████████████████████████████████████████████████████| 27/27 [00:03<00:00,  8.47img/s]\n"
     ]
    },
    {
     "name": "stdout",
     "output_type": "stream",
     "text": [
      "\"\n",
      "        Epoch: 139, \n",
      "        Average Train Loss: 0.0493 |\n",
      "        Average Test Loss: 0.0657 |\n",
      "        Average Test mIoU: 89.44\n",
      "        Average Test Accuracy: 96.91238403320312\n"
     ]
    },
    {
     "name": "stderr",
     "output_type": "stream",
     "text": [
      "Train/Epoch 140/150: 100%|██████████████████████████████████████████████████████████| 104/104 [00:07<00:00, 14.28img/s]\n",
      "Eval/Epoch 140/150: 100%|█████████████████████████████████████████████████████████████| 27/27 [00:03<00:00,  8.42img/s]\n"
     ]
    },
    {
     "name": "stdout",
     "output_type": "stream",
     "text": [
      "\"\n",
      "        Epoch: 140, \n",
      "        Average Train Loss: 0.0485 |\n",
      "        Average Test Loss: 0.0645 |\n",
      "        Average Test mIoU: 89.62\n",
      "        Average Test Accuracy: 96.90030670166016\n",
      "Checkpoint: ResUNet18_Segmentation_best is saved successfully\n"
     ]
    },
    {
     "name": "stderr",
     "output_type": "stream",
     "text": [
      "Train/Epoch 141/150: 100%|██████████████████████████████████████████████████████████| 104/104 [00:07<00:00, 14.31img/s]\n",
      "Eval/Epoch 141/150: 100%|█████████████████████████████████████████████████████████████| 27/27 [00:03<00:00,  8.46img/s]\n"
     ]
    },
    {
     "name": "stdout",
     "output_type": "stream",
     "text": [
      "\"\n",
      "        Epoch: 141, \n",
      "        Average Train Loss: 0.0538 |\n",
      "        Average Test Loss: 0.0649 |\n",
      "        Average Test mIoU: 89.59\n",
      "        Average Test Accuracy: 96.87258911132812\n"
     ]
    },
    {
     "name": "stderr",
     "output_type": "stream",
     "text": [
      "Train/Epoch 142/150: 100%|██████████████████████████████████████████████████████████| 104/104 [00:07<00:00, 14.16img/s]\n",
      "Eval/Epoch 142/150: 100%|█████████████████████████████████████████████████████████████| 27/27 [00:03<00:00,  8.42img/s]\n"
     ]
    },
    {
     "name": "stdout",
     "output_type": "stream",
     "text": [
      "\"\n",
      "        Epoch: 142, \n",
      "        Average Train Loss: 0.0468 |\n",
      "        Average Test Loss: 0.0647 |\n",
      "        Average Test mIoU: 89.43\n",
      "        Average Test Accuracy: 96.82490539550781\n"
     ]
    },
    {
     "name": "stderr",
     "output_type": "stream",
     "text": [
      "Train/Epoch 143/150: 100%|██████████████████████████████████████████████████████████| 104/104 [00:07<00:00, 14.21img/s]\n",
      "Eval/Epoch 143/150: 100%|█████████████████████████████████████████████████████████████| 27/27 [00:03<00:00,  8.43img/s]\n"
     ]
    },
    {
     "name": "stdout",
     "output_type": "stream",
     "text": [
      "\"\n",
      "        Epoch: 143, \n",
      "        Average Train Loss: 0.0497 |\n",
      "        Average Test Loss: 0.0658 |\n",
      "        Average Test mIoU: 89.05\n",
      "        Average Test Accuracy: 96.73881530761719\n"
     ]
    },
    {
     "name": "stderr",
     "output_type": "stream",
     "text": [
      "Train/Epoch 144/150: 100%|██████████████████████████████████████████████████████████| 104/104 [00:07<00:00, 14.13img/s]\n",
      "Eval/Epoch 144/150: 100%|█████████████████████████████████████████████████████████████| 27/27 [00:03<00:00,  8.27img/s]\n"
     ]
    },
    {
     "name": "stdout",
     "output_type": "stream",
     "text": [
      "\"\n",
      "        Epoch: 144, \n",
      "        Average Train Loss: 0.0439 |\n",
      "        Average Test Loss: 0.0656 |\n",
      "        Average Test mIoU: 89.24\n",
      "        Average Test Accuracy: 96.62551879882812\n"
     ]
    },
    {
     "name": "stderr",
     "output_type": "stream",
     "text": [
      "Train/Epoch 145/150: 100%|██████████████████████████████████████████████████████████| 104/104 [00:07<00:00, 14.16img/s]\n",
      "Eval/Epoch 145/150: 100%|█████████████████████████████████████████████████████████████| 27/27 [00:06<00:00,  4.07img/s]\n"
     ]
    },
    {
     "name": "stdout",
     "output_type": "stream",
     "text": [
      "\"\n",
      "        Epoch: 145, \n",
      "        Average Train Loss: 0.0477 |\n",
      "        Average Test Loss: 0.0659 |\n",
      "        Average Test mIoU: 89.25\n",
      "        Average Test Accuracy: 96.75013732910156\n"
     ]
    },
    {
     "name": "stderr",
     "output_type": "stream",
     "text": [
      "Train/Epoch 146/150: 100%|██████████████████████████████████████████████████████████| 104/104 [00:07<00:00, 14.16img/s]\n",
      "Eval/Epoch 146/150: 100%|█████████████████████████████████████████████████████████████| 27/27 [00:03<00:00,  8.31img/s]\n"
     ]
    },
    {
     "name": "stdout",
     "output_type": "stream",
     "text": [
      "\"\n",
      "        Epoch: 146, \n",
      "        Average Train Loss: 0.0520 |\n",
      "        Average Test Loss: 0.0666 |\n",
      "        Average Test mIoU: 89.01\n",
      "        Average Test Accuracy: 96.48284912109375\n"
     ]
    },
    {
     "name": "stderr",
     "output_type": "stream",
     "text": [
      "Train/Epoch 147/150: 100%|██████████████████████████████████████████████████████████| 104/104 [00:07<00:00, 14.10img/s]\n",
      "Eval/Epoch 147/150: 100%|█████████████████████████████████████████████████████████████| 27/27 [00:03<00:00,  8.43img/s]\n"
     ]
    },
    {
     "name": "stdout",
     "output_type": "stream",
     "text": [
      "\"\n",
      "        Epoch: 147, \n",
      "        Average Train Loss: 0.0454 |\n",
      "        Average Test Loss: 0.0652 |\n",
      "        Average Test mIoU: 89.25\n",
      "        Average Test Accuracy: 96.72050476074219\n"
     ]
    },
    {
     "name": "stderr",
     "output_type": "stream",
     "text": [
      "Train/Epoch 148/150: 100%|██████████████████████████████████████████████████████████| 104/104 [00:07<00:00, 14.25img/s]\n",
      "Eval/Epoch 148/150: 100%|█████████████████████████████████████████████████████████████| 27/27 [00:03<00:00,  8.39img/s]\n"
     ]
    },
    {
     "name": "stdout",
     "output_type": "stream",
     "text": [
      "\"\n",
      "        Epoch: 148, \n",
      "        Average Train Loss: 0.0514 |\n",
      "        Average Test Loss: 0.0653 |\n",
      "        Average Test mIoU: 89.29\n",
      "        Average Test Accuracy: 96.88695526123047\n"
     ]
    },
    {
     "name": "stderr",
     "output_type": "stream",
     "text": [
      "Train/Epoch 149/150: 100%|██████████████████████████████████████████████████████████| 104/104 [00:07<00:00, 14.13img/s]\n",
      "Eval/Epoch 149/150: 100%|█████████████████████████████████████████████████████████████| 27/27 [00:03<00:00,  8.34img/s]\n"
     ]
    },
    {
     "name": "stdout",
     "output_type": "stream",
     "text": [
      "\"\n",
      "        Epoch: 149, \n",
      "        Average Train Loss: 0.0449 |\n",
      "        Average Test Loss: 0.0652 |\n",
      "        Average Test mIoU: 89.34\n",
      "        Average Test Accuracy: 96.92828369140625\n"
     ]
    },
    {
     "name": "stderr",
     "output_type": "stream",
     "text": [
      "Train/Epoch 150/150: 100%|██████████████████████████████████████████████████████████| 104/104 [00:07<00:00, 14.13img/s]\n",
      "Eval/Epoch 150/150: 100%|█████████████████████████████████████████████████████████████| 27/27 [00:03<00:00,  8.30img/s]\n"
     ]
    },
    {
     "name": "stdout",
     "output_type": "stream",
     "text": [
      "\"\n",
      "        Epoch: 150, \n",
      "        Average Train Loss: 0.0488 |\n",
      "        Average Test Loss: 0.0659 |\n",
      "        Average Test mIoU: 89.18\n",
      "        Average Test Accuracy: 96.722412109375\n"
     ]
    }
   ],
   "source": [
    "model2_train_start()"
   ]
  },
  {
   "cell_type": "markdown",
   "id": "9755bb0d-4513-4e1f-9172-05b96ff6e060",
   "metadata": {},
   "source": [
    "# Result"
   ]
  },
  {
   "cell_type": "markdown",
   "id": "c96dbc66-e826-465f-8416-3021b83aa8d6",
   "metadata": {},
   "source": [
    "## Print Result Comparison"
   ]
  },
  {
   "cell_type": "code",
   "execution_count": 34,
   "id": "27025831-ba3e-4a75-83bd-452e5ac26757",
   "metadata": {},
   "outputs": [
    {
     "name": "stdout",
     "output_type": "stream",
     "text": [
      "\n",
      "    Best of ResUNet18 Model1 (Weight Copy):\n",
      "        - Epoch Number: 146\n",
      "        - Evaluation Loss: 0.06116015650331974\n",
      "        - Evaluation mIoU: 89.24776458740234\n",
      "        - Evaluation Accuracy: 97.14190673828125\n",
      "        \n",
      "    Best of ResUNet18 Model2 (Knowledge Distillation):\n",
      "        - Epoch Number: 140\n",
      "        - Evaluation Loss: 0.06450417265295982\n",
      "        - Evaluation mIoU: 89.61781883239746\n",
      "        - Evaluation Accuracy: 96.90030670166016\n",
      "     \n"
     ]
    }
   ],
   "source": [
    "print(\n",
    "    f\"\"\"\n",
    "    Best of ResUNet18 Model1 (Weight Copy):\n",
    "        - Epoch Number: {best_model1['best_epoch']}\n",
    "        - Evaluation Loss: {best_model1['best_eval_loss']}\n",
    "        - Evaluation mIoU: {best_model1['best_eval_miou']}\n",
    "        - Evaluation Accuracy: {best_model1['best_eval_acc']}\n",
    "        \n",
    "    Best of ResUNet18 Model2 (Knowledge Distillation):\n",
    "        - Epoch Number: {best_model2['best_epoch']}\n",
    "        - Evaluation Loss: {best_model2['best_eval_loss']}\n",
    "        - Evaluation mIoU: {best_model2['best_eval_miou']}\n",
    "        - Evaluation Accuracy: {best_model2['best_eval_acc']}\n",
    "     \"\"\"\n",
    ")"
   ]
  },
  {
   "cell_type": "markdown",
   "id": "a3c0969a-58c7-44f9-a117-43b91e030521",
   "metadata": {},
   "source": [
    "## Plot Comparisons"
   ]
  },
  {
   "cell_type": "code",
   "execution_count": 35,
   "id": "1f2bd5f0-8a21-4637-8eb0-4e9f73fd567b",
   "metadata": {
    "tags": []
   },
   "outputs": [
    {
     "name": "stderr",
     "output_type": "stream",
     "text": [
      "Clipping input data to the valid range for imshow with RGB data ([0..1] for floats or [0..255] for integers).\n"
     ]
    },
    {
     "data": {
      "image/png": "[encoded data removed]",
      "text/plain": [
       "<Figure size 1200x1200 with 3 Axes>"
      ]
     },
     "metadata": {},
     "output_type": "display_data"
    }
   ],
   "source": [
    "# Model-1\n",
    "\n",
    "plot_segmentation(\n",
    "    model=model1, \n",
    "    dataset=test_dataset, \n",
    "    color_mapping=color_mapping, \n",
    "    save_fig=True, \n",
    "    #save_root_dir='../generated_examples/', \n",
    "    save_root_dir = hyperparameters['output_dir']['results'],\n",
    "    save_filename='model1_seg_fig', \n",
    "    save_format='png', \n",
    "    close_img=False\n",
    ")"
   ]
  },
  {
   "cell_type": "code",
   "execution_count": 36,
   "id": "f6c4c46d-97b8-4eb0-94dd-4188301a7c00",
   "metadata": {},
   "outputs": [
    {
     "name": "stderr",
     "output_type": "stream",
     "text": [
      "Clipping input data to the valid range for imshow with RGB data ([0..1] for floats or [0..255] for integers).\n"
     ]
    },
    {
     "data": {
      "image/png": "[encoded data removed]",
      "text/plain": [
       "<Figure size 1200x1200 with 3 Axes>"
      ]
     },
     "metadata": {},
     "output_type": "display_data"
    }
   ],
   "source": [
    "# Model-2\n",
    "\n",
    "plot_segmentation(\n",
    "    model=model2, \n",
    "    dataset=test_dataset, \n",
    "    color_mapping=color_mapping, \n",
    "    save_fig=True, \n",
    "    #save_root_dir='../generated_examples/', \n",
    "    save_root_dir = hyperparameters['output_dir']['results'],\n",
    "    save_filename='model2_seg_fig', \n",
    "    save_format='png', \n",
    "    close_img=False\n",
    ")"
   ]
  },
  {
   "cell_type": "markdown",
   "id": "fe0c565b-6265-4ad3-81a0-1203c1051cee",
   "metadata": {},
   "source": [
    "## Save Predictions"
   ]
  },
  {
   "cell_type": "code",
   "execution_count": 37,
   "id": "51418ee7-a95e-4af0-81a8-f23407263dad",
   "metadata": {},
   "outputs": [],
   "source": [
    "# Model1 Saving\n",
    "save_pred_masks(\n",
    "    model=model1,\n",
    "    transform=test_transforms,\n",
    "    save_folder=hyperparameters['output_dir']['model1'],\n",
    "    input_folder='./images/test',\n",
    "    color_mapping=color_mapping,\n",
    "    hyperparameters=hyperparameters,\n",
    ")\n",
    "\n",
    "save_pred_masks(\n",
    "    model=model1,\n",
    "    transform=test_transforms,\n",
    "    save_folder=hyperparameters['output_dir']['model1'],\n",
    "    input_folder='./images/train',\n",
    "    color_mapping=color_mapping,\n",
    "    hyperparameters=hyperparameters,\n",
    ")"
   ]
  },
  {
   "cell_type": "code",
   "execution_count": 38,
   "id": "9f3a3d14-d169-41bf-8a9b-83883e86e0fc",
   "metadata": {},
   "outputs": [],
   "source": [
    "# Model2 Saving\n",
    "save_pred_masks(\n",
    "    model=model2,\n",
    "    transform=test_transforms,\n",
    "    save_folder=hyperparameters['output_dir']['model2'],\n",
    "    input_folder='./images/test',\n",
    "    color_mapping=color_mapping,\n",
    "    hyperparameters=hyperparameters,\n",
    ")\n",
    "\n",
    "save_pred_masks(\n",
    "    model=model2,\n",
    "    transform=test_transforms,\n",
    "    save_folder=hyperparameters['output_dir']['model2'],\n",
    "    input_folder='./images/train',\n",
    "    color_mapping=color_mapping,\n",
    "    hyperparameters=hyperparameters,\n",
    ")"
   ]
  },
  {
   "cell_type": "markdown",
   "id": "bf9503e0-0842-4842-869c-916bb9109dbf",
   "metadata": {},
   "source": [
    "## History Graphs"
   ]
  },
  {
   "cell_type": "code",
   "execution_count": 39,
   "id": "eccc61cf-b676-41dc-bc57-62421eeb4d15",
   "metadata": {},
   "outputs": [
    {
     "data": {
      "image/png": "[encoded data removed]",
      "text/plain": [
       "<Figure size 1500x600 with 1 Axes>"
      ]
     },
     "metadata": {},
     "output_type": "display_data"
    }
   ],
   "source": [
    "epoch_range = np.arange(1, hyperparameters['epochs']+1, 1, dtype=int)\n",
    "\n",
    "plt.figure(figsize = (15,6))\n",
    "plt.title(f\"Loss\")\n",
    "plt.plot(epoch_range, history['model1']['eval_loss'], label=\"Model1-Evaluation Loss\")\n",
    "plt.plot(epoch_range, history['model2']['eval_loss'], label=\"Model2-Evaluation Loss\")\n",
    "plt.xlabel(\"Epochs\")\n",
    "plt.ylabel(\"Loss\")\n",
    "plt.legend();\n",
    "loss_dir = os.path.join(hyperparameters['output_dir']['results'], 'loss_graph.png')\n",
    "plt.savefig(loss_dir, format='png', bbox_inches='tight')"
   ]
  },
  {
   "cell_type": "code",
   "execution_count": 40,
   "id": "ebeb6b23-88e6-4fe1-aec5-538ccfa093a2",
   "metadata": {},
   "outputs": [
    {
     "data": {
      "image/png": "[encoded data removed]",
      "text/plain": [
       "<Figure size 1500x600 with 1 Axes>"
      ]
     },
     "metadata": {},
     "output_type": "display_data"
    }
   ],
   "source": [
    "plt.figure(figsize = (15,6))\n",
    "plt.title(f\"Eval mIoU\")\n",
    "plt.plot(epoch_range, history['model1']['eval_miou'], label=\"model1 mIoU\")\n",
    "plt.plot(epoch_range, history['model2']['eval_miou'], label=\"model2 mIoU\")\n",
    "plt.xlabel(\"Epochs\")\n",
    "plt.ylabel(\"mIoU\")\n",
    "plt.legend();\n",
    "miou_dir = os.path.join(hyperparameters['output_dir']['results'], 'miou_graph.png')\n",
    "plt.savefig(miou_dir, format='png', bbox_inches='tight')"
   ]
  },
  {
   "cell_type": "code",
   "execution_count": 41,
   "id": "a9a8960f-0a79-4613-a206-37f379b52d9e",
   "metadata": {
    "tags": []
   },
   "outputs": [
    {
     "data": {
      "image/png": "[encoded data removed]",
      "text/plain": [
       "<Figure size 1500x600 with 1 Axes>"
      ]
     },
     "metadata": {},
     "output_type": "display_data"
    }
   ],
   "source": [
    "acc_tensor1 = torch.tensor(history['model1']['eval_acc'])\n",
    "acc_tensor1 = acc_tensor1.to('cpu')\n",
    "acc_list1 = acc_tensor1.tolist()\n",
    "\n",
    "acc_tensor2 = torch.tensor(history['model2']['eval_acc'])\n",
    "acc_tensor2 = acc_tensor2.to('cpu')\n",
    "acc_list2 = acc_tensor2.tolist()\n",
    "\n",
    "plt.figure(figsize = (15,6))\n",
    "plt.title(f\"Eval Accuracy\")\n",
    "plt.plot(epoch_range, acc_list1, label=\"Model1-Eval Acc\")\n",
    "plt.plot(epoch_range, acc_list2, label=\"Model2-Eval Acc\")\n",
    "plt.xlabel(\"Epochs\")\n",
    "plt.ylabel(\"Accuracy\")\n",
    "plt.legend();\n",
    "acc_dir = os.path.join(hyperparameters['output_dir']['results'], 'accuracy_graph.png')\n",
    "plt.savefig(acc_dir, format='png', bbox_inches='tight')"
   ]
  }
 ],
 "metadata": {
  "kernelspec": {
   "display_name": "Python 3 (ipykernel)",
   "language": "python",
   "name": "python3"
  },
  "language_info": {
   "codemirror_mode": {
    "name": "ipython",
    "version": 3
   },
   "file_extension": ".py",
   "mimetype": "text/x-python",
   "name": "python",
   "nbconvert_exporter": "python",
   "pygments_lexer": "ipython3",
   "version": "3.9.18"
  },
  "toc-autonumbering": true,
  "toc-showcode": false,
  "toc-showmarkdowntxt": false
 },
 "nbformat": 4,
 "nbformat_minor": 5
}
