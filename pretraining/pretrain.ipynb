{
 "cells": [
  {
   "cell_type": "code",
   "execution_count": 1,
   "id": "e0650f20-d30b-4417-9d13-03c45903a0c4",
   "metadata": {},
   "outputs": [
    {
     "name": "stdout",
     "output_type": "stream",
     "text": [
      "USING DEVICE: cuda\n"
     ]
    },
    {
     "name": "stderr",
     "output_type": "stream",
     "text": [
      "C:\\Users\\user\\.conda\\envs\\pytorch\\lib\\site-packages\\tqdm\\auto.py:21: TqdmWarning: IProgress not found. Please update jupyter and ipywidgets. See https://ipywidgets.readthedocs.io/en/stable/user_install.html\n",
      "  from .autonotebook import tqdm as notebook_tqdm\n"
     ]
    }
   ],
   "source": [
    "import torch\n",
    "import torch.nn as nn\n",
    "import torch.nn.functional as F\n",
    "from torchvision import transforms\n",
    "from torch.utils.data import random_split\n",
    "    \n",
    "import torchvision.transforms.functional as tF\n",
    "\n",
    "from dataset.dataset import seg_datasets\n",
    "\n",
    "from utils.dataloader_utils import get_loader\n",
    "from utils.save_load_utils import save_model, load_model\n",
    "from utils.evaluation_utils import calculate_miou, check_acc\n",
    "from utils.visualization_utils import save_pred_masks, visualize_segmentation, plot_segmentation\n",
    "                                                                     \n",
    "import albumentations as A\n",
    "\n",
    "import os\n",
    "import time\n",
    "import random\n",
    "import numpy as np\n",
    "from tqdm import tqdm\n",
    "from PIL import Image, ImageOps\n",
    "\n",
    "device = 'cuda' if torch.cuda.is_available() else 'cpu'\n",
    "print(f'USING DEVICE: {device}')\n",
    "\n",
    "hyperparameters = {\n",
    "    'test_dir' : './images/test',\n",
    "    'train_dir' : './images/train',\n",
    "    'seed' : 9999,\n",
    "    'dataloader' :{\n",
    "        'batch_size' : 8,\n",
    "        'num_workers' : 4,\n",
    "        'pin_memory' : False, \n",
    "    },\n",
    "    'optimizer' :{\n",
    "        'lr' : 1e-3,\n",
    "        'betas' : (0.9, 0.999),\n",
    "        'weight_decay' : 1e-4,\n",
    "    },\n",
    "    'epochs' : 150,\n",
    "    'training_size' : 0,\n",
    "    'test_size': 0,\n",
    "    'gradient_clipping' : 1.0,\n",
    "    'unet': {\n",
    "        'in_channels': 3,\n",
    "        'out_channels': 1,\n",
    "        'features': 64,\n",
    "        'height': 320,\n",
    "        'width': 320,\n",
    "        'pretrained_name': '',\n",
    "    }, \n",
    "    'checkpoints_dir':'./checkpoints/pretrained/'\n",
    "}\n",
    "\n",
    "def seed_everything(seed):\n",
    "    random.seed(seed)\n",
    "    os.environ['PYTHONHASHSEED'] = str(seed)\n",
    "    np.random.seed(seed)\n",
    "    torch.manual_seed(seed)\n",
    "    torch.cuda.manual_seed(seed)\n",
    "    torch.backends.cudnn.deterministic = True\n",
    "    torch.backends.cudnn.benchmark = False\n",
    "\n",
    "seed_everything(hyperparameters['seed'])\n",
    "\n",
    "\n",
    "train_transforms = A.Compose([\n",
    "    A.HorizontalFlip(p=0.5),\n",
    "    A.VerticalFlip(p=0.5),\n",
    "    A.Rotate(p=0.5),\n",
    "    A.Normalize(mean=[0.485, 0.456, 0.406], std=[0.229, 0.224, 0.225]),\n",
    "    A.Resize(512, 512),\n",
    "])\n",
    "\n",
    "test_transforms = A.Compose([\n",
    "    A.Normalize(mean=[0.485, 0.456, 0.406], std=[0.229, 0.224, 0.225]),\n",
    "    A.Resize(512, 512),\n",
    "])\n",
    "\n",
    "train_dataloader, test_dataloader = get_loader(\n",
    "    train_dir = hyperparameters['train_dir'],\n",
    "    test_dir = hyperparameters['test_dir'],\n",
    "    batch_size = hyperparameters['dataloader']['batch_size'],\n",
    "    train_transform = train_transforms,\n",
    "    test_transform = test_transforms,\n",
    "    num_workers = hyperparameters['dataloader']['num_workers'],\n",
    "    pin_memory = hyperparameters['dataloader']['pin_memory']\n",
    ")\n",
    "\n",
    "from backbones_unet.model.unet import Unet\n",
    "\n",
    "model = Unet(\n",
    "    backbone='convnext_base', # backbone network name\n",
    "    in_channels=3,            # input channels (1 for gray-scale images, 3 for RGB, etc.)\n",
    "    num_classes=1,            # output channels (number of classes in your dataset)\n",
    ")\n",
    "\n",
    "model.to(device)\n",
    "\n",
    "criterion = nn.MSELoss(reduction='none')\n"
   ]
  },
  {
   "cell_type": "code",
   "execution_count": 2,
   "id": "0ac51d7c-a3e8-4803-a831-23a7ea9d622e",
   "metadata": {},
   "outputs": [],
   "source": [
    "color_mapping = {\n",
    "    0: (0, 0, 0),         # Walls\n",
    "    1: (255, 80, 80),     # Iwan\n",
    "    2: (80, 80, 255),     # Room\n",
    "    3: (255, 255, 80),\n",
    "    4: (255, 255, 255),   # Background\n",
    "}"
   ]
  },
  {
   "cell_type": "code",
   "execution_count": 3,
   "id": "069eed24-a3f9-41a0-96e1-6f3ddd1589da",
   "metadata": {},
   "outputs": [],
   "source": [
    "def loss_fn(img_input, pred_student, mask, alpha=0.01):\n",
    "    \n",
    "    loss_by_pixel = criterion(pred_student, mask)\n",
    "    loss = loss_by_pixel.mean()\n",
    "    \n",
    "    return loss\n",
    "\n",
    "learning_rate = hyperparameters['optimizer']['lr']\n",
    "betas = hyperparameters['optimizer']['betas']\n",
    "\n",
    "optimizer = torch.optim.Adam(\n",
    "    model.parameters(),\n",
    "    lr = learning_rate,\n",
    "    betas = betas, \n",
    ")"
   ]
  },
  {
   "cell_type": "code",
   "execution_count": 4,
   "id": "11ca04e6-7020-4514-aeae-0942d00f67d3",
   "metadata": {},
   "outputs": [],
   "source": [
    "def train_fn(\n",
    "    epoch,\n",
    "    model,\n",
    "    dataloader, \n",
    "    optimizer, \n",
    "    criterion, \n",
    "    device,\n",
    "    gradient_clipping,\n",
    "):\n",
    "    \n",
    "    model.train()\n",
    "    \n",
    "    compute_avg = lambda x: sum(x) / len(x)\n",
    "    total_batches = len(dataloader)\n",
    "    write_interval = total_batches // 4\n",
    "    \n",
    "    avg_loss = []\n",
    "    epochs = hyperparameters['epochs']\n",
    "    \n",
    "    with tqdm(total=hyperparameters['training_size'], desc=f'Train/Epoch {epoch}/{epochs}', unit='img') as pbar:\n",
    "        for idx, (img, mask) in enumerate(dataloader):\n",
    "            img = img.to(device)\n",
    "            mask = mask.to(device)\n",
    "\n",
    "            optimizer.zero_grad()\n",
    "\n",
    "            pred_mask = model(img)\n",
    "\n",
    "            loss = criterion(img_input=img, \n",
    "                              pred_student=pred_mask, \n",
    "                              mask=mask)\n",
    "\n",
    "            loss.backward()\n",
    "            torch.nn.utils.clip_grad_norm_(model.parameters(), gradient_clipping)\n",
    "            optimizer.step()\n",
    "\n",
    "            # Record Results\n",
    "            avg_loss.append(loss.item())\n",
    "            \n",
    "            pbar.update(img.shape[0])\n",
    "        \n",
    "    return compute_avg(avg_loss) \n"
   ]
  },
  {
   "cell_type": "code",
   "execution_count": 5,
   "id": "e615c76e-7a20-4472-9864-251a3f75e34b",
   "metadata": {},
   "outputs": [],
   "source": [
    "@torch.no_grad()\n",
    "def eval_fn(\n",
    "    epoch,\n",
    "    model, \n",
    "    dataloader, \n",
    "    criterion, \n",
    "    device,\n",
    "    color_mapping,\n",
    "):\n",
    "    model.eval()\n",
    "    \n",
    "    # Average Loss and mIoU\n",
    "    avg_loss = []\n",
    "    avg_mIoU = []\n",
    "    \n",
    "    #Accuracy\n",
    "    total_correct = 0\n",
    "    total_pixel = 0\n",
    "\n",
    "    compute_avg = lambda x: sum(x) / len(x)\n",
    "    total_batches = len(dataloader)\n",
    "    write_interval = total_batches // 4\n",
    "    \n",
    "    epochs = hyperparameters['epochs']\n",
    "    \n",
    "    with tqdm(total=hyperparameters['test_size'], desc=f'Eval/Epoch {epoch}/{epochs}', unit='img') as pbar:\n",
    "        for idx, (img, mask) in enumerate(dataloader):\n",
    "            img = img.to(device)\n",
    "            mask = mask.to(device)\n",
    "\n",
    "            #Accuracy\n",
    "            num_correct, num_pixel = check_acc(img, mask, model, device)\n",
    "            total_correct += num_correct\n",
    "            total_pixel += num_pixel\n",
    "\n",
    "            pred_mask = model(img)\n",
    "            loss = criterion(img_input=img, \n",
    "                              pred_student=pred_mask, \n",
    "                              mask=mask)\n",
    "\n",
    "            # mIoU\n",
    "            miou = calculate_miou(pred_mask, mask, color_mapping)\n",
    "\n",
    "            avg_loss.append(loss.item())\n",
    "            avg_mIoU.append(miou.item())\n",
    "            \n",
    "            pbar.update(img.shape[0])\n",
    "\n",
    "    acc = 100*(num_correct/num_pixel)\n",
    "    return compute_avg(avg_loss), compute_avg(avg_mIoU), acc"
   ]
  },
  {
   "cell_type": "code",
   "execution_count": 6,
   "id": "d84cbee9-ff61-435f-a6b4-0b645c4ee094",
   "metadata": {},
   "outputs": [],
   "source": [
    "best_model = {\n",
    "    'best_state_dict' : None,\n",
    "    'best_epoch' : None,\n",
    "    'best_eval_loss' : None,\n",
    "    'best_eval_miou' : 0.0,\n",
    "    'best_eval_acc' : None,\n",
    "}\n",
    "\n",
    "def model_train_start():\n",
    "    model.to(device)\n",
    "    \n",
    "    for epoch in range(1, hyperparameters['epochs']+1):  \n",
    "        \n",
    "        train_loss = train_fn(\n",
    "            epoch = epoch,\n",
    "            model = model,\n",
    "            dataloader = train_dataloader, \n",
    "            optimizer = optimizer, \n",
    "            criterion = loss_fn, \n",
    "            device = device,\n",
    "            gradient_clipping = hyperparameters['gradient_clipping'],\n",
    "        )\n",
    "        \n",
    "        eval_loss, eval_miou, eval_acc = eval_fn(\n",
    "            epoch = epoch,\n",
    "            model = model, \n",
    "            dataloader = test_dataloader, \n",
    "            criterion = loss_fn, \n",
    "            device = device,\n",
    "            color_mapping = color_mapping,\n",
    "        )\n",
    "\n",
    "        print(f\"\"\"\"\n",
    "        Epoch: {epoch}, \n",
    "        Average Train Loss: {train_loss:.4f} \n",
    "        Average Test Loss: {eval_loss:.4f} \n",
    "        Average Test mIoU: {eval_miou:.2f}\n",
    "        Average Test Accuracy: {eval_acc} %\"\"\")\n",
    "        \n",
    "        if eval_miou > best_model['best_eval_miou']:\n",
    "            best_model['best_state_dict'] = model.state_dict().copy()\n",
    "            best_model['best_epoch'] = epoch\n",
    "            best_model['best_eval_loss'] = eval_loss\n",
    "            best_model['best_eval_miou'] = eval_miou\n",
    "            best_model['best_eval_acc'] = eval_acc\n",
    "            \n",
    "            save_model(\n",
    "                model=model, \n",
    "                optimizer=optimizer, \n",
    "                root_folder=hyperparameters['checkpoints_dir'], \n",
    "                file_name='pretrained_best', \n",
    "                hyperparameter_dict=hyperparameters, \n",
    "                best_model=best_model, \n",
    "                last_epoch=epoch, \n",
    "                verbose=True)"
   ]
  },
  {
   "cell_type": "code",
   "execution_count": 7,
   "id": "411a0537-9e24-45a6-aaaf-1c44ccb05503",
   "metadata": {
    "scrolled": true
   },
   "outputs": [
    {
     "name": "stderr",
     "output_type": "stream",
     "text": [
      "Train/Epoch 1/150: 104img [00:10, 10.21img/s]\n",
      "Eval/Epoch 1/150: 27img [00:02,  9.43img/s]\n"
     ]
    },
    {
     "name": "stdout",
     "output_type": "stream",
     "text": [
      "\"\n",
      "        Epoch: 1, \n",
      "        Average Train Loss: 7.2422 \n",
      "        Average Test Loss: 9.1115 \n",
      "        Average Test mIoU: 2.59\n",
      "        Average Test Accuracy: 4.53338623046875 %\n",
      "Checkpoint: pretrained_best is saved successfully\n"
     ]
    },
    {
     "name": "stderr",
     "output_type": "stream",
     "text": [
      "Train/Epoch 2/150: 104img [00:08, 12.67img/s]\n",
      "Eval/Epoch 2/150: 27img [00:02,  9.40img/s]\n"
     ]
    },
    {
     "name": "stdout",
     "output_type": "stream",
     "text": [
      "\"\n",
      "        Epoch: 2, \n",
      "        Average Train Loss: 4.3543 \n",
      "        Average Test Loss: 3.3611 \n",
      "        Average Test mIoU: 0.61\n",
      "        Average Test Accuracy: 1.1567434072494507 %\n"
     ]
    },
    {
     "name": "stderr",
     "output_type": "stream",
     "text": [
      "Train/Epoch 3/150: 104img [00:08, 12.76img/s]\n",
      "Eval/Epoch 3/150: 27img [00:02,  9.40img/s]\n"
     ]
    },
    {
     "name": "stdout",
     "output_type": "stream",
     "text": [
      "\"\n",
      "        Epoch: 3, \n",
      "        Average Train Loss: 3.1162 \n",
      "        Average Test Loss: 2.1835 \n",
      "        Average Test mIoU: 1.18\n",
      "        Average Test Accuracy: 1.657867431640625 %\n"
     ]
    },
    {
     "name": "stderr",
     "output_type": "stream",
     "text": [
      "Train/Epoch 4/150: 104img [00:08, 12.75img/s]\n",
      "Eval/Epoch 4/150: 27img [00:02,  9.46img/s]\n"
     ]
    },
    {
     "name": "stdout",
     "output_type": "stream",
     "text": [
      "\"\n",
      "        Epoch: 4, \n",
      "        Average Train Loss: 2.4550 \n",
      "        Average Test Loss: 2.0444 \n",
      "        Average Test mIoU: 0.72\n",
      "        Average Test Accuracy: 1.5421550273895264 %\n"
     ]
    },
    {
     "name": "stderr",
     "output_type": "stream",
     "text": [
      "Train/Epoch 5/150: 104img [00:08, 12.77img/s]\n",
      "Eval/Epoch 5/150: 27img [00:02,  9.44img/s]\n"
     ]
    },
    {
     "name": "stdout",
     "output_type": "stream",
     "text": [
      "\"\n",
      "        Epoch: 5, \n",
      "        Average Train Loss: 1.9462 \n",
      "        Average Test Loss: 1.5649 \n",
      "        Average Test mIoU: 11.91\n",
      "        Average Test Accuracy: 25.603103637695312 %\n",
      "Checkpoint: pretrained_best is saved successfully\n"
     ]
    },
    {
     "name": "stderr",
     "output_type": "stream",
     "text": [
      "Train/Epoch 6/150: 104img [00:08, 12.76img/s]\n",
      "Eval/Epoch 6/150: 27img [00:02,  9.47img/s]\n"
     ]
    },
    {
     "name": "stdout",
     "output_type": "stream",
     "text": [
      "\"\n",
      "        Epoch: 6, \n",
      "        Average Train Loss: 1.5756 \n",
      "        Average Test Loss: 1.1220 \n",
      "        Average Test mIoU: 7.77\n",
      "        Average Test Accuracy: 11.449305534362793 %\n"
     ]
    },
    {
     "name": "stderr",
     "output_type": "stream",
     "text": [
      "Train/Epoch 7/150: 104img [00:08, 12.76img/s]\n",
      "Eval/Epoch 7/150: 27img [00:02,  9.46img/s]\n"
     ]
    },
    {
     "name": "stdout",
     "output_type": "stream",
     "text": [
      "\"\n",
      "        Epoch: 7, \n",
      "        Average Train Loss: 1.2957 \n",
      "        Average Test Loss: 0.9770 \n",
      "        Average Test mIoU: 6.51\n",
      "        Average Test Accuracy: 9.072622299194336 %\n"
     ]
    },
    {
     "name": "stderr",
     "output_type": "stream",
     "text": [
      "Train/Epoch 8/150: 104img [00:08, 12.69img/s]\n",
      "Eval/Epoch 8/150: 27img [00:02,  9.54img/s]\n"
     ]
    },
    {
     "name": "stdout",
     "output_type": "stream",
     "text": [
      "\"\n",
      "        Epoch: 8, \n",
      "        Average Train Loss: 1.0650 \n",
      "        Average Test Loss: 1.1944 \n",
      "        Average Test mIoU: 2.66\n",
      "        Average Test Accuracy: 6.429418087005615 %\n"
     ]
    },
    {
     "name": "stderr",
     "output_type": "stream",
     "text": [
      "Train/Epoch 9/150: 104img [00:08, 12.67img/s]\n",
      "Eval/Epoch 9/150: 27img [00:02,  9.29img/s]\n"
     ]
    },
    {
     "name": "stdout",
     "output_type": "stream",
     "text": [
      "\"\n",
      "        Epoch: 9, \n",
      "        Average Train Loss: 0.8091 \n",
      "        Average Test Loss: 0.5729 \n",
      "        Average Test mIoU: 21.87\n",
      "        Average Test Accuracy: 35.184226989746094 %\n",
      "Checkpoint: pretrained_best is saved successfully\n"
     ]
    },
    {
     "name": "stderr",
     "output_type": "stream",
     "text": [
      "Train/Epoch 10/150: 104img [00:08, 12.71img/s]\n",
      "Eval/Epoch 10/150: 27img [00:02,  9.46img/s]\n"
     ]
    },
    {
     "name": "stdout",
     "output_type": "stream",
     "text": [
      "\"\n",
      "        Epoch: 10, \n",
      "        Average Train Loss: 0.6433 \n",
      "        Average Test Loss: 0.5617 \n",
      "        Average Test mIoU: 13.91\n",
      "        Average Test Accuracy: 18.185680389404297 %\n"
     ]
    },
    {
     "name": "stderr",
     "output_type": "stream",
     "text": [
      "Train/Epoch 11/150: 104img [00:08, 12.83img/s]\n",
      "Eval/Epoch 11/150: 27img [00:02,  9.37img/s]\n"
     ]
    },
    {
     "name": "stdout",
     "output_type": "stream",
     "text": [
      "\"\n",
      "        Epoch: 11, \n",
      "        Average Train Loss: 0.4742 \n",
      "        Average Test Loss: 0.2854 \n",
      "        Average Test mIoU: 56.98\n",
      "        Average Test Accuracy: 76.8431396484375 %\n",
      "Checkpoint: pretrained_best is saved successfully\n"
     ]
    },
    {
     "name": "stderr",
     "output_type": "stream",
     "text": [
      "Train/Epoch 12/150: 104img [00:08, 12.68img/s]\n",
      "Eval/Epoch 12/150: 27img [00:02,  9.43img/s]\n"
     ]
    },
    {
     "name": "stdout",
     "output_type": "stream",
     "text": [
      "\"\n",
      "        Epoch: 12, \n",
      "        Average Train Loss: 0.3674 \n",
      "        Average Test Loss: 0.2502 \n",
      "        Average Test mIoU: 57.72\n",
      "        Average Test Accuracy: 71.89153289794922 %\n",
      "Checkpoint: pretrained_best is saved successfully\n"
     ]
    },
    {
     "name": "stderr",
     "output_type": "stream",
     "text": [
      "Train/Epoch 13/150: 104img [00:08, 12.75img/s]\n",
      "Eval/Epoch 13/150: 27img [00:02,  9.37img/s]\n"
     ]
    },
    {
     "name": "stdout",
     "output_type": "stream",
     "text": [
      "\"\n",
      "        Epoch: 13, \n",
      "        Average Train Loss: 0.2777 \n",
      "        Average Test Loss: 0.1674 \n",
      "        Average Test mIoU: 67.07\n",
      "        Average Test Accuracy: 89.6203384399414 %\n",
      "Checkpoint: pretrained_best is saved successfully\n"
     ]
    },
    {
     "name": "stderr",
     "output_type": "stream",
     "text": [
      "Train/Epoch 14/150: 104img [00:08, 12.73img/s]\n",
      "Eval/Epoch 14/150: 27img [00:02,  9.37img/s]\n"
     ]
    },
    {
     "name": "stdout",
     "output_type": "stream",
     "text": [
      "\"\n",
      "        Epoch: 14, \n",
      "        Average Train Loss: 0.2731 \n",
      "        Average Test Loss: 0.2912 \n",
      "        Average Test mIoU: 58.46\n",
      "        Average Test Accuracy: 74.73323059082031 %\n"
     ]
    },
    {
     "name": "stderr",
     "output_type": "stream",
     "text": [
      "Train/Epoch 15/150: 104img [00:08, 12.90img/s]\n",
      "Eval/Epoch 15/150: 27img [00:02,  9.43img/s]\n"
     ]
    },
    {
     "name": "stdout",
     "output_type": "stream",
     "text": [
      "\"\n",
      "        Epoch: 15, \n",
      "        Average Train Loss: 0.1887 \n",
      "        Average Test Loss: 0.1240 \n",
      "        Average Test mIoU: 70.78\n",
      "        Average Test Accuracy: 93.1304931640625 %\n",
      "Checkpoint: pretrained_best is saved successfully\n"
     ]
    },
    {
     "name": "stderr",
     "output_type": "stream",
     "text": [
      "Train/Epoch 16/150: 104img [00:08, 12.50img/s]\n",
      "Eval/Epoch 16/150: 27img [00:02,  9.59img/s]\n"
     ]
    },
    {
     "name": "stdout",
     "output_type": "stream",
     "text": [
      "\"\n",
      "        Epoch: 16, \n",
      "        Average Train Loss: 0.1401 \n",
      "        Average Test Loss: 0.1025 \n",
      "        Average Test mIoU: 77.25\n",
      "        Average Test Accuracy: 95.23239135742188 %\n",
      "Checkpoint: pretrained_best is saved successfully\n"
     ]
    },
    {
     "name": "stderr",
     "output_type": "stream",
     "text": [
      "Train/Epoch 17/150: 104img [00:08, 12.19img/s]\n",
      "Eval/Epoch 17/150: 27img [00:02,  9.45img/s]\n"
     ]
    },
    {
     "name": "stdout",
     "output_type": "stream",
     "text": [
      "\"\n",
      "        Epoch: 17, \n",
      "        Average Train Loss: 0.1156 \n",
      "        Average Test Loss: 0.1042 \n",
      "        Average Test mIoU: 79.46\n",
      "        Average Test Accuracy: 96.79298400878906 %\n",
      "Checkpoint: pretrained_best is saved successfully\n"
     ]
    },
    {
     "name": "stderr",
     "output_type": "stream",
     "text": [
      "Train/Epoch 18/150: 104img [00:08, 12.70img/s]\n",
      "Eval/Epoch 18/150: 27img [00:29,  1.10s/img]\n"
     ]
    },
    {
     "name": "stdout",
     "output_type": "stream",
     "text": [
      "\"\n",
      "        Epoch: 18, \n",
      "        Average Train Loss: 0.1203 \n",
      "        Average Test Loss: 0.0819 \n",
      "        Average Test mIoU: 79.52\n",
      "        Average Test Accuracy: 95.91014099121094 %\n",
      "Checkpoint: pretrained_best is saved successfully\n"
     ]
    },
    {
     "name": "stderr",
     "output_type": "stream",
     "text": [
      "Train/Epoch 19/150: 104img [00:08, 12.40img/s]\n",
      "Eval/Epoch 19/150: 27img [00:04,  5.93img/s]\n"
     ]
    },
    {
     "name": "stdout",
     "output_type": "stream",
     "text": [
      "\"\n",
      "        Epoch: 19, \n",
      "        Average Train Loss: 0.1195 \n",
      "        Average Test Loss: 0.0791 \n",
      "        Average Test mIoU: 81.48\n",
      "        Average Test Accuracy: 97.34420776367188 %\n",
      "Checkpoint: pretrained_best is saved successfully\n"
     ]
    },
    {
     "name": "stderr",
     "output_type": "stream",
     "text": [
      "Train/Epoch 20/150: 104img [00:08, 12.52img/s]\n",
      "Eval/Epoch 20/150: 27img [00:02, 10.01img/s]\n"
     ]
    },
    {
     "name": "stdout",
     "output_type": "stream",
     "text": [
      "\"\n",
      "        Epoch: 20, \n",
      "        Average Train Loss: 0.1096 \n",
      "        Average Test Loss: 0.0833 \n",
      "        Average Test mIoU: 79.14\n",
      "        Average Test Accuracy: 94.99537658691406 %\n"
     ]
    },
    {
     "name": "stderr",
     "output_type": "stream",
     "text": [
      "Train/Epoch 21/150: 104img [00:08, 12.78img/s]\n",
      "Eval/Epoch 21/150: 27img [00:02,  9.50img/s]\n"
     ]
    },
    {
     "name": "stdout",
     "output_type": "stream",
     "text": [
      "\"\n",
      "        Epoch: 21, \n",
      "        Average Train Loss: 0.1093 \n",
      "        Average Test Loss: 0.0488 \n",
      "        Average Test mIoU: 85.12\n",
      "        Average Test Accuracy: 97.13630676269531 %\n",
      "Checkpoint: pretrained_best is saved successfully\n"
     ]
    },
    {
     "name": "stderr",
     "output_type": "stream",
     "text": [
      "Train/Epoch 22/150: 104img [00:08, 12.66img/s]\n",
      "Eval/Epoch 22/150: 27img [00:02,  9.59img/s]\n"
     ]
    },
    {
     "name": "stdout",
     "output_type": "stream",
     "text": [
      "\"\n",
      "        Epoch: 22, \n",
      "        Average Train Loss: 0.1192 \n",
      "        Average Test Loss: 0.0859 \n",
      "        Average Test mIoU: 79.40\n",
      "        Average Test Accuracy: 96.35073852539062 %\n"
     ]
    },
    {
     "name": "stderr",
     "output_type": "stream",
     "text": [
      "Train/Epoch 23/150: 104img [00:08, 12.28img/s]\n",
      "Eval/Epoch 23/150: 27img [00:02,  9.34img/s]\n"
     ]
    },
    {
     "name": "stdout",
     "output_type": "stream",
     "text": [
      "\"\n",
      "        Epoch: 23, \n",
      "        Average Train Loss: 0.1069 \n",
      "        Average Test Loss: 0.0656 \n",
      "        Average Test mIoU: 84.23\n",
      "        Average Test Accuracy: 97.33200073242188 %\n"
     ]
    },
    {
     "name": "stderr",
     "output_type": "stream",
     "text": [
      "Train/Epoch 24/150: 104img [00:08, 12.63img/s]\n",
      "Eval/Epoch 24/150: 27img [00:02,  9.45img/s]\n"
     ]
    },
    {
     "name": "stdout",
     "output_type": "stream",
     "text": [
      "\"\n",
      "        Epoch: 24, \n",
      "        Average Train Loss: 0.1022 \n",
      "        Average Test Loss: 0.0614 \n",
      "        Average Test mIoU: 81.66\n",
      "        Average Test Accuracy: 96.33344268798828 %\n"
     ]
    },
    {
     "name": "stderr",
     "output_type": "stream",
     "text": [
      "Train/Epoch 25/150: 104img [00:08, 12.41img/s]\n",
      "Eval/Epoch 25/150: 27img [00:02,  9.36img/s]\n"
     ]
    },
    {
     "name": "stdout",
     "output_type": "stream",
     "text": [
      "\"\n",
      "        Epoch: 25, \n",
      "        Average Train Loss: 0.0838 \n",
      "        Average Test Loss: 0.0465 \n",
      "        Average Test mIoU: 86.33\n",
      "        Average Test Accuracy: 97.89937591552734 %\n",
      "Checkpoint: pretrained_best is saved successfully\n"
     ]
    },
    {
     "name": "stderr",
     "output_type": "stream",
     "text": [
      "Train/Epoch 26/150: 104img [00:08, 12.65img/s]\n",
      "Eval/Epoch 26/150: 27img [00:02,  9.60img/s]\n"
     ]
    },
    {
     "name": "stdout",
     "output_type": "stream",
     "text": [
      "\"\n",
      "        Epoch: 26, \n",
      "        Average Train Loss: 0.0974 \n",
      "        Average Test Loss: 0.0685 \n",
      "        Average Test mIoU: 83.33\n",
      "        Average Test Accuracy: 97.07234954833984 %\n"
     ]
    },
    {
     "name": "stderr",
     "output_type": "stream",
     "text": [
      "Train/Epoch 27/150: 104img [00:08, 12.64img/s]\n",
      "Eval/Epoch 27/150: 27img [00:02,  9.41img/s]\n"
     ]
    },
    {
     "name": "stdout",
     "output_type": "stream",
     "text": [
      "\"\n",
      "        Epoch: 27, \n",
      "        Average Train Loss: 0.0922 \n",
      "        Average Test Loss: 0.0463 \n",
      "        Average Test mIoU: 86.73\n",
      "        Average Test Accuracy: 97.86288452148438 %\n",
      "Checkpoint: pretrained_best is saved successfully\n"
     ]
    },
    {
     "name": "stderr",
     "output_type": "stream",
     "text": [
      "Train/Epoch 28/150: 104img [00:08, 12.54img/s]\n",
      "Eval/Epoch 28/150: 27img [00:02,  9.59img/s]\n"
     ]
    },
    {
     "name": "stdout",
     "output_type": "stream",
     "text": [
      "\"\n",
      "        Epoch: 28, \n",
      "        Average Train Loss: 0.0841 \n",
      "        Average Test Loss: 0.0512 \n",
      "        Average Test mIoU: 85.85\n",
      "        Average Test Accuracy: 97.29830932617188 %\n"
     ]
    },
    {
     "name": "stderr",
     "output_type": "stream",
     "text": [
      "Train/Epoch 29/150: 104img [00:08, 12.49img/s]\n",
      "Eval/Epoch 29/150: 27img [00:02,  9.55img/s]\n"
     ]
    },
    {
     "name": "stdout",
     "output_type": "stream",
     "text": [
      "\"\n",
      "        Epoch: 29, \n",
      "        Average Train Loss: 0.0711 \n",
      "        Average Test Loss: 0.0507 \n",
      "        Average Test mIoU: 86.54\n",
      "        Average Test Accuracy: 97.49641418457031 %\n"
     ]
    },
    {
     "name": "stderr",
     "output_type": "stream",
     "text": [
      "Train/Epoch 30/150: 104img [00:08, 12.69img/s]\n",
      "Eval/Epoch 30/150: 27img [00:02,  9.55img/s]\n"
     ]
    },
    {
     "name": "stdout",
     "output_type": "stream",
     "text": [
      "\"\n",
      "        Epoch: 30, \n",
      "        Average Train Loss: 0.0994 \n",
      "        Average Test Loss: 0.0672 \n",
      "        Average Test mIoU: 84.34\n",
      "        Average Test Accuracy: 97.78277587890625 %\n"
     ]
    },
    {
     "name": "stderr",
     "output_type": "stream",
     "text": [
      "Train/Epoch 31/150: 104img [00:08, 12.70img/s]\n",
      "Eval/Epoch 31/150: 27img [00:02,  9.62img/s]\n"
     ]
    },
    {
     "name": "stdout",
     "output_type": "stream",
     "text": [
      "\"\n",
      "        Epoch: 31, \n",
      "        Average Train Loss: 0.0907 \n",
      "        Average Test Loss: 0.0555 \n",
      "        Average Test mIoU: 85.56\n",
      "        Average Test Accuracy: 97.57029724121094 %\n"
     ]
    },
    {
     "name": "stderr",
     "output_type": "stream",
     "text": [
      "Train/Epoch 32/150: 104img [00:08, 12.60img/s]\n",
      "Eval/Epoch 32/150: 27img [00:02,  9.31img/s]\n"
     ]
    },
    {
     "name": "stdout",
     "output_type": "stream",
     "text": [
      "\"\n",
      "        Epoch: 32, \n",
      "        Average Train Loss: 0.0713 \n",
      "        Average Test Loss: 0.0531 \n",
      "        Average Test mIoU: 87.52\n",
      "        Average Test Accuracy: 98.18026733398438 %\n",
      "Checkpoint: pretrained_best is saved successfully\n"
     ]
    },
    {
     "name": "stderr",
     "output_type": "stream",
     "text": [
      "Train/Epoch 33/150: 104img [00:08, 12.59img/s]\n",
      "Eval/Epoch 33/150: 27img [00:02,  9.39img/s]\n"
     ]
    },
    {
     "name": "stdout",
     "output_type": "stream",
     "text": [
      "\"\n",
      "        Epoch: 33, \n",
      "        Average Train Loss: 0.0618 \n",
      "        Average Test Loss: 0.0538 \n",
      "        Average Test mIoU: 85.66\n",
      "        Average Test Accuracy: 97.67036437988281 %\n"
     ]
    },
    {
     "name": "stderr",
     "output_type": "stream",
     "text": [
      "Train/Epoch 34/150: 104img [00:12,  8.24img/s]\n",
      "Eval/Epoch 34/150: 27img [00:02,  9.46img/s]\n"
     ]
    },
    {
     "name": "stdout",
     "output_type": "stream",
     "text": [
      "\"\n",
      "        Epoch: 34, \n",
      "        Average Train Loss: 0.0685 \n",
      "        Average Test Loss: 0.0447 \n",
      "        Average Test mIoU: 87.95\n",
      "        Average Test Accuracy: 98.17517852783203 %\n",
      "Checkpoint: pretrained_best is saved successfully\n"
     ]
    },
    {
     "name": "stderr",
     "output_type": "stream",
     "text": [
      "Train/Epoch 35/150: 104img [00:08, 12.01img/s]\n",
      "Eval/Epoch 35/150: 27img [00:02,  9.51img/s]\n"
     ]
    },
    {
     "name": "stdout",
     "output_type": "stream",
     "text": [
      "\"\n",
      "        Epoch: 35, \n",
      "        Average Train Loss: 0.0550 \n",
      "        Average Test Loss: 0.0369 \n",
      "        Average Test mIoU: 88.26\n",
      "        Average Test Accuracy: 98.03581237792969 %\n",
      "Checkpoint: pretrained_best is saved successfully\n"
     ]
    },
    {
     "name": "stderr",
     "output_type": "stream",
     "text": [
      "Train/Epoch 36/150: 104img [00:08, 12.39img/s]\n",
      "Eval/Epoch 36/150: 27img [00:02,  9.55img/s]\n"
     ]
    },
    {
     "name": "stdout",
     "output_type": "stream",
     "text": [
      "\"\n",
      "        Epoch: 36, \n",
      "        Average Train Loss: 0.0691 \n",
      "        Average Test Loss: 0.0565 \n",
      "        Average Test mIoU: 83.63\n",
      "        Average Test Accuracy: 96.65184020996094 %\n"
     ]
    },
    {
     "name": "stderr",
     "output_type": "stream",
     "text": [
      "Train/Epoch 37/150: 104img [00:08, 12.33img/s]\n",
      "Eval/Epoch 37/150: 27img [00:02,  9.33img/s]\n"
     ]
    },
    {
     "name": "stdout",
     "output_type": "stream",
     "text": [
      "\"\n",
      "        Epoch: 37, \n",
      "        Average Train Loss: 0.0850 \n",
      "        Average Test Loss: 0.0868 \n",
      "        Average Test mIoU: 81.06\n",
      "        Average Test Accuracy: 96.59080505371094 %\n"
     ]
    },
    {
     "name": "stderr",
     "output_type": "stream",
     "text": [
      "Train/Epoch 38/150: 104img [00:08, 12.33img/s]\n",
      "Eval/Epoch 38/150: 27img [00:02,  9.58img/s]\n"
     ]
    },
    {
     "name": "stdout",
     "output_type": "stream",
     "text": [
      "\"\n",
      "        Epoch: 38, \n",
      "        Average Train Loss: 0.0805 \n",
      "        Average Test Loss: 0.0538 \n",
      "        Average Test mIoU: 86.20\n",
      "        Average Test Accuracy: 97.8880615234375 %\n"
     ]
    },
    {
     "name": "stderr",
     "output_type": "stream",
     "text": [
      "Train/Epoch 39/150: 104img [00:08, 12.20img/s]\n",
      "Eval/Epoch 39/150: 27img [00:03,  9.00img/s]\n"
     ]
    },
    {
     "name": "stdout",
     "output_type": "stream",
     "text": [
      "\"\n",
      "        Epoch: 39, \n",
      "        Average Train Loss: 0.0623 \n",
      "        Average Test Loss: 0.0790 \n",
      "        Average Test mIoU: 76.31\n",
      "        Average Test Accuracy: 92.13651275634766 %\n"
     ]
    },
    {
     "name": "stderr",
     "output_type": "stream",
     "text": [
      "Train/Epoch 40/150: 104img [00:08, 12.21img/s]\n",
      "Eval/Epoch 40/150: 27img [00:02,  9.46img/s]\n"
     ]
    },
    {
     "name": "stdout",
     "output_type": "stream",
     "text": [
      "\"\n",
      "        Epoch: 40, \n",
      "        Average Train Loss: 0.0648 \n",
      "        Average Test Loss: 0.0441 \n",
      "        Average Test mIoU: 87.10\n",
      "        Average Test Accuracy: 97.1312255859375 %\n"
     ]
    },
    {
     "name": "stderr",
     "output_type": "stream",
     "text": [
      "Train/Epoch 41/150: 104img [00:08, 12.56img/s]\n",
      "Eval/Epoch 41/150: 27img [00:02,  9.68img/s]\n"
     ]
    },
    {
     "name": "stdout",
     "output_type": "stream",
     "text": [
      "\"\n",
      "        Epoch: 41, \n",
      "        Average Train Loss: 0.0589 \n",
      "        Average Test Loss: 0.0356 \n",
      "        Average Test mIoU: 86.29\n",
      "        Average Test Accuracy: 98.043701171875 %\n"
     ]
    },
    {
     "name": "stderr",
     "output_type": "stream",
     "text": [
      "Train/Epoch 42/150: 104img [00:08, 12.70img/s]\n",
      "Eval/Epoch 42/150: 27img [00:02,  9.60img/s]\n"
     ]
    },
    {
     "name": "stdout",
     "output_type": "stream",
     "text": [
      "\"\n",
      "        Epoch: 42, \n",
      "        Average Train Loss: 0.0472 \n",
      "        Average Test Loss: 0.0333 \n",
      "        Average Test mIoU: 88.34\n",
      "        Average Test Accuracy: 98.39579772949219 %\n",
      "Checkpoint: pretrained_best is saved successfully\n"
     ]
    },
    {
     "name": "stderr",
     "output_type": "stream",
     "text": [
      "Train/Epoch 43/150: 104img [00:08, 12.62img/s]\n",
      "Eval/Epoch 43/150: 27img [00:02,  9.35img/s]\n"
     ]
    },
    {
     "name": "stdout",
     "output_type": "stream",
     "text": [
      "\"\n",
      "        Epoch: 43, \n",
      "        Average Train Loss: 0.0522 \n",
      "        Average Test Loss: 0.0432 \n",
      "        Average Test mIoU: 86.35\n",
      "        Average Test Accuracy: 97.71016693115234 %\n"
     ]
    },
    {
     "name": "stderr",
     "output_type": "stream",
     "text": [
      "Train/Epoch 44/150: 104img [00:08, 12.62img/s]\n",
      "Eval/Epoch 44/150: 27img [00:02,  9.35img/s]\n"
     ]
    },
    {
     "name": "stdout",
     "output_type": "stream",
     "text": [
      "\"\n",
      "        Epoch: 44, \n",
      "        Average Train Loss: 0.0592 \n",
      "        Average Test Loss: 0.0480 \n",
      "        Average Test mIoU: 87.96\n",
      "        Average Test Accuracy: 98.2091293334961 %\n"
     ]
    },
    {
     "name": "stderr",
     "output_type": "stream",
     "text": [
      "Train/Epoch 45/150: 104img [00:08, 12.67img/s]\n",
      "Eval/Epoch 45/150: 27img [00:02, 10.22img/s]\n"
     ]
    },
    {
     "name": "stdout",
     "output_type": "stream",
     "text": [
      "\"\n",
      "        Epoch: 45, \n",
      "        Average Train Loss: 0.0473 \n",
      "        Average Test Loss: 0.0414 \n",
      "        Average Test mIoU: 89.00\n",
      "        Average Test Accuracy: 98.46814727783203 %\n",
      "Checkpoint: pretrained_best is saved successfully\n"
     ]
    },
    {
     "name": "stderr",
     "output_type": "stream",
     "text": [
      "Train/Epoch 46/150: 104img [00:08, 12.56img/s]\n",
      "Eval/Epoch 46/150: 27img [00:02,  9.29img/s]\n"
     ]
    },
    {
     "name": "stdout",
     "output_type": "stream",
     "text": [
      "\"\n",
      "        Epoch: 46, \n",
      "        Average Train Loss: 0.0485 \n",
      "        Average Test Loss: 0.0401 \n",
      "        Average Test mIoU: 88.62\n",
      "        Average Test Accuracy: 98.44500732421875 %\n"
     ]
    },
    {
     "name": "stderr",
     "output_type": "stream",
     "text": [
      "Train/Epoch 47/150: 104img [00:08, 12.51img/s]\n",
      "Eval/Epoch 47/150: 27img [00:02,  9.44img/s]\n"
     ]
    },
    {
     "name": "stdout",
     "output_type": "stream",
     "text": [
      "\"\n",
      "        Epoch: 47, \n",
      "        Average Train Loss: 0.0453 \n",
      "        Average Test Loss: 0.0320 \n",
      "        Average Test mIoU: 89.60\n",
      "        Average Test Accuracy: 98.74636840820312 %\n",
      "Checkpoint: pretrained_best is saved successfully\n"
     ]
    },
    {
     "name": "stderr",
     "output_type": "stream",
     "text": [
      "Train/Epoch 48/150: 104img [00:08, 12.58img/s]\n",
      "Eval/Epoch 48/150: 27img [00:02,  9.35img/s]\n"
     ]
    },
    {
     "name": "stdout",
     "output_type": "stream",
     "text": [
      "\"\n",
      "        Epoch: 48, \n",
      "        Average Train Loss: 0.0542 \n",
      "        Average Test Loss: 0.0388 \n",
      "        Average Test mIoU: 88.14\n",
      "        Average Test Accuracy: 97.80032348632812 %\n"
     ]
    },
    {
     "name": "stderr",
     "output_type": "stream",
     "text": [
      "Train/Epoch 49/150: 104img [00:08, 12.50img/s]\n",
      "Eval/Epoch 49/150: 27img [00:02,  9.34img/s]\n"
     ]
    },
    {
     "name": "stdout",
     "output_type": "stream",
     "text": [
      "\"\n",
      "        Epoch: 49, \n",
      "        Average Train Loss: 0.0703 \n",
      "        Average Test Loss: 0.0653 \n",
      "        Average Test mIoU: 81.54\n",
      "        Average Test Accuracy: 96.80888366699219 %\n"
     ]
    },
    {
     "name": "stderr",
     "output_type": "stream",
     "text": [
      "Train/Epoch 50/150: 104img [00:08, 12.55img/s]\n",
      "Eval/Epoch 50/150: 27img [00:02,  9.40img/s]\n"
     ]
    },
    {
     "name": "stdout",
     "output_type": "stream",
     "text": [
      "\"\n",
      "        Epoch: 50, \n",
      "        Average Train Loss: 0.0885 \n",
      "        Average Test Loss: 0.0687 \n",
      "        Average Test mIoU: 85.20\n",
      "        Average Test Accuracy: 95.67706298828125 %\n"
     ]
    },
    {
     "name": "stderr",
     "output_type": "stream",
     "text": [
      "Train/Epoch 51/150: 104img [00:08, 12.71img/s]\n",
      "Eval/Epoch 51/150: 27img [00:02,  9.48img/s]\n"
     ]
    },
    {
     "name": "stdout",
     "output_type": "stream",
     "text": [
      "\"\n",
      "        Epoch: 51, \n",
      "        Average Train Loss: 0.0672 \n",
      "        Average Test Loss: 0.0634 \n",
      "        Average Test mIoU: 83.86\n",
      "        Average Test Accuracy: 98.08909606933594 %\n"
     ]
    },
    {
     "name": "stderr",
     "output_type": "stream",
     "text": [
      "Train/Epoch 52/150: 104img [00:08, 12.70img/s]\n",
      "Eval/Epoch 52/150: 27img [00:02,  9.53img/s]\n"
     ]
    },
    {
     "name": "stdout",
     "output_type": "stream",
     "text": [
      "\"\n",
      "        Epoch: 52, \n",
      "        Average Train Loss: 0.0689 \n",
      "        Average Test Loss: 0.0447 \n",
      "        Average Test mIoU: 86.77\n",
      "        Average Test Accuracy: 97.54702758789062 %\n"
     ]
    },
    {
     "name": "stderr",
     "output_type": "stream",
     "text": [
      "Train/Epoch 53/150: 104img [00:08, 12.68img/s]\n",
      "Eval/Epoch 53/150: 27img [00:02,  9.25img/s]\n"
     ]
    },
    {
     "name": "stdout",
     "output_type": "stream",
     "text": [
      "\"\n",
      "        Epoch: 53, \n",
      "        Average Train Loss: 0.0694 \n",
      "        Average Test Loss: 0.0353 \n",
      "        Average Test mIoU: 88.26\n",
      "        Average Test Accuracy: 98.49929809570312 %\n"
     ]
    },
    {
     "name": "stderr",
     "output_type": "stream",
     "text": [
      "Train/Epoch 54/150: 104img [00:08, 12.61img/s]\n",
      "Eval/Epoch 54/150: 27img [00:02,  9.46img/s]\n"
     ]
    },
    {
     "name": "stdout",
     "output_type": "stream",
     "text": [
      "\"\n",
      "        Epoch: 54, \n",
      "        Average Train Loss: 0.0500 \n",
      "        Average Test Loss: 0.0416 \n",
      "        Average Test mIoU: 86.99\n",
      "        Average Test Accuracy: 98.35154724121094 %\n"
     ]
    },
    {
     "name": "stderr",
     "output_type": "stream",
     "text": [
      "Train/Epoch 55/150: 104img [00:08, 12.61img/s]\n",
      "Eval/Epoch 55/150: 27img [00:02,  9.43img/s]\n"
     ]
    },
    {
     "name": "stdout",
     "output_type": "stream",
     "text": [
      "\"\n",
      "        Epoch: 55, \n",
      "        Average Train Loss: 0.0644 \n",
      "        Average Test Loss: 0.0788 \n",
      "        Average Test mIoU: 83.52\n",
      "        Average Test Accuracy: 97.92239379882812 %\n"
     ]
    },
    {
     "name": "stderr",
     "output_type": "stream",
     "text": [
      "Train/Epoch 56/150: 104img [00:08, 12.71img/s]\n",
      "Eval/Epoch 56/150: 27img [00:02,  9.53img/s]\n"
     ]
    },
    {
     "name": "stdout",
     "output_type": "stream",
     "text": [
      "\"\n",
      "        Epoch: 56, \n",
      "        Average Train Loss: 0.0601 \n",
      "        Average Test Loss: 0.0772 \n",
      "        Average Test mIoU: 81.24\n",
      "        Average Test Accuracy: 96.98931884765625 %\n"
     ]
    },
    {
     "name": "stderr",
     "output_type": "stream",
     "text": [
      "Train/Epoch 57/150: 104img [00:08, 12.43img/s]\n",
      "Eval/Epoch 57/150: 27img [00:02,  9.40img/s]\n"
     ]
    },
    {
     "name": "stdout",
     "output_type": "stream",
     "text": [
      "\"\n",
      "        Epoch: 57, \n",
      "        Average Train Loss: 0.0702 \n",
      "        Average Test Loss: 0.0539 \n",
      "        Average Test mIoU: 84.82\n",
      "        Average Test Accuracy: 97.35183715820312 %\n"
     ]
    },
    {
     "name": "stderr",
     "output_type": "stream",
     "text": [
      "Train/Epoch 58/150: 104img [00:08, 12.48img/s]\n",
      "Eval/Epoch 58/150: 27img [00:02,  9.44img/s]\n"
     ]
    },
    {
     "name": "stdout",
     "output_type": "stream",
     "text": [
      "\"\n",
      "        Epoch: 58, \n",
      "        Average Train Loss: 0.0514 \n",
      "        Average Test Loss: 0.0357 \n",
      "        Average Test mIoU: 89.29\n",
      "        Average Test Accuracy: 98.40190124511719 %\n"
     ]
    },
    {
     "name": "stderr",
     "output_type": "stream",
     "text": [
      "Train/Epoch 59/150: 104img [00:08, 12.56img/s]\n",
      "Eval/Epoch 59/150: 27img [00:02,  9.55img/s]\n"
     ]
    },
    {
     "name": "stdout",
     "output_type": "stream",
     "text": [
      "\"\n",
      "        Epoch: 59, \n",
      "        Average Train Loss: 0.0491 \n",
      "        Average Test Loss: 0.0426 \n",
      "        Average Test mIoU: 86.86\n",
      "        Average Test Accuracy: 97.7813720703125 %\n"
     ]
    },
    {
     "name": "stderr",
     "output_type": "stream",
     "text": [
      "Train/Epoch 60/150: 104img [00:08, 12.58img/s]\n",
      "Eval/Epoch 60/150: 27img [00:02,  9.44img/s]\n"
     ]
    },
    {
     "name": "stdout",
     "output_type": "stream",
     "text": [
      "\"\n",
      "        Epoch: 60, \n",
      "        Average Train Loss: 0.0704 \n",
      "        Average Test Loss: 0.0378 \n",
      "        Average Test mIoU: 88.17\n",
      "        Average Test Accuracy: 97.20243072509766 %\n"
     ]
    },
    {
     "name": "stderr",
     "output_type": "stream",
     "text": [
      "Train/Epoch 61/150: 104img [00:08, 12.56img/s]\n",
      "Eval/Epoch 61/150: 27img [00:02,  9.31img/s]\n"
     ]
    },
    {
     "name": "stdout",
     "output_type": "stream",
     "text": [
      "\"\n",
      "        Epoch: 61, \n",
      "        Average Train Loss: 0.0635 \n",
      "        Average Test Loss: 0.0332 \n",
      "        Average Test mIoU: 89.41\n",
      "        Average Test Accuracy: 98.4130859375 %\n"
     ]
    },
    {
     "name": "stderr",
     "output_type": "stream",
     "text": [
      "Train/Epoch 62/150: 104img [00:08, 12.46img/s]\n",
      "Eval/Epoch 62/150: 27img [00:02,  9.45img/s]\n"
     ]
    },
    {
     "name": "stdout",
     "output_type": "stream",
     "text": [
      "\"\n",
      "        Epoch: 62, \n",
      "        Average Train Loss: 0.0864 \n",
      "        Average Test Loss: 0.0533 \n",
      "        Average Test mIoU: 84.22\n",
      "        Average Test Accuracy: 96.9426498413086 %\n"
     ]
    },
    {
     "name": "stderr",
     "output_type": "stream",
     "text": [
      "Train/Epoch 63/150: 104img [00:08, 12.57img/s]\n",
      "Eval/Epoch 63/150: 27img [00:02,  9.24img/s]\n"
     ]
    },
    {
     "name": "stdout",
     "output_type": "stream",
     "text": [
      "\"\n",
      "        Epoch: 63, \n",
      "        Average Train Loss: 0.0635 \n",
      "        Average Test Loss: 0.0578 \n",
      "        Average Test mIoU: 83.97\n",
      "        Average Test Accuracy: 97.60093688964844 %\n"
     ]
    },
    {
     "name": "stderr",
     "output_type": "stream",
     "text": [
      "Train/Epoch 64/150: 104img [00:08, 12.60img/s]\n",
      "Eval/Epoch 64/150: 27img [00:02,  9.35img/s]\n"
     ]
    },
    {
     "name": "stdout",
     "output_type": "stream",
     "text": [
      "\"\n",
      "        Epoch: 64, \n",
      "        Average Train Loss: 0.0844 \n",
      "        Average Test Loss: 0.0450 \n",
      "        Average Test mIoU: 85.04\n",
      "        Average Test Accuracy: 97.90853118896484 %\n"
     ]
    },
    {
     "name": "stderr",
     "output_type": "stream",
     "text": [
      "Train/Epoch 65/150: 104img [00:08, 12.58img/s]\n",
      "Eval/Epoch 65/150: 27img [00:02,  9.29img/s]\n"
     ]
    },
    {
     "name": "stdout",
     "output_type": "stream",
     "text": [
      "\"\n",
      "        Epoch: 65, \n",
      "        Average Train Loss: 0.0622 \n",
      "        Average Test Loss: 0.0372 \n",
      "        Average Test mIoU: 89.00\n",
      "        Average Test Accuracy: 98.65074157714844 %\n"
     ]
    },
    {
     "name": "stderr",
     "output_type": "stream",
     "text": [
      "Train/Epoch 66/150: 104img [00:08, 12.32img/s]\n",
      "Eval/Epoch 66/150: 27img [00:06,  3.91img/s]\n"
     ]
    },
    {
     "name": "stdout",
     "output_type": "stream",
     "text": [
      "\"\n",
      "        Epoch: 66, \n",
      "        Average Train Loss: 0.0660 \n",
      "        Average Test Loss: 0.0315 \n",
      "        Average Test mIoU: 89.99\n",
      "        Average Test Accuracy: 98.68749237060547 %\n",
      "Checkpoint: pretrained_best is saved successfully\n"
     ]
    },
    {
     "name": "stderr",
     "output_type": "stream",
     "text": [
      "Train/Epoch 67/150: 104img [00:08, 12.53img/s]\n",
      "Eval/Epoch 67/150: 27img [00:02,  9.37img/s]\n"
     ]
    },
    {
     "name": "stdout",
     "output_type": "stream",
     "text": [
      "\"\n",
      "        Epoch: 67, \n",
      "        Average Train Loss: 0.0503 \n",
      "        Average Test Loss: 0.0490 \n",
      "        Average Test mIoU: 86.02\n",
      "        Average Test Accuracy: 98.11541748046875 %\n"
     ]
    },
    {
     "name": "stderr",
     "output_type": "stream",
     "text": [
      "Train/Epoch 68/150: 104img [00:08, 12.53img/s]\n",
      "Eval/Epoch 68/150: 27img [00:02,  9.48img/s]\n"
     ]
    },
    {
     "name": "stdout",
     "output_type": "stream",
     "text": [
      "\"\n",
      "        Epoch: 68, \n",
      "        Average Train Loss: 0.0445 \n",
      "        Average Test Loss: 0.0379 \n",
      "        Average Test mIoU: 87.75\n",
      "        Average Test Accuracy: 97.94146728515625 %\n"
     ]
    },
    {
     "name": "stderr",
     "output_type": "stream",
     "text": [
      "Train/Epoch 69/150: 104img [00:08, 12.78img/s]\n",
      "Eval/Epoch 69/150: 27img [00:02,  9.53img/s]\n"
     ]
    },
    {
     "name": "stdout",
     "output_type": "stream",
     "text": [
      "\"\n",
      "        Epoch: 69, \n",
      "        Average Train Loss: 0.0555 \n",
      "        Average Test Loss: 0.0378 \n",
      "        Average Test mIoU: 88.67\n",
      "        Average Test Accuracy: 98.79519653320312 %\n"
     ]
    },
    {
     "name": "stderr",
     "output_type": "stream",
     "text": [
      "Train/Epoch 70/150: 104img [00:08, 12.71img/s]\n",
      "Eval/Epoch 70/150: 27img [00:02,  9.39img/s]\n"
     ]
    },
    {
     "name": "stdout",
     "output_type": "stream",
     "text": [
      "\"\n",
      "        Epoch: 70, \n",
      "        Average Train Loss: 0.0420 \n",
      "        Average Test Loss: 0.0321 \n",
      "        Average Test mIoU: 89.85\n",
      "        Average Test Accuracy: 98.27410888671875 %\n"
     ]
    },
    {
     "name": "stderr",
     "output_type": "stream",
     "text": [
      "Train/Epoch 71/150: 104img [00:08, 12.73img/s]\n",
      "Eval/Epoch 71/150: 27img [00:02,  9.47img/s]\n"
     ]
    },
    {
     "name": "stdout",
     "output_type": "stream",
     "text": [
      "\"\n",
      "        Epoch: 71, \n",
      "        Average Train Loss: 0.0633 \n",
      "        Average Test Loss: 0.0479 \n",
      "        Average Test mIoU: 86.86\n",
      "        Average Test Accuracy: 97.93917846679688 %\n"
     ]
    },
    {
     "name": "stderr",
     "output_type": "stream",
     "text": [
      "Train/Epoch 72/150: 104img [00:08, 12.81img/s]\n",
      "Eval/Epoch 72/150: 27img [00:02,  9.51img/s]\n"
     ]
    },
    {
     "name": "stdout",
     "output_type": "stream",
     "text": [
      "\"\n",
      "        Epoch: 72, \n",
      "        Average Train Loss: 0.0511 \n",
      "        Average Test Loss: 0.0452 \n",
      "        Average Test mIoU: 87.99\n",
      "        Average Test Accuracy: 98.75056457519531 %\n"
     ]
    },
    {
     "name": "stderr",
     "output_type": "stream",
     "text": [
      "Train/Epoch 73/150: 104img [00:08, 12.74img/s]\n",
      "Eval/Epoch 73/150: 27img [00:02,  9.50img/s]\n"
     ]
    },
    {
     "name": "stdout",
     "output_type": "stream",
     "text": [
      "\"\n",
      "        Epoch: 73, \n",
      "        Average Train Loss: 0.0453 \n",
      "        Average Test Loss: 0.0331 \n",
      "        Average Test mIoU: 89.91\n",
      "        Average Test Accuracy: 98.82304382324219 %\n"
     ]
    },
    {
     "name": "stderr",
     "output_type": "stream",
     "text": [
      "Train/Epoch 74/150: 104img [00:08, 12.70img/s]\n",
      "Eval/Epoch 74/150: 27img [00:02,  9.41img/s]\n"
     ]
    },
    {
     "name": "stdout",
     "output_type": "stream",
     "text": [
      "\"\n",
      "        Epoch: 74, \n",
      "        Average Train Loss: 0.0412 \n",
      "        Average Test Loss: 0.0271 \n",
      "        Average Test mIoU: 91.05\n",
      "        Average Test Accuracy: 98.95146942138672 %\n",
      "Checkpoint: pretrained_best is saved successfully\n"
     ]
    },
    {
     "name": "stderr",
     "output_type": "stream",
     "text": [
      "Train/Epoch 75/150: 104img [00:08, 12.66img/s]\n",
      "Eval/Epoch 75/150: 27img [00:02,  9.50img/s]\n"
     ]
    },
    {
     "name": "stdout",
     "output_type": "stream",
     "text": [
      "\"\n",
      "        Epoch: 75, \n",
      "        Average Train Loss: 0.0392 \n",
      "        Average Test Loss: 0.0436 \n",
      "        Average Test mIoU: 88.62\n",
      "        Average Test Accuracy: 98.27423095703125 %\n"
     ]
    },
    {
     "name": "stderr",
     "output_type": "stream",
     "text": [
      "Train/Epoch 76/150: 104img [00:08, 12.65img/s]\n",
      "Eval/Epoch 76/150: 27img [00:02,  9.64img/s]\n"
     ]
    },
    {
     "name": "stdout",
     "output_type": "stream",
     "text": [
      "\"\n",
      "        Epoch: 76, \n",
      "        Average Train Loss: 0.0456 \n",
      "        Average Test Loss: 0.0464 \n",
      "        Average Test mIoU: 86.12\n",
      "        Average Test Accuracy: 98.55474090576172 %\n"
     ]
    },
    {
     "name": "stderr",
     "output_type": "stream",
     "text": [
      "Train/Epoch 77/150: 104img [00:08, 12.94img/s]\n",
      "Eval/Epoch 77/150: 27img [00:02,  9.38img/s]\n"
     ]
    },
    {
     "name": "stdout",
     "output_type": "stream",
     "text": [
      "\"\n",
      "        Epoch: 77, \n",
      "        Average Train Loss: 0.0356 \n",
      "        Average Test Loss: 0.0382 \n",
      "        Average Test mIoU: 88.30\n",
      "        Average Test Accuracy: 98.92832946777344 %\n"
     ]
    },
    {
     "name": "stderr",
     "output_type": "stream",
     "text": [
      "Train/Epoch 78/150: 104img [00:08, 12.71img/s]\n",
      "Eval/Epoch 78/150: 27img [00:02,  9.44img/s]\n"
     ]
    },
    {
     "name": "stdout",
     "output_type": "stream",
     "text": [
      "\"\n",
      "        Epoch: 78, \n",
      "        Average Train Loss: 0.0384 \n",
      "        Average Test Loss: 0.0323 \n",
      "        Average Test mIoU: 90.35\n",
      "        Average Test Accuracy: 99.01097869873047 %\n"
     ]
    },
    {
     "name": "stderr",
     "output_type": "stream",
     "text": [
      "Train/Epoch 79/150: 104img [00:08, 12.79img/s]\n",
      "Eval/Epoch 79/150: 27img [00:02,  9.51img/s]\n"
     ]
    },
    {
     "name": "stdout",
     "output_type": "stream",
     "text": [
      "\"\n",
      "        Epoch: 79, \n",
      "        Average Train Loss: 0.0396 \n",
      "        Average Test Loss: 0.0353 \n",
      "        Average Test mIoU: 90.22\n",
      "        Average Test Accuracy: 98.849365234375 %\n"
     ]
    },
    {
     "name": "stderr",
     "output_type": "stream",
     "text": [
      "Train/Epoch 80/150: 104img [00:07, 13.01img/s]\n",
      "Eval/Epoch 80/150: 27img [00:02,  9.28img/s]\n"
     ]
    },
    {
     "name": "stdout",
     "output_type": "stream",
     "text": [
      "\"\n",
      "        Epoch: 80, \n",
      "        Average Train Loss: 0.0346 \n",
      "        Average Test Loss: 0.0344 \n",
      "        Average Test mIoU: 91.50\n",
      "        Average Test Accuracy: 99.08053588867188 %\n",
      "Checkpoint: pretrained_best is saved successfully\n"
     ]
    },
    {
     "name": "stderr",
     "output_type": "stream",
     "text": [
      "Train/Epoch 81/150: 104img [00:08, 12.78img/s]\n",
      "Eval/Epoch 81/150: 27img [00:02,  9.44img/s]\n"
     ]
    },
    {
     "name": "stdout",
     "output_type": "stream",
     "text": [
      "\"\n",
      "        Epoch: 81, \n",
      "        Average Train Loss: 0.0334 \n",
      "        Average Test Loss: 0.0340 \n",
      "        Average Test mIoU: 91.01\n",
      "        Average Test Accuracy: 98.49065399169922 %\n"
     ]
    },
    {
     "name": "stderr",
     "output_type": "stream",
     "text": [
      "Train/Epoch 82/150: 104img [00:08, 12.83img/s]\n",
      "Eval/Epoch 82/150: 27img [00:02,  9.39img/s]\n"
     ]
    },
    {
     "name": "stdout",
     "output_type": "stream",
     "text": [
      "\"\n",
      "        Epoch: 82, \n",
      "        Average Train Loss: 0.0308 \n",
      "        Average Test Loss: 0.0375 \n",
      "        Average Test mIoU: 90.95\n",
      "        Average Test Accuracy: 98.38752746582031 %\n"
     ]
    },
    {
     "name": "stderr",
     "output_type": "stream",
     "text": [
      "Train/Epoch 83/150: 104img [00:08, 12.79img/s]\n",
      "Eval/Epoch 83/150: 27img [00:02,  9.39img/s]\n"
     ]
    },
    {
     "name": "stdout",
     "output_type": "stream",
     "text": [
      "\"\n",
      "        Epoch: 83, \n",
      "        Average Train Loss: 0.0314 \n",
      "        Average Test Loss: 0.0386 \n",
      "        Average Test mIoU: 90.25\n",
      "        Average Test Accuracy: 98.61653900146484 %\n"
     ]
    },
    {
     "name": "stderr",
     "output_type": "stream",
     "text": [
      "Train/Epoch 84/150: 104img [00:08, 12.87img/s]\n",
      "Eval/Epoch 84/150: 27img [00:02,  9.34img/s]\n"
     ]
    },
    {
     "name": "stdout",
     "output_type": "stream",
     "text": [
      "\"\n",
      "        Epoch: 84, \n",
      "        Average Train Loss: 0.0360 \n",
      "        Average Test Loss: 0.0342 \n",
      "        Average Test mIoU: 89.03\n",
      "        Average Test Accuracy: 97.58504486083984 %\n"
     ]
    },
    {
     "name": "stderr",
     "output_type": "stream",
     "text": [
      "Train/Epoch 85/150: 104img [00:08, 12.70img/s]\n",
      "Eval/Epoch 85/150: 27img [00:02,  9.49img/s]\n"
     ]
    },
    {
     "name": "stdout",
     "output_type": "stream",
     "text": [
      "\"\n",
      "        Epoch: 85, \n",
      "        Average Train Loss: 0.0457 \n",
      "        Average Test Loss: 0.0505 \n",
      "        Average Test mIoU: 87.25\n",
      "        Average Test Accuracy: 98.80587768554688 %\n"
     ]
    },
    {
     "name": "stderr",
     "output_type": "stream",
     "text": [
      "Train/Epoch 86/150: 104img [00:08, 12.79img/s]\n",
      "Eval/Epoch 86/150: 27img [00:02,  9.49img/s]\n"
     ]
    },
    {
     "name": "stdout",
     "output_type": "stream",
     "text": [
      "\"\n",
      "        Epoch: 86, \n",
      "        Average Train Loss: 0.0605 \n",
      "        Average Test Loss: 0.0389 \n",
      "        Average Test mIoU: 88.74\n",
      "        Average Test Accuracy: 98.53744506835938 %\n"
     ]
    },
    {
     "name": "stderr",
     "output_type": "stream",
     "text": [
      "Train/Epoch 87/150: 104img [00:08, 12.72img/s]\n",
      "Eval/Epoch 87/150: 27img [00:02,  9.54img/s]\n"
     ]
    },
    {
     "name": "stdout",
     "output_type": "stream",
     "text": [
      "\"\n",
      "        Epoch: 87, \n",
      "        Average Train Loss: 0.0479 \n",
      "        Average Test Loss: 0.0393 \n",
      "        Average Test mIoU: 88.26\n",
      "        Average Test Accuracy: 98.01979064941406 %\n"
     ]
    },
    {
     "name": "stderr",
     "output_type": "stream",
     "text": [
      "Train/Epoch 88/150: 104img [00:08, 12.85img/s]\n",
      "Eval/Epoch 88/150: 27img [00:02,  9.44img/s]\n"
     ]
    },
    {
     "name": "stdout",
     "output_type": "stream",
     "text": [
      "\"\n",
      "        Epoch: 88, \n",
      "        Average Train Loss: 0.0514 \n",
      "        Average Test Loss: 0.0407 \n",
      "        Average Test mIoU: 88.73\n",
      "        Average Test Accuracy: 97.821044921875 %\n"
     ]
    },
    {
     "name": "stderr",
     "output_type": "stream",
     "text": [
      "Train/Epoch 89/150: 104img [00:08, 12.80img/s]\n",
      "Eval/Epoch 89/150: 27img [00:02,  9.44img/s]\n"
     ]
    },
    {
     "name": "stdout",
     "output_type": "stream",
     "text": [
      "\"\n",
      "        Epoch: 89, \n",
      "        Average Train Loss: 0.0472 \n",
      "        Average Test Loss: 0.0280 \n",
      "        Average Test mIoU: 90.84\n",
      "        Average Test Accuracy: 98.64756774902344 %\n"
     ]
    },
    {
     "name": "stderr",
     "output_type": "stream",
     "text": [
      "Train/Epoch 90/150: 104img [00:08, 12.72img/s]\n",
      "Eval/Epoch 90/150: 27img [00:02,  9.54img/s]\n"
     ]
    },
    {
     "name": "stdout",
     "output_type": "stream",
     "text": [
      "\"\n",
      "        Epoch: 90, \n",
      "        Average Train Loss: 0.0689 \n",
      "        Average Test Loss: 0.0331 \n",
      "        Average Test mIoU: 88.37\n",
      "        Average Test Accuracy: 98.07815551757812 %\n"
     ]
    },
    {
     "name": "stderr",
     "output_type": "stream",
     "text": [
      "Train/Epoch 91/150: 104img [00:08, 12.80img/s]\n",
      "Eval/Epoch 91/150: 27img [00:02,  9.44img/s]\n"
     ]
    },
    {
     "name": "stdout",
     "output_type": "stream",
     "text": [
      "\"\n",
      "        Epoch: 91, \n",
      "        Average Train Loss: 0.0547 \n",
      "        Average Test Loss: 0.0371 \n",
      "        Average Test mIoU: 89.69\n",
      "        Average Test Accuracy: 98.79646301269531 %\n"
     ]
    },
    {
     "name": "stderr",
     "output_type": "stream",
     "text": [
      "Train/Epoch 92/150: 104img [00:08, 12.75img/s]\n",
      "Eval/Epoch 92/150: 27img [00:02,  9.49img/s]\n"
     ]
    },
    {
     "name": "stdout",
     "output_type": "stream",
     "text": [
      "\"\n",
      "        Epoch: 92, \n",
      "        Average Train Loss: 0.0466 \n",
      "        Average Test Loss: 0.0409 \n",
      "        Average Test mIoU: 88.77\n",
      "        Average Test Accuracy: 98.72691345214844 %\n"
     ]
    },
    {
     "name": "stderr",
     "output_type": "stream",
     "text": [
      "Train/Epoch 93/150: 104img [00:08, 12.75img/s]\n",
      "Eval/Epoch 93/150: 27img [00:02,  9.54img/s]\n"
     ]
    },
    {
     "name": "stdout",
     "output_type": "stream",
     "text": [
      "\"\n",
      "        Epoch: 93, \n",
      "        Average Train Loss: 0.0356 \n",
      "        Average Test Loss: 0.0459 \n",
      "        Average Test mIoU: 88.88\n",
      "        Average Test Accuracy: 98.84707641601562 %\n"
     ]
    },
    {
     "name": "stderr",
     "output_type": "stream",
     "text": [
      "Train/Epoch 94/150: 104img [00:08, 12.82img/s]\n",
      "Eval/Epoch 94/150: 27img [00:02,  9.44img/s]\n"
     ]
    },
    {
     "name": "stdout",
     "output_type": "stream",
     "text": [
      "\"\n",
      "        Epoch: 94, \n",
      "        Average Train Loss: 0.0318 \n",
      "        Average Test Loss: 0.0507 \n",
      "        Average Test mIoU: 89.00\n",
      "        Average Test Accuracy: 99.07061767578125 %\n"
     ]
    },
    {
     "name": "stderr",
     "output_type": "stream",
     "text": [
      "Train/Epoch 95/150: 104img [00:08, 12.92img/s]\n",
      "Eval/Epoch 95/150: 27img [00:02,  9.39img/s]\n"
     ]
    },
    {
     "name": "stdout",
     "output_type": "stream",
     "text": [
      "\"\n",
      "        Epoch: 95, \n",
      "        Average Train Loss: 0.0371 \n",
      "        Average Test Loss: 0.0514 \n",
      "        Average Test mIoU: 89.13\n",
      "        Average Test Accuracy: 99.02496337890625 %\n"
     ]
    },
    {
     "name": "stderr",
     "output_type": "stream",
     "text": [
      "Train/Epoch 96/150: 104img [00:08, 12.77img/s]\n",
      "Eval/Epoch 96/150: 27img [00:02,  9.39img/s]\n"
     ]
    },
    {
     "name": "stdout",
     "output_type": "stream",
     "text": [
      "\"\n",
      "        Epoch: 96, \n",
      "        Average Train Loss: 0.0391 \n",
      "        Average Test Loss: 0.0260 \n",
      "        Average Test mIoU: 91.50\n",
      "        Average Test Accuracy: 98.92858123779297 %\n"
     ]
    },
    {
     "name": "stderr",
     "output_type": "stream",
     "text": [
      "Train/Epoch 97/150: 104img [00:08, 12.79img/s]\n",
      "Eval/Epoch 97/150: 27img [00:02,  9.44img/s]\n"
     ]
    },
    {
     "name": "stdout",
     "output_type": "stream",
     "text": [
      "\"\n",
      "        Epoch: 97, \n",
      "        Average Train Loss: 0.0599 \n",
      "        Average Test Loss: 0.0432 \n",
      "        Average Test mIoU: 88.99\n",
      "        Average Test Accuracy: 99.01441192626953 %\n"
     ]
    },
    {
     "name": "stderr",
     "output_type": "stream",
     "text": [
      "Train/Epoch 98/150: 104img [00:08, 12.67img/s]\n",
      "Eval/Epoch 98/150: 27img [00:02,  9.49img/s]\n"
     ]
    },
    {
     "name": "stdout",
     "output_type": "stream",
     "text": [
      "\"\n",
      "        Epoch: 98, \n",
      "        Average Train Loss: 0.0357 \n",
      "        Average Test Loss: 0.0326 \n",
      "        Average Test mIoU: 89.53\n",
      "        Average Test Accuracy: 98.89844512939453 %\n"
     ]
    },
    {
     "name": "stderr",
     "output_type": "stream",
     "text": [
      "Train/Epoch 99/150: 104img [00:08, 12.67img/s]\n",
      "Eval/Epoch 99/150: 27img [00:02,  9.59img/s]\n"
     ]
    },
    {
     "name": "stdout",
     "output_type": "stream",
     "text": [
      "\"\n",
      "        Epoch: 99, \n",
      "        Average Train Loss: 0.0413 \n",
      "        Average Test Loss: 0.0307 \n",
      "        Average Test mIoU: 90.95\n",
      "        Average Test Accuracy: 99.02928924560547 %\n"
     ]
    },
    {
     "name": "stderr",
     "output_type": "stream",
     "text": [
      "Train/Epoch 100/150: 104img [00:08, 12.85img/s]\n",
      "Eval/Epoch 100/150: 27img [00:02,  9.44img/s]\n"
     ]
    },
    {
     "name": "stdout",
     "output_type": "stream",
     "text": [
      "\"\n",
      "        Epoch: 100, \n",
      "        Average Train Loss: 0.0330 \n",
      "        Average Test Loss: 0.0322 \n",
      "        Average Test mIoU: 91.14\n",
      "        Average Test Accuracy: 98.94879913330078 %\n"
     ]
    },
    {
     "name": "stderr",
     "output_type": "stream",
     "text": [
      "Train/Epoch 101/150: 104img [00:08, 12.72img/s]\n",
      "Eval/Epoch 101/150: 27img [00:02,  9.59img/s]\n"
     ]
    },
    {
     "name": "stdout",
     "output_type": "stream",
     "text": [
      "\"\n",
      "        Epoch: 101, \n",
      "        Average Train Loss: 0.0347 \n",
      "        Average Test Loss: 0.0337 \n",
      "        Average Test mIoU: 90.40\n",
      "        Average Test Accuracy: 98.61615753173828 %\n"
     ]
    },
    {
     "name": "stderr",
     "output_type": "stream",
     "text": [
      "Train/Epoch 102/150: 104img [00:08, 12.75img/s]\n",
      "Eval/Epoch 102/150: 27img [00:02,  9.49img/s]\n"
     ]
    },
    {
     "name": "stdout",
     "output_type": "stream",
     "text": [
      "\"\n",
      "        Epoch: 102, \n",
      "        Average Train Loss: 0.0350 \n",
      "        Average Test Loss: 0.0403 \n",
      "        Average Test mIoU: 88.55\n",
      "        Average Test Accuracy: 98.39363098144531 %\n"
     ]
    },
    {
     "name": "stderr",
     "output_type": "stream",
     "text": [
      "Train/Epoch 103/150: 104img [00:08, 12.87img/s]\n",
      "Eval/Epoch 103/150: 27img [00:02,  9.39img/s]\n"
     ]
    },
    {
     "name": "stdout",
     "output_type": "stream",
     "text": [
      "\"\n",
      "        Epoch: 103, \n",
      "        Average Train Loss: 0.0521 \n",
      "        Average Test Loss: 0.0484 \n",
      "        Average Test mIoU: 84.91\n",
      "        Average Test Accuracy: 96.40007019042969 %\n"
     ]
    },
    {
     "name": "stderr",
     "output_type": "stream",
     "text": [
      "Train/Epoch 104/150: 104img [00:08, 12.80img/s]\n",
      "Eval/Epoch 104/150: 27img [00:02,  9.44img/s]\n"
     ]
    },
    {
     "name": "stdout",
     "output_type": "stream",
     "text": [
      "\"\n",
      "        Epoch: 104, \n",
      "        Average Train Loss: 0.0751 \n",
      "        Average Test Loss: 0.0339 \n",
      "        Average Test mIoU: 89.97\n",
      "        Average Test Accuracy: 98.15343475341797 %\n"
     ]
    },
    {
     "name": "stderr",
     "output_type": "stream",
     "text": [
      "Train/Epoch 105/150: 104img [00:08, 12.74img/s]\n",
      "Eval/Epoch 105/150: 27img [00:02,  9.44img/s]\n"
     ]
    },
    {
     "name": "stdout",
     "output_type": "stream",
     "text": [
      "\"\n",
      "        Epoch: 105, \n",
      "        Average Train Loss: 0.0590 \n",
      "        Average Test Loss: 0.0584 \n",
      "        Average Test mIoU: 77.32\n",
      "        Average Test Accuracy: 94.89326477050781 %\n"
     ]
    },
    {
     "name": "stderr",
     "output_type": "stream",
     "text": [
      "Train/Epoch 106/150: 104img [00:07, 13.02img/s]\n",
      "Eval/Epoch 106/150: 27img [00:02,  9.60img/s]\n"
     ]
    },
    {
     "name": "stdout",
     "output_type": "stream",
     "text": [
      "\"\n",
      "        Epoch: 106, \n",
      "        Average Train Loss: 0.0389 \n",
      "        Average Test Loss: 0.0304 \n",
      "        Average Test mIoU: 90.29\n",
      "        Average Test Accuracy: 98.96495056152344 %\n"
     ]
    },
    {
     "name": "stderr",
     "output_type": "stream",
     "text": [
      "Train/Epoch 107/150: 104img [00:08, 12.97img/s]\n",
      "Eval/Epoch 107/150: 27img [00:02,  9.44img/s]\n"
     ]
    },
    {
     "name": "stdout",
     "output_type": "stream",
     "text": [
      "\"\n",
      "        Epoch: 107, \n",
      "        Average Train Loss: 0.0343 \n",
      "        Average Test Loss: 0.0321 \n",
      "        Average Test mIoU: 90.65\n",
      "        Average Test Accuracy: 98.51863098144531 %\n"
     ]
    },
    {
     "name": "stderr",
     "output_type": "stream",
     "text": [
      "Train/Epoch 108/150: 104img [00:08, 12.77img/s]\n",
      "Eval/Epoch 108/150: 27img [00:02,  9.49img/s]\n"
     ]
    },
    {
     "name": "stdout",
     "output_type": "stream",
     "text": [
      "\"\n",
      "        Epoch: 108, \n",
      "        Average Train Loss: 0.0466 \n",
      "        Average Test Loss: 0.0487 \n",
      "        Average Test mIoU: 87.22\n",
      "        Average Test Accuracy: 97.41783142089844 %\n"
     ]
    },
    {
     "name": "stderr",
     "output_type": "stream",
     "text": [
      "Train/Epoch 109/150: 104img [00:08, 12.80img/s]\n",
      "Eval/Epoch 109/150: 27img [00:02,  9.65img/s]\n"
     ]
    },
    {
     "name": "stdout",
     "output_type": "stream",
     "text": [
      "\"\n",
      "        Epoch: 109, \n",
      "        Average Train Loss: 0.0507 \n",
      "        Average Test Loss: 0.0359 \n",
      "        Average Test mIoU: 89.97\n",
      "        Average Test Accuracy: 99.02776336669922 %\n"
     ]
    },
    {
     "name": "stderr",
     "output_type": "stream",
     "text": [
      "Train/Epoch 110/150: 104img [00:08, 12.94img/s]\n",
      "Eval/Epoch 110/150: 27img [00:02,  9.49img/s]\n"
     ]
    },
    {
     "name": "stdout",
     "output_type": "stream",
     "text": [
      "\"\n",
      "        Epoch: 110, \n",
      "        Average Train Loss: 0.0460 \n",
      "        Average Test Loss: 0.0271 \n",
      "        Average Test mIoU: 90.75\n",
      "        Average Test Accuracy: 98.98770904541016 %\n"
     ]
    },
    {
     "name": "stderr",
     "output_type": "stream",
     "text": [
      "Train/Epoch 111/150: 104img [00:08, 12.70img/s]\n",
      "Eval/Epoch 111/150: 27img [00:02,  9.39img/s]\n"
     ]
    },
    {
     "name": "stdout",
     "output_type": "stream",
     "text": [
      "\"\n",
      "        Epoch: 111, \n",
      "        Average Train Loss: 0.0342 \n",
      "        Average Test Loss: 0.0261 \n",
      "        Average Test mIoU: 92.04\n",
      "        Average Test Accuracy: 99.15008544921875 %\n",
      "Checkpoint: pretrained_best is saved successfully\n"
     ]
    },
    {
     "name": "stderr",
     "output_type": "stream",
     "text": [
      "Train/Epoch 112/150: 104img [00:08, 12.82img/s]\n",
      "Eval/Epoch 112/150: 27img [00:02,  9.38img/s]\n"
     ]
    },
    {
     "name": "stdout",
     "output_type": "stream",
     "text": [
      "\"\n",
      "        Epoch: 112, \n",
      "        Average Train Loss: 0.0345 \n",
      "        Average Test Loss: 0.0264 \n",
      "        Average Test mIoU: 91.04\n",
      "        Average Test Accuracy: 98.89781188964844 %\n"
     ]
    },
    {
     "name": "stderr",
     "output_type": "stream",
     "text": [
      "Train/Epoch 113/150: 104img [00:08, 12.92img/s]\n",
      "Eval/Epoch 113/150: 27img [00:02,  9.49img/s]\n"
     ]
    },
    {
     "name": "stdout",
     "output_type": "stream",
     "text": [
      "\"\n",
      "        Epoch: 113, \n",
      "        Average Train Loss: 0.0380 \n",
      "        Average Test Loss: 0.0290 \n",
      "        Average Test mIoU: 91.07\n",
      "        Average Test Accuracy: 99.15263366699219 %\n"
     ]
    },
    {
     "name": "stderr",
     "output_type": "stream",
     "text": [
      "Train/Epoch 114/150: 104img [00:08, 12.94img/s]\n",
      "Eval/Epoch 114/150: 27img [00:02,  9.49img/s]\n"
     ]
    },
    {
     "name": "stdout",
     "output_type": "stream",
     "text": [
      "\"\n",
      "        Epoch: 114, \n",
      "        Average Train Loss: 0.0386 \n",
      "        Average Test Loss: 0.0281 \n",
      "        Average Test mIoU: 90.82\n",
      "        Average Test Accuracy: 97.7720947265625 %\n"
     ]
    },
    {
     "name": "stderr",
     "output_type": "stream",
     "text": [
      "Train/Epoch 115/150: 104img [00:08, 13.00img/s]\n",
      "Eval/Epoch 115/150: 27img [00:02,  9.60img/s]\n"
     ]
    },
    {
     "name": "stdout",
     "output_type": "stream",
     "text": [
      "\"\n",
      "        Epoch: 115, \n",
      "        Average Train Loss: 0.0391 \n",
      "        Average Test Loss: 0.0260 \n",
      "        Average Test mIoU: 91.89\n",
      "        Average Test Accuracy: 98.38460540771484 %\n"
     ]
    },
    {
     "name": "stderr",
     "output_type": "stream",
     "text": [
      "Train/Epoch 116/150: 104img [00:08, 12.89img/s]\n",
      "Eval/Epoch 116/150: 27img [00:02,  9.39img/s]\n"
     ]
    },
    {
     "name": "stdout",
     "output_type": "stream",
     "text": [
      "\"\n",
      "        Epoch: 116, \n",
      "        Average Train Loss: 0.0286 \n",
      "        Average Test Loss: 0.0264 \n",
      "        Average Test mIoU: 92.06\n",
      "        Average Test Accuracy: 99.11041259765625 %\n",
      "Checkpoint: pretrained_best is saved successfully\n"
     ]
    },
    {
     "name": "stderr",
     "output_type": "stream",
     "text": [
      "Train/Epoch 117/150: 104img [00:08, 12.89img/s]\n",
      "Eval/Epoch 117/150: 27img [00:02,  9.44img/s]\n"
     ]
    },
    {
     "name": "stdout",
     "output_type": "stream",
     "text": [
      "\"\n",
      "        Epoch: 117, \n",
      "        Average Train Loss: 0.0401 \n",
      "        Average Test Loss: 0.0269 \n",
      "        Average Test mIoU: 91.15\n",
      "        Average Test Accuracy: 98.45123291015625 %\n"
     ]
    },
    {
     "name": "stderr",
     "output_type": "stream",
     "text": [
      "Train/Epoch 118/150: 104img [00:08, 12.74img/s]\n",
      "Eval/Epoch 118/150: 27img [00:02,  9.44img/s]\n"
     ]
    },
    {
     "name": "stdout",
     "output_type": "stream",
     "text": [
      "\"\n",
      "        Epoch: 118, \n",
      "        Average Train Loss: 0.0301 \n",
      "        Average Test Loss: 0.0265 \n",
      "        Average Test mIoU: 92.04\n",
      "        Average Test Accuracy: 98.52994537353516 %\n"
     ]
    },
    {
     "name": "stderr",
     "output_type": "stream",
     "text": [
      "Train/Epoch 119/150: 104img [00:08, 12.75img/s]\n",
      "Eval/Epoch 119/150: 27img [00:02,  9.49img/s]\n"
     ]
    },
    {
     "name": "stdout",
     "output_type": "stream",
     "text": [
      "\"\n",
      "        Epoch: 119, \n",
      "        Average Train Loss: 0.0361 \n",
      "        Average Test Loss: 0.0273 \n",
      "        Average Test mIoU: 91.50\n",
      "        Average Test Accuracy: 99.0167007446289 %\n"
     ]
    },
    {
     "name": "stderr",
     "output_type": "stream",
     "text": [
      "Train/Epoch 120/150: 104img [00:08, 12.34img/s]\n",
      "Eval/Epoch 120/150: 27img [00:02,  9.39img/s]\n"
     ]
    },
    {
     "name": "stdout",
     "output_type": "stream",
     "text": [
      "\"\n",
      "        Epoch: 120, \n",
      "        Average Train Loss: 0.0344 \n",
      "        Average Test Loss: 0.0271 \n",
      "        Average Test mIoU: 91.68\n",
      "        Average Test Accuracy: 99.20819854736328 %\n"
     ]
    },
    {
     "name": "stderr",
     "output_type": "stream",
     "text": [
      "Train/Epoch 121/150: 104img [00:08, 12.30img/s]\n",
      "Eval/Epoch 121/150: 27img [00:02,  9.04img/s]\n"
     ]
    },
    {
     "name": "stdout",
     "output_type": "stream",
     "text": [
      "\"\n",
      "        Epoch: 121, \n",
      "        Average Train Loss: 0.0295 \n",
      "        Average Test Loss: 0.0242 \n",
      "        Average Test mIoU: 91.71\n",
      "        Average Test Accuracy: 98.45708465576172 %\n"
     ]
    },
    {
     "name": "stderr",
     "output_type": "stream",
     "text": [
      "Train/Epoch 122/150: 104img [00:08, 12.77img/s]\n",
      "Eval/Epoch 122/150: 27img [00:02,  9.39img/s]\n"
     ]
    },
    {
     "name": "stdout",
     "output_type": "stream",
     "text": [
      "\"\n",
      "        Epoch: 122, \n",
      "        Average Train Loss: 0.0323 \n",
      "        Average Test Loss: 0.0286 \n",
      "        Average Test mIoU: 91.44\n",
      "        Average Test Accuracy: 98.67770385742188 %\n"
     ]
    },
    {
     "name": "stderr",
     "output_type": "stream",
     "text": [
      "Train/Epoch 123/150: 104img [00:08, 12.39img/s]\n",
      "Eval/Epoch 123/150: 27img [00:02,  9.57img/s]\n"
     ]
    },
    {
     "name": "stdout",
     "output_type": "stream",
     "text": [
      "\"\n",
      "        Epoch: 123, \n",
      "        Average Train Loss: 0.0297 \n",
      "        Average Test Loss: 0.0263 \n",
      "        Average Test mIoU: 91.74\n",
      "        Average Test Accuracy: 98.72843933105469 %\n"
     ]
    },
    {
     "name": "stderr",
     "output_type": "stream",
     "text": [
      "Train/Epoch 124/150: 104img [00:08, 12.60img/s]\n",
      "Eval/Epoch 124/150: 27img [00:02,  9.35img/s]\n"
     ]
    },
    {
     "name": "stdout",
     "output_type": "stream",
     "text": [
      "\"\n",
      "        Epoch: 124, \n",
      "        Average Train Loss: 0.0269 \n",
      "        Average Test Loss: 0.0271 \n",
      "        Average Test mIoU: 91.70\n",
      "        Average Test Accuracy: 98.80778503417969 %\n"
     ]
    },
    {
     "name": "stderr",
     "output_type": "stream",
     "text": [
      "Train/Epoch 125/150: 104img [00:08, 12.83img/s]\n",
      "Eval/Epoch 125/150: 27img [00:02,  9.39img/s]\n"
     ]
    },
    {
     "name": "stdout",
     "output_type": "stream",
     "text": [
      "\"\n",
      "        Epoch: 125, \n",
      "        Average Train Loss: 0.0273 \n",
      "        Average Test Loss: 0.0254 \n",
      "        Average Test mIoU: 92.54\n",
      "        Average Test Accuracy: 99.21481323242188 %\n",
      "Checkpoint: pretrained_best is saved successfully\n"
     ]
    },
    {
     "name": "stderr",
     "output_type": "stream",
     "text": [
      "Train/Epoch 126/150: 104img [00:08, 12.58img/s]\n",
      "Eval/Epoch 126/150: 27img [00:02,  9.63img/s]\n"
     ]
    },
    {
     "name": "stdout",
     "output_type": "stream",
     "text": [
      "\"\n",
      "        Epoch: 126, \n",
      "        Average Train Loss: 0.0282 \n",
      "        Average Test Loss: 0.0260 \n",
      "        Average Test mIoU: 91.74\n",
      "        Average Test Accuracy: 99.12681579589844 %\n"
     ]
    },
    {
     "name": "stderr",
     "output_type": "stream",
     "text": [
      "Train/Epoch 127/150: 104img [00:08, 12.98img/s]\n",
      "Eval/Epoch 127/150: 27img [00:02,  9.47img/s]\n"
     ]
    },
    {
     "name": "stdout",
     "output_type": "stream",
     "text": [
      "\"\n",
      "        Epoch: 127, \n",
      "        Average Train Loss: 0.0251 \n",
      "        Average Test Loss: 0.0318 \n",
      "        Average Test mIoU: 90.73\n",
      "        Average Test Accuracy: 98.97029113769531 %\n"
     ]
    },
    {
     "name": "stderr",
     "output_type": "stream",
     "text": [
      "Train/Epoch 128/150: 104img [00:08, 12.60img/s]\n",
      "Eval/Epoch 128/150: 27img [00:02,  9.60img/s]\n"
     ]
    },
    {
     "name": "stdout",
     "output_type": "stream",
     "text": [
      "\"\n",
      "        Epoch: 128, \n",
      "        Average Train Loss: 0.0268 \n",
      "        Average Test Loss: 0.0312 \n",
      "        Average Test mIoU: 91.60\n",
      "        Average Test Accuracy: 99.21430206298828 %\n"
     ]
    },
    {
     "name": "stderr",
     "output_type": "stream",
     "text": [
      "Train/Epoch 129/150: 104img [00:08, 12.61img/s]\n",
      "Eval/Epoch 129/150: 27img [00:02,  9.51img/s]\n"
     ]
    },
    {
     "name": "stdout",
     "output_type": "stream",
     "text": [
      "\"\n",
      "        Epoch: 129, \n",
      "        Average Train Loss: 0.0233 \n",
      "        Average Test Loss: 0.0343 \n",
      "        Average Test mIoU: 91.09\n",
      "        Average Test Accuracy: 98.45059967041016 %\n"
     ]
    },
    {
     "name": "stderr",
     "output_type": "stream",
     "text": [
      "Train/Epoch 130/150: 104img [00:08, 12.74img/s]\n",
      "Eval/Epoch 130/150: 27img [00:02,  9.40img/s]\n"
     ]
    },
    {
     "name": "stdout",
     "output_type": "stream",
     "text": [
      "\"\n",
      "        Epoch: 130, \n",
      "        Average Train Loss: 0.0291 \n",
      "        Average Test Loss: 0.0341 \n",
      "        Average Test mIoU: 91.66\n",
      "        Average Test Accuracy: 99.005126953125 %\n"
     ]
    },
    {
     "name": "stderr",
     "output_type": "stream",
     "text": [
      "Train/Epoch 131/150: 104img [00:08, 12.60img/s]\n",
      "Eval/Epoch 131/150: 27img [00:02,  9.43img/s]\n"
     ]
    },
    {
     "name": "stdout",
     "output_type": "stream",
     "text": [
      "\"\n",
      "        Epoch: 131, \n",
      "        Average Train Loss: 0.0327 \n",
      "        Average Test Loss: 0.0319 \n",
      "        Average Test mIoU: 90.92\n",
      "        Average Test Accuracy: 98.39923095703125 %\n"
     ]
    },
    {
     "name": "stderr",
     "output_type": "stream",
     "text": [
      "Train/Epoch 132/150: 104img [00:08, 12.47img/s]\n",
      "Eval/Epoch 132/150: 27img [00:02,  9.38img/s]\n"
     ]
    },
    {
     "name": "stdout",
     "output_type": "stream",
     "text": [
      "\"\n",
      "        Epoch: 132, \n",
      "        Average Train Loss: 0.0337 \n",
      "        Average Test Loss: 0.0317 \n",
      "        Average Test mIoU: 91.58\n",
      "        Average Test Accuracy: 98.50718688964844 %\n"
     ]
    },
    {
     "name": "stderr",
     "output_type": "stream",
     "text": [
      "Train/Epoch 133/150: 104img [00:08, 12.70img/s]\n",
      "Eval/Epoch 133/150: 27img [00:02,  9.53img/s]\n"
     ]
    },
    {
     "name": "stdout",
     "output_type": "stream",
     "text": [
      "\"\n",
      "        Epoch: 133, \n",
      "        Average Train Loss: 0.0273 \n",
      "        Average Test Loss: 0.0364 \n",
      "        Average Test mIoU: 90.57\n",
      "        Average Test Accuracy: 98.6754150390625 %\n"
     ]
    },
    {
     "name": "stderr",
     "output_type": "stream",
     "text": [
      "Train/Epoch 134/150: 104img [00:08, 12.73img/s]\n",
      "Eval/Epoch 134/150: 27img [00:02,  9.62img/s]\n"
     ]
    },
    {
     "name": "stdout",
     "output_type": "stream",
     "text": [
      "\"\n",
      "        Epoch: 134, \n",
      "        Average Train Loss: 0.0322 \n",
      "        Average Test Loss: 0.0414 \n",
      "        Average Test mIoU: 90.44\n",
      "        Average Test Accuracy: 99.26567077636719 %\n"
     ]
    },
    {
     "name": "stderr",
     "output_type": "stream",
     "text": [
      "Train/Epoch 135/150: 104img [00:08, 12.83img/s]\n",
      "Eval/Epoch 135/150: 27img [00:02,  9.45img/s]\n"
     ]
    },
    {
     "name": "stdout",
     "output_type": "stream",
     "text": [
      "\"\n",
      "        Epoch: 135, \n",
      "        Average Train Loss: 0.0273 \n",
      "        Average Test Loss: 0.0300 \n",
      "        Average Test mIoU: 92.01\n",
      "        Average Test Accuracy: 99.19955444335938 %\n"
     ]
    },
    {
     "name": "stderr",
     "output_type": "stream",
     "text": [
      "Train/Epoch 136/150: 104img [00:08, 12.79img/s]\n",
      "Eval/Epoch 136/150: 27img [00:02,  9.53img/s]\n"
     ]
    },
    {
     "name": "stdout",
     "output_type": "stream",
     "text": [
      "\"\n",
      "        Epoch: 136, \n",
      "        Average Train Loss: 0.0256 \n",
      "        Average Test Loss: 0.0311 \n",
      "        Average Test mIoU: 91.43\n",
      "        Average Test Accuracy: 99.23579406738281 %\n"
     ]
    },
    {
     "name": "stderr",
     "output_type": "stream",
     "text": [
      "Train/Epoch 137/150: 104img [00:08, 12.82img/s]\n",
      "Eval/Epoch 137/150: 27img [00:02,  9.46img/s]\n"
     ]
    },
    {
     "name": "stdout",
     "output_type": "stream",
     "text": [
      "\"\n",
      "        Epoch: 137, \n",
      "        Average Train Loss: 0.0282 \n",
      "        Average Test Loss: 0.0309 \n",
      "        Average Test mIoU: 92.46\n",
      "        Average Test Accuracy: 99.29212188720703 %\n"
     ]
    },
    {
     "name": "stderr",
     "output_type": "stream",
     "text": [
      "Train/Epoch 138/150: 104img [00:08, 12.75img/s]\n",
      "Eval/Epoch 138/150: 27img [00:02,  9.50img/s]\n"
     ]
    },
    {
     "name": "stdout",
     "output_type": "stream",
     "text": [
      "\"\n",
      "        Epoch: 138, \n",
      "        Average Train Loss: 0.0255 \n",
      "        Average Test Loss: 0.0315 \n",
      "        Average Test mIoU: 91.88\n",
      "        Average Test Accuracy: 98.65061950683594 %\n"
     ]
    },
    {
     "name": "stderr",
     "output_type": "stream",
     "text": [
      "Train/Epoch 139/150: 104img [00:08, 12.63img/s]\n",
      "Eval/Epoch 139/150: 27img [00:02,  9.49img/s]\n"
     ]
    },
    {
     "name": "stdout",
     "output_type": "stream",
     "text": [
      "\"\n",
      "        Epoch: 139, \n",
      "        Average Train Loss: 0.0251 \n",
      "        Average Test Loss: 0.0321 \n",
      "        Average Test mIoU: 91.96\n",
      "        Average Test Accuracy: 98.87492370605469 %\n"
     ]
    },
    {
     "name": "stderr",
     "output_type": "stream",
     "text": [
      "Train/Epoch 140/150: 104img [00:08, 12.74img/s]\n",
      "Eval/Epoch 140/150: 27img [00:02,  9.47img/s]\n"
     ]
    },
    {
     "name": "stdout",
     "output_type": "stream",
     "text": [
      "\"\n",
      "        Epoch: 140, \n",
      "        Average Train Loss: 0.0266 \n",
      "        Average Test Loss: 0.0332 \n",
      "        Average Test mIoU: 91.79\n",
      "        Average Test Accuracy: 99.29530334472656 %\n"
     ]
    },
    {
     "name": "stderr",
     "output_type": "stream",
     "text": [
      "Train/Epoch 141/150: 104img [00:08, 12.59img/s]\n",
      "Eval/Epoch 141/150: 27img [00:02,  9.39img/s]\n"
     ]
    },
    {
     "name": "stdout",
     "output_type": "stream",
     "text": [
      "\"\n",
      "        Epoch: 141, \n",
      "        Average Train Loss: 0.0232 \n",
      "        Average Test Loss: 0.0314 \n",
      "        Average Test mIoU: 91.09\n",
      "        Average Test Accuracy: 98.51303100585938 %\n"
     ]
    },
    {
     "name": "stderr",
     "output_type": "stream",
     "text": [
      "Train/Epoch 142/150: 104img [00:08, 12.64img/s]\n",
      "Eval/Epoch 142/150: 27img [00:02,  9.49img/s]\n"
     ]
    },
    {
     "name": "stdout",
     "output_type": "stream",
     "text": [
      "\"\n",
      "        Epoch: 142, \n",
      "        Average Train Loss: 0.0250 \n",
      "        Average Test Loss: 0.0277 \n",
      "        Average Test mIoU: 91.91\n",
      "        Average Test Accuracy: 98.5198974609375 %\n"
     ]
    },
    {
     "name": "stderr",
     "output_type": "stream",
     "text": [
      "Train/Epoch 143/150: 104img [00:08, 12.72img/s]\n",
      "Eval/Epoch 143/150: 27img [00:02,  9.55img/s]\n"
     ]
    },
    {
     "name": "stdout",
     "output_type": "stream",
     "text": [
      "\"\n",
      "        Epoch: 143, \n",
      "        Average Train Loss: 0.0265 \n",
      "        Average Test Loss: 0.0291 \n",
      "        Average Test mIoU: 90.57\n",
      "        Average Test Accuracy: 98.0626449584961 %\n"
     ]
    },
    {
     "name": "stderr",
     "output_type": "stream",
     "text": [
      "Train/Epoch 144/150: 104img [00:08, 12.81img/s]\n",
      "Eval/Epoch 144/150: 27img [00:02,  9.46img/s]\n"
     ]
    },
    {
     "name": "stdout",
     "output_type": "stream",
     "text": [
      "\"\n",
      "        Epoch: 144, \n",
      "        Average Train Loss: 0.0482 \n",
      "        Average Test Loss: 0.0279 \n",
      "        Average Test mIoU: 90.90\n",
      "        Average Test Accuracy: 98.25553894042969 %\n"
     ]
    },
    {
     "name": "stderr",
     "output_type": "stream",
     "text": [
      "Train/Epoch 145/150: 104img [00:08, 12.68img/s]\n",
      "Eval/Epoch 145/150: 27img [00:02,  9.60img/s]\n"
     ]
    },
    {
     "name": "stdout",
     "output_type": "stream",
     "text": [
      "\"\n",
      "        Epoch: 145, \n",
      "        Average Train Loss: 0.0251 \n",
      "        Average Test Loss: 0.0280 \n",
      "        Average Test mIoU: 91.64\n",
      "        Average Test Accuracy: 98.81999206542969 %\n"
     ]
    },
    {
     "name": "stderr",
     "output_type": "stream",
     "text": [
      "Train/Epoch 146/150: 104img [00:08, 12.86img/s]\n",
      "Eval/Epoch 146/150: 27img [00:02,  9.47img/s]\n"
     ]
    },
    {
     "name": "stdout",
     "output_type": "stream",
     "text": [
      "\"\n",
      "        Epoch: 146, \n",
      "        Average Train Loss: 0.0285 \n",
      "        Average Test Loss: 0.0295 \n",
      "        Average Test mIoU: 91.42\n",
      "        Average Test Accuracy: 98.41575622558594 %\n"
     ]
    },
    {
     "name": "stderr",
     "output_type": "stream",
     "text": [
      "Train/Epoch 147/150: 104img [00:08, 12.77img/s]\n",
      "Eval/Epoch 147/150: 27img [00:02,  9.49img/s]\n"
     ]
    },
    {
     "name": "stdout",
     "output_type": "stream",
     "text": [
      "\"\n",
      "        Epoch: 147, \n",
      "        Average Train Loss: 0.0282 \n",
      "        Average Test Loss: 0.0286 \n",
      "        Average Test mIoU: 91.84\n",
      "        Average Test Accuracy: 98.86029815673828 %\n"
     ]
    },
    {
     "name": "stderr",
     "output_type": "stream",
     "text": [
      "Train/Epoch 148/150: 104img [00:08, 12.53img/s]\n",
      "Eval/Epoch 148/150: 27img [00:02,  9.39img/s]\n"
     ]
    },
    {
     "name": "stdout",
     "output_type": "stream",
     "text": [
      "\"\n",
      "        Epoch: 148, \n",
      "        Average Train Loss: 0.0256 \n",
      "        Average Test Loss: 0.0308 \n",
      "        Average Test mIoU: 91.21\n",
      "        Average Test Accuracy: 98.46166229248047 %\n"
     ]
    },
    {
     "name": "stderr",
     "output_type": "stream",
     "text": [
      "Train/Epoch 149/150: 104img [00:08, 12.71img/s]\n",
      "Eval/Epoch 149/150: 27img [00:02,  9.57img/s]\n"
     ]
    },
    {
     "name": "stdout",
     "output_type": "stream",
     "text": [
      "\"\n",
      "        Epoch: 149, \n",
      "        Average Train Loss: 0.0243 \n",
      "        Average Test Loss: 0.0263 \n",
      "        Average Test mIoU: 92.31\n",
      "        Average Test Accuracy: 99.0483627319336 %\n"
     ]
    },
    {
     "name": "stderr",
     "output_type": "stream",
     "text": [
      "Train/Epoch 150/150: 104img [00:08, 12.80img/s]\n",
      "Eval/Epoch 150/150: 27img [00:02,  9.44img/s]\n"
     ]
    },
    {
     "name": "stdout",
     "output_type": "stream",
     "text": [
      "\"\n",
      "        Epoch: 150, \n",
      "        Average Train Loss: 0.0266 \n",
      "        Average Test Loss: 0.0260 \n",
      "        Average Test mIoU: 92.56\n",
      "        Average Test Accuracy: 98.907470703125 %\n",
      "Checkpoint: pretrained_best is saved successfully\n"
     ]
    }
   ],
   "source": [
    "model_train_start()"
   ]
  },
  {
   "cell_type": "code",
   "execution_count": 8,
   "id": "9ec2fba6-9d96-4194-908c-cf906189d9ce",
   "metadata": {
    "scrolled": true
   },
   "outputs": [
    {
     "name": "stdout",
     "output_type": "stream",
     "text": [
      "\n",
      "    Best of Model:\n",
      "        - Epoch Number: 150\n",
      "        - Evaluation Loss: 0.026023736456409097\n",
      "        - Evaluation mIoU: 92.55599212646484\n",
      "        - Evaluation Accuracy: 98.907470703125\n",
      "    \n"
     ]
    }
   ],
   "source": [
    "print(\n",
    "    f\"\"\"\n",
    "    Best of Model:\n",
    "        - Epoch Number: {best_model['best_epoch']}\n",
    "        - Evaluation Loss: {best_model['best_eval_loss']}\n",
    "        - Evaluation mIoU: {best_model['best_eval_miou']}\n",
    "        - Evaluation Accuracy: {best_model['best_eval_acc']}\n",
    "    \"\"\"\n",
    ")"
   ]
  }
 ],
 "metadata": {
  "kernelspec": {
   "display_name": "Python 3 (ipykernel)",
   "language": "python",
   "name": "python3"
  },
  "language_info": {
   "codemirror_mode": {
    "name": "ipython",
    "version": 3
   },
   "file_extension": ".py",
   "mimetype": "text/x-python",
   "name": "python",
   "nbconvert_exporter": "python",
   "pygments_lexer": "ipython3",
   "version": "3.10.12"
  }
 },
 "nbformat": 4,
 "nbformat_minor": 5
}
