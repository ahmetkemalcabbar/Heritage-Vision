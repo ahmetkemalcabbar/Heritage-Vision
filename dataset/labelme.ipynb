{
 "cells": [
  {
   "cell_type": "markdown",
   "id": "f5dcdea6-da02-4a98-9722-5b4318cac943",
   "metadata": {
    "tags": []
   },
   "source": [
    "# Extract Plan Images and Masks from JSON format to JPG "
   ]
  },
  {
   "cell_type": "code",
   "execution_count": 1,
   "id": "17b427ae-b11c-4b2e-a548-44daa455d725",
   "metadata": {
    "tags": []
   },
   "outputs": [],
   "source": [
    "import json\n",
    "import base64\n",
    "from io import BytesIO\n",
    "from PIL import Image\n",
    "import matplotlib.pyplot as plt\n",
    "import cv2\n",
    "import os\n",
    "import numpy as np"
   ]
  },
  {
   "cell_type": "code",
   "execution_count": 2,
   "id": "7a4f4804-6b4d-4486-9664-bc3493a4219b",
   "metadata": {
    "tags": []
   },
   "outputs": [],
   "source": [
    "#LABELFORM\n",
    "\n",
    "def JSONtoJPG(folder_name):\n",
    "    # Train input is boolean\n",
    "    \n",
    "    # Folder paths (update as needed)\n",
    "    folder_path = './' + folder_name\n",
    "    \n",
    "    output_folder = 'Data'\n",
    "\n",
    "    # Create the output folder if it doesn't exist\n",
    "    os.makedirs(output_folder, exist_ok=True)\n",
    "\n",
    "    # Class colors\n",
    "    class_colors = {\n",
    "        'banyo': (255, 0, 0),\n",
    "        'room': (0, 255, 0),\n",
    "        'eyvan': (0, 0, 255),\n",
    "    }\n",
    "\n",
    "    ## EXTRACT IMAGES\n",
    "\n",
    "    # Process all JSON files\n",
    "    for filename in os.listdir(folder_path):\n",
    "        if filename.endswith('.json'):\n",
    "            file_path = os.path.join(folder_path, filename)\n",
    "\n",
    "            with open(file_path, 'r') as f:\n",
    "                json_file = json.load(f)\n",
    "\n",
    "            # Extract and decode image data\n",
    "            img_bytes = base64.b64decode(json_file['imageData'])\n",
    "            img_io = BytesIO(img_bytes)\n",
    "            img = Image.open(img_io).convert('RGB')\n",
    "\n",
    "            # Save the image to a file\n",
    "            image_filename = os.path.splitext(filename)[0] + '_plan.jpg'\n",
    "            output_filepath = os.path.join(output_folder, image_filename)\n",
    "            img.save(output_filepath)\n",
    "\n",
    "            #print(f\"Image saved to: {output_filepath}\")\n",
    "\n",
    "    ## EXTRACT MASKS\n",
    "\n",
    "            # Convert PIL Image to NumPy Array\n",
    "            img_np = np.array(img)\n",
    "\n",
    "            # Draw bounding boxes and segmentations\n",
    "            for shape in json_file['shapes']:\n",
    "                if shape['shape_type'] == 'rectangle':\n",
    "                    points = shape['points']\n",
    "                    x0, y0, x1, y1 = points[0][0], points[0][1], points[1][0], points[1][1]\n",
    "\n",
    "                    if shape['label'] in class_colors:  # Check for missing labels\n",
    "                        cv2.rectangle(\n",
    "                            img_np,\n",
    "                            (int(x0), int(y0)),\n",
    "                            (int(x1), int(y1)),\n",
    "                            color=class_colors[shape['label']],\n",
    "                            thickness=5\n",
    "                        )\n",
    "                    else:\n",
    "                        print(f'Invalid or missing key in class_colors dictionary: {shape[\"label\"]}')\n",
    "\n",
    "                elif shape['shape_type'] == 'polygon':\n",
    "                    points = np.array(shape['points'], dtype=np.int32)\n",
    "\n",
    "                    for label_key in ['label', 'points', 'group_id', 'description', 'shape_type', 'flags']:\n",
    "                        label = shape.get(label_key)\n",
    "                        if label is not None and label in class_colors:\n",
    "                            cv2.polylines(\n",
    "                                img_np,\n",
    "                                [points],\n",
    "                                isClosed=True,\n",
    "                                color=class_colors[label],\n",
    "                                thickness=5\n",
    "                            )\n",
    "\n",
    "                            cv2.fillPoly(\n",
    "                                img_np,\n",
    "                                [points],\n",
    "                                color=class_colors[label],\n",
    "                            )\n",
    "                            break\n",
    "                    else:\n",
    "                        print(f'Invalid or missing key in class_colors dictionary: {shape.keys()}')\n",
    "\n",
    "                else:\n",
    "                    print(f'Unsupported shape type: {shape[\"shape_type\"]}')\n",
    "\n",
    "            # Conver array to image\n",
    "            mask_img = Image.fromarray(img_np)\n",
    "\n",
    "            # Save the mask to a file\n",
    "            mask_filename = os.path.splitext(filename)[0] + '_mask.jpg'\n",
    "            mask_filepath = os.path.join(output_folder, mask_filename)\n",
    "            mask_img.save(mask_filepath)\n",
    "\n",
    "            #print(f\"Mask saved to: {mask_filepath}\")\n",
    "\n",
    "            # Display the image with bounding boxes\n",
    "            #plt.imshow(img_np)\n",
    "            #plt.show()  # Make sure to display the image\n"
   ]
  },
  {
   "cell_type": "code",
   "execution_count": 3,
   "id": "c452e6a0-0bba-4092-9805-4ad1f2538b1b",
   "metadata": {
    "tags": []
   },
   "outputs": [
    {
     "name": "stdout",
     "output_type": "stream",
     "text": [
      "Unsupported shape type: mask\n",
      "Unsupported shape type: mask\n",
      "Unsupported shape type: mask\n"
     ]
    }
   ],
   "source": [
    "JSONtoJPG(folder_name='labelform')"
   ]
  },
  {
   "cell_type": "markdown",
   "id": "839fad5d-2409-42cb-82a9-d59edd50f49d",
   "metadata": {},
   "source": [
    "# Split the data folder (%80 Train/ %20 Test)"
   ]
  },
  {
   "cell_type": "code",
   "execution_count": 4,
   "id": "c62f7835-8635-4e50-b020-2867403a0552",
   "metadata": {},
   "outputs": [],
   "source": [
    "import os\n",
    "import shutil\n",
    "from sklearn.model_selection import train_test_split"
   ]
  },
  {
   "cell_type": "code",
   "execution_count": 5,
   "id": "06f15fe9-7949-4697-aa80-b875a6db02b0",
   "metadata": {
    "tags": []
   },
   "outputs": [],
   "source": [
    "# Input folder contains all data\n",
    "input_folder = \"Data\"\n",
    "\n",
    "# Train and Test folders\n",
    "output_folder_train = \"images/train\"\n",
    "output_folder_test = \"images/test\"\n",
    "\n",
    "# Create the output folders if it doesn't exist\n",
    "os.makedirs(output_folder_train, exist_ok=True)\n",
    "os.makedirs(output_folder_test, exist_ok=True)\n",
    "\n",
    "# Read dataset and match image-masks\n",
    "data_pairs = []\n",
    "for filename in os.listdir(input_folder):\n",
    "    if filename.endswith(\"_plan.jpg\"):  # find image files\n",
    "        image_path = os.path.join(input_folder, filename)\n",
    "        mask_filename = filename.replace(\"_plan.jpg\", \"_mask.jpg\")\n",
    "        mask_path = os.path.join(input_folder, mask_filename)\n",
    "\n",
    "        if os.path.exists(mask_path):\n",
    "            data_pairs.append((image_path, mask_path))\n",
    "\n",
    "# Separate the data set into train and test\n",
    "train_data, test_data = train_test_split(data_pairs, test_size=0.2, random_state=42)\n",
    "\n",
    "# Copy train data\n",
    "for image_path, mask_path in train_data:\n",
    "    shutil.copy(image_path, os.path.join(output_folder_train, os.path.basename(image_path)))\n",
    "    shutil.copy(mask_path, os.path.join(output_folder_train, os.path.basename(mask_path)))\n",
    "\n",
    "# Copy test data\n",
    "for image_path, mask_path in test_data:\n",
    "    shutil.copy(image_path, os.path.join(output_folder_test, os.path.basename(image_path)))\n",
    "    shutil.copy(mask_path, os.path.join(output_folder_test, os.path.basename(mask_path)))\n",
    "    "
   ]
  }
 ],
 "metadata": {
  "kernelspec": {
   "display_name": "Python 3 (ipykernel)",
   "language": "python",
   "name": "python3"
  },
  "language_info": {
   "codemirror_mode": {
    "name": "ipython",
    "version": 3
   },
   "file_extension": ".py",
   "mimetype": "text/x-python",
   "name": "python",
   "nbconvert_exporter": "python",
   "pygments_lexer": "ipython3",
   "version": "3.9.18"
  }
 },
 "nbformat": 4,
 "nbformat_minor": 5
}
