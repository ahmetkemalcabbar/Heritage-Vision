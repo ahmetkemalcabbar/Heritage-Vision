{
 "cells": [
  {
   "cell_type": "code",
   "execution_count": 1,
   "id": "2843b2e4-740c-4b35-b9d1-99baf443d777",
   "metadata": {
    "tags": []
   },
   "outputs": [],
   "source": [
    "import torch\n",
    "from torch.utils.data import Dataset\n",
    "from PIL import Image\n",
    "import os\n",
    "import numpy as np\n",
    "import matplotlib.pyplot as plt"
   ]
  },
  {
   "cell_type": "code",
   "execution_count": 2,
   "id": "ee39b883-d022-47f3-94bb-4bb7a5116bee",
   "metadata": {},
   "outputs": [],
   "source": [
    "class seg_datasets(Dataset):\n",
    "    def __init__(self, directory, transform = None):\n",
    "        self.directory = directory\n",
    "        self.transform = transform\n",
    "        \n",
    "        self.img_files = [img_file for img_file in os.listdir(directory) if (img_file.endswith('Plan.jpg'))]\n",
    "\n",
    "        \n",
    "    def __len__(self):\n",
    "        return len(self.img_files)\n",
    "    \n",
    "    def __getitem__(self, index):\n",
    "        \n",
    "        selected_img_file = self.img_files[index]\n",
    "        selected_mask_file = selected_img_file.replace(\"Plan.jpg\", \"Seg.jpg\")\n",
    "        \n",
    "        \n",
    "        #print(selected_img_file)\n",
    "        #print(selected_mask_file)\n",
    "        \n",
    "        \n",
    "        #convert the plan and mask from their path to PIL image. \n",
    "        plan = Image.open(os.path.join(self.directory, selected_img_file)) #RGB mode\n",
    "        plan_ori = Image.open(os.path.join(self.directory, selected_img_file)).convert('1')\n",
    "        mask = Image.open(os.path.join(self.directory, selected_mask_file)).convert('L')\n",
    "        \n",
    "        \"\"\"\n",
    "        print(f'\\nimage: {plan}')\n",
    "        plt.imshow(plan)\n",
    "        plt.show()\n",
    "        print(f'\\nplan format: {plan.format}')\n",
    "        print(f'\\nplan size: {plan.size}')\n",
    "        print(f'\\nplan mode: {plan.mode}')\n",
    "        \n",
    "        print(f'\\n\\n\\nmask: {mask}')\n",
    "        print(f'\\nmask format: {mask.format}')\n",
    "        print(f'\\nmask size: {mask.size}')\n",
    "        print(f'\\nmask mode: {mask.mode}')\n",
    "        plt.imshow(mask)\n",
    "        plt.show()\n",
    "        \"\"\"\n",
    "        \n",
    "        plan = np.array(plan).astype(np.float32)\n",
    "        plan_ori = np.array(plan_ori).astype(np.float32)\n",
    "        mask = np.array(mask).astype(np.float32)\n",
    " \n",
    "        \"\"\"\n",
    "        print(f'\\nplan: {plan}')\n",
    "        print(f'\\nplan.shape: {plan.shape}')\n",
    "        print(f'\\nplan.ndim: {plan.ndim}')\n",
    "        print(f'\\nplan.size: {plan.size}')\n",
    "        \n",
    "        print(f'\\n\\nmask: {mask}')\n",
    "        print(f'\\nmask.shape: {mask.shape}')\n",
    "        print(f'\\nmask.ndim: {mask.ndim}')\n",
    "        print(f'\\nmask.size: {mask.size}')\n",
    "        \"\"\"\n",
    "\n",
    "        # Add dummy channel dimension\n",
    "        mask = mask[..., np.newaxis]\n",
    "        plan_ori = plan_ori[..., np.newaxis]\n",
    "        \n",
    "        mask_original = mask.copy()\n",
    "        mask = np.zeros_like(mask).astype(np.float32)\n",
    "         \n",
    "        \n",
    "        # SELECT MASKS ##\n",
    "        ################\n",
    "        # [  0.  29. 76. 150. 255.]\n",
    "        mask[(mask_original <= 25.0)] = 0.0\n",
    "        mask[(mask_original >= 26.0) & (mask_original <= 120.0)] = 1.0\n",
    "        mask[(mask_original >= 121.0) & (mask_original <= 230.0)] = 2.0\n",
    "        #mask[(mask_original >= 201.0) & (mask_original <= 230.0)] = 3.0\n",
    "        mask[(mask_original >= 231.0)] = 3.0\n",
    "\n",
    "        \"\"\"\n",
    "        plt.imshow(mask)\n",
    "        plt.show()\n",
    "        \"\"\"\n",
    "        \n",
    "        # Apply image transformation (if any)\n",
    "        if self.transform is not None:\n",
    "            \n",
    "            transformed = self.transform(plan=plan, mask=mask)\n",
    "            plan = transformed['plan']\n",
    "            mask = transformed['mask']\n",
    "        \n",
    "        # convert to tensor\n",
    "        # (Width, Height, Channel) -> (Channel, Width, Height)\n",
    "        plan = torch.from_numpy(plan.copy().transpose((2,0,1))) \n",
    "        mask = torch.from_numpy(mask.copy().transpose((2,0,1)))\n",
    "        \n",
    "        return plan, mask, selected_mask_file\n",
    "        "
   ]
  },
  {
   "cell_type": "code",
   "execution_count": 3,
   "id": "d92e6385-f5a1-4ad3-bbd2-a14326d0c3b6",
   "metadata": {
    "tags": []
   },
   "outputs": [],
   "source": [
    "full_dataset = seg_datasets('../Data/digital')\n",
    "plan, mask, _ = full_dataset[95]"
   ]
  },
  {
   "cell_type": "code",
   "execution_count": 4,
   "id": "6211e9bb-4657-4ceb-96a8-d2efbe173ee4",
   "metadata": {
    "tags": []
   },
   "outputs": [
    {
     "data": {
      "text/plain": [
       "tensor([0., 1., 2., 3.])"
      ]
     },
     "execution_count": 4,
     "metadata": {},
     "output_type": "execute_result"
    }
   ],
   "source": [
    "sample = full_dataset[91]\n",
    "torch.unique(sample[1])"
   ]
  },
  {
   "cell_type": "markdown",
   "id": "dbf78e0a-531a-4b33-9c5f-b899ae8dbf4e",
   "metadata": {},
   "source": [
    "# Saving RGB Masks by Color Mapping"
   ]
  },
  {
   "cell_type": "code",
   "execution_count": 5,
   "id": "41edbd41-d8fe-415a-9f5c-5c1fad26bdf5",
   "metadata": {},
   "outputs": [
    {
     "data": {
      "text/plain": [
       "131"
      ]
     },
     "execution_count": 5,
     "metadata": {},
     "output_type": "execute_result"
    }
   ],
   "source": [
    "color_mapping = {\n",
    "    0: (0, 0, 0),         # Walls\n",
    "    1: (255, 80, 80),     # Iwan\n",
    "    2: (80, 80, 255),     # Room\n",
    "    3: (255, 255, 255),   # Background\n",
    "}\n",
    "\n",
    "len(full_dataset)"
   ]
  },
  {
   "cell_type": "code",
   "execution_count": 6,
   "id": "a96469a3-f77f-419e-b9c1-0bdd9775524a",
   "metadata": {
    "tags": []
   },
   "outputs": [],
   "source": [
    "colored_mask_folder = \"../RGB_Masks\"\n",
    "\n",
    "# Create the output folder if it doesn't exist\n",
    "os.makedirs(colored_mask_folder, exist_ok=True)\n",
    "\n",
    "for i in range(0, len(full_dataset)):\n",
    "    plan, mask, selected_mask_file = full_dataset[i]\n",
    "    mask = mask.numpy()[0]\n",
    "    \n",
    "    #print(mask.shape)\n",
    "    \n",
    "    height, width = mask.shape\n",
    "    colored_mask = np.zeros((height, width, 3), dtype=np.uint8)\n",
    "    \n",
    "    for label, color in color_mapping.items():\n",
    "        colored_mask[mask == label] = color\n",
    "\n",
    "    colored_mask = Image.fromarray(colored_mask)\n",
    "    \n",
    "    mask_filename = selected_mask_file\n",
    "    mask_filepath = os.path.join(colored_mask_folder, mask_filename)\n",
    "    \n",
    "    colored_mask.save(mask_filepath)"
   ]
  }
 ],
 "metadata": {
  "kernelspec": {
   "display_name": "Python 3 (ipykernel)",
   "language": "python",
   "name": "python3"
  },
  "language_info": {
   "codemirror_mode": {
    "name": "ipython",
    "version": 3
   },
   "file_extension": ".py",
   "mimetype": "text/x-python",
   "name": "python",
   "nbconvert_exporter": "python",
   "pygments_lexer": "ipython3",
   "version": "3.9.18"
  }
 },
 "nbformat": 4,
 "nbformat_minor": 5
}
