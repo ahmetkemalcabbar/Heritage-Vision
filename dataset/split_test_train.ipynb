{
 "cells": [
  {
   "cell_type": "code",
   "execution_count": 1,
   "id": "cca13cdf-5142-4d14-bedf-61a15642c758",
   "metadata": {
    "tags": []
   },
   "outputs": [],
   "source": [
    "import os\n",
    "import shutil\n",
    "from sklearn.model_selection import train_test_split\n",
    "\n",
    "# Input folder contains all data\n",
    "input_folder = \"../Data/digital\"\n",
    "\n",
    "# Train and Test folders\n",
    "output_folder_train = \"../images/train\"\n",
    "output_folder_test = \"../images/test\"\n",
    "\n",
    "# Create the output folders if it doesn't exist\n",
    "os.makedirs(output_folder_train, exist_ok=True)\n",
    "os.makedirs(output_folder_test, exist_ok=True)\n",
    "\n",
    "# Read dataset and match image-masks\n",
    "data_pairs = []\n",
    "for filename in os.listdir(input_folder):\n",
    "    if filename.endswith(\"_Plan.jpg\"):  # find image files\n",
    "        image_path = os.path.join(input_folder, filename)\n",
    "        mask_filename = filename.replace(\"_Plan.jpg\", \"_Seg.jpg\")\n",
    "        mask_path = os.path.join(input_folder, mask_filename)\n",
    "\n",
    "        if os.path.exists(mask_path):\n",
    "            data_pairs.append((image_path, mask_path))\n",
    "\n",
    "# Separate the data set into train and test\n",
    "train_data, test_data = train_test_split(data_pairs, test_size=0.2, random_state=42)\n",
    "\n",
    "# Copy train data\n",
    "for image_path, mask_path in train_data:\n",
    "    shutil.copy(image_path, os.path.join(output_folder_train, os.path.basename(image_path)))\n",
    "    shutil.copy(mask_path, os.path.join(output_folder_train, os.path.basename(mask_path)))\n",
    "\n",
    "# Copy test data\n",
    "for image_path, mask_path in test_data:\n",
    "    shutil.copy(image_path, os.path.join(output_folder_test, os.path.basename(image_path)))\n",
    "    shutil.copy(mask_path, os.path.join(output_folder_test, os.path.basename(mask_path)))"
   ]
  },
  {
   "cell_type": "code",
   "execution_count": null,
   "id": "cddf26b9-67a6-4996-89cf-c4400d93a773",
   "metadata": {},
   "outputs": [],
   "source": []
  }
 ],
 "metadata": {
  "kernelspec": {
   "display_name": "Python 3 (ipykernel)",
   "language": "python",
   "name": "python3"
  },
  "language_info": {
   "codemirror_mode": {
    "name": "ipython",
    "version": 3
   },
   "file_extension": ".py",
   "mimetype": "text/x-python",
   "name": "python",
   "nbconvert_exporter": "python",
   "pygments_lexer": "ipython3",
   "version": "3.9.18"
  }
 },
 "nbformat": 4,
 "nbformat_minor": 5
}
